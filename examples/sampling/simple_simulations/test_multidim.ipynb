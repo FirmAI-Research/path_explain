{
 "cells": [
  {
   "cell_type": "code",
   "execution_count": 1,
   "metadata": {},
   "outputs": [],
   "source": [
    "%load_ext autoreload\n",
    "%autoreload 2"
   ]
  },
  {
   "cell_type": "code",
   "execution_count": 2,
   "metadata": {},
   "outputs": [],
   "source": [
    "import os\n",
    "os.environ['CUDA_VISIBLE_DEVICES'] = '0'"
   ]
  },
  {
   "cell_type": "code",
   "execution_count": 3,
   "metadata": {},
   "outputs": [],
   "source": [
    "import tensorflow as tf\n",
    "import numpy as np\n",
    "import pandas as pd\n",
    "import altair as alt\n",
    "import shap\n",
    "\n",
    "from marginal import MarginalExplainer\n",
    "import plot\n",
    "import matplotlib.pyplot as plt\n",
    "import utils"
   ]
  },
  {
   "cell_type": "code",
   "execution_count": 4,
   "metadata": {},
   "outputs": [],
   "source": [
    "n = 50000\n",
    "lamb = 0.5\n",
    "d = (8, 8, 3)\n",
    "epochs = 50\n",
    "hidden_layers = 64\n",
    "batch_size = 50\n",
    "learning_rate = 0.001"
   ]
  },
  {
   "cell_type": "code",
   "execution_count": 5,
   "metadata": {},
   "outputs": [],
   "source": [
    "X = np.random.randn(n, *d).astype(np.float32)\n",
    "y = (np.sum(X[:, 1, :, 1], axis=-1) > 0).astype(np.float32) + \\\n",
    "    (np.sum(X[:, 1, :, 1], axis=-1) > 1).astype(np.float32) + \\\n",
    "    np.sum(X[:, 0, :, 0], axis=-1) * lamb\n",
    "\n",
    "y = y.astype(np.float32)\n",
    "\n",
    "X_train = X[:int(n * 0.8)]\n",
    "y_train = y[:int(n * 0.8)]\n",
    "X_val   = X[int(n * 0.8):]\n",
    "y_val   = y[int(n * 0.8):]"
   ]
  },
  {
   "cell_type": "code",
   "execution_count": 6,
   "metadata": {},
   "outputs": [],
   "source": [
    "model = tf.keras.Sequential()\n",
    "model.add(tf.keras.Input(shape=d, batch_size=batch_size))\n",
    "model.add(tf.keras.layers.Flatten())\n",
    "model.add(tf.keras.layers.Dense(hidden_layers, activation=tf.keras.activations.relu, use_bias=True))\n",
    "model.add(tf.keras.layers.Dense(hidden_layers, activation=tf.keras.activations.relu, use_bias=True))\n",
    "model.add(tf.keras.layers.Dense(hidden_layers, activation=tf.keras.activations.relu, use_bias=True))\n",
    "model.add(tf.keras.layers.Dense(1, activation=None, use_bias=False))"
   ]
  },
  {
   "cell_type": "code",
   "execution_count": 7,
   "metadata": {},
   "outputs": [],
   "source": [
    "optimizer = tf.keras.optimizers.SGD(learning_rate=learning_rate)\n",
    "model.compile(optimizer=optimizer,\n",
    "              loss=tf.keras.losses.MSE,\n",
    "              metrics=[tf.keras.metrics.MeanAbsoluteError()])"
   ]
  },
  {
   "cell_type": "code",
   "execution_count": 8,
   "metadata": {},
   "outputs": [
    {
     "name": "stdout",
     "output_type": "stream",
     "text": [
      "Train on 40000 samples, validate on 10000 samples\n",
      "Epoch 1/50\n",
      "40000/40000 - 2s - loss: 2.5415 - mean_absolute_error: 1.2839 - val_loss: 2.0170 - val_mean_absolute_error: 1.1424\n",
      "Epoch 2/50\n",
      "40000/40000 - 2s - loss: 1.3474 - mean_absolute_error: 0.9260 - val_loss: 0.8835 - val_mean_absolute_error: 0.7513\n",
      "Epoch 3/50\n",
      "40000/40000 - 2s - loss: 0.7237 - mean_absolute_error: 0.6825 - val_loss: 0.6357 - val_mean_absolute_error: 0.6395\n",
      "Epoch 4/50\n",
      "40000/40000 - 2s - loss: 0.5790 - mean_absolute_error: 0.6117 - val_loss: 0.5513 - val_mean_absolute_error: 0.5967\n",
      "Epoch 5/50\n",
      "40000/40000 - 2s - loss: 0.5146 - mean_absolute_error: 0.5774 - val_loss: 0.5050 - val_mean_absolute_error: 0.5719\n",
      "Epoch 6/50\n",
      "40000/40000 - 2s - loss: 0.4736 - mean_absolute_error: 0.5546 - val_loss: 0.4721 - val_mean_absolute_error: 0.5540\n",
      "Epoch 7/50\n",
      "40000/40000 - 2s - loss: 0.4437 - mean_absolute_error: 0.5378 - val_loss: 0.4482 - val_mean_absolute_error: 0.5401\n",
      "Epoch 8/50\n",
      "40000/40000 - 2s - loss: 0.4206 - mean_absolute_error: 0.5242 - val_loss: 0.4293 - val_mean_absolute_error: 0.5291\n",
      "Epoch 9/50\n",
      "40000/40000 - 2s - loss: 0.4022 - mean_absolute_error: 0.5132 - val_loss: 0.4145 - val_mean_absolute_error: 0.5204\n",
      "Epoch 10/50\n",
      "40000/40000 - 2s - loss: 0.3867 - mean_absolute_error: 0.5037 - val_loss: 0.4009 - val_mean_absolute_error: 0.5123\n",
      "Epoch 11/50\n",
      "40000/40000 - 2s - loss: 0.3737 - mean_absolute_error: 0.4957 - val_loss: 0.3898 - val_mean_absolute_error: 0.5051\n",
      "Epoch 12/50\n",
      "40000/40000 - 2s - loss: 0.3628 - mean_absolute_error: 0.4886 - val_loss: 0.3802 - val_mean_absolute_error: 0.4992\n",
      "Epoch 13/50\n",
      "40000/40000 - 2s - loss: 0.3529 - mean_absolute_error: 0.4821 - val_loss: 0.3744 - val_mean_absolute_error: 0.4951\n",
      "Epoch 14/50\n",
      "40000/40000 - 2s - loss: 0.3444 - mean_absolute_error: 0.4767 - val_loss: 0.3650 - val_mean_absolute_error: 0.4893\n",
      "Epoch 15/50\n",
      "40000/40000 - 2s - loss: 0.3370 - mean_absolute_error: 0.4720 - val_loss: 0.3577 - val_mean_absolute_error: 0.4853\n",
      "Epoch 16/50\n",
      "40000/40000 - 2s - loss: 0.3302 - mean_absolute_error: 0.4673 - val_loss: 0.3523 - val_mean_absolute_error: 0.4813\n",
      "Epoch 17/50\n",
      "40000/40000 - 2s - loss: 0.3241 - mean_absolute_error: 0.4633 - val_loss: 0.3464 - val_mean_absolute_error: 0.4775\n",
      "Epoch 18/50\n",
      "40000/40000 - 2s - loss: 0.3185 - mean_absolute_error: 0.4595 - val_loss: 0.3432 - val_mean_absolute_error: 0.4751\n",
      "Epoch 19/50\n",
      "40000/40000 - 2s - loss: 0.3135 - mean_absolute_error: 0.4559 - val_loss: 0.3376 - val_mean_absolute_error: 0.4716\n",
      "Epoch 20/50\n",
      "40000/40000 - 2s - loss: 0.3086 - mean_absolute_error: 0.4527 - val_loss: 0.3336 - val_mean_absolute_error: 0.4692\n",
      "Epoch 21/50\n",
      "40000/40000 - 2s - loss: 0.3042 - mean_absolute_error: 0.4496 - val_loss: 0.3298 - val_mean_absolute_error: 0.4662\n",
      "Epoch 22/50\n",
      "40000/40000 - 2s - loss: 0.3004 - mean_absolute_error: 0.4469 - val_loss: 0.3272 - val_mean_absolute_error: 0.4645\n",
      "Epoch 23/50\n",
      "40000/40000 - 2s - loss: 0.2966 - mean_absolute_error: 0.4441 - val_loss: 0.3231 - val_mean_absolute_error: 0.4619\n",
      "Epoch 24/50\n",
      "40000/40000 - 2s - loss: 0.2931 - mean_absolute_error: 0.4416 - val_loss: 0.3200 - val_mean_absolute_error: 0.4598\n",
      "Epoch 25/50\n",
      "40000/40000 - 2s - loss: 0.2899 - mean_absolute_error: 0.4394 - val_loss: 0.3177 - val_mean_absolute_error: 0.4578\n",
      "Epoch 26/50\n",
      "40000/40000 - 2s - loss: 0.2869 - mean_absolute_error: 0.4371 - val_loss: 0.3163 - val_mean_absolute_error: 0.4569\n",
      "Epoch 27/50\n",
      "40000/40000 - 2s - loss: 0.2841 - mean_absolute_error: 0.4351 - val_loss: 0.3123 - val_mean_absolute_error: 0.4544\n",
      "Epoch 28/50\n",
      "40000/40000 - 2s - loss: 0.2814 - mean_absolute_error: 0.4330 - val_loss: 0.3111 - val_mean_absolute_error: 0.4534\n",
      "Epoch 29/50\n",
      "40000/40000 - 2s - loss: 0.2788 - mean_absolute_error: 0.4312 - val_loss: 0.3080 - val_mean_absolute_error: 0.4513\n",
      "Epoch 30/50\n",
      "40000/40000 - 2s - loss: 0.2766 - mean_absolute_error: 0.4295 - val_loss: 0.3063 - val_mean_absolute_error: 0.4499\n",
      "Epoch 31/50\n",
      "40000/40000 - 2s - loss: 0.2742 - mean_absolute_error: 0.4276 - val_loss: 0.3044 - val_mean_absolute_error: 0.4490\n",
      "Epoch 32/50\n",
      "40000/40000 - 2s - loss: 0.2720 - mean_absolute_error: 0.4260 - val_loss: 0.3029 - val_mean_absolute_error: 0.4478\n",
      "Epoch 33/50\n",
      "40000/40000 - 2s - loss: 0.2700 - mean_absolute_error: 0.4245 - val_loss: 0.3008 - val_mean_absolute_error: 0.4466\n",
      "Epoch 34/50\n",
      "40000/40000 - 2s - loss: 0.2680 - mean_absolute_error: 0.4229 - val_loss: 0.2990 - val_mean_absolute_error: 0.4451\n",
      "Epoch 35/50\n",
      "40000/40000 - 2s - loss: 0.2663 - mean_absolute_error: 0.4216 - val_loss: 0.2982 - val_mean_absolute_error: 0.4444\n",
      "Epoch 36/50\n",
      "40000/40000 - 2s - loss: 0.2645 - mean_absolute_error: 0.4202 - val_loss: 0.2961 - val_mean_absolute_error: 0.4431\n",
      "Epoch 37/50\n",
      "40000/40000 - 2s - loss: 0.2627 - mean_absolute_error: 0.4188 - val_loss: 0.2953 - val_mean_absolute_error: 0.4422\n",
      "Epoch 38/50\n",
      "40000/40000 - 2s - loss: 0.2611 - mean_absolute_error: 0.4176 - val_loss: 0.2953 - val_mean_absolute_error: 0.4424\n",
      "Epoch 39/50\n",
      "40000/40000 - 2s - loss: 0.2594 - mean_absolute_error: 0.4164 - val_loss: 0.2929 - val_mean_absolute_error: 0.4401\n",
      "Epoch 40/50\n",
      "40000/40000 - 2s - loss: 0.2581 - mean_absolute_error: 0.4152 - val_loss: 0.2910 - val_mean_absolute_error: 0.4394\n",
      "Epoch 41/50\n",
      "40000/40000 - 2s - loss: 0.2566 - mean_absolute_error: 0.4140 - val_loss: 0.2900 - val_mean_absolute_error: 0.4387\n",
      "Epoch 42/50\n",
      "40000/40000 - 2s - loss: 0.2552 - mean_absolute_error: 0.4129 - val_loss: 0.2887 - val_mean_absolute_error: 0.4377\n",
      "Epoch 43/50\n",
      "40000/40000 - 2s - loss: 0.2538 - mean_absolute_error: 0.4119 - val_loss: 0.2880 - val_mean_absolute_error: 0.4370\n",
      "Epoch 44/50\n",
      "40000/40000 - 2s - loss: 0.2525 - mean_absolute_error: 0.4107 - val_loss: 0.2866 - val_mean_absolute_error: 0.4365\n",
      "Epoch 45/50\n",
      "40000/40000 - 2s - loss: 0.2513 - mean_absolute_error: 0.4098 - val_loss: 0.2856 - val_mean_absolute_error: 0.4355\n",
      "Epoch 46/50\n",
      "40000/40000 - 2s - loss: 0.2500 - mean_absolute_error: 0.4087 - val_loss: 0.2848 - val_mean_absolute_error: 0.4348\n",
      "Epoch 47/50\n",
      "40000/40000 - 2s - loss: 0.2488 - mean_absolute_error: 0.4077 - val_loss: 0.2847 - val_mean_absolute_error: 0.4345\n",
      "Epoch 48/50\n",
      "40000/40000 - 2s - loss: 0.2475 - mean_absolute_error: 0.4067 - val_loss: 0.2828 - val_mean_absolute_error: 0.4336\n",
      "Epoch 49/50\n",
      "40000/40000 - 2s - loss: 0.2466 - mean_absolute_error: 0.4059 - val_loss: 0.2818 - val_mean_absolute_error: 0.4330\n",
      "Epoch 50/50\n",
      "40000/40000 - 2s - loss: 0.2453 - mean_absolute_error: 0.4049 - val_loss: 0.2812 - val_mean_absolute_error: 0.4322\n"
     ]
    },
    {
     "data": {
      "text/plain": [
       "<tensorflow.python.keras.callbacks.History at 0x7fab20604828>"
      ]
     },
     "execution_count": 8,
     "metadata": {},
     "output_type": "execute_result"
    }
   ],
   "source": [
    "model.fit(X_train, y_train, epochs=epochs, verbose=2, batch_size=batch_size, validation_data=(X_val, y_val))"
   ]
  },
  {
   "cell_type": "code",
   "execution_count": 9,
   "metadata": {},
   "outputs": [],
   "source": [
    "num_shap_samples=10"
   ]
  },
  {
   "cell_type": "code",
   "execution_count": 27,
   "metadata": {},
   "outputs": [
    {
     "name": "stderr",
     "output_type": "stream",
     "text": [
      "\n",
      "  0%|          | 0/10 [00:00<?, ?it/s]\u001b[A\n",
      " 10%|█         | 1/10 [00:00<00:05,  1.61it/s]\u001b[A\n",
      " 20%|██        | 2/10 [00:01<00:04,  1.62it/s]\u001b[A\n",
      " 30%|███       | 3/10 [00:01<00:04,  1.63it/s]\u001b[A\n",
      " 40%|████      | 4/10 [00:02<00:03,  1.65it/s]\u001b[A\n",
      " 50%|█████     | 5/10 [00:03<00:03,  1.66it/s]\u001b[A\n",
      " 60%|██████    | 6/10 [00:03<00:02,  1.66it/s]\u001b[A\n",
      " 70%|███████   | 7/10 [00:04<00:01,  1.67it/s]\u001b[A\n",
      " 80%|████████  | 8/10 [00:04<00:01,  1.67it/s]\u001b[A\n",
      " 90%|█████████ | 9/10 [00:05<00:00,  1.67it/s]\u001b[A\n",
      "100%|██████████| 10/10 [00:06<00:00,  1.67it/s]\u001b[A"
     ]
    }
   ],
   "source": [
    "primal_explainer = MarginalExplainer(model, np.zeros((1, 8, 8, 3)).astype(np.float32), nsamples=200, representation='mobius')\n",
    "primal_effects = primal_explainer.explain(X[:num_shap_samples], verbose=True)"
   ]
  },
  {
   "cell_type": "code",
   "execution_count": 26,
   "metadata": {},
   "outputs": [
    {
     "name": "stderr",
     "output_type": "stream",
     "text": [
      "\n",
      "  0%|          | 0/10 [00:00<?, ?it/s]\u001b[A/home/psturm/.local/lib/python3.6/site-packages/shap/explainers/kernel.py:535: UserWarning: l1_reg=\"auto\" is deprecated and in the next version (v0.29) the behavior will change from a conditional use of AIC to simply \"num_features(10)\"!\n",
      "  \"l1_reg=\\\"auto\\\" is deprecated and in the next version (v0.29) the behavior will change from a \" \\\n",
      "\n",
      " 10%|█         | 1/10 [00:00<00:02,  3.46it/s]\u001b[A/home/psturm/.local/lib/python3.6/site-packages/shap/explainers/kernel.py:535: UserWarning: l1_reg=\"auto\" is deprecated and in the next version (v0.29) the behavior will change from a conditional use of AIC to simply \"num_features(10)\"!\n",
      "  \"l1_reg=\\\"auto\\\" is deprecated and in the next version (v0.29) the behavior will change from a \" \\\n",
      "\n",
      " 20%|██        | 2/10 [00:00<00:02,  3.46it/s]\u001b[A/home/psturm/.local/lib/python3.6/site-packages/shap/explainers/kernel.py:535: UserWarning: l1_reg=\"auto\" is deprecated and in the next version (v0.29) the behavior will change from a conditional use of AIC to simply \"num_features(10)\"!\n",
      "  \"l1_reg=\\\"auto\\\" is deprecated and in the next version (v0.29) the behavior will change from a \" \\\n",
      "\n",
      " 30%|███       | 3/10 [00:00<00:02,  3.46it/s]\u001b[A/home/psturm/.local/lib/python3.6/site-packages/shap/explainers/kernel.py:535: UserWarning: l1_reg=\"auto\" is deprecated and in the next version (v0.29) the behavior will change from a conditional use of AIC to simply \"num_features(10)\"!\n",
      "  \"l1_reg=\\\"auto\\\" is deprecated and in the next version (v0.29) the behavior will change from a \" \\\n",
      "\n",
      " 40%|████      | 4/10 [00:01<00:01,  3.44it/s]\u001b[A/home/psturm/.local/lib/python3.6/site-packages/shap/explainers/kernel.py:535: UserWarning: l1_reg=\"auto\" is deprecated and in the next version (v0.29) the behavior will change from a conditional use of AIC to simply \"num_features(10)\"!\n",
      "  \"l1_reg=\\\"auto\\\" is deprecated and in the next version (v0.29) the behavior will change from a \" \\\n",
      "\n",
      " 50%|█████     | 5/10 [00:01<00:01,  3.42it/s]\u001b[A/home/psturm/.local/lib/python3.6/site-packages/shap/explainers/kernel.py:535: UserWarning: l1_reg=\"auto\" is deprecated and in the next version (v0.29) the behavior will change from a conditional use of AIC to simply \"num_features(10)\"!\n",
      "  \"l1_reg=\\\"auto\\\" is deprecated and in the next version (v0.29) the behavior will change from a \" \\\n",
      "\n",
      " 60%|██████    | 6/10 [00:01<00:01,  3.41it/s]\u001b[A/home/psturm/.local/lib/python3.6/site-packages/shap/explainers/kernel.py:535: UserWarning: l1_reg=\"auto\" is deprecated and in the next version (v0.29) the behavior will change from a conditional use of AIC to simply \"num_features(10)\"!\n",
      "  \"l1_reg=\\\"auto\\\" is deprecated and in the next version (v0.29) the behavior will change from a \" \\\n",
      "\n",
      " 70%|███████   | 7/10 [00:02<00:00,  3.41it/s]\u001b[A/home/psturm/.local/lib/python3.6/site-packages/shap/explainers/kernel.py:535: UserWarning: l1_reg=\"auto\" is deprecated and in the next version (v0.29) the behavior will change from a conditional use of AIC to simply \"num_features(10)\"!\n",
      "  \"l1_reg=\\\"auto\\\" is deprecated and in the next version (v0.29) the behavior will change from a \" \\\n",
      "\n",
      " 80%|████████  | 8/10 [00:02<00:00,  3.43it/s]\u001b[A/home/psturm/.local/lib/python3.6/site-packages/shap/explainers/kernel.py:535: UserWarning: l1_reg=\"auto\" is deprecated and in the next version (v0.29) the behavior will change from a conditional use of AIC to simply \"num_features(10)\"!\n",
      "  \"l1_reg=\\\"auto\\\" is deprecated and in the next version (v0.29) the behavior will change from a \" \\\n",
      "\n",
      " 90%|█████████ | 9/10 [00:02<00:00,  3.43it/s]\u001b[A/home/psturm/.local/lib/python3.6/site-packages/shap/explainers/kernel.py:535: UserWarning: l1_reg=\"auto\" is deprecated and in the next version (v0.29) the behavior will change from a conditional use of AIC to simply \"num_features(10)\"!\n",
      "  \"l1_reg=\\\"auto\\\" is deprecated and in the next version (v0.29) the behavior will change from a \" \\\n",
      "\n",
      "100%|██████████| 10/10 [00:02<00:00,  3.41it/s]\u001b[A"
     ]
    }
   ],
   "source": [
    "model_func = lambda x: model(x.reshape(x.shape[0], 8, 8, 3).astype(np.float32)).numpy()\n",
    "kernel_explainer = shap.KernelExplainer(model_func, np.zeros((1, 192)))\n",
    "shap_values = kernel_explainer.shap_values(X[:num_shap_samples].reshape(num_shap_samples, -1), num_samples=200)\n",
    "shap_values = np.reshape(shap_values, (10, 8, 8, 3))"
   ]
  },
  {
   "cell_type": "code",
   "execution_count": 28,
   "metadata": {},
   "outputs": [
    {
     "data": {
      "text/plain": [
       "<matplotlib.image.AxesImage at 0x7faacc231400>"
      ]
     },
     "execution_count": 28,
     "metadata": {},
     "output_type": "execute_result"
    },
    {
     "data": {
      "image/png": "[encoded data removed]",
      "text/plain": [
       "<Figure size 432x288 with 1 Axes>"
      ]
     },
     "metadata": {
      "needs_background": "light"
     },
     "output_type": "display_data"
    }
   ],
   "source": [
    "shap_values_mean_abs = np.mean(np.abs(shap_values), axis=0)\n",
    "plt.imshow(utils.normalize(shap_values_mean_abs, _range=[0.0, 1.0], _domain=[0.0, shap_values_mean_abs.max()]))"
   ]
  },
  {
   "cell_type": "code",
   "execution_count": 29,
   "metadata": {},
   "outputs": [
    {
     "name": "stderr",
     "output_type": "stream",
     "text": [
      "W1101 14:52:43.805624 140375857694528 image.py:648] Clipping input data to the valid range for imshow with RGB data ([0..1] for floats or [0..255] for integers).\n"
     ]
    },
    {
     "data": {
      "text/plain": [
       "<matplotlib.image.AxesImage at 0x7faa9459dba8>"
      ]
     },
     "execution_count": 29,
     "metadata": {},
     "output_type": "execute_result"
    },
    {
     "data": {
      "image/png": "[encoded data removed]",
      "text/plain": [
       "<Figure size 432x288 with 1 Axes>"
      ]
     },
     "metadata": {
      "needs_background": "light"
     },
     "output_type": "display_data"
    }
   ],
   "source": [
    "primal_mean_abs = np.mean(np.abs(primal_effects), axis=0)\n",
    "plt.imshow(utils.normalize(primal_mean_abs, _range=[0.0, 1.0], _domain=[0.0, shap_values_mean_abs.max()]))"
   ]
  },
  {
   "cell_type": "code",
   "execution_count": 30,
   "metadata": {},
   "outputs": [
    {
     "data": {
      "text/plain": [
       "<matplotlib.image.AxesImage at 0x7faa945bd5f8>"
      ]
     },
     "execution_count": 30,
     "metadata": {},
     "output_type": "execute_result"
    },
    {
     "data": {
      "image/png": "[encoded data removed]",
      "text/plain": [
       "<Figure size 432x288 with 1 Axes>"
      ]
     },
     "metadata": {
      "needs_background": "light"
     },
     "output_type": "display_data"
    }
   ],
   "source": [
    "interactions_mean_abs = np.mean(np.abs(shap_values - primal_effects), axis=0)\n",
    "plt.imshow(utils.normalize(interactions_mean_abs, _range=[0.0, 1.0], _domain=[0.0, shap_values_mean_abs.max()]))"
   ]
  }
 ],
 "metadata": {
  "kernelspec": {
   "display_name": "Python 3",
   "language": "python",
   "name": "python3"
  },
  "language_info": {
   "codemirror_mode": {
    "name": "ipython",
    "version": 3
   },
   "file_extension": ".py",
   "mimetype": "text/x-python",
   "name": "python",
   "nbconvert_exporter": "python",
   "pygments_lexer": "ipython3",
   "version": "3.6.8"
  }
 },
 "nbformat": 4,
 "nbformat_minor": 4
}
