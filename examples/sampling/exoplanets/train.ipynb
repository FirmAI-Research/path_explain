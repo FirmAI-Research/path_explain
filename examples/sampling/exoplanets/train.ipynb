{
 "cells": [
  {
   "cell_type": "code",
   "execution_count": 1,
   "metadata": {},
   "outputs": [],
   "source": [
    "%load_ext autoreload\n",
    "%autoreload 2"
   ]
  },
  {
   "cell_type": "code",
   "execution_count": 2,
   "metadata": {},
   "outputs": [],
   "source": [
    "import os\n",
    "os.environ['CUDA_VISIBLE_DEVICES'] = '4'\n",
    "os.environ['TF_CPP_MIN_LOG_LEVEL'] = '3' \n",
    "\n",
    "import numpy as np\n",
    "import pandas as pd\n",
    "import scipy\n",
    "import altair as alt\n",
    "import matplotlib.pyplot as plt\n",
    "import shap\n",
    "import joblib\n",
    "from tqdm import tqdm\n",
    "import tensorflow as tf\n",
    "from scipy.ndimage.filters import uniform_filter1d\n",
    "\n",
    "from interaction_effects.marginal import MarginalExplainer\n",
    "from interaction_effects.plot import summary_plot\n",
    "from interaction_effects.utils import set_up_environment\n",
    "import data"
   ]
  },
  {
   "cell_type": "code",
   "execution_count": 3,
   "metadata": {},
   "outputs": [],
   "source": [
    "set_up_environment()"
   ]
  },
  {
   "cell_type": "code",
   "execution_count": 4,
   "metadata": {},
   "outputs": [],
   "source": [
    "X_train = pd.read_csv('exoTrain.csv')\n",
    "y_train = X_train['LABEL'].astype(int) - 1\n",
    "X_train = X_train.values[:, 1:].astype(float)\n",
    "\n",
    "X_test = pd.read_csv('exoTest.csv')\n",
    "y_test = X_test['LABEL'].astype(int) - 1\n",
    "X_test = X_test.values[:, 1:].astype(float)"
   ]
  },
  {
   "cell_type": "code",
   "execution_count": 5,
   "metadata": {},
   "outputs": [],
   "source": [
    "X_train = (X_train - np.mean(X_train, axis=1, keepdims=True)) / \\\n",
    "           np.std(X_train, axis=1, keepdims=True)\n",
    "X_test  = (X_test - np.mean(X_test, axis=1, keepdims=True)) / \\\n",
    "           np.std(X_test,  axis=1, keepdims=True)"
   ]
  },
  {
   "cell_type": "code",
   "execution_count": 6,
   "metadata": {},
   "outputs": [],
   "source": [
    "y_train = np.expand_dims(y_train, axis=-1)\n",
    "y_test  = np.expand_dims(y_test,  axis=-1)"
   ]
  },
  {
   "cell_type": "code",
   "execution_count": 7,
   "metadata": {},
   "outputs": [],
   "source": [
    "X_train_stacked = np.stack([X_train, uniform_filter1d(X_train, axis=1, size=200)], axis=2)\n",
    "X_test_stacked  = np.stack([X_test,  uniform_filter1d(X_test,  axis=1, size=200)], axis=2)"
   ]
  },
  {
   "cell_type": "code",
   "execution_count": 8,
   "metadata": {},
   "outputs": [],
   "source": [
    "model = tf.keras.models.Sequential()\n",
    "model.add(tf.keras.layers.Conv1D(filters=8, kernel_size=11, activation='relu', input_shape=X_train_stacked.shape[1:]))\n",
    "model.add(tf.keras.layers.MaxPool1D(strides=4))\n",
    "model.add(tf.keras.layers.BatchNormalization())\n",
    "model.add(tf.keras.layers.Conv1D(filters=16, kernel_size=11, activation='relu'))\n",
    "model.add(tf.keras.layers.MaxPool1D(strides=4))\n",
    "model.add(tf.keras.layers.BatchNormalization())\n",
    "model.add(tf.keras.layers.Conv1D(filters=32, kernel_size=11, activation='relu'))\n",
    "model.add(tf.keras.layers.MaxPool1D(strides=4))\n",
    "model.add(tf.keras.layers.BatchNormalization())\n",
    "model.add(tf.keras.layers.Conv1D(filters=64, kernel_size=11, activation='relu'))\n",
    "model.add(tf.keras.layers.MaxPool1D(strides=4))\n",
    "model.add(tf.keras.layers.Flatten())\n",
    "model.add(tf.keras.layers.Dropout(0.5))\n",
    "model.add(tf.keras.layers.Dense(64, activation='relu'))\n",
    "model.add(tf.keras.layers.Dropout(0.25))\n",
    "model.add(tf.keras.layers.Dense(64, activation='relu'))\n",
    "model.add(tf.keras.layers.Dense(1, activation='sigmoid'))"
   ]
  },
  {
   "cell_type": "code",
   "execution_count": 9,
   "metadata": {},
   "outputs": [],
   "source": [
    "def batch_generator(x_train, y_train, batch_size=32):\n",
    "    \"\"\"\n",
    "    Gives equal number of positive and negative samples, and rotates them randomly in time\n",
    "    \"\"\"\n",
    "    half_batch = batch_size // 2\n",
    "    x_batch = np.empty((batch_size, x_train.shape[1], x_train.shape[2]), dtype='float32')\n",
    "    y_batch = np.empty((batch_size, y_train.shape[1]), dtype='float32')\n",
    "    \n",
    "    yes_idx = np.where(y_train[:,0] == 1.)[0]\n",
    "    non_idx = np.where(y_train[:,0] == 0.)[0]\n",
    "    \n",
    "    while True:\n",
    "        np.random.shuffle(yes_idx)\n",
    "        np.random.shuffle(non_idx)\n",
    "    \n",
    "        x_batch[:half_batch] = x_train[yes_idx[:half_batch]]\n",
    "        x_batch[half_batch:] = x_train[non_idx[half_batch:batch_size]]\n",
    "        y_batch[:half_batch] = y_train[yes_idx[:half_batch]]\n",
    "        y_batch[half_batch:] = y_train[non_idx[half_batch:batch_size]]\n",
    "    \n",
    "        for i in range(batch_size):\n",
    "            sz = np.random.randint(x_batch.shape[1])\n",
    "            x_batch[i] = np.roll(x_batch[i], sz, axis = 0)\n",
    "     \n",
    "        yield x_batch, y_batch"
   ]
  },
  {
   "cell_type": "code",
   "execution_count": 10,
   "metadata": {},
   "outputs": [],
   "source": [
    "model.compile(optimizer=tf.keras.optimizers.Adam(1e-5), loss = 'binary_crossentropy', metrics=['accuracy'])\n",
    "hist = model.fit_generator(batch_generator(X_train_stacked, y_train, 32), \n",
    "                           validation_data=(X_test_stacked, y_test), \n",
    "                           verbose=0, epochs=5,\n",
    "                           steps_per_epoch=X_train_stacked.shape[1]//32)"
   ]
  },
  {
   "cell_type": "code",
   "execution_count": 11,
   "metadata": {},
   "outputs": [
    {
     "name": "stdout",
     "output_type": "stream",
     "text": [
      "Epoch 1/40\n",
      "99/99 - 6s - loss: 0.7457 - accuracy: 0.5369 - val_loss: 0.8125 - val_accuracy: 0.2737\n",
      "Epoch 2/40\n",
      "99/99 - 6s - loss: 0.7065 - accuracy: 0.5777 - val_loss: 0.7669 - val_accuracy: 0.3526\n",
      "Epoch 3/40\n",
      "99/99 - 6s - loss: 0.6622 - accuracy: 0.6152 - val_loss: 0.7150 - val_accuracy: 0.4842\n",
      "Epoch 4/40\n",
      "99/99 - 6s - loss: 0.6480 - accuracy: 0.6433 - val_loss: 0.6800 - val_accuracy: 0.5596\n",
      "Epoch 5/40\n",
      "99/99 - 6s - loss: 0.6324 - accuracy: 0.6458 - val_loss: 0.6673 - val_accuracy: 0.6175\n",
      "Epoch 6/40\n",
      "99/99 - 5s - loss: 0.6110 - accuracy: 0.6645 - val_loss: 0.6260 - val_accuracy: 0.6772\n",
      "Epoch 7/40\n",
      "99/99 - 6s - loss: 0.5801 - accuracy: 0.7008 - val_loss: 0.6005 - val_accuracy: 0.7088\n",
      "Epoch 8/40\n",
      "99/99 - 5s - loss: 0.5764 - accuracy: 0.7023 - val_loss: 0.6058 - val_accuracy: 0.6877\n",
      "Epoch 9/40\n",
      "99/99 - 6s - loss: 0.5649 - accuracy: 0.7216 - val_loss: 0.5561 - val_accuracy: 0.7298\n",
      "Epoch 10/40\n",
      "99/99 - 5s - loss: 0.5350 - accuracy: 0.7352 - val_loss: 0.5251 - val_accuracy: 0.7667\n",
      "Epoch 11/40\n",
      "99/99 - 6s - loss: 0.5403 - accuracy: 0.7355 - val_loss: 0.5211 - val_accuracy: 0.7737\n",
      "Epoch 12/40\n",
      "99/99 - 6s - loss: 0.5201 - accuracy: 0.7443 - val_loss: 0.5018 - val_accuracy: 0.7772\n",
      "Epoch 13/40\n",
      "99/99 - 6s - loss: 0.5237 - accuracy: 0.7348 - val_loss: 0.5200 - val_accuracy: 0.7596\n",
      "Epoch 14/40\n",
      "99/99 - 5s - loss: 0.4812 - accuracy: 0.7699 - val_loss: 0.4857 - val_accuracy: 0.7719\n",
      "Epoch 15/40\n",
      "99/99 - 6s - loss: 0.5066 - accuracy: 0.7525 - val_loss: 0.4826 - val_accuracy: 0.7719\n",
      "Epoch 16/40\n",
      "99/99 - 5s - loss: 0.4672 - accuracy: 0.7756 - val_loss: 0.4653 - val_accuracy: 0.7789\n",
      "Epoch 17/40\n",
      "99/99 - 5s - loss: 0.4591 - accuracy: 0.7797 - val_loss: 0.4759 - val_accuracy: 0.7789\n",
      "Epoch 18/40\n",
      "99/99 - 5s - loss: 0.4662 - accuracy: 0.7835 - val_loss: 0.4666 - val_accuracy: 0.7825\n",
      "Epoch 19/40\n",
      "99/99 - 5s - loss: 0.4552 - accuracy: 0.7879 - val_loss: 0.4709 - val_accuracy: 0.7719\n",
      "Epoch 20/40\n",
      "99/99 - 5s - loss: 0.4217 - accuracy: 0.8112 - val_loss: 0.4686 - val_accuracy: 0.7789\n",
      "Epoch 21/40\n",
      "99/99 - 5s - loss: 0.4426 - accuracy: 0.7872 - val_loss: 0.4548 - val_accuracy: 0.7789\n",
      "Epoch 22/40\n",
      "99/99 - 6s - loss: 0.4205 - accuracy: 0.8059 - val_loss: 0.4450 - val_accuracy: 0.7842\n",
      "Epoch 23/40\n",
      "99/99 - 5s - loss: 0.3897 - accuracy: 0.8245 - val_loss: 0.4314 - val_accuracy: 0.7965\n",
      "Epoch 24/40\n",
      "99/99 - 5s - loss: 0.4141 - accuracy: 0.8122 - val_loss: 0.4230 - val_accuracy: 0.8158\n",
      "Epoch 25/40\n",
      "99/99 - 6s - loss: 0.3815 - accuracy: 0.8226 - val_loss: 0.4140 - val_accuracy: 0.8070\n",
      "Epoch 26/40\n",
      "99/99 - 6s - loss: 0.3872 - accuracy: 0.8289 - val_loss: 0.4108 - val_accuracy: 0.8105\n",
      "Epoch 27/40\n",
      "99/99 - 6s - loss: 0.3527 - accuracy: 0.8475 - val_loss: 0.3662 - val_accuracy: 0.8404\n",
      "Epoch 28/40\n",
      "99/99 - 5s - loss: 0.3577 - accuracy: 0.8507 - val_loss: 0.3508 - val_accuracy: 0.8351\n",
      "Epoch 29/40\n",
      "99/99 - 6s - loss: 0.3262 - accuracy: 0.8551 - val_loss: 0.3175 - val_accuracy: 0.8596\n",
      "Epoch 30/40\n",
      "99/99 - 6s - loss: 0.3412 - accuracy: 0.8526 - val_loss: 0.2960 - val_accuracy: 0.8789\n",
      "Epoch 31/40\n",
      "99/99 - 6s - loss: 0.3120 - accuracy: 0.8731 - val_loss: 0.2955 - val_accuracy: 0.8754\n",
      "Epoch 32/40\n",
      "99/99 - 7s - loss: 0.3009 - accuracy: 0.8728 - val_loss: 0.2489 - val_accuracy: 0.8947\n",
      "Epoch 33/40\n",
      "99/99 - 7s - loss: 0.3136 - accuracy: 0.8614 - val_loss: 0.2861 - val_accuracy: 0.8789\n",
      "Epoch 34/40\n",
      "99/99 - 6s - loss: 0.2949 - accuracy: 0.8750 - val_loss: 0.3365 - val_accuracy: 0.8579\n",
      "Epoch 35/40\n",
      "99/99 - 7s - loss: 0.2819 - accuracy: 0.8870 - val_loss: 0.2773 - val_accuracy: 0.8842\n",
      "Epoch 36/40\n",
      "99/99 - 7s - loss: 0.2861 - accuracy: 0.8791 - val_loss: 0.2144 - val_accuracy: 0.9211\n",
      "Epoch 37/40\n",
      "99/99 - 6s - loss: 0.2872 - accuracy: 0.8835 - val_loss: 0.2234 - val_accuracy: 0.9158\n",
      "Epoch 38/40\n",
      "99/99 - 6s - loss: 0.2678 - accuracy: 0.8920 - val_loss: 0.2363 - val_accuracy: 0.9018\n",
      "Epoch 39/40\n",
      "99/99 - 6s - loss: 0.2588 - accuracy: 0.8911 - val_loss: 0.2161 - val_accuracy: 0.9140\n",
      "Epoch 40/40\n",
      "99/99 - 6s - loss: 0.2529 - accuracy: 0.9009 - val_loss: 0.2389 - val_accuracy: 0.9053\n"
     ]
    }
   ],
   "source": [
    "model.compile(optimizer=tf.keras.optimizers.Adam(5e-5), loss = 'binary_crossentropy', metrics=['accuracy'])\n",
    "hist = model.fit_generator(batch_generator(X_train_stacked, y_train, 32), \n",
    "                           validation_data=(X_test_stacked, y_test), \n",
    "                           verbose=2, epochs=40,\n",
    "                           steps_per_epoch=X_train_stacked.shape[1]//32)"
   ]
  },
  {
   "cell_type": "code",
   "execution_count": 12,
   "metadata": {},
   "outputs": [
    {
     "data": {
      "image/png": "[encoded data removed]",
      "text/plain": [
       "<Figure size 432x288 with 1 Axes>"
      ]
     },
     "metadata": {
      "needs_background": "light"
     },
     "output_type": "display_data"
    },
    {
     "data": {
      "image/png": "[encoded data removed]",
      "text/plain": [
       "<Figure size 432x288 with 1 Axes>"
      ]
     },
     "metadata": {
      "needs_background": "light"
     },
     "output_type": "display_data"
    }
   ],
   "source": [
    "plt.plot(hist.history['loss'], color='b')\n",
    "plt.plot(hist.history['val_loss'], color='r')\n",
    "plt.show()\n",
    "plt.plot(hist.history['accuracy'], color='b')\n",
    "plt.plot(hist.history['val_accuracy'], color='r')\n",
    "plt.show()"
   ]
  },
  {
   "cell_type": "code",
   "execution_count": 13,
   "metadata": {},
   "outputs": [],
   "source": [
    "non_idx = np.where(y_test[:,0] == 0.)[0]\n",
    "yes_idx = np.where(y_test[:,0] == 1.)[0]\n",
    "y_hat = model.predict(X_test_stacked)[:,0]"
   ]
  },
  {
   "cell_type": "code",
   "execution_count": 14,
   "metadata": {},
   "outputs": [
    {
     "data": {
      "image/png": "[encoded data removed]",
      "text/plain": [
       "<Figure size 432x288 with 1 Axes>"
      ]
     },
     "metadata": {
      "needs_background": "light"
     },
     "output_type": "display_data"
    },
    {
     "data": {
      "image/png": "[encoded data removed]",
      "text/plain": [
       "<Figure size 432x288 with 1 Axes>"
      ]
     },
     "metadata": {
      "needs_background": "light"
     },
     "output_type": "display_data"
    }
   ],
   "source": [
    "plt.plot([y_hat[i] for i in yes_idx], 'bo')\n",
    "plt.show()\n",
    "plt.plot([y_hat[i] for i in non_idx], 'ro')\n",
    "plt.show()"
   ]
  }
 ],
 "metadata": {
  "kernelspec": {
   "display_name": "Python 3",
   "language": "python",
   "name": "python3"
  },
  "language_info": {
   "codemirror_mode": {
    "name": "ipython",
    "version": 3
   },
   "file_extension": ".py",
   "mimetype": "text/x-python",
   "name": "python",
   "nbconvert_exporter": "python",
   "pygments_lexer": "ipython3",
   "version": "3.7.4"
  }
 },
 "nbformat": 4,
 "nbformat_minor": 4
}
