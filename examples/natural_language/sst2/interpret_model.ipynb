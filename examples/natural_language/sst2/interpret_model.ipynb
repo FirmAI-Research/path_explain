{
 "cells": [
  {
   "cell_type": "markdown",
   "metadata": {},
   "source": [
    "## Imports"
   ]
  },
  {
   "cell_type": "code",
   "execution_count": 1,
   "metadata": {},
   "outputs": [],
   "source": [
    "%load_ext autoreload\n",
    "%autoreload 2"
   ]
  },
  {
   "cell_type": "code",
   "execution_count": 2,
   "metadata": {},
   "outputs": [],
   "source": [
    "import os\n",
    "import sys\n",
    "module_path = os.path.abspath(os.path.join('..'))\n",
    "if module_path not in sys.path:\n",
    "    sys.path.append(module_path)"
   ]
  },
  {
   "cell_type": "code",
   "execution_count": 3,
   "metadata": {},
   "outputs": [],
   "source": [
    "from path_explain import utils\n",
    "utils.set_up_environment(visible_devices='0')"
   ]
  },
  {
   "cell_type": "code",
   "execution_count": 4,
   "metadata": {},
   "outputs": [],
   "source": [
    "import tensorflow as tf\n",
    "import tensorflow_datasets\n",
    "import numpy as np\n",
    "import pandas as pd\n",
    "import altair as alt\n",
    "import scipy\n",
    "from bert_explainer import BertExplainerTF\n",
    "from path_explain.path_explainer_tf import PathExplainerTF\n",
    "from transformers import *\n",
    "from plot.text import text_plot\n",
    "import transformers\n",
    "from tqdm import tqdm\n",
    "from functools import reduce"
   ]
  },
  {
   "cell_type": "markdown",
   "metadata": {},
   "source": [
    "## Data and Model Loading"
   ]
  },
  {
   "cell_type": "code",
   "execution_count": 5,
   "metadata": {},
   "outputs": [],
   "source": [
    "task = 'sst-2'\n",
    "num_labels = len(glue_processors[task]().get_labels())"
   ]
  },
  {
   "cell_type": "code",
   "execution_count": 6,
   "metadata": {},
   "outputs": [],
   "source": [
    "config = BertConfig.from_pretrained('.', num_labels=num_labels)\n",
    "tokenizer = BertTokenizer.from_pretrained('bert-base-cased')\n",
    "model = TFBertForSequenceClassification.from_pretrained('.', config=config)"
   ]
  },
  {
   "cell_type": "code",
   "execution_count": 7,
   "metadata": {},
   "outputs": [
    {
     "name": "stderr",
     "output_type": "stream",
     "text": [
      "INFO:absl:Overwrite dataset info from restored data version.\n",
      "INFO:absl:Reusing dataset glue (/homes/gws/psturm/tensorflow_datasets/glue/sst2/0.0.2)\n",
      "INFO:absl:Constructing tf.data.Dataset for split None, from /homes/gws/psturm/tensorflow_datasets/glue/sst2/0.0.2\n"
     ]
    }
   ],
   "source": [
    "data, info = tensorflow_datasets.load('glue/sst2', with_info=True)"
   ]
  },
  {
   "cell_type": "code",
   "execution_count": 8,
   "metadata": {},
   "outputs": [],
   "source": [
    "train_dataset = glue_convert_examples_to_features(data['train'], tokenizer, max_length=128, task=task)\n",
    "valid_dataset = glue_convert_examples_to_features(data['validation'], tokenizer, max_length=128, task=task)\n",
    "valid_dataset = valid_dataset.batch(16)"
   ]
  },
  {
   "cell_type": "markdown",
   "metadata": {},
   "source": [
    "## Model Evaluation"
   ]
  },
  {
   "cell_type": "code",
   "execution_count": 9,
   "metadata": {},
   "outputs": [],
   "source": [
    "valid_pred = model.predict(valid_dataset)"
   ]
  },
  {
   "cell_type": "code",
   "execution_count": 10,
   "metadata": {},
   "outputs": [],
   "source": [
    "valid_input = []\n",
    "valid_labels = []\n",
    "for batch in valid_dataset:\n",
    "    valid_input.append(batch[0])\n",
    "    valid_labels.append(batch[1].numpy())\n",
    "valid_labels_np = np.concatenate(valid_labels, axis=0)"
   ]
  },
  {
   "cell_type": "code",
   "execution_count": 11,
   "metadata": {},
   "outputs": [
    {
     "name": "stdout",
     "output_type": "stream",
     "text": [
      "Validation Accuracy: 0.8956\n",
      "Positive Sentiment Accuracy: 0.9527\n",
      "Negative Sentiment Accuracy: 0.8364\n"
     ]
    }
   ],
   "source": [
    "valid_pred_max = np.argmax(valid_pred, axis=-1)\n",
    "accuracy = np.sum(valid_pred_max == valid_labels_np) / len(valid_labels_np)\n",
    "\n",
    "positive_mask = valid_labels_np == 1\n",
    "positive_accuracy = np.sum(valid_pred_max[positive_mask] == valid_labels_np[positive_mask]) / np.sum(positive_mask)\n",
    "\n",
    "negative_mask = valid_labels_np == 0\n",
    "negative_accuracy = np.sum(valid_pred_max[negative_mask] == valid_labels_np[negative_mask]) / np.sum(negative_mask)\n",
    "\n",
    "print('Validation Accuracy: {:.4f}'.format(accuracy))\n",
    "print('Positive Sentiment Accuracy: {:.4f}'.format(positive_accuracy))\n",
    "print('Negative Sentiment Accuracy: {:.4f}'.format(negative_accuracy))"
   ]
  },
  {
   "cell_type": "code",
   "execution_count": 12,
   "metadata": {},
   "outputs": [],
   "source": [
    "batch_conf = valid_pred[:16]\n",
    "batch_conf = scipy.special.softmax(batch_conf, axis=-1)\n",
    "batch_pred = np.argmax(batch_conf, axis=-1)\n",
    "batch_labels = valid_labels[0]\n",
    "batch_input = valid_input[0]\n",
    "batch_ids = batch_input['input_ids']\n",
    "batch_baseline = np.zeros((1, 128))"
   ]
  },
  {
   "cell_type": "markdown",
   "metadata": {},
   "source": [
    "## Model Interpretation"
   ]
  },
  {
   "cell_type": "code",
   "execution_count": 13,
   "metadata": {},
   "outputs": [],
   "source": [
    "explainer = BertExplainerTF(model)"
   ]
  },
  {
   "cell_type": "code",
   "execution_count": 14,
   "metadata": {},
   "outputs": [],
   "source": [
    "try:\n",
    "    attributions = np.load('attributions.npy')\n",
    "except FileNotFoundError as e:\n",
    "    attributions = explainer.attributions(inputs=batch_ids,\n",
    "                                          baseline=batch_baseline,\n",
    "                                          batch_size=30,\n",
    "                                          num_samples=1000,\n",
    "                                          use_expectation=False,\n",
    "                                          output_indices=1,\n",
    "                                          verbose=True)\n",
    "    np.save('attributions.npy', attributions)"
   ]
  },
  {
   "cell_type": "code",
   "execution_count": 15,
   "metadata": {},
   "outputs": [],
   "source": [
    "def check_completeness(index):\n",
    "    current_input = {\n",
    "        'input_ids': batch_input['input_ids'][index:index+1],\n",
    "        'attention_mask': batch_input['attention_mask'][index:index+1],\n",
    "        'token_type_ids': batch_input['token_type_ids'][index:index+1],\n",
    "    }\n",
    "\n",
    "    current_baseline = {\n",
    "        'input_ids': np.zeros((1, 128)).astype(int),\n",
    "        'attention_mask': batch_input['attention_mask'][index:index+1],\n",
    "        'token_type_ids': batch_input['token_type_ids'][index:index+1],\n",
    "    }\n",
    "\n",
    "    current_output = model(current_input)[0]\n",
    "    baseline_output = model(current_baseline)[0]\n",
    "    output_difference = current_output - baseline_output\n",
    "    output_difference = output_difference[0, 1]\n",
    "    sum_attr = np.sum(attributions[index, :])\n",
    "\n",
    "    encoded_sentence = batch_input['input_ids'].numpy()[index]\n",
    "    encoded_sentence = encoded_sentence[encoded_sentence != 0]\n",
    "    label = batch_labels[index]\n",
    "    print(tokenizer.decode(encoded_sentence))\n",
    "    print('This sentence is {} (predicted confidence: {:.4f})'.format('positive' if label == 1 else 'negative', batch_conf[index, label]))\n",
    "    print('Output difference:\\t{:.4f} ({:.4f} - {:.4})'.format(output_difference,\n",
    "                                                                current_output[0, 1],\n",
    "                                                                baseline_output[0, 1]))\n",
    "    print('Sum of attributions:\\t{:.4f}'.format(sum_attr))\n",
    "    print('-------------------------')"
   ]
  },
  {
   "cell_type": "code",
   "execution_count": 16,
   "metadata": {},
   "outputs": [
    {
     "name": "stdout",
     "output_type": "stream",
     "text": [
      "[CLS] too much of it feels unfocused and underdeveloped. [SEP]\n",
      "This sentence is negative (predicted confidence: 0.9847)\n",
      "Output difference:\t-2.6409 (-2.3507 - 0.2902)\n",
      "Sum of attributions:\t-2.6379\n",
      "-------------------------\n",
      "[CLS] prurient playthings aside, there's little to love about this english trifle. [SEP]\n",
      "This sentence is negative (predicted confidence: 0.9527)\n",
      "Output difference:\t-1.8265 (-1.8019 - 0.02459)\n",
      "Sum of attributions:\t-1.8654\n",
      "-------------------------\n",
      "[CLS] it proves quite compelling as an intense, brooding character study. [SEP]\n",
      "This sentence is positive (predicted confidence: 0.9992)\n",
      "Output difference:\t3.0870 (3.4095 - 0.3225)\n",
      "Sum of attributions:\t3.2732\n",
      "-------------------------\n",
      "[CLS] looks and feels like a project better suited for the small screen. [SEP]\n",
      "This sentence is negative (predicted confidence: 0.9552)\n",
      "Output difference:\t-2.1291 (-1.7871 - 0.342)\n",
      "Sum of attributions:\t-2.1694\n",
      "-------------------------\n",
      "[CLS] a painfully funny ode to bad behavior. [SEP]\n",
      "This sentence is positive (predicted confidence: 0.8951)\n",
      "Output difference:\t0.8349 (0.8575 - 0.0226)\n",
      "Sum of attributions:\t0.8745\n",
      "-------------------------\n"
     ]
    }
   ],
   "source": [
    "for i in [1,3,5,7,10]:\n",
    "    check_completeness(i)"
   ]
  },
  {
   "cell_type": "code",
   "execution_count": 17,
   "metadata": {},
   "outputs": [],
   "source": [
    "batch_ids = batch_input['input_ids']"
   ]
  },
  {
   "cell_type": "code",
   "execution_count": 18,
   "metadata": {},
   "outputs": [
    {
     "data": {
      "text/html": [
       "\n",
       "<div id=\"altair-viz-1\"></div>\n",
       "<script type=\"text/javascript\">\n",
       "  (function(spec, embedOpt){\n",
       "    const outputDiv = document.getElementById(\"altair-viz-1\");\n",
       "    const paths = {\n",
       "      \"vega\": \"https://cdn.jsdelivr.net/npm//vega@5?noext\",\n",
       "      \"vega-lib\": \"https://cdn.jsdelivr.net/npm//vega-lib?noext\",\n",
       "      \"vega-lite\": \"https://cdn.jsdelivr.net/npm//vega-lite@4.0.0?noext\",\n",
       "      \"vega-embed\": \"https://cdn.jsdelivr.net/npm//vega-embed@6?noext\",\n",
       "    };\n",
       "\n",
       "    function loadScript(lib) {\n",
       "      return new Promise(function(resolve, reject) {\n",
       "        var s = document.createElement('script');\n",
       "        s.src = paths[lib];\n",
       "        s.async = true;\n",
       "        s.onload = () => resolve(paths[lib]);\n",
       "        s.onerror = () => reject(`Error loading script: ${paths[lib]}`);\n",
       "        document.getElementsByTagName(\"head\")[0].appendChild(s);\n",
       "      });\n",
       "    }\n",
       "\n",
       "    function showError(err) {\n",
       "      outputDiv.innerHTML = `<div class=\"error\" style=\"color:red;\">${err}</div>`;\n",
       "      throw err;\n",
       "    }\n",
       "\n",
       "    function displayChart(vegaEmbed) {\n",
       "      vegaEmbed(outputDiv, spec, embedOpt)\n",
       "        .catch(err => showError(`Javascript Error: ${err.message}<br>This usually means there's a typo in your chart specification. See the javascript console for the full traceback.`));\n",
       "    }\n",
       "\n",
       "    if(typeof define === \"function\" && define.amd) {\n",
       "      requirejs.config({paths});\n",
       "      require([\"vega-embed\"], displayChart, err => showError(`Error loading script: ${err.message}`));\n",
       "    } else if (typeof vegaEmbed === \"function\") {\n",
       "      displayChart(vegaEmbed);\n",
       "    } else {\n",
       "      loadScript(\"vega\")\n",
       "        .then(() => loadScript(\"vega-lite\"))\n",
       "        .then(() => loadScript(\"vega-embed\"))\n",
       "        .catch(showError)\n",
       "        .then(() => displayChart(vegaEmbed));\n",
       "    }\n",
       "  })({\"config\": {\"view\": {\"continuousWidth\": 400, \"continuousHeight\": 300, \"opacity\": 0.0}}, \"data\": {\"name\": \"data-cd32526e53c08434c01b9f380f5eed2a\"}, \"mark\": {\"type\": \"text\", \"align\": \"left\", \"color\": \"black\", \"font\": \"arial\", \"size\": 20}, \"encoding\": {\"color\": {\"type\": \"quantitative\", \"field\": \"Attributions\", \"legend\": {\"orient\": \"bottom\"}, \"scale\": {\"domain\": [-0.7092167966773084, 0.7092167966773084], \"scheme\": \"redyellowgreen\"}, \"sort\": \"ascending\"}, \"text\": {\"type\": \"nominal\", \"field\": \"Token\"}, \"x\": {\"type\": \"quantitative\", \"axis\": null, \"field\": \"x\", \"sort\": null}, \"y\": {\"value\": 0}}, \"title\": \"Sentence 1\", \"width\": 518.6279999999999, \"$schema\": \"https://vega.github.io/schema/vega-lite/v4.0.0.json\", \"datasets\": {\"data-cd32526e53c08434c01b9f380f5eed2a\": [{\"Token\": \"too\", \"Attributions\": -0.08665785100207087, \"x\": 0.0, \"size\": 0.08665785100207087}, {\"Token\": \"much\", \"Attributions\": 0.023396653560106593, \"x\": 1.662, \"size\": 0.023396653560106593}, {\"Token\": \"of\", \"Attributions\": -0.07908251976626757, \"x\": 4.343999999999999, \"size\": 0.07908251976626757}, {\"Token\": \"it\", \"Attributions\": -0.07651311311350315, \"x\": 5.436, \"size\": 0.07651311311350315}, {\"Token\": \"feels\", \"Attributions\": -0.1614340523267432, \"x\": 6.18, \"size\": 0.1614340523267432}, {\"Token\": \"unfocused\", \"Attributions\": -0.6669673656094477, \"x\": 8.574, \"size\": 0.6669673656094477}, {\"Token\": \"and\", \"Attributions\": -0.459809309410272, \"x\": 13.536, \"size\": 0.459809309410272}, {\"Token\": \"underdeveloped\", \"Attributions\": -0.7092167966773084, \"x\": 15.468, \"size\": 0.7092167966773084}, {\"Token\": \".\", \"Attributions\": -0.05100182376213834, \"x\": 23.052, \"size\": 0.05100182376213834}]}}, {\"mode\": \"vega-lite\"});\n",
       "</script>"
      ],
      "text/plain": [
       "alt.Chart(...)"
      ]
     },
     "execution_count": 18,
     "metadata": {},
     "output_type": "execute_result"
    }
   ],
   "source": [
    "i = 1\n",
    "text_plot(tokens=tokenizer.convert_ids_to_tokens(batch_ids[i].numpy()),\n",
    "          attributions=attributions[i],\n",
    "          non_zero_mask=batch_ids[i].numpy()!=0,\n",
    "          include_legend=True).properties(title='Sentence {}'.format(i))"
   ]
  },
  {
   "cell_type": "code",
   "execution_count": 19,
   "metadata": {},
   "outputs": [
    {
     "data": {
      "text/html": [
       "\n",
       "<div id=\"altair-viz-2\"></div>\n",
       "<script type=\"text/javascript\">\n",
       "  (function(spec, embedOpt){\n",
       "    const outputDiv = document.getElementById(\"altair-viz-2\");\n",
       "    const paths = {\n",
       "      \"vega\": \"https://cdn.jsdelivr.net/npm//vega@5?noext\",\n",
       "      \"vega-lib\": \"https://cdn.jsdelivr.net/npm//vega-lib?noext\",\n",
       "      \"vega-lite\": \"https://cdn.jsdelivr.net/npm//vega-lite@4.0.0?noext\",\n",
       "      \"vega-embed\": \"https://cdn.jsdelivr.net/npm//vega-embed@6?noext\",\n",
       "    };\n",
       "\n",
       "    function loadScript(lib) {\n",
       "      return new Promise(function(resolve, reject) {\n",
       "        var s = document.createElement('script');\n",
       "        s.src = paths[lib];\n",
       "        s.async = true;\n",
       "        s.onload = () => resolve(paths[lib]);\n",
       "        s.onerror = () => reject(`Error loading script: ${paths[lib]}`);\n",
       "        document.getElementsByTagName(\"head\")[0].appendChild(s);\n",
       "      });\n",
       "    }\n",
       "\n",
       "    function showError(err) {\n",
       "      outputDiv.innerHTML = `<div class=\"error\" style=\"color:red;\">${err}</div>`;\n",
       "      throw err;\n",
       "    }\n",
       "\n",
       "    function displayChart(vegaEmbed) {\n",
       "      vegaEmbed(outputDiv, spec, embedOpt)\n",
       "        .catch(err => showError(`Javascript Error: ${err.message}<br>This usually means there's a typo in your chart specification. See the javascript console for the full traceback.`));\n",
       "    }\n",
       "\n",
       "    if(typeof define === \"function\" && define.amd) {\n",
       "      requirejs.config({paths});\n",
       "      require([\"vega-embed\"], displayChart, err => showError(`Error loading script: ${err.message}`));\n",
       "    } else if (typeof vegaEmbed === \"function\") {\n",
       "      displayChart(vegaEmbed);\n",
       "    } else {\n",
       "      loadScript(\"vega\")\n",
       "        .then(() => loadScript(\"vega-lite\"))\n",
       "        .then(() => loadScript(\"vega-embed\"))\n",
       "        .catch(showError)\n",
       "        .then(() => displayChart(vegaEmbed));\n",
       "    }\n",
       "  })({\"config\": {\"view\": {\"continuousWidth\": 400, \"continuousHeight\": 300, \"opacity\": 0.0}}, \"data\": {\"name\": \"data-fc1e66f314954a258b48c7fa0d772293\"}, \"mark\": {\"type\": \"text\", \"align\": \"left\", \"color\": \"black\", \"font\": \"arial\", \"size\": 20}, \"encoding\": {\"color\": {\"type\": \"quantitative\", \"field\": \"Attributions\", \"legend\": null, \"scale\": {\"domain\": [-0.657109489422456, 0.657109489422456], \"scheme\": \"redyellowgreen\"}, \"sort\": \"ascending\"}, \"text\": {\"type\": \"nominal\", \"field\": \"Token\"}, \"x\": {\"type\": \"quantitative\", \"axis\": null, \"field\": \"x\", \"sort\": null}, \"y\": {\"value\": 0}}, \"title\": \"Sentence 3\", \"width\": 684.948, \"$schema\": \"https://vega.github.io/schema/vega-lite/v4.0.0.json\", \"datasets\": {\"data-fc1e66f314954a258b48c7fa0d772293\": [{\"Token\": \"prurient\", \"Attributions\": -0.08266307502965381, \"x\": 0.0, \"size\": 0.08266307502965381}, {\"Token\": \"playthings\", \"Attributions\": 0.02159744211894471, \"x\": 3.744, \"size\": 0.02159744211894471}, {\"Token\": \"aside\", \"Attributions\": 0.3269389673069133, \"x\": 8.58, \"size\": 0.3269389673069133}, {\"Token\": \",\", \"Attributions\": -0.15157426765290072, \"x\": 11.244, \"size\": 0.15157426765290072}, {\"Token\": \"there's\", \"Attributions\": -0.657109489422456, \"x\": 11.766, \"size\": 0.657109489422456}, {\"Token\": \"little\", \"Attributions\": -0.6296652250623662, \"x\": 15.09, \"size\": 0.6296652250623662}, {\"Token\": \"to\", \"Attributions\": -0.5294367292891186, \"x\": 17.148, \"size\": 0.5294367292891186}, {\"Token\": \"love\", \"Attributions\": 0.5436959856475397, \"x\": 18.24, \"size\": 0.5436959856475397}, {\"Token\": \"about\", \"Attributions\": -0.09869895166368167, \"x\": 20.334, \"size\": 0.09869895166368167}, {\"Token\": \"this\", \"Attributions\": -0.19712429876256646, \"x\": 23.136, \"size\": 0.19712429876256646}, {\"Token\": \"english\", \"Attributions\": -0.12483401706338704, \"x\": 24.96, \"size\": 0.12483401706338704}, {\"Token\": \"trifle\", \"Attributions\": -0.5385421408715421, \"x\": 28.416, \"size\": 0.5385421408715421}, {\"Token\": \".\", \"Attributions\": 0.029582738930225515, \"x\": 30.612000000000002, \"size\": 0.029582738930225515}]}}, {\"mode\": \"vega-lite\"});\n",
       "</script>"
      ],
      "text/plain": [
       "alt.Chart(...)"
      ]
     },
     "execution_count": 19,
     "metadata": {},
     "output_type": "execute_result"
    }
   ],
   "source": [
    "i = 3\n",
    "text_plot(tokens=tokenizer.convert_ids_to_tokens(batch_ids[i].numpy()),\n",
    "          non_zero_mask=batch_ids[i].numpy()!=0,\n",
    "          attributions=attributions[i]).properties(title='Sentence {}'.format(i))"
   ]
  },
  {
   "cell_type": "code",
   "execution_count": 20,
   "metadata": {},
   "outputs": [
    {
     "data": {
      "text/html": [
       "\n",
       "<div id=\"altair-viz-3\"></div>\n",
       "<script type=\"text/javascript\">\n",
       "  (function(spec, embedOpt){\n",
       "    const outputDiv = document.getElementById(\"altair-viz-3\");\n",
       "    const paths = {\n",
       "      \"vega\": \"https://cdn.jsdelivr.net/npm//vega@5?noext\",\n",
       "      \"vega-lib\": \"https://cdn.jsdelivr.net/npm//vega-lib?noext\",\n",
       "      \"vega-lite\": \"https://cdn.jsdelivr.net/npm//vega-lite@4.0.0?noext\",\n",
       "      \"vega-embed\": \"https://cdn.jsdelivr.net/npm//vega-embed@6?noext\",\n",
       "    };\n",
       "\n",
       "    function loadScript(lib) {\n",
       "      return new Promise(function(resolve, reject) {\n",
       "        var s = document.createElement('script');\n",
       "        s.src = paths[lib];\n",
       "        s.async = true;\n",
       "        s.onload = () => resolve(paths[lib]);\n",
       "        s.onerror = () => reject(`Error loading script: ${paths[lib]}`);\n",
       "        document.getElementsByTagName(\"head\")[0].appendChild(s);\n",
       "      });\n",
       "    }\n",
       "\n",
       "    function showError(err) {\n",
       "      outputDiv.innerHTML = `<div class=\"error\" style=\"color:red;\">${err}</div>`;\n",
       "      throw err;\n",
       "    }\n",
       "\n",
       "    function displayChart(vegaEmbed) {\n",
       "      vegaEmbed(outputDiv, spec, embedOpt)\n",
       "        .catch(err => showError(`Javascript Error: ${err.message}<br>This usually means there's a typo in your chart specification. See the javascript console for the full traceback.`));\n",
       "    }\n",
       "\n",
       "    if(typeof define === \"function\" && define.amd) {\n",
       "      requirejs.config({paths});\n",
       "      require([\"vega-embed\"], displayChart, err => showError(`Error loading script: ${err.message}`));\n",
       "    } else if (typeof vegaEmbed === \"function\") {\n",
       "      displayChart(vegaEmbed);\n",
       "    } else {\n",
       "      loadScript(\"vega\")\n",
       "        .then(() => loadScript(\"vega-lite\"))\n",
       "        .then(() => loadScript(\"vega-embed\"))\n",
       "        .catch(showError)\n",
       "        .then(() => displayChart(vegaEmbed));\n",
       "    }\n",
       "  })({\"config\": {\"view\": {\"continuousWidth\": 400, \"continuousHeight\": 300, \"opacity\": 0.0}}, \"data\": {\"name\": \"data-604ffbee4bcb7428ecae22d68af2a6d4\"}, \"mark\": {\"type\": \"text\", \"align\": \"left\", \"color\": \"black\", \"font\": \"arial\", \"size\": 20}, \"encoding\": {\"color\": {\"type\": \"quantitative\", \"field\": \"Attributions\", \"legend\": null, \"scale\": {\"domain\": [-0.9382339783404859, 0.9382339783404859], \"scheme\": \"redyellowgreen\"}, \"sort\": \"ascending\"}, \"text\": {\"type\": \"nominal\", \"field\": \"Token\"}, \"x\": {\"type\": \"quantitative\", \"axis\": null, \"field\": \"x\", \"sort\": null}, \"y\": {\"value\": 0}}, \"title\": \"Sentence 5\", \"width\": 665.6759999999999, \"$schema\": \"https://vega.github.io/schema/vega-lite/v4.0.0.json\", \"datasets\": {\"data-604ffbee4bcb7428ecae22d68af2a6d4\": [{\"Token\": \"it\", \"Attributions\": 0.412014919597322, \"x\": 0.0, \"size\": 0.412014919597322}, {\"Token\": \"proves\", \"Attributions\": 0.6166983339681371, \"x\": 0.744, \"size\": 0.6166983339681371}, {\"Token\": \"quite\", \"Attributions\": 0.5110116263355223, \"x\": 4.056, \"size\": 0.5110116263355223}, {\"Token\": \"compelling\", \"Attributions\": 0.9382339783404859, \"x\": 6.51, \"size\": 0.9382339783404859}, {\"Token\": \"as\", \"Attributions\": 0.08833864451465488, \"x\": 11.568, \"size\": 0.08833864451465488}, {\"Token\": \"an\", \"Attributions\": 0.023433894087477636, \"x\": 12.87, \"size\": 0.023433894087477636}, {\"Token\": \"intense\", \"Attributions\": 0.7863448097094325, \"x\": 14.232, \"size\": 0.7863448097094325}, {\"Token\": \",\", \"Attributions\": -0.005786592246491853, \"x\": 17.766, \"size\": 0.005786592246491853}, {\"Token\": \"brooding\", \"Attributions\": -0.37142228805968736, \"x\": 18.287999999999997, \"size\": 0.37142228805968736}, {\"Token\": \"character\", \"Attributions\": 0.007681227112901714, \"x\": 22.511999999999997, \"size\": 0.007681227112901714}, {\"Token\": \"study\", \"Attributions\": 0.29060919291017656, \"x\": 27.053999999999995, \"size\": 0.29060919291017656}, {\"Token\": \".\", \"Attributions\": 0.19146228176423344, \"x\": 29.735999999999994, \"size\": 0.19146228176423344}]}}, {\"mode\": \"vega-lite\"});\n",
       "</script>"
      ],
      "text/plain": [
       "alt.Chart(...)"
      ]
     },
     "execution_count": 20,
     "metadata": {},
     "output_type": "execute_result"
    }
   ],
   "source": [
    "i = 5\n",
    "text_plot(tokens=tokenizer.convert_ids_to_tokens(batch_ids[i].numpy()),\n",
    "          non_zero_mask=batch_ids[i].numpy()!=0,\n",
    "          attributions=attributions[i]).properties(title='Sentence {}'.format(i))"
   ]
  },
  {
   "cell_type": "code",
   "execution_count": 21,
   "metadata": {},
   "outputs": [
    {
     "data": {
      "text/html": [
       "\n",
       "<div id=\"altair-viz-4\"></div>\n",
       "<script type=\"text/javascript\">\n",
       "  (function(spec, embedOpt){\n",
       "    const outputDiv = document.getElementById(\"altair-viz-4\");\n",
       "    const paths = {\n",
       "      \"vega\": \"https://cdn.jsdelivr.net/npm//vega@5?noext\",\n",
       "      \"vega-lib\": \"https://cdn.jsdelivr.net/npm//vega-lib?noext\",\n",
       "      \"vega-lite\": \"https://cdn.jsdelivr.net/npm//vega-lite@4.0.0?noext\",\n",
       "      \"vega-embed\": \"https://cdn.jsdelivr.net/npm//vega-embed@6?noext\",\n",
       "    };\n",
       "\n",
       "    function loadScript(lib) {\n",
       "      return new Promise(function(resolve, reject) {\n",
       "        var s = document.createElement('script');\n",
       "        s.src = paths[lib];\n",
       "        s.async = true;\n",
       "        s.onload = () => resolve(paths[lib]);\n",
       "        s.onerror = () => reject(`Error loading script: ${paths[lib]}`);\n",
       "        document.getElementsByTagName(\"head\")[0].appendChild(s);\n",
       "      });\n",
       "    }\n",
       "\n",
       "    function showError(err) {\n",
       "      outputDiv.innerHTML = `<div class=\"error\" style=\"color:red;\">${err}</div>`;\n",
       "      throw err;\n",
       "    }\n",
       "\n",
       "    function displayChart(vegaEmbed) {\n",
       "      vegaEmbed(outputDiv, spec, embedOpt)\n",
       "        .catch(err => showError(`Javascript Error: ${err.message}<br>This usually means there's a typo in your chart specification. See the javascript console for the full traceback.`));\n",
       "    }\n",
       "\n",
       "    if(typeof define === \"function\" && define.amd) {\n",
       "      requirejs.config({paths});\n",
       "      require([\"vega-embed\"], displayChart, err => showError(`Error loading script: ${err.message}`));\n",
       "    } else if (typeof vegaEmbed === \"function\") {\n",
       "      displayChart(vegaEmbed);\n",
       "    } else {\n",
       "      loadScript(\"vega\")\n",
       "        .then(() => loadScript(\"vega-lite\"))\n",
       "        .then(() => loadScript(\"vega-embed\"))\n",
       "        .catch(showError)\n",
       "        .then(() => displayChart(vegaEmbed));\n",
       "    }\n",
       "  })({\"config\": {\"view\": {\"continuousWidth\": 400, \"continuousHeight\": 300, \"opacity\": 0.0}}, \"data\": {\"name\": \"data-dff1314187a0d74e3832c519b7900ad1\"}, \"mark\": {\"type\": \"text\", \"align\": \"left\", \"color\": \"black\", \"font\": \"arial\", \"size\": 20}, \"encoding\": {\"color\": {\"type\": \"quantitative\", \"field\": \"Attributions\", \"legend\": null, \"scale\": {\"domain\": [-0.4120029593920021, 0.4120029593920021], \"scheme\": \"redyellowgreen\"}, \"sort\": \"ascending\"}, \"text\": {\"type\": \"nominal\", \"field\": \"Token\"}, \"x\": {\"type\": \"quantitative\", \"axis\": null, \"field\": \"x\", \"sort\": null}, \"y\": {\"value\": 0}}, \"title\": \"Sentence 7\", \"width\": 619.344, \"$schema\": \"https://vega.github.io/schema/vega-lite/v4.0.0.json\", \"datasets\": {\"data-dff1314187a0d74e3832c519b7900ad1\": [{\"Token\": \"looks\", \"Attributions\": 0.1475628067217272, \"x\": 0.0, \"size\": 0.1475628067217272}, {\"Token\": \"and\", \"Attributions\": -0.09253306314778559, \"x\": 2.604, \"size\": 0.09253306314778559}, {\"Token\": \"feels\", \"Attributions\": -0.4120029593920021, \"x\": 4.536, \"size\": 0.4120029593920021}, {\"Token\": \"like\", \"Attributions\": -0.07233253484231288, \"x\": 6.93, \"size\": 0.07233253484231288}, {\"Token\": \"a\", \"Attributions\": -0.09503600293410307, \"x\": 8.676, \"size\": 0.09503600293410307}, {\"Token\": \"project\", \"Attributions\": 0.12389324539585386, \"x\": 9.468, \"size\": 0.12389324539585386}, {\"Token\": \"better\", \"Attributions\": -0.2761447848835822, \"x\": 12.792, \"size\": 0.2761447848835822}, {\"Token\": \"suited\", \"Attributions\": -0.3372773172565842, \"x\": 15.684, \"size\": 0.3372773172565842}, {\"Token\": \"for\", \"Attributions\": -0.38359044555202776, \"x\": 18.648, \"size\": 0.38359044555202776}, {\"Token\": \"the\", \"Attributions\": -0.1427308065293597, \"x\": 20.1, \"size\": 0.1427308065293597}, {\"Token\": \"small\", \"Attributions\": -0.038696978739202456, \"x\": 21.762, \"size\": 0.038696978739202456}, {\"Token\": \"screen\", \"Attributions\": 0.04997804655160439, \"x\": 24.318, \"size\": 0.04997804655160439}, {\"Token\": \".\", \"Attributions\": 0.029711364198280354, \"x\": 27.630000000000003, \"size\": 0.029711364198280354}]}}, {\"mode\": \"vega-lite\"});\n",
       "</script>"
      ],
      "text/plain": [
       "alt.Chart(...)"
      ]
     },
     "execution_count": 21,
     "metadata": {},
     "output_type": "execute_result"
    }
   ],
   "source": [
    "i = 7\n",
    "text_plot(tokens=tokenizer.convert_ids_to_tokens(batch_ids[i].numpy()),\n",
    "          non_zero_mask=batch_ids[i].numpy()!=0,\n",
    "          attributions=attributions[i]).properties(title='Sentence {}'.format(i))"
   ]
  },
  {
   "cell_type": "code",
   "execution_count": 22,
   "metadata": {},
   "outputs": [
    {
     "data": {
      "text/html": [
       "\n",
       "<div id=\"altair-viz-5\"></div>\n",
       "<script type=\"text/javascript\">\n",
       "  (function(spec, embedOpt){\n",
       "    const outputDiv = document.getElementById(\"altair-viz-5\");\n",
       "    const paths = {\n",
       "      \"vega\": \"https://cdn.jsdelivr.net/npm//vega@5?noext\",\n",
       "      \"vega-lib\": \"https://cdn.jsdelivr.net/npm//vega-lib?noext\",\n",
       "      \"vega-lite\": \"https://cdn.jsdelivr.net/npm//vega-lite@4.0.0?noext\",\n",
       "      \"vega-embed\": \"https://cdn.jsdelivr.net/npm//vega-embed@6?noext\",\n",
       "    };\n",
       "\n",
       "    function loadScript(lib) {\n",
       "      return new Promise(function(resolve, reject) {\n",
       "        var s = document.createElement('script');\n",
       "        s.src = paths[lib];\n",
       "        s.async = true;\n",
       "        s.onload = () => resolve(paths[lib]);\n",
       "        s.onerror = () => reject(`Error loading script: ${paths[lib]}`);\n",
       "        document.getElementsByTagName(\"head\")[0].appendChild(s);\n",
       "      });\n",
       "    }\n",
       "\n",
       "    function showError(err) {\n",
       "      outputDiv.innerHTML = `<div class=\"error\" style=\"color:red;\">${err}</div>`;\n",
       "      throw err;\n",
       "    }\n",
       "\n",
       "    function displayChart(vegaEmbed) {\n",
       "      vegaEmbed(outputDiv, spec, embedOpt)\n",
       "        .catch(err => showError(`Javascript Error: ${err.message}<br>This usually means there's a typo in your chart specification. See the javascript console for the full traceback.`));\n",
       "    }\n",
       "\n",
       "    if(typeof define === \"function\" && define.amd) {\n",
       "      requirejs.config({paths});\n",
       "      require([\"vega-embed\"], displayChart, err => showError(`Error loading script: ${err.message}`));\n",
       "    } else if (typeof vegaEmbed === \"function\") {\n",
       "      displayChart(vegaEmbed);\n",
       "    } else {\n",
       "      loadScript(\"vega\")\n",
       "        .then(() => loadScript(\"vega-lite\"))\n",
       "        .then(() => loadScript(\"vega-embed\"))\n",
       "        .catch(showError)\n",
       "        .then(() => displayChart(vegaEmbed));\n",
       "    }\n",
       "  })({\"config\": {\"view\": {\"continuousWidth\": 400, \"continuousHeight\": 300, \"opacity\": 0.0}}, \"data\": {\"name\": \"data-0abdfa0f7e3effc420158c2a315d089c\"}, \"mark\": {\"type\": \"text\", \"align\": \"left\", \"color\": \"black\", \"font\": \"arial\", \"size\": 20}, \"encoding\": {\"color\": {\"type\": \"quantitative\", \"field\": \"Attributions\", \"legend\": null, \"scale\": {\"domain\": [-2.2717960286567327, 2.2717960286567327], \"scheme\": \"redyellowgreen\"}, \"sort\": \"ascending\"}, \"text\": {\"type\": \"nominal\", \"field\": \"Token\"}, \"x\": {\"type\": \"quantitative\", \"axis\": null, \"field\": \"x\", \"sort\": null}, \"y\": {\"value\": 0}}, \"title\": \"Sentence 10\", \"width\": 377.388, \"$schema\": \"https://vega.github.io/schema/vega-lite/v4.0.0.json\", \"datasets\": {\"data-0abdfa0f7e3effc420158c2a315d089c\": [{\"Token\": \"a\", \"Attributions\": 0.09050562878648093, \"x\": 0.0, \"size\": 0.09050562878648093}, {\"Token\": \"painfully\", \"Attributions\": 0.7619020722931628, \"x\": 0.792, \"size\": 0.7619020722931628}, {\"Token\": \"funny\", \"Attributions\": 2.2717960286567327, \"x\": 4.7700000000000005, \"size\": 2.2717960286567327}, {\"Token\": \"ode\", \"Attributions\": 0.6824356222840786, \"x\": 7.5120000000000005, \"size\": 0.6824356222840786}, {\"Token\": \"to\", \"Attributions\": -0.5222633571989501, \"x\": 9.444, \"size\": 0.5222633571989501}, {\"Token\": \"bad\", \"Attributions\": -0.9739216935285665, \"x\": 10.536000000000001, \"size\": 0.9739216935285665}, {\"Token\": \"behavior\", \"Attributions\": -0.46550736078068683, \"x\": 12.468000000000002, \"size\": 0.46550736078068683}, {\"Token\": \".\", \"Attributions\": -0.19730882367977207, \"x\": 16.632, \"size\": 0.19730882367977207}]}}, {\"mode\": \"vega-lite\"});\n",
       "</script>"
      ],
      "text/plain": [
       "alt.Chart(...)"
      ]
     },
     "execution_count": 22,
     "metadata": {},
     "output_type": "execute_result"
    }
   ],
   "source": [
    "i = 10\n",
    "text_plot(tokens=tokenizer.convert_ids_to_tokens(batch_ids[i].numpy()),\n",
    "          non_zero_mask=batch_ids[i].numpy()!=0,\n",
    "          attributions=attributions[i]).properties(title='Sentence {}'.format(i))"
   ]
  },
  {
   "cell_type": "code",
   "execution_count": 23,
   "metadata": {},
   "outputs": [],
   "source": [
    "def sum_interactions_over_tokens(interactions, tokens):\n",
    "    start_index = 1\n",
    "    end_index = tokens.index('.')\n",
    "    tokens = tokens[start_index:end_index]\n",
    "\n",
    "    interaction_array = []\n",
    "    token_array = []\n",
    "    zero_indices = []\n",
    "    found_special_token = False\n",
    "    for i in range(len(interactions)):\n",
    "        token = tokens[i]\n",
    "        interaction = interactions[i]\n",
    "        if token.startswith('##'):\n",
    "            interaction_array[-1] += interaction\n",
    "            token_array[-1] += token[2:]\n",
    "            zero_indices[-1] += [i]\n",
    "            found_special_token = False\n",
    "        elif found_special_token:\n",
    "            interaction_array[-1] += interaction\n",
    "            token_array[-1] += token\n",
    "            zero_indices[-1] += [i]\n",
    "            found_special_token = False\n",
    "        elif token == '-' or token == \"'\":\n",
    "            interaction_array[-1] += interaction\n",
    "            token_array[-1] += token\n",
    "            zero_indices[-1] += [i]\n",
    "            found_special_token = True\n",
    "        else:\n",
    "            interaction_array.append(interaction)\n",
    "            token_array.append(token)\n",
    "            zero_indices.append([i])\n",
    "    summed_interactions = np.stack(interaction_array, axis=0)\n",
    "    summed_interactions = summed_interactions[:, start_index:end_index]\n",
    "    summed_interactions = np.stack([np.sum(summed_interactions[:, zero_index], axis=1) for zero_index in zero_indices], axis=1)\n",
    "\n",
    "    return summed_interactions, token_array"
   ]
  },
  {
   "cell_type": "code",
   "execution_count": 35,
   "metadata": {},
   "outputs": [],
   "source": [
    "def interaction_plot(summed_interactions, summed_tokens):\n",
    "    plot_array = []\n",
    "    for j in range(len(summed_interactions)):\n",
    "        zeroed_interactions = summed_interactions[j].copy()\n",
    "        zeroed_interactions[j] = 0.0\n",
    "        j_token = summed_tokens[j]\n",
    "\n",
    "        plot = text_plot(tokens=summed_tokens,\n",
    "                  attributions=zeroed_interactions,\n",
    "                  strip_special=False,\n",
    "                  include_legend=False,\n",
    "                  include_grid=True).properties(title='Interactions with {}'.format(j_token))\n",
    "        plot_array.append(plot)\n",
    "    plot = reduce(lambda x, y: x & y, plot_array).configure_view(opacity=0.0).resolve_scale(color='independent')\n",
    "    return plot"
   ]
  },
  {
   "cell_type": "code",
   "execution_count": 44,
   "metadata": {},
   "outputs": [],
   "source": [
    "def get_interactions_for_index(i):\n",
    "    start_index = 1\n",
    "    batch_tokens = tokenizer.convert_ids_to_tokens(batch_ids[i].numpy())\n",
    "    end_index = batch_tokens.index('.')\n",
    "    interaction_array = []\n",
    "    for index_to_explain in tqdm(range(start_index, end_index)):\n",
    "        interactions = explainer.interactions(inputs=batch_ids[i:i+1],\n",
    "                                              baseline=batch_baseline,\n",
    "                                              batch_size=10,\n",
    "                                              num_samples=1000,\n",
    "                                              use_expectation=False,\n",
    "                                              output_indices=1,\n",
    "                                              verbose=False,\n",
    "                                              interaction_index=int(index_to_explain))\n",
    "        interaction_array.append(interactions)\n",
    "    interactions = np.concatenate(interaction_array, axis=0)\n",
    "    return interactions"
   ]
  },
  {
   "cell_type": "markdown",
   "metadata": {},
   "source": [
    "## Attributions of Attributions"
   ]
  },
  {
   "cell_type": "code",
   "execution_count": 26,
   "metadata": {},
   "outputs": [],
   "source": [
    "batch_baseline = np.zeros((1, 128))"
   ]
  },
  {
   "cell_type": "code",
   "execution_count": null,
   "metadata": {},
   "outputs": [
    {
     "name": "stderr",
     "output_type": "stream",
     "text": [
      "100%|██████████| 25/25 [33:03<00:00, 79.35s/it]\n",
      " 44%|████▍     | 8/18 [10:33<13:11, 79.19s/it]"
     ]
    }
   ],
   "source": [
    "interactions_array = []\n",
    "for i in range(len(attributions)):\n",
    "    try:\n",
    "        interactions = np.load('interactions_{}.npy'.format(i))\n",
    "    except FileNotFoundError as e:\n",
    "        interactions = get_interactions_for_index(i)\n",
    "        np.save('interactions_{}.npy'.format(i), interactions)\n",
    "    interactions_array.append(interactions)"
   ]
  },
  {
   "cell_type": "code",
   "execution_count": 36,
   "metadata": {},
   "outputs": [
    {
     "data": {
      "text/html": [
       "\n",
       "<div id=\"altair-viz-12\"></div>\n",
       "<script type=\"text/javascript\">\n",
       "  (function(spec, embedOpt){\n",
       "    const outputDiv = document.getElementById(\"altair-viz-12\");\n",
       "    const paths = {\n",
       "      \"vega\": \"https://cdn.jsdelivr.net/npm//vega@5?noext\",\n",
       "      \"vega-lib\": \"https://cdn.jsdelivr.net/npm//vega-lib?noext\",\n",
       "      \"vega-lite\": \"https://cdn.jsdelivr.net/npm//vega-lite@4.0.0?noext\",\n",
       "      \"vega-embed\": \"https://cdn.jsdelivr.net/npm//vega-embed@6?noext\",\n",
       "    };\n",
       "\n",
       "    function loadScript(lib) {\n",
       "      return new Promise(function(resolve, reject) {\n",
       "        var s = document.createElement('script');\n",
       "        s.src = paths[lib];\n",
       "        s.async = true;\n",
       "        s.onload = () => resolve(paths[lib]);\n",
       "        s.onerror = () => reject(`Error loading script: ${paths[lib]}`);\n",
       "        document.getElementsByTagName(\"head\")[0].appendChild(s);\n",
       "      });\n",
       "    }\n",
       "\n",
       "    function showError(err) {\n",
       "      outputDiv.innerHTML = `<div class=\"error\" style=\"color:red;\">${err}</div>`;\n",
       "      throw err;\n",
       "    }\n",
       "\n",
       "    function displayChart(vegaEmbed) {\n",
       "      vegaEmbed(outputDiv, spec, embedOpt)\n",
       "        .catch(err => showError(`Javascript Error: ${err.message}<br>This usually means there's a typo in your chart specification. See the javascript console for the full traceback.`));\n",
       "    }\n",
       "\n",
       "    if(typeof define === \"function\" && define.amd) {\n",
       "      requirejs.config({paths});\n",
       "      require([\"vega-embed\"], displayChart, err => showError(`Error loading script: ${err.message}`));\n",
       "    } else if (typeof vegaEmbed === \"function\") {\n",
       "      displayChart(vegaEmbed);\n",
       "    } else {\n",
       "      loadScript(\"vega\")\n",
       "        .then(() => loadScript(\"vega-lite\"))\n",
       "        .then(() => loadScript(\"vega-embed\"))\n",
       "        .catch(showError)\n",
       "        .then(() => displayChart(vegaEmbed));\n",
       "    }\n",
       "  })({\"config\": {\"view\": {\"continuousWidth\": 400, \"continuousHeight\": 300, \"opacity\": 0.0}}, \"vconcat\": [{\"data\": {\"name\": \"data-c4748fa5b609635d6d269769183b472c\"}, \"mark\": {\"type\": \"text\", \"align\": \"left\", \"color\": \"black\", \"font\": \"arial\", \"size\": 20}, \"encoding\": {\"color\": {\"type\": \"quantitative\", \"field\": \"Attributions\", \"legend\": null, \"scale\": {\"domain\": [-0.07766951189463828, 0.07766951189463828], \"scheme\": \"redyellowgreen\"}, \"sort\": \"ascending\"}, \"text\": {\"type\": \"nominal\", \"field\": \"Token\"}, \"x\": {\"type\": \"quantitative\", \"axis\": null, \"field\": \"x\", \"sort\": null}, \"y\": {\"value\": 0}}, \"title\": \"Interactions with too\", \"width\": 507.144}, {\"data\": {\"name\": \"data-6d58948b1740da53e7994e2a6bd3584a\"}, \"mark\": {\"type\": \"text\", \"align\": \"left\", \"color\": \"black\", \"font\": \"arial\", \"size\": 20}, \"encoding\": {\"color\": {\"type\": \"quantitative\", \"field\": \"Attributions\", \"legend\": null, \"scale\": {\"domain\": [-0.017680369730903284, 0.017680369730903284], \"scheme\": \"redyellowgreen\"}, \"sort\": \"ascending\"}, \"text\": {\"type\": \"nominal\", \"field\": \"Token\"}, \"x\": {\"type\": \"quantitative\", \"axis\": null, \"field\": \"x\", \"sort\": null}, \"y\": {\"value\": 0}}, \"title\": \"Interactions with much\", \"width\": 507.144}, {\"data\": {\"name\": \"data-80a91a6b5416878beed91be0dc7ffa98\"}, \"mark\": {\"type\": \"text\", \"align\": \"left\", \"color\": \"black\", \"font\": \"arial\", \"size\": 20}, \"encoding\": {\"color\": {\"type\": \"quantitative\", \"field\": \"Attributions\", \"legend\": null, \"scale\": {\"domain\": [-0.0889947579668665, 0.0889947579668665], \"scheme\": \"redyellowgreen\"}, \"sort\": \"ascending\"}, \"text\": {\"type\": \"nominal\", \"field\": \"Token\"}, \"x\": {\"type\": \"quantitative\", \"axis\": null, \"field\": \"x\", \"sort\": null}, \"y\": {\"value\": 0}}, \"title\": \"Interactions with of\", \"width\": 507.144}, {\"data\": {\"name\": \"data-964367e4e76ba685288fbb7b017ab2e7\"}, \"mark\": {\"type\": \"text\", \"align\": \"left\", \"color\": \"black\", \"font\": \"arial\", \"size\": 20}, \"encoding\": {\"color\": {\"type\": \"quantitative\", \"field\": \"Attributions\", \"legend\": null, \"scale\": {\"domain\": [-0.012018232387667208, 0.012018232387667208], \"scheme\": \"redyellowgreen\"}, \"sort\": \"ascending\"}, \"text\": {\"type\": \"nominal\", \"field\": \"Token\"}, \"x\": {\"type\": \"quantitative\", \"axis\": null, \"field\": \"x\", \"sort\": null}, \"y\": {\"value\": 0}}, \"title\": \"Interactions with it\", \"width\": 507.144}, {\"data\": {\"name\": \"data-5b83200ed7543d7dc63b95e818d29d4b\"}, \"mark\": {\"type\": \"text\", \"align\": \"left\", \"color\": \"black\", \"font\": \"arial\", \"size\": 20}, \"encoding\": {\"color\": {\"type\": \"quantitative\", \"field\": \"Attributions\", \"legend\": null, \"scale\": {\"domain\": [-0.017794322346019544, 0.017794322346019544], \"scheme\": \"redyellowgreen\"}, \"sort\": \"ascending\"}, \"text\": {\"type\": \"nominal\", \"field\": \"Token\"}, \"x\": {\"type\": \"quantitative\", \"axis\": null, \"field\": \"x\", \"sort\": null}, \"y\": {\"value\": 0}}, \"title\": \"Interactions with feels\", \"width\": 507.144}, {\"data\": {\"name\": \"data-231e35eae43d0cc0e1b664f3a690f275\"}, \"mark\": {\"type\": \"text\", \"align\": \"left\", \"color\": \"black\", \"font\": \"arial\", \"size\": 20}, \"encoding\": {\"color\": {\"type\": \"quantitative\", \"field\": \"Attributions\", \"legend\": null, \"scale\": {\"domain\": [-0.06068744013481574, 0.06068744013481574], \"scheme\": \"redyellowgreen\"}, \"sort\": \"ascending\"}, \"text\": {\"type\": \"nominal\", \"field\": \"Token\"}, \"x\": {\"type\": \"quantitative\", \"axis\": null, \"field\": \"x\", \"sort\": null}, \"y\": {\"value\": 0}}, \"title\": \"Interactions with unfocused\", \"width\": 507.144}, {\"data\": {\"name\": \"data-949e7606ef7867538dc0f5af556dc38e\"}, \"mark\": {\"type\": \"text\", \"align\": \"left\", \"color\": \"black\", \"font\": \"arial\", \"size\": 20}, \"encoding\": {\"color\": {\"type\": \"quantitative\", \"field\": \"Attributions\", \"legend\": null, \"scale\": {\"domain\": [-0.13523551231756067, 0.13523551231756067], \"scheme\": \"redyellowgreen\"}, \"sort\": \"ascending\"}, \"text\": {\"type\": \"nominal\", \"field\": \"Token\"}, \"x\": {\"type\": \"quantitative\", \"axis\": null, \"field\": \"x\", \"sort\": null}, \"y\": {\"value\": 0}}, \"title\": \"Interactions with and\", \"width\": 507.144}, {\"data\": {\"name\": \"data-2f1c16727d68dc1cc80bafca5a042eb2\"}, \"mark\": {\"type\": \"text\", \"align\": \"left\", \"color\": \"black\", \"font\": \"arial\", \"size\": 20}, \"encoding\": {\"color\": {\"type\": \"quantitative\", \"field\": \"Attributions\", \"legend\": null, \"scale\": {\"domain\": [-0.1968835389190514, 0.1968835389190514], \"scheme\": \"redyellowgreen\"}, \"sort\": \"ascending\"}, \"text\": {\"type\": \"nominal\", \"field\": \"Token\"}, \"x\": {\"type\": \"quantitative\", \"axis\": null, \"field\": \"x\", \"sort\": null}, \"y\": {\"value\": 0}}, \"title\": \"Interactions with underdeveloped\", \"width\": 507.144}], \"resolve\": {\"scale\": {\"color\": \"independent\"}}, \"$schema\": \"https://vega.github.io/schema/vega-lite/v4.0.0.json\", \"datasets\": {\"data-c4748fa5b609635d6d269769183b472c\": [{\"Token\": \"too\", \"Attributions\": 0.0, \"x\": 0.0, \"size\": 0.0}, {\"Token\": \"much\", \"Attributions\": 0.01874300836928535, \"x\": 1.662, \"size\": 0.01874300836928535}, {\"Token\": \"of\", \"Attributions\": 0.014148242202697085, \"x\": 4.343999999999999, \"size\": 0.014148242202697085}, {\"Token\": \"it\", \"Attributions\": 0.0228560517096102, \"x\": 5.436, \"size\": 0.0228560517096102}, {\"Token\": \"feels\", \"Attributions\": 0.0023232105027024435, \"x\": 6.18, \"size\": 0.0023232105027024435}, {\"Token\": \"unfocused\", \"Attributions\": 0.04628435512235941, \"x\": 8.574, \"size\": 0.04628435512235941}, {\"Token\": \"and\", \"Attributions\": -0.007418274532450127, \"x\": 13.536, \"size\": 0.007418274532450127}, {\"Token\": \"underdeveloped\", \"Attributions\": -0.07766951189463828, \"x\": 15.468, \"size\": 0.07766951189463828}], \"data-6d58948b1740da53e7994e2a6bd3584a\": [{\"Token\": \"too\", \"Attributions\": -0.015385864247774607, \"x\": 0.0, \"size\": 0.015385864247774607}, {\"Token\": \"much\", \"Attributions\": 0.0, \"x\": 1.662, \"size\": 0.0}, {\"Token\": \"of\", \"Attributions\": 0.0026174531267960303, \"x\": 4.343999999999999, \"size\": 0.0026174531267960303}, {\"Token\": \"it\", \"Attributions\": -0.0020460766528601765, \"x\": 5.436, \"size\": 0.0020460766528601765}, {\"Token\": \"feels\", \"Attributions\": -0.003732069775508457, \"x\": 6.18, \"size\": 0.003732069775508457}, {\"Token\": \"unfocused\", \"Attributions\": 0.009416158037418795, \"x\": 8.574, \"size\": 0.009416158037418795}, {\"Token\": \"and\", \"Attributions\": 0.002790252740430482, \"x\": 13.536, \"size\": 0.002790252740430482}, {\"Token\": \"underdeveloped\", \"Attributions\": -0.017680369730903284, \"x\": 15.468, \"size\": 0.017680369730903284}], \"data-80a91a6b5416878beed91be0dc7ffa98\": [{\"Token\": \"too\", \"Attributions\": 0.008082729703282596, \"x\": 0.0, \"size\": 0.008082729703282596}, {\"Token\": \"much\", \"Attributions\": 0.035389888577125106, \"x\": 1.662, \"size\": 0.035389888577125106}, {\"Token\": \"of\", \"Attributions\": 0.0, \"x\": 4.343999999999999, \"size\": 0.0}, {\"Token\": \"it\", \"Attributions\": 0.035805374718021, \"x\": 5.436, \"size\": 0.035805374718021}, {\"Token\": \"feels\", \"Attributions\": 0.0051921143236212195, \"x\": 6.18, \"size\": 0.0051921143236212195}, {\"Token\": \"unfocused\", \"Attributions\": 0.0889947579668665, \"x\": 8.574, \"size\": 0.0889947579668665}, {\"Token\": \"and\", \"Attributions\": 0.008678831186609857, \"x\": 13.536, \"size\": 0.008678831186609857}, {\"Token\": \"underdeveloped\", \"Attributions\": -0.045163296251388665, \"x\": 15.468, \"size\": 0.045163296251388665}], \"data-964367e4e76ba685288fbb7b017ab2e7\": [{\"Token\": \"too\", \"Attributions\": 0.004845183116540337, \"x\": 0.0, \"size\": 0.004845183116540337}, {\"Token\": \"much\", \"Attributions\": 0.0043232352362200435, \"x\": 1.662, \"size\": 0.0043232352362200435}, {\"Token\": \"of\", \"Attributions\": 0.012018232387667208, \"x\": 4.343999999999999, \"size\": 0.012018232387667208}, {\"Token\": \"it\", \"Attributions\": 0.0, \"x\": 5.436, \"size\": 0.0}, {\"Token\": \"feels\", \"Attributions\": -0.004480022911205414, \"x\": 6.18, \"size\": 0.004480022911205414}, {\"Token\": \"unfocused\", \"Attributions\": -0.008033500193879037, \"x\": 8.574, \"size\": 0.008033500193879037}, {\"Token\": \"and\", \"Attributions\": -0.003019066544856287, \"x\": 13.536, \"size\": 0.003019066544856287}, {\"Token\": \"underdeveloped\", \"Attributions\": 0.0066743965480294066, \"x\": 15.468, \"size\": 0.0066743965480294066}], \"data-5b83200ed7543d7dc63b95e818d29d4b\": [{\"Token\": \"too\", \"Attributions\": -0.01051780801307555, \"x\": 0.0, \"size\": 0.01051780801307555}, {\"Token\": \"much\", \"Attributions\": 0.002799518903466663, \"x\": 1.662, \"size\": 0.002799518903466663}, {\"Token\": \"of\", \"Attributions\": 0.0010447521047017307, \"x\": 4.343999999999999, \"size\": 0.0010447521047017307}, {\"Token\": \"it\", \"Attributions\": 0.011752037973238597, \"x\": 5.436, \"size\": 0.011752037973238597}, {\"Token\": \"feels\", \"Attributions\": 0.0, \"x\": 6.18, \"size\": 0.0}, {\"Token\": \"unfocused\", \"Attributions\": 0.0055322833752733105, \"x\": 8.574, \"size\": 0.0055322833752733105}, {\"Token\": \"and\", \"Attributions\": -0.000909615364485394, \"x\": 13.536, \"size\": 0.000909615364485394}, {\"Token\": \"underdeveloped\", \"Attributions\": -0.017794322346019544, \"x\": 15.468, \"size\": 0.017794322346019544}], \"data-231e35eae43d0cc0e1b664f3a690f275\": [{\"Token\": \"too\", \"Attributions\": 0.040085305614424624, \"x\": 0.0, \"size\": 0.040085305614424624}, {\"Token\": \"much\", \"Attributions\": 0.06068744013481574, \"x\": 1.662, \"size\": 0.06068744013481574}, {\"Token\": \"of\", \"Attributions\": 0.058346692535278626, \"x\": 4.343999999999999, \"size\": 0.058346692535278626}, {\"Token\": \"it\", \"Attributions\": 0.05111386935696061, \"x\": 5.436, \"size\": 0.05111386935696061}, {\"Token\": \"feels\", \"Attributions\": 0.013821080840878335, \"x\": 6.18, \"size\": 0.013821080840878335}, {\"Token\": \"unfocused\", \"Attributions\": 0.0, \"x\": 8.574, \"size\": 0.0}, {\"Token\": \"and\", \"Attributions\": 0.02289138555598954, \"x\": 13.536, \"size\": 0.02289138555598954}, {\"Token\": \"underdeveloped\", \"Attributions\": -0.02631347037580971, \"x\": 15.468, \"size\": 0.02631347037580971}], \"data-949e7606ef7867538dc0f5af556dc38e\": [{\"Token\": \"too\", \"Attributions\": 0.016483059686681435, \"x\": 0.0, \"size\": 0.016483059686681435}, {\"Token\": \"much\", \"Attributions\": 0.0836841836775047, \"x\": 1.662, \"size\": 0.0836841836775047}, {\"Token\": \"of\", \"Attributions\": 0.06481548578921277, \"x\": 4.343999999999999, \"size\": 0.06481548578921277}, {\"Token\": \"it\", \"Attributions\": 0.061891334791572564, \"x\": 5.436, \"size\": 0.061891334791572564}, {\"Token\": \"feels\", \"Attributions\": 0.013872363575237856, \"x\": 6.18, \"size\": 0.013872363575237856}, {\"Token\": \"unfocused\", \"Attributions\": 0.13523551231756067, \"x\": 8.574, \"size\": 0.13523551231756067}, {\"Token\": \"and\", \"Attributions\": 0.0, \"x\": 13.536, \"size\": 0.0}, {\"Token\": \"underdeveloped\", \"Attributions\": -0.10645969006972016, \"x\": 15.468, \"size\": 0.10645969006972016}], \"data-2f1c16727d68dc1cc80bafca5a042eb2\": [{\"Token\": \"too\", \"Attributions\": 0.031758348053813286, \"x\": 0.0, \"size\": 0.031758348053813286}, {\"Token\": \"much\", \"Attributions\": 0.11574614210961927, \"x\": 1.662, \"size\": 0.11574614210961927}, {\"Token\": \"of\", \"Attributions\": 0.13448413701633055, \"x\": 4.343999999999999, \"size\": 0.13448413701633055}, {\"Token\": \"it\", \"Attributions\": 0.10084907641194414, \"x\": 5.436, \"size\": 0.10084907641194414}, {\"Token\": \"feels\", \"Attributions\": 0.0009675792472345164, \"x\": 6.18, \"size\": 0.0009675792472345164}, {\"Token\": \"unfocused\", \"Attributions\": 0.1968835389190514, \"x\": 8.574, \"size\": 0.1968835389190514}, {\"Token\": \"and\", \"Attributions\": -0.0034755347115809484, \"x\": 13.536, \"size\": 0.0034755347115809484}, {\"Token\": \"underdeveloped\", \"Attributions\": 0.0, \"x\": 15.468, \"size\": 0.0}]}}, {\"mode\": \"vega-lite\"});\n",
       "</script>"
      ],
      "text/plain": [
       "alt.VConcatChart(...)"
      ]
     },
     "execution_count": 36,
     "metadata": {},
     "output_type": "execute_result"
    }
   ],
   "source": [
    "i = 1\n",
    "batch_tokens = tokenizer.convert_ids_to_tokens(batch_ids[i].numpy())\n",
    "summed_interactions, summed_tokens = sum_interactions_over_tokens(interactions[i], batch_tokens)\n",
    "interaction_plot(summed_interactions, summed_tokens)"
   ]
  },
  {
   "cell_type": "code",
   "execution_count": 37,
   "metadata": {},
   "outputs": [
    {
     "data": {
      "text/html": [
       "\n",
       "<div id=\"altair-viz-13\"></div>\n",
       "<script type=\"text/javascript\">\n",
       "  (function(spec, embedOpt){\n",
       "    const outputDiv = document.getElementById(\"altair-viz-13\");\n",
       "    const paths = {\n",
       "      \"vega\": \"https://cdn.jsdelivr.net/npm//vega@5?noext\",\n",
       "      \"vega-lib\": \"https://cdn.jsdelivr.net/npm//vega-lib?noext\",\n",
       "      \"vega-lite\": \"https://cdn.jsdelivr.net/npm//vega-lite@4.0.0?noext\",\n",
       "      \"vega-embed\": \"https://cdn.jsdelivr.net/npm//vega-embed@6?noext\",\n",
       "    };\n",
       "\n",
       "    function loadScript(lib) {\n",
       "      return new Promise(function(resolve, reject) {\n",
       "        var s = document.createElement('script');\n",
       "        s.src = paths[lib];\n",
       "        s.async = true;\n",
       "        s.onload = () => resolve(paths[lib]);\n",
       "        s.onerror = () => reject(`Error loading script: ${paths[lib]}`);\n",
       "        document.getElementsByTagName(\"head\")[0].appendChild(s);\n",
       "      });\n",
       "    }\n",
       "\n",
       "    function showError(err) {\n",
       "      outputDiv.innerHTML = `<div class=\"error\" style=\"color:red;\">${err}</div>`;\n",
       "      throw err;\n",
       "    }\n",
       "\n",
       "    function displayChart(vegaEmbed) {\n",
       "      vegaEmbed(outputDiv, spec, embedOpt)\n",
       "        .catch(err => showError(`Javascript Error: ${err.message}<br>This usually means there's a typo in your chart specification. See the javascript console for the full traceback.`));\n",
       "    }\n",
       "\n",
       "    if(typeof define === \"function\" && define.amd) {\n",
       "      requirejs.config({paths});\n",
       "      require([\"vega-embed\"], displayChart, err => showError(`Error loading script: ${err.message}`));\n",
       "    } else if (typeof vegaEmbed === \"function\") {\n",
       "      displayChart(vegaEmbed);\n",
       "    } else {\n",
       "      loadScript(\"vega\")\n",
       "        .then(() => loadScript(\"vega-lite\"))\n",
       "        .then(() => loadScript(\"vega-embed\"))\n",
       "        .catch(showError)\n",
       "        .then(() => displayChart(vegaEmbed));\n",
       "    }\n",
       "  })({\"config\": {\"view\": {\"continuousWidth\": 400, \"continuousHeight\": 300, \"opacity\": 0.0}}, \"vconcat\": [{\"data\": {\"name\": \"data-dcf3e9ff2da612ac341170ab14b29147\"}, \"mark\": {\"type\": \"text\", \"align\": \"left\", \"color\": \"black\", \"font\": \"arial\", \"size\": 20}, \"encoding\": {\"color\": {\"type\": \"quantitative\", \"field\": \"Attributions\", \"legend\": null, \"scale\": {\"domain\": [-0.02210046741655197, 0.02210046741655197], \"scheme\": \"redyellowgreen\"}, \"sort\": \"ascending\"}, \"text\": {\"type\": \"nominal\", \"field\": \"Token\"}, \"x\": {\"type\": \"quantitative\", \"axis\": null, \"field\": \"x\", \"sort\": null}, \"y\": {\"value\": 0}}, \"title\": \"Interactions with prurient\", \"width\": 673.464}, {\"data\": {\"name\": \"data-a12d8031bbef9741ba7209b19fdbb512\"}, \"mark\": {\"type\": \"text\", \"align\": \"left\", \"color\": \"black\", \"font\": \"arial\", \"size\": 20}, \"encoding\": {\"color\": {\"type\": \"quantitative\", \"field\": \"Attributions\", \"legend\": null, \"scale\": {\"domain\": [-0.021812412432529068, 0.021812412432529068], \"scheme\": \"redyellowgreen\"}, \"sort\": \"ascending\"}, \"text\": {\"type\": \"nominal\", \"field\": \"Token\"}, \"x\": {\"type\": \"quantitative\", \"axis\": null, \"field\": \"x\", \"sort\": null}, \"y\": {\"value\": 0}}, \"title\": \"Interactions with playthings\", \"width\": 673.464}, {\"data\": {\"name\": \"data-07bdc74f9348e28f5dedd5a42999f548\"}, \"mark\": {\"type\": \"text\", \"align\": \"left\", \"color\": \"black\", \"font\": \"arial\", \"size\": 20}, \"encoding\": {\"color\": {\"type\": \"quantitative\", \"field\": \"Attributions\", \"legend\": null, \"scale\": {\"domain\": [-0.009277727101889094, 0.009277727101889094], \"scheme\": \"redyellowgreen\"}, \"sort\": \"ascending\"}, \"text\": {\"type\": \"nominal\", \"field\": \"Token\"}, \"x\": {\"type\": \"quantitative\", \"axis\": null, \"field\": \"x\", \"sort\": null}, \"y\": {\"value\": 0}}, \"title\": \"Interactions with aside\", \"width\": 673.464}, {\"data\": {\"name\": \"data-a676c7bc44a381805313dd2848e323ef\"}, \"mark\": {\"type\": \"text\", \"align\": \"left\", \"color\": \"black\", \"font\": \"arial\", \"size\": 20}, \"encoding\": {\"color\": {\"type\": \"quantitative\", \"field\": \"Attributions\", \"legend\": null, \"scale\": {\"domain\": [-0.017384582678326727, 0.017384582678326727], \"scheme\": \"redyellowgreen\"}, \"sort\": \"ascending\"}, \"text\": {\"type\": \"nominal\", \"field\": \"Token\"}, \"x\": {\"type\": \"quantitative\", \"axis\": null, \"field\": \"x\", \"sort\": null}, \"y\": {\"value\": 0}}, \"title\": \"Interactions with ,\", \"width\": 673.464}, {\"data\": {\"name\": \"data-dfac8fabce3c860e1137a1d111d91266\"}, \"mark\": {\"type\": \"text\", \"align\": \"left\", \"color\": \"black\", \"font\": \"arial\", \"size\": 20}, \"encoding\": {\"color\": {\"type\": \"quantitative\", \"field\": \"Attributions\", \"legend\": null, \"scale\": {\"domain\": [-0.04037649309114053, 0.04037649309114053], \"scheme\": \"redyellowgreen\"}, \"sort\": \"ascending\"}, \"text\": {\"type\": \"nominal\", \"field\": \"Token\"}, \"x\": {\"type\": \"quantitative\", \"axis\": null, \"field\": \"x\", \"sort\": null}, \"y\": {\"value\": 0}}, \"title\": \"Interactions with there's\", \"width\": 673.464}, {\"data\": {\"name\": \"data-1afea100efc5ab725a82e55e988da3ba\"}, \"mark\": {\"type\": \"text\", \"align\": \"left\", \"color\": \"black\", \"font\": \"arial\", \"size\": 20}, \"encoding\": {\"color\": {\"type\": \"quantitative\", \"field\": \"Attributions\", \"legend\": null, \"scale\": {\"domain\": [-0.009431690811475116, 0.009431690811475116], \"scheme\": \"redyellowgreen\"}, \"sort\": \"ascending\"}, \"text\": {\"type\": \"nominal\", \"field\": \"Token\"}, \"x\": {\"type\": \"quantitative\", \"axis\": null, \"field\": \"x\", \"sort\": null}, \"y\": {\"value\": 0}}, \"title\": \"Interactions with little\", \"width\": 673.464}, {\"data\": {\"name\": \"data-12b0d9bfc490ad3d196329b05aec7594\"}, \"mark\": {\"type\": \"text\", \"align\": \"left\", \"color\": \"black\", \"font\": \"arial\", \"size\": 20}, \"encoding\": {\"color\": {\"type\": \"quantitative\", \"field\": \"Attributions\", \"legend\": null, \"scale\": {\"domain\": [-0.016602480716032056, 0.016602480716032056], \"scheme\": \"redyellowgreen\"}, \"sort\": \"ascending\"}, \"text\": {\"type\": \"nominal\", \"field\": \"Token\"}, \"x\": {\"type\": \"quantitative\", \"axis\": null, \"field\": \"x\", \"sort\": null}, \"y\": {\"value\": 0}}, \"title\": \"Interactions with to\", \"width\": 673.464}, {\"data\": {\"name\": \"data-d23d219796b2adde79c165f32ef15860\"}, \"mark\": {\"type\": \"text\", \"align\": \"left\", \"color\": \"black\", \"font\": \"arial\", \"size\": 20}, \"encoding\": {\"color\": {\"type\": \"quantitative\", \"field\": \"Attributions\", \"legend\": null, \"scale\": {\"domain\": [-0.011879230179759531, 0.011879230179759531], \"scheme\": \"redyellowgreen\"}, \"sort\": \"ascending\"}, \"text\": {\"type\": \"nominal\", \"field\": \"Token\"}, \"x\": {\"type\": \"quantitative\", \"axis\": null, \"field\": \"x\", \"sort\": null}, \"y\": {\"value\": 0}}, \"title\": \"Interactions with love\", \"width\": 673.464}, {\"data\": {\"name\": \"data-a7566b57fc1ea99c55ca150c22576b81\"}, \"mark\": {\"type\": \"text\", \"align\": \"left\", \"color\": \"black\", \"font\": \"arial\", \"size\": 20}, \"encoding\": {\"color\": {\"type\": \"quantitative\", \"field\": \"Attributions\", \"legend\": null, \"scale\": {\"domain\": [-0.0135091112445637, 0.0135091112445637], \"scheme\": \"redyellowgreen\"}, \"sort\": \"ascending\"}, \"text\": {\"type\": \"nominal\", \"field\": \"Token\"}, \"x\": {\"type\": \"quantitative\", \"axis\": null, \"field\": \"x\", \"sort\": null}, \"y\": {\"value\": 0}}, \"title\": \"Interactions with about\", \"width\": 673.464}, {\"data\": {\"name\": \"data-54c60d8fae6582dab9af675389d4d0bc\"}, \"mark\": {\"type\": \"text\", \"align\": \"left\", \"color\": \"black\", \"font\": \"arial\", \"size\": 20}, \"encoding\": {\"color\": {\"type\": \"quantitative\", \"field\": \"Attributions\", \"legend\": null, \"scale\": {\"domain\": [-0.0233565336331829, 0.0233565336331829], \"scheme\": \"redyellowgreen\"}, \"sort\": \"ascending\"}, \"text\": {\"type\": \"nominal\", \"field\": \"Token\"}, \"x\": {\"type\": \"quantitative\", \"axis\": null, \"field\": \"x\", \"sort\": null}, \"y\": {\"value\": 0}}, \"title\": \"Interactions with this\", \"width\": 673.464}, {\"data\": {\"name\": \"data-b397d61c14e4cca221c9afd7e9d4c1d3\"}, \"mark\": {\"type\": \"text\", \"align\": \"left\", \"color\": \"black\", \"font\": \"arial\", \"size\": 20}, \"encoding\": {\"color\": {\"type\": \"quantitative\", \"field\": \"Attributions\", \"legend\": null, \"scale\": {\"domain\": [-0.02398150063517944, 0.02398150063517944], \"scheme\": \"redyellowgreen\"}, \"sort\": \"ascending\"}, \"text\": {\"type\": \"nominal\", \"field\": \"Token\"}, \"x\": {\"type\": \"quantitative\", \"axis\": null, \"field\": \"x\", \"sort\": null}, \"y\": {\"value\": 0}}, \"title\": \"Interactions with english\", \"width\": 673.464}, {\"data\": {\"name\": \"data-639ffe5aeaa95597fa7358ae969118d0\"}, \"mark\": {\"type\": \"text\", \"align\": \"left\", \"color\": \"black\", \"font\": \"arial\", \"size\": 20}, \"encoding\": {\"color\": {\"type\": \"quantitative\", \"field\": \"Attributions\", \"legend\": null, \"scale\": {\"domain\": [-0.049445044012299724, 0.049445044012299724], \"scheme\": \"redyellowgreen\"}, \"sort\": \"ascending\"}, \"text\": {\"type\": \"nominal\", \"field\": \"Token\"}, \"x\": {\"type\": \"quantitative\", \"axis\": null, \"field\": \"x\", \"sort\": null}, \"y\": {\"value\": 0}}, \"title\": \"Interactions with trifle\", \"width\": 673.464}], \"resolve\": {\"scale\": {\"color\": \"independent\"}}, \"$schema\": \"https://vega.github.io/schema/vega-lite/v4.0.0.json\", \"datasets\": {\"data-dcf3e9ff2da612ac341170ab14b29147\": [{\"Token\": \"prurient\", \"Attributions\": 0.0, \"x\": 0.0, \"size\": 0.0}, {\"Token\": \"playthings\", \"Attributions\": -0.02001486329575613, \"x\": 3.744, \"size\": 0.02001486329575613}, {\"Token\": \"aside\", \"Attributions\": 0.00220935126820052, \"x\": 8.58, \"size\": 0.00220935126820052}, {\"Token\": \",\", \"Attributions\": 0.003713319016195963, \"x\": 11.244, \"size\": 0.003713319016195963}, {\"Token\": \"there's\", \"Attributions\": 0.010880564212506084, \"x\": 11.766, \"size\": 0.010880564212506084}, {\"Token\": \"little\", \"Attributions\": -0.00678401547893883, \"x\": 15.09, \"size\": 0.00678401547893883}, {\"Token\": \"to\", \"Attributions\": -0.0072289155319646015, \"x\": 17.148, \"size\": 0.0072289155319646015}, {\"Token\": \"love\", \"Attributions\": 0.0015332443915161839, \"x\": 18.24, \"size\": 0.0015332443915161839}, {\"Token\": \"about\", \"Attributions\": 0.0048520077476505875, \"x\": 20.334, \"size\": 0.0048520077476505875}, {\"Token\": \"this\", \"Attributions\": 0.00164321684678708, \"x\": 23.136, \"size\": 0.00164321684678708}, {\"Token\": \"english\", \"Attributions\": -0.013597826440466091, \"x\": 24.96, \"size\": 0.013597826440466091}, {\"Token\": \"trifle\", \"Attributions\": -0.02210046741655197, \"x\": 28.416, \"size\": 0.02210046741655197}], \"data-a12d8031bbef9741ba7209b19fdbb512\": [{\"Token\": \"prurient\", \"Attributions\": 0.00876997954593285, \"x\": 0.0, \"size\": 0.00876997954593285}, {\"Token\": \"playthings\", \"Attributions\": 0.0, \"x\": 3.744, \"size\": 0.0}, {\"Token\": \"aside\", \"Attributions\": -0.0010553158463871017, \"x\": 8.58, \"size\": 0.0010553158463871017}, {\"Token\": \",\", \"Attributions\": 0.005958807367743931, \"x\": 11.244, \"size\": 0.005958807367743931}, {\"Token\": \"there's\", \"Attributions\": 0.005026227751240223, \"x\": 11.766, \"size\": 0.005026227751240223}, {\"Token\": \"little\", \"Attributions\": -0.007313702514681234, \"x\": 15.09, \"size\": 0.007313702514681234}, {\"Token\": \"to\", \"Attributions\": -0.004588801341386242, \"x\": 17.148, \"size\": 0.004588801341386242}, {\"Token\": \"love\", \"Attributions\": -0.0040917059007493616, \"x\": 18.24, \"size\": 0.0040917059007493616}, {\"Token\": \"about\", \"Attributions\": -0.0036219691273567016, \"x\": 20.334, \"size\": 0.0036219691273567016}, {\"Token\": \"this\", \"Attributions\": -0.00584032276478034, \"x\": 23.136, \"size\": 0.00584032276478034}, {\"Token\": \"english\", \"Attributions\": -0.021812412432529068, \"x\": 24.96, \"size\": 0.021812412432529068}, {\"Token\": \"trifle\", \"Attributions\": -0.012636313929048595, \"x\": 28.416, \"size\": 0.012636313929048595}], \"data-07bdc74f9348e28f5dedd5a42999f548\": [{\"Token\": \"prurient\", \"Attributions\": -0.0016479491531036497, \"x\": 0.0, \"size\": 0.0016479491531036497}, {\"Token\": \"playthings\", \"Attributions\": -0.001742096948605414, \"x\": 3.744, \"size\": 0.001742096948605414}, {\"Token\": \"aside\", \"Attributions\": 0.0, \"x\": 8.58, \"size\": 0.0}, {\"Token\": \",\", \"Attributions\": 0.0014252826411466108, \"x\": 11.244, \"size\": 0.0014252826411466108}, {\"Token\": \"there's\", \"Attributions\": 0.002144294515635271, \"x\": 11.766, \"size\": 0.002144294515635271}, {\"Token\": \"little\", \"Attributions\": -0.0009129333160009494, \"x\": 15.09, \"size\": 0.0009129333160009494}, {\"Token\": \"to\", \"Attributions\": -0.0021663272816894313, \"x\": 17.148, \"size\": 0.0021663272816894313}, {\"Token\": \"love\", \"Attributions\": 0.0011004766586571804, \"x\": 18.24, \"size\": 0.0011004766586571804}, {\"Token\": \"about\", \"Attributions\": -0.002402003774642428, \"x\": 20.334, \"size\": 0.002402003774642428}, {\"Token\": \"this\", \"Attributions\": -0.0017710918292199182, \"x\": 23.136, \"size\": 0.0017710918292199182}, {\"Token\": \"english\", \"Attributions\": -0.009277727101889094, \"x\": 24.96, \"size\": 0.009277727101889094}, {\"Token\": \"trifle\", \"Attributions\": -0.006803993621656775, \"x\": 28.416, \"size\": 0.006803993621656775}], \"data-a676c7bc44a381805313dd2848e323ef\": [{\"Token\": \"prurient\", \"Attributions\": 0.01588409632788851, \"x\": 0.0, \"size\": 0.01588409632788851}, {\"Token\": \"playthings\", \"Attributions\": 0.017384582678326727, \"x\": 3.744, \"size\": 0.017384582678326727}, {\"Token\": \"aside\", \"Attributions\": 0.0004905778662996604, \"x\": 8.58, \"size\": 0.0004905778662996604}, {\"Token\": \",\", \"Attributions\": 0.0, \"x\": 11.244, \"size\": 0.0}, {\"Token\": \"there's\", \"Attributions\": 0.00799627530894339, \"x\": 11.766, \"size\": 0.00799627530894339}, {\"Token\": \"little\", \"Attributions\": -0.010107231098944545, \"x\": 15.09, \"size\": 0.010107231098944545}, {\"Token\": \"to\", \"Attributions\": -0.001297035526040545, \"x\": 17.148, \"size\": 0.001297035526040545}, {\"Token\": \"love\", \"Attributions\": -0.0063860668942307105, \"x\": 18.24, \"size\": 0.0063860668942307105}, {\"Token\": \"about\", \"Attributions\": -0.004467808093825276, \"x\": 20.334, \"size\": 0.004467808093825276}, {\"Token\": \"this\", \"Attributions\": -0.0034528364586963066, \"x\": 23.136, \"size\": 0.0034528364586963066}, {\"Token\": \"english\", \"Attributions\": 0.0014143345948926223, \"x\": 24.96, \"size\": 0.0014143345948926223}, {\"Token\": \"trifle\", \"Attributions\": 0.008601486674124812, \"x\": 28.416, \"size\": 0.008601486674124812}], \"data-dfac8fabce3c860e1137a1d111d91266\": [{\"Token\": \"prurient\", \"Attributions\": 0.038779112015615, \"x\": 0.0, \"size\": 0.038779112015615}, {\"Token\": \"playthings\", \"Attributions\": 0.04037649309114053, \"x\": 3.744, \"size\": 0.04037649309114053}, {\"Token\": \"aside\", \"Attributions\": 0.004432909953464006, \"x\": 8.58, \"size\": 0.004432909953464006}, {\"Token\": \",\", \"Attributions\": 0.0060201821951248865, \"x\": 11.244, \"size\": 0.0060201821951248865}, {\"Token\": \"there's\", \"Attributions\": 0.0, \"x\": 11.766, \"size\": 0.0}, {\"Token\": \"little\", \"Attributions\": -0.01708017340639626, \"x\": 15.09, \"size\": 0.01708017340639626}, {\"Token\": \"to\", \"Attributions\": 0.02356584229196413, \"x\": 17.148, \"size\": 0.02356584229196413}, {\"Token\": \"love\", \"Attributions\": -0.00793156012913129, \"x\": 18.24, \"size\": 0.00793156012913129}, {\"Token\": \"about\", \"Attributions\": 0.0007029827174127744, \"x\": 20.334, \"size\": 0.0007029827174127744}, {\"Token\": \"this\", \"Attributions\": -0.010300343051736898, \"x\": 23.136, \"size\": 0.010300343051736898}, {\"Token\": \"english\", \"Attributions\": -0.018987015483975037, \"x\": 24.96, \"size\": 0.018987015483975037}, {\"Token\": \"trifle\", \"Attributions\": -0.00605558572569293, \"x\": 28.416, \"size\": 0.00605558572569293}], \"data-1afea100efc5ab725a82e55e988da3ba\": [{\"Token\": \"prurient\", \"Attributions\": 0.008415020757893028, \"x\": 0.0, \"size\": 0.008415020757893028}, {\"Token\": \"playthings\", \"Attributions\": 0.007887507386205587, \"x\": 3.744, \"size\": 0.007887507386205587}, {\"Token\": \"aside\", \"Attributions\": 0.003380728472840427, \"x\": 8.58, \"size\": 0.003380728472840427}, {\"Token\": \",\", \"Attributions\": 0.0023830849593494867, \"x\": 11.244, \"size\": 0.0023830849593494867}, {\"Token\": \"there's\", \"Attributions\": -0.009431690811475116, \"x\": 11.766, \"size\": 0.009431690811475116}, {\"Token\": \"little\", \"Attributions\": 0.0, \"x\": 15.09, \"size\": 0.0}, {\"Token\": \"to\", \"Attributions\": -0.0038947472216385704, \"x\": 17.148, \"size\": 0.0038947472216385704}, {\"Token\": \"love\", \"Attributions\": -0.00778705930439854, \"x\": 18.24, \"size\": 0.00778705930439854}, {\"Token\": \"about\", \"Attributions\": 0.005088255688730784, \"x\": 20.334, \"size\": 0.005088255688730784}, {\"Token\": \"this\", \"Attributions\": 0.0018369361814061327, \"x\": 23.136, \"size\": 0.0018369361814061327}, {\"Token\": \"english\", \"Attributions\": -0.001219294899899202, \"x\": 24.96, \"size\": 0.001219294899899202}, {\"Token\": \"trifle\", \"Attributions\": -0.0024561361614189522, \"x\": 28.416, \"size\": 0.0024561361614189522}], \"data-12b0d9bfc490ad3d196329b05aec7594\": [{\"Token\": \"prurient\", \"Attributions\": 0.00801963532179405, \"x\": 0.0, \"size\": 0.00801963532179405}, {\"Token\": \"playthings\", \"Attributions\": 0.01610288323918276, \"x\": 3.744, \"size\": 0.01610288323918276}, {\"Token\": \"aside\", \"Attributions\": -0.00555473992805428, \"x\": 8.58, \"size\": 0.00555473992805428}, {\"Token\": \",\", \"Attributions\": 0.000852724381174229, \"x\": 11.244, \"size\": 0.000852724381174229}, {\"Token\": \"there's\", \"Attributions\": 0.007618404284351801, \"x\": 11.766, \"size\": 0.007618404284351801}, {\"Token\": \"little\", \"Attributions\": -0.016602480716032056, \"x\": 15.09, \"size\": 0.016602480716032056}, {\"Token\": \"to\", \"Attributions\": 0.0, \"x\": 17.148, \"size\": 0.0}, {\"Token\": \"love\", \"Attributions\": -0.010949041858069117, \"x\": 18.24, \"size\": 0.010949041858069117}, {\"Token\": \"about\", \"Attributions\": 0.0032405004748630476, \"x\": 20.334, \"size\": 0.0032405004748630476}, {\"Token\": \"this\", \"Attributions\": -0.005173222406797687, \"x\": 23.136, \"size\": 0.005173222406797687}, {\"Token\": \"english\", \"Attributions\": -0.011966114434200741, \"x\": 24.96, \"size\": 0.011966114434200741}, {\"Token\": \"trifle\", \"Attributions\": -0.004453343349053698, \"x\": 28.416, \"size\": 0.004453343349053698}], \"data-d23d219796b2adde79c165f32ef15860\": [{\"Token\": \"prurient\", \"Attributions\": 0.008831294979607428, \"x\": 0.0, \"size\": 0.008831294979607428}, {\"Token\": \"playthings\", \"Attributions\": 0.01074265643638989, \"x\": 3.744, \"size\": 0.01074265643638989}, {\"Token\": \"aside\", \"Attributions\": 0.003976752613921203, \"x\": 8.58, \"size\": 0.003976752613921203}, {\"Token\": \",\", \"Attributions\": 0.0017751497076831369, \"x\": 11.244, \"size\": 0.0017751497076831369}, {\"Token\": \"there's\", \"Attributions\": -0.004169341508650698, \"x\": 11.766, \"size\": 0.004169341508650698}, {\"Token\": \"little\", \"Attributions\": 0.011879230179759531, \"x\": 15.09, \"size\": 0.011879230179759531}, {\"Token\": \"to\", \"Attributions\": -0.009178286936199096, \"x\": 17.148, \"size\": 0.009178286936199096}, {\"Token\": \"love\", \"Attributions\": 0.0, \"x\": 18.24, \"size\": 0.0}, {\"Token\": \"about\", \"Attributions\": -0.004104155340753412, \"x\": 20.334, \"size\": 0.004104155340753412}, {\"Token\": \"this\", \"Attributions\": -0.0009653706333791429, \"x\": 23.136, \"size\": 0.0009653706333791429}, {\"Token\": \"english\", \"Attributions\": -0.0008589897526567452, \"x\": 24.96, \"size\": 0.0008589897526567452}, {\"Token\": \"trifle\", \"Attributions\": -0.0010478774933129647, \"x\": 28.416, \"size\": 0.0010478774933129647}], \"data-a7566b57fc1ea99c55ca150c22576b81\": [{\"Token\": \"prurient\", \"Attributions\": 0.007792249637214807, \"x\": 0.0, \"size\": 0.007792249637214807}, {\"Token\": \"playthings\", \"Attributions\": 0.0135091112445637, \"x\": 3.744, \"size\": 0.0135091112445637}, {\"Token\": \"aside\", \"Attributions\": -0.00040534882110788127, \"x\": 8.58, \"size\": 0.00040534882110788127}, {\"Token\": \",\", \"Attributions\": -0.0011656225297868056, \"x\": 11.244, \"size\": 0.0011656225297868056}, {\"Token\": \"there's\", \"Attributions\": 0.0064053653292776, \"x\": 11.766, \"size\": 0.0064053653292776}, {\"Token\": \"little\", \"Attributions\": 0.009548620568136353, \"x\": 15.09, \"size\": 0.009548620568136353}, {\"Token\": \"to\", \"Attributions\": 0.00598134175837965, \"x\": 17.148, \"size\": 0.00598134175837965}, {\"Token\": \"love\", \"Attributions\": -0.0005990463049989522, \"x\": 18.24, \"size\": 0.0005990463049989522}, {\"Token\": \"about\", \"Attributions\": 0.0, \"x\": 20.334, \"size\": 0.0}, {\"Token\": \"this\", \"Attributions\": -0.004101122485676005, \"x\": 23.136, \"size\": 0.004101122485676005}, {\"Token\": \"english\", \"Attributions\": -0.00392416700273973, \"x\": 24.96, \"size\": 0.00392416700273973}, {\"Token\": \"trifle\", \"Attributions\": -0.00039746881540629, \"x\": 28.416, \"size\": 0.00039746881540629}], \"data-54c60d8fae6582dab9af675389d4d0bc\": [{\"Token\": \"prurient\", \"Attributions\": 0.0233565336331829, \"x\": 0.0, \"size\": 0.0233565336331829}, {\"Token\": \"playthings\", \"Attributions\": 0.018178448871430893, \"x\": 3.744, \"size\": 0.018178448871430893}, {\"Token\": \"aside\", \"Attributions\": 0.0013043131467645015, \"x\": 8.58, \"size\": 0.0013043131467645015}, {\"Token\": \",\", \"Attributions\": 0.0011716882974992509, \"x\": 11.244, \"size\": 0.0011716882974992509}, {\"Token\": \"there's\", \"Attributions\": -0.0014227647861524892, \"x\": 11.766, \"size\": 0.0014227647861524892}, {\"Token\": \"little\", \"Attributions\": -0.00886541563091969, \"x\": 15.09, \"size\": 0.00886541563091969}, {\"Token\": \"to\", \"Attributions\": 0.0054721844565492565, \"x\": 17.148, \"size\": 0.0054721844565492565}, {\"Token\": \"love\", \"Attributions\": 0.001151477933631411, \"x\": 18.24, \"size\": 0.001151477933631411}, {\"Token\": \"about\", \"Attributions\": -0.001818428868260877, \"x\": 20.334, \"size\": 0.001818428868260877}, {\"Token\": \"this\", \"Attributions\": 0.0, \"x\": 23.136, \"size\": 0.0}, {\"Token\": \"english\", \"Attributions\": -0.008619080050610817, \"x\": 24.96, \"size\": 0.008619080050610817}, {\"Token\": \"trifle\", \"Attributions\": -2.7121426132103738e-05, \"x\": 28.416, \"size\": 2.7121426132103738e-05}], \"data-b397d61c14e4cca221c9afd7e9d4c1d3\": [{\"Token\": \"prurient\", \"Attributions\": 0.0025083787111382172, \"x\": 0.0, \"size\": 0.0025083787111382172}, {\"Token\": \"playthings\", \"Attributions\": 0.02398150063517944, \"x\": 3.744, \"size\": 0.02398150063517944}, {\"Token\": \"aside\", \"Attributions\": 0.003694866139185447, \"x\": 8.58, \"size\": 0.003694866139185447}, {\"Token\": \",\", \"Attributions\": 0.009690619002675156, \"x\": 11.244, \"size\": 0.009690619002675156}, {\"Token\": \"there's\", \"Attributions\": 0.016708389928280547, \"x\": 11.766, \"size\": 0.016708389928280547}, {\"Token\": \"little\", \"Attributions\": -0.0007329802839384324, \"x\": 15.09, \"size\": 0.0007329802839384324}, {\"Token\": \"to\", \"Attributions\": 6.837958493158183e-05, \"x\": 17.148, \"size\": 6.837958493158183e-05}, {\"Token\": \"love\", \"Attributions\": 0.0022185319746208, \"x\": 18.24, \"size\": 0.0022185319746208}, {\"Token\": \"about\", \"Attributions\": 0.000439315831385203, \"x\": 20.334, \"size\": 0.000439315831385203}, {\"Token\": \"this\", \"Attributions\": 0.0014698735800646977, \"x\": 23.136, \"size\": 0.0014698735800646977}, {\"Token\": \"english\", \"Attributions\": 0.0, \"x\": 24.96, \"size\": 0.0}, {\"Token\": \"trifle\", \"Attributions\": -0.008006211778449412, \"x\": 28.416, \"size\": 0.008006211778449412}], \"data-639ffe5aeaa95597fa7358ae969118d0\": [{\"Token\": \"prurient\", \"Attributions\": 0.025090370707204886, \"x\": 0.0, \"size\": 0.025090370707204886}, {\"Token\": \"playthings\", \"Attributions\": 0.049445044012299724, \"x\": 3.744, \"size\": 0.049445044012299724}, {\"Token\": \"aside\", \"Attributions\": 0.005292742043540362, \"x\": 8.58, \"size\": 0.005292742043540362}, {\"Token\": \",\", \"Attributions\": 0.011619793168172715, \"x\": 11.244, \"size\": 0.011619793168172715}, {\"Token\": \"there's\", \"Attributions\": 0.006362625572679532, \"x\": 11.766, \"size\": 0.006362625572679532}, {\"Token\": \"little\", \"Attributions\": -0.005625005179585229, \"x\": 15.09, \"size\": 0.005625005179585229}, {\"Token\": \"to\", \"Attributions\": 0.00963719567399074, \"x\": 17.148, \"size\": 0.00963719567399074}, {\"Token\": \"love\", \"Attributions\": -0.001746864237538258, \"x\": 18.24, \"size\": 0.001746864237538258}, {\"Token\": \"about\", \"Attributions\": 0.002131823490428804, \"x\": 20.334, \"size\": 0.002131823490428804}, {\"Token\": \"this\", \"Attributions\": 0.0009827489145197632, \"x\": 23.136, \"size\": 0.0009827489145197632}, {\"Token\": \"english\", \"Attributions\": -0.02610734184922079, \"x\": 24.96, \"size\": 0.02610734184922079}, {\"Token\": \"trifle\", \"Attributions\": 0.0, \"x\": 28.416, \"size\": 0.0}]}}, {\"mode\": \"vega-lite\"});\n",
       "</script>"
      ],
      "text/plain": [
       "alt.VConcatChart(...)"
      ]
     },
     "execution_count": 37,
     "metadata": {},
     "output_type": "execute_result"
    }
   ],
   "source": [
    "i = 3\n",
    "try:\n",
    "    interactions = np.load('interactions_{}.npy'.format(i))\n",
    "except FileNotFoundError as e:\n",
    "    interactions = get_interactions_for_index(i)\n",
    "    np.save('interactions_{}.npy'.format(i), interactions)\n",
    "batch_tokens = tokenizer.convert_ids_to_tokens(batch_ids[i].numpy())\n",
    "summed_interactions, summed_tokens = sum_interactions_over_tokens(interactions, batch_tokens)\n",
    "interaction_plot(summed_interactions, summed_tokens)"
   ]
  },
  {
   "cell_type": "code",
   "execution_count": 38,
   "metadata": {},
   "outputs": [
    {
     "data": {
      "text/html": [
       "\n",
       "<div id=\"altair-viz-14\"></div>\n",
       "<script type=\"text/javascript\">\n",
       "  (function(spec, embedOpt){\n",
       "    const outputDiv = document.getElementById(\"altair-viz-14\");\n",
       "    const paths = {\n",
       "      \"vega\": \"https://cdn.jsdelivr.net/npm//vega@5?noext\",\n",
       "      \"vega-lib\": \"https://cdn.jsdelivr.net/npm//vega-lib?noext\",\n",
       "      \"vega-lite\": \"https://cdn.jsdelivr.net/npm//vega-lite@4.0.0?noext\",\n",
       "      \"vega-embed\": \"https://cdn.jsdelivr.net/npm//vega-embed@6?noext\",\n",
       "    };\n",
       "\n",
       "    function loadScript(lib) {\n",
       "      return new Promise(function(resolve, reject) {\n",
       "        var s = document.createElement('script');\n",
       "        s.src = paths[lib];\n",
       "        s.async = true;\n",
       "        s.onload = () => resolve(paths[lib]);\n",
       "        s.onerror = () => reject(`Error loading script: ${paths[lib]}`);\n",
       "        document.getElementsByTagName(\"head\")[0].appendChild(s);\n",
       "      });\n",
       "    }\n",
       "\n",
       "    function showError(err) {\n",
       "      outputDiv.innerHTML = `<div class=\"error\" style=\"color:red;\">${err}</div>`;\n",
       "      throw err;\n",
       "    }\n",
       "\n",
       "    function displayChart(vegaEmbed) {\n",
       "      vegaEmbed(outputDiv, spec, embedOpt)\n",
       "        .catch(err => showError(`Javascript Error: ${err.message}<br>This usually means there's a typo in your chart specification. See the javascript console for the full traceback.`));\n",
       "    }\n",
       "\n",
       "    if(typeof define === \"function\" && define.amd) {\n",
       "      requirejs.config({paths});\n",
       "      require([\"vega-embed\"], displayChart, err => showError(`Error loading script: ${err.message}`));\n",
       "    } else if (typeof vegaEmbed === \"function\") {\n",
       "      displayChart(vegaEmbed);\n",
       "    } else {\n",
       "      loadScript(\"vega\")\n",
       "        .then(() => loadScript(\"vega-lite\"))\n",
       "        .then(() => loadScript(\"vega-embed\"))\n",
       "        .catch(showError)\n",
       "        .then(() => displayChart(vegaEmbed));\n",
       "    }\n",
       "  })({\"config\": {\"view\": {\"continuousWidth\": 400, \"continuousHeight\": 300, \"opacity\": 0.0}}, \"vconcat\": [{\"data\": {\"name\": \"data-27f98752f0c400bb98439e646acb3267\"}, \"mark\": {\"type\": \"text\", \"align\": \"left\", \"color\": \"black\", \"font\": \"arial\", \"size\": 20}, \"encoding\": {\"color\": {\"type\": \"quantitative\", \"field\": \"Attributions\", \"legend\": null, \"scale\": {\"domain\": [-0.03863296138244876, 0.03863296138244876], \"scheme\": \"redyellowgreen\"}, \"sort\": \"ascending\"}, \"text\": {\"type\": \"nominal\", \"field\": \"Token\"}, \"x\": {\"type\": \"quantitative\", \"axis\": null, \"field\": \"x\", \"sort\": null}, \"y\": {\"value\": 0}}, \"title\": \"Interactions with it\", \"width\": 654.192}, {\"data\": {\"name\": \"data-c8df5d1a15a264bcaab6cb49ed7584b6\"}, \"mark\": {\"type\": \"text\", \"align\": \"left\", \"color\": \"black\", \"font\": \"arial\", \"size\": 20}, \"encoding\": {\"color\": {\"type\": \"quantitative\", \"field\": \"Attributions\", \"legend\": null, \"scale\": {\"domain\": [-0.0668788897372513, 0.0668788897372513], \"scheme\": \"redyellowgreen\"}, \"sort\": \"ascending\"}, \"text\": {\"type\": \"nominal\", \"field\": \"Token\"}, \"x\": {\"type\": \"quantitative\", \"axis\": null, \"field\": \"x\", \"sort\": null}, \"y\": {\"value\": 0}}, \"title\": \"Interactions with proves\", \"width\": 654.192}, {\"data\": {\"name\": \"data-fd4830be3fa18af9893f5e8bd2f1420c\"}, \"mark\": {\"type\": \"text\", \"align\": \"left\", \"color\": \"black\", \"font\": \"arial\", \"size\": 20}, \"encoding\": {\"color\": {\"type\": \"quantitative\", \"field\": \"Attributions\", \"legend\": null, \"scale\": {\"domain\": [-0.012505911254733776, 0.012505911254733776], \"scheme\": \"redyellowgreen\"}, \"sort\": \"ascending\"}, \"text\": {\"type\": \"nominal\", \"field\": \"Token\"}, \"x\": {\"type\": \"quantitative\", \"axis\": null, \"field\": \"x\", \"sort\": null}, \"y\": {\"value\": 0}}, \"title\": \"Interactions with quite\", \"width\": 654.192}, {\"data\": {\"name\": \"data-491669863909ee5f835ffba5dee35756\"}, \"mark\": {\"type\": \"text\", \"align\": \"left\", \"color\": \"black\", \"font\": \"arial\", \"size\": 20}, \"encoding\": {\"color\": {\"type\": \"quantitative\", \"field\": \"Attributions\", \"legend\": null, \"scale\": {\"domain\": [-0.0629427252378736, 0.0629427252378736], \"scheme\": \"redyellowgreen\"}, \"sort\": \"ascending\"}, \"text\": {\"type\": \"nominal\", \"field\": \"Token\"}, \"x\": {\"type\": \"quantitative\", \"axis\": null, \"field\": \"x\", \"sort\": null}, \"y\": {\"value\": 0}}, \"title\": \"Interactions with compelling\", \"width\": 654.192}, {\"data\": {\"name\": \"data-63add30c854a77f7500939e4b71f9c81\"}, \"mark\": {\"type\": \"text\", \"align\": \"left\", \"color\": \"black\", \"font\": \"arial\", \"size\": 20}, \"encoding\": {\"color\": {\"type\": \"quantitative\", \"field\": \"Attributions\", \"legend\": null, \"scale\": {\"domain\": [-0.12372022404615422, 0.12372022404615422], \"scheme\": \"redyellowgreen\"}, \"sort\": \"ascending\"}, \"text\": {\"type\": \"nominal\", \"field\": \"Token\"}, \"x\": {\"type\": \"quantitative\", \"axis\": null, \"field\": \"x\", \"sort\": null}, \"y\": {\"value\": 0}}, \"title\": \"Interactions with as\", \"width\": 654.192}, {\"data\": {\"name\": \"data-8b1997d01ab208cd61cd18d8b1a2c5a8\"}, \"mark\": {\"type\": \"text\", \"align\": \"left\", \"color\": \"black\", \"font\": \"arial\", \"size\": 20}, \"encoding\": {\"color\": {\"type\": \"quantitative\", \"field\": \"Attributions\", \"legend\": null, \"scale\": {\"domain\": [-0.04822486511186016, 0.04822486511186016], \"scheme\": \"redyellowgreen\"}, \"sort\": \"ascending\"}, \"text\": {\"type\": \"nominal\", \"field\": \"Token\"}, \"x\": {\"type\": \"quantitative\", \"axis\": null, \"field\": \"x\", \"sort\": null}, \"y\": {\"value\": 0}}, \"title\": \"Interactions with an\", \"width\": 654.192}, {\"data\": {\"name\": \"data-3246baacd7489544e742f26478c94228\"}, \"mark\": {\"type\": \"text\", \"align\": \"left\", \"color\": \"black\", \"font\": \"arial\", \"size\": 20}, \"encoding\": {\"color\": {\"type\": \"quantitative\", \"field\": \"Attributions\", \"legend\": null, \"scale\": {\"domain\": [-0.03715459308393497, 0.03715459308393497], \"scheme\": \"redyellowgreen\"}, \"sort\": \"ascending\"}, \"text\": {\"type\": \"nominal\", \"field\": \"Token\"}, \"x\": {\"type\": \"quantitative\", \"axis\": null, \"field\": \"x\", \"sort\": null}, \"y\": {\"value\": 0}}, \"title\": \"Interactions with intense\", \"width\": 654.192}, {\"data\": {\"name\": \"data-d0dbea6ba74778a2ed2d8a0b7b4c225f\"}, \"mark\": {\"type\": \"text\", \"align\": \"left\", \"color\": \"black\", \"font\": \"arial\", \"size\": 20}, \"encoding\": {\"color\": {\"type\": \"quantitative\", \"field\": \"Attributions\", \"legend\": null, \"scale\": {\"domain\": [-0.024106539326611116, 0.024106539326611116], \"scheme\": \"redyellowgreen\"}, \"sort\": \"ascending\"}, \"text\": {\"type\": \"nominal\", \"field\": \"Token\"}, \"x\": {\"type\": \"quantitative\", \"axis\": null, \"field\": \"x\", \"sort\": null}, \"y\": {\"value\": 0}}, \"title\": \"Interactions with ,\", \"width\": 654.192}, {\"data\": {\"name\": \"data-16aa936e90eb654cd98f8517d77b4fe2\"}, \"mark\": {\"type\": \"text\", \"align\": \"left\", \"color\": \"black\", \"font\": \"arial\", \"size\": 20}, \"encoding\": {\"color\": {\"type\": \"quantitative\", \"field\": \"Attributions\", \"legend\": null, \"scale\": {\"domain\": [-0.2135674600280722, 0.2135674600280722], \"scheme\": \"redyellowgreen\"}, \"sort\": \"ascending\"}, \"text\": {\"type\": \"nominal\", \"field\": \"Token\"}, \"x\": {\"type\": \"quantitative\", \"axis\": null, \"field\": \"x\", \"sort\": null}, \"y\": {\"value\": 0}}, \"title\": \"Interactions with brooding\", \"width\": 654.192}, {\"data\": {\"name\": \"data-42a5f39523683a53ac971180ef5e637d\"}, \"mark\": {\"type\": \"text\", \"align\": \"left\", \"color\": \"black\", \"font\": \"arial\", \"size\": 20}, \"encoding\": {\"color\": {\"type\": \"quantitative\", \"field\": \"Attributions\", \"legend\": null, \"scale\": {\"domain\": [-0.027613367546786755, 0.027613367546786755], \"scheme\": \"redyellowgreen\"}, \"sort\": \"ascending\"}, \"text\": {\"type\": \"nominal\", \"field\": \"Token\"}, \"x\": {\"type\": \"quantitative\", \"axis\": null, \"field\": \"x\", \"sort\": null}, \"y\": {\"value\": 0}}, \"title\": \"Interactions with character\", \"width\": 654.192}, {\"data\": {\"name\": \"data-a2f3a149554679640adf68cca46583ec\"}, \"mark\": {\"type\": \"text\", \"align\": \"left\", \"color\": \"black\", \"font\": \"arial\", \"size\": 20}, \"encoding\": {\"color\": {\"type\": \"quantitative\", \"field\": \"Attributions\", \"legend\": null, \"scale\": {\"domain\": [-0.2037959435935818, 0.2037959435935818], \"scheme\": \"redyellowgreen\"}, \"sort\": \"ascending\"}, \"text\": {\"type\": \"nominal\", \"field\": \"Token\"}, \"x\": {\"type\": \"quantitative\", \"axis\": null, \"field\": \"x\", \"sort\": null}, \"y\": {\"value\": 0}}, \"title\": \"Interactions with study\", \"width\": 654.192}], \"resolve\": {\"scale\": {\"color\": \"independent\"}}, \"$schema\": \"https://vega.github.io/schema/vega-lite/v4.0.0.json\", \"datasets\": {\"data-27f98752f0c400bb98439e646acb3267\": [{\"Token\": \"it\", \"Attributions\": 0.0, \"x\": 0.0, \"size\": 0.0}, {\"Token\": \"proves\", \"Attributions\": -0.0034909887354127784, \"x\": 0.744, \"size\": 0.0034909887354127784}, {\"Token\": \"quite\", \"Attributions\": -0.01960868773433751, \"x\": 4.056, \"size\": 0.01960868773433751}, {\"Token\": \"compelling\", \"Attributions\": -0.01300890914098816, \"x\": 6.51, \"size\": 0.01300890914098816}, {\"Token\": \"as\", \"Attributions\": -0.021207862131850122, \"x\": 11.568, \"size\": 0.021207862131850122}, {\"Token\": \"an\", \"Attributions\": -0.027386448100280906, \"x\": 12.87, \"size\": 0.027386448100280906}, {\"Token\": \"intense\", \"Attributions\": -0.016818931685202224, \"x\": 14.232, \"size\": 0.016818931685202224}, {\"Token\": \",\", \"Attributions\": -0.03863296138244876, \"x\": 17.766, \"size\": 0.03863296138244876}, {\"Token\": \"brooding\", \"Attributions\": -0.03082871448594823, \"x\": 18.287999999999997, \"size\": 0.03082871448594823}, {\"Token\": \"character\", \"Attributions\": 0.015713787208476975, \"x\": 22.511999999999997, \"size\": 0.015713787208476975}, {\"Token\": \"study\", \"Attributions\": 0.022974962763157247, \"x\": 27.053999999999995, \"size\": 0.022974962763157247}], \"data-c8df5d1a15a264bcaab6cb49ed7584b6\": [{\"Token\": \"it\", \"Attributions\": -0.021901536876885574, \"x\": 0.0, \"size\": 0.021901536876885574}, {\"Token\": \"proves\", \"Attributions\": 0.0, \"x\": 0.744, \"size\": 0.0}, {\"Token\": \"quite\", \"Attributions\": -0.02674415141727426, \"x\": 4.056, \"size\": 0.02674415141727426}, {\"Token\": \"compelling\", \"Attributions\": -0.019125580974182658, \"x\": 6.51, \"size\": 0.019125580974182658}, {\"Token\": \"as\", \"Attributions\": 0.01178726159204307, \"x\": 11.568, \"size\": 0.01178726159204307}, {\"Token\": \"an\", \"Attributions\": -0.007478432180024534, \"x\": 12.87, \"size\": 0.007478432180024534}, {\"Token\": \"intense\", \"Attributions\": -0.004999110485624372, \"x\": 14.232, \"size\": 0.004999110485624372}, {\"Token\": \",\", \"Attributions\": -0.0008595925531636259, \"x\": 17.766, \"size\": 0.0008595925531636259}, {\"Token\": \"brooding\", \"Attributions\": 0.002425438002694841, \"x\": 18.287999999999997, \"size\": 0.002425438002694841}, {\"Token\": \"character\", \"Attributions\": 0.0668788897372513, \"x\": 22.511999999999997, \"size\": 0.0668788897372513}, {\"Token\": \"study\", \"Attributions\": 0.03894791716023375, \"x\": 27.053999999999995, \"size\": 0.03894791716023375}], \"data-fd4830be3fa18af9893f5e8bd2f1420c\": [{\"Token\": \"it\", \"Attributions\": 0.004082107289544084, \"x\": 0.0, \"size\": 0.004082107289544084}, {\"Token\": \"proves\", \"Attributions\": 0.012505911254733776, \"x\": 0.744, \"size\": 0.012505911254733776}, {\"Token\": \"quite\", \"Attributions\": 0.0, \"x\": 4.056, \"size\": 0.0}, {\"Token\": \"compelling\", \"Attributions\": 0.005878040090099942, \"x\": 6.51, \"size\": 0.005878040090099942}, {\"Token\": \"as\", \"Attributions\": -0.00500628005281904, \"x\": 11.568, \"size\": 0.00500628005281904}, {\"Token\": \"an\", \"Attributions\": -0.0039630750609320545, \"x\": 12.87, \"size\": 0.0039630750609320545}, {\"Token\": \"intense\", \"Attributions\": -0.004156546764790479, \"x\": 14.232, \"size\": 0.004156546764790479}, {\"Token\": \",\", \"Attributions\": 0.00045393289294349745, \"x\": 17.766, \"size\": 0.00045393289294349745}, {\"Token\": \"brooding\", \"Attributions\": -0.009679014874971931, \"x\": 18.287999999999997, \"size\": 0.009679014874971931}, {\"Token\": \"character\", \"Attributions\": -0.005759336417069123, \"x\": 22.511999999999997, \"size\": 0.005759336417069123}, {\"Token\": \"study\", \"Attributions\": -4.8150485802913974e-05, \"x\": 27.053999999999995, \"size\": 4.8150485802913974e-05}], \"data-491669863909ee5f835ffba5dee35756\": [{\"Token\": \"it\", \"Attributions\": -0.030740536872414063, \"x\": 0.0, \"size\": 0.030740536872414063}, {\"Token\": \"proves\", \"Attributions\": 0.009967422008423358, \"x\": 0.744, \"size\": 0.009967422008423358}, {\"Token\": \"quite\", \"Attributions\": -0.01959920695564731, \"x\": 4.056, \"size\": 0.01959920695564731}, {\"Token\": \"compelling\", \"Attributions\": 0.0, \"x\": 6.51, \"size\": 0.0}, {\"Token\": \"as\", \"Attributions\": -0.03874244670386688, \"x\": 11.568, \"size\": 0.03874244670386688}, {\"Token\": \"an\", \"Attributions\": -0.03276178532459486, \"x\": 12.87, \"size\": 0.03276178532459486}, {\"Token\": \"intense\", \"Attributions\": -0.023169663056871365, \"x\": 14.232, \"size\": 0.023169663056871365}, {\"Token\": \",\", \"Attributions\": -0.0629427252378736, \"x\": 17.766, \"size\": 0.0629427252378736}, {\"Token\": \"brooding\", \"Attributions\": -0.052031324720602005, \"x\": 18.287999999999997, \"size\": 0.052031324720602005}, {\"Token\": \"character\", \"Attributions\": 0.0074433761023846206, \"x\": 22.511999999999997, \"size\": 0.0074433761023846206}, {\"Token\": \"study\", \"Attributions\": -0.048695688176076855, \"x\": 27.053999999999995, \"size\": 0.048695688176076855}], \"data-63add30c854a77f7500939e4b71f9c81\": [{\"Token\": \"it\", \"Attributions\": -0.057133123029854335, \"x\": 0.0, \"size\": 0.057133123029854335}, {\"Token\": \"proves\", \"Attributions\": 0.021012111018557652, \"x\": 0.744, \"size\": 0.021012111018557652}, {\"Token\": \"quite\", \"Attributions\": -0.12372022404615422, \"x\": 4.056, \"size\": 0.12372022404615422}, {\"Token\": \"compelling\", \"Attributions\": -0.04122855518723826, \"x\": 6.51, \"size\": 0.04122855518723826}, {\"Token\": \"as\", \"Attributions\": 0.0, \"x\": 11.568, \"size\": 0.0}, {\"Token\": \"an\", \"Attributions\": -0.07784596591186976, \"x\": 12.87, \"size\": 0.07784596591186976}, {\"Token\": \"intense\", \"Attributions\": -0.05689321438492761, \"x\": 14.232, \"size\": 0.05689321438492761}, {\"Token\": \",\", \"Attributions\": -0.07982833720980032, \"x\": 17.766, \"size\": 0.07982833720980032}, {\"Token\": \"brooding\", \"Attributions\": -0.08342096598618359, \"x\": 18.287999999999997, \"size\": 0.08342096598618359}, {\"Token\": \"character\", \"Attributions\": 0.07644967733027098, \"x\": 22.511999999999997, \"size\": 0.07644967733027098}, {\"Token\": \"study\", \"Attributions\": 0.030991977413507694, \"x\": 27.053999999999995, \"size\": 0.030991977413507694}], \"data-8b1997d01ab208cd61cd18d8b1a2c5a8\": [{\"Token\": \"it\", \"Attributions\": -0.030144795708783985, \"x\": 0.0, \"size\": 0.030144795708783985}, {\"Token\": \"proves\", \"Attributions\": 0.007168776191609853, \"x\": 0.744, \"size\": 0.007168776191609853}, {\"Token\": \"quite\", \"Attributions\": -0.028503182503017477, \"x\": 4.056, \"size\": 0.028503182503017477}, {\"Token\": \"compelling\", \"Attributions\": -0.018171575749200856, \"x\": 6.51, \"size\": 0.018171575749200856}, {\"Token\": \"as\", \"Attributions\": -0.03518287040303312, \"x\": 11.568, \"size\": 0.03518287040303312}, {\"Token\": \"an\", \"Attributions\": 0.0, \"x\": 12.87, \"size\": 0.0}, {\"Token\": \"intense\", \"Attributions\": -0.007961109285121275, \"x\": 14.232, \"size\": 0.007961109285121275}, {\"Token\": \",\", \"Attributions\": -0.04822486511186016, \"x\": 17.766, \"size\": 0.04822486511186016}, {\"Token\": \"brooding\", \"Attributions\": -0.032805937455855826, \"x\": 18.287999999999997, \"size\": 0.032805937455855826}, {\"Token\": \"character\", \"Attributions\": 0.013547609195082593, \"x\": 22.511999999999997, \"size\": 0.013547609195082593}, {\"Token\": \"study\", \"Attributions\": 0.01828017020827179, \"x\": 27.053999999999995, \"size\": 0.01828017020827179}], \"data-3246baacd7489544e742f26478c94228\": [{\"Token\": \"it\", \"Attributions\": -0.01782941938764845, \"x\": 0.0, \"size\": 0.01782941938764845}, {\"Token\": \"proves\", \"Attributions\": 0.006643980426701863, \"x\": 0.744, \"size\": 0.006643980426701863}, {\"Token\": \"quite\", \"Attributions\": -0.011021507180065546, \"x\": 4.056, \"size\": 0.011021507180065546}, {\"Token\": \"compelling\", \"Attributions\": -0.011537141661526052, \"x\": 6.51, \"size\": 0.011537141661526052}, {\"Token\": \"as\", \"Attributions\": -0.018240865530129827, \"x\": 11.568, \"size\": 0.018240865530129827}, {\"Token\": \"an\", \"Attributions\": -0.013264316796731311, \"x\": 12.87, \"size\": 0.013264316796731311}, {\"Token\": \"intense\", \"Attributions\": 0.0, \"x\": 14.232, \"size\": 0.0}, {\"Token\": \",\", \"Attributions\": -0.028206926447415483, \"x\": 17.766, \"size\": 0.028206926447415483}, {\"Token\": \"brooding\", \"Attributions\": -0.03715459308393497, \"x\": 18.287999999999997, \"size\": 0.03715459308393497}, {\"Token\": \"character\", \"Attributions\": 0.0077131866951459516, \"x\": 22.511999999999997, \"size\": 0.0077131866951459516}, {\"Token\": \"study\", \"Attributions\": 0.016769319924689132, \"x\": 27.053999999999995, \"size\": 0.016769319924689132}], \"data-d0dbea6ba74778a2ed2d8a0b7b4c225f\": [{\"Token\": \"it\", \"Attributions\": 0.013992241404700354, \"x\": 0.0, \"size\": 0.013992241404700354}, {\"Token\": \"proves\", \"Attributions\": 0.005390925196121289, \"x\": 0.744, \"size\": 0.005390925196121289}, {\"Token\": \"quite\", \"Attributions\": 0.0043275329626236555, \"x\": 4.056, \"size\": 0.0043275329626236555}, {\"Token\": \"compelling\", \"Attributions\": 0.007296136366942, \"x\": 6.51, \"size\": 0.007296136366942}, {\"Token\": \"as\", \"Attributions\": -0.0003811088658276309, \"x\": 11.568, \"size\": 0.0003811088658276309}, {\"Token\": \"an\", \"Attributions\": 0.0008828336469129603, \"x\": 12.87, \"size\": 0.0008828336469129603}, {\"Token\": \"intense\", \"Attributions\": 0.01584461775876473, \"x\": 14.232, \"size\": 0.01584461775876473}, {\"Token\": \",\", \"Attributions\": 0.0, \"x\": 17.766, \"size\": 0.0}, {\"Token\": \"brooding\", \"Attributions\": -0.024106539326611116, \"x\": 18.287999999999997, \"size\": 0.024106539326611116}, {\"Token\": \"character\", \"Attributions\": -0.005021021857345008, \"x\": 22.511999999999997, \"size\": 0.005021021857345008}, {\"Token\": \"study\", \"Attributions\": 0.003183784489046744, \"x\": 27.053999999999995, \"size\": 0.003183784489046744}], \"data-16aa936e90eb654cd98f8517d77b4fe2\": [{\"Token\": \"it\", \"Attributions\": -0.11685461210175307, \"x\": 0.0, \"size\": 0.11685461210175307}, {\"Token\": \"proves\", \"Attributions\": 0.019427805755940275, \"x\": 0.744, \"size\": 0.019427805755940275}, {\"Token\": \"quite\", \"Attributions\": -0.10694799221458688, \"x\": 4.056, \"size\": 0.10694799221458688}, {\"Token\": \"compelling\", \"Attributions\": -0.07423195718425507, \"x\": 6.51, \"size\": 0.07423195718425507}, {\"Token\": \"as\", \"Attributions\": -0.10722431622665148, \"x\": 11.568, \"size\": 0.10722431622665148}, {\"Token\": \"an\", \"Attributions\": -0.14019453318729472, \"x\": 12.87, \"size\": 0.14019453318729472}, {\"Token\": \"intense\", \"Attributions\": -0.08220301130983229, \"x\": 14.232, \"size\": 0.08220301130983229}, {\"Token\": \",\", \"Attributions\": -0.14332840140732683, \"x\": 17.766, \"size\": 0.14332840140732683}, {\"Token\": \"brooding\", \"Attributions\": 0.0, \"x\": 18.287999999999997, \"size\": 0.0}, {\"Token\": \"character\", \"Attributions\": 0.09357806648744404, \"x\": 22.511999999999997, \"size\": 0.09357806648744404}, {\"Token\": \"study\", \"Attributions\": 0.2135674600280722, \"x\": 27.053999999999995, \"size\": 0.2135674600280722}], \"data-42a5f39523683a53ac971180ef5e637d\": [{\"Token\": \"it\", \"Attributions\": -0.005612912885267266, \"x\": 0.0, \"size\": 0.005612912885267266}, {\"Token\": \"proves\", \"Attributions\": 0.012596947377814144, \"x\": 0.744, \"size\": 0.012596947377814144}, {\"Token\": \"quite\", \"Attributions\": -0.012037485749888907, \"x\": 4.056, \"size\": 0.012037485749888907}, {\"Token\": \"compelling\", \"Attributions\": -0.01783981441746591, \"x\": 6.51, \"size\": 0.01783981441746591}, {\"Token\": \"as\", \"Attributions\": -0.01863462763698369, \"x\": 11.568, \"size\": 0.01863462763698369}, {\"Token\": \"an\", \"Attributions\": -0.023142686815452042, \"x\": 12.87, \"size\": 0.023142686815452042}, {\"Token\": \"intense\", \"Attributions\": -0.011330516634240548, \"x\": 14.232, \"size\": 0.011330516634240548}, {\"Token\": \",\", \"Attributions\": -0.022729537113837642, \"x\": 17.766, \"size\": 0.022729537113837642}, {\"Token\": \"brooding\", \"Attributions\": -0.027613367546786755, \"x\": 18.287999999999997, \"size\": 0.027613367546786755}, {\"Token\": \"character\", \"Attributions\": 0.0, \"x\": 22.511999999999997, \"size\": 0.0}, {\"Token\": \"study\", \"Attributions\": 0.012582856511157208, \"x\": 27.053999999999995, \"size\": 0.012582856511157208}], \"data-a2f3a149554679640adf68cca46583ec\": [{\"Token\": \"it\", \"Attributions\": -0.2037959435935818, \"x\": 0.0, \"size\": 0.2037959435935818}, {\"Token\": \"proves\", \"Attributions\": 0.01778993658767551, \"x\": 0.744, \"size\": 0.01778993658767551}, {\"Token\": \"quite\", \"Attributions\": -0.09338849584693026, \"x\": 4.056, \"size\": 0.09338849584693026}, {\"Token\": \"compelling\", \"Attributions\": -0.04821713948520595, \"x\": 6.51, \"size\": 0.04821713948520595}, {\"Token\": \"as\", \"Attributions\": -0.10344434893932265, \"x\": 11.568, \"size\": 0.10344434893932265}, {\"Token\": \"an\", \"Attributions\": -0.17122186676373355, \"x\": 12.87, \"size\": 0.17122186676373355}, {\"Token\": \"intense\", \"Attributions\": -0.11387754306826516, \"x\": 14.232, \"size\": 0.11387754306826516}, {\"Token\": \",\", \"Attributions\": -0.15777192934898557, \"x\": 17.766, \"size\": 0.15777192934898557}, {\"Token\": \"brooding\", \"Attributions\": -0.08124483592128859, \"x\": 18.287999999999997, \"size\": 0.08124483592128859}, {\"Token\": \"character\", \"Attributions\": 0.13262609601808154, \"x\": 22.511999999999997, \"size\": 0.13262609601808154}, {\"Token\": \"study\", \"Attributions\": 0.0, \"x\": 27.053999999999995, \"size\": 0.0}]}}, {\"mode\": \"vega-lite\"});\n",
       "</script>"
      ],
      "text/plain": [
       "alt.VConcatChart(...)"
      ]
     },
     "execution_count": 38,
     "metadata": {},
     "output_type": "execute_result"
    }
   ],
   "source": [
    "i = 5\n",
    "try:\n",
    "    interactions = np.load('interactions_{}.npy'.format(i))\n",
    "except FileNotFoundError as e:\n",
    "    interactions = get_interactions_for_index(i)\n",
    "    np.save('interactions_{}.npy'.format(i), interactions)\n",
    "batch_tokens = tokenizer.convert_ids_to_tokens(batch_ids[i].numpy())\n",
    "summed_interactions, summed_tokens = sum_interactions_over_tokens(interactions, batch_tokens)\n",
    "interaction_plot(summed_interactions, summed_tokens)"
   ]
  },
  {
   "cell_type": "code",
   "execution_count": 39,
   "metadata": {},
   "outputs": [
    {
     "data": {
      "text/html": [
       "\n",
       "<div id=\"altair-viz-15\"></div>\n",
       "<script type=\"text/javascript\">\n",
       "  (function(spec, embedOpt){\n",
       "    const outputDiv = document.getElementById(\"altair-viz-15\");\n",
       "    const paths = {\n",
       "      \"vega\": \"https://cdn.jsdelivr.net/npm//vega@5?noext\",\n",
       "      \"vega-lib\": \"https://cdn.jsdelivr.net/npm//vega-lib?noext\",\n",
       "      \"vega-lite\": \"https://cdn.jsdelivr.net/npm//vega-lite@4.0.0?noext\",\n",
       "      \"vega-embed\": \"https://cdn.jsdelivr.net/npm//vega-embed@6?noext\",\n",
       "    };\n",
       "\n",
       "    function loadScript(lib) {\n",
       "      return new Promise(function(resolve, reject) {\n",
       "        var s = document.createElement('script');\n",
       "        s.src = paths[lib];\n",
       "        s.async = true;\n",
       "        s.onload = () => resolve(paths[lib]);\n",
       "        s.onerror = () => reject(`Error loading script: ${paths[lib]}`);\n",
       "        document.getElementsByTagName(\"head\")[0].appendChild(s);\n",
       "      });\n",
       "    }\n",
       "\n",
       "    function showError(err) {\n",
       "      outputDiv.innerHTML = `<div class=\"error\" style=\"color:red;\">${err}</div>`;\n",
       "      throw err;\n",
       "    }\n",
       "\n",
       "    function displayChart(vegaEmbed) {\n",
       "      vegaEmbed(outputDiv, spec, embedOpt)\n",
       "        .catch(err => showError(`Javascript Error: ${err.message}<br>This usually means there's a typo in your chart specification. See the javascript console for the full traceback.`));\n",
       "    }\n",
       "\n",
       "    if(typeof define === \"function\" && define.amd) {\n",
       "      requirejs.config({paths});\n",
       "      require([\"vega-embed\"], displayChart, err => showError(`Error loading script: ${err.message}`));\n",
       "    } else if (typeof vegaEmbed === \"function\") {\n",
       "      displayChart(vegaEmbed);\n",
       "    } else {\n",
       "      loadScript(\"vega\")\n",
       "        .then(() => loadScript(\"vega-lite\"))\n",
       "        .then(() => loadScript(\"vega-embed\"))\n",
       "        .catch(showError)\n",
       "        .then(() => displayChart(vegaEmbed));\n",
       "    }\n",
       "  })({\"config\": {\"view\": {\"continuousWidth\": 400, \"continuousHeight\": 300, \"opacity\": 0.0}}, \"vconcat\": [{\"data\": {\"name\": \"data-e49ce812e3effcaf47a0c64908f254f1\"}, \"mark\": {\"type\": \"text\", \"align\": \"left\", \"color\": \"black\", \"font\": \"arial\", \"size\": 20}, \"encoding\": {\"color\": {\"type\": \"quantitative\", \"field\": \"Attributions\", \"legend\": null, \"scale\": {\"domain\": [-0.012315532601216483, 0.012315532601216483], \"scheme\": \"redyellowgreen\"}, \"sort\": \"ascending\"}, \"text\": {\"type\": \"nominal\", \"field\": \"Token\"}, \"x\": {\"type\": \"quantitative\", \"axis\": null, \"field\": \"x\", \"sort\": null}, \"y\": {\"value\": 0}}, \"title\": \"Interactions with looks\", \"width\": 607.86}, {\"data\": {\"name\": \"data-0614794de9d0e4825c912c9e0f557e9a\"}, \"mark\": {\"type\": \"text\", \"align\": \"left\", \"color\": \"black\", \"font\": \"arial\", \"size\": 20}, \"encoding\": {\"color\": {\"type\": \"quantitative\", \"field\": \"Attributions\", \"legend\": null, \"scale\": {\"domain\": [-0.01075568844914226, 0.01075568844914226], \"scheme\": \"redyellowgreen\"}, \"sort\": \"ascending\"}, \"text\": {\"type\": \"nominal\", \"field\": \"Token\"}, \"x\": {\"type\": \"quantitative\", \"axis\": null, \"field\": \"x\", \"sort\": null}, \"y\": {\"value\": 0}}, \"title\": \"Interactions with and\", \"width\": 607.86}, {\"data\": {\"name\": \"data-6a2f26f97b50a157f936a2e9064f6a17\"}, \"mark\": {\"type\": \"text\", \"align\": \"left\", \"color\": \"black\", \"font\": \"arial\", \"size\": 20}, \"encoding\": {\"color\": {\"type\": \"quantitative\", \"field\": \"Attributions\", \"legend\": null, \"scale\": {\"domain\": [-0.013986831463899632, 0.013986831463899632], \"scheme\": \"redyellowgreen\"}, \"sort\": \"ascending\"}, \"text\": {\"type\": \"nominal\", \"field\": \"Token\"}, \"x\": {\"type\": \"quantitative\", \"axis\": null, \"field\": \"x\", \"sort\": null}, \"y\": {\"value\": 0}}, \"title\": \"Interactions with feels\", \"width\": 607.86}, {\"data\": {\"name\": \"data-81c8a04374e51fe46f544675f9530711\"}, \"mark\": {\"type\": \"text\", \"align\": \"left\", \"color\": \"black\", \"font\": \"arial\", \"size\": 20}, \"encoding\": {\"color\": {\"type\": \"quantitative\", \"field\": \"Attributions\", \"legend\": null, \"scale\": {\"domain\": [-0.02682621327485763, 0.02682621327485763], \"scheme\": \"redyellowgreen\"}, \"sort\": \"ascending\"}, \"text\": {\"type\": \"nominal\", \"field\": \"Token\"}, \"x\": {\"type\": \"quantitative\", \"axis\": null, \"field\": \"x\", \"sort\": null}, \"y\": {\"value\": 0}}, \"title\": \"Interactions with like\", \"width\": 607.86}, {\"data\": {\"name\": \"data-344267485e740a3bc8b82ebf64531bfe\"}, \"mark\": {\"type\": \"text\", \"align\": \"left\", \"color\": \"black\", \"font\": \"arial\", \"size\": 20}, \"encoding\": {\"color\": {\"type\": \"quantitative\", \"field\": \"Attributions\", \"legend\": null, \"scale\": {\"domain\": [-0.017117284865898596, 0.017117284865898596], \"scheme\": \"redyellowgreen\"}, \"sort\": \"ascending\"}, \"text\": {\"type\": \"nominal\", \"field\": \"Token\"}, \"x\": {\"type\": \"quantitative\", \"axis\": null, \"field\": \"x\", \"sort\": null}, \"y\": {\"value\": 0}}, \"title\": \"Interactions with a\", \"width\": 607.86}, {\"data\": {\"name\": \"data-4163bf59e9fed78c193f736ee71a9030\"}, \"mark\": {\"type\": \"text\", \"align\": \"left\", \"color\": \"black\", \"font\": \"arial\", \"size\": 20}, \"encoding\": {\"color\": {\"type\": \"quantitative\", \"field\": \"Attributions\", \"legend\": null, \"scale\": {\"domain\": [-0.01935982605939041, 0.01935982605939041], \"scheme\": \"redyellowgreen\"}, \"sort\": \"ascending\"}, \"text\": {\"type\": \"nominal\", \"field\": \"Token\"}, \"x\": {\"type\": \"quantitative\", \"axis\": null, \"field\": \"x\", \"sort\": null}, \"y\": {\"value\": 0}}, \"title\": \"Interactions with project\", \"width\": 607.86}, {\"data\": {\"name\": \"data-8d4a32a2b52bb0f6683b22d0412b895b\"}, \"mark\": {\"type\": \"text\", \"align\": \"left\", \"color\": \"black\", \"font\": \"arial\", \"size\": 20}, \"encoding\": {\"color\": {\"type\": \"quantitative\", \"field\": \"Attributions\", \"legend\": null, \"scale\": {\"domain\": [-0.014563220834383597, 0.014563220834383597], \"scheme\": \"redyellowgreen\"}, \"sort\": \"ascending\"}, \"text\": {\"type\": \"nominal\", \"field\": \"Token\"}, \"x\": {\"type\": \"quantitative\", \"axis\": null, \"field\": \"x\", \"sort\": null}, \"y\": {\"value\": 0}}, \"title\": \"Interactions with better\", \"width\": 607.86}, {\"data\": {\"name\": \"data-8796dfe6b3975b3cf9f7ec533ff174d9\"}, \"mark\": {\"type\": \"text\", \"align\": \"left\", \"color\": \"black\", \"font\": \"arial\", \"size\": 20}, \"encoding\": {\"color\": {\"type\": \"quantitative\", \"field\": \"Attributions\", \"legend\": null, \"scale\": {\"domain\": [-0.013073353057031006, 0.013073353057031006], \"scheme\": \"redyellowgreen\"}, \"sort\": \"ascending\"}, \"text\": {\"type\": \"nominal\", \"field\": \"Token\"}, \"x\": {\"type\": \"quantitative\", \"axis\": null, \"field\": \"x\", \"sort\": null}, \"y\": {\"value\": 0}}, \"title\": \"Interactions with suited\", \"width\": 607.86}, {\"data\": {\"name\": \"data-463a5b6379b86703710c0c7839854a08\"}, \"mark\": {\"type\": \"text\", \"align\": \"left\", \"color\": \"black\", \"font\": \"arial\", \"size\": 20}, \"encoding\": {\"color\": {\"type\": \"quantitative\", \"field\": \"Attributions\", \"legend\": null, \"scale\": {\"domain\": [-0.0261532282283741, 0.0261532282283741], \"scheme\": \"redyellowgreen\"}, \"sort\": \"ascending\"}, \"text\": {\"type\": \"nominal\", \"field\": \"Token\"}, \"x\": {\"type\": \"quantitative\", \"axis\": null, \"field\": \"x\", \"sort\": null}, \"y\": {\"value\": 0}}, \"title\": \"Interactions with for\", \"width\": 607.86}, {\"data\": {\"name\": \"data-cebe07647a279cd9d714c86c787afe11\"}, \"mark\": {\"type\": \"text\", \"align\": \"left\", \"color\": \"black\", \"font\": \"arial\", \"size\": 20}, \"encoding\": {\"color\": {\"type\": \"quantitative\", \"field\": \"Attributions\", \"legend\": null, \"scale\": {\"domain\": [-0.025834272570599674, 0.025834272570599674], \"scheme\": \"redyellowgreen\"}, \"sort\": \"ascending\"}, \"text\": {\"type\": \"nominal\", \"field\": \"Token\"}, \"x\": {\"type\": \"quantitative\", \"axis\": null, \"field\": \"x\", \"sort\": null}, \"y\": {\"value\": 0}}, \"title\": \"Interactions with the\", \"width\": 607.86}, {\"data\": {\"name\": \"data-33bfb506e3d8d555d7ac71230586dfdf\"}, \"mark\": {\"type\": \"text\", \"align\": \"left\", \"color\": \"black\", \"font\": \"arial\", \"size\": 20}, \"encoding\": {\"color\": {\"type\": \"quantitative\", \"field\": \"Attributions\", \"legend\": null, \"scale\": {\"domain\": [-0.018134148091395907, 0.018134148091395907], \"scheme\": \"redyellowgreen\"}, \"sort\": \"ascending\"}, \"text\": {\"type\": \"nominal\", \"field\": \"Token\"}, \"x\": {\"type\": \"quantitative\", \"axis\": null, \"field\": \"x\", \"sort\": null}, \"y\": {\"value\": 0}}, \"title\": \"Interactions with small\", \"width\": 607.86}, {\"data\": {\"name\": \"data-69f3ce3ac15aea3effc8dfcdbd91f5ab\"}, \"mark\": {\"type\": \"text\", \"align\": \"left\", \"color\": \"black\", \"font\": \"arial\", \"size\": 20}, \"encoding\": {\"color\": {\"type\": \"quantitative\", \"field\": \"Attributions\", \"legend\": null, \"scale\": {\"domain\": [-0.036440561978639985, 0.036440561978639985], \"scheme\": \"redyellowgreen\"}, \"sort\": \"ascending\"}, \"text\": {\"type\": \"nominal\", \"field\": \"Token\"}, \"x\": {\"type\": \"quantitative\", \"axis\": null, \"field\": \"x\", \"sort\": null}, \"y\": {\"value\": 0}}, \"title\": \"Interactions with screen\", \"width\": 607.86}], \"resolve\": {\"scale\": {\"color\": \"independent\"}}, \"$schema\": \"https://vega.github.io/schema/vega-lite/v4.0.0.json\", \"datasets\": {\"data-e49ce812e3effcaf47a0c64908f254f1\": [{\"Token\": \"looks\", \"Attributions\": 0.0, \"x\": 0.0, \"size\": 0.0}, {\"Token\": \"and\", \"Attributions\": 0.0002889393809481869, \"x\": 2.604, \"size\": 0.0002889393809481869}, {\"Token\": \"feels\", \"Attributions\": 0.012315532601216483, \"x\": 4.536, \"size\": 0.012315532601216483}, {\"Token\": \"like\", \"Attributions\": -0.0021449281923529464, \"x\": 6.93, \"size\": 0.0021449281923529464}, {\"Token\": \"a\", \"Attributions\": -0.00473818962716374, \"x\": 8.676, \"size\": 0.00473818962716374}, {\"Token\": \"project\", \"Attributions\": 0.0069999946649773265, \"x\": 9.468, \"size\": 0.0069999946649773265}, {\"Token\": \"better\", \"Attributions\": -0.009821747220748455, \"x\": 12.792, \"size\": 0.009821747220748455}, {\"Token\": \"suited\", \"Attributions\": 0.006866404407570901, \"x\": 15.684, \"size\": 0.006866404407570901}, {\"Token\": \"for\", \"Attributions\": -0.0012986115436385752, \"x\": 18.648, \"size\": 0.0012986115436385752}, {\"Token\": \"the\", \"Attributions\": -0.0033890899540878526, \"x\": 20.1, \"size\": 0.0033890899540878526}, {\"Token\": \"small\", \"Attributions\": 0.00235294720670878, \"x\": 21.762, \"size\": 0.00235294720670878}, {\"Token\": \"screen\", \"Attributions\": -0.00016373871130070662, \"x\": 24.318, \"size\": 0.00016373871130070662}], \"data-0614794de9d0e4825c912c9e0f557e9a\": [{\"Token\": \"looks\", \"Attributions\": 0.010754213629838699, \"x\": 0.0, \"size\": 0.010754213629838699}, {\"Token\": \"and\", \"Attributions\": 0.0, \"x\": 2.604, \"size\": 0.0}, {\"Token\": \"feels\", \"Attributions\": -0.0016165620603776363, \"x\": 4.536, \"size\": 0.0016165620603776363}, {\"Token\": \"like\", \"Attributions\": -0.01075568844914226, \"x\": 6.93, \"size\": 0.01075568844914226}, {\"Token\": \"a\", \"Attributions\": -0.0077342228591666265, \"x\": 8.676, \"size\": 0.0077342228591666265}, {\"Token\": \"project\", \"Attributions\": -0.004509922432260441, \"x\": 9.468, \"size\": 0.004509922432260441}, {\"Token\": \"better\", \"Attributions\": 9.777645093535756e-05, \"x\": 12.792, \"size\": 9.777645093535756e-05}, {\"Token\": \"suited\", \"Attributions\": -0.002261824536036007, \"x\": 15.684, \"size\": 0.002261824536036007}, {\"Token\": \"for\", \"Attributions\": -0.00767042868574535, \"x\": 18.648, \"size\": 0.00767042868574535}, {\"Token\": \"the\", \"Attributions\": -0.009230367753948913, \"x\": 20.1, \"size\": 0.009230367753948913}, {\"Token\": \"small\", \"Attributions\": -0.0067623928345702635, \"x\": 21.762, \"size\": 0.0067623928345702635}, {\"Token\": \"screen\", \"Attributions\": -0.0011151320380084493, \"x\": 24.318, \"size\": 0.0011151320380084493}], \"data-6a2f26f97b50a157f936a2e9064f6a17\": [{\"Token\": \"looks\", \"Attributions\": -0.0058388167159417375, \"x\": 0.0, \"size\": 0.0058388167159417375}, {\"Token\": \"and\", \"Attributions\": -0.009787134832785274, \"x\": 2.604, \"size\": 0.009787134832785274}, {\"Token\": \"feels\", \"Attributions\": 0.0, \"x\": 4.536, \"size\": 0.0}, {\"Token\": \"like\", \"Attributions\": -0.010906434852983373, \"x\": 6.93, \"size\": 0.010906434852983373}, {\"Token\": \"a\", \"Attributions\": -0.006164009248980563, \"x\": 8.676, \"size\": 0.006164009248980563}, {\"Token\": \"project\", \"Attributions\": -0.007208006474627112, \"x\": 9.468, \"size\": 0.007208006474627112}, {\"Token\": \"better\", \"Attributions\": -0.013986831463899632, \"x\": 12.792, \"size\": 0.013986831463899632}, {\"Token\": \"suited\", \"Attributions\": -0.008227918331811643, \"x\": 15.684, \"size\": 0.008227918331811643}, {\"Token\": \"for\", \"Attributions\": -0.002069561004096089, \"x\": 18.648, \"size\": 0.002069561004096089}, {\"Token\": \"the\", \"Attributions\": -0.0068158056621279535, \"x\": 20.1, \"size\": 0.0068158056621279535}, {\"Token\": \"small\", \"Attributions\": -0.004546307637327914, \"x\": 21.762, \"size\": 0.004546307637327914}, {\"Token\": \"screen\", \"Attributions\": -0.006720356104321334, \"x\": 24.318, \"size\": 0.006720356104321334}], \"data-81c8a04374e51fe46f544675f9530711\": [{\"Token\": \"looks\", \"Attributions\": -0.012000616535049661, \"x\": 0.0, \"size\": 0.012000616535049661}, {\"Token\": \"and\", \"Attributions\": -0.010256805786781488, \"x\": 2.604, \"size\": 0.010256805786781488}, {\"Token\": \"feels\", \"Attributions\": -0.020749718890136763, \"x\": 4.536, \"size\": 0.020749718890136763}, {\"Token\": \"like\", \"Attributions\": 0.0, \"x\": 6.93, \"size\": 0.0}, {\"Token\": \"a\", \"Attributions\": -0.02682621327485763, \"x\": 8.676, \"size\": 0.02682621327485763}, {\"Token\": \"project\", \"Attributions\": -0.007089900195932384, \"x\": 9.468, \"size\": 0.007089900195932384}, {\"Token\": \"better\", \"Attributions\": -0.01778668129821402, \"x\": 12.792, \"size\": 0.01778668129821402}, {\"Token\": \"suited\", \"Attributions\": -0.012134538504808976, \"x\": 15.684, \"size\": 0.012134538504808976}, {\"Token\": \"for\", \"Attributions\": -0.01477491778784924, \"x\": 18.648, \"size\": 0.01477491778784924}, {\"Token\": \"the\", \"Attributions\": -0.020004779827164657, \"x\": 20.1, \"size\": 0.020004779827164657}, {\"Token\": \"small\", \"Attributions\": -0.0216721186629236, \"x\": 21.762, \"size\": 0.0216721186629236}, {\"Token\": \"screen\", \"Attributions\": -0.01643079125780605, \"x\": 24.318, \"size\": 0.01643079125780605}], \"data-344267485e740a3bc8b82ebf64531bfe\": [{\"Token\": \"looks\", \"Attributions\": 0.0004077767423082261, \"x\": 0.0, \"size\": 0.0004077767423082261}, {\"Token\": \"and\", \"Attributions\": -0.008259344769985306, \"x\": 2.604, \"size\": 0.008259344769985306}, {\"Token\": \"feels\", \"Attributions\": -0.0038033864812372065, \"x\": 4.536, \"size\": 0.0038033864812372065}, {\"Token\": \"like\", \"Attributions\": 0.003814276913610013, \"x\": 6.93, \"size\": 0.003814276913610013}, {\"Token\": \"a\", \"Attributions\": 0.0, \"x\": 8.676, \"size\": 0.0}, {\"Token\": \"project\", \"Attributions\": 0.017117284865898596, \"x\": 9.468, \"size\": 0.017117284865898596}, {\"Token\": \"better\", \"Attributions\": -0.007881741551035083, \"x\": 12.792, \"size\": 0.007881741551035083}, {\"Token\": \"suited\", \"Attributions\": -0.0032466470183823756, \"x\": 15.684, \"size\": 0.0032466470183823756}, {\"Token\": \"for\", \"Attributions\": -0.003815242792459894, \"x\": 18.648, \"size\": 0.003815242792459894}, {\"Token\": \"the\", \"Attributions\": -0.01310249326660706, \"x\": 20.1, \"size\": 0.01310249326660706}, {\"Token\": \"small\", \"Attributions\": -0.00926847424353989, \"x\": 21.762, \"size\": 0.00926847424353989}, {\"Token\": \"screen\", \"Attributions\": -0.0001712618744655684, \"x\": 24.318, \"size\": 0.0001712618744655684}], \"data-4163bf59e9fed78c193f736ee71a9030\": [{\"Token\": \"looks\", \"Attributions\": -0.0025760646514746298, \"x\": 0.0, \"size\": 0.0025760646514746298}, {\"Token\": \"and\", \"Attributions\": 0.003278461448210374, \"x\": 2.604, \"size\": 0.003278461448210374}, {\"Token\": \"feels\", \"Attributions\": -0.007167966399993779, \"x\": 4.536, \"size\": 0.007167966399993779}, {\"Token\": \"like\", \"Attributions\": 0.003965552029970184, \"x\": 6.93, \"size\": 0.003965552029970184}, {\"Token\": \"a\", \"Attributions\": -0.00477435137999511, \"x\": 8.676, \"size\": 0.00477435137999511}, {\"Token\": \"project\", \"Attributions\": 0.0, \"x\": 9.468, \"size\": 0.0}, {\"Token\": \"better\", \"Attributions\": -0.01608681775609076, \"x\": 12.792, \"size\": 0.01608681775609076}, {\"Token\": \"suited\", \"Attributions\": -0.007575160428362085, \"x\": 15.684, \"size\": 0.007575160428362085}, {\"Token\": \"for\", \"Attributions\": -0.01935982605939041, \"x\": 18.648, \"size\": 0.01935982605939041}, {\"Token\": \"the\", \"Attributions\": -0.018263858972974428, \"x\": 20.1, \"size\": 0.018263858972974428}, {\"Token\": \"small\", \"Attributions\": -0.013145164215859628, \"x\": 21.762, \"size\": 0.013145164215859628}, {\"Token\": \"screen\", \"Attributions\": 0.01318675468807351, \"x\": 24.318, \"size\": 0.01318675468807351}], \"data-8d4a32a2b52bb0f6683b22d0412b895b\": [{\"Token\": \"looks\", \"Attributions\": 0.005829182252026263, \"x\": 0.0, \"size\": 0.005829182252026263}, {\"Token\": \"and\", \"Attributions\": 0.004898968091763081, \"x\": 2.604, \"size\": 0.004898968091763081}, {\"Token\": \"feels\", \"Attributions\": -0.0035580064318201368, \"x\": 4.536, \"size\": 0.0035580064318201368}, {\"Token\": \"like\", \"Attributions\": -0.007906600305384604, \"x\": 6.93, \"size\": 0.007906600305384604}, {\"Token\": \"a\", \"Attributions\": -0.010342848971614, \"x\": 8.676, \"size\": 0.010342848971614}, {\"Token\": \"project\", \"Attributions\": -0.012245817226768445, \"x\": 9.468, \"size\": 0.012245817226768445}, {\"Token\": \"better\", \"Attributions\": 0.0, \"x\": 12.792, \"size\": 0.0}, {\"Token\": \"suited\", \"Attributions\": -0.01087027626250985, \"x\": 15.684, \"size\": 0.01087027626250985}, {\"Token\": \"for\", \"Attributions\": -0.0008821617888730092, \"x\": 18.648, \"size\": 0.0008821617888730092}, {\"Token\": \"the\", \"Attributions\": -0.014563220834383597, \"x\": 20.1, \"size\": 0.014563220834383597}, {\"Token\": \"small\", \"Attributions\": -0.009199591511579848, \"x\": 21.762, \"size\": 0.009199591511579848}, {\"Token\": \"screen\", \"Attributions\": -0.01176222002615231, \"x\": 24.318, \"size\": 0.01176222002615231}], \"data-8796dfe6b3975b3cf9f7ec533ff174d9\": [{\"Token\": \"looks\", \"Attributions\": 0.0036335856425584213, \"x\": 0.0, \"size\": 0.0036335856425584213}, {\"Token\": \"and\", \"Attributions\": -0.0071190924831637335, \"x\": 2.604, \"size\": 0.0071190924831637335}, {\"Token\": \"feels\", \"Attributions\": -0.0019597548604683495, \"x\": 4.536, \"size\": 0.0019597548604683495}, {\"Token\": \"like\", \"Attributions\": -0.0015363469517936277, \"x\": 6.93, \"size\": 0.0015363469517936277}, {\"Token\": \"a\", \"Attributions\": -0.005008342888577569, \"x\": 8.676, \"size\": 0.005008342888577569}, {\"Token\": \"project\", \"Attributions\": -0.008552171330501705, \"x\": 9.468, \"size\": 0.008552171330501705}, {\"Token\": \"better\", \"Attributions\": -0.013073353057031006, \"x\": 12.792, \"size\": 0.013073353057031006}, {\"Token\": \"suited\", \"Attributions\": 0.0, \"x\": 15.684, \"size\": 0.0}, {\"Token\": \"for\", \"Attributions\": -0.0008529381488091667, \"x\": 18.648, \"size\": 0.0008529381488091667}, {\"Token\": \"the\", \"Attributions\": -0.009774280381271433, \"x\": 20.1, \"size\": 0.009774280381271433}, {\"Token\": \"small\", \"Attributions\": -0.004087661915610643, \"x\": 21.762, \"size\": 0.004087661915610643}, {\"Token\": \"screen\", \"Attributions\": -0.010448599433058373, \"x\": 24.318, \"size\": 0.010448599433058373}], \"data-463a5b6379b86703710c0c7839854a08\": [{\"Token\": \"looks\", \"Attributions\": 0.00627439367728127, \"x\": 0.0, \"size\": 0.00627439367728127}, {\"Token\": \"and\", \"Attributions\": -0.0020658563638781247, \"x\": 2.604, \"size\": 0.0020658563638781247}, {\"Token\": \"feels\", \"Attributions\": -0.0009484844019764202, \"x\": 4.536, \"size\": 0.0009484844019764202}, {\"Token\": \"like\", \"Attributions\": -0.0015119071945678113, \"x\": 6.93, \"size\": 0.0015119071945678113}, {\"Token\": \"a\", \"Attributions\": -0.014776722474137019, \"x\": 8.676, \"size\": 0.014776722474137019}, {\"Token\": \"project\", \"Attributions\": -0.011666355438069848, \"x\": 9.468, \"size\": 0.011666355438069848}, {\"Token\": \"better\", \"Attributions\": -0.007279096424331258, \"x\": 12.792, \"size\": 0.007279096424331258}, {\"Token\": \"suited\", \"Attributions\": 0.0032457876046227724, \"x\": 15.684, \"size\": 0.0032457876046227724}, {\"Token\": \"for\", \"Attributions\": 0.0, \"x\": 18.648, \"size\": 0.0}, {\"Token\": \"the\", \"Attributions\": -0.0261532282283741, \"x\": 20.1, \"size\": 0.0261532282283741}, {\"Token\": \"small\", \"Attributions\": -0.0057430774855193375, \"x\": 21.762, \"size\": 0.0057430774855193375}, {\"Token\": \"screen\", \"Attributions\": 0.010372270083813234, \"x\": 24.318, \"size\": 0.010372270083813234}], \"data-cebe07647a279cd9d714c86c787afe11\": [{\"Token\": \"looks\", \"Attributions\": 0.0055607972157815915, \"x\": 0.0, \"size\": 0.0055607972157815915}, {\"Token\": \"and\", \"Attributions\": -0.003693399423071078, \"x\": 2.604, \"size\": 0.003693399423071078}, {\"Token\": \"feels\", \"Attributions\": -0.0023824963019291436, \"x\": 4.536, \"size\": 0.0023824963019291436}, {\"Token\": \"like\", \"Attributions\": 0.0008870679716162438, \"x\": 6.93, \"size\": 0.0008870679716162438}, {\"Token\": \"a\", \"Attributions\": -0.008567744069184447, \"x\": 8.676, \"size\": 0.008567744069184447}, {\"Token\": \"project\", \"Attributions\": -0.01400382047714215, \"x\": 9.468, \"size\": 0.01400382047714215}, {\"Token\": \"better\", \"Attributions\": -0.025834272570599674, \"x\": 12.792, \"size\": 0.025834272570599674}, {\"Token\": \"suited\", \"Attributions\": -0.0047563452174111745, \"x\": 15.684, \"size\": 0.0047563452174111745}, {\"Token\": \"for\", \"Attributions\": -0.009117206850327695, \"x\": 18.648, \"size\": 0.009117206850327695}, {\"Token\": \"the\", \"Attributions\": 0.0, \"x\": 20.1, \"size\": 0.0}, {\"Token\": \"small\", \"Attributions\": -0.021932723085252785, \"x\": 21.762, \"size\": 0.021932723085252785}, {\"Token\": \"screen\", \"Attributions\": -0.0031216239625500254, \"x\": 24.318, \"size\": 0.0031216239625500254}], \"data-33bfb506e3d8d555d7ac71230586dfdf\": [{\"Token\": \"looks\", \"Attributions\": -0.002766159227728848, \"x\": 0.0, \"size\": 0.002766159227728848}, {\"Token\": \"and\", \"Attributions\": 0.0013447346280479587, \"x\": 2.604, \"size\": 0.0013447346280479587}, {\"Token\": \"feels\", \"Attributions\": -0.0039442742594033384, \"x\": 4.536, \"size\": 0.0039442742594033384}, {\"Token\": \"like\", \"Attributions\": -0.010710818208999755, \"x\": 6.93, \"size\": 0.010710818208999755}, {\"Token\": \"a\", \"Attributions\": -0.012099598019126192, \"x\": 8.676, \"size\": 0.012099598019126192}, {\"Token\": \"project\", \"Attributions\": -0.010277328812412723, \"x\": 9.468, \"size\": 0.010277328812412723}, {\"Token\": \"better\", \"Attributions\": -0.01689645957633643, \"x\": 12.792, \"size\": 0.01689645957633643}, {\"Token\": \"suited\", \"Attributions\": -0.009126817095243121, \"x\": 15.684, \"size\": 0.009126817095243121}, {\"Token\": \"for\", \"Attributions\": -0.01361463936709702, \"x\": 18.648, \"size\": 0.01361463936709702}, {\"Token\": \"the\", \"Attributions\": -0.018049762127415186, \"x\": 20.1, \"size\": 0.018049762127415186}, {\"Token\": \"small\", \"Attributions\": 0.0, \"x\": 21.762, \"size\": 0.0}, {\"Token\": \"screen\", \"Attributions\": -0.018134148091395907, \"x\": 24.318, \"size\": 0.018134148091395907}], \"data-69f3ce3ac15aea3effc8dfcdbd91f5ab\": [{\"Token\": \"looks\", \"Attributions\": 0.002213803534018589, \"x\": 0.0, \"size\": 0.002213803534018589}, {\"Token\": \"and\", \"Attributions\": 0.0007078635565170024, \"x\": 2.604, \"size\": 0.0007078635565170024}, {\"Token\": \"feels\", \"Attributions\": -0.004117405315807401, \"x\": 4.536, \"size\": 0.004117405315807401}, {\"Token\": \"like\", \"Attributions\": -0.02445847817230226, \"x\": 6.93, \"size\": 0.02445847817230226}, {\"Token\": \"a\", \"Attributions\": -0.021132171470878022, \"x\": 8.676, \"size\": 0.021132171470878022}, {\"Token\": \"project\", \"Attributions\": 0.0032496590893079133, \"x\": 9.468, \"size\": 0.0032496590893079133}, {\"Token\": \"better\", \"Attributions\": -0.012360793545698124, \"x\": 12.792, \"size\": 0.012360793545698124}, {\"Token\": \"suited\", \"Attributions\": -0.012995750710123904, \"x\": 15.684, \"size\": 0.012995750710123904}, {\"Token\": \"for\", \"Attributions\": -0.013333964221100954, \"x\": 18.648, \"size\": 0.013333964221100954}, {\"Token\": \"the\", \"Attributions\": -0.03130145745945076, \"x\": 20.1, \"size\": 0.03130145745945076}, {\"Token\": \"small\", \"Attributions\": -0.036440561978639985, \"x\": 21.762, \"size\": 0.036440561978639985}, {\"Token\": \"screen\", \"Attributions\": 0.0, \"x\": 24.318, \"size\": 0.0}]}}, {\"mode\": \"vega-lite\"});\n",
       "</script>"
      ],
      "text/plain": [
       "alt.VConcatChart(...)"
      ]
     },
     "execution_count": 39,
     "metadata": {},
     "output_type": "execute_result"
    }
   ],
   "source": [
    "i = 7\n",
    "try:\n",
    "    interactions = np.load('interactions_{}.npy'.format(i))\n",
    "except FileNotFoundError as e:\n",
    "    interactions = get_interactions_for_index(i)\n",
    "    np.save('interactions_{}.npy'.format(i), interactions)\n",
    "batch_tokens = tokenizer.convert_ids_to_tokens(batch_ids[i].numpy())\n",
    "summed_interactions, summed_tokens = sum_interactions_over_tokens(interactions, batch_tokens)\n",
    "interaction_plot(summed_interactions, summed_tokens)"
   ]
  },
  {
   "cell_type": "code",
   "execution_count": 40,
   "metadata": {},
   "outputs": [
    {
     "data": {
      "text/html": [
       "\n",
       "<div id=\"altair-viz-16\"></div>\n",
       "<script type=\"text/javascript\">\n",
       "  (function(spec, embedOpt){\n",
       "    const outputDiv = document.getElementById(\"altair-viz-16\");\n",
       "    const paths = {\n",
       "      \"vega\": \"https://cdn.jsdelivr.net/npm//vega@5?noext\",\n",
       "      \"vega-lib\": \"https://cdn.jsdelivr.net/npm//vega-lib?noext\",\n",
       "      \"vega-lite\": \"https://cdn.jsdelivr.net/npm//vega-lite@4.0.0?noext\",\n",
       "      \"vega-embed\": \"https://cdn.jsdelivr.net/npm//vega-embed@6?noext\",\n",
       "    };\n",
       "\n",
       "    function loadScript(lib) {\n",
       "      return new Promise(function(resolve, reject) {\n",
       "        var s = document.createElement('script');\n",
       "        s.src = paths[lib];\n",
       "        s.async = true;\n",
       "        s.onload = () => resolve(paths[lib]);\n",
       "        s.onerror = () => reject(`Error loading script: ${paths[lib]}`);\n",
       "        document.getElementsByTagName(\"head\")[0].appendChild(s);\n",
       "      });\n",
       "    }\n",
       "\n",
       "    function showError(err) {\n",
       "      outputDiv.innerHTML = `<div class=\"error\" style=\"color:red;\">${err}</div>`;\n",
       "      throw err;\n",
       "    }\n",
       "\n",
       "    function displayChart(vegaEmbed) {\n",
       "      vegaEmbed(outputDiv, spec, embedOpt)\n",
       "        .catch(err => showError(`Javascript Error: ${err.message}<br>This usually means there's a typo in your chart specification. See the javascript console for the full traceback.`));\n",
       "    }\n",
       "\n",
       "    if(typeof define === \"function\" && define.amd) {\n",
       "      requirejs.config({paths});\n",
       "      require([\"vega-embed\"], displayChart, err => showError(`Error loading script: ${err.message}`));\n",
       "    } else if (typeof vegaEmbed === \"function\") {\n",
       "      displayChart(vegaEmbed);\n",
       "    } else {\n",
       "      loadScript(\"vega\")\n",
       "        .then(() => loadScript(\"vega-lite\"))\n",
       "        .then(() => loadScript(\"vega-embed\"))\n",
       "        .catch(showError)\n",
       "        .then(() => displayChart(vegaEmbed));\n",
       "    }\n",
       "  })({\"config\": {\"view\": {\"continuousWidth\": 400, \"continuousHeight\": 300, \"opacity\": 0.0}}, \"vconcat\": [{\"data\": {\"name\": \"data-439450ca791d4b161931c7057024ff39\"}, \"mark\": {\"type\": \"text\", \"align\": \"left\", \"color\": \"black\", \"font\": \"arial\", \"size\": 20}, \"encoding\": {\"color\": {\"type\": \"quantitative\", \"field\": \"Attributions\", \"legend\": null, \"scale\": {\"domain\": [-0.034818637274547086, 0.034818637274547086], \"scheme\": \"redyellowgreen\"}, \"sort\": \"ascending\"}, \"text\": {\"type\": \"nominal\", \"field\": \"Token\"}, \"x\": {\"type\": \"quantitative\", \"axis\": null, \"field\": \"x\", \"sort\": null}, \"y\": {\"value\": 0}}, \"title\": \"Interactions with a\", \"width\": 365.90400000000005}, {\"data\": {\"name\": \"data-4b966a1d80ae305ce036ebedf624d5bb\"}, \"mark\": {\"type\": \"text\", \"align\": \"left\", \"color\": \"black\", \"font\": \"arial\", \"size\": 20}, \"encoding\": {\"color\": {\"type\": \"quantitative\", \"field\": \"Attributions\", \"legend\": null, \"scale\": {\"domain\": [-0.026160925304976136, 0.026160925304976136], \"scheme\": \"redyellowgreen\"}, \"sort\": \"ascending\"}, \"text\": {\"type\": \"nominal\", \"field\": \"Token\"}, \"x\": {\"type\": \"quantitative\", \"axis\": null, \"field\": \"x\", \"sort\": null}, \"y\": {\"value\": 0}}, \"title\": \"Interactions with painfully\", \"width\": 365.90400000000005}, {\"data\": {\"name\": \"data-e498c74f6d96e5f3f503479ddb6e8561\"}, \"mark\": {\"type\": \"text\", \"align\": \"left\", \"color\": \"black\", \"font\": \"arial\", \"size\": 20}, \"encoding\": {\"color\": {\"type\": \"quantitative\", \"field\": \"Attributions\", \"legend\": null, \"scale\": {\"domain\": [-0.026864348988303612, 0.026864348988303612], \"scheme\": \"redyellowgreen\"}, \"sort\": \"ascending\"}, \"text\": {\"type\": \"nominal\", \"field\": \"Token\"}, \"x\": {\"type\": \"quantitative\", \"axis\": null, \"field\": \"x\", \"sort\": null}, \"y\": {\"value\": 0}}, \"title\": \"Interactions with funny\", \"width\": 365.90400000000005}, {\"data\": {\"name\": \"data-da9660a3b409dad90c9d9659d9ea437c\"}, \"mark\": {\"type\": \"text\", \"align\": \"left\", \"color\": \"black\", \"font\": \"arial\", \"size\": 20}, \"encoding\": {\"color\": {\"type\": \"quantitative\", \"field\": \"Attributions\", \"legend\": null, \"scale\": {\"domain\": [-0.07407684985522897, 0.07407684985522897], \"scheme\": \"redyellowgreen\"}, \"sort\": \"ascending\"}, \"text\": {\"type\": \"nominal\", \"field\": \"Token\"}, \"x\": {\"type\": \"quantitative\", \"axis\": null, \"field\": \"x\", \"sort\": null}, \"y\": {\"value\": 0}}, \"title\": \"Interactions with ode\", \"width\": 365.90400000000005}, {\"data\": {\"name\": \"data-2bf6a12a05e9bfccc18a4483db7ed0a6\"}, \"mark\": {\"type\": \"text\", \"align\": \"left\", \"color\": \"black\", \"font\": \"arial\", \"size\": 20}, \"encoding\": {\"color\": {\"type\": \"quantitative\", \"field\": \"Attributions\", \"legend\": null, \"scale\": {\"domain\": [-0.026188886413751916, 0.026188886413751916], \"scheme\": \"redyellowgreen\"}, \"sort\": \"ascending\"}, \"text\": {\"type\": \"nominal\", \"field\": \"Token\"}, \"x\": {\"type\": \"quantitative\", \"axis\": null, \"field\": \"x\", \"sort\": null}, \"y\": {\"value\": 0}}, \"title\": \"Interactions with to\", \"width\": 365.90400000000005}, {\"data\": {\"name\": \"data-84149592c710526453b8e03c8bf7617c\"}, \"mark\": {\"type\": \"text\", \"align\": \"left\", \"color\": \"black\", \"font\": \"arial\", \"size\": 20}, \"encoding\": {\"color\": {\"type\": \"quantitative\", \"field\": \"Attributions\", \"legend\": null, \"scale\": {\"domain\": [-0.028187018224546508, 0.028187018224546508], \"scheme\": \"redyellowgreen\"}, \"sort\": \"ascending\"}, \"text\": {\"type\": \"nominal\", \"field\": \"Token\"}, \"x\": {\"type\": \"quantitative\", \"axis\": null, \"field\": \"x\", \"sort\": null}, \"y\": {\"value\": 0}}, \"title\": \"Interactions with bad\", \"width\": 365.90400000000005}, {\"data\": {\"name\": \"data-87e5f85bd379e1c0573eeca62870d4b4\"}, \"mark\": {\"type\": \"text\", \"align\": \"left\", \"color\": \"black\", \"font\": \"arial\", \"size\": 20}, \"encoding\": {\"color\": {\"type\": \"quantitative\", \"field\": \"Attributions\", \"legend\": null, \"scale\": {\"domain\": [-0.035191330038570244, 0.035191330038570244], \"scheme\": \"redyellowgreen\"}, \"sort\": \"ascending\"}, \"text\": {\"type\": \"nominal\", \"field\": \"Token\"}, \"x\": {\"type\": \"quantitative\", \"axis\": null, \"field\": \"x\", \"sort\": null}, \"y\": {\"value\": 0}}, \"title\": \"Interactions with behavior\", \"width\": 365.90400000000005}], \"resolve\": {\"scale\": {\"color\": \"independent\"}}, \"$schema\": \"https://vega.github.io/schema/vega-lite/v4.0.0.json\", \"datasets\": {\"data-439450ca791d4b161931c7057024ff39\": [{\"Token\": \"a\", \"Attributions\": 0.0, \"x\": 0.0, \"size\": 0.0}, {\"Token\": \"painfully\", \"Attributions\": 0.02204948166012734, \"x\": 0.792, \"size\": 0.02204948166012734}, {\"Token\": \"funny\", \"Attributions\": 0.034818637274547086, \"x\": 4.7700000000000005, \"size\": 0.034818637274547086}, {\"Token\": \"ode\", \"Attributions\": 0.016701764356466156, \"x\": 7.5120000000000005, \"size\": 0.016701764356466156}, {\"Token\": \"to\", \"Attributions\": 0.02417759618852669, \"x\": 9.444, \"size\": 0.02417759618852669}, {\"Token\": \"bad\", \"Attributions\": 0.00621968125138036, \"x\": 10.536000000000001, \"size\": 0.00621968125138036}, {\"Token\": \"behavior\", \"Attributions\": -0.010457799365115249, \"x\": 12.468000000000002, \"size\": 0.010457799365115249}], \"data-4b966a1d80ae305ce036ebedf624d5bb\": [{\"Token\": \"a\", \"Attributions\": 0.026160925304976136, \"x\": 0.0, \"size\": 0.026160925304976136}, {\"Token\": \"painfully\", \"Attributions\": 0.0, \"x\": 0.792, \"size\": 0.0}, {\"Token\": \"funny\", \"Attributions\": -0.014630691417300327, \"x\": 4.7700000000000005, \"size\": 0.014630691417300327}, {\"Token\": \"ode\", \"Attributions\": 0.023523471025944813, \"x\": 7.5120000000000005, \"size\": 0.023523471025944813}, {\"Token\": \"to\", \"Attributions\": 0.013677500121318003, \"x\": 9.444, \"size\": 0.013677500121318003}, {\"Token\": \"bad\", \"Attributions\": -0.0030775728622486503, \"x\": 10.536000000000001, \"size\": 0.0030775728622486503}, {\"Token\": \"behavior\", \"Attributions\": -0.010345514059042313, \"x\": 12.468000000000002, \"size\": 0.010345514059042313}], \"data-e498c74f6d96e5f3f503479ddb6e8561\": [{\"Token\": \"a\", \"Attributions\": 0.026864348988303612, \"x\": 0.0, \"size\": 0.026864348988303612}, {\"Token\": \"painfully\", \"Attributions\": -0.02296435506772725, \"x\": 0.792, \"size\": 0.02296435506772725}, {\"Token\": \"funny\", \"Attributions\": 0.0, \"x\": 4.7700000000000005, \"size\": 0.0}, {\"Token\": \"ode\", \"Attributions\": 0.0034147641468615583, \"x\": 7.5120000000000005, \"size\": 0.0034147641468615583}, {\"Token\": \"to\", \"Attributions\": -0.008221395128146621, \"x\": 9.444, \"size\": 0.008221395128146621}, {\"Token\": \"bad\", \"Attributions\": 0.007360887855583359, \"x\": 10.536000000000001, \"size\": 0.007360887855583359}, {\"Token\": \"behavior\", \"Attributions\": -0.0067472480796070865, \"x\": 12.468000000000002, \"size\": 0.0067472480796070865}], \"data-da9660a3b409dad90c9d9659d9ea437c\": [{\"Token\": \"a\", \"Attributions\": 0.045867987418068176, \"x\": 0.0, \"size\": 0.045867987418068176}, {\"Token\": \"painfully\", \"Attributions\": 0.07407684985522897, \"x\": 0.792, \"size\": 0.07407684985522897}, {\"Token\": \"funny\", \"Attributions\": 0.05321062879566152, \"x\": 4.7700000000000005, \"size\": 0.05321062879566152}, {\"Token\": \"ode\", \"Attributions\": 0.0, \"x\": 7.5120000000000005, \"size\": 0.0}, {\"Token\": \"to\", \"Attributions\": 0.0502825348693753, \"x\": 9.444, \"size\": 0.0502825348693753}, {\"Token\": \"bad\", \"Attributions\": 0.02954665152502, \"x\": 10.536000000000001, \"size\": 0.02954665152502}, {\"Token\": \"behavior\", \"Attributions\": 0.02008560284890014, \"x\": 12.468000000000002, \"size\": 0.02008560284890014}], \"data-2bf6a12a05e9bfccc18a4483db7ed0a6\": [{\"Token\": \"a\", \"Attributions\": 0.007809396683140019, \"x\": 0.0, \"size\": 0.007809396683140019}, {\"Token\": \"painfully\", \"Attributions\": 0.02364071418460323, \"x\": 0.792, \"size\": 0.02364071418460323}, {\"Token\": \"funny\", \"Attributions\": 0.0020745376957295534, \"x\": 4.7700000000000005, \"size\": 0.0020745376957295534}, {\"Token\": \"ode\", \"Attributions\": 0.02300779961133131, \"x\": 7.5120000000000005, \"size\": 0.02300779961133131}, {\"Token\": \"to\", \"Attributions\": 0.0, \"x\": 9.444, \"size\": 0.0}, {\"Token\": \"bad\", \"Attributions\": 0.026188886413751916, \"x\": 10.536000000000001, \"size\": 0.026188886413751916}, {\"Token\": \"behavior\", \"Attributions\": 0.0014284773138710381, \"x\": 12.468000000000002, \"size\": 0.0014284773138710381}], \"data-84149592c710526453b8e03c8bf7617c\": [{\"Token\": \"a\", \"Attributions\": 0.017719536224003463, \"x\": 0.0, \"size\": 0.017719536224003463}, {\"Token\": \"painfully\", \"Attributions\": 0.014216550018080653, \"x\": 0.792, \"size\": 0.014216550018080653}, {\"Token\": \"funny\", \"Attributions\": 0.02454792074642068, \"x\": 4.7700000000000005, \"size\": 0.02454792074642068}, {\"Token\": \"ode\", \"Attributions\": 0.0028331240011040216, \"x\": 7.5120000000000005, \"size\": 0.0028331240011040216}, {\"Token\": \"to\", \"Attributions\": 0.020487028403856012, \"x\": 9.444, \"size\": 0.020487028403856012}, {\"Token\": \"bad\", \"Attributions\": 0.0, \"x\": 10.536000000000001, \"size\": 0.0}, {\"Token\": \"behavior\", \"Attributions\": -0.028187018224546508, \"x\": 12.468000000000002, \"size\": 0.028187018224546508}], \"data-87e5f85bd379e1c0573eeca62870d4b4\": [{\"Token\": \"a\", \"Attributions\": 0.02294063903706164, \"x\": 0.0, \"size\": 0.02294063903706164}, {\"Token\": \"painfully\", \"Attributions\": 0.02003999542954159, \"x\": 0.792, \"size\": 0.02003999542954159}, {\"Token\": \"funny\", \"Attributions\": -0.015392694441620763, \"x\": 4.7700000000000005, \"size\": 0.015392694441620763}, {\"Token\": \"ode\", \"Attributions\": 0.02552458330473345, \"x\": 7.5120000000000005, \"size\": 0.02552458330473345}, {\"Token\": \"to\", \"Attributions\": 0.03191797768262173, \"x\": 9.444, \"size\": 0.03191797768262173}, {\"Token\": \"bad\", \"Attributions\": -0.035191330038570244, \"x\": 10.536000000000001, \"size\": 0.035191330038570244}, {\"Token\": \"behavior\", \"Attributions\": 0.0, \"x\": 12.468000000000002, \"size\": 0.0}]}}, {\"mode\": \"vega-lite\"});\n",
       "</script>"
      ],
      "text/plain": [
       "alt.VConcatChart(...)"
      ]
     },
     "execution_count": 40,
     "metadata": {},
     "output_type": "execute_result"
    }
   ],
   "source": [
    "i = 10\n",
    "try:\n",
    "    interactions = np.load('interactions_{}.npy'.format(i))\n",
    "except FileNotFoundError as e:\n",
    "    interactions = get_interactions_for_index(i)\n",
    "    np.save('interactions_{}.npy'.format(i), interactions)\n",
    "batch_tokens = tokenizer.convert_ids_to_tokens(batch_ids[i].numpy())\n",
    "summed_interactions, summed_tokens = sum_interactions_over_tokens(interactions, batch_tokens)\n",
    "interaction_plot(summed_interactions, summed_tokens)"
   ]
  }
 ],
 "metadata": {
  "kernelspec": {
   "display_name": "Python 3",
   "language": "python",
   "name": "python3"
  },
  "language_info": {
   "codemirror_mode": {
    "name": "ipython",
    "version": 3
   },
   "file_extension": ".py",
   "mimetype": "text/x-python",
   "name": "python",
   "nbconvert_exporter": "python",
   "pygments_lexer": "ipython3",
   "version": "3.7.4"
  }
 },
 "nbformat": 4,
 "nbformat_minor": 4
}
