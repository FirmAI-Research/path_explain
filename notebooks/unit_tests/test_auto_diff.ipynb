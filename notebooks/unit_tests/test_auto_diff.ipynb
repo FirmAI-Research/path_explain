{
 "cells": [
  {
   "cell_type": "code",
   "execution_count": 42,
   "metadata": {},
   "outputs": [],
   "source": [
    "%load_ext autoreload\n",
    "%autoreload 2"
   ]
  },
  {
   "cell_type": "code",
   "execution_count": 44,
   "metadata": {},
   "outputs": [],
   "source": [
    "import tensorflow as tf\n",
    "import numpy as np\n",
    "from path_explain.path_explainer_tf import PathExplainerTF"
   ]
  },
  {
   "cell_type": "code",
   "execution_count": 25,
   "metadata": {},
   "outputs": [],
   "source": [
    "x = tf.constant([[2.0, 5.0], [6.0, 8.0]])"
   ]
  },
  {
   "cell_type": "code",
   "execution_count": 31,
   "metadata": {},
   "outputs": [
    {
     "data": {
      "text/plain": [
       "<tf.Tensor: id=147, shape=(2, 2), dtype=float32, numpy=\n",
       "array([[ 4., 10.],\n",
       "       [12., 16.]], dtype=float32)>"
      ]
     },
     "execution_count": 31,
     "metadata": {},
     "output_type": "execute_result"
    }
   ],
   "source": [
    "with tf.GradientTape() as t:\n",
    "    t.watch(x)\n",
    "    y = tf.square(x)\n",
    "    z = tf.reduce_sum(y, axis=-1)\n",
    "t.gradient(z, x)"
   ]
  },
  {
   "cell_type": "code",
   "execution_count": 34,
   "metadata": {},
   "outputs": [],
   "source": [
    "model = tf.keras.models.Sequential()\n",
    "model.add(tf.keras.layers.Dense(1, input_shape=(2,)))"
   ]
  },
  {
   "cell_type": "code",
   "execution_count": 37,
   "metadata": {},
   "outputs": [
    {
     "data": {
      "text/plain": [
       "[<tf.Variable 'dense/kernel:0' shape=(2, 1) dtype=float32, numpy=\n",
       " array([[0.3474363],\n",
       "        [0.6916834]], dtype=float32)>,\n",
       " <tf.Variable 'dense/bias:0' shape=(1,) dtype=float32, numpy=array([0.], dtype=float32)>]"
      ]
     },
     "execution_count": 37,
     "metadata": {},
     "output_type": "execute_result"
    }
   ],
   "source": [
    "model.weights"
   ]
  },
  {
   "cell_type": "code",
   "execution_count": 79,
   "metadata": {},
   "outputs": [],
   "source": [
    "k = tf.constant([[200.0, 500.0], [6.0, 8.0]])"
   ]
  },
  {
   "cell_type": "code",
   "execution_count": 80,
   "metadata": {},
   "outputs": [
    {
     "data": {
      "text/plain": [
       "<tf.Tensor: id=541, shape=(2, 2), dtype=float32, numpy=\n",
       "array([[0.3474363, 0.6916834],\n",
       "       [0.3474363, 0.6916834]], dtype=float32)>"
      ]
     },
     "execution_count": 80,
     "metadata": {},
     "output_type": "execute_result"
    }
   ],
   "source": [
    "with tf.GradientTape() as t:\n",
    "    t.watch(k)\n",
    "    y = model(k)\n",
    "t.gradient(y, k)"
   ]
  },
  {
   "cell_type": "code",
   "execution_count": 83,
   "metadata": {},
   "outputs": [
    {
     "name": "stdout",
     "output_type": "stream",
     "text": [
      "tf.Tensor(\n",
      "[[0.3474363 0.6916834]\n",
      " [0.3474363 0.6916834]\n",
      " [0.3474363 0.6916834]\n",
      " [0.3474363 0.6916834]\n",
      " [0.3474363 0.6916834]\n",
      " [0.3474363 0.6916834]\n",
      " [0.3474363 0.6916834]\n",
      " [0.3474363 0.6916834]\n",
      " [0.3474363 0.6916834]\n",
      " [0.3474363 0.6916834]], shape=(10, 2), dtype=float32)\n",
      "tf.Tensor(\n",
      "[[2. 5.]\n",
      " [2. 5.]\n",
      " [2. 5.]\n",
      " [2. 5.]\n",
      " [2. 5.]\n",
      " [2. 5.]\n",
      " [2. 5.]\n",
      " [2. 5.]\n",
      " [2. 5.]\n",
      " [2. 5.]], shape=(10, 2), dtype=float32)\n"
     ]
    }
   ],
   "source": [
    "num_samples = 10\n",
    "explainer = PathExplainerTF(model)\n",
    "eg_single = explainer._single_attribution(x[0], np.zeros((1, 2)).astype(np.float32),\n",
    "                            current_alphas=np.linspace(0.0, 1.0, num_samples).astype(np.float32),\n",
    "                            num_samples=num_samples, batch_size=50,\n",
    "                            use_expectation=False, output_index=0)"
   ]
  },
  {
   "cell_type": "code",
   "execution_count": 84,
   "metadata": {},
   "outputs": [
    {
     "data": {
      "text/plain": [
       "array([0.6948727, 3.4584165], dtype=float32)"
      ]
     },
     "execution_count": 84,
     "metadata": {},
     "output_type": "execute_result"
    }
   ],
   "source": [
    "eg_single"
   ]
  },
  {
   "cell_type": "code",
   "execution_count": 74,
   "metadata": {},
   "outputs": [
    {
     "data": {
      "text/plain": [
       "<tf.Tensor: id=443, shape=(2,), dtype=float32, numpy=array([0.6948726, 3.458417 ], dtype=float32)>"
      ]
     },
     "execution_count": 74,
     "metadata": {},
     "output_type": "execute_result"
    }
   ],
   "source": [
    "model.weights[0][:, 0] * x[0]"
   ]
  },
  {
   "cell_type": "code",
   "execution_count": 67,
   "metadata": {},
   "outputs": [
    {
     "data": {
      "text/plain": [
       "<tf.Tensor: id=414, shape=(1, 1), dtype=float32, numpy=array([[4.15329]], dtype=float32)>"
      ]
     },
     "execution_count": 67,
     "metadata": {},
     "output_type": "execute_result"
    }
   ],
   "source": [
    "model(x[0:1])"
   ]
  },
  {
   "cell_type": "code",
   "execution_count": 61,
   "metadata": {},
   "outputs": [
    {
     "data": {
      "text/plain": [
       "array([0.34743634, 1.7292084 ], dtype=float32)"
      ]
     },
     "execution_count": 61,
     "metadata": {},
     "output_type": "execute_result"
    }
   ],
   "source": [
    "eg_single"
   ]
  }
 ],
 "metadata": {
  "kernelspec": {
   "display_name": "Python 3",
   "language": "python",
   "name": "python3"
  },
  "language_info": {
   "codemirror_mode": {
    "name": "ipython",
    "version": 3
   },
   "file_extension": ".py",
   "mimetype": "text/x-python",
   "name": "python",
   "nbconvert_exporter": "python",
   "pygments_lexer": "ipython3",
   "version": "3.7.4"
  }
 },
 "nbformat": 4,
 "nbformat_minor": 4
}
