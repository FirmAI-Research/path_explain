{
 "cells": [
  {
   "cell_type": "code",
   "execution_count": 1,
   "metadata": {},
   "outputs": [],
   "source": [
    "import os\n",
    "os.environ['CUDA_VISIBLE_DEVICES'] = '6'"
   ]
  },
  {
   "cell_type": "code",
   "execution_count": null,
   "metadata": {},
   "outputs": [],
   "source": [
    "import tensorflow as tf\n",
    "import numpy as np\n",
    "import pandas as pd\n",
    "import altair as alt\n",
    "from path_explain.path_explainer_tf import PathExplainerTF"
   ]
  },
  {
   "cell_type": "code",
   "execution_count": null,
   "metadata": {},
   "outputs": [],
   "source": [
    "baseline = np.random.randn(1000, 10)\n",
    "inputs = np.random.randn(50, 10)"
   ]
  },
  {
   "cell_type": "code",
   "execution_count": null,
   "metadata": {},
   "outputs": [],
   "source": [
    "model = tf.keras.models.Sequential()\n",
    "model.add(tf.keras.layers.Input(10, dtype=tf.float32))\n",
    "model.add(tf.keras.layers.Dense(5, activation=tf.keras.activations.relu, use_bias=True))\n",
    "model.add(tf.keras.layers.Dense(1, activation=None, use_bias=False))"
   ]
  },
  {
   "cell_type": "code",
   "execution_count": null,
   "metadata": {},
   "outputs": [],
   "source": [
    "explainer = PathExplainerTF(model)"
   ]
  },
  {
   "cell_type": "code",
   "execution_count": null,
   "metadata": {},
   "outputs": [],
   "source": [
    "for number_to_draw in [1, 100, 1000]:\n",
    "    sampled_baseline = explainer._sample_baseline(baseline, number_to_draw, True)\n",
    "    assert sampled_baseline.shape == (number_to_draw, 10), \\\n",
    "                                     \"Expected: {}, Received: {}\".format((number_to_draw, 10),\n",
    "                                                                          sampled_baseline.shape)\n",
    "    sampled_baseline = explainer._sample_baseline(baseline[0:1], number_to_draw, False)\n",
    "    assert sampled_baseline.shape == (number_to_draw, 10), \\\n",
    "                                     \"Expected: {}, Received: {}\".format((number_to_draw, 10),\n",
    "                                                                          sampled_baseline.shape)"
   ]
  },
  {
   "cell_type": "code",
   "execution_count": null,
   "metadata": {},
   "outputs": [],
   "source": [
    "current_alphas = explainer._sample_alphas(num_samples=100, use_expectation=True)\n",
    "explainer._single_attribution(inputs[0], baseline,\n",
    "                            current_alphas, num_samples=100, batch_size=50,\n",
    "                            use_expectation=True, output_index=None)"
   ]
  },
  {
   "cell_type": "code",
   "execution_count": null,
   "metadata": {},
   "outputs": [],
   "source": [
    "current_alphas"
   ]
  },
  {
   "cell_type": "code",
   "execution_count": null,
   "metadata": {},
   "outputs": [],
   "source": [
    "explainer.attributions(inputs, baseline,\n",
    "                     batch_size=50, num_samples=100,\n",
    "                     use_expectation=True, output_indices=None,\n",
    "                     verbose=False)"
   ]
  }
 ],
 "metadata": {
  "kernelspec": {
   "display_name": "Python 3",
   "language": "python",
   "name": "python3"
  },
  "language_info": {
   "codemirror_mode": {
    "name": "ipython",
    "version": 3
   },
   "file_extension": ".py",
   "mimetype": "text/x-python",
   "name": "python",
   "nbconvert_exporter": "python",
   "pygments_lexer": "ipython3",
   "version": "3.7.4"
  }
 },
 "nbformat": 4,
 "nbformat_minor": 4
}
