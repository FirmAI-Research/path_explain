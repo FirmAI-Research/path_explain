{
 "cells": [
  {
   "cell_type": "code",
   "execution_count": 1,
   "metadata": {},
   "outputs": [],
   "source": [
    "%load_ext autoreload\n",
    "%autoreload 2"
   ]
  },
  {
   "cell_type": "code",
   "execution_count": 2,
   "metadata": {},
   "outputs": [],
   "source": [
    "import os\n",
    "os.environ['CUDA_VISIBLE_DEVICES'] = '0'"
   ]
  },
  {
   "cell_type": "code",
   "execution_count": 3,
   "metadata": {},
   "outputs": [],
   "source": [
    "import tensorflow as tf\n",
    "import numpy as np\n",
    "import pandas as pd\n",
    "import altair as alt\n",
    "import time\n",
    "from tqdm import tqdm\n",
    "from path_explain.path_explainer_tf import PathExplainerTF"
   ]
  },
  {
   "cell_type": "code",
   "execution_count": 4,
   "metadata": {},
   "outputs": [],
   "source": [
    "baseline = np.random.randn(1000, 10)\n",
    "inputs = np.random.randn(50, 10)"
   ]
  },
  {
   "cell_type": "code",
   "execution_count": 5,
   "metadata": {},
   "outputs": [],
   "source": [
    "model = tf.keras.models.Sequential()\n",
    "model.add(tf.keras.layers.Input(10, dtype=tf.float32))\n",
    "model.add(tf.keras.layers.Dense(5, activation=tf.keras.activations.softplus, use_bias=True))\n",
    "model.add(tf.keras.layers.Dense(1, activation=None, use_bias=False))"
   ]
  },
  {
   "cell_type": "code",
   "execution_count": 8,
   "metadata": {},
   "outputs": [],
   "source": [
    "explainer = PathExplainerTF(model)"
   ]
  },
  {
   "cell_type": "code",
   "execution_count": 9,
   "metadata": {},
   "outputs": [],
   "source": [
    "current_alphas = explainer._sample_alphas(num_samples=100, use_expectation=True, use_product=True)\n",
    "interactions = explainer._single_interaction(inputs[0], baseline,\n",
    "                              current_alphas, num_samples=100, batch_size=50,\n",
    "                              use_expectation=True, output_index=None,\n",
    "                              interaction_index=None)\n",
    "assert interactions.shape == (10, 10)"
   ]
  },
  {
   "cell_type": "markdown",
   "metadata": {},
   "source": [
    "## Testing Shape\n",
    "We need to make sure our attributions return an array of the right shape."
   ]
  },
  {
   "cell_type": "code",
   "execution_count": 10,
   "metadata": {},
   "outputs": [
    {
     "name": "stderr",
     "output_type": "stream",
     "text": [
      "100%|██████████| 50/50 [00:00<00:00, 216.32it/s]\n"
     ]
    }
   ],
   "source": [
    "interactions = explainer.interactions(inputs, baseline,\n",
    "                     batch_size=100, num_samples=100,\n",
    "                     use_expectation=True, output_indices=[0] * len(inputs),\n",
    "                     verbose=True, interaction_index=0)\n",
    "assert interactions.shape == (50, 10)"
   ]
  },
  {
   "cell_type": "code",
   "execution_count": 11,
   "metadata": {},
   "outputs": [
    {
     "name": "stderr",
     "output_type": "stream",
     "text": [
      "100%|██████████| 50/50 [00:07<00:00,  6.40it/s]\n"
     ]
    }
   ],
   "source": [
    "interactions = explainer.interactions(inputs, baseline,\n",
    "                     batch_size=100, num_samples=100,\n",
    "                     use_expectation=True, output_indices=[0] * len(inputs),\n",
    "                     verbose=True, interaction_index=None)\n",
    "assert interactions.shape == (50, 10, 10)"
   ]
  },
  {
   "cell_type": "markdown",
   "metadata": {},
   "source": [
    "## Testing completeness\n",
    "We need to make sure our interactions satisfy completeness!"
   ]
  },
  {
   "cell_type": "code",
   "execution_count": 12,
   "metadata": {},
   "outputs": [
    {
     "name": "stderr",
     "output_type": "stream",
     "text": [
      "100%|██████████| 50/50 [00:07<00:00,  6.59it/s]\n"
     ]
    }
   ],
   "source": [
    "interactions = explainer.interactions(inputs, baseline,\n",
    "                     batch_size=100, num_samples=100,\n",
    "                     use_expectation=True, output_indices=[0] * len(inputs),\n",
    "                     verbose=True, interaction_index=None)"
   ]
  },
  {
   "cell_type": "code",
   "execution_count": 14,
   "metadata": {},
   "outputs": [
    {
     "name": "stderr",
     "output_type": "stream",
     "text": [
      "\n",
      "  0%|          | 0/50 [00:00<?, ?it/s]\u001b[A\n",
      "100%|██████████| 50/50 [00:00<00:00, 310.04it/s]\u001b[A\n"
     ]
    }
   ],
   "source": [
    "attributions = explainer.attributions(inputs, baseline,\n",
    "                     batch_size=100, num_samples=100,\n",
    "                     use_expectation=True, output_indices=[0] * len(inputs),\n",
    "                     verbose=True)"
   ]
  },
  {
   "cell_type": "code",
   "execution_count": 15,
   "metadata": {},
   "outputs": [
    {
     "data": {
      "application/vnd.vegalite.v3+json": {
       "$schema": "https://vega.github.io/schema/vega-lite/v3.4.0.json",
       "config": {
        "mark": {
         "tooltip": null
        },
        "view": {
         "height": 300,
         "width": 400
        }
       },
       "data": {
        "name": "data-47767d3045602dea6fa46af5c64eafba"
       },
       "datasets": {
        "data-47767d3045602dea6fa46af5c64eafba": [
         {
          "attributions": -0.04735624115255965,
          "summed interactions": -0.04423528887121353
         },
         {
          "attributions": -0.14291588820172507,
          "summed interactions": -0.17519877560030295
         },
         {
          "attributions": 0.10502854412111892,
          "summed interactions": 0.06947630554720809
         },
         {
          "attributions": -0.15835092659670644,
          "summed interactions": -0.17984748368399553
         },
         {
          "attributions": -0.07050267260231452,
          "summed interactions": -0.08248012441360242
         },
         {
          "attributions": 0.02481925876451964,
          "summed interactions": 0.018915981118860073
         },
         {
          "attributions": 0.13800449283682703,
          "summed interactions": 0.06932839523306712
         },
         {
          "attributions": 0.20631320257250998,
          "summed interactions": 0.19736974829507756
         },
         {
          "attributions": 0.003614528094003559,
          "summed interactions": 0.006030795407778377
         },
         {
          "attributions": 0.009936611237503086,
          "summed interactions": 0.013412542778566119
         },
         {
          "attributions": -0.2398295782976161,
          "summed interactions": -0.20076400959484408
         },
         {
          "attributions": 0.12911740583434805,
          "summed interactions": 0.11801597473432912
         },
         {
          "attributions": -0.3915558914381085,
          "summed interactions": -0.2920647178792792
         },
         {
          "attributions": 0.12718871975104867,
          "summed interactions": 0.14404460796840635
         },
         {
          "attributions": -0.06181851884749689,
          "summed interactions": -0.044753989507163985
         },
         {
          "attributions": -0.050542947804137955,
          "summed interactions": -0.01942381961330356
         },
         {
          "attributions": 0.33245106988648343,
          "summed interactions": 0.357288983397621
         },
         {
          "attributions": 0.09475236128298366,
          "summed interactions": 0.08501115122218883
         },
         {
          "attributions": -0.04378405833150098,
          "summed interactions": -0.02295794615308337
         },
         {
          "attributions": 0.07996419700813727,
          "summed interactions": 0.07368294865154984
         },
         {
          "attributions": 0.16641198450963127,
          "summed interactions": 0.19094097585627887
         },
         {
          "attributions": -0.08060500764655516,
          "summed interactions": -0.06828374295314261
         },
         {
          "attributions": 0.3652708667006911,
          "summed interactions": 0.3384257312367761
         },
         {
          "attributions": -0.1582158807261826,
          "summed interactions": -0.15251335063587693
         },
         {
          "attributions": 0.0774342429873186,
          "summed interactions": 0.06345929514565661
         },
         {
          "attributions": 0.037904364459329966,
          "summed interactions": 0.05874119300813425
         },
         {
          "attributions": 0.2706397579106126,
          "summed interactions": 0.27745974368499854
         },
         {
          "attributions": -0.29561264640989504,
          "summed interactions": -0.2795037490491077
         },
         {
          "attributions": -0.0267855187098641,
          "summed interactions": -0.023520616811367124
         },
         {
          "attributions": -0.01760499067994803,
          "summed interactions": -0.01803295762110317
         },
         {
          "attributions": -0.10638037556557454,
          "summed interactions": -0.11557126510287627
         },
         {
          "attributions": -0.013944579090550547,
          "summed interactions": -0.0017732201514892442
         },
         {
          "attributions": 0.06940590718115733,
          "summed interactions": 0.12324272670119364
         },
         {
          "attributions": -0.06723233395960074,
          "summed interactions": -0.06193732832836092
         },
         {
          "attributions": -0.05670109256826719,
          "summed interactions": -0.03250796269125238
         },
         {
          "attributions": -0.07141577446464359,
          "summed interactions": -0.05523241335962491
         },
         {
          "attributions": -0.2969103471008282,
          "summed interactions": -0.3011870764955371
         },
         {
          "attributions": -0.04891751366089269,
          "summed interactions": -0.06210128072378861
         },
         {
          "attributions": -0.028075835440652605,
          "summed interactions": -0.031872512006000615
         },
         {
          "attributions": -0.001766482500224346,
          "summed interactions": -0.0014840352156134662
         },
         {
          "attributions": 0.17896965013668742,
          "summed interactions": 0.14410603426441976
         },
         {
          "attributions": -0.16384820446581197,
          "summed interactions": -0.1635572377898282
         },
         {
          "attributions": -0.17897170272094245,
          "summed interactions": -0.22748979904827735
         },
         {
          "attributions": -0.06382366080622134,
          "summed interactions": -0.017235443971951304
         },
         {
          "attributions": 0.05122546136575225,
          "summed interactions": 0.04771031774609069
         },
         {
          "attributions": 0.23703355124596817,
          "summed interactions": 0.2983562858855213
         },
         {
          "attributions": -0.13104450393867112,
          "summed interactions": -0.16531400021470719
         },
         {
          "attributions": 0.17978629694660267,
          "summed interactions": 0.18289679297646447
         },
         {
          "attributions": -0.02623733879207755,
          "summed interactions": -0.038224864501738905
         },
         {
          "attributions": -0.007171401843208585,
          "summed interactions": -0.004920638498790043
         },
         {
          "attributions": 0.30835752010191736,
          "summed interactions": 0.30803461329975607
         },
         {
          "attributions": -0.02237489181208059,
          "summed interactions": -0.002207366508480834
         },
         {
          "attributions": -0.18688752735892286,
          "summed interactions": -0.2503134873953744
         },
         {
          "attributions": -0.15655175893311365,
          "summed interactions": -0.14017001615521704
         },
         {
          "attributions": -0.022070117516994565,
          "summed interactions": -0.026318378448569005
         },
         {
          "attributions": -0.08706309753087638,
          "summed interactions": -0.08414335125269472
         },
         {
          "attributions": -0.16913595167373544,
          "summed interactions": -0.11786332768284709
         },
         {
          "attributions": -0.13334599442627165,
          "summed interactions": -0.13348177926385518
         },
         {
          "attributions": -0.030602676393500148,
          "summed interactions": -0.01789912596565737
         },
         {
          "attributions": 0.03133868815642907,
          "summed interactions": 0.026666211514364532
         },
         {
          "attributions": -0.10046130861265912,
          "summed interactions": -0.1199015480701832
         },
         {
          "attributions": -0.05366993871317284,
          "summed interactions": -0.05262766273134444
         },
         {
          "attributions": 0.20129189270894313,
          "summed interactions": 0.22447639169414668
         },
         {
          "attributions": -0.12323501841078777,
          "summed interactions": -0.09454200522865354
         },
         {
          "attributions": -0.024411152473224743,
          "summed interactions": -0.027276364698577967
         },
         {
          "attributions": -0.06107571418811764,
          "summed interactions": -0.057927290384057216
         },
         {
          "attributions": -0.1656045897453759,
          "summed interactions": -0.23099718976993644
         },
         {
          "attributions": -0.025272166520517052,
          "summed interactions": 0.010446349935798944
         },
         {
          "attributions": 0.027576445447392434,
          "summed interactions": 0.023111820899011485
         },
         {
          "attributions": -0.003687905239104975,
          "summed interactions": -0.005517904629945425
         },
         {
          "attributions": -0.2968725211999442,
          "summed interactions": -0.29105797810106027
         },
         {
          "attributions": 0.04833097667850086,
          "summed interactions": 0.06552300743574563
         },
         {
          "attributions": -0.27919457430112193,
          "summed interactions": -0.2979923376692928
         },
         {
          "attributions": 0.23139873443112913,
          "summed interactions": 0.18890144343364418
         },
         {
          "attributions": 0.03981180939524168,
          "summed interactions": 0.033837461049556476
         },
         {
          "attributions": -0.006285561466764883,
          "summed interactions": 0.005039560157718447
         },
         {
          "attributions": 0.2591149913990247,
          "summed interactions": 0.18611453762474092
         },
         {
          "attributions": 0.0032791369252518666,
          "summed interactions": -0.02861268884543666
         },
         {
          "attributions": 0.020633914392334023,
          "summed interactions": 0.004766586471265693
         },
         {
          "attributions": 0.06156657388712011,
          "summed interactions": 0.05150501222217019
         },
         {
          "attributions": -0.06663576910659125,
          "summed interactions": -0.07564000572258525
         },
         {
          "attributions": -0.03374009765207985,
          "summed interactions": -0.03542323335662661
         },
         {
          "attributions": -0.21704851765562533,
          "summed interactions": -0.19597069521910176
         },
         {
          "attributions": 0.06997847546858285,
          "summed interactions": 0.05045088895277572
         },
         {
          "attributions": -0.012816308077113068,
          "summed interactions": 0.009281545875373172
         },
         {
          "attributions": -0.03613688137587092,
          "summed interactions": -0.03265627335684458
         },
         {
          "attributions": -0.18369828364319843,
          "summed interactions": -0.20897171234194026
         },
         {
          "attributions": 0.05739903135121324,
          "summed interactions": 0.07859038562545176
         },
         {
          "attributions": -0.011122952032144607,
          "summed interactions": -0.025564080526778686
         },
         {
          "attributions": -0.009101568325419624,
          "summed interactions": -0.01150235401091342
         },
         {
          "attributions": 0.03751868975135904,
          "summed interactions": -0.001345633285979901
         },
         {
          "attributions": -0.0438154733313182,
          "summed interactions": -0.028549463702619744
         },
         {
          "attributions": -0.28405206406387085,
          "summed interactions": -0.25817546539387604
         },
         {
          "attributions": 0.15764246901696422,
          "summed interactions": 0.11161436067653192
         },
         {
          "attributions": -0.006661531781190411,
          "summed interactions": 3.0151531601013064e-05
         },
         {
          "attributions": 0.11874854183261058,
          "summed interactions": 0.11062449327529349
         },
         {
          "attributions": 0.05098155640187343,
          "summed interactions": 0.09397973526529116
         },
         {
          "attributions": 0.26585371611205333,
          "summed interactions": 0.24341696578948555
         },
         {
          "attributions": -0.04487576073883405,
          "summed interactions": -0.03408263648782276
         },
         {
          "attributions": -0.05913484365392737,
          "summed interactions": -0.05159927202846607
         },
         {
          "attributions": -0.04013579933826373,
          "summed interactions": 0.012072554880032609
         },
         {
          "attributions": -0.02010953591532623,
          "summed interactions": -0.015101380183210677
         },
         {
          "attributions": 0.08503263478846425,
          "summed interactions": 0.0846228347624067
         },
         {
          "attributions": 0.1291828386473282,
          "summed interactions": 0.11799171251792097
         },
         {
          "attributions": 0.04937570657211924,
          "summed interactions": 0.0430697430559866
         },
         {
          "attributions": 0.1278345115064337,
          "summed interactions": 0.1164288256377082
         },
         {
          "attributions": -0.2738284426030899,
          "summed interactions": -0.3116583129971973
         },
         {
          "attributions": -0.23171120849316548,
          "summed interactions": -0.24483444823181827
         },
         {
          "attributions": -0.02664127646410472,
          "summed interactions": -0.019631007128004772
         },
         {
          "attributions": 0.04011472284715733,
          "summed interactions": 0.0447983897204045
         },
         {
          "attributions": -0.12277362517570589,
          "summed interactions": -0.1941213610468726
         },
         {
          "attributions": 0.34644488010901897,
          "summed interactions": 0.40822272725375475
         },
         {
          "attributions": 0.17703098940970136,
          "summed interactions": 0.22773642056548699
         },
         {
          "attributions": -0.39344135135240954,
          "summed interactions": -0.40671415483325246
         },
         {
          "attributions": 0.00253111492145217,
          "summed interactions": 0.003384869989113898
         },
         {
          "attributions": -0.05831113870810603,
          "summed interactions": -0.014687291809447773
         },
         {
          "attributions": 0.10312592691465335,
          "summed interactions": 0.256200347185816
         },
         {
          "attributions": 0.26777354772895445,
          "summed interactions": 0.2753877794415576
         },
         {
          "attributions": 0.1967429386970771,
          "summed interactions": 0.23712986216037485
         },
         {
          "attributions": -0.029088160742216984,
          "summed interactions": -0.03296574103339116
         },
         {
          "attributions": 0.07203143996060166,
          "summed interactions": 0.05172955154865127
         },
         {
          "attributions": -0.04267886573633359,
          "summed interactions": -0.041450939591053004
         },
         {
          "attributions": -0.3878249010811217,
          "summed interactions": -0.3636949711441566
         },
         {
          "attributions": -0.2584239976292386,
          "summed interactions": -0.27319672166316405
         },
         {
          "attributions": 0.010533406495225456,
          "summed interactions": 0.008692858582301973
         },
         {
          "attributions": -0.020663710578328255,
          "summed interactions": 0.0122011084294276
         },
         {
          "attributions": 0.31729574100388613,
          "summed interactions": 0.3742576005510042
         },
         {
          "attributions": -0.03102971874352109,
          "summed interactions": -0.024907857725446056
         },
         {
          "attributions": -7.399152476047745e-05,
          "summed interactions": 0.0026915241718390437
         },
         {
          "attributions": -0.00024923159358618963,
          "summed interactions": 0.0005743550543665836
         },
         {
          "attributions": 0.2081533380366507,
          "summed interactions": 0.21079584234005688
         },
         {
          "attributions": -0.011746117907779937,
          "summed interactions": -0.016558879946053207
         },
         {
          "attributions": -0.6400174486576649,
          "summed interactions": -0.6694661924229747
         },
         {
          "attributions": 0.3903392669122017,
          "summed interactions": 0.38115532866855645
         },
         {
          "attributions": -0.05635316124924227,
          "summed interactions": -0.052246407843560744
         },
         {
          "attributions": 0.014237569138322892,
          "summed interactions": 0.006885623444422642
         },
         {
          "attributions": -0.238024987512267,
          "summed interactions": -0.2535281540611504
         },
         {
          "attributions": -0.09775716375438633,
          "summed interactions": -0.10553144432486943
         },
         {
          "attributions": -0.009072012122650996,
          "summed interactions": -0.012278966891783847
         },
         {
          "attributions": 0.050165782729380215,
          "summed interactions": 0.055379894542265995
         },
         {
          "attributions": -0.0033872199476900587,
          "summed interactions": 0.003033384553265054
         },
         {
          "attributions": -0.13490525622204988,
          "summed interactions": -0.12719692714137573
         },
         {
          "attributions": 0.5664678539470794,
          "summed interactions": 0.565514886975117
         },
         {
          "attributions": 0.023981738807765652,
          "summed interactions": -0.0027399031180187793
         },
         {
          "attributions": -0.1316865472207192,
          "summed interactions": -0.12678677389156226
         },
         {
          "attributions": 0.10146125285479612,
          "summed interactions": 0.06758915794534093
         },
         {
          "attributions": -0.4635881305835198,
          "summed interactions": -0.40103519795676507
         },
         {
          "attributions": -0.11081209668173378,
          "summed interactions": -0.11972620525744986
         },
         {
          "attributions": 0.003289426811146329,
          "summed interactions": 0.0031438946740304508
         },
         {
          "attributions": -0.012885652678987185,
          "summed interactions": -0.00896135905719014
         },
         {
          "attributions": -0.11202036416624642,
          "summed interactions": -0.0804125992644394
         },
         {
          "attributions": -0.01034602091987579,
          "summed interactions": -0.00918655446219617
         },
         {
          "attributions": -0.17474887566470074,
          "summed interactions": -0.07888804910689406
         },
         {
          "attributions": -0.20016042767143472,
          "summed interactions": -0.16168180846298733
         },
         {
          "attributions": 0.040471235588931016,
          "summed interactions": 0.046902002683811395
         },
         {
          "attributions": -0.005148450661800164,
          "summed interactions": 0.0004259543370792587
         },
         {
          "attributions": -0.3455309587736944,
          "summed interactions": -0.33578893368747725
         },
         {
          "attributions": -0.08317147562278779,
          "summed interactions": -0.032611923262331935
         },
         {
          "attributions": -0.01089823519149847,
          "summed interactions": -0.016539806064175495
         },
         {
          "attributions": 0.011479872451620415,
          "summed interactions": 0.014180761098968165
         },
         {
          "attributions": -0.04535998528882947,
          "summed interactions": -0.05444952174313179
         },
         {
          "attributions": -0.021710323484282017,
          "summed interactions": -0.029860157413213892
         },
         {
          "attributions": -0.16509898893202757,
          "summed interactions": -0.18008445942642334
         },
         {
          "attributions": -0.03579719131298941,
          "summed interactions": -0.00948934477432094
         },
         {
          "attributions": 0.05799723977581667,
          "summed interactions": 0.04468967319292447
         },
         {
          "attributions": -0.05546841879551527,
          "summed interactions": -0.07091709284389991
         },
         {
          "attributions": -0.04097425443292861,
          "summed interactions": -0.08618078006047765
         },
         {
          "attributions": -0.009826259195311994,
          "summed interactions": -0.01895785782628273
         },
         {
          "attributions": -0.01921285871469181,
          "summed interactions": -0.024266451458308465
         },
         {
          "attributions": -0.02956384367136841,
          "summed interactions": -0.03741641945422906
         },
         {
          "attributions": 0.03378514597100767,
          "summed interactions": 0.026598155798205327
         },
         {
          "attributions": -0.023151862579000895,
          "summed interactions": -0.03369556565763041
         },
         {
          "attributions": -0.016957537900217746,
          "summed interactions": -0.03654467797679947
         },
         {
          "attributions": -0.13249568830925326,
          "summed interactions": -0.12214854258437426
         },
         {
          "attributions": 0.05434559331976064,
          "summed interactions": 0.048977930051078415
         },
         {
          "attributions": -0.0008027329865584688,
          "summed interactions": -0.012421835809274891
         },
         {
          "attributions": -0.34465182661779237,
          "summed interactions": -0.38626890191893754
         },
         {
          "attributions": -0.1524794407039696,
          "summed interactions": -0.1413531113379004
         },
         {
          "attributions": -0.013124249864735421,
          "summed interactions": -0.019821799135687893
         },
         {
          "attributions": -0.009781080920144722,
          "summed interactions": -0.018587455582302275
         },
         {
          "attributions": -0.0021860611176191627,
          "summed interactions": -0.05264022344208256
         },
         {
          "attributions": 0.012640285561775377,
          "summed interactions": 0.01885651314434441
         },
         {
          "attributions": -0.11658018403165447,
          "summed interactions": -0.09940023969096197
         },
         {
          "attributions": 0.01586710438255847,
          "summed interactions": -0.002075737770558494
         },
         {
          "attributions": -0.061902362301846564,
          "summed interactions": -0.06749528959218724
         },
         {
          "attributions": 0.17443550884201478,
          "summed interactions": 0.19730846814596442
         },
         {
          "attributions": 0.5582307063124081,
          "summed interactions": 0.6171265610065327
         },
         {
          "attributions": -0.0633603880535774,
          "summed interactions": -0.10034215840040395
         },
         {
          "attributions": 0.013676672683264883,
          "summed interactions": -0.008043203510233587
         },
         {
          "attributions": -0.03694451193642427,
          "summed interactions": -0.042713502667315634
         },
         {
          "attributions": -0.020565800854902703,
          "summed interactions": -0.005109978269571764
         },
         {
          "attributions": 5.745036220657722e-05,
          "summed interactions": 0.008353249812989152
         },
         {
          "attributions": -0.3381989284394427,
          "summed interactions": -0.2754869911970261
         },
         {
          "attributions": 0.35479230808072687,
          "summed interactions": 0.3433830108440618
         },
         {
          "attributions": -0.05113867164384981,
          "summed interactions": -0.05797320207076355
         },
         {
          "attributions": -0.03894598554199256,
          "summed interactions": -0.040505616071106774
         },
         {
          "attributions": 0.10157151026745527,
          "summed interactions": 0.05749092390590956
         },
         {
          "attributions": -0.3255120568327602,
          "summed interactions": -0.2738576219524824
         },
         {
          "attributions": 0.006166256904404502,
          "summed interactions": -0.0007398695408835866
         },
         {
          "attributions": -0.013329541075590956,
          "summed interactions": -0.009310015921963687
         },
         {
          "attributions": -0.3250432335427319,
          "summed interactions": -0.27806645719619716
         },
         {
          "attributions": 0.013302169328019428,
          "summed interactions": -0.0024986966756142277
         },
         {
          "attributions": -0.12034896968990359,
          "summed interactions": -0.110632312005875
         },
         {
          "attributions": -0.08576597282639842,
          "summed interactions": -0.06602596467152887
         },
         {
          "attributions": -0.046996794503027184,
          "summed interactions": -0.03706181757166627
         },
         {
          "attributions": -0.05199931976619108,
          "summed interactions": -0.03478855369929162
         },
         {
          "attributions": 0.18342077944818735,
          "summed interactions": 0.1618961595407573
         },
         {
          "attributions": -0.098556166799635,
          "summed interactions": -0.09797620145690826
         },
         {
          "attributions": -0.012950829192007185,
          "summed interactions": -0.016342504420917933
         },
         {
          "attributions": 0.028511967492190857,
          "summed interactions": 0.02442747943442998
         },
         {
          "attributions": -0.3101773633190057,
          "summed interactions": -0.3046263244717122
         },
         {
          "attributions": 0.05049111717089365,
          "summed interactions": 0.040547163247644055
         },
         {
          "attributions": 0.4576132306028123,
          "summed interactions": 0.5412879041283958
         },
         {
          "attributions": 0.20589996949652525,
          "summed interactions": 0.2512050005881901
         },
         {
          "attributions": 0.12625714184739784,
          "summed interactions": 0.09224544679900104
         },
         {
          "attributions": 0.23664268837528407,
          "summed interactions": 0.2247651848708392
         },
         {
          "attributions": 0.49993067475630537,
          "summed interactions": 0.4636016807324306
         },
         {
          "attributions": 0.17141089367083154,
          "summed interactions": 0.1467992631973587
         },
         {
          "attributions": -0.022501736093835528,
          "summed interactions": -0.01940097092633136
         },
         {
          "attributions": -0.028567295734716752,
          "summed interactions": -0.035615543272591685
         },
         {
          "attributions": -0.14511873007124884,
          "summed interactions": -0.13612696873957267
         },
         {
          "attributions": 0.006940156713262031,
          "summed interactions": 0.010759473500606713
         },
         {
          "attributions": -0.13209502490432704,
          "summed interactions": -0.1419465419111239
         },
         {
          "attributions": 0.08750846577458331,
          "summed interactions": 0.08432092167130913
         },
         {
          "attributions": 0.028385565270034118,
          "summed interactions": 0.03165820701247289
         },
         {
          "attributions": 0.2780775307564966,
          "summed interactions": 0.26527846924268284
         },
         {
          "attributions": -0.22954433687375603,
          "summed interactions": -0.21206447741925394
         },
         {
          "attributions": -0.041731464344329935,
          "summed interactions": -0.01936926322237006
         },
         {
          "attributions": -0.008199722525184652,
          "summed interactions": -0.007159879951573846
         },
         {
          "attributions": -0.001146191991611643,
          "summed interactions": 0.008455543232048966
         },
         {
          "attributions": 0.16986228757439012,
          "summed interactions": 0.19387043922452876
         },
         {
          "attributions": 0.005317821867716594,
          "summed interactions": -0.0053599765791528435
         },
         {
          "attributions": -0.45999833728773704,
          "summed interactions": -0.5782213216873141
         },
         {
          "attributions": 0.09690206112942652,
          "summed interactions": 0.07486641108493
         },
         {
          "attributions": 0.07069148566249608,
          "summed interactions": 0.08257889809404112
         },
         {
          "attributions": 0.2330239930414319,
          "summed interactions": 0.2570337977933391
         },
         {
          "attributions": 0.2886253828362749,
          "summed interactions": 0.2626023776130147
         },
         {
          "attributions": 0.05075875468609624,
          "summed interactions": 0.03545784088512254
         },
         {
          "attributions": -0.0403863970983074,
          "summed interactions": -0.05187018445324337
         },
         {
          "attributions": -0.017958858465244077,
          "summed interactions": -0.011721120975247173
         },
         {
          "attributions": -0.13897931658357351,
          "summed interactions": -0.12940695367163327
         },
         {
          "attributions": -0.08125877635556014,
          "summed interactions": -0.06302422150996678
         },
         {
          "attributions": 0.3036654415691611,
          "summed interactions": 0.3317460024010933
         },
         {
          "attributions": 0.1434629346674098,
          "summed interactions": 0.10717231957926164
         },
         {
          "attributions": -0.006112082289021059,
          "summed interactions": -0.02597113218989083
         },
         {
          "attributions": -0.04189840327210956,
          "summed interactions": -0.03238165632543501
         },
         {
          "attributions": -0.058805617955061534,
          "summed interactions": -0.1724797183066821
         },
         {
          "attributions": 0.4884144106162769,
          "summed interactions": 0.5023080864854641
         },
         {
          "attributions": -0.041462710821383635,
          "summed interactions": -0.039340125409045204
         },
         {
          "attributions": -0.021609976288826244,
          "summed interactions": -0.014806501531629629
         },
         {
          "attributions": -0.1142561867616201,
          "summed interactions": -0.10148064020641612
         },
         {
          "attributions": 0.060066271450343676,
          "summed interactions": 0.06088754260493484
         },
         {
          "attributions": 0.6691882756618043,
          "summed interactions": 0.6497318990455296
         },
         {
          "attributions": -0.24327520815913775,
          "summed interactions": -0.168070127183837
         },
         {
          "attributions": 0.015291261232907406,
          "summed interactions": 0.030027040543225112
         },
         {
          "attributions": -0.12781786221357674,
          "summed interactions": -0.17387192435461804
         },
         {
          "attributions": -0.5128558492873481,
          "summed interactions": -0.573052734492282
         },
         {
          "attributions": 0.22449898564079807,
          "summed interactions": 0.221265155125115
         },
         {
          "attributions": -0.021521091662423494,
          "summed interactions": -0.030814657007999513
         },
         {
          "attributions": 0.014597406493868285,
          "summed interactions": 0.008488847366997586
         },
         {
          "attributions": 0.19226066919148774,
          "summed interactions": 0.17081766568716028
         },
         {
          "attributions": -0.05192499529014374,
          "summed interactions": -0.03493207846835883
         },
         {
          "attributions": -0.2947483460140712,
          "summed interactions": -0.2757054350828805
         },
         {
          "attributions": -0.05647517511761649,
          "summed interactions": -0.052116829157801796
         },
         {
          "attributions": 0.025088509654987896,
          "summed interactions": 0.03451560261047398
         },
         {
          "attributions": -0.048360585039641156,
          "summed interactions": -0.08653865698227126
         },
         {
          "attributions": 0.4506868803992684,
          "summed interactions": 0.42660962455866386
         },
         {
          "attributions": 0.3581024491351664,
          "summed interactions": 0.3625155329361523
         },
         {
          "attributions": 0.08571721431611971,
          "summed interactions": 0.1005105857455011
         },
         {
          "attributions": -0.0047087101963209045,
          "summed interactions": -0.0027910803938666585
         },
         {
          "attributions": 0.19696789366963258,
          "summed interactions": 0.21367125471573237
         },
         {
          "attributions": -0.06000839907452305,
          "summed interactions": -0.06820317583377011
         },
         {
          "attributions": 0.1686385570085433,
          "summed interactions": 0.08781947502697235
         },
         {
          "attributions": 0.14624058483682606,
          "summed interactions": 0.1935826665565338
         },
         {
          "attributions": -0.02196051394268009,
          "summed interactions": -0.024344722166484475
         },
         {
          "attributions": 0.018629840682261607,
          "summed interactions": 0.044302735615108356
         },
         {
          "attributions": -0.5056974666793198,
          "summed interactions": -0.559649245771672
         },
         {
          "attributions": 0.06443731325254587,
          "summed interactions": 0.06777600713398958
         },
         {
          "attributions": -0.026477051268975628,
          "summed interactions": -0.0157600805977843
         },
         {
          "attributions": -0.004347760362700472,
          "summed interactions": -0.005930912000162605
         },
         {
          "attributions": 0.1933083936287115,
          "summed interactions": 0.20499466565909627
         },
         {
          "attributions": 0.0036373462180261163,
          "summed interactions": -0.013762790232841556
         },
         {
          "attributions": -0.6007955917665736,
          "summed interactions": -0.5297948365389215
         },
         {
          "attributions": -0.305932949393614,
          "summed interactions": -0.2850716564612806
         },
         {
          "attributions": -0.01915032066751676,
          "summed interactions": -0.02873690270504893
         },
         {
          "attributions": -0.03433810399887262,
          "summed interactions": -0.03957968599287009
         },
         {
          "attributions": -0.17086979271560498,
          "summed interactions": -0.23357766246109932
         },
         {
          "attributions": 0.28028285566118144,
          "summed interactions": 0.27387225034698887
         },
         {
          "attributions": 0.0027740112790646653,
          "summed interactions": 0.012498258299958645
         },
         {
          "attributions": -0.003590985367506182,
          "summed interactions": -0.01065651967817879
         },
         {
          "attributions": -0.027640867762228155,
          "summed interactions": -0.04718451630876272
         },
         {
          "attributions": -0.007897197922886505,
          "summed interactions": -0.0065139823981584305
         },
         {
          "attributions": 0.06369437228258926,
          "summed interactions": 0.07561055660829522
         },
         {
          "attributions": 0.020365273207312247,
          "summed interactions": -0.03312968329452085
         },
         {
          "attributions": -0.019993116601180944,
          "summed interactions": -0.019455924356986065
         },
         {
          "attributions": -0.03204750993426588,
          "summed interactions": -0.027418188681346566
         },
         {
          "attributions": -0.14201347541452486,
          "summed interactions": -0.15342708142735445
         },
         {
          "attributions": 0.10076992001914935,
          "summed interactions": 0.12139350382053214
         },
         {
          "attributions": -0.012771101671792877,
          "summed interactions": -0.0005927329802614075
         },
         {
          "attributions": -0.03030472041851373,
          "summed interactions": -0.02529287391642529
         },
         {
          "attributions": -0.1997763918134619,
          "summed interactions": -0.22238673930055142
         },
         {
          "attributions": 0.004083910144689362,
          "summed interactions": 0.0013499791983924156
         },
         {
          "attributions": -0.2739050849950415,
          "summed interactions": -0.2671191690568673
         },
         {
          "attributions": 0.03820660119881796,
          "summed interactions": 0.006412973679028843
         },
         {
          "attributions": 0.009683914482627917,
          "summed interactions": 0.021690485023892512
         },
         {
          "attributions": 0.056326883958768524,
          "summed interactions": 0.04758192347114304
         },
         {
          "attributions": -0.2625068473797054,
          "summed interactions": -0.22908619252501106
         },
         {
          "attributions": 0.20625725596258906,
          "summed interactions": 0.24635548313605385
         },
         {
          "attributions": -0.02261510837462628,
          "summed interactions": -0.02945070063989368
         },
         {
          "attributions": 0.009728348610476101,
          "summed interactions": 0.018982436111138014
         },
         {
          "attributions": -0.23542152330258453,
          "summed interactions": -0.17787332362473646
         },
         {
          "attributions": -0.027750304216543092,
          "summed interactions": -0.0007128029977412118
         },
         {
          "attributions": -0.5548033735756728,
          "summed interactions": -0.4901835292629011
         },
         {
          "attributions": -0.08811157818090308,
          "summed interactions": -0.04344724545011556
         },
         {
          "attributions": -0.022705638662235822,
          "summed interactions": -0.011840256142079347
         },
         {
          "attributions": 0.03089594800661683,
          "summed interactions": 0.021510407772761874
         },
         {
          "attributions": -0.04804476096971443,
          "summed interactions": -0.14573791482204826
         },
         {
          "attributions": 0.3748633189689264,
          "summed interactions": 0.3409207037908579
         },
         {
          "attributions": -0.021750128133916125,
          "summed interactions": -0.025612498840708535
         },
         {
          "attributions": -0.0033275017381757034,
          "summed interactions": -0.012449351306464303
         },
         {
          "attributions": -0.17375167853716517,
          "summed interactions": -0.14758333550165217
         },
         {
          "attributions": 0.0016694320632895654,
          "summed interactions": 0.0077186841446973496
         },
         {
          "attributions": 0.03293743793547402,
          "summed interactions": 0.022862163053071545
         },
         {
          "attributions": -0.1807975915465391,
          "summed interactions": -0.19267820605689528
         },
         {
          "attributions": -0.02658917261440189,
          "summed interactions": -0.03813371333078591
         },
         {
          "attributions": -0.037849975070945556,
          "summed interactions": -0.06084508061630432
         },
         {
          "attributions": 0.2584805488917965,
          "summed interactions": 0.23790085535677732
         },
         {
          "attributions": -0.3384027449044945,
          "summed interactions": -0.3535025521865732
         },
         {
          "attributions": -0.012977976624861408,
          "summed interactions": -0.024001063923817147
         },
         {
          "attributions": 0.03899198719667256,
          "summed interactions": 0.04150948578665447
         },
         {
          "attributions": -0.11806436205970801,
          "summed interactions": -0.15026887116567594
         },
         {
          "attributions": 0.0002650659468555014,
          "summed interactions": -0.001058362260105463
         },
         {
          "attributions": -0.3953323053889556,
          "summed interactions": -0.4151489963537769
         },
         {
          "attributions": 0.07128078123885016,
          "summed interactions": 0.055570095625678564
         },
         {
          "attributions": -0.061059289504407796,
          "summed interactions": -0.06705833632959597
         },
         {
          "attributions": 0.050638669915324376,
          "summed interactions": 0.06558547379815625
         },
         {
          "attributions": -0.5567491538753587,
          "summed interactions": -0.523690982460483
         },
         {
          "attributions": 0.08095799943168061,
          "summed interactions": 0.08352331544326363
         },
         {
          "attributions": -0.018522068450733776,
          "summed interactions": -0.011103406981613103
         },
         {
          "attributions": -0.03260436690638325,
          "summed interactions": -0.02871545665250194
         },
         {
          "attributions": -0.0038590831460849464,
          "summed interactions": -0.010792756673422726
         },
         {
          "attributions": 0.10066963300455932,
          "summed interactions": 0.09027376792487493
         },
         {
          "attributions": -0.14505876843416507,
          "summed interactions": -0.1020835510496495
         },
         {
          "attributions": 0.06259026805874872,
          "summed interactions": 0.07874096121987913
         },
         {
          "attributions": 0.048265059718340476,
          "summed interactions": 0.03191984630614427
         },
         {
          "attributions": 0.5687534313957776,
          "summed interactions": 0.4808713953582577
         },
         {
          "attributions": 0.08065779898994649,
          "summed interactions": 0.03515375756935206
         },
         {
          "attributions": 0.08712409957078066,
          "summed interactions": 0.04678388682892891
         },
         {
          "attributions": -0.04248913561012802,
          "summed interactions": -0.05528238322076829
         },
         {
          "attributions": -0.06007659185160346,
          "summed interactions": -0.058924355999132774
         },
         {
          "attributions": -0.04370895604152727,
          "summed interactions": -0.002510441235153953
         },
         {
          "attributions": -0.009599270911454261,
          "summed interactions": -0.014481358092001023
         },
         {
          "attributions": 0.060262675504859115,
          "summed interactions": 0.021806842185750894
         },
         {
          "attributions": -0.11336849866200102,
          "summed interactions": -0.11168503485540172
         },
         {
          "attributions": 0.04563100014818648,
          "summed interactions": 0.047002556813800556
         },
         {
          "attributions": -0.09451393224236096,
          "summed interactions": -0.1066678495070425
         },
         {
          "attributions": -0.21179460380956983,
          "summed interactions": -0.2351759560901909
         },
         {
          "attributions": 0.1580944665704009,
          "summed interactions": 0.1626737909009549
         },
         {
          "attributions": 0.0024167074884410104,
          "summed interactions": 0.0004797992104680947
         },
         {
          "attributions": -0.03741857665813866,
          "summed interactions": -0.044123398169163004
         },
         {
          "attributions": 0.17215130972898127,
          "summed interactions": 0.1882701477382687
         },
         {
          "attributions": 0.029090780194932567,
          "summed interactions": 0.04517430906267923
         },
         {
          "attributions": -0.17061896069198057,
          "summed interactions": -0.09760891976756073
         },
         {
          "attributions": 0.4101830045278437,
          "summed interactions": 0.36158629058511443
         },
         {
          "attributions": -0.0637171768446921,
          "summed interactions": -0.044269431434437706
         },
         {
          "attributions": -0.00012294882546586824,
          "summed interactions": 0.012189682289453056
         },
         {
          "attributions": -0.6076211615035412,
          "summed interactions": -0.6483813077667647
         },
         {
          "attributions": -0.26885405088991454,
          "summed interactions": -0.27397984571077655
         },
         {
          "attributions": 0.003717579104196924,
          "summed interactions": -0.002110739510631238
         },
         {
          "attributions": 0.07759842047505015,
          "summed interactions": 0.08599716503388247
         },
         {
          "attributions": -0.026909875884326574,
          "summed interactions": -0.01225745659244575
         },
         {
          "attributions": 0.004382250891456651,
          "summed interactions": 0.018918045299477774
         },
         {
          "attributions": 3.970759951359752e-05,
          "summed interactions": 0.014902281412756123
         },
         {
          "attributions": -0.1117694649526384,
          "summed interactions": -0.14162064453665982
         },
         {
          "attributions": 0.03352196029594427,
          "summed interactions": 0.03466880801442517
         },
         {
          "attributions": -0.13175452595679768,
          "summed interactions": -0.11409526851139933
         },
         {
          "attributions": 0.12106724303833483,
          "summed interactions": 0.1856743985678414
         },
         {
          "attributions": 0.07002605401248155,
          "summed interactions": 0.08622254023786498
         },
         {
          "attributions": -0.025879126911365992,
          "summed interactions": -0.02137445454550165
         },
         {
          "attributions": 0.0341387295158299,
          "summed interactions": 0.03084855839258315
         },
         {
          "attributions": 0.38837633827689666,
          "summed interactions": 0.36558394413927503
         },
         {
          "attributions": -0.05531374065731888,
          "summed interactions": -0.05745110208926628
         },
         {
          "attributions": 0.22913754377322235,
          "summed interactions": 0.15091226235942568
         },
         {
          "attributions": 0.034465442558022634,
          "summed interactions": 0.025315040896759358
         },
         {
          "attributions": 0.06842558440339945,
          "summed interactions": 0.07193592834935554
         },
         {
          "attributions": -0.19948053768119198,
          "summed interactions": -0.17305677643017234
         },
         {
          "attributions": -0.1133776840975897,
          "summed interactions": -0.1519555697853812
         },
         {
          "attributions": 0.05188423666003791,
          "summed interactions": 0.03985677876167238
         },
         {
          "attributions": 0.005822037117300611,
          "summed interactions": 0.009524756130621514
         },
         {
          "attributions": 0.05183517554645164,
          "summed interactions": 0.03979161521016924
         },
         {
          "attributions": 0.08492313281704617,
          "summed interactions": 0.05270294681665885
         },
         {
          "attributions": -0.04399704035318105,
          "summed interactions": -0.021979881797761044
         },
         {
          "attributions": -0.3679229399149675,
          "summed interactions": -0.2954475640938564
         },
         {
          "attributions": 0.6052312825656624,
          "summed interactions": 0.6170935839929651
         },
         {
          "attributions": -0.032087093974793576,
          "summed interactions": -0.02912452419123865
         },
         {
          "attributions": -0.025086931571882375,
          "summed interactions": -0.026356011842727962
         },
         {
          "attributions": -0.3807978871269272,
          "summed interactions": -0.3757366048512618
         },
         {
          "attributions": 0.006744780681968591,
          "summed interactions": 0.018834314732477823
         },
         {
          "attributions": 0.025934156330670168,
          "summed interactions": 0.05860946068371568
         },
         {
          "attributions": 0.023756016441018185,
          "summed interactions": 0.028473701123950326
         },
         {
          "attributions": 0.028021988894887193,
          "summed interactions": 0.024531822921986017
         },
         {
          "attributions": -0.022466076487472515,
          "summed interactions": -0.01286781532530891
         },
         {
          "attributions": -0.1176905528648279,
          "summed interactions": -0.11120225337952691
         },
         {
          "attributions": 0.5446402650667145,
          "summed interactions": 0.5554576010257337
         },
         {
          "attributions": 0.035504219612508055,
          "summed interactions": 0.03866506155035092
         },
         {
          "attributions": -0.020568902332611848,
          "summed interactions": -0.01796609254084096
         },
         {
          "attributions": -0.44189279012060434,
          "summed interactions": -0.41646171261747256
         },
         {
          "attributions": 0.12096549645961646,
          "summed interactions": 0.11505128324921231
         },
         {
          "attributions": 0.005767243146346175,
          "summed interactions": 0.00995334175372684
         },
         {
          "attributions": -0.005486726845390854,
          "summed interactions": -0.00733151078668858
         },
         {
          "attributions": -0.297612439773598,
          "summed interactions": -0.29641587841935496
         },
         {
          "attributions": -0.0847380817202657,
          "summed interactions": -0.08066318375946677
         },
         {
          "attributions": -0.24665178807987434,
          "summed interactions": -0.21018227418057484
         },
         {
          "attributions": -0.3169205839166225,
          "summed interactions": -0.3164054216028079
         },
         {
          "attributions": 0.02392682736254941,
          "summed interactions": 0.024011151700181275
         },
         {
          "attributions": 0.04545263846772867,
          "summed interactions": 0.02393519327978254
         },
         {
          "attributions": -1.0643563457679104,
          "summed interactions": -1.0334194172850755
         },
         {
          "attributions": -0.09638026333919644,
          "summed interactions": -0.1166461565120106
         },
         {
          "attributions": 0.002581214504031375,
          "summed interactions": -0.0007474684507218438
         },
         {
          "attributions": -0.0022539635303499895,
          "summed interactions": 0.0008231956768243894
         },
         {
          "attributions": -0.025232023989138607,
          "summed interactions": -0.0686144271147916
         },
         {
          "attributions": 0.027432915370929765,
          "summed interactions": 0.02171616027951294
         },
         {
          "attributions": -0.4605701517761759,
          "summed interactions": -0.3988141797735276
         },
         {
          "attributions": -0.118098851970637,
          "summed interactions": -0.1272518583660542
         },
         {
          "attributions": -0.0267472568286697,
          "summed interactions": -0.023240443717227506
         },
         {
          "attributions": 0.07089921904289803,
          "summed interactions": 0.05523613195146374
         },
         {
          "attributions": -0.2535700051211645,
          "summed interactions": -0.3214245654228805
         },
         {
          "attributions": 0.38221003501937223,
          "summed interactions": 0.3791734320015657
         },
         {
          "attributions": 0.06024229934555669,
          "summed interactions": 0.04876194279309187
         },
         {
          "attributions": -0.03381229432486181,
          "summed interactions": -0.03090160859614629
         },
         {
          "attributions": 0.003977599330814302,
          "summed interactions": 0.07269494902697374
         },
         {
          "attributions": 0.0342471577859754,
          "summed interactions": 0.07839810460943822
         },
         {
          "attributions": 0.13705792162140157,
          "summed interactions": 0.14339211882695005
         },
         {
          "attributions": -0.003328180493680522,
          "summed interactions": 0.005962468153036048
         },
         {
          "attributions": -0.04594102693376326,
          "summed interactions": -0.04063310291636695
         },
         {
          "attributions": 0.15915464452811473,
          "summed interactions": 0.14855236696850885
         },
         {
          "attributions": 0.5892830116435086,
          "summed interactions": 0.5607356568704751
         },
         {
          "attributions": 0.040485000652635404,
          "summed interactions": 0.026587267938345937
         },
         {
          "attributions": -0.08845696019738496,
          "summed interactions": -0.07208446124629549
         },
         {
          "attributions": -0.02795192120378158,
          "summed interactions": -0.02405642751270851
         },
         {
          "attributions": 0.2521165560750487,
          "summed interactions": 0.25629856590566474
         },
         {
          "attributions": -0.06000939227902668,
          "summed interactions": -0.05551084101977274
         },
         {
          "attributions": -0.10930717209030702,
          "summed interactions": -0.08849189576320061
         },
         {
          "attributions": 0.010770579058993524,
          "summed interactions": 0.006478992696300749
         },
         {
          "attributions": -0.026993580982103218,
          "summed interactions": -0.022376819739584285
         },
         {
          "attributions": -0.06481886663494733,
          "summed interactions": -0.07381753232412218
         },
         {
          "attributions": 0.0746846762776907,
          "summed interactions": 0.10975303336769521
         },
         {
          "attributions": -0.13346512767274757,
          "summed interactions": -0.16738246688010236
         },
         {
          "attributions": -0.003214218261466615,
          "summed interactions": -0.01525110700142134
         },
         {
          "attributions": 0.012287353260061253,
          "summed interactions": 0.009804775702459346
         },
         {
          "attributions": -0.12875965690230445,
          "summed interactions": -0.10597819357574521
         },
         {
          "attributions": -0.00739989686552782,
          "summed interactions": -0.01151204274219426
         },
         {
          "attributions": -0.020916314948229604,
          "summed interactions": 0.018703836915967633
         },
         {
          "attributions": -0.1918843474445179,
          "summed interactions": -0.2176502039339587
         },
         {
          "attributions": -0.06449135751587551,
          "summed interactions": -0.07883482831862129
         },
         {
          "attributions": -0.01464486063320613,
          "summed interactions": -0.016881691401959782
         },
         {
          "attributions": -0.14150817935367266,
          "summed interactions": -0.2243121170037236
         },
         {
          "attributions": -0.025319038226045705,
          "summed interactions": -0.062169769826772005
         },
         {
          "attributions": -0.01639669969509226,
          "summed interactions": -0.022857716712133526
         },
         {
          "attributions": -0.016075483945163144,
          "summed interactions": -0.02133300945646909
         },
         {
          "attributions": 0.2178590495142389,
          "summed interactions": 0.2225755359327613
         },
         {
          "attributions": -0.01194065172584842,
          "summed interactions": -0.021163356642901688
         },
         {
          "attributions": -0.5528936033359315,
          "summed interactions": -0.6070347969836587
         },
         {
          "attributions": 0.010164479549214223,
          "summed interactions": 0.05394203933731349
         },
         {
          "attributions": -0.01450291180098343,
          "summed interactions": -0.025984684865665467
         },
         {
          "attributions": 0.04641333318796419,
          "summed interactions": 0.050395529723018875
         },
         {
          "attributions": -0.3299110984152036,
          "summed interactions": -0.4307177283189171
         },
         {
          "attributions": 0.03155476596442783,
          "summed interactions": 0.048559268939084445
         },
         {
          "attributions": 0.006698367456264097,
          "summed interactions": -0.00792725351610451
         },
         {
          "attributions": -0.032505921278553,
          "summed interactions": -0.03870251981267955
         },
         {
          "attributions": -0.3525235784636467,
          "summed interactions": -0.3577441862500353
         },
         {
          "attributions": -0.026150011411905462,
          "summed interactions": -0.02118153919111161
         },
         {
          "attributions": 0.31494249130402624,
          "summed interactions": 0.3367177210696107
         },
         {
          "attributions": 0.006434097812172856,
          "summed interactions": -0.010362326802067924
         },
         {
          "attributions": -0.039838875782630755,
          "summed interactions": -0.04091255753017551
         },
         {
          "attributions": -0.05513612150141622,
          "summed interactions": -0.06603883078624123
         },
         {
          "attributions": -0.24435656809034845,
          "summed interactions": -0.21109016534469513
         },
         {
          "attributions": -0.14678890993529456,
          "summed interactions": -0.15749841490237235
         },
         {
          "attributions": 0.016861877726355813,
          "summed interactions": 0.026997242892285337
         },
         {
          "attributions": -0.00010872728862534517,
          "summed interactions": 0.0019882610919746105
         },
         {
          "attributions": -0.006387787360290667,
          "summed interactions": 0.022610784851865177
         },
         {
          "attributions": -0.04647814088208796,
          "summed interactions": -0.03715997535267869
         },
         {
          "attributions": 0.21912286030372083,
          "summed interactions": 0.14843035264929708
         },
         {
          "attributions": 0.021442453281876012,
          "summed interactions": 0.035426387551312534
         },
         {
          "attributions": 0.07033706893734157,
          "summed interactions": 0.0682802480831862
         },
         {
          "attributions": -0.12993220657678892,
          "summed interactions": -0.11873709176260501
         },
         {
          "attributions": 0.3292448545456281,
          "summed interactions": 0.31964356196649313
         },
         {
          "attributions": -0.25037485525159386,
          "summed interactions": -0.2403994701778317
         },
         {
          "attributions": 0.011288208978880651,
          "summed interactions": 0.011042185121177807
         },
         {
          "attributions": -0.027581940429519638,
          "summed interactions": -0.03227462399533909
         },
         {
          "attributions": -0.06676053582072003,
          "summed interactions": -0.04268470140282577
         },
         {
          "attributions": 0.005625494295560677,
          "summed interactions": 0.00872895926794918
         },
         {
          "attributions": -0.3222960998292739,
          "summed interactions": -0.2980094027664921
         },
         {
          "attributions": 0.10700695771668546,
          "summed interactions": 0.0938929530999877
         },
         {
          "attributions": 0.015803997785714466,
          "summed interactions": 0.02273830026359387
         },
         {
          "attributions": -0.0026295986512933026,
          "summed interactions": -0.002061107094313986
         },
         {
          "attributions": -0.11661004150014996,
          "summed interactions": -0.12158701073559439
         },
         {
          "attributions": -0.30426133114320963,
          "summed interactions": -0.26218073322778584
         },
         {
          "attributions": 0.07978651944788372,
          "summed interactions": 0.11236857249155001
         },
         {
          "attributions": 0.05741229035856387,
          "summed interactions": 0.05330462744844891
         }
        ]
       },
       "encoding": {
        "x": {
         "field": "attributions",
         "type": "quantitative"
        },
        "y": {
         "field": "summed interactions",
         "type": "quantitative"
        }
       },
       "mark": "point"
      },
      "image/png": "[encoded data removed]",
      "text/plain": [
       "<VegaLite 3 object>\n",
       "\n",
       "If you see this message, it means the renderer has not been properly enabled\n",
       "for the frontend that you are using. For more information, see\n",
       "https://altair-viz.github.io/user_guide/troubleshooting.html\n"
      ]
     },
     "execution_count": 15,
     "metadata": {},
     "output_type": "execute_result"
    }
   ],
   "source": [
    "summed_interactions = np.sum(interactions, axis=1)\n",
    "data_df = pd.DataFrame({\n",
    "    'attributions': attributions.flatten(),\n",
    "    'summed interactions': summed_interactions.flatten()\n",
    "})\n",
    "alt.Chart(data_df).mark_point().encode(\n",
    "    alt.X('attributions:Q'),\n",
    "    alt.Y('summed interactions:Q')\n",
    ")"
   ]
  },
  {
   "cell_type": "code",
   "execution_count": 16,
   "metadata": {},
   "outputs": [
    {
     "name": "stderr",
     "output_type": "stream",
     "text": [
      "100%|██████████| 20/20 [03:54<00:00, 11.74s/it]\n"
     ]
    }
   ],
   "source": [
    "batch_sizes = np.linspace(10, 200, 20).astype(int)\n",
    "times = []\n",
    "for batch_size in tqdm(batch_sizes):\n",
    "    start_time = time.time()\n",
    "    interactions = explainer.interactions(inputs, baseline,\n",
    "                     batch_size=batch_size, num_samples=100,\n",
    "                     use_expectation=True, output_indices=[0] * len(inputs),\n",
    "                     verbose=False, interaction_index=None)\n",
    "    end_time = time.time()\n",
    "    times.append(end_time - start_time)\n",
    "    assert interactions.shape == (50, 10, 10), 'batch_size: {}'.format(batch_size)"
   ]
  },
  {
   "cell_type": "code",
   "execution_count": 17,
   "metadata": {},
   "outputs": [
    {
     "data": {
      "application/vnd.vegalite.v3+json": {
       "$schema": "https://vega.github.io/schema/vega-lite/v3.4.0.json",
       "config": {
        "mark": {
         "tooltip": null
        },
        "view": {
         "height": 300,
         "width": 400
        }
       },
       "data": {
        "name": "data-120399ce76e7d71f8ed7948d2c059ced"
       },
       "datasets": {
        "data-120399ce76e7d71f8ed7948d2c059ced": [
         {
          "Batch Size": 10,
          "Computation Time": 44.22788166999817
         },
         {
          "Batch Size": 20,
          "Computation Time": 22.459596157073975
         },
         {
          "Batch Size": 30,
          "Computation Time": 18.188489198684692
         },
         {
          "Batch Size": 40,
          "Computation Time": 14.116536617279053
         },
         {
          "Batch Size": 50,
          "Computation Time": 10.136930704116821
         },
         {
          "Batch Size": 60,
          "Computation Time": 10.172015190124512
         },
         {
          "Batch Size": 70,
          "Computation Time": 10.387219667434692
         },
         {
          "Batch Size": 80,
          "Computation Time": 10.730775117874146
         },
         {
          "Batch Size": 90,
          "Computation Time": 11.52274489402771
         },
         {
          "Batch Size": 100,
          "Computation Time": 7.58106255531311
         },
         {
          "Batch Size": 110,
          "Computation Time": 7.512383222579956
         },
         {
          "Batch Size": 120,
          "Computation Time": 7.577284336090088
         },
         {
          "Batch Size": 130,
          "Computation Time": 7.512719631195068
         },
         {
          "Batch Size": 140,
          "Computation Time": 7.576815366744995
         },
         {
          "Batch Size": 150,
          "Computation Time": 7.507656097412109
         },
         {
          "Batch Size": 160,
          "Computation Time": 7.552083969116211
         },
         {
          "Batch Size": 170,
          "Computation Time": 7.484725475311279
         },
         {
          "Batch Size": 180,
          "Computation Time": 7.557895183563232
         },
         {
          "Batch Size": 190,
          "Computation Time": 7.550340414047241
         },
         {
          "Batch Size": 200,
          "Computation Time": 7.488744735717773
         }
        ]
       },
       "encoding": {
        "x": {
         "field": "Batch Size",
         "type": "quantitative"
        },
        "y": {
         "field": "Computation Time",
         "type": "quantitative"
        }
       },
       "mark": "line"
      },
      "image/png": "[encoded data removed]",
      "text/plain": [
       "<VegaLite 3 object>\n",
       "\n",
       "If you see this message, it means the renderer has not been properly enabled\n",
       "for the frontend that you are using. For more information, see\n",
       "https://altair-viz.github.io/user_guide/troubleshooting.html\n"
      ]
     },
     "execution_count": 17,
     "metadata": {},
     "output_type": "execute_result"
    }
   ],
   "source": [
    "time_df = pd.DataFrame({\n",
    "    'Batch Size': batch_sizes,\n",
    "    'Computation Time': times\n",
    "})\n",
    "alt.Chart(time_df).mark_line().encode(\n",
    "    alt.X('Batch Size:Q'),\n",
    "    alt.Y('Computation Time:Q')\n",
    ")"
   ]
  }
 ],
 "metadata": {
  "kernelspec": {
   "display_name": "Python 3",
   "language": "python",
   "name": "python3"
  },
  "language_info": {
   "codemirror_mode": {
    "name": "ipython",
    "version": 3
   },
   "file_extension": ".py",
   "mimetype": "text/x-python",
   "name": "python",
   "nbconvert_exporter": "python",
   "pygments_lexer": "ipython3",
   "version": "3.7.4"
  }
 },
 "nbformat": 4,
 "nbformat_minor": 4
}
