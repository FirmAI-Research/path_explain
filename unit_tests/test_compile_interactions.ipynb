{
 "cells": [
  {
   "cell_type": "code",
   "execution_count": 1,
   "metadata": {},
   "outputs": [],
   "source": [
    "%load_ext autoreload\n",
    "%autoreload 2"
   ]
  },
  {
   "cell_type": "code",
   "execution_count": 2,
   "metadata": {},
   "outputs": [],
   "source": [
    "import os\n",
    "os.environ['CUDA_VISIBLE_DEVICES'] = '4'"
   ]
  },
  {
   "cell_type": "code",
   "execution_count": 3,
   "metadata": {},
   "outputs": [],
   "source": [
    "import tensorflow as tf\n",
    "import numpy as np\n",
    "import pandas as pd\n",
    "import altair as alt\n",
    "import time\n",
    "from tqdm import tqdm\n",
    "from path_explain.path_explainer_tf import PathExplainerTF"
   ]
  },
  {
   "cell_type": "code",
   "execution_count": 4,
   "metadata": {},
   "outputs": [],
   "source": [
    "baseline = np.random.randn(1000, 10)\n",
    "inputs = np.random.randn(50, 10)"
   ]
  },
  {
   "cell_type": "code",
   "execution_count": 5,
   "metadata": {},
   "outputs": [],
   "source": [
    "model = tf.keras.models.Sequential()\n",
    "model.add(tf.keras.layers.Input(10, dtype=tf.float32))\n",
    "model.add(tf.keras.layers.Dense(5, activation=tf.keras.activations.relu, use_bias=True))\n",
    "model.add(tf.keras.layers.Dense(1, activation=None, use_bias=False))"
   ]
  },
  {
   "cell_type": "code",
   "execution_count": 6,
   "metadata": {},
   "outputs": [],
   "source": [
    "explainer = PathExplainerTF(model)"
   ]
  },
  {
   "cell_type": "code",
   "execution_count": 7,
   "metadata": {},
   "outputs": [
    {
     "name": "stdout",
     "output_type": "stream",
     "text": [
      "WARNING:tensorflow:Layer dense is casting an input tensor from dtype float64 to the layer's dtype of float32, which is new behavior in TensorFlow 2.  The layer has dtype float32 because it's dtype defaults to floatx.\n",
      "\n",
      "If you intended to run this layer in float32, you can safely ignore this warning. If in doubt, this warning is likely only an issue if you are porting a TensorFlow 1.X model to TensorFlow 2.\n",
      "\n",
      "To change all layers to have dtype float64 by default, call `tf.keras.backend.set_floatx('float64')`. To change just this layer, pass dtype='float64' to the layer constructor. If you are the author of this layer, you can disable autocasting by passing autocast=False to the base Layer constructor.\n",
      "\n"
     ]
    }
   ],
   "source": [
    "current_alphas = explainer._sample_alphas(num_samples=100, use_expectation=True)\n",
    "interactions = explainer._single_interaction(inputs[0], baseline,\n",
    "                              current_alphas, num_samples=100, batch_size=50,\n",
    "                              use_expectation=True, output_index=None,\n",
    "                              interaction_index=None)"
   ]
  },
  {
   "cell_type": "code",
   "execution_count": 8,
   "metadata": {},
   "outputs": [],
   "source": [
    "interactions = explainer.interactions(inputs, baseline,\n",
    "                     batch_size=50, num_samples=100,\n",
    "                     use_expectation=True, output_indices=[0] * len(inputs),\n",
    "                     verbose=False, interaction_index=0)"
   ]
  },
  {
   "cell_type": "code",
   "execution_count": 9,
   "metadata": {},
   "outputs": [
    {
     "data": {
      "text/plain": [
       "(50, 10)"
      ]
     },
     "execution_count": 9,
     "metadata": {},
     "output_type": "execute_result"
    }
   ],
   "source": [
    "interactions.shape"
   ]
  },
  {
   "cell_type": "code",
   "execution_count": 10,
   "metadata": {},
   "outputs": [
    {
     "name": "stderr",
     "output_type": "stream",
     "text": [
      "100%|██████████| 20/20 [01:47<00:00,  5.36s/it]\n"
     ]
    }
   ],
   "source": [
    "batch_sizes = np.linspace(10, 200, 20).astype(int)\n",
    "times = []\n",
    "for batch_size in tqdm(batch_sizes):\n",
    "    start_time = time.time()\n",
    "    interactions = explainer.interactions(inputs, baseline,\n",
    "                     batch_size=batch_size, num_samples=100,\n",
    "                     use_expectation=True, output_indices=[0] * len(inputs),\n",
    "                     verbose=False, interaction_index=None)\n",
    "    end_time = time.time()\n",
    "    times.append(end_time - start_time)\n",
    "    assert interactions.shape == (50, 10, 10), 'batch_size: {}'.format(batch_size)"
   ]
  },
  {
   "cell_type": "code",
   "execution_count": 11,
   "metadata": {},
   "outputs": [
    {
     "data": {
      "application/vnd.vegalite.v3+json": {
       "$schema": "https://vega.github.io/schema/vega-lite/v3.4.0.json",
       "config": {
        "mark": {
         "tooltip": null
        },
        "view": {
         "height": 300,
         "width": 400
        }
       },
       "data": {
        "name": "data-2632f06f4510789330e5b6c3b553bbd0"
       },
       "datasets": {
        "data-2632f06f4510789330e5b6c3b553bbd0": [
         {
          "Batch Size": 10,
          "Computation Time": 25.295686721801758
         },
         {
          "Batch Size": 20,
          "Computation Time": 11.965441942214966
         },
         {
          "Batch Size": 30,
          "Computation Time": 9.583084344863892
         },
         {
          "Batch Size": 40,
          "Computation Time": 7.62247896194458
         },
         {
          "Batch Size": 50,
          "Computation Time": 4.7240214347839355
         },
         {
          "Batch Size": 60,
          "Computation Time": 4.7576904296875
         },
         {
          "Batch Size": 70,
          "Computation Time": 4.812195301055908
         },
         {
          "Batch Size": 80,
          "Computation Time": 5.183852195739746
         },
         {
          "Batch Size": 90,
          "Computation Time": 4.958438396453857
         },
         {
          "Batch Size": 100,
          "Computation Time": 2.652324914932251
         },
         {
          "Batch Size": 110,
          "Computation Time": 2.6165618896484375
         },
         {
          "Batch Size": 120,
          "Computation Time": 2.6670663356781006
         },
         {
          "Batch Size": 130,
          "Computation Time": 2.486384391784668
         },
         {
          "Batch Size": 140,
          "Computation Time": 2.6111555099487305
         },
         {
          "Batch Size": 150,
          "Computation Time": 2.6504507064819336
         },
         {
          "Batch Size": 160,
          "Computation Time": 2.5214931964874268
         },
         {
          "Batch Size": 170,
          "Computation Time": 2.5466153621673584
         },
         {
          "Batch Size": 180,
          "Computation Time": 2.5670835971832275
         },
         {
          "Batch Size": 190,
          "Computation Time": 2.516787528991699
         },
         {
          "Batch Size": 200,
          "Computation Time": 2.4170451164245605
         }
        ]
       },
       "encoding": {
        "x": {
         "field": "Batch Size",
         "type": "quantitative"
        },
        "y": {
         "field": "Computation Time",
         "type": "quantitative"
        }
       },
       "mark": "line"
      },
      "image/png": "[encoded data removed]",
      "text/plain": [
       "<VegaLite 3 object>\n",
       "\n",
       "If you see this message, it means the renderer has not been properly enabled\n",
       "for the frontend that you are using. For more information, see\n",
       "https://altair-viz.github.io/user_guide/troubleshooting.html\n"
      ]
     },
     "execution_count": 11,
     "metadata": {},
     "output_type": "execute_result"
    }
   ],
   "source": [
    "time_df = pd.DataFrame({\n",
    "    'Batch Size': batch_sizes,\n",
    "    'Computation Time': times\n",
    "})\n",
    "alt.Chart(time_df).mark_line().encode(\n",
    "    alt.X('Batch Size:Q'),\n",
    "    alt.Y('Computation Time:Q')\n",
    ")"
   ]
  }
 ],
 "metadata": {
  "kernelspec": {
   "display_name": "Python 3",
   "language": "python",
   "name": "python3"
  },
  "language_info": {
   "codemirror_mode": {
    "name": "ipython",
    "version": 3
   },
   "file_extension": ".py",
   "mimetype": "text/x-python",
   "name": "python",
   "nbconvert_exporter": "python",
   "pygments_lexer": "ipython3",
   "version": "3.7.4"
  }
 },
 "nbformat": 4,
 "nbformat_minor": 4
}
