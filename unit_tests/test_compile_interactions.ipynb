{
 "cells": [
  {
   "cell_type": "code",
   "execution_count": 1,
   "metadata": {},
   "outputs": [],
   "source": [
    "%load_ext autoreload\n",
    "%autoreload 2"
   ]
  },
  {
   "cell_type": "code",
   "execution_count": 2,
   "metadata": {},
   "outputs": [],
   "source": [
    "import os\n",
    "os.environ['CUDA_VISIBLE_DEVICES'] = '4'"
   ]
  },
  {
   "cell_type": "code",
   "execution_count": 3,
   "metadata": {},
   "outputs": [],
   "source": [
    "import tensorflow as tf\n",
    "import numpy as np\n",
    "import pandas as pd\n",
    "import altair as alt\n",
    "import time\n",
    "from tqdm import tqdm\n",
    "from path_explain.path_explainer_tf import PathExplainerTF"
   ]
  },
  {
   "cell_type": "code",
   "execution_count": 4,
   "metadata": {},
   "outputs": [],
   "source": [
    "baseline = np.random.randn(1000, 10)\n",
    "inputs = np.random.randn(50, 10)"
   ]
  },
  {
   "cell_type": "code",
   "execution_count": 5,
   "metadata": {},
   "outputs": [],
   "source": [
    "model = tf.keras.models.Sequential()\n",
    "model.add(tf.keras.layers.Input(10, dtype=tf.float32))\n",
    "model.add(tf.keras.layers.Dense(5, activation=tf.keras.activations.softplus, use_bias=True))\n",
    "model.add(tf.keras.layers.Dense(1, activation=None, use_bias=False))"
   ]
  },
  {
   "cell_type": "code",
   "execution_count": 6,
   "metadata": {},
   "outputs": [],
   "source": [
    "explainer = PathExplainerTF(model)"
   ]
  },
  {
   "cell_type": "code",
   "execution_count": 7,
   "metadata": {},
   "outputs": [
    {
     "name": "stdout",
     "output_type": "stream",
     "text": [
      "WARNING:tensorflow:Layer dense is casting an input tensor from dtype float64 to the layer's dtype of float32, which is new behavior in TensorFlow 2.  The layer has dtype float32 because it's dtype defaults to floatx.\n",
      "\n",
      "If you intended to run this layer in float32, you can safely ignore this warning. If in doubt, this warning is likely only an issue if you are porting a TensorFlow 1.X model to TensorFlow 2.\n",
      "\n",
      "To change all layers to have dtype float64 by default, call `tf.keras.backend.set_floatx('float64')`. To change just this layer, pass dtype='float64' to the layer constructor. If you are the author of this layer, you can disable autocasting by passing autocast=False to the base Layer constructor.\n",
      "\n"
     ]
    }
   ],
   "source": [
    "current_alphas = explainer._sample_alphas(num_samples=100, use_expectation=True, use_product=True)\n",
    "interactions = explainer._single_interaction(inputs[0], baseline,\n",
    "                              current_alphas, num_samples=100, batch_size=50,\n",
    "                              use_expectation=True, output_index=None,\n",
    "                              interaction_index=None)\n",
    "assert interactions.shape == (10, 10)"
   ]
  },
  {
   "cell_type": "markdown",
   "metadata": {},
   "source": [
    "## Testing Shape\n",
    "We need to make sure our attributions return an array of the right shape."
   ]
  },
  {
   "cell_type": "code",
   "execution_count": 8,
   "metadata": {},
   "outputs": [
    {
     "name": "stderr",
     "output_type": "stream",
     "text": [
      "100%|██████████| 50/50 [00:00<00:00, 82.79it/s]\n"
     ]
    }
   ],
   "source": [
    "interactions = explainer.interactions(inputs, baseline,\n",
    "                     batch_size=100, num_samples=100,\n",
    "                     use_expectation=True, output_indices=[0] * len(inputs),\n",
    "                     verbose=True, interaction_index=0)\n",
    "assert interactions.shape == (50, 10)"
   ]
  },
  {
   "cell_type": "code",
   "execution_count": 9,
   "metadata": {},
   "outputs": [
    {
     "data": {
      "text/plain": [
       "<tf.Tensor: id=4626, shape=(50,), dtype=float32, numpy=\n",
       "array([-1.3427489 , -0.33881783,  0.47907317, -0.6838472 ,  0.5334646 ,\n",
       "        0.0947026 ,  0.07244134,  0.05426681,  0.9103896 ,  0.52255446,\n",
       "       -1.0420234 ,  0.5211824 ,  0.7900971 ,  0.782961  ,  0.10859323,\n",
       "       -0.48043275,  0.1023401 , -0.19518757,  0.8270062 ,  0.02378452,\n",
       "        0.31242394,  0.31487918,  0.19367504, -0.28967178, -0.10209334,\n",
       "        0.6361164 ,  0.32415974, -0.43430793,  1.0954902 ,  0.26595116,\n",
       "        0.5102163 ,  0.7160038 ,  0.30422628,  0.5931645 , -0.22245598,\n",
       "       -0.838125  ,  0.4574905 , -0.15941143,  1.1450742 ,  0.6430816 ,\n",
       "        0.15012693, -0.35090804, -0.04101181, -0.01166427,  0.10673785,\n",
       "        0.2920891 , -0.8904693 , -1.2972481 ,  0.3623668 ,  1.074553  ],\n",
       "      dtype=float32)>"
      ]
     },
     "execution_count": 9,
     "metadata": {},
     "output_type": "execute_result"
    }
   ],
   "source": [
    "(model(inputs) - np.mean(model(baseline)))[:, 0]"
   ]
  },
  {
   "cell_type": "code",
   "execution_count": 10,
   "metadata": {},
   "outputs": [
    {
     "name": "stderr",
     "output_type": "stream",
     "text": [
      "100%|██████████| 50/50 [00:23<00:00,  2.16it/s]\n"
     ]
    }
   ],
   "source": [
    "interactions = explainer.interactions(inputs, baseline,\n",
    "                     batch_size=100, num_samples=100,\n",
    "                     use_expectation=True, output_indices=[0] * len(inputs),\n",
    "                     verbose=True, interaction_index=None)\n",
    "assert interactions.shape == (50, 10, 10)"
   ]
  },
  {
   "cell_type": "code",
   "execution_count": 11,
   "metadata": {},
   "outputs": [
    {
     "data": {
      "text/plain": [
       "array([-1.30872566, -0.32256069,  0.43377426, -0.75540004,  0.41350053,\n",
       "        0.01103091,  0.0661293 , -0.07516162,  0.80630199,  0.41561447,\n",
       "       -1.15160142,  0.43081334,  0.75152945,  0.66253431,  0.15453918,\n",
       "       -0.75472854,  0.14444752, -0.21960029,  0.82188323,  0.04905743,\n",
       "        0.23490913,  0.45187604,  0.20404591, -0.2645939 , -0.25883757,\n",
       "        0.72599303,  0.35901734, -0.32999748,  1.14348936,  0.24453223,\n",
       "        0.40369636,  0.69023902,  0.28844417,  0.69415201, -0.3328863 ,\n",
       "       -0.6748481 ,  0.45444499, -0.24137996,  1.16215325,  0.79544436,\n",
       "        0.07757725, -0.35041084, -0.04899226, -0.08006231,  0.07599735,\n",
       "        0.3329452 , -0.86738011, -1.26143515,  0.26660627,  1.01751743])"
      ]
     },
     "execution_count": 11,
     "metadata": {},
     "output_type": "execute_result"
    }
   ],
   "source": [
    "np.sum(interactions, axis=(1,2))"
   ]
  },
  {
   "cell_type": "markdown",
   "metadata": {},
   "source": [
    "## Testing completeness\n",
    "We need to make sure our interactions satisfy completeness!"
   ]
  },
  {
   "cell_type": "code",
   "execution_count": 35,
   "metadata": {},
   "outputs": [
    {
     "name": "stderr",
     "output_type": "stream",
     "text": [
      "100%|██████████| 50/50 [00:21<00:00,  2.32it/s]\n"
     ]
    }
   ],
   "source": [
    "interactions = explainer.interactions(inputs, baseline,\n",
    "                     batch_size=100, num_samples=100,\n",
    "                     use_expectation=True, output_indices=[0] * len(inputs),\n",
    "                     verbose=True, interaction_index=None)"
   ]
  },
  {
   "cell_type": "code",
   "execution_count": 37,
   "metadata": {},
   "outputs": [
    {
     "name": "stderr",
     "output_type": "stream",
     "text": [
      "100%|██████████| 50/50 [00:00<00:00, 150.63it/s]\n"
     ]
    }
   ],
   "source": [
    "attributions = explainer.attributions(inputs, baseline,\n",
    "                     batch_size=100, num_samples=100,\n",
    "                     use_expectation=True, output_indices=[0] * len(inputs),\n",
    "                     verbose=True)"
   ]
  },
  {
   "cell_type": "code",
   "execution_count": 38,
   "metadata": {},
   "outputs": [
    {
     "data": {
      "application/vnd.vegalite.v3+json": {
       "$schema": "https://vega.github.io/schema/vega-lite/v3.4.0.json",
       "config": {
        "mark": {
         "tooltip": null
        },
        "view": {
         "height": 300,
         "width": 400
        }
       },
       "data": {
        "name": "data-5c3d8ec3fc8dfecf1de529d4e8c6c8c3"
       },
       "datasets": {
        "data-5c3d8ec3fc8dfecf1de529d4e8c6c8c3": [
         {
          "attributions": -0.41712112418596997,
          "summed interactions": -0.36126339004173547
         },
         {
          "attributions": -0.15256123935610466,
          "summed interactions": -0.17354127966731706
         },
         {
          "attributions": -0.4172603000611916,
          "summed interactions": -0.4171793599971155
         },
         {
          "attributions": 0.41307824040298213,
          "summed interactions": 0.4461145736112146
         },
         {
          "attributions": -0.16260770435099586,
          "summed interactions": -0.1556542703085666
         },
         {
          "attributions": -0.029216879434117816,
          "summed interactions": -0.02115110209012116
         },
         {
          "attributions": -0.11322435280287813,
          "summed interactions": -0.03181854575425458
         },
         {
          "attributions": -0.24623908248513712,
          "summed interactions": -0.23226343825940712
         },
         {
          "attributions": -0.05358208821036368,
          "summed interactions": -0.029056848463278412
         },
         {
          "attributions": -0.32729546229672435,
          "summed interactions": -0.28120661141259695
         },
         {
          "attributions": 0.047455652036343554,
          "summed interactions": 0.014036800193572075
         },
         {
          "attributions": 0.03563296739856375,
          "summed interactions": -0.018242878657732862
         },
         {
          "attributions": -0.4440417130163344,
          "summed interactions": -0.41250762228261995
         },
         {
          "attributions": 0.09418896073374773,
          "summed interactions": 0.10440056871374459
         },
         {
          "attributions": 0.05557858654343805,
          "summed interactions": 0.04025085046217699
         },
         {
          "attributions": 0.07070885424343425,
          "summed interactions": 0.09207777306803264
         },
         {
          "attributions": 0.03303467300998117,
          "summed interactions": 0.04187709057333677
         },
         {
          "attributions": -0.5549334783726375,
          "summed interactions": -0.4398993783414716
         },
         {
          "attributions": 0.0839082608069038,
          "summed interactions": 0.08581354811900865
         },
         {
          "attributions": 0.17370077773306966,
          "summed interactions": 0.18087595894422445
         },
         {
          "attributions": 0.01964925481105649,
          "summed interactions": 0.02917938071044587
         },
         {
          "attributions": 0.07930617851563178,
          "summed interactions": 0.061811923912109386
         },
         {
          "attributions": 0.0926825681812611,
          "summed interactions": 0.12169274239531173
         },
         {
          "attributions": 0.02876408468600598,
          "summed interactions": 0.017489201161331902
         },
         {
          "attributions": 6.8118409158006435e-06,
          "summed interactions": -0.010031269414870182
         },
         {
          "attributions": 0.05972153715188353,
          "summed interactions": 0.08131081013990668
         },
         {
          "attributions": -0.022540744524119097,
          "summed interactions": -0.05768088446682246
         },
         {
          "attributions": 0.17613960777183238,
          "summed interactions": 0.18109943585654348
         },
         {
          "attributions": 0.03748368503163994,
          "summed interactions": 0.007954508271621452
         },
         {
          "attributions": 0.03641220549360371,
          "summed interactions": 0.05008863888844791
         },
         {
          "attributions": -0.28019398234896964,
          "summed interactions": -0.2142902779687261
         },
         {
          "attributions": -0.27940284691360606,
          "summed interactions": -0.2736394247413561
         },
         {
          "attributions": 0.06246881578997395,
          "summed interactions": 0.02647919297970596
         },
         {
          "attributions": 0.03343302472472451,
          "summed interactions": 0.03248446436631146
         },
         {
          "attributions": 0.10224959810414708,
          "summed interactions": 0.09174693965939153
         },
         {
          "attributions": -0.005177149580066948,
          "summed interactions": 0.009806784641153556
         },
         {
          "attributions": -0.14661577159020017,
          "summed interactions": -0.11606422853555534
         },
         {
          "attributions": 0.16781472130989375,
          "summed interactions": 0.17990546607387586
         },
         {
          "attributions": -0.023731753386970644,
          "summed interactions": 0.0014460277672428898
         },
         {
          "attributions": -0.40132061331767416,
          "summed interactions": -0.3642141564421631
         },
         {
          "attributions": 0.10200917953781108,
          "summed interactions": 0.09387235820006638
         },
         {
          "attributions": -0.1329792499168541,
          "summed interactions": -0.12692643572493767
         },
         {
          "attributions": 0.07014915429129717,
          "summed interactions": 0.09232364192059737
         },
         {
          "attributions": -0.06968547802859242,
          "summed interactions": -0.06402164129400553
         },
         {
          "attributions": 0.04298300023141285,
          "summed interactions": 0.03435999772284268
         },
         {
          "attributions": 0.11299723964855847,
          "summed interactions": 0.11213920978830348
         },
         {
          "attributions": 0.06285080202935972,
          "summed interactions": 0.08224202010599364
         },
         {
          "attributions": 0.3075222839472612,
          "summed interactions": 0.2597765166617182
         },
         {
          "attributions": 0.05842832280084636,
          "summed interactions": 0.06243816536781578
         },
         {
          "attributions": -0.021264686271042423,
          "summed interactions": 0.007494110066976822
         },
         {
          "attributions": 0.09969665523413765,
          "summed interactions": 0.07333014004102555
         },
         {
          "attributions": -0.24160522349732363,
          "summed interactions": -0.3597307745969354
         },
         {
          "attributions": -0.08861076475077087,
          "summed interactions": -0.06847250732496474
         },
         {
          "attributions": -0.10615930510094283,
          "summed interactions": -0.14088264079054696
         },
         {
          "attributions": -0.029987811148086584,
          "summed interactions": -0.05189601489384746
         },
         {
          "attributions": 0.19081023367044656,
          "summed interactions": 0.22151969033748384
         },
         {
          "attributions": 0.18592749645025056,
          "summed interactions": 0.19729046126651523
         },
         {
          "attributions": 0.2650900260561717,
          "summed interactions": 0.2547784137233049
         },
         {
          "attributions": -0.1725502348848397,
          "summed interactions": -0.19379030950274484
         },
         {
          "attributions": 0.06087799520866162,
          "summed interactions": 0.04234419407584522
         },
         {
          "attributions": -0.11279942621325974,
          "summed interactions": -0.12235857177984169
         },
         {
          "attributions": -0.06523312757849004,
          "summed interactions": -0.03727900670552676
         },
         {
          "attributions": 0.22335185184275372,
          "summed interactions": 0.22975744181523478
         },
         {
          "attributions": -0.09068741439474748,
          "summed interactions": -0.07224666953501857
         },
         {
          "attributions": 0.003955893937340295,
          "summed interactions": 0.009840145711727075
         },
         {
          "attributions": -0.04967166821672044,
          "summed interactions": -0.09978107787893625
         },
         {
          "attributions": -0.1372063106006424,
          "summed interactions": -0.17098815467201023
         },
         {
          "attributions": 0.16311662733311988,
          "summed interactions": 0.11290930279366189
         },
         {
          "attributions": 0.1332623461174965,
          "summed interactions": 0.1301141812422255
         },
         {
          "attributions": 0.03723223979330899,
          "summed interactions": 0.011932355224664138
         },
         {
          "attributions": 0.16655087337175645,
          "summed interactions": 0.11780912974730483
         },
         {
          "attributions": 0.2944485009098851,
          "summed interactions": 0.3058111253768642
         },
         {
          "attributions": -0.2315596028071829,
          "summed interactions": -0.2540686339837194
         },
         {
          "attributions": -0.25401471465310105,
          "summed interactions": -0.2526479590255603
         },
         {
          "attributions": -0.05161604326177203,
          "summed interactions": -0.06626343464044086
         },
         {
          "attributions": 0.054185465149837714,
          "summed interactions": 0.09137114736809124
         },
         {
          "attributions": -0.15826338249503066,
          "summed interactions": -0.19306496116866467
         },
         {
          "attributions": 0.14989276347976443,
          "summed interactions": 0.11333664282557211
         },
         {
          "attributions": 0.17787593461303025,
          "summed interactions": 0.1652388562940292
         },
         {
          "attributions": 0.019386269166356315,
          "summed interactions": 0.00019335148406030706
         },
         {
          "attributions": -0.16425560280285598,
          "summed interactions": -0.19613210914365767
         },
         {
          "attributions": -0.13931072707013614,
          "summed interactions": -0.14396366304996439
         },
         {
          "attributions": 0.5943644899402359,
          "summed interactions": 0.7164255466614254
         },
         {
          "attributions": 0.06279549631009443,
          "summed interactions": 0.056426552402146765
         },
         {
          "attributions": -0.007270973532875449,
          "summed interactions": -0.014584201367788657
         },
         {
          "attributions": 0.023073458161352926,
          "summed interactions": 0.04218028337920816
         },
         {
          "attributions": 0.04495612781941567,
          "summed interactions": 0.041228278196615974
         },
         {
          "attributions": 0.27637839115530444,
          "summed interactions": 0.3528173580506099
         },
         {
          "attributions": 0.018382585706261837,
          "summed interactions": 0.002468997711199955
         },
         {
          "attributions": 0.04749667970813401,
          "summed interactions": 0.09696452626645022
         },
         {
          "attributions": 0.10894796888455868,
          "summed interactions": 0.08443068949596509
         },
         {
          "attributions": 0.3929768436941073,
          "summed interactions": 0.4055060233592565
         },
         {
          "attributions": 0.013381471364629147,
          "summed interactions": 0.03343119371835637
         },
         {
          "attributions": -0.3132381815151924,
          "summed interactions": -0.29443714074850047
         },
         {
          "attributions": -0.024192717589346557,
          "summed interactions": -0.0171290332867701
         },
         {
          "attributions": 0.01739655100356169,
          "summed interactions": 0.029319896204815784
         },
         {
          "attributions": 0.02527901421824573,
          "summed interactions": 0.01789140975824241
         },
         {
          "attributions": 0.0336965141618814,
          "summed interactions": -0.015518187725625675
         },
         {
          "attributions": 0.040537875456736164,
          "summed interactions": 0.028178405288472708
         },
         {
          "attributions": 0.15437797191750058,
          "summed interactions": 0.14767694635067055
         },
         {
          "attributions": -0.1932408338285963,
          "summed interactions": -0.18960298419718605
         },
         {
          "attributions": -0.14468601342801354,
          "summed interactions": -0.07298859005941498
         },
         {
          "attributions": -0.5135061286201075,
          "summed interactions": -0.5433986758615769
         },
         {
          "attributions": -0.2421853435960284,
          "summed interactions": -0.2073137609677002
         },
         {
          "attributions": 0.01618821021791116,
          "summed interactions": 0.01226805913805483
         },
         {
          "attributions": 0.016008288411378746,
          "summed interactions": -0.006247328773782115
         },
         {
          "attributions": -0.04630298946289083,
          "summed interactions": -0.03924459763732968
         },
         {
          "attributions": 0.09659344309458381,
          "summed interactions": 0.10023636225081654
         },
         {
          "attributions": -0.08342029590982043,
          "summed interactions": -0.07338948486148739
         },
         {
          "attributions": -0.03837375451745846,
          "summed interactions": -0.006871096491605013
         },
         {
          "attributions": 0.12022727187539432,
          "summed interactions": 0.0948481028210512
         },
         {
          "attributions": 0.43108521822979406,
          "summed interactions": 0.419324712067224
         },
         {
          "attributions": 0.21021011373418522,
          "summed interactions": 0.2643916003838079
         },
         {
          "attributions": -0.0326263835194559,
          "summed interactions": 0.006104331603248077
         },
         {
          "attributions": 0.027173326014873406,
          "summed interactions": 0.04530624135224866
         },
         {
          "attributions": -0.048498495908078046,
          "summed interactions": -0.05295143781594805
         },
         {
          "attributions": 0.18799285529625734,
          "summed interactions": 0.1911291310073846
         },
         {
          "attributions": -0.04086892479173234,
          "summed interactions": -0.04471592039072384
         },
         {
          "attributions": -0.3452084781488419,
          "summed interactions": -0.39037957465027506
         },
         {
          "attributions": 0.01349614898072163,
          "summed interactions": -0.004025603022578796
         },
         {
          "attributions": 0.30337608543535793,
          "summed interactions": 0.3453347759902337
         },
         {
          "attributions": -0.1386981176397547,
          "summed interactions": -0.12163820671534062
         },
         {
          "attributions": 0.2262074543398179,
          "summed interactions": 0.23234025657718493
         },
         {
          "attributions": 0.07502116297342738,
          "summed interactions": 0.07701361735508196
         },
         {
          "attributions": 0.0074578553923270305,
          "summed interactions": 0.006291357285406293
         },
         {
          "attributions": 0.023333551550911484,
          "summed interactions": 0.02772959004582272
         },
         {
          "attributions": 0.07902079404273848,
          "summed interactions": 0.07935602722631172
         },
         {
          "attributions": -0.05419833335245484,
          "summed interactions": -0.014471996985624472
         },
         {
          "attributions": 0.03826190249558315,
          "summed interactions": 0.04085629558871804
         },
         {
          "attributions": 0.14546590237171172,
          "summed interactions": 0.15335714926493804
         },
         {
          "attributions": 0.18549124180834248,
          "summed interactions": 0.17227836818957784
         },
         {
          "attributions": -0.03974460479738225,
          "summed interactions": -0.030178059255497575
         },
         {
          "attributions": 0.24996235952764106,
          "summed interactions": 0.213844116558653
         },
         {
          "attributions": 0.03403229973967469,
          "summed interactions": 0.029048807798508262
         },
         {
          "attributions": 0.0068684810845183455,
          "summed interactions": 0.007609272597459792
         },
         {
          "attributions": 0.07451218010446736,
          "summed interactions": 0.10601359940299188
         },
         {
          "attributions": 0.07374404857039618,
          "summed interactions": 0.08017248647299828
         },
         {
          "attributions": 0.013859887253899573,
          "summed interactions": 0.017013182388189822
         },
         {
          "attributions": 0.013972517776956685,
          "summed interactions": 0.025385791516231836
         },
         {
          "attributions": 0.0739809965232165,
          "summed interactions": 0.04542956281438943
         },
         {
          "attributions": -0.28618142750283754,
          "summed interactions": -0.28046510162645844
         },
         {
          "attributions": 0.01948859094003191,
          "summed interactions": -0.02996260688365597
         },
         {
          "attributions": 0.4431991335250919,
          "summed interactions": 0.5326952639951335
         },
         {
          "attributions": 0.04410979325699003,
          "summed interactions": 0.07834906824390045
         },
         {
          "attributions": 0.032482242126810945,
          "summed interactions": 0.015614875668451237
         },
         {
          "attributions": -0.021798494575017077,
          "summed interactions": -0.004216515431553011
         },
         {
          "attributions": -0.08015008348188818,
          "summed interactions": -0.06355174503933589
         },
         {
          "attributions": 0.23905835897133762,
          "summed interactions": 0.22908043865689984
         },
         {
          "attributions": -0.3402098796634519,
          "summed interactions": -0.33465637565625184
         },
         {
          "attributions": 0.001242918509878549,
          "summed interactions": -0.00543760040645103
         },
         {
          "attributions": 0.37945449331834313,
          "summed interactions": 0.3753199743472297
         },
         {
          "attributions": -0.32079233910193117,
          "summed interactions": -0.23312812117106257
         },
         {
          "attributions": -0.3510340889078434,
          "summed interactions": -0.4543643467073786
         },
         {
          "attributions": 0.14164115125119417,
          "summed interactions": 0.1971265796397375
         },
         {
          "attributions": -0.12296791802500173,
          "summed interactions": -0.16187080639499687
         },
         {
          "attributions": 0.21942418813582276,
          "summed interactions": 0.2338174840743115
         },
         {
          "attributions": -0.12092631625926492,
          "summed interactions": -0.05990854735612085
         },
         {
          "attributions": -0.02538350846434386,
          "summed interactions": 0.01788185464548528
         },
         {
          "attributions": -0.1159221610575879,
          "summed interactions": -0.1701058348533833
         },
         {
          "attributions": -0.015995511874433176,
          "summed interactions": -0.01742461695682769
         },
         {
          "attributions": 0.06784521015623134,
          "summed interactions": 0.0815546117355774
         },
         {
          "attributions": 0.2361933045254136,
          "summed interactions": 0.19346524693813782
         },
         {
          "attributions": 0.11072432358410396,
          "summed interactions": 0.10194539282825851
         },
         {
          "attributions": 0.03460195616223875,
          "summed interactions": 0.03145945664812885
         },
         {
          "attributions": -0.07350714700325549,
          "summed interactions": -0.058409397048434133
         },
         {
          "attributions": -0.08474973385914851,
          "summed interactions": -0.03425042487916995
         },
         {
          "attributions": 0.20785901742970692,
          "summed interactions": 0.1897999682530382
         },
         {
          "attributions": -0.17429358707780854,
          "summed interactions": -0.2040823993548428
         },
         {
          "attributions": -0.16560220591641528,
          "summed interactions": -0.1712858950765528
         },
         {
          "attributions": -0.048587015726565576,
          "summed interactions": -0.03483652831648274
         },
         {
          "attributions": -0.18258383515041665,
          "summed interactions": -0.20800002528121536
         },
         {
          "attributions": 0.19073980068712898,
          "summed interactions": 0.10083447928970982
         },
         {
          "attributions": -0.2853722761111993,
          "summed interactions": -0.2273418090777499
         },
         {
          "attributions": 0.06905204070778022,
          "summed interactions": 0.07156917376956663
         },
         {
          "attributions": -0.018360562787181414,
          "summed interactions": -0.023489652778861763
         },
         {
          "attributions": 0.0190375129938371,
          "summed interactions": -0.014290856521583312
         },
         {
          "attributions": -0.006806771197410095,
          "summed interactions": -0.014986542664886802
         },
         {
          "attributions": 0.3040439825079611,
          "summed interactions": 0.30997825071760654
         },
         {
          "attributions": -0.2236273804434936,
          "summed interactions": -0.21058983019643138
         },
         {
          "attributions": -0.047155688286167764,
          "summed interactions": -0.031296482745685354
         },
         {
          "attributions": 0.21290689167014762,
          "summed interactions": 0.2179803660128833
         },
         {
          "attributions": 0.3379522215044254,
          "summed interactions": 0.33550576730206405
         },
         {
          "attributions": -0.20200462828110483,
          "summed interactions": -0.21816355815967953
         },
         {
          "attributions": -0.19017045226726878,
          "summed interactions": -0.187922613009353
         },
         {
          "attributions": -0.008016958142064762,
          "summed interactions": -0.020049579204411486
         },
         {
          "attributions": 0.1061658396262658,
          "summed interactions": 0.08563676997314401
         },
         {
          "attributions": 0.011186479370175605,
          "summed interactions": 0.012114216195836865
         },
         {
          "attributions": 0.5073681044089609,
          "summed interactions": 0.5128023743590677
         },
         {
          "attributions": 0.05471536506799295,
          "summed interactions": 0.050585457043292335
         },
         {
          "attributions": 0.04799708054619144,
          "summed interactions": 0.06313472266182019
         },
         {
          "attributions": -0.24577314660784985,
          "summed interactions": -0.2136556223762321
         },
         {
          "attributions": 0.5057848887433758,
          "summed interactions": 0.5730774152928633
         },
         {
          "attributions": -0.2428346574472398,
          "summed interactions": -0.23856251818075233
         },
         {
          "attributions": -0.1043601395411177,
          "summed interactions": -0.06480190145324516
         },
         {
          "attributions": 0.004149618951348638,
          "summed interactions": 0.0036468670800843673
         },
         {
          "attributions": 0.01112468779264826,
          "summed interactions": 0.02084995020856163
         },
         {
          "attributions": 0.05819190814092389,
          "summed interactions": 0.07086322401883641
         },
         {
          "attributions": -0.01468333552704999,
          "summed interactions": -0.014203460755485786
         },
         {
          "attributions": 0.045340487071398164,
          "summed interactions": 0.039544024698568145
         },
         {
          "attributions": -0.05423625874260484,
          "summed interactions": -0.029147958349364605
         },
         {
          "attributions": -0.11950825261097332,
          "summed interactions": -0.11553439770334885
         },
         {
          "attributions": 0.04472385924912467,
          "summed interactions": 0.016869980602303852
         },
         {
          "attributions": 0.30449445376523754,
          "summed interactions": 0.24947949617615348
         },
         {
          "attributions": -0.11004162897164525,
          "summed interactions": -0.10828316321447248
         },
         {
          "attributions": 0.040758626809267645,
          "summed interactions": 0.04521463566481376
         },
         {
          "attributions": 0.038793782081987783,
          "summed interactions": 0.028733841137165348
         },
         {
          "attributions": 0.038523675705226815,
          "summed interactions": 0.0155797937600135
         },
         {
          "attributions": 0.09128922767644676,
          "summed interactions": 0.15635868478129814
         },
         {
          "attributions": 0.07379350481381187,
          "summed interactions": 0.03573650308217816
         },
         {
          "attributions": 0.0032609219097127686,
          "summed interactions": 0.03165969461150204
         },
         {
          "attributions": -0.007795548175170025,
          "summed interactions": -0.0018156706739505001
         },
         {
          "attributions": -0.17098700056902466,
          "summed interactions": -0.12993111942392127
         },
         {
          "attributions": 0.5412843086027316,
          "summed interactions": 0.528064696954325
         },
         {
          "attributions": -0.045756237147878416,
          "summed interactions": -0.05005989508488168
         },
         {
          "attributions": 0.012870245774276251,
          "summed interactions": 0.014104666543115563
         },
         {
          "attributions": 0.020128165839750235,
          "summed interactions": 0.028139596417171845
         },
         {
          "attributions": -0.03469466635695179,
          "summed interactions": -0.018499659814275274
         },
         {
          "attributions": -0.09313166316093902,
          "summed interactions": -0.14273025098150183
         },
         {
          "attributions": 0.008495828336269724,
          "summed interactions": 0.011347342077996193
         },
         {
          "attributions": 0.06163597012095339,
          "summed interactions": 0.08555583224015423
         },
         {
          "attributions": -0.132581431531292,
          "summed interactions": -0.16266424026781165
         },
         {
          "attributions": -0.10200992350370579,
          "summed interactions": -0.13074581272085933
         },
         {
          "attributions": -0.10376073813378586,
          "summed interactions": -0.15916976771966582
         },
         {
          "attributions": 0.10505239074166373,
          "summed interactions": 0.07936161574319153
         },
         {
          "attributions": -0.021962463820498962,
          "summed interactions": 0.0026559757136651015
         },
         {
          "attributions": 0.05228202615546399,
          "summed interactions": 0.03748888712621388
         },
         {
          "attributions": 0.041703040426644036,
          "summed interactions": 0.04935022338400625
         },
         {
          "attributions": 0.48903927746023534,
          "summed interactions": 0.43756129220307705
         },
         {
          "attributions": 0.008412275501359374,
          "summed interactions": 0.03489796594893718
         },
         {
          "attributions": -0.08006059142897475,
          "summed interactions": -0.10943929628250058
         },
         {
          "attributions": 0.2311532178479613,
          "summed interactions": 0.21163410638515429
         },
         {
          "attributions": 0.3775612556974922,
          "summed interactions": 0.46897322341402486
         },
         {
          "attributions": -0.6111063681616687,
          "summed interactions": -0.685123508742726
         },
         {
          "attributions": -0.01894679945332448,
          "summed interactions": 0.014378672959358093
         },
         {
          "attributions": -0.020214459876828003,
          "summed interactions": -0.007140447008462246
         },
         {
          "attributions": 0.029543910379925004,
          "summed interactions": 0.034929075430255446
         },
         {
          "attributions": -0.003936926795222236,
          "summed interactions": -0.014993536890793335
         },
         {
          "attributions": -0.13320508330989944,
          "summed interactions": -0.087281543047007
         },
         {
          "attributions": 0.018507915215163696,
          "summed interactions": -0.0033647308615377194
         },
         {
          "attributions": -0.23022285142908339,
          "summed interactions": -0.23434089609617464
         },
         {
          "attributions": 0.12275990052756013,
          "summed interactions": 0.12691824409411742
         },
         {
          "attributions": -0.24606271798670254,
          "summed interactions": -0.3007369044888276
         },
         {
          "attributions": -0.02941850302287343,
          "summed interactions": -0.05312796831258543
         },
         {
          "attributions": 0.17684945110224506,
          "summed interactions": 0.18308550946822194
         },
         {
          "attributions": -0.033834599281314,
          "summed interactions": -0.03429203109078398
         },
         {
          "attributions": 0.03759210350652357,
          "summed interactions": 0.04246841040263043
         },
         {
          "attributions": -0.22079393510409254,
          "summed interactions": -0.22491380662674454
         },
         {
          "attributions": 0.04050864898961836,
          "summed interactions": 0.05261720996749702
         },
         {
          "attributions": 0.062345780667912756,
          "summed interactions": 0.006791984724599322
         },
         {
          "attributions": 0.032449358987821066,
          "summed interactions": 0.02443564819037163
         },
         {
          "attributions": 0.11082554260404606,
          "summed interactions": 0.12033082685346384
         },
         {
          "attributions": 0.488576922637486,
          "summed interactions": 0.42781926150142846
         },
         {
          "attributions": -0.013862348739888114,
          "summed interactions": 0.024057666439510746
         },
         {
          "attributions": -0.014890405972035196,
          "summed interactions": -0.03733926021545466
         },
         {
          "attributions": 0.06312268646744806,
          "summed interactions": 0.06663389186823024
         },
         {
          "attributions": -0.005867399531657458,
          "summed interactions": -0.030412605634610776
         },
         {
          "attributions": -0.02102081462360946,
          "summed interactions": -0.00832096449366294
         },
         {
          "attributions": 0.036931174584840534,
          "summed interactions": -0.025016642133606062
         },
         {
          "attributions": 0.02090259462084774,
          "summed interactions": -0.006255476969307302
         },
         {
          "attributions": -0.006646709701769619,
          "summed interactions": -0.016221210512955005
         },
         {
          "attributions": 0.19392502681060925,
          "summed interactions": 0.19116430025902295
         },
         {
          "attributions": 0.19322235060260604,
          "summed interactions": 0.17401761734466595
         },
         {
          "attributions": 0.31597901143039875,
          "summed interactions": 0.3242152761814381
         },
         {
          "attributions": -0.03858474856791439,
          "summed interactions": -0.04869987978710136
         },
         {
          "attributions": -0.06373374605720775,
          "summed interactions": -0.06105872756880365
         },
         {
          "attributions": 0.1968670533381116,
          "summed interactions": 0.17800338010678646
         },
         {
          "attributions": 0.004691527885166601,
          "summed interactions": 0.00011286295308044316
         },
         {
          "attributions": -0.3330825308428287,
          "summed interactions": -0.34335279525824547
         },
         {
          "attributions": -0.19252749844120826,
          "summed interactions": -0.16104510708974384
         },
         {
          "attributions": 0.039036759025877533,
          "summed interactions": 0.012492865607446259
         },
         {
          "attributions": 0.1612190572103357,
          "summed interactions": 0.18576960923589506
         },
         {
          "attributions": -0.5213061978552445,
          "summed interactions": -0.47017536813585203
         },
         {
          "attributions": 0.06884425188676746,
          "summed interactions": 0.010587638140985617
         },
         {
          "attributions": 0.10125096254122129,
          "summed interactions": 0.09697592220737092
         },
         {
          "attributions": 0.018497801110300555,
          "summed interactions": 0.02355258175719212
         },
         {
          "attributions": -0.19300338393544095,
          "summed interactions": -0.12129560188671587
         },
         {
          "attributions": 0.12683332382783527,
          "summed interactions": 0.1403043411832273
         },
         {
          "attributions": 0.10939647852033035,
          "summed interactions": 0.09985889087255974
         },
         {
          "attributions": -0.3177236878605115,
          "summed interactions": -0.28776105138249947
         },
         {
          "attributions": 0.03370703381009244,
          "summed interactions": 0.027533177207181028
         },
         {
          "attributions": 0.2995961747310018,
          "summed interactions": 0.2673424962520681
         },
         {
          "attributions": 0.3135299835426735,
          "summed interactions": 0.3731244800174137
         },
         {
          "attributions": 0.563141169413942,
          "summed interactions": 0.5887483601834649
         },
         {
          "attributions": -0.07408073080732774,
          "summed interactions": -0.06599403203046379
         },
         {
          "attributions": -0.007529577606354905,
          "summed interactions": 0.01882374177698187
         },
         {
          "attributions": 0.024806276894919294,
          "summed interactions": 0.02669739156686791
         },
         {
          "attributions": 0.035425796485165306,
          "summed interactions": 0.011926292254510484
         },
         {
          "attributions": -0.13086180869399913,
          "summed interactions": -0.14748781191004323
         },
         {
          "attributions": 0.03063578484426067,
          "summed interactions": -0.014649017491367326
         },
         {
          "attributions": -0.030843527279532833,
          "summed interactions": -0.01581667984278956
         },
         {
          "attributions": -0.14028421199028235,
          "summed interactions": -0.15096080907983628
         },
         {
          "attributions": 0.2625643646948222,
          "summed interactions": 0.25856746724528656
         },
         {
          "attributions": -0.11829922622642249,
          "summed interactions": -0.10671263002839376
         },
         {
          "attributions": 0.19217999164668234,
          "summed interactions": 0.2116366050155179
         },
         {
          "attributions": -0.0007423997270735762,
          "summed interactions": -0.0018154272265935491
         },
         {
          "attributions": 0.026034361961519398,
          "summed interactions": 0.049839548347797476
         },
         {
          "attributions": 0.0182110629756481,
          "summed interactions": 0.007366738553877436
         },
         {
          "attributions": -0.18906350746851988,
          "summed interactions": -0.11774661295238274
         },
         {
          "attributions": 0.032801965106012916,
          "summed interactions": 0.047873939252153094
         },
         {
          "attributions": 0.09419095654369897,
          "summed interactions": 0.13109648286988282
         },
         {
          "attributions": 0.14940824540736497,
          "summed interactions": 0.14333479294727888
         },
         {
          "attributions": -0.00995101794851405,
          "summed interactions": 0.07839730848765555
         },
         {
          "attributions": 0.3138171880056877,
          "summed interactions": 0.3295589922852661
         },
         {
          "attributions": 0.07291227244974044,
          "summed interactions": 0.11192266742444676
         },
         {
          "attributions": -0.13577754631809344,
          "summed interactions": -0.11784976024853026
         },
         {
          "attributions": -0.26991699097401145,
          "summed interactions": -0.24510664554479725
         },
         {
          "attributions": 0.04199624554081956,
          "summed interactions": 0.05328900477177647
         },
         {
          "attributions": 0.1923310809002442,
          "summed interactions": 0.2245038271201828
         },
         {
          "attributions": -0.05700860156045946,
          "summed interactions": -0.038228298721751985
         },
         {
          "attributions": 0.015411686450841894,
          "summed interactions": 0.009901800382184238
         },
         {
          "attributions": 0.3406613637414372,
          "summed interactions": 0.4162997427813423
         },
         {
          "attributions": 0.233538592400058,
          "summed interactions": 0.17043433064358063
         },
         {
          "attributions": -0.16173640558109256,
          "summed interactions": -0.10518848243112217
         },
         {
          "attributions": 0.13091189886532514,
          "summed interactions": 0.12591672079047342
         },
         {
          "attributions": 0.0015124931340149675,
          "summed interactions": 0.025560618906788485
         },
         {
          "attributions": 0.043243409042658935,
          "summed interactions": 0.012856947948540892
         },
         {
          "attributions": 0.07385169488568386,
          "summed interactions": 0.0706060941066574
         },
         {
          "attributions": 0.05398348491566327,
          "summed interactions": 0.03323288621078724
         },
         {
          "attributions": 0.04234270958606221,
          "summed interactions": 0.04860751313005883
         },
         {
          "attributions": -0.015286198031656373,
          "summed interactions": -0.03018564799113661
         },
         {
          "attributions": -0.18976251672889166,
          "summed interactions": -0.1669872392490563
         },
         {
          "attributions": -0.16848204674628137,
          "summed interactions": -0.11721282806226938
         },
         {
          "attributions": -0.13300067179552216,
          "summed interactions": -0.18760850021574624
         },
         {
          "attributions": -0.018691230534291427,
          "summed interactions": -0.025300695105885736
         },
         {
          "attributions": 0.012540492269578424,
          "summed interactions": 0.01413700449603344
         },
         {
          "attributions": 0.05370049490045137,
          "summed interactions": 0.07829562579755754
         },
         {
          "attributions": 0.04437844724306414,
          "summed interactions": 0.05196145526084561
         },
         {
          "attributions": 0.3952359011748583,
          "summed interactions": 0.42315376403209876
         },
         {
          "attributions": 0.06497564044365274,
          "summed interactions": 0.04762380902558109
         },
         {
          "attributions": 0.15328465048000764,
          "summed interactions": 0.11575133295809723
         },
         {
          "attributions": 0.10254681738150168,
          "summed interactions": 0.11303427036528754
         },
         {
          "attributions": 0.44849832574675785,
          "summed interactions": 0.40040793978392675
         },
         {
          "attributions": -0.201277513461599,
          "summed interactions": -0.21155342692722162
         },
         {
          "attributions": -0.005425975138831678,
          "summed interactions": -0.04676071920057947
         },
         {
          "attributions": -0.022015529431959252,
          "summed interactions": -0.03559813459142485
         },
         {
          "attributions": 0.0665467540434353,
          "summed interactions": 0.08305608494873921
         },
         {
          "attributions": -0.19552437782084653,
          "summed interactions": -0.21082814428023935
         },
         {
          "attributions": 0.29445399470465367,
          "summed interactions": 0.3269871956932512
         },
         {
          "attributions": 0.12690129722758314,
          "summed interactions": 0.1154882213468559
         },
         {
          "attributions": 0.007591226325563409,
          "summed interactions": 0.0272079255047776
         },
         {
          "attributions": 0.11541340612884396,
          "summed interactions": 0.08236345656303756
         },
         {
          "attributions": -0.3891845181899825,
          "summed interactions": -0.3659420153186744
         },
         {
          "attributions": 0.04345050368442292,
          "summed interactions": 0.07339095021776937
         },
         {
          "attributions": 0.051025674652724236,
          "summed interactions": 0.06431566668403403
         },
         {
          "attributions": -0.06815678651894756,
          "summed interactions": -0.05085890674959316
         },
         {
          "attributions": 0.006771800509606622,
          "summed interactions": 0.0019619245907176535
         },
         {
          "attributions": -0.2359289282136865,
          "summed interactions": -0.22611605357888337
         },
         {
          "attributions": 0.28045780710455814,
          "summed interactions": 0.26060192746887956
         },
         {
          "attributions": -0.12285627545358978,
          "summed interactions": -0.12015128082885729
         },
         {
          "attributions": 0.031797742860459305,
          "summed interactions": 0.03397849901514459
         },
         {
          "attributions": 0.0882144866037677,
          "summed interactions": 0.10076189920895941
         },
         {
          "attributions": -0.25512792833398523,
          "summed interactions": -0.2579470827852833
         },
         {
          "attributions": -0.3088459816529623,
          "summed interactions": -0.39147618477861645
         },
         {
          "attributions": 0.2234440962844524,
          "summed interactions": 0.2027499888224157
         },
         {
          "attributions": 0.026270846291141313,
          "summed interactions": 0.03342027198644657
         },
         {
          "attributions": 0.010184718996988425,
          "summed interactions": 0.026139995845855243
         },
         {
          "attributions": -0.47396103602369166,
          "summed interactions": -0.4691915894277125
         },
         {
          "attributions": 0.17801411667380712,
          "summed interactions": 0.15695348216391633
         },
         {
          "attributions": -0.34757824160749534,
          "summed interactions": -0.40821973564702024
         },
         {
          "attributions": 0.04064297265509221,
          "summed interactions": 0.04723737015421075
         },
         {
          "attributions": 0.009066612679603691,
          "summed interactions": -0.05104505892020723
         },
         {
          "attributions": -0.11318655924480764,
          "summed interactions": -0.008567757960279221
         },
         {
          "attributions": 0.6992988331349244,
          "summed interactions": 0.7603511069097658
         },
         {
          "attributions": -0.038497475447466546,
          "summed interactions": -0.030574494516402338
         },
         {
          "attributions": -0.004723997779533694,
          "summed interactions": 2.76249916004263e-05
         },
         {
          "attributions": 0.025986901144636837,
          "summed interactions": 0.018475362033178858
         },
         {
          "attributions": 0.009929428381480117,
          "summed interactions": 0.006524901552150083
         },
         {
          "attributions": -0.29729369315469506,
          "summed interactions": -0.35231849165634194
         },
         {
          "attributions": 0.06680834005013477,
          "summed interactions": 0.06423933106988473
         },
         {
          "attributions": 0.07386776475078469,
          "summed interactions": 0.12100859533873558
         },
         {
          "attributions": 0.01532860532705057,
          "summed interactions": 0.02400658639598324
         },
         {
          "attributions": 0.2436113930240375,
          "summed interactions": 0.3173365496328881
         },
         {
          "attributions": -0.23150484775321373,
          "summed interactions": -0.17755311825964504
         },
         {
          "attributions": 0.000314403005112982,
          "summed interactions": -0.0014750662333159962
         },
         {
          "attributions": 0.10890531830495563,
          "summed interactions": 0.05275731284812183
         },
         {
          "attributions": 0.011191393104246493,
          "summed interactions": 0.012862081501743044
         },
         {
          "attributions": 0.02888209670792768,
          "summed interactions": 0.05516727958613158
         },
         {
          "attributions": -0.218299846185473,
          "summed interactions": -0.144369138751788
         },
         {
          "attributions": 0.03271766558346749,
          "summed interactions": 0.0910901154698378
         },
         {
          "attributions": -0.270176119658278,
          "summed interactions": -0.21683665748432734
         },
         {
          "attributions": 0.15341981851055148,
          "summed interactions": 0.17735943061182496
         },
         {
          "attributions": 0.5097092084661783,
          "summed interactions": 0.516066302299233
         },
         {
          "attributions": 0.5450787806193665,
          "summed interactions": 0.537205517469091
         },
         {
          "attributions": -0.14416605457771298,
          "summed interactions": -0.16665009185114182
         },
         {
          "attributions": -0.036702392808787676,
          "summed interactions": -0.04437998583233668
         },
         {
          "attributions": 0.016770473674660096,
          "summed interactions": 0.03599885691972568
         },
         {
          "attributions": 0.031161128798781506,
          "summed interactions": 0.002140237121997442
         },
         {
          "attributions": 0.04031930586366564,
          "summed interactions": 0.015249032395490797
         },
         {
          "attributions": 0.08308909950432501,
          "summed interactions": 0.0717146609251075
         },
         {
          "attributions": 0.041121208076101166,
          "summed interactions": 0.02354949005361833
         },
         {
          "attributions": 0.09060667486935457,
          "summed interactions": 0.027796396720929525
         },
         {
          "attributions": 0.006310400392029729,
          "summed interactions": -0.045839466654042975
         },
         {
          "attributions": 0.1788035728416649,
          "summed interactions": 0.14595856505233007
         },
         {
          "attributions": 0.08988879078966101,
          "summed interactions": 0.11094784688062069
         },
         {
          "attributions": 0.03671805815477312,
          "summed interactions": 0.01583390753473045
         },
         {
          "attributions": 0.09558051196489792,
          "summed interactions": 0.08985655265830488
         },
         {
          "attributions": 0.08396408030855948,
          "summed interactions": 0.07987550370961541
         },
         {
          "attributions": 0.2252793754571767,
          "summed interactions": 0.19545031569224147
         },
         {
          "attributions": 0.0065225187847560255,
          "summed interactions": 0.011887041918482796
         },
         {
          "attributions": 0.021705454531107737,
          "summed interactions": 0.0034233198088773065
         },
         {
          "attributions": 0.37041572146540297,
          "summed interactions": 0.31416192289197326
         },
         {
          "attributions": -0.0548190292533102,
          "summed interactions": -0.025055186375332154
         },
         {
          "attributions": 0.22893423027106855,
          "summed interactions": 0.27566712845681035
         },
         {
          "attributions": -0.124727166540169,
          "summed interactions": -0.07547439217766874
         },
         {
          "attributions": 0.03465113973985868,
          "summed interactions": 0.01910328048141742
         },
         {
          "attributions": 0.027705864218189897,
          "summed interactions": 0.050154680013289744
         },
         {
          "attributions": 0.023779785032908705,
          "summed interactions": 0.04954763222804683
         },
         {
          "attributions": -0.2941244985994948,
          "summed interactions": -0.360359915526838
         },
         {
          "attributions": 0.03163218888140147,
          "summed interactions": 0.03377007589328798
         },
         {
          "attributions": -0.07686954717936731,
          "summed interactions": -0.1010553266553209
         },
         {
          "attributions": -0.06782223440603646,
          "summed interactions": -0.055634746451439204
         },
         {
          "attributions": -0.07857249476872145,
          "summed interactions": -0.07295144956504344
         },
         {
          "attributions": 0.32376723082595804,
          "summed interactions": 0.24007539163344385
         },
         {
          "attributions": -0.1699524239647291,
          "summed interactions": -0.15579254155481007
         },
         {
          "attributions": -0.09175268509608138,
          "summed interactions": -0.10923259985708214
         },
         {
          "attributions": -0.08575635755107724,
          "summed interactions": -0.1242012194859732
         },
         {
          "attributions": -0.16291997148897766,
          "summed interactions": -0.09811508908719616
         },
         {
          "attributions": 0.11162369969487879,
          "summed interactions": 0.12066404853869805
         },
         {
          "attributions": -0.14436536520322363,
          "summed interactions": -0.13480487184947698
         },
         {
          "attributions": 0.009454985612175372,
          "summed interactions": 0.04528948293981104
         },
         {
          "attributions": -0.13058085895958446,
          "summed interactions": -0.12752500720218754
         },
         {
          "attributions": 0.2934111649277763,
          "summed interactions": 0.2460299627140757
         },
         {
          "attributions": -0.2516350138543707,
          "summed interactions": -0.19498673774151284
         },
         {
          "attributions": -0.17845953737222175,
          "summed interactions": -0.17845206347067008
         },
         {
          "attributions": 0.03795359177052549,
          "summed interactions": 0.06335887046787117
         },
         {
          "attributions": 0.013880915605306594,
          "summed interactions": 0.01567394502782661
         },
         {
          "attributions": 0.06091509615607243,
          "summed interactions": 0.033251831291030126
         },
         {
          "attributions": -0.10440692783758293,
          "summed interactions": -0.11950921440413667
         },
         {
          "attributions": 0.08984393894659119,
          "summed interactions": 0.0792267670557253
         },
         {
          "attributions": 0.04386542607631211,
          "summed interactions": 0.07640157761149662
         },
         {
          "attributions": -0.3681018617364997,
          "summed interactions": -0.3242003792313988
         },
         {
          "attributions": -0.018609950086452304,
          "summed interactions": -0.04345558362549691
         },
         {
          "attributions": 0.36688494235190233,
          "summed interactions": 0.4031404174646045
         },
         {
          "attributions": 0.05014593823595088,
          "summed interactions": 0.044225489525353906
         },
         {
          "attributions": -0.005985848866312811,
          "summed interactions": -0.004562674017562626
         },
         {
          "attributions": 0.04397385492186979,
          "summed interactions": 0.00831356598055939
         },
         {
          "attributions": 0.03329569664899827,
          "summed interactions": 0.04666230276389027
         },
         {
          "attributions": -0.305234627427108,
          "summed interactions": -0.2826133718591758
         },
         {
          "attributions": 0.04853368460029584,
          "summed interactions": 0.0741627966269587
         },
         {
          "attributions": 0.18685642465771093,
          "summed interactions": 0.18311053170985067
         },
         {
          "attributions": 0.0254452272839919,
          "summed interactions": 0.034038987749295334
         },
         {
          "attributions": -0.12248141001106502,
          "summed interactions": -0.10808513731777813
         },
         {
          "attributions": 0.13580980908841303,
          "summed interactions": 0.1839195650298351
         },
         {
          "attributions": -0.08603943681242716,
          "summed interactions": -0.11557753014889563
         },
         {
          "attributions": 0.006608902032761544,
          "summed interactions": 0.010583010558693085
         },
         {
          "attributions": 0.07301863146827041,
          "summed interactions": 0.08091538478397688
         },
         {
          "attributions": -0.02763149805388763,
          "summed interactions": -0.04903339293185991
         },
         {
          "attributions": 0.12511203183477043,
          "summed interactions": 0.09389836685073927
         },
         {
          "attributions": -0.004430060709303901,
          "summed interactions": 0.001468062672715583
         },
         {
          "attributions": 0.011575572444801481,
          "summed interactions": 0.0018554597415676704
         },
         {
          "attributions": -0.1100278325833971,
          "summed interactions": -0.06796631609253753
         },
         {
          "attributions": -0.13358639672946315,
          "summed interactions": -0.08167005596019403
         },
         {
          "attributions": -0.12509644878849854,
          "summed interactions": -0.15177276760674463
         },
         {
          "attributions": 0.28366365143077066,
          "summed interactions": 0.2792212026285566
         },
         {
          "attributions": 0.0035959749279889197,
          "summed interactions": 0.010298088526942886
         },
         {
          "attributions": 0.009770804687837864,
          "summed interactions": 0.03443550728866172
         },
         {
          "attributions": 0.019068762360815637,
          "summed interactions": 0.03245673082073039
         },
         {
          "attributions": 0.14611514595397723,
          "summed interactions": 0.10202237690763657
         },
         {
          "attributions": 0.07260933450568925,
          "summed interactions": 0.07116348382622685
         },
         {
          "attributions": 0.13890817275609274,
          "summed interactions": 0.17584679977509304
         },
         {
          "attributions": 0.3209475348936385,
          "summed interactions": 0.29595200595514726
         },
         {
          "attributions": -0.4508220105434427,
          "summed interactions": -0.440002452965346
         },
         {
          "attributions": -0.9801997030680109,
          "summed interactions": -1.0086156822181225
         },
         {
          "attributions": -0.1045852395161732,
          "summed interactions": -0.08140765802411841
         },
         {
          "attributions": -0.00273728695181605,
          "summed interactions": 0.012444046191036243
         },
         {
          "attributions": -0.12167183500743085,
          "summed interactions": -0.1484073804263597
         },
         {
          "attributions": 0.11662966442877704,
          "summed interactions": 0.12944047983296766
         },
         {
          "attributions": 0.01430980358627541,
          "summed interactions": 0.08253660810947024
         },
         {
          "attributions": 0.20080037107564283,
          "summed interactions": 0.21761111753932233
         },
         {
          "attributions": 0.11119736817799533,
          "summed interactions": 0.1038006932336919
         },
         {
          "attributions": -0.060747504195298827,
          "summed interactions": -0.025297156509391565
         },
         {
          "attributions": 0.12161669933624766,
          "summed interactions": 0.13084759650528752
         },
         {
          "attributions": -1.0367152015771723,
          "summed interactions": -1.0201650814919394
         },
         {
          "attributions": -0.253915566461283,
          "summed interactions": -0.26388963118511644
         },
         {
          "attributions": 0.10664174126538473,
          "summed interactions": 0.05202304250907408
         },
         {
          "attributions": 0.09455552270656879,
          "summed interactions": 0.06009813355871038
         },
         {
          "attributions": -0.1933750996277872,
          "summed interactions": -0.10853996253976878
         },
         {
          "attributions": -0.05682192679086195,
          "summed interactions": 0.02546999097537999
         },
         {
          "attributions": -0.17075828319551475,
          "summed interactions": -0.13361081182508963
         },
         {
          "attributions": 0.014094628499576654,
          "summed interactions": 0.11679971648806725
         },
         {
          "attributions": -0.08500780549831852,
          "summed interactions": -0.03673125960981315
         },
         {
          "attributions": -0.1773910878824927,
          "summed interactions": -0.1665485001565275
         },
         {
          "attributions": -0.09578619982290389,
          "summed interactions": -0.1533254944394961
         },
         {
          "attributions": 0.007894174004332035,
          "summed interactions": -0.0013598574009557754
         },
         {
          "attributions": -0.1091255690471432,
          "summed interactions": -0.14565563591346228
         },
         {
          "attributions": 0.04724363260887882,
          "summed interactions": 0.005550100505544153
         },
         {
          "attributions": 0.05445073939517139,
          "summed interactions": 0.06809523604282193
         },
         {
          "attributions": 0.6323230612355202,
          "summed interactions": 0.6695687785915947
         },
         {
          "attributions": 0.03683699605562235,
          "summed interactions": 0.038204288923625145
         },
         {
          "attributions": 0.023893770286305505,
          "summed interactions": 0.04517379027022533
         },
         {
          "attributions": -0.19907720038009555,
          "summed interactions": -0.1791057200560715
         },
         {
          "attributions": 0.34864029852503614,
          "summed interactions": 0.33992506250251286
         },
         {
          "attributions": 0.6730694394687587,
          "summed interactions": 0.6995441345079947
         },
         {
          "attributions": -0.02988558978128711,
          "summed interactions": -0.03974549621970301
         },
         {
          "attributions": -0.02392355094362218,
          "summed interactions": -0.009747475833940387
         },
         {
          "attributions": 0.029970219353013854,
          "summed interactions": 0.03642754681101603
         },
         {
          "attributions": 0.024239271141382673,
          "summed interactions": 0.027019900640813388
         },
         {
          "attributions": 0.1379532260412315,
          "summed interactions": 0.17467286344439284
         },
         {
          "attributions": 0.02722789516868296,
          "summed interactions": 0.015994711765605258
         },
         {
          "attributions": 0.061279729854519405,
          "summed interactions": 0.029415717157222226
         }
        ]
       },
       "encoding": {
        "x": {
         "field": "attributions",
         "type": "quantitative"
        },
        "y": {
         "field": "summed interactions",
         "type": "quantitative"
        }
       },
       "mark": "point"
      },
      "image/png": "[encoded data removed]",
      "text/plain": [
       "<VegaLite 3 object>\n",
       "\n",
       "If you see this message, it means the renderer has not been properly enabled\n",
       "for the frontend that you are using. For more information, see\n",
       "https://altair-viz.github.io/user_guide/troubleshooting.html\n"
      ]
     },
     "execution_count": 38,
     "metadata": {},
     "output_type": "execute_result"
    }
   ],
   "source": [
    "summed_interactions = np.sum(interactions, axis=1)\n",
    "data_df = pd.DataFrame({\n",
    "    'attributions': attributions.flatten(),\n",
    "    'summed interactions': summed_interactions.flatten()\n",
    "})\n",
    "alt.Chart(data_df).mark_point().encode(\n",
    "    alt.X('attributions:Q'),\n",
    "    alt.Y('summed interactions:Q')\n",
    ")"
   ]
  },
  {
   "cell_type": "code",
   "execution_count": 10,
   "metadata": {},
   "outputs": [
    {
     "name": "stderr",
     "output_type": "stream",
     "text": [
      "100%|██████████| 20/20 [01:47<00:00,  5.36s/it]\n"
     ]
    }
   ],
   "source": [
    "batch_sizes = np.linspace(10, 200, 20).astype(int)\n",
    "times = []\n",
    "for batch_size in tqdm(batch_sizes):\n",
    "    start_time = time.time()\n",
    "    interactions = explainer.interactions(inputs, baseline,\n",
    "                     batch_size=batch_size, num_samples=100,\n",
    "                     use_expectation=True, output_indices=[0] * len(inputs),\n",
    "                     verbose=False, interaction_index=None)\n",
    "    end_time = time.time()\n",
    "    times.append(end_time - start_time)\n",
    "    assert interactions.shape == (50, 10, 10), 'batch_size: {}'.format(batch_size)"
   ]
  },
  {
   "cell_type": "code",
   "execution_count": 11,
   "metadata": {},
   "outputs": [
    {
     "data": {
      "application/vnd.vegalite.v3+json": {
       "$schema": "https://vega.github.io/schema/vega-lite/v3.4.0.json",
       "config": {
        "mark": {
         "tooltip": null
        },
        "view": {
         "height": 300,
         "width": 400
        }
       },
       "data": {
        "name": "data-2632f06f4510789330e5b6c3b553bbd0"
       },
       "datasets": {
        "data-2632f06f4510789330e5b6c3b553bbd0": [
         {
          "Batch Size": 10,
          "Computation Time": 25.295686721801758
         },
         {
          "Batch Size": 20,
          "Computation Time": 11.965441942214966
         },
         {
          "Batch Size": 30,
          "Computation Time": 9.583084344863892
         },
         {
          "Batch Size": 40,
          "Computation Time": 7.62247896194458
         },
         {
          "Batch Size": 50,
          "Computation Time": 4.7240214347839355
         },
         {
          "Batch Size": 60,
          "Computation Time": 4.7576904296875
         },
         {
          "Batch Size": 70,
          "Computation Time": 4.812195301055908
         },
         {
          "Batch Size": 80,
          "Computation Time": 5.183852195739746
         },
         {
          "Batch Size": 90,
          "Computation Time": 4.958438396453857
         },
         {
          "Batch Size": 100,
          "Computation Time": 2.652324914932251
         },
         {
          "Batch Size": 110,
          "Computation Time": 2.6165618896484375
         },
         {
          "Batch Size": 120,
          "Computation Time": 2.6670663356781006
         },
         {
          "Batch Size": 130,
          "Computation Time": 2.486384391784668
         },
         {
          "Batch Size": 140,
          "Computation Time": 2.6111555099487305
         },
         {
          "Batch Size": 150,
          "Computation Time": 2.6504507064819336
         },
         {
          "Batch Size": 160,
          "Computation Time": 2.5214931964874268
         },
         {
          "Batch Size": 170,
          "Computation Time": 2.5466153621673584
         },
         {
          "Batch Size": 180,
          "Computation Time": 2.5670835971832275
         },
         {
          "Batch Size": 190,
          "Computation Time": 2.516787528991699
         },
         {
          "Batch Size": 200,
          "Computation Time": 2.4170451164245605
         }
        ]
       },
       "encoding": {
        "x": {
         "field": "Batch Size",
         "type": "quantitative"
        },
        "y": {
         "field": "Computation Time",
         "type": "quantitative"
        }
       },
       "mark": "line"
      },
      "image/png": "[encoded data removed]",
      "text/plain": [
       "<VegaLite 3 object>\n",
       "\n",
       "If you see this message, it means the renderer has not been properly enabled\n",
       "for the frontend that you are using. For more information, see\n",
       "https://altair-viz.github.io/user_guide/troubleshooting.html\n"
      ]
     },
     "execution_count": 11,
     "metadata": {},
     "output_type": "execute_result"
    }
   ],
   "source": [
    "time_df = pd.DataFrame({\n",
    "    'Batch Size': batch_sizes,\n",
    "    'Computation Time': times\n",
    "})\n",
    "alt.Chart(time_df).mark_line().encode(\n",
    "    alt.X('Batch Size:Q'),\n",
    "    alt.Y('Computation Time:Q')\n",
    ")"
   ]
  }
 ],
 "metadata": {
  "kernelspec": {
   "display_name": "Python 3",
   "language": "python",
   "name": "python3"
  },
  "language_info": {
   "codemirror_mode": {
    "name": "ipython",
    "version": 3
   },
   "file_extension": ".py",
   "mimetype": "text/x-python",
   "name": "python",
   "nbconvert_exporter": "python",
   "pygments_lexer": "ipython3",
   "version": "3.7.4"
  }
 },
 "nbformat": 4,
 "nbformat_minor": 4
}
