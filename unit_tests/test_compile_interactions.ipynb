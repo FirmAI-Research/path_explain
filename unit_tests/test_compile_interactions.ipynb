{
 "cells": [
  {
   "cell_type": "code",
   "execution_count": 1,
   "metadata": {},
   "outputs": [],
   "source": [
    "%load_ext autoreload\n",
    "%autoreload 2"
   ]
  },
  {
   "cell_type": "code",
   "execution_count": 2,
   "metadata": {},
   "outputs": [],
   "source": [
    "import os\n",
    "os.environ['CUDA_VISIBLE_DEVICES'] = '4'"
   ]
  },
  {
   "cell_type": "code",
   "execution_count": 3,
   "metadata": {},
   "outputs": [],
   "source": [
    "import tensorflow as tf\n",
    "import numpy as np\n",
    "import pandas as pd\n",
    "import altair as alt\n",
    "import time\n",
    "from tqdm import tqdm\n",
    "from path_explain.path_explainer_tf import PathExplainerTF"
   ]
  },
  {
   "cell_type": "code",
   "execution_count": 4,
   "metadata": {},
   "outputs": [],
   "source": [
    "baseline = np.random.randn(1000, 10)\n",
    "inputs = np.random.randn(50, 10)"
   ]
  },
  {
   "cell_type": "code",
   "execution_count": 5,
   "metadata": {},
   "outputs": [],
   "source": [
    "model = tf.keras.models.Sequential()\n",
    "model.add(tf.keras.layers.Input(10, dtype=tf.float32))\n",
    "model.add(tf.keras.layers.Dense(5, activation=tf.keras.activations.softplus, use_bias=True))\n",
    "model.add(tf.keras.layers.Dense(1, activation=None, use_bias=False))"
   ]
  },
  {
   "cell_type": "code",
   "execution_count": 6,
   "metadata": {},
   "outputs": [],
   "source": [
    "explainer = PathExplainerTF(model)"
   ]
  },
  {
   "cell_type": "code",
   "execution_count": 7,
   "metadata": {},
   "outputs": [
    {
     "name": "stdout",
     "output_type": "stream",
     "text": [
      "WARNING:tensorflow:Layer dense is casting an input tensor from dtype float64 to the layer's dtype of float32, which is new behavior in TensorFlow 2.  The layer has dtype float32 because it's dtype defaults to floatx.\n",
      "\n",
      "If you intended to run this layer in float32, you can safely ignore this warning. If in doubt, this warning is likely only an issue if you are porting a TensorFlow 1.X model to TensorFlow 2.\n",
      "\n",
      "To change all layers to have dtype float64 by default, call `tf.keras.backend.set_floatx('float64')`. To change just this layer, pass dtype='float64' to the layer constructor. If you are the author of this layer, you can disable autocasting by passing autocast=False to the base Layer constructor.\n",
      "\n"
     ]
    }
   ],
   "source": [
    "current_alphas = explainer._sample_alphas(num_samples=100, use_expectation=True, use_product=True)\n",
    "interactions = explainer._single_interaction(inputs[0], baseline,\n",
    "                              current_alphas, num_samples=100, batch_size=50,\n",
    "                              use_expectation=True, output_index=None,\n",
    "                              interaction_index=None)\n",
    "assert interactions.shape == (10, 10)"
   ]
  },
  {
   "cell_type": "markdown",
   "metadata": {},
   "source": [
    "## Testing Shape\n",
    "We need to make sure our attributions return an array of the right shape."
   ]
  },
  {
   "cell_type": "code",
   "execution_count": 8,
   "metadata": {},
   "outputs": [
    {
     "name": "stderr",
     "output_type": "stream",
     "text": [
      "100%|██████████| 50/50 [00:00<00:00, 82.79it/s]\n"
     ]
    }
   ],
   "source": [
    "interactions = explainer.interactions(inputs, baseline,\n",
    "                     batch_size=100, num_samples=100,\n",
    "                     use_expectation=True, output_indices=[0] * len(inputs),\n",
    "                     verbose=True, interaction_index=0)\n",
    "assert interactions.shape == (50, 10)"
   ]
  },
  {
   "cell_type": "code",
   "execution_count": 9,
   "metadata": {},
   "outputs": [
    {
     "data": {
      "text/plain": [
       "<tf.Tensor: id=4626, shape=(50,), dtype=float32, numpy=\n",
       "array([-1.3427489 , -0.33881783,  0.47907317, -0.6838472 ,  0.5334646 ,\n",
       "        0.0947026 ,  0.07244134,  0.05426681,  0.9103896 ,  0.52255446,\n",
       "       -1.0420234 ,  0.5211824 ,  0.7900971 ,  0.782961  ,  0.10859323,\n",
       "       -0.48043275,  0.1023401 , -0.19518757,  0.8270062 ,  0.02378452,\n",
       "        0.31242394,  0.31487918,  0.19367504, -0.28967178, -0.10209334,\n",
       "        0.6361164 ,  0.32415974, -0.43430793,  1.0954902 ,  0.26595116,\n",
       "        0.5102163 ,  0.7160038 ,  0.30422628,  0.5931645 , -0.22245598,\n",
       "       -0.838125  ,  0.4574905 , -0.15941143,  1.1450742 ,  0.6430816 ,\n",
       "        0.15012693, -0.35090804, -0.04101181, -0.01166427,  0.10673785,\n",
       "        0.2920891 , -0.8904693 , -1.2972481 ,  0.3623668 ,  1.074553  ],\n",
       "      dtype=float32)>"
      ]
     },
     "execution_count": 9,
     "metadata": {},
     "output_type": "execute_result"
    }
   ],
   "source": [
    "(model(inputs) - np.mean(model(baseline)))[:, 0]"
   ]
  },
  {
   "cell_type": "code",
   "execution_count": 10,
   "metadata": {},
   "outputs": [
    {
     "name": "stderr",
     "output_type": "stream",
     "text": [
      "100%|██████████| 50/50 [00:23<00:00,  2.16it/s]\n"
     ]
    }
   ],
   "source": [
    "interactions = explainer.interactions(inputs, baseline,\n",
    "                     batch_size=100, num_samples=100,\n",
    "                     use_expectation=True, output_indices=[0] * len(inputs),\n",
    "                     verbose=True, interaction_index=None)\n",
    "assert interactions.shape == (50, 10, 10)"
   ]
  },
  {
   "cell_type": "code",
   "execution_count": 11,
   "metadata": {},
   "outputs": [
    {
     "data": {
      "text/plain": [
       "array([-1.30872566, -0.32256069,  0.43377426, -0.75540004,  0.41350053,\n",
       "        0.01103091,  0.0661293 , -0.07516162,  0.80630199,  0.41561447,\n",
       "       -1.15160142,  0.43081334,  0.75152945,  0.66253431,  0.15453918,\n",
       "       -0.75472854,  0.14444752, -0.21960029,  0.82188323,  0.04905743,\n",
       "        0.23490913,  0.45187604,  0.20404591, -0.2645939 , -0.25883757,\n",
       "        0.72599303,  0.35901734, -0.32999748,  1.14348936,  0.24453223,\n",
       "        0.40369636,  0.69023902,  0.28844417,  0.69415201, -0.3328863 ,\n",
       "       -0.6748481 ,  0.45444499, -0.24137996,  1.16215325,  0.79544436,\n",
       "        0.07757725, -0.35041084, -0.04899226, -0.08006231,  0.07599735,\n",
       "        0.3329452 , -0.86738011, -1.26143515,  0.26660627,  1.01751743])"
      ]
     },
     "execution_count": 11,
     "metadata": {},
     "output_type": "execute_result"
    }
   ],
   "source": [
    "np.sum(interactions, axis=(1,2))"
   ]
  },
  {
   "cell_type": "markdown",
   "metadata": {},
   "source": [
    "## Testing completeness\n",
    "We need to make sure our interactions satisfy completeness!"
   ]
  },
  {
   "cell_type": "code",
   "execution_count": 27,
   "metadata": {},
   "outputs": [],
   "source": [
    "use_expectation = False\n",
    "num_samples = 300\n",
    "current_alphas = explainer._sample_alphas(num_samples=num_samples, use_expectation=use_expectation, use_product=True)\n",
    "\n",
    "interactions = explainer._single_interaction(inputs[0], np.zeros((1, 10)),\n",
    "                              current_alphas, num_samples=num_samples, batch_size=100,\n",
    "                              use_expectation=use_expectation, output_index=0,\n",
    "                              interaction_index=None)"
   ]
  },
  {
   "cell_type": "code",
   "execution_count": 28,
   "metadata": {},
   "outputs": [],
   "source": [
    "attributions = explainer.attributions(inputs[0:1], np.zeros((1, 10)),\n",
    "                     batch_size=100, num_samples=num_samples,\n",
    "                     use_expectation=use_expectation, output_indices=[0] * len(inputs),\n",
    "                     verbose=False)\n",
    "attributions = attributions[0]"
   ]
  },
  {
   "cell_type": "code",
   "execution_count": 29,
   "metadata": {},
   "outputs": [
    {
     "name": "stdout",
     "output_type": "stream",
     "text": [
      "Attribution to 0:\t\t-0.375974\n",
      "Sum of interactions with 0:\t-0.371618\n",
      "----------------------------\n",
      "Attribution to 1:\t\t-0.157820\n",
      "Sum of interactions with 1:\t-0.157725\n",
      "----------------------------\n",
      "Attribution to 2:\t\t-0.462000\n",
      "Sum of interactions with 2:\t-0.459976\n",
      "----------------------------\n",
      "Attribution to 3:\t\t0.415417\n",
      "Sum of interactions with 3:\t0.415432\n",
      "----------------------------\n",
      "Attribution to 4:\t\t-0.155132\n",
      "Sum of interactions with 4:\t-0.151072\n",
      "----------------------------\n",
      "Attribution to 5:\t\t-0.059511\n",
      "Sum of interactions with 5:\t-0.057385\n",
      "----------------------------\n",
      "Attribution to 6:\t\t-0.140378\n",
      "Sum of interactions with 6:\t-0.135189\n",
      "----------------------------\n",
      "Attribution to 7:\t\t-0.260275\n",
      "Sum of interactions with 7:\t-0.257904\n",
      "----------------------------\n",
      "Attribution to 8:\t\t-0.064744\n",
      "Sum of interactions with 8:\t-0.061779\n",
      "----------------------------\n",
      "Attribution to 9:\t\t-0.329282\n",
      "Sum of interactions with 9:\t-0.323389\n",
      "----------------------------\n"
     ]
    }
   ],
   "source": [
    "for i in range(10):\n",
    "    print('Attribution to {}:\\t\\t{:.6f}'.format(i, attributions[i]))\n",
    "    print('Sum of interactions with {}:\\t{:.6f}'.format(i, np.sum(interactions[i])))\n",
    "    print('----------------------------')"
   ]
  },
  {
   "cell_type": "code",
   "execution_count": 53,
   "metadata": {},
   "outputs": [
    {
     "data": {
      "application/vnd.vegalite.v3+json": {
       "$schema": "https://vega.github.io/schema/vega-lite/v3.4.0.json",
       "config": {
        "mark": {
         "tooltip": null
        },
        "view": {
         "height": 300,
         "width": 400
        }
       },
       "data": {
        "name": "data-3d57f20f5c9e8a7e4b619bf0fb1fcbb3"
       },
       "datasets": {
        "data-3d57f20f5c9e8a7e4b619bf0fb1fcbb3": [
         {
          "attributions": 0.06630826793512287,
          "summed interactions": -0.026895899147072435
         },
         {
          "attributions": -0.0007335473409913318,
          "summed interactions": 0.0016229940878193854
         },
         {
          "attributions": -0.2862450309911921,
          "summed interactions": -0.053101803732106614
         },
         {
          "attributions": -0.22047624065174087,
          "summed interactions": 0.12239082222544415
         },
         {
          "attributions": -0.008596982281531563,
          "summed interactions": -0.003419604338280577
         },
         {
          "attributions": 0.08212006874431563,
          "summed interactions": 0.010425110472044615
         },
         {
          "attributions": 0.2846721143562457,
          "summed interactions": -0.1956824785362758
         },
         {
          "attributions": 0.7079214332193691,
          "summed interactions": -0.17495923938462166
         },
         {
          "attributions": 0.018939309969481885,
          "summed interactions": -0.015382693397028092
         },
         {
          "attributions": 0.0713521449776323,
          "summed interactions": -0.007247256127271214
         }
        ]
       },
       "encoding": {
        "x": {
         "field": "attributions",
         "type": "quantitative"
        },
        "y": {
         "field": "summed interactions",
         "type": "quantitative"
        }
       },
       "mark": "point"
      },
      "image/png": "[encoded data removed]",
      "text/plain": [
       "<VegaLite 3 object>\n",
       "\n",
       "If you see this message, it means the renderer has not been properly enabled\n",
       "for the frontend that you are using. For more information, see\n",
       "https://altair-viz.github.io/user_guide/troubleshooting.html\n"
      ]
     },
     "execution_count": 53,
     "metadata": {},
     "output_type": "execute_result"
    }
   ],
   "source": [
    "summed_interactions = np.sum(interactions, axis=1)\n",
    "data_df = pd.DataFrame({\n",
    "    'attributions': attributions.flatten(),\n",
    "    'summed interactions': summed_interactions.flatten()\n",
    "})\n",
    "alt.Chart(data_df).mark_point().encode(\n",
    "    alt.X('attributions:Q'),\n",
    "    alt.Y('summed interactions:Q')\n",
    ")"
   ]
  },
  {
   "cell_type": "code",
   "execution_count": 10,
   "metadata": {},
   "outputs": [
    {
     "name": "stderr",
     "output_type": "stream",
     "text": [
      "100%|██████████| 20/20 [01:47<00:00,  5.36s/it]\n"
     ]
    }
   ],
   "source": [
    "batch_sizes = np.linspace(10, 200, 20).astype(int)\n",
    "times = []\n",
    "for batch_size in tqdm(batch_sizes):\n",
    "    start_time = time.time()\n",
    "    interactions = explainer.interactions(inputs, baseline,\n",
    "                     batch_size=batch_size, num_samples=100,\n",
    "                     use_expectation=True, output_indices=[0] * len(inputs),\n",
    "                     verbose=False, interaction_index=None)\n",
    "    end_time = time.time()\n",
    "    times.append(end_time - start_time)\n",
    "    assert interactions.shape == (50, 10, 10), 'batch_size: {}'.format(batch_size)"
   ]
  },
  {
   "cell_type": "code",
   "execution_count": 11,
   "metadata": {},
   "outputs": [
    {
     "data": {
      "application/vnd.vegalite.v3+json": {
       "$schema": "https://vega.github.io/schema/vega-lite/v3.4.0.json",
       "config": {
        "mark": {
         "tooltip": null
        },
        "view": {
         "height": 300,
         "width": 400
        }
       },
       "data": {
        "name": "data-2632f06f4510789330e5b6c3b553bbd0"
       },
       "datasets": {
        "data-2632f06f4510789330e5b6c3b553bbd0": [
         {
          "Batch Size": 10,
          "Computation Time": 25.295686721801758
         },
         {
          "Batch Size": 20,
          "Computation Time": 11.965441942214966
         },
         {
          "Batch Size": 30,
          "Computation Time": 9.583084344863892
         },
         {
          "Batch Size": 40,
          "Computation Time": 7.62247896194458
         },
         {
          "Batch Size": 50,
          "Computation Time": 4.7240214347839355
         },
         {
          "Batch Size": 60,
          "Computation Time": 4.7576904296875
         },
         {
          "Batch Size": 70,
          "Computation Time": 4.812195301055908
         },
         {
          "Batch Size": 80,
          "Computation Time": 5.183852195739746
         },
         {
          "Batch Size": 90,
          "Computation Time": 4.958438396453857
         },
         {
          "Batch Size": 100,
          "Computation Time": 2.652324914932251
         },
         {
          "Batch Size": 110,
          "Computation Time": 2.6165618896484375
         },
         {
          "Batch Size": 120,
          "Computation Time": 2.6670663356781006
         },
         {
          "Batch Size": 130,
          "Computation Time": 2.486384391784668
         },
         {
          "Batch Size": 140,
          "Computation Time": 2.6111555099487305
         },
         {
          "Batch Size": 150,
          "Computation Time": 2.6504507064819336
         },
         {
          "Batch Size": 160,
          "Computation Time": 2.5214931964874268
         },
         {
          "Batch Size": 170,
          "Computation Time": 2.5466153621673584
         },
         {
          "Batch Size": 180,
          "Computation Time": 2.5670835971832275
         },
         {
          "Batch Size": 190,
          "Computation Time": 2.516787528991699
         },
         {
          "Batch Size": 200,
          "Computation Time": 2.4170451164245605
         }
        ]
       },
       "encoding": {
        "x": {
         "field": "Batch Size",
         "type": "quantitative"
        },
        "y": {
         "field": "Computation Time",
         "type": "quantitative"
        }
       },
       "mark": "line"
      },
      "image/png": "[encoded data removed]",
      "text/plain": [
       "<VegaLite 3 object>\n",
       "\n",
       "If you see this message, it means the renderer has not been properly enabled\n",
       "for the frontend that you are using. For more information, see\n",
       "https://altair-viz.github.io/user_guide/troubleshooting.html\n"
      ]
     },
     "execution_count": 11,
     "metadata": {},
     "output_type": "execute_result"
    }
   ],
   "source": [
    "time_df = pd.DataFrame({\n",
    "    'Batch Size': batch_sizes,\n",
    "    'Computation Time': times\n",
    "})\n",
    "alt.Chart(time_df).mark_line().encode(\n",
    "    alt.X('Batch Size:Q'),\n",
    "    alt.Y('Computation Time:Q')\n",
    ")"
   ]
  }
 ],
 "metadata": {
  "kernelspec": {
   "display_name": "Python 3",
   "language": "python",
   "name": "python3"
  },
  "language_info": {
   "codemirror_mode": {
    "name": "ipython",
    "version": 3
   },
   "file_extension": ".py",
   "mimetype": "text/x-python",
   "name": "python",
   "nbconvert_exporter": "python",
   "pygments_lexer": "ipython3",
   "version": "3.7.4"
  }
 },
 "nbformat": 4,
 "nbformat_minor": 4
}
