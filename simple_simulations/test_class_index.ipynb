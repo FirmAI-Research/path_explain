{
 "cells": [
  {
   "cell_type": "code",
   "execution_count": 1,
   "metadata": {},
   "outputs": [],
   "source": [
    "%load_ext autoreload\n",
    "%autoreload 2"
   ]
  },
  {
   "cell_type": "code",
   "execution_count": 2,
   "metadata": {},
   "outputs": [],
   "source": [
    "import tensorflow as tf\n",
    "import numpy as np\n",
    "import pandas as pd\n",
    "import altair as alt\n",
    "import shap\n",
    "\n",
    "from interaction_effects.marginal import MarginalExplainer\n",
    "from interaction_effects import utils"
   ]
  },
  {
   "cell_type": "code",
   "execution_count": 3,
   "metadata": {},
   "outputs": [],
   "source": [
    "n = 3000\n",
    "d = 3\n",
    "batch_size = 50\n",
    "learning_rate = 0.02"
   ]
  },
  {
   "cell_type": "code",
   "execution_count": 4,
   "metadata": {},
   "outputs": [],
   "source": [
    "X = np.random.randn(n, d)\n",
    "y = (np.sum(X, axis=-1) > 0.0).astype(np.float32)"
   ]
  },
  {
   "cell_type": "code",
   "execution_count": 5,
   "metadata": {},
   "outputs": [],
   "source": [
    "model = tf.keras.Sequential()\n",
    "model.add(tf.keras.Input(shape=(3,), batch_size=batch_size))\n",
    "model.add(tf.keras.layers.Dense(2, activation=None, use_bias=True))"
   ]
  },
  {
   "cell_type": "code",
   "execution_count": 6,
   "metadata": {},
   "outputs": [],
   "source": [
    "optimizer = tf.keras.optimizers.SGD(learning_rate=learning_rate)\n",
    "model.compile(optimizer=optimizer,\n",
    "              loss=tf.keras.losses.SparseCategoricalCrossentropy(),\n",
    "              metrics=[tf.keras.metrics.SparseCategoricalAccuracy()])"
   ]
  },
  {
   "cell_type": "code",
   "execution_count": 7,
   "metadata": {},
   "outputs": [
    {
     "name": "stdout",
     "output_type": "stream",
     "text": [
      "Train on 3000 samples\n",
      "Epoch 1/20\n",
      "3000/3000 - 1s - loss: 3.7362 - sparse_categorical_accuracy: 0.6037\n",
      "Epoch 2/20\n",
      "3000/3000 - 0s - loss: 0.4334 - sparse_categorical_accuracy: 0.9277\n",
      "Epoch 3/20\n",
      "3000/3000 - 0s - loss: 0.4227 - sparse_categorical_accuracy: 0.9347\n",
      "Epoch 4/20\n",
      "3000/3000 - 0s - loss: 0.4213 - sparse_categorical_accuracy: 0.9343\n",
      "Epoch 5/20\n",
      "3000/3000 - 0s - loss: 0.4208 - sparse_categorical_accuracy: 0.9340\n",
      "Epoch 6/20\n",
      "3000/3000 - 0s - loss: 0.4205 - sparse_categorical_accuracy: 0.9343\n",
      "Epoch 7/20\n",
      "3000/3000 - 0s - loss: 0.4204 - sparse_categorical_accuracy: 0.9347\n",
      "Epoch 8/20\n",
      "3000/3000 - 0s - loss: 0.4204 - sparse_categorical_accuracy: 0.9343\n",
      "Epoch 9/20\n",
      "3000/3000 - 0s - loss: 0.4204 - sparse_categorical_accuracy: 0.9350\n",
      "Epoch 10/20\n",
      "3000/3000 - 0s - loss: 0.4203 - sparse_categorical_accuracy: 0.9347\n",
      "Epoch 11/20\n",
      "3000/3000 - 0s - loss: 0.4203 - sparse_categorical_accuracy: 0.9350\n",
      "Epoch 12/20\n",
      "3000/3000 - 0s - loss: 0.4203 - sparse_categorical_accuracy: 0.9350\n",
      "Epoch 13/20\n",
      "3000/3000 - 0s - loss: 0.4203 - sparse_categorical_accuracy: 0.9350\n",
      "Epoch 14/20\n",
      "3000/3000 - 0s - loss: 0.4203 - sparse_categorical_accuracy: 0.9347\n",
      "Epoch 15/20\n",
      "3000/3000 - 0s - loss: 0.4203 - sparse_categorical_accuracy: 0.9347\n",
      "Epoch 16/20\n",
      "3000/3000 - 0s - loss: 0.4203 - sparse_categorical_accuracy: 0.9353\n",
      "Epoch 17/20\n",
      "3000/3000 - 0s - loss: 0.4203 - sparse_categorical_accuracy: 0.9353\n",
      "Epoch 18/20\n",
      "3000/3000 - 0s - loss: 0.4203 - sparse_categorical_accuracy: 0.9353\n",
      "Epoch 19/20\n",
      "3000/3000 - 0s - loss: 0.4203 - sparse_categorical_accuracy: 0.9353\n",
      "Epoch 20/20\n",
      "3000/3000 - 0s - loss: 0.4203 - sparse_categorical_accuracy: 0.9353\n"
     ]
    },
    {
     "data": {
      "text/plain": [
       "<tensorflow.python.keras.callbacks.History at 0x7fe2c7073780>"
      ]
     },
     "execution_count": 7,
     "metadata": {},
     "output_type": "execute_result"
    }
   ],
   "source": [
    "model.fit(X, y, epochs=20, verbose=2)"
   ]
  },
  {
   "cell_type": "code",
   "execution_count": 16,
   "metadata": {},
   "outputs": [
    {
     "name": "stderr",
     "output_type": "stream",
     "text": [
      "100%|██████████| 20/20 [00:02<00:00,  7.58it/s]\n"
     ]
    }
   ],
   "source": [
    "primal_explainer = MarginalExplainer(model, X[20:], nsamples=800, representation='mobius')\n",
    "primal_effects = primal_explainer.explain(X[:20], verbose=True, index_outputs=True, labels=y[:20].astype(int))"
   ]
  },
  {
   "cell_type": "code",
   "execution_count": 17,
   "metadata": {},
   "outputs": [
    {
     "name": "stderr",
     "output_type": "stream",
     "text": [
      "100%|██████████| 20/20 [00:02<00:00,  8.71it/s]\n"
     ]
    }
   ],
   "source": [
    "dual_explainer = MarginalExplainer(model, X[20:], nsamples=800, representation='comobius')\n",
    "dual_effects = dual_explainer.explain(X[:20], verbose=True, index_outputs=True, labels=y[:20].astype(int))"
   ]
  },
  {
   "cell_type": "code",
   "execution_count": 18,
   "metadata": {},
   "outputs": [
    {
     "name": "stderr",
     "output_type": "stream",
     "text": [
      "100%|██████████| 20/20 [00:04<00:00,  4.70it/s]\n"
     ]
    }
   ],
   "source": [
    "average_explainer = MarginalExplainer(model, X[20:], nsamples=800, representation='average')\n",
    "average_effects = average_explainer.explain(X[:20], verbose=True, index_outputs=True, labels=y[:20].astype(int))"
   ]
  },
  {
   "cell_type": "code",
   "execution_count": 19,
   "metadata": {},
   "outputs": [
    {
     "data": {
      "application/vnd.jupyter.widget-view+json": {
       "model_id": "31b26e9d86844f6d951d95905612c2a0",
       "version_major": 2,
       "version_minor": 0
      },
      "text/plain": [
       "HBox(children=(IntProgress(value=0, max=20), HTML(value='')))"
      ]
     },
     "metadata": {},
     "output_type": "display_data"
    },
    {
     "name": "stdout",
     "output_type": "stream",
     "text": [
      "\n"
     ]
    }
   ],
   "source": [
    "model_func = lambda x: model(x).numpy()\n",
    "kernel_explainer = shap.SamplingExplainer(model_func, X)\n",
    "kernel_shap = kernel_explainer.shap_values(X[:20])\n",
    "kernel_shap = np.stack(kernel_shap, axis=0)"
   ]
  },
  {
   "cell_type": "code",
   "execution_count": 20,
   "metadata": {},
   "outputs": [],
   "source": [
    "kernel_shap_true_class = kernel_shap[y[:20].astype(int), np.arange(20), :]"
   ]
  },
  {
   "cell_type": "code",
   "execution_count": 50,
   "metadata": {},
   "outputs": [],
   "source": [
    "def unroll(x):\n",
    "    ret = []\n",
    "    for i in range(x.shape[-1]):\n",
    "        ret.append(x[:, i])\n",
    "    return np.concatenate(ret)"
   ]
  },
  {
   "cell_type": "code",
   "execution_count": 55,
   "metadata": {},
   "outputs": [],
   "source": [
    "data_df = pd.DataFrame({\n",
    "    'Sampled Primal Effects':  unroll(primal_effects),\n",
    "    'Sampled Dual Effects':    unroll(dual_effects),\n",
    "    'Sampled Average Effects': unroll(average_effects),\n",
    "    'Kernel SHAP Values':      unroll(kernel_shap_true_class),\n",
    "    'Feature Values':          unroll(X[:20]),\n",
    "    'Feature':                 [int(i / 20) for i in range(20 * d)],\n",
    "    'Label':                   np.tile(y[:20], 3).astype(int)\n",
    "})"
   ]
  },
  {
   "cell_type": "code",
   "execution_count": 56,
   "metadata": {},
   "outputs": [
    {
     "data": {
      "application/vnd.vegalite.v3+json": {
       "$schema": "https://vega.github.io/schema/vega-lite/v3.2.1.json",
       "config": {
        "mark": {
         "tooltip": null
        },
        "view": {
         "height": 300,
         "width": 400
        }
       },
       "datasets": {
        "data-ac6d4c9a56b8cb23f0ca990d0e96683a": [
         {
          "Feature": 0,
          "Feature Values": -0.2653815125030955,
          "Kernel SHAP Values": 0.2492706661905044,
          "Label": 0,
          "Sampled Average Effects": 0.2142358413338661,
          "Sampled Dual Effects": 0.092492094039917,
          "Sampled Primal Effects": 0.20022597908973694
         },
         {
          "Feature": 0,
          "Feature Values": 0.3600059955431941,
          "Kernel SHAP Values": -0.2890870716949903,
          "Label": 0,
          "Sampled Average Effects": -0.39795206308364867,
          "Sampled Dual Effects": -0.38773146629333494,
          "Sampled Primal Effects": -0.39401553630828856
         },
         {
          "Feature": 0,
          "Feature Values": -0.9276964810299612,
          "Kernel SHAP Values": 0.05836985160011088,
          "Label": 1,
          "Sampled Average Effects": 0.05801788926124573,
          "Sampled Dual Effects": 0.05611063480377197,
          "Sampled Primal Effects": 0.060917024612426755
         },
         {
          "Feature": 0,
          "Feature Values": 1.1808180082787716,
          "Kernel SHAP Values": -0.0817170915040482,
          "Label": 1,
          "Sampled Average Effects": -0.07983302593231201,
          "Sampled Dual Effects": -0.07904568195343017,
          "Sampled Primal Effects": -0.07367208480834961
         },
         {
          "Feature": 0,
          "Feature Values": -0.30951764343705385,
          "Kernel SHAP Values": 0.3295181560159237,
          "Label": 0,
          "Sampled Average Effects": 0.19099547892808913,
          "Sampled Dual Effects": 0.2863612377643585,
          "Sampled Primal Effects": 0.2390426927804947
         },
         {
          "Feature": 0,
          "Feature Values": 1.4425227640985097,
          "Kernel SHAP Values": -0.09412049760631856,
          "Label": 1,
          "Sampled Average Effects": -0.09467119336128235,
          "Sampled Dual Effects": -0.09371063709259034,
          "Sampled Primal Effects": -0.09530257225036622
         },
         {
          "Feature": 0,
          "Feature Values": -0.6086536943076729,
          "Kernel SHAP Values": 0.04028155573364506,
          "Label": 1,
          "Sampled Average Effects": 0.03568368911743164,
          "Sampled Dual Effects": 0.034696769714355466,
          "Sampled Primal Effects": 0.0357369065284729
         },
         {
          "Feature": 0,
          "Feature Values": 0.9270939080222514,
          "Kernel SHAP Values": -0.918022418720502,
          "Label": 0,
          "Sampled Average Effects": -0.9571768069267272,
          "Sampled Dual Effects": -0.9889345741271973,
          "Sampled Primal Effects": -0.9068661975860596
         },
         {
          "Feature": 0,
          "Feature Values": -1.8457065763671263,
          "Kernel SHAP Values": 1.8404235091127692,
          "Label": 0,
          "Sampled Average Effects": 1.756456298828125,
          "Sampled Dual Effects": 1.768854340314865,
          "Sampled Primal Effects": 1.6825952434539795
         },
         {
          "Feature": 0,
          "Feature Values": 0.01797042255384086,
          "Kernel SHAP Values": -0.040282396985323175,
          "Label": 0,
          "Sampled Average Effects": -0.055044088959693906,
          "Sampled Dual Effects": -0.10984996795654296,
          "Sampled Primal Effects": -0.020885772705078125
         },
         {
          "Feature": 0,
          "Feature Values": -0.20898153553538187,
          "Kernel SHAP Values": 0.20283031946930546,
          "Label": 0,
          "Sampled Average Effects": 0.17643317252397536,
          "Sampled Dual Effects": 0.2029756212234497,
          "Sampled Primal Effects": 0.14765564680099488
         },
         {
          "Feature": 0,
          "Feature Values": 0.5106135772492173,
          "Kernel SHAP Values": -0.5530299194545559,
          "Label": 0,
          "Sampled Average Effects": -0.5071695339679718,
          "Sampled Dual Effects": -0.5462553191184998,
          "Sampled Primal Effects": -0.549511992931366
         },
         {
          "Feature": 0,
          "Feature Values": -0.583100343595106,
          "Kernel SHAP Values": 0.6380466613480975,
          "Label": 0,
          "Sampled Average Effects": 0.5489974802732468,
          "Sampled Dual Effects": 0.5077925717830658,
          "Sampled Primal Effects": 0.48032485127449037
         },
         {
          "Feature": 0,
          "Feature Values": -0.10012191907797,
          "Kernel SHAP Values": 0.10482511906015136,
          "Label": 0,
          "Sampled Average Effects": 0.014870171248912812,
          "Sampled Dual Effects": 0.028077759742736817,
          "Sampled Primal Effects": 0.03503549933433533
         },
         {
          "Feature": 0,
          "Feature Values": -0.1872710770968796,
          "Kernel SHAP Values": 0.014004909761234554,
          "Label": 1,
          "Sampled Average Effects": 0.005763695240020752,
          "Sampled Dual Effects": 0.010302803516387939,
          "Sampled Primal Effects": 0.006886272430419922
         },
         {
          "Feature": 0,
          "Feature Values": -1.481345745280796,
          "Kernel SHAP Values": 1.455605875770164,
          "Label": 0,
          "Sampled Average Effects": 1.3971677476167679,
          "Sampled Dual Effects": 1.3715678071975708,
          "Sampled Primal Effects": 1.4112100839614867
         },
         {
          "Feature": 0,
          "Feature Values": -0.9880572795017531,
          "Kernel SHAP Values": 0.9375978404253763,
          "Label": 0,
          "Sampled Average Effects": 0.9427483236789703,
          "Sampled Dual Effects": 0.8901087641716003,
          "Sampled Primal Effects": 0.9343726015090943
         },
         {
          "Feature": 0,
          "Feature Values": 0.6103405025391664,
          "Kernel SHAP Values": -0.04347453725656807,
          "Label": 1,
          "Sampled Average Effects": -0.04034591913223266,
          "Sampled Dual Effects": -0.04065570831298828,
          "Sampled Primal Effects": -0.042193126678466794
         },
         {
          "Feature": 0,
          "Feature Values": -0.021477680021361984,
          "Kernel SHAP Values": 0.14730096815056956,
          "Label": 0,
          "Sampled Average Effects": 0.002547377347946167,
          "Sampled Dual Effects": 0.025621247291564942,
          "Sampled Primal Effects": 0.028484631776809693
         },
         {
          "Feature": 0,
          "Feature Values": 1.5214889382060304,
          "Kernel SHAP Values": -1.5315427483933943,
          "Label": 0,
          "Sampled Average Effects": -1.4869521284103393,
          "Sampled Dual Effects": -1.52455242395401,
          "Sampled Primal Effects": -1.5276496505737305
         },
         {
          "Feature": 1,
          "Feature Values": -1.630817133674897,
          "Kernel SHAP Values": 1.646103831601296,
          "Label": 0,
          "Sampled Average Effects": 1.724806946516037,
          "Sampled Dual Effects": 1.7028287553787231,
          "Sampled Primal Effects": 1.658829517364502
         },
         {
          "Feature": 1,
          "Feature Values": -1.0384933585192697,
          "Kernel SHAP Values": 0.9380891398821279,
          "Label": 0,
          "Sampled Average Effects": 1.1246387069299817,
          "Sampled Dual Effects": 1.1448116994649171,
          "Sampled Primal Effects": 1.0452126312255858
         },
         {
          "Feature": 1,
          "Feature Values": 0.7220147984441424,
          "Kernel SHAP Values": -0.09438624563312642,
          "Label": 1,
          "Sampled Average Effects": -0.09116840839385987,
          "Sampled Dual Effects": -0.09874194145202636,
          "Sampled Primal Effects": -0.09345462322235107
         },
         {
          "Feature": 1,
          "Feature Values": -0.3597089149414722,
          "Kernel SHAP Values": 0.05453195577946128,
          "Label": 1,
          "Sampled Average Effects": 0.046763899326324465,
          "Sampled Dual Effects": 0.04602485179901123,
          "Sampled Primal Effects": 0.05228222608566284
         },
         {
          "Feature": 1,
          "Feature Values": 0.19016784922225569,
          "Kernel SHAP Values": -0.15084653410787985,
          "Label": 0,
          "Sampled Average Effects": -0.14834145568311213,
          "Sampled Dual Effects": -0.2565791662037373,
          "Sampled Primal Effects": -0.16261125087738038
         },
         {
          "Feature": 1,
          "Feature Values": 0.33809968059273937,
          "Kernel SHAP Values": -0.0370913287004123,
          "Label": 1,
          "Sampled Average Effects": -0.04649096250534058,
          "Sampled Dual Effects": -0.04342306613922119,
          "Sampled Primal Effects": -0.043569540977478026
         },
         {
          "Feature": 1,
          "Feature Values": -0.02509532106053015,
          "Kernel SHAP Values": 0.000503652351192008,
          "Label": 1,
          "Sampled Average Effects": 0.007334117889404297,
          "Sampled Dual Effects": 0.006501688957214356,
          "Sampled Primal Effects": -0.004310231208801269
         },
         {
          "Feature": 1,
          "Feature Values": -2.353094056629855,
          "Kernel SHAP Values": 2.36106954440986,
          "Label": 0,
          "Sampled Average Effects": 2.428092339038849,
          "Sampled Dual Effects": 2.4408351612091064,
          "Sampled Primal Effects": 2.3864971351623536
         },
         {
          "Feature": 1,
          "Feature Values": -0.829465579660459,
          "Kernel SHAP Values": 0.8074769958233708,
          "Label": 0,
          "Sampled Average Effects": 0.8363689589500427,
          "Sampled Dual Effects": 0.9270338392257691,
          "Sampled Primal Effects": 0.880237159729004
         },
         {
          "Feature": 1,
          "Feature Values": -2.743322591527212,
          "Kernel SHAP Values": 2.772231287100384,
          "Label": 0,
          "Sampled Average Effects": 2.848740563392639,
          "Sampled Dual Effects": 2.803687973022461,
          "Sampled Primal Effects": 2.9006701469421388
         },
         {
          "Feature": 1,
          "Feature Values": -0.6243506165817225,
          "Kernel SHAP Values": 0.6714100183458535,
          "Label": 0,
          "Sampled Average Effects": 0.6413021156750619,
          "Sampled Dual Effects": 0.6395650565624237,
          "Sampled Primal Effects": 0.6943286108970642
         },
         {
          "Feature": 1,
          "Feature Values": -2.7119509335289855,
          "Kernel SHAP Values": 2.685664551162872,
          "Label": 0,
          "Sampled Average Effects": 2.815439749956131,
          "Sampled Dual Effects": 2.86695850610733,
          "Sampled Primal Effects": 2.7589858245849608
         },
         {
          "Feature": 1,
          "Feature Values": -0.12596167211789996,
          "Kernel SHAP Values": 0.09941106962893655,
          "Label": 0,
          "Sampled Average Effects": 0.13332650750875474,
          "Sampled Dual Effects": 0.163139146566391,
          "Sampled Primal Effects": 0.136512690782547
         },
         {
          "Feature": 1,
          "Feature Values": -1.012231231236116,
          "Kernel SHAP Values": 1.0772149263456718,
          "Label": 0,
          "Sampled Average Effects": 1.0437419571727515,
          "Sampled Dual Effects": 1.0530213735252618,
          "Sampled Primal Effects": 1.0952911853790284
         },
         {
          "Feature": 1,
          "Feature Values": -0.26799224650999603,
          "Kernel SHAP Values": 0.04088709999332737,
          "Label": 1,
          "Sampled Average Effects": 0.04503175616264343,
          "Sampled Dual Effects": 0.039850237369537356,
          "Sampled Primal Effects": 0.03715861320495605
         },
         {
          "Feature": 1,
          "Feature Values": -0.9354910112819255,
          "Kernel SHAP Values": 0.9888366299963204,
          "Label": 0,
          "Sampled Average Effects": 1.0191871452331542,
          "Sampled Dual Effects": 0.989304940700531,
          "Sampled Primal Effects": 0.984420166015625
         },
         {
          "Feature": 1,
          "Feature Values": -0.17596284138216506,
          "Kernel SHAP Values": 0.12914909529648327,
          "Label": 0,
          "Sampled Average Effects": 0.1976771506667137,
          "Sampled Dual Effects": 0.22466641068458557,
          "Sampled Primal Effects": 0.20985828816890717
         },
         {
          "Feature": 1,
          "Feature Values": 0.617111070982292,
          "Kernel SHAP Values": -0.08298454028519847,
          "Label": 1,
          "Sampled Average Effects": -0.07940202713012695,
          "Sampled Dual Effects": -0.07816184520721435,
          "Sampled Primal Effects": -0.08023277759552001
         },
         {
          "Feature": 1,
          "Feature Values": -1.1539501735934206,
          "Kernel SHAP Values": 1.168469259414227,
          "Label": 0,
          "Sampled Average Effects": 1.1883282123878598,
          "Sampled Dual Effects": 1.295070280432701,
          "Sampled Primal Effects": 1.2299738454818725
         },
         {
          "Feature": 1,
          "Feature Values": -0.364208577234516,
          "Kernel SHAP Values": 0.37812687806388445,
          "Label": 0,
          "Sampled Average Effects": 0.4257029214501381,
          "Sampled Dual Effects": 0.44992880582809447,
          "Sampled Primal Effects": 0.3918657374382019
         },
         {
          "Feature": 2,
          "Feature Values": -0.816261595659382,
          "Kernel SHAP Values": 0.7379785996744622,
          "Label": 0,
          "Sampled Average Effects": 0.7586836421489715,
          "Sampled Dual Effects": 0.7455168151855469,
          "Sampled Primal Effects": 0.7633859825134277
         },
         {
          "Feature": 2,
          "Feature Values": -1.0131900985595343,
          "Kernel SHAP Values": 0.937112052918928,
          "Label": 0,
          "Sampled Average Effects": 0.8671369908750057,
          "Sampled Dual Effects": 0.9366177552938462,
          "Sampled Primal Effects": 0.9391126346588134
         },
         {
          "Feature": 2,
          "Feature Values": 0.4929530248224374,
          "Kernel SHAP Values": -0.0801790109293655,
          "Label": 1,
          "Sampled Average Effects": -0.06419873952865601,
          "Sampled Dual Effects": -0.07326309680938721,
          "Sampled Primal Effects": -0.0738484001159668
         },
         {
          "Feature": 2,
          "Feature Values": 0.25090723623384154,
          "Kernel SHAP Values": -0.044383904567626004,
          "Label": 1,
          "Sampled Average Effects": -0.03599759817123413,
          "Sampled Dual Effects": -0.042223668098449706,
          "Sampled Primal Effects": -0.029369244575500487
         },
         {
          "Feature": 2,
          "Feature Values": -0.14683695251812043,
          "Kernel SHAP Values": 0.019225032260426326,
          "Label": 0,
          "Sampled Average Effects": 0.1759890604019165,
          "Sampled Dual Effects": 0.21306289672851564,
          "Sampled Primal Effects": 0.1283538344502449
         },
         {
          "Feature": 2,
          "Feature Values": -0.05759554040999869,
          "Kernel SHAP Values": -0.001853230653765586,
          "Label": 1,
          "Sampled Average Effects": 0.01001481056213379,
          "Sampled Dual Effects": 0.014618492126464844,
          "Sampled Primal Effects": 0.00811595916748047
         },
         {
          "Feature": 2,
          "Feature Values": 1.1976354201217205,
          "Kernel SHAP Values": -0.1865719201535592,
          "Label": 1,
          "Sampled Average Effects": -0.18663659572601318,
          "Sampled Dual Effects": -0.17730327129364012,
          "Sampled Primal Effects": -0.18357940196990966
         },
         {
          "Feature": 2,
          "Feature Values": -0.7218348412636175,
          "Kernel SHAP Values": 0.6875758878133595,
          "Label": 0,
          "Sampled Average Effects": 0.7088292586803436,
          "Sampled Dual Effects": 0.659575572013855,
          "Sampled Primal Effects": 0.6535127258300781
         },
         {
          "Feature": 2,
          "Feature Values": -0.08219004295653079,
          "Kernel SHAP Values": 0.04638747098471121,
          "Label": 0,
          "Sampled Average Effects": 0.09287235379219055,
          "Sampled Dual Effects": 0.022553443908691406,
          "Sampled Primal Effects": 0.07671136021614075
         },
         {
          "Feature": 2,
          "Feature Values": 1.1885995149418345,
          "Kernel SHAP Values": -1.0140284015404601,
          "Label": 0,
          "Sampled Average Effects": -1.070255868434906,
          "Sampled Dual Effects": -1.0814654731750488,
          "Sampled Primal Effects": -1.0373832702636718
         },
         {
          "Feature": 2,
          "Feature Values": -0.3945719931853527,
          "Kernel SHAP Values": 0.28799914364175233,
          "Label": 0,
          "Sampled Average Effects": 0.3616116952896118,
          "Sampled Dual Effects": 0.38540412902832033,
          "Sampled Primal Effects": 0.35771417260169985
         },
         {
          "Feature": 2,
          "Feature Values": 1.0144376509203683,
          "Kernel SHAP Values": -0.7729999253715429,
          "Label": 0,
          "Sampled Average Effects": -0.8922982704639435,
          "Sampled Dual Effects": -0.8603263640403748,
          "Sampled Primal Effects": -0.8914590215682984
         },
         {
          "Feature": 2,
          "Feature Values": 0.547167054888064,
          "Kernel SHAP Values": -0.5646762993755332,
          "Label": 0,
          "Sampled Average Effects": -0.47240811713039876,
          "Sampled Dual Effects": -0.48536060720682145,
          "Sampled Primal Effects": -0.48771663904190066
         },
         {
          "Feature": 2,
          "Feature Values": -0.7022571679493217,
          "Kernel SHAP Values": 0.5490639712032588,
          "Label": 0,
          "Sampled Average Effects": 0.6232710719108582,
          "Sampled Dual Effects": 0.6354620862007141,
          "Sampled Primal Effects": 0.5590694153308868
         },
         {
          "Feature": 2,
          "Feature Values": 1.1238336306901893,
          "Kernel SHAP Values": -0.1843616539513724,
          "Label": 1,
          "Sampled Average Effects": -0.16910594582557678,
          "Sampled Dual Effects": -0.16403080701828002,
          "Sampled Primal Effects": -0.17086496353149414
         },
         {
          "Feature": 2,
          "Feature Values": 0.08030798365675891,
          "Kernel SHAP Values": -0.14144021509207697,
          "Label": 0,
          "Sampled Average Effects": -0.03524737313389778,
          "Sampled Dual Effects": 0.03407012939453125,
          "Sampled Primal Effects": -0.06879884243011475
         },
         {
          "Feature": 2,
          "Feature Values": 0.9882894748429558,
          "Kernel SHAP Values": -0.8401838236536356,
          "Label": 0,
          "Sampled Average Effects": -0.8861584138870239,
          "Sampled Dual Effects": -0.8523024654388428,
          "Sampled Primal Effects": -0.8185565233230591
         },
         {
          "Feature": 2,
          "Feature Values": -0.4162925062017792,
          "Kernel SHAP Values": 0.06458521506719872,
          "Label": 1,
          "Sampled Average Effects": 0.06529597997665405,
          "Sampled Dual Effects": 0.05825973033905029,
          "Sampled Primal Effects": 0.06304236888885498
         },
         {
          "Feature": 2,
          "Feature Values": -0.3399716282697801,
          "Kernel SHAP Values": 0.16182119474476667,
          "Label": 0,
          "Sampled Average Effects": 0.3291205823421478,
          "Sampled Dual Effects": 0.3199744200706482,
          "Sampled Primal Effects": 0.3287886881828308
         },
         {
          "Feature": 2,
          "Feature Values": -1.1697784524046735,
          "Kernel SHAP Values": 1.0479755583260602,
          "Label": 0,
          "Sampled Average Effects": 1.014496682882309,
          "Sampled Dual Effects": 1.011147801876068,
          "Sampled Primal Effects": 1.0499490737915038
         }
        ]
       },
       "repeat": {
        "column": [
         "Sampled Primal Effects",
         "Sampled Dual Effects",
         "Sampled Average Effects"
        ]
       },
       "spec": {
        "data": {
         "name": "data-ac6d4c9a56b8cb23f0ca990d0e96683a"
        },
        "encoding": {
         "x": {
          "field": "Kernel SHAP Values",
          "type": "quantitative"
         },
         "y": {
          "field": {
           "repeat": "column"
          },
          "type": "quantitative"
         }
        },
        "height": 300,
        "mark": {
         "filled": true,
         "type": "point"
        },
        "width": 300
       }
      },
      "image/png": "[encoded data removed]",
      "text/plain": [
       "<VegaLite 3 object>\n",
       "\n",
       "If you see this message, it means the renderer has not been properly enabled\n",
       "for the frontend that you are using. For more information, see\n",
       "https://altair-viz.github.io/user_guide/troubleshooting.html\n"
      ]
     },
     "execution_count": 56,
     "metadata": {},
     "output_type": "execute_result"
    }
   ],
   "source": [
    "alt.Chart(data_df).mark_point(filled=True).encode(\n",
    "    alt.X('Kernel SHAP Values:Q'),\n",
    "    alt.Y(alt.repeat(\"column\"), type='quantitative')\n",
    ").properties(width=300, height=300).repeat(column=['Sampled Primal Effects', 'Sampled Dual Effects', 'Sampled Average Effects'])"
   ]
  },
  {
   "cell_type": "code",
   "execution_count": 64,
   "metadata": {},
   "outputs": [],
   "source": [
    "melted_df = pd.melt(data_df, id_vars=['Feature Values', 'Feature', 'Label'], var_name='Effect Type', value_name='Effect Value')"
   ]
  },
  {
   "cell_type": "code",
   "execution_count": 68,
   "metadata": {},
   "outputs": [
    {
     "data": {
      "application/vnd.vegalite.v3+json": {
       "$schema": "https://vega.github.io/schema/vega-lite/v3.2.1.json",
       "config": {
        "mark": {
         "tooltip": null
        },
        "view": {
         "height": 300,
         "width": 400
        }
       },
       "data": {
        "name": "data-94a93aa7a752edd77d54974a9342b7ba"
       },
       "datasets": {
        "data-94a93aa7a752edd77d54974a9342b7ba": [
         {
          "Effect Type": "Sampled Primal Effects",
          "Effect Value": 0.20022597908973694,
          "Feature": 0,
          "Feature Values": -0.2653815125030955,
          "Label": 0
         },
         {
          "Effect Type": "Sampled Primal Effects",
          "Effect Value": -0.39401553630828856,
          "Feature": 0,
          "Feature Values": 0.3600059955431941,
          "Label": 0
         },
         {
          "Effect Type": "Sampled Primal Effects",
          "Effect Value": 0.060917024612426755,
          "Feature": 0,
          "Feature Values": -0.9276964810299612,
          "Label": 1
         },
         {
          "Effect Type": "Sampled Primal Effects",
          "Effect Value": -0.07367208480834961,
          "Feature": 0,
          "Feature Values": 1.1808180082787716,
          "Label": 1
         },
         {
          "Effect Type": "Sampled Primal Effects",
          "Effect Value": 0.2390426927804947,
          "Feature": 0,
          "Feature Values": -0.30951764343705385,
          "Label": 0
         },
         {
          "Effect Type": "Sampled Primal Effects",
          "Effect Value": -0.09530257225036622,
          "Feature": 0,
          "Feature Values": 1.4425227640985097,
          "Label": 1
         },
         {
          "Effect Type": "Sampled Primal Effects",
          "Effect Value": 0.0357369065284729,
          "Feature": 0,
          "Feature Values": -0.6086536943076729,
          "Label": 1
         },
         {
          "Effect Type": "Sampled Primal Effects",
          "Effect Value": -0.9068661975860596,
          "Feature": 0,
          "Feature Values": 0.9270939080222514,
          "Label": 0
         },
         {
          "Effect Type": "Sampled Primal Effects",
          "Effect Value": 1.6825952434539795,
          "Feature": 0,
          "Feature Values": -1.8457065763671263,
          "Label": 0
         },
         {
          "Effect Type": "Sampled Primal Effects",
          "Effect Value": -0.020885772705078125,
          "Feature": 0,
          "Feature Values": 0.01797042255384086,
          "Label": 0
         },
         {
          "Effect Type": "Sampled Primal Effects",
          "Effect Value": 0.14765564680099488,
          "Feature": 0,
          "Feature Values": -0.20898153553538187,
          "Label": 0
         },
         {
          "Effect Type": "Sampled Primal Effects",
          "Effect Value": -0.549511992931366,
          "Feature": 0,
          "Feature Values": 0.5106135772492173,
          "Label": 0
         },
         {
          "Effect Type": "Sampled Primal Effects",
          "Effect Value": 0.48032485127449037,
          "Feature": 0,
          "Feature Values": -0.583100343595106,
          "Label": 0
         },
         {
          "Effect Type": "Sampled Primal Effects",
          "Effect Value": 0.03503549933433533,
          "Feature": 0,
          "Feature Values": -0.10012191907797,
          "Label": 0
         },
         {
          "Effect Type": "Sampled Primal Effects",
          "Effect Value": 0.006886272430419922,
          "Feature": 0,
          "Feature Values": -0.1872710770968796,
          "Label": 1
         },
         {
          "Effect Type": "Sampled Primal Effects",
          "Effect Value": 1.4112100839614867,
          "Feature": 0,
          "Feature Values": -1.481345745280796,
          "Label": 0
         },
         {
          "Effect Type": "Sampled Primal Effects",
          "Effect Value": 0.9343726015090943,
          "Feature": 0,
          "Feature Values": -0.9880572795017531,
          "Label": 0
         },
         {
          "Effect Type": "Sampled Primal Effects",
          "Effect Value": -0.042193126678466794,
          "Feature": 0,
          "Feature Values": 0.6103405025391664,
          "Label": 1
         },
         {
          "Effect Type": "Sampled Primal Effects",
          "Effect Value": 0.028484631776809693,
          "Feature": 0,
          "Feature Values": -0.021477680021361984,
          "Label": 0
         },
         {
          "Effect Type": "Sampled Primal Effects",
          "Effect Value": -1.5276496505737305,
          "Feature": 0,
          "Feature Values": 1.5214889382060304,
          "Label": 0
         },
         {
          "Effect Type": "Sampled Primal Effects",
          "Effect Value": 1.658829517364502,
          "Feature": 1,
          "Feature Values": -1.630817133674897,
          "Label": 0
         },
         {
          "Effect Type": "Sampled Primal Effects",
          "Effect Value": 1.0452126312255858,
          "Feature": 1,
          "Feature Values": -1.0384933585192697,
          "Label": 0
         },
         {
          "Effect Type": "Sampled Primal Effects",
          "Effect Value": -0.09345462322235107,
          "Feature": 1,
          "Feature Values": 0.7220147984441424,
          "Label": 1
         },
         {
          "Effect Type": "Sampled Primal Effects",
          "Effect Value": 0.05228222608566284,
          "Feature": 1,
          "Feature Values": -0.3597089149414722,
          "Label": 1
         },
         {
          "Effect Type": "Sampled Primal Effects",
          "Effect Value": -0.16261125087738038,
          "Feature": 1,
          "Feature Values": 0.19016784922225569,
          "Label": 0
         },
         {
          "Effect Type": "Sampled Primal Effects",
          "Effect Value": -0.043569540977478026,
          "Feature": 1,
          "Feature Values": 0.33809968059273937,
          "Label": 1
         },
         {
          "Effect Type": "Sampled Primal Effects",
          "Effect Value": -0.004310231208801269,
          "Feature": 1,
          "Feature Values": -0.02509532106053015,
          "Label": 1
         },
         {
          "Effect Type": "Sampled Primal Effects",
          "Effect Value": 2.3864971351623536,
          "Feature": 1,
          "Feature Values": -2.353094056629855,
          "Label": 0
         },
         {
          "Effect Type": "Sampled Primal Effects",
          "Effect Value": 0.880237159729004,
          "Feature": 1,
          "Feature Values": -0.829465579660459,
          "Label": 0
         },
         {
          "Effect Type": "Sampled Primal Effects",
          "Effect Value": 2.9006701469421388,
          "Feature": 1,
          "Feature Values": -2.743322591527212,
          "Label": 0
         },
         {
          "Effect Type": "Sampled Primal Effects",
          "Effect Value": 0.6943286108970642,
          "Feature": 1,
          "Feature Values": -0.6243506165817225,
          "Label": 0
         },
         {
          "Effect Type": "Sampled Primal Effects",
          "Effect Value": 2.7589858245849608,
          "Feature": 1,
          "Feature Values": -2.7119509335289855,
          "Label": 0
         },
         {
          "Effect Type": "Sampled Primal Effects",
          "Effect Value": 0.136512690782547,
          "Feature": 1,
          "Feature Values": -0.12596167211789996,
          "Label": 0
         },
         {
          "Effect Type": "Sampled Primal Effects",
          "Effect Value": 1.0952911853790284,
          "Feature": 1,
          "Feature Values": -1.012231231236116,
          "Label": 0
         },
         {
          "Effect Type": "Sampled Primal Effects",
          "Effect Value": 0.03715861320495605,
          "Feature": 1,
          "Feature Values": -0.26799224650999603,
          "Label": 1
         },
         {
          "Effect Type": "Sampled Primal Effects",
          "Effect Value": 0.984420166015625,
          "Feature": 1,
          "Feature Values": -0.9354910112819255,
          "Label": 0
         },
         {
          "Effect Type": "Sampled Primal Effects",
          "Effect Value": 0.20985828816890717,
          "Feature": 1,
          "Feature Values": -0.17596284138216506,
          "Label": 0
         },
         {
          "Effect Type": "Sampled Primal Effects",
          "Effect Value": -0.08023277759552001,
          "Feature": 1,
          "Feature Values": 0.617111070982292,
          "Label": 1
         },
         {
          "Effect Type": "Sampled Primal Effects",
          "Effect Value": 1.2299738454818725,
          "Feature": 1,
          "Feature Values": -1.1539501735934206,
          "Label": 0
         },
         {
          "Effect Type": "Sampled Primal Effects",
          "Effect Value": 0.3918657374382019,
          "Feature": 1,
          "Feature Values": -0.364208577234516,
          "Label": 0
         },
         {
          "Effect Type": "Sampled Primal Effects",
          "Effect Value": 0.7633859825134277,
          "Feature": 2,
          "Feature Values": -0.816261595659382,
          "Label": 0
         },
         {
          "Effect Type": "Sampled Primal Effects",
          "Effect Value": 0.9391126346588134,
          "Feature": 2,
          "Feature Values": -1.0131900985595343,
          "Label": 0
         },
         {
          "Effect Type": "Sampled Primal Effects",
          "Effect Value": -0.0738484001159668,
          "Feature": 2,
          "Feature Values": 0.4929530248224374,
          "Label": 1
         },
         {
          "Effect Type": "Sampled Primal Effects",
          "Effect Value": -0.029369244575500487,
          "Feature": 2,
          "Feature Values": 0.25090723623384154,
          "Label": 1
         },
         {
          "Effect Type": "Sampled Primal Effects",
          "Effect Value": 0.1283538344502449,
          "Feature": 2,
          "Feature Values": -0.14683695251812043,
          "Label": 0
         },
         {
          "Effect Type": "Sampled Primal Effects",
          "Effect Value": 0.00811595916748047,
          "Feature": 2,
          "Feature Values": -0.05759554040999869,
          "Label": 1
         },
         {
          "Effect Type": "Sampled Primal Effects",
          "Effect Value": -0.18357940196990966,
          "Feature": 2,
          "Feature Values": 1.1976354201217205,
          "Label": 1
         },
         {
          "Effect Type": "Sampled Primal Effects",
          "Effect Value": 0.6535127258300781,
          "Feature": 2,
          "Feature Values": -0.7218348412636175,
          "Label": 0
         },
         {
          "Effect Type": "Sampled Primal Effects",
          "Effect Value": 0.07671136021614075,
          "Feature": 2,
          "Feature Values": -0.08219004295653079,
          "Label": 0
         },
         {
          "Effect Type": "Sampled Primal Effects",
          "Effect Value": -1.0373832702636718,
          "Feature": 2,
          "Feature Values": 1.1885995149418345,
          "Label": 0
         },
         {
          "Effect Type": "Sampled Primal Effects",
          "Effect Value": 0.35771417260169985,
          "Feature": 2,
          "Feature Values": -0.3945719931853527,
          "Label": 0
         },
         {
          "Effect Type": "Sampled Primal Effects",
          "Effect Value": -0.8914590215682984,
          "Feature": 2,
          "Feature Values": 1.0144376509203683,
          "Label": 0
         },
         {
          "Effect Type": "Sampled Primal Effects",
          "Effect Value": -0.48771663904190066,
          "Feature": 2,
          "Feature Values": 0.547167054888064,
          "Label": 0
         },
         {
          "Effect Type": "Sampled Primal Effects",
          "Effect Value": 0.5590694153308868,
          "Feature": 2,
          "Feature Values": -0.7022571679493217,
          "Label": 0
         },
         {
          "Effect Type": "Sampled Primal Effects",
          "Effect Value": -0.17086496353149414,
          "Feature": 2,
          "Feature Values": 1.1238336306901893,
          "Label": 1
         },
         {
          "Effect Type": "Sampled Primal Effects",
          "Effect Value": -0.06879884243011475,
          "Feature": 2,
          "Feature Values": 0.08030798365675891,
          "Label": 0
         },
         {
          "Effect Type": "Sampled Primal Effects",
          "Effect Value": -0.8185565233230591,
          "Feature": 2,
          "Feature Values": 0.9882894748429558,
          "Label": 0
         },
         {
          "Effect Type": "Sampled Primal Effects",
          "Effect Value": 0.06304236888885498,
          "Feature": 2,
          "Feature Values": -0.4162925062017792,
          "Label": 1
         },
         {
          "Effect Type": "Sampled Primal Effects",
          "Effect Value": 0.3287886881828308,
          "Feature": 2,
          "Feature Values": -0.3399716282697801,
          "Label": 0
         },
         {
          "Effect Type": "Sampled Primal Effects",
          "Effect Value": 1.0499490737915038,
          "Feature": 2,
          "Feature Values": -1.1697784524046735,
          "Label": 0
         },
         {
          "Effect Type": "Sampled Dual Effects",
          "Effect Value": 0.092492094039917,
          "Feature": 0,
          "Feature Values": -0.2653815125030955,
          "Label": 0
         },
         {
          "Effect Type": "Sampled Dual Effects",
          "Effect Value": -0.38773146629333494,
          "Feature": 0,
          "Feature Values": 0.3600059955431941,
          "Label": 0
         },
         {
          "Effect Type": "Sampled Dual Effects",
          "Effect Value": 0.05611063480377197,
          "Feature": 0,
          "Feature Values": -0.9276964810299612,
          "Label": 1
         },
         {
          "Effect Type": "Sampled Dual Effects",
          "Effect Value": -0.07904568195343017,
          "Feature": 0,
          "Feature Values": 1.1808180082787716,
          "Label": 1
         },
         {
          "Effect Type": "Sampled Dual Effects",
          "Effect Value": 0.2863612377643585,
          "Feature": 0,
          "Feature Values": -0.30951764343705385,
          "Label": 0
         },
         {
          "Effect Type": "Sampled Dual Effects",
          "Effect Value": -0.09371063709259034,
          "Feature": 0,
          "Feature Values": 1.4425227640985097,
          "Label": 1
         },
         {
          "Effect Type": "Sampled Dual Effects",
          "Effect Value": 0.034696769714355466,
          "Feature": 0,
          "Feature Values": -0.6086536943076729,
          "Label": 1
         },
         {
          "Effect Type": "Sampled Dual Effects",
          "Effect Value": -0.9889345741271973,
          "Feature": 0,
          "Feature Values": 0.9270939080222514,
          "Label": 0
         },
         {
          "Effect Type": "Sampled Dual Effects",
          "Effect Value": 1.768854340314865,
          "Feature": 0,
          "Feature Values": -1.8457065763671263,
          "Label": 0
         },
         {
          "Effect Type": "Sampled Dual Effects",
          "Effect Value": -0.10984996795654296,
          "Feature": 0,
          "Feature Values": 0.01797042255384086,
          "Label": 0
         },
         {
          "Effect Type": "Sampled Dual Effects",
          "Effect Value": 0.2029756212234497,
          "Feature": 0,
          "Feature Values": -0.20898153553538187,
          "Label": 0
         },
         {
          "Effect Type": "Sampled Dual Effects",
          "Effect Value": -0.5462553191184998,
          "Feature": 0,
          "Feature Values": 0.5106135772492173,
          "Label": 0
         },
         {
          "Effect Type": "Sampled Dual Effects",
          "Effect Value": 0.5077925717830658,
          "Feature": 0,
          "Feature Values": -0.583100343595106,
          "Label": 0
         },
         {
          "Effect Type": "Sampled Dual Effects",
          "Effect Value": 0.028077759742736817,
          "Feature": 0,
          "Feature Values": -0.10012191907797,
          "Label": 0
         },
         {
          "Effect Type": "Sampled Dual Effects",
          "Effect Value": 0.010302803516387939,
          "Feature": 0,
          "Feature Values": -0.1872710770968796,
          "Label": 1
         },
         {
          "Effect Type": "Sampled Dual Effects",
          "Effect Value": 1.3715678071975708,
          "Feature": 0,
          "Feature Values": -1.481345745280796,
          "Label": 0
         },
         {
          "Effect Type": "Sampled Dual Effects",
          "Effect Value": 0.8901087641716003,
          "Feature": 0,
          "Feature Values": -0.9880572795017531,
          "Label": 0
         },
         {
          "Effect Type": "Sampled Dual Effects",
          "Effect Value": -0.04065570831298828,
          "Feature": 0,
          "Feature Values": 0.6103405025391664,
          "Label": 1
         },
         {
          "Effect Type": "Sampled Dual Effects",
          "Effect Value": 0.025621247291564942,
          "Feature": 0,
          "Feature Values": -0.021477680021361984,
          "Label": 0
         },
         {
          "Effect Type": "Sampled Dual Effects",
          "Effect Value": -1.52455242395401,
          "Feature": 0,
          "Feature Values": 1.5214889382060304,
          "Label": 0
         },
         {
          "Effect Type": "Sampled Dual Effects",
          "Effect Value": 1.7028287553787231,
          "Feature": 1,
          "Feature Values": -1.630817133674897,
          "Label": 0
         },
         {
          "Effect Type": "Sampled Dual Effects",
          "Effect Value": 1.1448116994649171,
          "Feature": 1,
          "Feature Values": -1.0384933585192697,
          "Label": 0
         },
         {
          "Effect Type": "Sampled Dual Effects",
          "Effect Value": -0.09874194145202636,
          "Feature": 1,
          "Feature Values": 0.7220147984441424,
          "Label": 1
         },
         {
          "Effect Type": "Sampled Dual Effects",
          "Effect Value": 0.04602485179901123,
          "Feature": 1,
          "Feature Values": -0.3597089149414722,
          "Label": 1
         },
         {
          "Effect Type": "Sampled Dual Effects",
          "Effect Value": -0.2565791662037373,
          "Feature": 1,
          "Feature Values": 0.19016784922225569,
          "Label": 0
         },
         {
          "Effect Type": "Sampled Dual Effects",
          "Effect Value": -0.04342306613922119,
          "Feature": 1,
          "Feature Values": 0.33809968059273937,
          "Label": 1
         },
         {
          "Effect Type": "Sampled Dual Effects",
          "Effect Value": 0.006501688957214356,
          "Feature": 1,
          "Feature Values": -0.02509532106053015,
          "Label": 1
         },
         {
          "Effect Type": "Sampled Dual Effects",
          "Effect Value": 2.4408351612091064,
          "Feature": 1,
          "Feature Values": -2.353094056629855,
          "Label": 0
         },
         {
          "Effect Type": "Sampled Dual Effects",
          "Effect Value": 0.9270338392257691,
          "Feature": 1,
          "Feature Values": -0.829465579660459,
          "Label": 0
         },
         {
          "Effect Type": "Sampled Dual Effects",
          "Effect Value": 2.803687973022461,
          "Feature": 1,
          "Feature Values": -2.743322591527212,
          "Label": 0
         },
         {
          "Effect Type": "Sampled Dual Effects",
          "Effect Value": 0.6395650565624237,
          "Feature": 1,
          "Feature Values": -0.6243506165817225,
          "Label": 0
         },
         {
          "Effect Type": "Sampled Dual Effects",
          "Effect Value": 2.86695850610733,
          "Feature": 1,
          "Feature Values": -2.7119509335289855,
          "Label": 0
         },
         {
          "Effect Type": "Sampled Dual Effects",
          "Effect Value": 0.163139146566391,
          "Feature": 1,
          "Feature Values": -0.12596167211789996,
          "Label": 0
         },
         {
          "Effect Type": "Sampled Dual Effects",
          "Effect Value": 1.0530213735252618,
          "Feature": 1,
          "Feature Values": -1.012231231236116,
          "Label": 0
         },
         {
          "Effect Type": "Sampled Dual Effects",
          "Effect Value": 0.039850237369537356,
          "Feature": 1,
          "Feature Values": -0.26799224650999603,
          "Label": 1
         },
         {
          "Effect Type": "Sampled Dual Effects",
          "Effect Value": 0.989304940700531,
          "Feature": 1,
          "Feature Values": -0.9354910112819255,
          "Label": 0
         },
         {
          "Effect Type": "Sampled Dual Effects",
          "Effect Value": 0.22466641068458557,
          "Feature": 1,
          "Feature Values": -0.17596284138216506,
          "Label": 0
         },
         {
          "Effect Type": "Sampled Dual Effects",
          "Effect Value": -0.07816184520721435,
          "Feature": 1,
          "Feature Values": 0.617111070982292,
          "Label": 1
         },
         {
          "Effect Type": "Sampled Dual Effects",
          "Effect Value": 1.295070280432701,
          "Feature": 1,
          "Feature Values": -1.1539501735934206,
          "Label": 0
         },
         {
          "Effect Type": "Sampled Dual Effects",
          "Effect Value": 0.44992880582809447,
          "Feature": 1,
          "Feature Values": -0.364208577234516,
          "Label": 0
         },
         {
          "Effect Type": "Sampled Dual Effects",
          "Effect Value": 0.7455168151855469,
          "Feature": 2,
          "Feature Values": -0.816261595659382,
          "Label": 0
         },
         {
          "Effect Type": "Sampled Dual Effects",
          "Effect Value": 0.9366177552938462,
          "Feature": 2,
          "Feature Values": -1.0131900985595343,
          "Label": 0
         },
         {
          "Effect Type": "Sampled Dual Effects",
          "Effect Value": -0.07326309680938721,
          "Feature": 2,
          "Feature Values": 0.4929530248224374,
          "Label": 1
         },
         {
          "Effect Type": "Sampled Dual Effects",
          "Effect Value": -0.042223668098449706,
          "Feature": 2,
          "Feature Values": 0.25090723623384154,
          "Label": 1
         },
         {
          "Effect Type": "Sampled Dual Effects",
          "Effect Value": 0.21306289672851564,
          "Feature": 2,
          "Feature Values": -0.14683695251812043,
          "Label": 0
         },
         {
          "Effect Type": "Sampled Dual Effects",
          "Effect Value": 0.014618492126464844,
          "Feature": 2,
          "Feature Values": -0.05759554040999869,
          "Label": 1
         },
         {
          "Effect Type": "Sampled Dual Effects",
          "Effect Value": -0.17730327129364012,
          "Feature": 2,
          "Feature Values": 1.1976354201217205,
          "Label": 1
         },
         {
          "Effect Type": "Sampled Dual Effects",
          "Effect Value": 0.659575572013855,
          "Feature": 2,
          "Feature Values": -0.7218348412636175,
          "Label": 0
         },
         {
          "Effect Type": "Sampled Dual Effects",
          "Effect Value": 0.022553443908691406,
          "Feature": 2,
          "Feature Values": -0.08219004295653079,
          "Label": 0
         },
         {
          "Effect Type": "Sampled Dual Effects",
          "Effect Value": -1.0814654731750488,
          "Feature": 2,
          "Feature Values": 1.1885995149418345,
          "Label": 0
         },
         {
          "Effect Type": "Sampled Dual Effects",
          "Effect Value": 0.38540412902832033,
          "Feature": 2,
          "Feature Values": -0.3945719931853527,
          "Label": 0
         },
         {
          "Effect Type": "Sampled Dual Effects",
          "Effect Value": -0.8603263640403748,
          "Feature": 2,
          "Feature Values": 1.0144376509203683,
          "Label": 0
         },
         {
          "Effect Type": "Sampled Dual Effects",
          "Effect Value": -0.48536060720682145,
          "Feature": 2,
          "Feature Values": 0.547167054888064,
          "Label": 0
         },
         {
          "Effect Type": "Sampled Dual Effects",
          "Effect Value": 0.6354620862007141,
          "Feature": 2,
          "Feature Values": -0.7022571679493217,
          "Label": 0
         },
         {
          "Effect Type": "Sampled Dual Effects",
          "Effect Value": -0.16403080701828002,
          "Feature": 2,
          "Feature Values": 1.1238336306901893,
          "Label": 1
         },
         {
          "Effect Type": "Sampled Dual Effects",
          "Effect Value": 0.03407012939453125,
          "Feature": 2,
          "Feature Values": 0.08030798365675891,
          "Label": 0
         },
         {
          "Effect Type": "Sampled Dual Effects",
          "Effect Value": -0.8523024654388428,
          "Feature": 2,
          "Feature Values": 0.9882894748429558,
          "Label": 0
         },
         {
          "Effect Type": "Sampled Dual Effects",
          "Effect Value": 0.05825973033905029,
          "Feature": 2,
          "Feature Values": -0.4162925062017792,
          "Label": 1
         },
         {
          "Effect Type": "Sampled Dual Effects",
          "Effect Value": 0.3199744200706482,
          "Feature": 2,
          "Feature Values": -0.3399716282697801,
          "Label": 0
         },
         {
          "Effect Type": "Sampled Dual Effects",
          "Effect Value": 1.011147801876068,
          "Feature": 2,
          "Feature Values": -1.1697784524046735,
          "Label": 0
         },
         {
          "Effect Type": "Sampled Average Effects",
          "Effect Value": 0.2142358413338661,
          "Feature": 0,
          "Feature Values": -0.2653815125030955,
          "Label": 0
         },
         {
          "Effect Type": "Sampled Average Effects",
          "Effect Value": -0.39795206308364867,
          "Feature": 0,
          "Feature Values": 0.3600059955431941,
          "Label": 0
         },
         {
          "Effect Type": "Sampled Average Effects",
          "Effect Value": 0.05801788926124573,
          "Feature": 0,
          "Feature Values": -0.9276964810299612,
          "Label": 1
         },
         {
          "Effect Type": "Sampled Average Effects",
          "Effect Value": -0.07983302593231201,
          "Feature": 0,
          "Feature Values": 1.1808180082787716,
          "Label": 1
         },
         {
          "Effect Type": "Sampled Average Effects",
          "Effect Value": 0.19099547892808913,
          "Feature": 0,
          "Feature Values": -0.30951764343705385,
          "Label": 0
         },
         {
          "Effect Type": "Sampled Average Effects",
          "Effect Value": -0.09467119336128235,
          "Feature": 0,
          "Feature Values": 1.4425227640985097,
          "Label": 1
         },
         {
          "Effect Type": "Sampled Average Effects",
          "Effect Value": 0.03568368911743164,
          "Feature": 0,
          "Feature Values": -0.6086536943076729,
          "Label": 1
         },
         {
          "Effect Type": "Sampled Average Effects",
          "Effect Value": -0.9571768069267272,
          "Feature": 0,
          "Feature Values": 0.9270939080222514,
          "Label": 0
         },
         {
          "Effect Type": "Sampled Average Effects",
          "Effect Value": 1.756456298828125,
          "Feature": 0,
          "Feature Values": -1.8457065763671263,
          "Label": 0
         },
         {
          "Effect Type": "Sampled Average Effects",
          "Effect Value": -0.055044088959693906,
          "Feature": 0,
          "Feature Values": 0.01797042255384086,
          "Label": 0
         },
         {
          "Effect Type": "Sampled Average Effects",
          "Effect Value": 0.17643317252397536,
          "Feature": 0,
          "Feature Values": -0.20898153553538187,
          "Label": 0
         },
         {
          "Effect Type": "Sampled Average Effects",
          "Effect Value": -0.5071695339679718,
          "Feature": 0,
          "Feature Values": 0.5106135772492173,
          "Label": 0
         },
         {
          "Effect Type": "Sampled Average Effects",
          "Effect Value": 0.5489974802732468,
          "Feature": 0,
          "Feature Values": -0.583100343595106,
          "Label": 0
         },
         {
          "Effect Type": "Sampled Average Effects",
          "Effect Value": 0.014870171248912812,
          "Feature": 0,
          "Feature Values": -0.10012191907797,
          "Label": 0
         },
         {
          "Effect Type": "Sampled Average Effects",
          "Effect Value": 0.005763695240020752,
          "Feature": 0,
          "Feature Values": -0.1872710770968796,
          "Label": 1
         },
         {
          "Effect Type": "Sampled Average Effects",
          "Effect Value": 1.3971677476167679,
          "Feature": 0,
          "Feature Values": -1.481345745280796,
          "Label": 0
         },
         {
          "Effect Type": "Sampled Average Effects",
          "Effect Value": 0.9427483236789703,
          "Feature": 0,
          "Feature Values": -0.9880572795017531,
          "Label": 0
         },
         {
          "Effect Type": "Sampled Average Effects",
          "Effect Value": -0.04034591913223266,
          "Feature": 0,
          "Feature Values": 0.6103405025391664,
          "Label": 1
         },
         {
          "Effect Type": "Sampled Average Effects",
          "Effect Value": 0.002547377347946167,
          "Feature": 0,
          "Feature Values": -0.021477680021361984,
          "Label": 0
         },
         {
          "Effect Type": "Sampled Average Effects",
          "Effect Value": -1.4869521284103393,
          "Feature": 0,
          "Feature Values": 1.5214889382060304,
          "Label": 0
         },
         {
          "Effect Type": "Sampled Average Effects",
          "Effect Value": 1.724806946516037,
          "Feature": 1,
          "Feature Values": -1.630817133674897,
          "Label": 0
         },
         {
          "Effect Type": "Sampled Average Effects",
          "Effect Value": 1.1246387069299817,
          "Feature": 1,
          "Feature Values": -1.0384933585192697,
          "Label": 0
         },
         {
          "Effect Type": "Sampled Average Effects",
          "Effect Value": -0.09116840839385987,
          "Feature": 1,
          "Feature Values": 0.7220147984441424,
          "Label": 1
         },
         {
          "Effect Type": "Sampled Average Effects",
          "Effect Value": 0.046763899326324465,
          "Feature": 1,
          "Feature Values": -0.3597089149414722,
          "Label": 1
         },
         {
          "Effect Type": "Sampled Average Effects",
          "Effect Value": -0.14834145568311213,
          "Feature": 1,
          "Feature Values": 0.19016784922225569,
          "Label": 0
         },
         {
          "Effect Type": "Sampled Average Effects",
          "Effect Value": -0.04649096250534058,
          "Feature": 1,
          "Feature Values": 0.33809968059273937,
          "Label": 1
         },
         {
          "Effect Type": "Sampled Average Effects",
          "Effect Value": 0.007334117889404297,
          "Feature": 1,
          "Feature Values": -0.02509532106053015,
          "Label": 1
         },
         {
          "Effect Type": "Sampled Average Effects",
          "Effect Value": 2.428092339038849,
          "Feature": 1,
          "Feature Values": -2.353094056629855,
          "Label": 0
         },
         {
          "Effect Type": "Sampled Average Effects",
          "Effect Value": 0.8363689589500427,
          "Feature": 1,
          "Feature Values": -0.829465579660459,
          "Label": 0
         },
         {
          "Effect Type": "Sampled Average Effects",
          "Effect Value": 2.848740563392639,
          "Feature": 1,
          "Feature Values": -2.743322591527212,
          "Label": 0
         },
         {
          "Effect Type": "Sampled Average Effects",
          "Effect Value": 0.6413021156750619,
          "Feature": 1,
          "Feature Values": -0.6243506165817225,
          "Label": 0
         },
         {
          "Effect Type": "Sampled Average Effects",
          "Effect Value": 2.815439749956131,
          "Feature": 1,
          "Feature Values": -2.7119509335289855,
          "Label": 0
         },
         {
          "Effect Type": "Sampled Average Effects",
          "Effect Value": 0.13332650750875474,
          "Feature": 1,
          "Feature Values": -0.12596167211789996,
          "Label": 0
         },
         {
          "Effect Type": "Sampled Average Effects",
          "Effect Value": 1.0437419571727515,
          "Feature": 1,
          "Feature Values": -1.012231231236116,
          "Label": 0
         },
         {
          "Effect Type": "Sampled Average Effects",
          "Effect Value": 0.04503175616264343,
          "Feature": 1,
          "Feature Values": -0.26799224650999603,
          "Label": 1
         },
         {
          "Effect Type": "Sampled Average Effects",
          "Effect Value": 1.0191871452331542,
          "Feature": 1,
          "Feature Values": -0.9354910112819255,
          "Label": 0
         },
         {
          "Effect Type": "Sampled Average Effects",
          "Effect Value": 0.1976771506667137,
          "Feature": 1,
          "Feature Values": -0.17596284138216506,
          "Label": 0
         },
         {
          "Effect Type": "Sampled Average Effects",
          "Effect Value": -0.07940202713012695,
          "Feature": 1,
          "Feature Values": 0.617111070982292,
          "Label": 1
         },
         {
          "Effect Type": "Sampled Average Effects",
          "Effect Value": 1.1883282123878598,
          "Feature": 1,
          "Feature Values": -1.1539501735934206,
          "Label": 0
         },
         {
          "Effect Type": "Sampled Average Effects",
          "Effect Value": 0.4257029214501381,
          "Feature": 1,
          "Feature Values": -0.364208577234516,
          "Label": 0
         },
         {
          "Effect Type": "Sampled Average Effects",
          "Effect Value": 0.7586836421489715,
          "Feature": 2,
          "Feature Values": -0.816261595659382,
          "Label": 0
         },
         {
          "Effect Type": "Sampled Average Effects",
          "Effect Value": 0.8671369908750057,
          "Feature": 2,
          "Feature Values": -1.0131900985595343,
          "Label": 0
         },
         {
          "Effect Type": "Sampled Average Effects",
          "Effect Value": -0.06419873952865601,
          "Feature": 2,
          "Feature Values": 0.4929530248224374,
          "Label": 1
         },
         {
          "Effect Type": "Sampled Average Effects",
          "Effect Value": -0.03599759817123413,
          "Feature": 2,
          "Feature Values": 0.25090723623384154,
          "Label": 1
         },
         {
          "Effect Type": "Sampled Average Effects",
          "Effect Value": 0.1759890604019165,
          "Feature": 2,
          "Feature Values": -0.14683695251812043,
          "Label": 0
         },
         {
          "Effect Type": "Sampled Average Effects",
          "Effect Value": 0.01001481056213379,
          "Feature": 2,
          "Feature Values": -0.05759554040999869,
          "Label": 1
         },
         {
          "Effect Type": "Sampled Average Effects",
          "Effect Value": -0.18663659572601318,
          "Feature": 2,
          "Feature Values": 1.1976354201217205,
          "Label": 1
         },
         {
          "Effect Type": "Sampled Average Effects",
          "Effect Value": 0.7088292586803436,
          "Feature": 2,
          "Feature Values": -0.7218348412636175,
          "Label": 0
         },
         {
          "Effect Type": "Sampled Average Effects",
          "Effect Value": 0.09287235379219055,
          "Feature": 2,
          "Feature Values": -0.08219004295653079,
          "Label": 0
         },
         {
          "Effect Type": "Sampled Average Effects",
          "Effect Value": -1.070255868434906,
          "Feature": 2,
          "Feature Values": 1.1885995149418345,
          "Label": 0
         },
         {
          "Effect Type": "Sampled Average Effects",
          "Effect Value": 0.3616116952896118,
          "Feature": 2,
          "Feature Values": -0.3945719931853527,
          "Label": 0
         },
         {
          "Effect Type": "Sampled Average Effects",
          "Effect Value": -0.8922982704639435,
          "Feature": 2,
          "Feature Values": 1.0144376509203683,
          "Label": 0
         },
         {
          "Effect Type": "Sampled Average Effects",
          "Effect Value": -0.47240811713039876,
          "Feature": 2,
          "Feature Values": 0.547167054888064,
          "Label": 0
         },
         {
          "Effect Type": "Sampled Average Effects",
          "Effect Value": 0.6232710719108582,
          "Feature": 2,
          "Feature Values": -0.7022571679493217,
          "Label": 0
         },
         {
          "Effect Type": "Sampled Average Effects",
          "Effect Value": -0.16910594582557678,
          "Feature": 2,
          "Feature Values": 1.1238336306901893,
          "Label": 1
         },
         {
          "Effect Type": "Sampled Average Effects",
          "Effect Value": -0.03524737313389778,
          "Feature": 2,
          "Feature Values": 0.08030798365675891,
          "Label": 0
         },
         {
          "Effect Type": "Sampled Average Effects",
          "Effect Value": -0.8861584138870239,
          "Feature": 2,
          "Feature Values": 0.9882894748429558,
          "Label": 0
         },
         {
          "Effect Type": "Sampled Average Effects",
          "Effect Value": 0.06529597997665405,
          "Feature": 2,
          "Feature Values": -0.4162925062017792,
          "Label": 1
         },
         {
          "Effect Type": "Sampled Average Effects",
          "Effect Value": 0.3291205823421478,
          "Feature": 2,
          "Feature Values": -0.3399716282697801,
          "Label": 0
         },
         {
          "Effect Type": "Sampled Average Effects",
          "Effect Value": 1.014496682882309,
          "Feature": 2,
          "Feature Values": -1.1697784524046735,
          "Label": 0
         },
         {
          "Effect Type": "Kernel SHAP Values",
          "Effect Value": 0.2492706661905044,
          "Feature": 0,
          "Feature Values": -0.2653815125030955,
          "Label": 0
         },
         {
          "Effect Type": "Kernel SHAP Values",
          "Effect Value": -0.2890870716949903,
          "Feature": 0,
          "Feature Values": 0.3600059955431941,
          "Label": 0
         },
         {
          "Effect Type": "Kernel SHAP Values",
          "Effect Value": 0.05836985160011088,
          "Feature": 0,
          "Feature Values": -0.9276964810299612,
          "Label": 1
         },
         {
          "Effect Type": "Kernel SHAP Values",
          "Effect Value": -0.0817170915040482,
          "Feature": 0,
          "Feature Values": 1.1808180082787716,
          "Label": 1
         },
         {
          "Effect Type": "Kernel SHAP Values",
          "Effect Value": 0.3295181560159237,
          "Feature": 0,
          "Feature Values": -0.30951764343705385,
          "Label": 0
         },
         {
          "Effect Type": "Kernel SHAP Values",
          "Effect Value": -0.09412049760631856,
          "Feature": 0,
          "Feature Values": 1.4425227640985097,
          "Label": 1
         },
         {
          "Effect Type": "Kernel SHAP Values",
          "Effect Value": 0.04028155573364506,
          "Feature": 0,
          "Feature Values": -0.6086536943076729,
          "Label": 1
         },
         {
          "Effect Type": "Kernel SHAP Values",
          "Effect Value": -0.918022418720502,
          "Feature": 0,
          "Feature Values": 0.9270939080222514,
          "Label": 0
         },
         {
          "Effect Type": "Kernel SHAP Values",
          "Effect Value": 1.8404235091127692,
          "Feature": 0,
          "Feature Values": -1.8457065763671263,
          "Label": 0
         },
         {
          "Effect Type": "Kernel SHAP Values",
          "Effect Value": -0.040282396985323175,
          "Feature": 0,
          "Feature Values": 0.01797042255384086,
          "Label": 0
         },
         {
          "Effect Type": "Kernel SHAP Values",
          "Effect Value": 0.20283031946930546,
          "Feature": 0,
          "Feature Values": -0.20898153553538187,
          "Label": 0
         },
         {
          "Effect Type": "Kernel SHAP Values",
          "Effect Value": -0.5530299194545559,
          "Feature": 0,
          "Feature Values": 0.5106135772492173,
          "Label": 0
         },
         {
          "Effect Type": "Kernel SHAP Values",
          "Effect Value": 0.6380466613480975,
          "Feature": 0,
          "Feature Values": -0.583100343595106,
          "Label": 0
         },
         {
          "Effect Type": "Kernel SHAP Values",
          "Effect Value": 0.10482511906015136,
          "Feature": 0,
          "Feature Values": -0.10012191907797,
          "Label": 0
         },
         {
          "Effect Type": "Kernel SHAP Values",
          "Effect Value": 0.014004909761234554,
          "Feature": 0,
          "Feature Values": -0.1872710770968796,
          "Label": 1
         },
         {
          "Effect Type": "Kernel SHAP Values",
          "Effect Value": 1.455605875770164,
          "Feature": 0,
          "Feature Values": -1.481345745280796,
          "Label": 0
         },
         {
          "Effect Type": "Kernel SHAP Values",
          "Effect Value": 0.9375978404253763,
          "Feature": 0,
          "Feature Values": -0.9880572795017531,
          "Label": 0
         },
         {
          "Effect Type": "Kernel SHAP Values",
          "Effect Value": -0.04347453725656807,
          "Feature": 0,
          "Feature Values": 0.6103405025391664,
          "Label": 1
         },
         {
          "Effect Type": "Kernel SHAP Values",
          "Effect Value": 0.14730096815056956,
          "Feature": 0,
          "Feature Values": -0.021477680021361984,
          "Label": 0
         },
         {
          "Effect Type": "Kernel SHAP Values",
          "Effect Value": -1.5315427483933943,
          "Feature": 0,
          "Feature Values": 1.5214889382060304,
          "Label": 0
         },
         {
          "Effect Type": "Kernel SHAP Values",
          "Effect Value": 1.646103831601296,
          "Feature": 1,
          "Feature Values": -1.630817133674897,
          "Label": 0
         },
         {
          "Effect Type": "Kernel SHAP Values",
          "Effect Value": 0.9380891398821279,
          "Feature": 1,
          "Feature Values": -1.0384933585192697,
          "Label": 0
         },
         {
          "Effect Type": "Kernel SHAP Values",
          "Effect Value": -0.09438624563312642,
          "Feature": 1,
          "Feature Values": 0.7220147984441424,
          "Label": 1
         },
         {
          "Effect Type": "Kernel SHAP Values",
          "Effect Value": 0.05453195577946128,
          "Feature": 1,
          "Feature Values": -0.3597089149414722,
          "Label": 1
         },
         {
          "Effect Type": "Kernel SHAP Values",
          "Effect Value": -0.15084653410787985,
          "Feature": 1,
          "Feature Values": 0.19016784922225569,
          "Label": 0
         },
         {
          "Effect Type": "Kernel SHAP Values",
          "Effect Value": -0.0370913287004123,
          "Feature": 1,
          "Feature Values": 0.33809968059273937,
          "Label": 1
         },
         {
          "Effect Type": "Kernel SHAP Values",
          "Effect Value": 0.000503652351192008,
          "Feature": 1,
          "Feature Values": -0.02509532106053015,
          "Label": 1
         },
         {
          "Effect Type": "Kernel SHAP Values",
          "Effect Value": 2.36106954440986,
          "Feature": 1,
          "Feature Values": -2.353094056629855,
          "Label": 0
         },
         {
          "Effect Type": "Kernel SHAP Values",
          "Effect Value": 0.8074769958233708,
          "Feature": 1,
          "Feature Values": -0.829465579660459,
          "Label": 0
         },
         {
          "Effect Type": "Kernel SHAP Values",
          "Effect Value": 2.772231287100384,
          "Feature": 1,
          "Feature Values": -2.743322591527212,
          "Label": 0
         },
         {
          "Effect Type": "Kernel SHAP Values",
          "Effect Value": 0.6714100183458535,
          "Feature": 1,
          "Feature Values": -0.6243506165817225,
          "Label": 0
         },
         {
          "Effect Type": "Kernel SHAP Values",
          "Effect Value": 2.685664551162872,
          "Feature": 1,
          "Feature Values": -2.7119509335289855,
          "Label": 0
         },
         {
          "Effect Type": "Kernel SHAP Values",
          "Effect Value": 0.09941106962893655,
          "Feature": 1,
          "Feature Values": -0.12596167211789996,
          "Label": 0
         },
         {
          "Effect Type": "Kernel SHAP Values",
          "Effect Value": 1.0772149263456718,
          "Feature": 1,
          "Feature Values": -1.012231231236116,
          "Label": 0
         },
         {
          "Effect Type": "Kernel SHAP Values",
          "Effect Value": 0.04088709999332737,
          "Feature": 1,
          "Feature Values": -0.26799224650999603,
          "Label": 1
         },
         {
          "Effect Type": "Kernel SHAP Values",
          "Effect Value": 0.9888366299963204,
          "Feature": 1,
          "Feature Values": -0.9354910112819255,
          "Label": 0
         },
         {
          "Effect Type": "Kernel SHAP Values",
          "Effect Value": 0.12914909529648327,
          "Feature": 1,
          "Feature Values": -0.17596284138216506,
          "Label": 0
         },
         {
          "Effect Type": "Kernel SHAP Values",
          "Effect Value": -0.08298454028519847,
          "Feature": 1,
          "Feature Values": 0.617111070982292,
          "Label": 1
         },
         {
          "Effect Type": "Kernel SHAP Values",
          "Effect Value": 1.168469259414227,
          "Feature": 1,
          "Feature Values": -1.1539501735934206,
          "Label": 0
         },
         {
          "Effect Type": "Kernel SHAP Values",
          "Effect Value": 0.37812687806388445,
          "Feature": 1,
          "Feature Values": -0.364208577234516,
          "Label": 0
         },
         {
          "Effect Type": "Kernel SHAP Values",
          "Effect Value": 0.7379785996744622,
          "Feature": 2,
          "Feature Values": -0.816261595659382,
          "Label": 0
         },
         {
          "Effect Type": "Kernel SHAP Values",
          "Effect Value": 0.937112052918928,
          "Feature": 2,
          "Feature Values": -1.0131900985595343,
          "Label": 0
         },
         {
          "Effect Type": "Kernel SHAP Values",
          "Effect Value": -0.0801790109293655,
          "Feature": 2,
          "Feature Values": 0.4929530248224374,
          "Label": 1
         },
         {
          "Effect Type": "Kernel SHAP Values",
          "Effect Value": -0.044383904567626004,
          "Feature": 2,
          "Feature Values": 0.25090723623384154,
          "Label": 1
         },
         {
          "Effect Type": "Kernel SHAP Values",
          "Effect Value": 0.019225032260426326,
          "Feature": 2,
          "Feature Values": -0.14683695251812043,
          "Label": 0
         },
         {
          "Effect Type": "Kernel SHAP Values",
          "Effect Value": -0.001853230653765586,
          "Feature": 2,
          "Feature Values": -0.05759554040999869,
          "Label": 1
         },
         {
          "Effect Type": "Kernel SHAP Values",
          "Effect Value": -0.1865719201535592,
          "Feature": 2,
          "Feature Values": 1.1976354201217205,
          "Label": 1
         },
         {
          "Effect Type": "Kernel SHAP Values",
          "Effect Value": 0.6875758878133595,
          "Feature": 2,
          "Feature Values": -0.7218348412636175,
          "Label": 0
         },
         {
          "Effect Type": "Kernel SHAP Values",
          "Effect Value": 0.04638747098471121,
          "Feature": 2,
          "Feature Values": -0.08219004295653079,
          "Label": 0
         },
         {
          "Effect Type": "Kernel SHAP Values",
          "Effect Value": -1.0140284015404601,
          "Feature": 2,
          "Feature Values": 1.1885995149418345,
          "Label": 0
         },
         {
          "Effect Type": "Kernel SHAP Values",
          "Effect Value": 0.28799914364175233,
          "Feature": 2,
          "Feature Values": -0.3945719931853527,
          "Label": 0
         },
         {
          "Effect Type": "Kernel SHAP Values",
          "Effect Value": -0.7729999253715429,
          "Feature": 2,
          "Feature Values": 1.0144376509203683,
          "Label": 0
         },
         {
          "Effect Type": "Kernel SHAP Values",
          "Effect Value": -0.5646762993755332,
          "Feature": 2,
          "Feature Values": 0.547167054888064,
          "Label": 0
         },
         {
          "Effect Type": "Kernel SHAP Values",
          "Effect Value": 0.5490639712032588,
          "Feature": 2,
          "Feature Values": -0.7022571679493217,
          "Label": 0
         },
         {
          "Effect Type": "Kernel SHAP Values",
          "Effect Value": -0.1843616539513724,
          "Feature": 2,
          "Feature Values": 1.1238336306901893,
          "Label": 1
         },
         {
          "Effect Type": "Kernel SHAP Values",
          "Effect Value": -0.14144021509207697,
          "Feature": 2,
          "Feature Values": 0.08030798365675891,
          "Label": 0
         },
         {
          "Effect Type": "Kernel SHAP Values",
          "Effect Value": -0.8401838236536356,
          "Feature": 2,
          "Feature Values": 0.9882894748429558,
          "Label": 0
         },
         {
          "Effect Type": "Kernel SHAP Values",
          "Effect Value": 0.06458521506719872,
          "Feature": 2,
          "Feature Values": -0.4162925062017792,
          "Label": 1
         },
         {
          "Effect Type": "Kernel SHAP Values",
          "Effect Value": 0.16182119474476667,
          "Feature": 2,
          "Feature Values": -0.3399716282697801,
          "Label": 0
         },
         {
          "Effect Type": "Kernel SHAP Values",
          "Effect Value": 1.0479755583260602,
          "Feature": 2,
          "Feature Values": -1.1697784524046735,
          "Label": 0
         }
        ]
       },
       "facet": {
        "column": {
         "field": "Effect Type",
         "type": "nominal"
        },
        "row": {
         "field": "Feature",
         "type": "quantitative"
        }
       },
       "spec": {
        "encoding": {
         "color": {
          "field": "Label",
          "type": "nominal"
         },
         "x": {
          "field": "Feature Values",
          "type": "quantitative"
         },
         "y": {
          "field": "Effect Value",
          "type": "quantitative"
         }
        },
        "height": 200,
        "mark": {
         "filled": true,
         "type": "point"
        },
        "width": 200
       }
      },
      "image/png": "[encoded data removed]",
      "text/plain": [
       "<VegaLite 3 object>\n",
       "\n",
       "If you see this message, it means the renderer has not been properly enabled\n",
       "for the frontend that you are using. For more information, see\n",
       "https://altair-viz.github.io/user_guide/troubleshooting.html\n"
      ]
     },
     "execution_count": 68,
     "metadata": {},
     "output_type": "execute_result"
    }
   ],
   "source": [
    "alt.Chart(melted_df).mark_point(filled=True).encode(\n",
    "    alt.X('Feature Values:Q'),\n",
    "    alt.Y('Effect Value:Q'),\n",
    "    alt.Color('Label:N')\n",
    ").properties(width=200, height=200).facet(column='Effect Type', row='Feature')"
   ]
  }
 ],
 "metadata": {
  "kernelspec": {
   "display_name": "Python 3",
   "language": "python",
   "name": "python3"
  },
  "language_info": {
   "codemirror_mode": {
    "name": "ipython",
    "version": 3
   },
   "file_extension": ".py",
   "mimetype": "text/x-python",
   "name": "python",
   "nbconvert_exporter": "python",
   "pygments_lexer": "ipython3",
   "version": "3.6.8"
  }
 },
 "nbformat": 4,
 "nbformat_minor": 4
}
