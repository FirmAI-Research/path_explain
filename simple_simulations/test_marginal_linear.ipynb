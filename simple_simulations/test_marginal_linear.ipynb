{
 "cells": [
  {
   "cell_type": "code",
   "execution_count": 1,
   "metadata": {},
   "outputs": [],
   "source": [
    "%load_ext autoreload\n",
    "%autoreload 2"
   ]
  },
  {
   "cell_type": "code",
   "execution_count": 2,
   "metadata": {},
   "outputs": [],
   "source": [
    "import tensorflow as tf\n",
    "import numpy as np\n",
    "import pandas as pd\n",
    "import altair as alt\n",
    "import shap\n",
    "\n",
    "from interaction_effects.marginal import MarginalExplainer\n",
    "from interaction_effects import utils"
   ]
  },
  {
   "cell_type": "code",
   "execution_count": 3,
   "metadata": {},
   "outputs": [],
   "source": [
    "n = 1000\n",
    "d = 3\n",
    "batch_size = 50\n",
    "learning_rate = 0.1"
   ]
  },
  {
   "cell_type": "code",
   "execution_count": 4,
   "metadata": {},
   "outputs": [],
   "source": [
    "W = np.array([-2.0, -3.0, 1.0])\n",
    "b = 0.0\n",
    "X = np.random.randn(n, d)\n",
    "y = np.dot(X, W) + b"
   ]
  },
  {
   "cell_type": "code",
   "execution_count": 5,
   "metadata": {},
   "outputs": [],
   "source": [
    "model = tf.keras.Sequential()\n",
    "model.add(tf.keras.Input(shape=(3,), batch_size=batch_size))\n",
    "model.add(tf.keras.layers.Dense(1, activation=None, use_bias=True))"
   ]
  },
  {
   "cell_type": "code",
   "execution_count": 6,
   "metadata": {},
   "outputs": [],
   "source": [
    "optimizer = tf.keras.optimizers.SGD(learning_rate=learning_rate)\n",
    "model.compile(optimizer=optimizer,\n",
    "              loss=tf.keras.losses.MSE,\n",
    "              metrics=[tf.keras.metrics.MeanAbsoluteError(), tf.keras.metrics.MeanSquaredError()])"
   ]
  },
  {
   "cell_type": "code",
   "execution_count": 7,
   "metadata": {},
   "outputs": [
    {
     "name": "stdout",
     "output_type": "stream",
     "text": [
      "Train on 1000 samples\n",
      "Epoch 1/10\n",
      "1000/1000 - 0s - loss: 3.7512 - mean_absolute_error: 1.0685 - mean_squared_error: 3.7512\n",
      "Epoch 2/10\n",
      "1000/1000 - 0s - loss: 5.2663e-04 - mean_absolute_error: 0.0123 - mean_squared_error: 5.2663e-04\n",
      "Epoch 3/10\n",
      "1000/1000 - 0s - loss: 7.6488e-08 - mean_absolute_error: 1.4620e-04 - mean_squared_error: 7.6488e-08\n",
      "Epoch 4/10\n",
      "1000/1000 - 0s - loss: 1.1420e-11 - mean_absolute_error: 1.7865e-06 - mean_squared_error: 1.1420e-11\n",
      "Epoch 5/10\n",
      "1000/1000 - 0s - loss: 1.2544e-13 - mean_absolute_error: 2.4549e-07 - mean_squared_error: 1.2544e-13\n",
      "Epoch 6/10\n",
      "1000/1000 - 0s - loss: 1.2499e-13 - mean_absolute_error: 2.4343e-07 - mean_squared_error: 1.2499e-13\n",
      "Epoch 7/10\n",
      "1000/1000 - 0s - loss: 1.2504e-13 - mean_absolute_error: 2.3904e-07 - mean_squared_error: 1.2504e-13\n",
      "Epoch 8/10\n",
      "1000/1000 - 0s - loss: 8.6274e-14 - mean_absolute_error: 1.9143e-07 - mean_squared_error: 8.6274e-14\n",
      "Epoch 9/10\n",
      "1000/1000 - 0s - loss: 8.6583e-14 - mean_absolute_error: 1.9206e-07 - mean_squared_error: 8.6583e-14\n",
      "Epoch 10/10\n",
      "1000/1000 - 0s - loss: 8.6506e-14 - mean_absolute_error: 1.9210e-07 - mean_squared_error: 8.6506e-14\n"
     ]
    },
    {
     "data": {
      "text/plain": [
       "<tensorflow.python.keras.callbacks.History at 0x7fa7998cd198>"
      ]
     },
     "execution_count": 7,
     "metadata": {},
     "output_type": "execute_result"
    }
   ],
   "source": [
    "model.fit(X, y, epochs=10, verbose=2)"
   ]
  },
  {
   "cell_type": "code",
   "execution_count": 8,
   "metadata": {},
   "outputs": [
    {
     "name": "stderr",
     "output_type": "stream",
     "text": [
      "WARNING: Logging before flag parsing goes to stderr.\n",
      "W1104 17:05:04.217525 140359598237504 base_layer.py:1814] Layer dense is casting an input tensor from dtype float64 to the layer's dtype of float32, which is new behavior in TensorFlow 2.  The layer has dtype float32 because it's dtype defaults to floatx.\n",
      "\n",
      "If you intended to run this layer in float32, you can safely ignore this warning. If in doubt, this warning is likely only an issue if you are porting a TensorFlow 1.X model to TensorFlow 2.\n",
      "\n",
      "To change all layers to have dtype float64 by default, call `tf.keras.backend.set_floatx('float64')`. To change just this layer, pass dtype='float64' to the layer constructor. If you are the author of this layer, you can disable autocasting by passing autocast=False to the base Layer constructor.\n",
      "\n",
      "100%|██████████| 20/20 [00:00<00:00, 22.19it/s]\n"
     ]
    }
   ],
   "source": [
    "primal_explainer = MarginalExplainer(model, X[20:], nsamples=800, representation='mobius')\n",
    "primal_effects = primal_explainer.explain(X[:20], verbose=True)"
   ]
  },
  {
   "cell_type": "code",
   "execution_count": 9,
   "metadata": {},
   "outputs": [
    {
     "name": "stderr",
     "output_type": "stream",
     "text": [
      "100%|██████████| 20/20 [00:00<00:00, 21.77it/s]\n"
     ]
    }
   ],
   "source": [
    "dual_explainer = MarginalExplainer(model, X[20:], nsamples=800, representation='comobius')\n",
    "dual_effects = dual_explainer.explain(X[:20], verbose=True)"
   ]
  },
  {
   "cell_type": "code",
   "execution_count": 10,
   "metadata": {},
   "outputs": [
    {
     "name": "stderr",
     "output_type": "stream",
     "text": [
      "100%|██████████| 20/20 [00:01<00:00, 12.58it/s]\n"
     ]
    }
   ],
   "source": [
    "average_explainer = MarginalExplainer(model, X[20:], nsamples=800, representation='average')\n",
    "average_effects = average_explainer.explain(X[:20], verbose=True)"
   ]
  },
  {
   "cell_type": "code",
   "execution_count": 11,
   "metadata": {},
   "outputs": [],
   "source": [
    "shap_values = X * W[np.newaxis, :]"
   ]
  },
  {
   "cell_type": "code",
   "execution_count": 12,
   "metadata": {},
   "outputs": [
    {
     "data": {
      "application/vnd.jupyter.widget-view+json": {
       "model_id": "774003b513bb482496d6989c7ec6740c",
       "version_major": 2,
       "version_minor": 0
      },
      "text/plain": [
       "HBox(children=(IntProgress(value=0, max=20), HTML(value='')))"
      ]
     },
     "metadata": {},
     "output_type": "display_data"
    },
    {
     "name": "stdout",
     "output_type": "stream",
     "text": [
      "\n"
     ]
    }
   ],
   "source": [
    "model_func = lambda x: model(x).numpy()\n",
    "kernel_explainer = shap.SamplingExplainer(model_func, X)\n",
    "kernel_shap = kernel_explainer.shap_values(X[:20])"
   ]
  },
  {
   "cell_type": "code",
   "execution_count": 13,
   "metadata": {},
   "outputs": [],
   "source": [
    "data_df = pd.DataFrame({\n",
    "    'True SHAP Values':        shap_values[:20].flatten(),\n",
    "    'Sampled Primal Effects':  primal_effects.flatten(),\n",
    "    'Sampled Dual Effects':    dual_effects.flatten(),\n",
    "    'Sampled Average Effects': average_effects.flatten(),\n",
    "    'Kernel SHAP Values':      kernel_shap.flatten()\n",
    "})"
   ]
  },
  {
   "cell_type": "code",
   "execution_count": 14,
   "metadata": {},
   "outputs": [
    {
     "data": {
      "application/vnd.vegalite.v3+json": {
       "$schema": "https://vega.github.io/schema/vega-lite/v3.2.1.json",
       "config": {
        "mark": {
         "tooltip": null
        },
        "view": {
         "height": 300,
         "width": 400
        }
       },
       "datasets": {
        "data-d8b67342b53cef7580cdb3b173d5b235": [
         {
          "Kernel SHAP Values": -1.4263211712038588,
          "Sampled Average Effects": -1.6173045186698436,
          "Sampled Dual Effects": -1.5641750702261925,
          "Sampled Primal Effects": -1.6253183746337891,
          "True SHAP Values": -1.4896582317424687
         },
         {
          "Kernel SHAP Values": -1.7048704354330906,
          "Sampled Average Effects": -1.6534313490986825,
          "Sampled Dual Effects": -1.5571852959692478,
          "Sampled Primal Effects": -1.569989938735962,
          "True SHAP Values": -1.5659777967577193
         },
         {
          "Kernel SHAP Values": 1.0998874005207724,
          "Sampled Average Effects": 1.1500288009643556,
          "Sampled Dual Effects": 1.1127768421173097,
          "Sampled Primal Effects": 1.1102637434005738,
          "True SHAP Values": 1.0931222387747033
         },
         {
          "Kernel SHAP Values": 1.3567463976445848,
          "Sampled Average Effects": 1.4684699058532715,
          "Sampled Dual Effects": 1.278823413848877,
          "Sampled Primal Effects": 1.3148322677612305,
          "True SHAP Values": 1.4442079820179372
         },
         {
          "Kernel SHAP Values": 2.9541430471094094,
          "Sampled Average Effects": 2.9790642297267915,
          "Sampled Dual Effects": 2.9647518038749694,
          "Sampled Primal Effects": 3.1870367622375486,
          "True SHAP Values": 3.010205327873406
         },
         {
          "Kernel SHAP Values": -0.5319742808086076,
          "Sampled Average Effects": -0.5956086897850037,
          "Sampled Dual Effects": -0.5538166332244873,
          "Sampled Primal Effects": -0.6014271306991578,
          "True SHAP Values": -0.6067072582583516
         },
         {
          "Kernel SHAP Values": 2.2913384324694936,
          "Sampled Average Effects": 2.2285960006713865,
          "Sampled Dual Effects": 2.2565358161926268,
          "Sampled Primal Effects": 2.1984537982940675,
          "True SHAP Values": 2.3626084910167457
         },
         {
          "Kernel SHAP Values": 1.4864339872401344,
          "Sampled Average Effects": 1.5984789967536925,
          "Sampled Dual Effects": 1.5038383674621583,
          "Sampled Primal Effects": 1.3322387981414794,
          "True SHAP Values": 1.4452402771205546
         },
         {
          "Kernel SHAP Values": 0.5253090554041523,
          "Sampled Average Effects": 0.6217668581008912,
          "Sampled Dual Effects": 0.5569986534118653,
          "Sampled Primal Effects": 0.5511064291000366,
          "True SHAP Values": 0.5640234688394292
         },
         {
          "Kernel SHAP Values": -0.11781636095641707,
          "Sampled Average Effects": -0.19213902592658996,
          "Sampled Dual Effects": -0.20675999641418458,
          "Sampled Primal Effects": -0.3014854627847672,
          "True SHAP Values": -0.11993538099686668
         },
         {
          "Kernel SHAP Values": -3.29480224776163,
          "Sampled Average Effects": -3.0048598877340553,
          "Sampled Dual Effects": -3.1304656130075457,
          "Sampled Primal Effects": -3.3327982330322268,
          "True SHAP Values": -3.129784424849872
         },
         {
          "Kernel SHAP Values": 0.4798575956972414,
          "Sampled Average Effects": 0.40498370885849,
          "Sampled Dual Effects": 0.4210134220123291,
          "Sampled Primal Effects": 0.4696322703361511,
          "True SHAP Values": 0.38574905792884145
         },
         {
          "Kernel SHAP Values": -0.9626330711605985,
          "Sampled Average Effects": -1.0416764783859254,
          "Sampled Dual Effects": -1.0974843502044678,
          "Sampled Primal Effects": -1.1090154075622558,
          "True SHAP Values": -0.9646131623913786
         },
         {
          "Kernel SHAP Values": 3.14439361802514,
          "Sampled Average Effects": 3.241914727985859,
          "Sampled Dual Effects": 3.194953753948212,
          "Sampled Primal Effects": 3.0643068027496336,
          "True SHAP Values": 3.1835327674324145
         },
         {
          "Kernel SHAP Values": -0.01368255909259735,
          "Sampled Average Effects": 0.05657502084970474,
          "Sampled Dual Effects": 0.04949051856994629,
          "Sampled Primal Effects": 0.043775062263011935,
          "True SHAP Values": 0.017949309389637926
         },
         {
          "Kernel SHAP Values": 2.65386453986084,
          "Sampled Average Effects": 2.7125129318237304,
          "Sampled Dual Effects": 2.6863937759399414,
          "Sampled Primal Effects": 2.6637241077423095,
          "True SHAP Values": 2.794771885102684
         },
         {
          "Kernel SHAP Values": 1.3634387229683949,
          "Sampled Average Effects": 1.4518313384056092,
          "Sampled Dual Effects": 1.3511653327941895,
          "Sampled Primal Effects": 1.5115167140960692,
          "True SHAP Values": 1.3991379899628065
         },
         {
          "Kernel SHAP Values": 1.2344161218302403,
          "Sampled Average Effects": 1.1355683779716492,
          "Sampled Dual Effects": 1.2082376670837403,
          "Sampled Primal Effects": 1.1638651657104493,
          "True SHAP Values": 1.1266001187544417
         },
         {
          "Kernel SHAP Values": 0.4637579765884741,
          "Sampled Average Effects": 0.37704583138227465,
          "Sampled Dual Effects": 0.5519155120849609,
          "Sampled Primal Effects": 0.4274804782867432,
          "True SHAP Values": 0.5778873710379528
         },
         {
          "Kernel SHAP Values": -2.6632784014813233,
          "Sampled Average Effects": -2.7004527258872986,
          "Sampled Dual Effects": -2.665373110771179,
          "Sampled Primal Effects": -2.6564458179473878,
          "True SHAP Values": -2.684895352590897
         },
         {
          "Kernel SHAP Values": 1.531668466647785,
          "Sampled Average Effects": 1.514337112903595,
          "Sampled Dual Effects": 1.5177298784255981,
          "Sampled Primal Effects": 1.5343913650512695,
          "True SHAP Values": 1.5079463767670476
         },
         {
          "Kernel SHAP Values": -1.3860081569738836,
          "Sampled Average Effects": -1.6283058404922486,
          "Sampled Dual Effects": -1.584750804901123,
          "Sampled Primal Effects": -1.5397493314743043,
          "True SHAP Values": -1.5462131362978113
         },
         {
          "Kernel SHAP Values": -4.286164141159905,
          "Sampled Average Effects": -4.205373651981354,
          "Sampled Dual Effects": -3.979660978317261,
          "Sampled Primal Effects": -3.9732543563842775,
          "True SHAP Values": -4.184907052291411
         },
         {
          "Kernel SHAP Values": -0.6930011037098884,
          "Sampled Average Effects": -0.5106471884250641,
          "Sampled Dual Effects": -0.573366584777832,
          "Sampled Primal Effects": -0.5813265299797058,
          "True SHAP Values": -0.5652631043554651
         },
         {
          "Kernel SHAP Values": 1.5278772337741215,
          "Sampled Average Effects": 1.5406410121917724,
          "Sampled Dual Effects": 1.4789644050598145,
          "Sampled Primal Effects": 1.5569315433502198,
          "True SHAP Values": 1.6150637534558796
         },
         {
          "Kernel SHAP Values": 5.537265259198891,
          "Sampled Average Effects": 5.5002943110466,
          "Sampled Dual Effects": 5.713004870414734,
          "Sampled Primal Effects": 5.358057556152343,
          "True SHAP Values": 5.516961253828952
         },
         {
          "Kernel SHAP Values": 0.21661054911906527,
          "Sampled Average Effects": 0.19820106893777847,
          "Sampled Dual Effects": 0.27962202072143555,
          "Sampled Primal Effects": 0.27350494503974915,
          "True SHAP Values": 0.21851864344582522
         },
         {
          "Kernel SHAP Values": -0.574227230767963,
          "Sampled Average Effects": -0.7266802287101746,
          "Sampled Dual Effects": -0.6434670639038086,
          "Sampled Primal Effects": -0.6444321942329406,
          "True SHAP Values": -0.550491981905745
         },
         {
          "Kernel SHAP Values": -1.812111056211058,
          "Sampled Average Effects": -1.563859417438507,
          "Sampled Dual Effects": -1.7969550669193268,
          "Sampled Primal Effects": -1.7141345930099487,
          "True SHAP Values": -1.7328775436834734
         },
         {
          "Kernel SHAP Values": -0.569327545432449,
          "Sampled Average Effects": -0.578588262796402,
          "Sampled Dual Effects": -0.6014799785614013,
          "Sampled Primal Effects": -0.5611258220672607,
          "True SHAP Values": -0.6035057789014953
         },
         {
          "Kernel SHAP Values": -0.6103777551742924,
          "Sampled Average Effects": -0.7507139360904693,
          "Sampled Dual Effects": -0.5836580657958984,
          "Sampled Primal Effects": -0.6451316833496094,
          "True SHAP Values": -0.6112848392909146
         },
         {
          "Kernel SHAP Values": 2.3521214419992327,
          "Sampled Average Effects": 2.3314100120961667,
          "Sampled Dual Effects": 2.5460194978117943,
          "Sampled Primal Effects": 2.343177442550659,
          "True SHAP Values": 2.4588373193703186
         },
         {
          "Kernel SHAP Values": 0.8711866289732276,
          "Sampled Average Effects": 0.8496393728256225,
          "Sampled Dual Effects": 0.784798355102539,
          "Sampled Primal Effects": 0.8892462682723999,
          "True SHAP Values": 0.8341684484661962
         },
         {
          "Kernel SHAP Values": 1.6975657662701389,
          "Sampled Average Effects": 1.5888905596733094,
          "Sampled Dual Effects": 1.7157129096984862,
          "Sampled Primal Effects": 1.6571262454986573,
          "True SHAP Values": 1.7772619044365845
         },
         {
          "Kernel SHAP Values": 5.044265904534328,
          "Sampled Average Effects": 5.199236283302307,
          "Sampled Dual Effects": 5.090443266034126,
          "Sampled Primal Effects": 5.078974113464356,
          "True SHAP Values": 5.135411614863809
         },
         {
          "Kernel SHAP Values": -0.6693096396951694,
          "Sampled Average Effects": -0.7435275626182556,
          "Sampled Dual Effects": -0.7606941604614258,
          "Sampled Primal Effects": -0.750197012424469,
          "True SHAP Values": -0.7713601780355993
         },
         {
          "Kernel SHAP Values": 0.6036704729832295,
          "Sampled Average Effects": 0.7081697964668274,
          "Sampled Dual Effects": 0.6615306854248046,
          "Sampled Primal Effects": 0.6470549654960632,
          "True SHAP Values": 0.7455023809196252
         },
         {
          "Kernel SHAP Values": 7.262856772927313,
          "Sampled Average Effects": 7.181177476495504,
          "Sampled Dual Effects": 7.364042983651161,
          "Sampled Primal Effects": 7.2973290634155275,
          "True SHAP Values": 7.238332844934273
         },
         {
          "Kernel SHAP Values": -0.7990701927873676,
          "Sampled Average Effects": -0.7913534998893738,
          "Sampled Dual Effects": -0.7827445602416992,
          "Sampled Primal Effects": -0.825808138847351,
          "True SHAP Values": -0.8475871502013754
         },
         {
          "Kernel SHAP Values": -0.4243218548412749,
          "Sampled Average Effects": -0.30268014580011365,
          "Sampled Dual Effects": -0.3002611064910889,
          "Sampled Primal Effects": -0.3941198647022247,
          "True SHAP Values": -0.2761940626083128
         },
         {
          "Kernel SHAP Values": 2.028469461269305,
          "Sampled Average Effects": 2.0021201968193054,
          "Sampled Dual Effects": 1.9925375825166702,
          "Sampled Primal Effects": 2.1350647449493407,
          "True SHAP Values": 1.9520241928496853
         },
         {
          "Kernel SHAP Values": 0.7554073390299642,
          "Sampled Average Effects": 0.8007954955101013,
          "Sampled Dual Effects": 0.7436226463317871,
          "Sampled Primal Effects": 0.7597920846939087,
          "True SHAP Values": 0.7525154770952579
         },
         {
          "Kernel SHAP Values": 3.49858625403459,
          "Sampled Average Effects": 3.4350506246089934,
          "Sampled Dual Effects": 3.3387814784049987,
          "Sampled Primal Effects": 3.4878995323181154,
          "True SHAP Values": 3.521724847589533
         },
         {
          "Kernel SHAP Values": -4.952949902095511,
          "Sampled Average Effects": -4.938635965585709,
          "Sampled Dual Effects": -4.940385429859162,
          "Sampled Primal Effects": -4.98205982208252,
          "True SHAP Values": -5.00778101840927
         },
         {
          "Kernel SHAP Values": 0.48709382728363826,
          "Sampled Average Effects": 0.6722401475906372,
          "Sampled Dual Effects": 0.5566258788108825,
          "Sampled Primal Effects": 0.6443465495109558,
          "True SHAP Values": 0.5875763359723436
         },
         {
          "Kernel SHAP Values": 2.2969240558095962,
          "Sampled Average Effects": 2.2366049766540526,
          "Sampled Dual Effects": 2.2002329635620117,
          "Sampled Primal Effects": 2.1270826053619385,
          "True SHAP Values": 2.377129367434669
         },
         {
          "Kernel SHAP Values": 3.646812014200009,
          "Sampled Average Effects": 3.6910025584697723,
          "Sampled Dual Effects": 3.6071826696395872,
          "Sampled Primal Effects": 3.707241249084473,
          "True SHAP Values": 3.7062752450061693
         },
         {
          "Kernel SHAP Values": -0.8154622137105885,
          "Sampled Average Effects": -0.9299738812446594,
          "Sampled Dual Effects": -0.9070509338378906,
          "Sampled Primal Effects": -0.8644647932052613,
          "True SHAP Values": -0.8863399508972881
         },
         {
          "Kernel SHAP Values": 2.1938164047734996,
          "Sampled Average Effects": 2.090997033119202,
          "Sampled Dual Effects": 2.2392352294921873,
          "Sampled Primal Effects": 2.123580913543701,
          "True SHAP Values": 2.219532486997676
         },
         {
          "Kernel SHAP Values": 5.960309112911349,
          "Sampled Average Effects": 6.126092066764832,
          "Sampled Dual Effects": 5.9827976989746094,
          "Sampled Primal Effects": 5.897010154724121,
          "True SHAP Values": 6.0055361780066505
         },
         {
          "Kernel SHAP Values": 0.4808699112991281,
          "Sampled Average Effects": 0.5091104209423065,
          "Sampled Dual Effects": 0.5345961380004883,
          "Sampled Primal Effects": 0.49051940321922305,
          "True SHAP Values": 0.47871783673994256
         },
         {
          "Kernel SHAP Values": -2.7033623008980467,
          "Sampled Average Effects": -2.83853226184845,
          "Sampled Dual Effects": -2.90642774105072,
          "Sampled Primal Effects": -2.8119591999053957,
          "True SHAP Values": -2.7030387207148374
         },
         {
          "Kernel SHAP Values": -2.3475058677748284,
          "Sampled Average Effects": -2.310609393119812,
          "Sampled Dual Effects": -2.274661741256714,
          "Sampled Primal Effects": -2.2920108318328856,
          "True SHAP Values": -2.2723030338239814
         },
         {
          "Kernel SHAP Values": 0.3441340062979789,
          "Sampled Average Effects": 0.3599289867281914,
          "Sampled Dual Effects": 0.3347042465209961,
          "Sampled Primal Effects": 0.3456005358695984,
          "True SHAP Values": 0.337398053392074
         },
         {
          "Kernel SHAP Values": 0.6214832051757587,
          "Sampled Average Effects": 0.5522752737998963,
          "Sampled Dual Effects": 0.5273206996917724,
          "Sampled Primal Effects": 0.4971536898612976,
          "True SHAP Values": 0.5409343690432153
         },
         {
          "Kernel SHAP Values": 0.8699282277501531,
          "Sampled Average Effects": 0.8888022966682911,
          "Sampled Dual Effects": 0.8669652581214905,
          "Sampled Primal Effects": 1.1914683389663696,
          "True SHAP Values": 0.9589194308934763
         },
         {
          "Kernel SHAP Values": -0.016829674609799956,
          "Sampled Average Effects": 0.11999706625938415,
          "Sampled Dual Effects": 0.0018315887451171874,
          "Sampled Primal Effects": 0.060369253158569336,
          "True SHAP Values": 0.04351843785392636
         },
         {
          "Kernel SHAP Values": 2.5523567294276854,
          "Sampled Average Effects": 2.603581624031067,
          "Sampled Dual Effects": 2.7005781936645508,
          "Sampled Primal Effects": 2.6774786472320558,
          "True SHAP Values": 2.711270085231841
         },
         {
          "Kernel SHAP Values": -0.11000087849049447,
          "Sampled Average Effects": -0.21417801484465598,
          "Sampled Dual Effects": -0.31737504959106444,
          "Sampled Primal Effects": -0.14398808717727662,
          "True SHAP Values": -0.19553068524029757
         },
         {
          "Kernel SHAP Values": 2.631759874472443,
          "Sampled Average Effects": 2.6681992292404173,
          "Sampled Dual Effects": 2.6740617847442625,
          "Sampled Primal Effects": 2.6888875770568847,
          "True SHAP Values": 2.6271668045683736
         }
        ]
       },
       "repeat": {
        "column": [
         "Sampled Primal Effects",
         "Sampled Dual Effects"
        ]
       },
       "spec": {
        "data": {
         "name": "data-d8b67342b53cef7580cdb3b173d5b235"
        },
        "encoding": {
         "x": {
          "field": "True SHAP Values",
          "type": "quantitative"
         },
         "y": {
          "field": {
           "repeat": "column"
          },
          "type": "quantitative"
         }
        },
        "height": 300,
        "mark": {
         "filled": true,
         "type": "point"
        },
        "width": 300
       }
      },
      "image/png": "[encoded data removed]",
      "text/plain": [
       "<VegaLite 3 object>\n",
       "\n",
       "If you see this message, it means the renderer has not been properly enabled\n",
       "for the frontend that you are using. For more information, see\n",
       "https://altair-viz.github.io/user_guide/troubleshooting.html\n"
      ]
     },
     "execution_count": 14,
     "metadata": {},
     "output_type": "execute_result"
    }
   ],
   "source": [
    "alt.Chart(data_df).mark_point(filled=True).encode(\n",
    "    alt.X('True SHAP Values:Q'),\n",
    "    alt.Y(alt.repeat(\"column\"), type='quantitative')\n",
    ").properties(width=300, height=300).repeat(column=['Sampled Primal Effects', 'Sampled Dual Effects'])"
   ]
  },
  {
   "cell_type": "code",
   "execution_count": 15,
   "metadata": {},
   "outputs": [
    {
     "data": {
      "application/vnd.vegalite.v3+json": {
       "$schema": "https://vega.github.io/schema/vega-lite/v3.2.1.json",
       "config": {
        "mark": {
         "tooltip": null
        },
        "view": {
         "height": 300,
         "width": 400
        }
       },
       "datasets": {
        "data-d8b67342b53cef7580cdb3b173d5b235": [
         {
          "Kernel SHAP Values": -1.4263211712038588,
          "Sampled Average Effects": -1.6173045186698436,
          "Sampled Dual Effects": -1.5641750702261925,
          "Sampled Primal Effects": -1.6253183746337891,
          "True SHAP Values": -1.4896582317424687
         },
         {
          "Kernel SHAP Values": -1.7048704354330906,
          "Sampled Average Effects": -1.6534313490986825,
          "Sampled Dual Effects": -1.5571852959692478,
          "Sampled Primal Effects": -1.569989938735962,
          "True SHAP Values": -1.5659777967577193
         },
         {
          "Kernel SHAP Values": 1.0998874005207724,
          "Sampled Average Effects": 1.1500288009643556,
          "Sampled Dual Effects": 1.1127768421173097,
          "Sampled Primal Effects": 1.1102637434005738,
          "True SHAP Values": 1.0931222387747033
         },
         {
          "Kernel SHAP Values": 1.3567463976445848,
          "Sampled Average Effects": 1.4684699058532715,
          "Sampled Dual Effects": 1.278823413848877,
          "Sampled Primal Effects": 1.3148322677612305,
          "True SHAP Values": 1.4442079820179372
         },
         {
          "Kernel SHAP Values": 2.9541430471094094,
          "Sampled Average Effects": 2.9790642297267915,
          "Sampled Dual Effects": 2.9647518038749694,
          "Sampled Primal Effects": 3.1870367622375486,
          "True SHAP Values": 3.010205327873406
         },
         {
          "Kernel SHAP Values": -0.5319742808086076,
          "Sampled Average Effects": -0.5956086897850037,
          "Sampled Dual Effects": -0.5538166332244873,
          "Sampled Primal Effects": -0.6014271306991578,
          "True SHAP Values": -0.6067072582583516
         },
         {
          "Kernel SHAP Values": 2.2913384324694936,
          "Sampled Average Effects": 2.2285960006713865,
          "Sampled Dual Effects": 2.2565358161926268,
          "Sampled Primal Effects": 2.1984537982940675,
          "True SHAP Values": 2.3626084910167457
         },
         {
          "Kernel SHAP Values": 1.4864339872401344,
          "Sampled Average Effects": 1.5984789967536925,
          "Sampled Dual Effects": 1.5038383674621583,
          "Sampled Primal Effects": 1.3322387981414794,
          "True SHAP Values": 1.4452402771205546
         },
         {
          "Kernel SHAP Values": 0.5253090554041523,
          "Sampled Average Effects": 0.6217668581008912,
          "Sampled Dual Effects": 0.5569986534118653,
          "Sampled Primal Effects": 0.5511064291000366,
          "True SHAP Values": 0.5640234688394292
         },
         {
          "Kernel SHAP Values": -0.11781636095641707,
          "Sampled Average Effects": -0.19213902592658996,
          "Sampled Dual Effects": -0.20675999641418458,
          "Sampled Primal Effects": -0.3014854627847672,
          "True SHAP Values": -0.11993538099686668
         },
         {
          "Kernel SHAP Values": -3.29480224776163,
          "Sampled Average Effects": -3.0048598877340553,
          "Sampled Dual Effects": -3.1304656130075457,
          "Sampled Primal Effects": -3.3327982330322268,
          "True SHAP Values": -3.129784424849872
         },
         {
          "Kernel SHAP Values": 0.4798575956972414,
          "Sampled Average Effects": 0.40498370885849,
          "Sampled Dual Effects": 0.4210134220123291,
          "Sampled Primal Effects": 0.4696322703361511,
          "True SHAP Values": 0.38574905792884145
         },
         {
          "Kernel SHAP Values": -0.9626330711605985,
          "Sampled Average Effects": -1.0416764783859254,
          "Sampled Dual Effects": -1.0974843502044678,
          "Sampled Primal Effects": -1.1090154075622558,
          "True SHAP Values": -0.9646131623913786
         },
         {
          "Kernel SHAP Values": 3.14439361802514,
          "Sampled Average Effects": 3.241914727985859,
          "Sampled Dual Effects": 3.194953753948212,
          "Sampled Primal Effects": 3.0643068027496336,
          "True SHAP Values": 3.1835327674324145
         },
         {
          "Kernel SHAP Values": -0.01368255909259735,
          "Sampled Average Effects": 0.05657502084970474,
          "Sampled Dual Effects": 0.04949051856994629,
          "Sampled Primal Effects": 0.043775062263011935,
          "True SHAP Values": 0.017949309389637926
         },
         {
          "Kernel SHAP Values": 2.65386453986084,
          "Sampled Average Effects": 2.7125129318237304,
          "Sampled Dual Effects": 2.6863937759399414,
          "Sampled Primal Effects": 2.6637241077423095,
          "True SHAP Values": 2.794771885102684
         },
         {
          "Kernel SHAP Values": 1.3634387229683949,
          "Sampled Average Effects": 1.4518313384056092,
          "Sampled Dual Effects": 1.3511653327941895,
          "Sampled Primal Effects": 1.5115167140960692,
          "True SHAP Values": 1.3991379899628065
         },
         {
          "Kernel SHAP Values": 1.2344161218302403,
          "Sampled Average Effects": 1.1355683779716492,
          "Sampled Dual Effects": 1.2082376670837403,
          "Sampled Primal Effects": 1.1638651657104493,
          "True SHAP Values": 1.1266001187544417
         },
         {
          "Kernel SHAP Values": 0.4637579765884741,
          "Sampled Average Effects": 0.37704583138227465,
          "Sampled Dual Effects": 0.5519155120849609,
          "Sampled Primal Effects": 0.4274804782867432,
          "True SHAP Values": 0.5778873710379528
         },
         {
          "Kernel SHAP Values": -2.6632784014813233,
          "Sampled Average Effects": -2.7004527258872986,
          "Sampled Dual Effects": -2.665373110771179,
          "Sampled Primal Effects": -2.6564458179473878,
          "True SHAP Values": -2.684895352590897
         },
         {
          "Kernel SHAP Values": 1.531668466647785,
          "Sampled Average Effects": 1.514337112903595,
          "Sampled Dual Effects": 1.5177298784255981,
          "Sampled Primal Effects": 1.5343913650512695,
          "True SHAP Values": 1.5079463767670476
         },
         {
          "Kernel SHAP Values": -1.3860081569738836,
          "Sampled Average Effects": -1.6283058404922486,
          "Sampled Dual Effects": -1.584750804901123,
          "Sampled Primal Effects": -1.5397493314743043,
          "True SHAP Values": -1.5462131362978113
         },
         {
          "Kernel SHAP Values": -4.286164141159905,
          "Sampled Average Effects": -4.205373651981354,
          "Sampled Dual Effects": -3.979660978317261,
          "Sampled Primal Effects": -3.9732543563842775,
          "True SHAP Values": -4.184907052291411
         },
         {
          "Kernel SHAP Values": -0.6930011037098884,
          "Sampled Average Effects": -0.5106471884250641,
          "Sampled Dual Effects": -0.573366584777832,
          "Sampled Primal Effects": -0.5813265299797058,
          "True SHAP Values": -0.5652631043554651
         },
         {
          "Kernel SHAP Values": 1.5278772337741215,
          "Sampled Average Effects": 1.5406410121917724,
          "Sampled Dual Effects": 1.4789644050598145,
          "Sampled Primal Effects": 1.5569315433502198,
          "True SHAP Values": 1.6150637534558796
         },
         {
          "Kernel SHAP Values": 5.537265259198891,
          "Sampled Average Effects": 5.5002943110466,
          "Sampled Dual Effects": 5.713004870414734,
          "Sampled Primal Effects": 5.358057556152343,
          "True SHAP Values": 5.516961253828952
         },
         {
          "Kernel SHAP Values": 0.21661054911906527,
          "Sampled Average Effects": 0.19820106893777847,
          "Sampled Dual Effects": 0.27962202072143555,
          "Sampled Primal Effects": 0.27350494503974915,
          "True SHAP Values": 0.21851864344582522
         },
         {
          "Kernel SHAP Values": -0.574227230767963,
          "Sampled Average Effects": -0.7266802287101746,
          "Sampled Dual Effects": -0.6434670639038086,
          "Sampled Primal Effects": -0.6444321942329406,
          "True SHAP Values": -0.550491981905745
         },
         {
          "Kernel SHAP Values": -1.812111056211058,
          "Sampled Average Effects": -1.563859417438507,
          "Sampled Dual Effects": -1.7969550669193268,
          "Sampled Primal Effects": -1.7141345930099487,
          "True SHAP Values": -1.7328775436834734
         },
         {
          "Kernel SHAP Values": -0.569327545432449,
          "Sampled Average Effects": -0.578588262796402,
          "Sampled Dual Effects": -0.6014799785614013,
          "Sampled Primal Effects": -0.5611258220672607,
          "True SHAP Values": -0.6035057789014953
         },
         {
          "Kernel SHAP Values": -0.6103777551742924,
          "Sampled Average Effects": -0.7507139360904693,
          "Sampled Dual Effects": -0.5836580657958984,
          "Sampled Primal Effects": -0.6451316833496094,
          "True SHAP Values": -0.6112848392909146
         },
         {
          "Kernel SHAP Values": 2.3521214419992327,
          "Sampled Average Effects": 2.3314100120961667,
          "Sampled Dual Effects": 2.5460194978117943,
          "Sampled Primal Effects": 2.343177442550659,
          "True SHAP Values": 2.4588373193703186
         },
         {
          "Kernel SHAP Values": 0.8711866289732276,
          "Sampled Average Effects": 0.8496393728256225,
          "Sampled Dual Effects": 0.784798355102539,
          "Sampled Primal Effects": 0.8892462682723999,
          "True SHAP Values": 0.8341684484661962
         },
         {
          "Kernel SHAP Values": 1.6975657662701389,
          "Sampled Average Effects": 1.5888905596733094,
          "Sampled Dual Effects": 1.7157129096984862,
          "Sampled Primal Effects": 1.6571262454986573,
          "True SHAP Values": 1.7772619044365845
         },
         {
          "Kernel SHAP Values": 5.044265904534328,
          "Sampled Average Effects": 5.199236283302307,
          "Sampled Dual Effects": 5.090443266034126,
          "Sampled Primal Effects": 5.078974113464356,
          "True SHAP Values": 5.135411614863809
         },
         {
          "Kernel SHAP Values": -0.6693096396951694,
          "Sampled Average Effects": -0.7435275626182556,
          "Sampled Dual Effects": -0.7606941604614258,
          "Sampled Primal Effects": -0.750197012424469,
          "True SHAP Values": -0.7713601780355993
         },
         {
          "Kernel SHAP Values": 0.6036704729832295,
          "Sampled Average Effects": 0.7081697964668274,
          "Sampled Dual Effects": 0.6615306854248046,
          "Sampled Primal Effects": 0.6470549654960632,
          "True SHAP Values": 0.7455023809196252
         },
         {
          "Kernel SHAP Values": 7.262856772927313,
          "Sampled Average Effects": 7.181177476495504,
          "Sampled Dual Effects": 7.364042983651161,
          "Sampled Primal Effects": 7.2973290634155275,
          "True SHAP Values": 7.238332844934273
         },
         {
          "Kernel SHAP Values": -0.7990701927873676,
          "Sampled Average Effects": -0.7913534998893738,
          "Sampled Dual Effects": -0.7827445602416992,
          "Sampled Primal Effects": -0.825808138847351,
          "True SHAP Values": -0.8475871502013754
         },
         {
          "Kernel SHAP Values": -0.4243218548412749,
          "Sampled Average Effects": -0.30268014580011365,
          "Sampled Dual Effects": -0.3002611064910889,
          "Sampled Primal Effects": -0.3941198647022247,
          "True SHAP Values": -0.2761940626083128
         },
         {
          "Kernel SHAP Values": 2.028469461269305,
          "Sampled Average Effects": 2.0021201968193054,
          "Sampled Dual Effects": 1.9925375825166702,
          "Sampled Primal Effects": 2.1350647449493407,
          "True SHAP Values": 1.9520241928496853
         },
         {
          "Kernel SHAP Values": 0.7554073390299642,
          "Sampled Average Effects": 0.8007954955101013,
          "Sampled Dual Effects": 0.7436226463317871,
          "Sampled Primal Effects": 0.7597920846939087,
          "True SHAP Values": 0.7525154770952579
         },
         {
          "Kernel SHAP Values": 3.49858625403459,
          "Sampled Average Effects": 3.4350506246089934,
          "Sampled Dual Effects": 3.3387814784049987,
          "Sampled Primal Effects": 3.4878995323181154,
          "True SHAP Values": 3.521724847589533
         },
         {
          "Kernel SHAP Values": -4.952949902095511,
          "Sampled Average Effects": -4.938635965585709,
          "Sampled Dual Effects": -4.940385429859162,
          "Sampled Primal Effects": -4.98205982208252,
          "True SHAP Values": -5.00778101840927
         },
         {
          "Kernel SHAP Values": 0.48709382728363826,
          "Sampled Average Effects": 0.6722401475906372,
          "Sampled Dual Effects": 0.5566258788108825,
          "Sampled Primal Effects": 0.6443465495109558,
          "True SHAP Values": 0.5875763359723436
         },
         {
          "Kernel SHAP Values": 2.2969240558095962,
          "Sampled Average Effects": 2.2366049766540526,
          "Sampled Dual Effects": 2.2002329635620117,
          "Sampled Primal Effects": 2.1270826053619385,
          "True SHAP Values": 2.377129367434669
         },
         {
          "Kernel SHAP Values": 3.646812014200009,
          "Sampled Average Effects": 3.6910025584697723,
          "Sampled Dual Effects": 3.6071826696395872,
          "Sampled Primal Effects": 3.707241249084473,
          "True SHAP Values": 3.7062752450061693
         },
         {
          "Kernel SHAP Values": -0.8154622137105885,
          "Sampled Average Effects": -0.9299738812446594,
          "Sampled Dual Effects": -0.9070509338378906,
          "Sampled Primal Effects": -0.8644647932052613,
          "True SHAP Values": -0.8863399508972881
         },
         {
          "Kernel SHAP Values": 2.1938164047734996,
          "Sampled Average Effects": 2.090997033119202,
          "Sampled Dual Effects": 2.2392352294921873,
          "Sampled Primal Effects": 2.123580913543701,
          "True SHAP Values": 2.219532486997676
         },
         {
          "Kernel SHAP Values": 5.960309112911349,
          "Sampled Average Effects": 6.126092066764832,
          "Sampled Dual Effects": 5.9827976989746094,
          "Sampled Primal Effects": 5.897010154724121,
          "True SHAP Values": 6.0055361780066505
         },
         {
          "Kernel SHAP Values": 0.4808699112991281,
          "Sampled Average Effects": 0.5091104209423065,
          "Sampled Dual Effects": 0.5345961380004883,
          "Sampled Primal Effects": 0.49051940321922305,
          "True SHAP Values": 0.47871783673994256
         },
         {
          "Kernel SHAP Values": -2.7033623008980467,
          "Sampled Average Effects": -2.83853226184845,
          "Sampled Dual Effects": -2.90642774105072,
          "Sampled Primal Effects": -2.8119591999053957,
          "True SHAP Values": -2.7030387207148374
         },
         {
          "Kernel SHAP Values": -2.3475058677748284,
          "Sampled Average Effects": -2.310609393119812,
          "Sampled Dual Effects": -2.274661741256714,
          "Sampled Primal Effects": -2.2920108318328856,
          "True SHAP Values": -2.2723030338239814
         },
         {
          "Kernel SHAP Values": 0.3441340062979789,
          "Sampled Average Effects": 0.3599289867281914,
          "Sampled Dual Effects": 0.3347042465209961,
          "Sampled Primal Effects": 0.3456005358695984,
          "True SHAP Values": 0.337398053392074
         },
         {
          "Kernel SHAP Values": 0.6214832051757587,
          "Sampled Average Effects": 0.5522752737998963,
          "Sampled Dual Effects": 0.5273206996917724,
          "Sampled Primal Effects": 0.4971536898612976,
          "True SHAP Values": 0.5409343690432153
         },
         {
          "Kernel SHAP Values": 0.8699282277501531,
          "Sampled Average Effects": 0.8888022966682911,
          "Sampled Dual Effects": 0.8669652581214905,
          "Sampled Primal Effects": 1.1914683389663696,
          "True SHAP Values": 0.9589194308934763
         },
         {
          "Kernel SHAP Values": -0.016829674609799956,
          "Sampled Average Effects": 0.11999706625938415,
          "Sampled Dual Effects": 0.0018315887451171874,
          "Sampled Primal Effects": 0.060369253158569336,
          "True SHAP Values": 0.04351843785392636
         },
         {
          "Kernel SHAP Values": 2.5523567294276854,
          "Sampled Average Effects": 2.603581624031067,
          "Sampled Dual Effects": 2.7005781936645508,
          "Sampled Primal Effects": 2.6774786472320558,
          "True SHAP Values": 2.711270085231841
         },
         {
          "Kernel SHAP Values": -0.11000087849049447,
          "Sampled Average Effects": -0.21417801484465598,
          "Sampled Dual Effects": -0.31737504959106444,
          "Sampled Primal Effects": -0.14398808717727662,
          "True SHAP Values": -0.19553068524029757
         },
         {
          "Kernel SHAP Values": 2.631759874472443,
          "Sampled Average Effects": 2.6681992292404173,
          "Sampled Dual Effects": 2.6740617847442625,
          "Sampled Primal Effects": 2.6888875770568847,
          "True SHAP Values": 2.6271668045683736
         }
        ]
       },
       "repeat": {
        "column": [
         "Sampled Average Effects",
         "Kernel SHAP Values"
        ]
       },
       "spec": {
        "data": {
         "name": "data-d8b67342b53cef7580cdb3b173d5b235"
        },
        "encoding": {
         "x": {
          "field": "True SHAP Values",
          "type": "quantitative"
         },
         "y": {
          "field": {
           "repeat": "column"
          },
          "type": "quantitative"
         }
        },
        "height": 300,
        "mark": {
         "filled": true,
         "type": "point"
        },
        "width": 300
       }
      },
      "image/png": "[encoded data removed]",
      "text/plain": [
       "<VegaLite 3 object>\n",
       "\n",
       "If you see this message, it means the renderer has not been properly enabled\n",
       "for the frontend that you are using. For more information, see\n",
       "https://altair-viz.github.io/user_guide/troubleshooting.html\n"
      ]
     },
     "execution_count": 15,
     "metadata": {},
     "output_type": "execute_result"
    }
   ],
   "source": [
    "alt.Chart(data_df).mark_point(filled=True).encode(\n",
    "    alt.X('True SHAP Values:Q'),\n",
    "    alt.Y(alt.repeat(\"column\"), type='quantitative')\n",
    ").properties(width=300, height=300).repeat(column=['Sampled Average Effects', 'Kernel SHAP Values'])"
   ]
  }
 ],
 "metadata": {
  "kernelspec": {
   "display_name": "Python 3",
   "language": "python",
   "name": "python3"
  },
  "language_info": {
   "codemirror_mode": {
    "name": "ipython",
    "version": 3
   },
   "file_extension": ".py",
   "mimetype": "text/x-python",
   "name": "python",
   "nbconvert_exporter": "python",
   "pygments_lexer": "ipython3",
   "version": "3.6.8"
  }
 },
 "nbformat": 4,
 "nbformat_minor": 4
}
