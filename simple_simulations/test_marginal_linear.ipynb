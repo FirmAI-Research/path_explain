{
 "cells": [
  {
   "cell_type": "code",
   "execution_count": 1,
   "metadata": {},
   "outputs": [],
   "source": [
    "import tensorflow as tf\n",
    "import numpy as np\n",
    "import pandas as pd\n",
    "import altair as alt\n",
    "import shap\n",
    "\n",
    "from interaction_effects.marginal import MarginalExplainer\n",
    "from interaction_effects import utils"
   ]
  },
  {
   "cell_type": "code",
   "execution_count": 2,
   "metadata": {},
   "outputs": [
    {
     "name": "stdout",
     "output_type": "stream",
     "text": [
      "WARNING:tensorflow:From /home/psturm/interaction_effects/utils.py:31: The name tf.enable_eager_execution is deprecated. Please use tf.compat.v1.enable_eager_execution instead.\n",
      "\n"
     ]
    }
   ],
   "source": [
    "utils.set_up_environment()"
   ]
  },
  {
   "cell_type": "code",
   "execution_count": 3,
   "metadata": {},
   "outputs": [],
   "source": [
    "n = 1000\n",
    "d = 3\n",
    "batch_size = 50\n",
    "learning_rate = 0.1"
   ]
  },
  {
   "cell_type": "code",
   "execution_count": 4,
   "metadata": {},
   "outputs": [],
   "source": [
    "W = np.array([-2.0, -3.0, 1.0])\n",
    "b = 0.0\n",
    "X = np.random.randn(n, d)\n",
    "y = np.dot(X, W) + b"
   ]
  },
  {
   "cell_type": "code",
   "execution_count": 5,
   "metadata": {},
   "outputs": [],
   "source": [
    "model = tf.keras.Sequential()\n",
    "model.add(tf.keras.Input(shape=(3,), batch_size=batch_size))\n",
    "model.add(tf.keras.layers.Dense(1, activation=None, use_bias=True))"
   ]
  },
  {
   "cell_type": "code",
   "execution_count": 6,
   "metadata": {},
   "outputs": [],
   "source": [
    "optimizer = tf.keras.optimizers.SGD(learning_rate=learning_rate)\n",
    "model.compile(optimizer=optimizer,\n",
    "              loss=tf.keras.losses.MSE,\n",
    "              metrics=[tf.keras.metrics.MeanAbsoluteError(), tf.keras.metrics.MeanSquaredError()])"
   ]
  },
  {
   "cell_type": "code",
   "execution_count": 7,
   "metadata": {},
   "outputs": [
    {
     "name": "stdout",
     "output_type": "stream",
     "text": [
      "Train on 1000 samples\n",
      "Epoch 1/10\n",
      "1000/1000 - 1s - loss: 2.8500 - mean_absolute_error: 0.8764 - mean_squared_error: 2.8500\n",
      "Epoch 2/10\n",
      "1000/1000 - 0s - loss: 3.9799e-04 - mean_absolute_error: 0.0103 - mean_squared_error: 3.9799e-04\n",
      "Epoch 3/10\n",
      "1000/1000 - 0s - loss: 6.6389e-08 - mean_absolute_error: 1.4123e-04 - mean_squared_error: 6.6389e-08\n",
      "Epoch 4/10\n",
      "1000/1000 - 0s - loss: 1.3945e-11 - mean_absolute_error: 2.1810e-06 - mean_squared_error: 1.3945e-11\n",
      "Epoch 5/10\n",
      "1000/1000 - 0s - loss: 1.4861e-13 - mean_absolute_error: 2.7141e-07 - mean_squared_error: 1.4861e-13\n",
      "Epoch 6/10\n",
      "1000/1000 - 0s - loss: 1.3461e-13 - mean_absolute_error: 2.5169e-07 - mean_squared_error: 1.3461e-13\n",
      "Epoch 7/10\n",
      "1000/1000 - 0s - loss: 1.3183e-13 - mean_absolute_error: 2.4972e-07 - mean_squared_error: 1.3183e-13\n",
      "Epoch 8/10\n",
      "1000/1000 - 0s - loss: 1.3200e-13 - mean_absolute_error: 2.5096e-07 - mean_squared_error: 1.3200e-13\n",
      "Epoch 9/10\n",
      "1000/1000 - 0s - loss: 1.0226e-13 - mean_absolute_error: 2.0987e-07 - mean_squared_error: 1.0226e-13\n",
      "Epoch 10/10\n",
      "1000/1000 - 0s - loss: 1.0234e-13 - mean_absolute_error: 2.0985e-07 - mean_squared_error: 1.0234e-13\n"
     ]
    },
    {
     "data": {
      "text/plain": [
       "<tensorflow.python.keras.callbacks.History at 0x7fc4e807f358>"
      ]
     },
     "execution_count": 7,
     "metadata": {},
     "output_type": "execute_result"
    }
   ],
   "source": [
    "model.fit(X, y, epochs=10, verbose=2)"
   ]
  },
  {
   "cell_type": "code",
   "execution_count": 8,
   "metadata": {},
   "outputs": [
    {
     "name": "stderr",
     "output_type": "stream",
     "text": [
      "100%|██████████| 20/20 [00:01<00:00, 16.52it/s]\n"
     ]
    }
   ],
   "source": [
    "primal_explainer = MarginalExplainer(model, X[20:], nsamples=800, representation='mobius')\n",
    "primal_effects = primal_explainer.explain(X[:20], verbose=True)"
   ]
  },
  {
   "cell_type": "code",
   "execution_count": 9,
   "metadata": {},
   "outputs": [
    {
     "name": "stderr",
     "output_type": "stream",
     "text": [
      "100%|██████████| 20/20 [00:01<00:00, 16.30it/s]\n"
     ]
    }
   ],
   "source": [
    "dual_explainer = MarginalExplainer(model, X[20:], nsamples=800, representation='comobius')\n",
    "dual_effects = dual_explainer.explain(X[:20], verbose=True)"
   ]
  },
  {
   "cell_type": "code",
   "execution_count": 10,
   "metadata": {},
   "outputs": [
    {
     "name": "stderr",
     "output_type": "stream",
     "text": [
      "100%|██████████| 20/20 [00:02<00:00,  8.89it/s]\n"
     ]
    }
   ],
   "source": [
    "average_explainer = MarginalExplainer(model, X[20:], nsamples=800, representation='average')\n",
    "average_effects = average_explainer.explain(X[:20], verbose=True)"
   ]
  },
  {
   "cell_type": "code",
   "execution_count": 11,
   "metadata": {},
   "outputs": [],
   "source": [
    "shap_values = X * W[np.newaxis, :]"
   ]
  },
  {
   "cell_type": "code",
   "execution_count": 12,
   "metadata": {},
   "outputs": [
    {
     "data": {
      "application/vnd.jupyter.widget-view+json": {
       "model_id": "1521d4e8f8ff4b76a906bd4cc7d6c98c",
       "version_major": 2,
       "version_minor": 0
      },
      "text/plain": [
       "HBox(children=(IntProgress(value=0, max=20), HTML(value='')))"
      ]
     },
     "metadata": {},
     "output_type": "display_data"
    },
    {
     "name": "stdout",
     "output_type": "stream",
     "text": [
      "\n"
     ]
    }
   ],
   "source": [
    "model_func = lambda x: model(x).numpy()\n",
    "kernel_explainer = shap.SamplingExplainer(model_func, X)\n",
    "kernel_shap = kernel_explainer.shap_values(X[:20])"
   ]
  },
  {
   "cell_type": "code",
   "execution_count": 13,
   "metadata": {},
   "outputs": [],
   "source": [
    "data_df = pd.DataFrame({\n",
    "    'True SHAP Values':        shap_values[:20].flatten(),\n",
    "    'Sampled Primal Effects':  primal_effects.flatten(),\n",
    "    'Sampled Dual Effects':    dual_effects.flatten(),\n",
    "    'Sampled Average Effects': average_effects.flatten(),\n",
    "    'Kernel SHAP Values':      kernel_shap.flatten()\n",
    "})"
   ]
  },
  {
   "cell_type": "code",
   "execution_count": 14,
   "metadata": {},
   "outputs": [
    {
     "data": {
      "application/vnd.vegalite.v3+json": {
       "$schema": "https://vega.github.io/schema/vega-lite/v3.3.0.json",
       "config": {
        "mark": {
         "tooltip": null
        },
        "view": {
         "height": 300,
         "width": 400
        }
       },
       "datasets": {
        "data-472e62771abdd1f36dbc9eeca48af498": [
         {
          "Kernel SHAP Values": 1.8787237296473136,
          "Sampled Average Effects": 0.11359706223011017,
          "Sampled Dual Effects": 0.08816269516944886,
          "Sampled Primal Effects": 0.09738553047180176,
          "True SHAP Values": 1.7604958331577563
         },
         {
          "Kernel SHAP Values": 4.067130343005674,
          "Sampled Average Effects": 0.2623643857240677,
          "Sampled Dual Effects": 0.24391295075416564,
          "Sampled Primal Effects": 0.2525609397888184,
          "True SHAP Values": 4.178848051514261
         },
         {
          "Kernel SHAP Values": -0.09669789872590519,
          "Sampled Average Effects": -0.008651029765605927,
          "Sampled Dual Effects": -0.020871118307113648,
          "Sampled Primal Effects": -0.010781450271606445,
          "True SHAP Values": -0.1340243016533409
         },
         {
          "Kernel SHAP Values": 1.7338324348169398,
          "Sampled Average Effects": 0.119899587566033,
          "Sampled Dual Effects": 0.10495573984459043,
          "Sampled Primal Effects": 0.10988654136657715,
          "True SHAP Values": 1.7320252441106376
         },
         {
          "Kernel SHAP Values": -2.858195355187226,
          "Sampled Average Effects": -0.18182164198718964,
          "Sampled Dual Effects": -0.1983303071372211,
          "Sampled Primal Effects": -0.1558625316619873,
          "True SHAP Values": -2.8956456896066047
         },
         {
          "Kernel SHAP Values": 1.2665405367716538,
          "Sampled Average Effects": 0.0906824826542288,
          "Sampled Dual Effects": 0.07471264826133847,
          "Sampled Primal Effects": 0.07572778701782226,
          "True SHAP Values": 1.261960900161279
         },
         {
          "Kernel SHAP Values": -0.8557188445329889,
          "Sampled Average Effects": -0.06815165307372809,
          "Sampled Dual Effects": -0.05089421324431896,
          "Sampled Primal Effects": -0.06512412071228027,
          "True SHAP Values": -0.88002594901674
         },
         {
          "Kernel SHAP Values": 0.8098776863545734,
          "Sampled Average Effects": -0.011215992234647275,
          "Sampled Dual Effects": 0.05698942609131336,
          "Sampled Primal Effects": 0.08101222991943359,
          "True SHAP Values": 0.8822529581322731
         },
         {
          "Kernel SHAP Values": 0.16834182742865783,
          "Sampled Average Effects": 0.00362856637686491,
          "Sampled Dual Effects": 0.008144032433629036,
          "Sampled Primal Effects": 0.008476610183715821,
          "True SHAP Values": 0.07643689716226375
         },
         {
          "Kernel SHAP Values": -0.32257478879108376,
          "Sampled Average Effects": -0.0003488238155841827,
          "Sampled Dual Effects": -0.010706908702850342,
          "Sampled Primal Effects": -0.011268880367279053,
          "True SHAP Values": -0.43066711216837145
         },
         {
          "Kernel SHAP Values": 4.098812666365921,
          "Sampled Average Effects": 0.24599798798561096,
          "Sampled Dual Effects": 0.24652158975601196,
          "Sampled Primal Effects": 0.2826890563964844,
          "True SHAP Values": 4.181246916469084
         },
         {
          "Kernel SHAP Values": 0.914744239868497,
          "Sampled Average Effects": 0.0604555070400238,
          "Sampled Dual Effects": 0.06258353471755981,
          "Sampled Primal Effects": 0.0627448558807373,
          "True SHAP Values": 0.8965657021850717
         },
         {
          "Kernel SHAP Values": -0.8157194248627085,
          "Sampled Average Effects": -0.10252453736960888,
          "Sampled Dual Effects": -0.06529808863997459,
          "Sampled Primal Effects": -0.039009487628936766,
          "True SHAP Values": -0.8737728324956667
         },
         {
          "Kernel SHAP Values": 1.4209827450647632,
          "Sampled Average Effects": 0.11662482805550098,
          "Sampled Dual Effects": 0.08172986641526223,
          "Sampled Primal Effects": 0.06533008098602294,
          "True SHAP Values": 1.4435927585076451
         },
         {
          "Kernel SHAP Values": -0.17650156064600975,
          "Sampled Average Effects": -0.004165366217494011,
          "Sampled Dual Effects": -0.004186624139547348,
          "Sampled Primal Effects": -0.010409331321716309,
          "True SHAP Values": -0.18489484747566962
         },
         {
          "Kernel SHAP Values": -3.379949978796401,
          "Sampled Average Effects": -0.21604739904403686,
          "Sampled Dual Effects": -0.22041043281555175,
          "Sampled Primal Effects": -0.21033489227294921,
          "True SHAP Values": -3.3789329294504524
         },
         {
          "Kernel SHAP Values": -2.347767707983325,
          "Sampled Average Effects": -0.10847861766815185,
          "Sampled Dual Effects": -0.1283852767944336,
          "Sampled Primal Effects": -0.1464426326751709,
          "True SHAP Values": -2.288809104685462
         },
         {
          "Kernel SHAP Values": 1.0695738672435755,
          "Sampled Average Effects": 0.06826705694198608,
          "Sampled Dual Effects": 0.05678211212158203,
          "Sampled Primal Effects": 0.0671431827545166,
          "True SHAP Values": 0.9657609350763303
         },
         {
          "Kernel SHAP Values": -0.27385582059579716,
          "Sampled Average Effects": -0.007921395003795623,
          "Sampled Dual Effects": -0.01279721736907959,
          "Sampled Primal Effects": 0.014776463508605958,
          "True SHAP Values": -0.3631365861066322
         },
         {
          "Kernel SHAP Values": -4.144383486370661,
          "Sampled Average Effects": -0.2669038490206003,
          "Sampled Dual Effects": -0.2399539351463318,
          "Sampled Primal Effects": -0.29702550888061524,
          "True SHAP Values": -4.1830402998863825
         },
         {
          "Kernel SHAP Values": 0.20919412413990032,
          "Sampled Average Effects": 0.006687196493148803,
          "Sampled Dual Effects": 0.025100140571594237,
          "Sampled Primal Effects": 0.010212937593460083,
          "True SHAP Values": 0.29329463379732335
         },
         {
          "Kernel SHAP Values": -2.4217410686984135,
          "Sampled Average Effects": -0.16273089677095412,
          "Sampled Dual Effects": -0.13250017702579497,
          "Sampled Primal Effects": -0.15376283645629882,
          "True SHAP Values": -2.440745298444517
         },
         {
          "Kernel SHAP Values": 4.073040398045944,
          "Sampled Average Effects": 0.26627152174711227,
          "Sampled Dual Effects": 0.2953276389837265,
          "Sampled Primal Effects": 0.27692241668701173,
          "True SHAP Values": 4.058598353451452
         },
         {
          "Kernel SHAP Values": -0.1806401834853622,
          "Sampled Average Effects": -0.01098504215478897,
          "Sampled Dual Effects": -0.008667150139808654,
          "Sampled Primal Effects": -0.005117650032043457,
          "True SHAP Values": -0.19103021312573756
         },
         {
          "Kernel SHAP Values": -2.1423207993309887,
          "Sampled Average Effects": -0.16258516788482666,
          "Sampled Dual Effects": -0.1345057201385498,
          "Sampled Primal Effects": -0.15268386840820314,
          "True SHAP Values": -2.1307135895132694
         },
         {
          "Kernel SHAP Values": -4.506661551098102,
          "Sampled Average Effects": -0.23086650371551515,
          "Sampled Dual Effects": -0.29107210159301755,
          "Sampled Primal Effects": -0.2465690231323242,
          "True SHAP Values": -4.413971246524975
         },
         {
          "Kernel SHAP Values": 0.31934877742859524,
          "Sampled Average Effects": -0.009498178660869598,
          "Sampled Dual Effects": 0.011829195022583007,
          "Sampled Primal Effects": 0.010936362743377686,
          "True SHAP Values": 0.17121386411188952
         },
         {
          "Kernel SHAP Values": 2.308405418239812,
          "Sampled Average Effects": 0.1433715459704399,
          "Sampled Dual Effects": 0.1367439502477646,
          "Sampled Primal Effects": 0.14158353805541993,
          "True SHAP Values": 2.208090534699436
         },
         {
          "Kernel SHAP Values": -2.897985404078027,
          "Sampled Average Effects": -0.1943265202641487,
          "Sampled Dual Effects": -0.13692372858524324,
          "Sampled Primal Effects": -0.11301639556884766,
          "True SHAP Values": -2.9772129841640353
         },
         {
          "Kernel SHAP Values": -1.2077699770585388,
          "Sampled Average Effects": -0.06678415089845657,
          "Sampled Dual Effects": -0.06971840918064118,
          "Sampled Primal Effects": -0.06465304374694825,
          "True SHAP Values": -1.0720644002069677
         },
         {
          "Kernel SHAP Values": 6.909265605705942,
          "Sampled Average Effects": 0.4350755190849304,
          "Sampled Dual Effects": 0.4424441385269165,
          "Sampled Primal Effects": 0.416695556640625,
          "True SHAP Values": 6.847420254218051
         },
         {
          "Kernel SHAP Values": 2.4567583874077523,
          "Sampled Average Effects": 0.17546879053115844,
          "Sampled Dual Effects": 0.1755283784866333,
          "Sampled Primal Effects": 0.12100715637207031,
          "True SHAP Values": 2.6046258645343925
         },
         {
          "Kernel SHAP Values": -0.34777424906623877,
          "Sampled Average Effects": -0.04528486728668213,
          "Sampled Dual Effects": -0.034598803520202635,
          "Sampled Primal Effects": -0.03007095813751221,
          "True SHAP Values": -0.47763298959121286
         },
         {
          "Kernel SHAP Values": -0.42706569911123254,
          "Sampled Average Effects": -0.01731866329908371,
          "Sampled Dual Effects": -0.007392683625221252,
          "Sampled Primal Effects": -0.04200501441955566,
          "True SHAP Values": -0.3655157622306237
         },
         {
          "Kernel SHAP Values": -1.5953250333301447,
          "Sampled Average Effects": -0.07821529656648636,
          "Sampled Dual Effects": -0.08578326761722564,
          "Sampled Primal Effects": -0.09482919692993164,
          "True SHAP Values": -1.720558934390001
         },
         {
          "Kernel SHAP Values": 3.1611063451136747,
          "Sampled Average Effects": 0.1851182147860527,
          "Sampled Dual Effects": 0.18150063931941987,
          "Sampled Primal Effects": 0.19375381469726563,
          "True SHAP Values": 3.180953403970772
         },
         {
          "Kernel SHAP Values": -0.8466572665610413,
          "Sampled Average Effects": -0.027128489315509798,
          "Sampled Dual Effects": -0.05330824911594391,
          "Sampled Primal Effects": -0.07061354160308837,
          "True SHAP Values": -0.8218921000156406
         },
         {
          "Kernel SHAP Values": 0.48206484193536786,
          "Sampled Average Effects": 0.0276101216673851,
          "Sampled Dual Effects": 0.037420796751976015,
          "Sampled Primal Effects": 0.019984432458877564,
          "True SHAP Values": 0.40216944679950717
         },
         {
          "Kernel SHAP Values": -1.78946037298925,
          "Sampled Average Effects": -0.11591657906770707,
          "Sampled Dual Effects": -0.08882575571537017,
          "Sampled Primal Effects": -0.11298714637756348,
          "True SHAP Values": -1.7781668322963977
         },
         {
          "Kernel SHAP Values": -1.7920682044194551,
          "Sampled Average Effects": -0.13428148806095122,
          "Sampled Dual Effects": -0.11306951642036438,
          "Sampled Primal Effects": -0.11749083518981934,
          "True SHAP Values": -1.9434204733504807
         },
         {
          "Kernel SHAP Values": -4.233558904206117,
          "Sampled Average Effects": -0.2943495184183121,
          "Sampled Dual Effects": -0.28538002133369444,
          "Sampled Primal Effects": -0.2556828498840332,
          "True SHAP Values": -4.175896125253594
         },
         {
          "Kernel SHAP Values": -1.4410765233006364,
          "Sampled Average Effects": -0.10024223864078521,
          "Sampled Dual Effects": -0.10149770855903625,
          "Sampled Primal Effects": -0.07878640651702881,
          "True SHAP Values": -1.3912245138202273
         },
         {
          "Kernel SHAP Values": -3.4962217405978513,
          "Sampled Average Effects": -0.23050571024417876,
          "Sampled Dual Effects": -0.22329951882362364,
          "Sampled Primal Effects": -0.238056640625,
          "True SHAP Values": -3.544022351043706
         },
         {
          "Kernel SHAP Values": 1.708347639947991,
          "Sampled Average Effects": 0.11540850222110749,
          "Sampled Dual Effects": 0.08020402073860168,
          "Sampled Primal Effects": 0.14070077896118163,
          "True SHAP Values": 1.6389686058856252
         },
         {
          "Kernel SHAP Values": -1.655631418329719,
          "Sampled Average Effects": -0.10741728246212005,
          "Sampled Dual Effects": -0.10190576434135437,
          "Sampled Primal Effects": -0.09451113700866699,
          "True SHAP Values": -1.5822885035543697
         },
         {
          "Kernel SHAP Values": 0.8952455829071762,
          "Sampled Average Effects": 0.07112530291080475,
          "Sampled Dual Effects": 0.04292373597621918,
          "Sampled Primal Effects": 0.06597769260406494,
          "True SHAP Values": 0.9183031676129658
         },
         {
          "Kernel SHAP Values": 1.4885637501826414,
          "Sampled Average Effects": 0.11967245280742646,
          "Sampled Dual Effects": 0.11115122199058533,
          "Sampled Primal Effects": 0.11128267288208007,
          "True SHAP Values": 1.490466436139412
         },
         {
          "Kernel SHAP Values": -1.5202422840919714,
          "Sampled Average Effects": -0.087137992978096,
          "Sampled Dual Effects": -0.09699684739112854,
          "Sampled Primal Effects": -0.08736025810241699,
          "True SHAP Values": -1.5890393278657027
         },
         {
          "Kernel SHAP Values": -0.4188431033212634,
          "Sampled Average Effects": -0.03780027985572815,
          "Sampled Dual Effects": -0.02678945779800415,
          "Sampled Primal Effects": -0.011045448780059815,
          "True SHAP Values": -0.3218890293255878
         },
         {
          "Kernel SHAP Values": 1.7410293454872052,
          "Sampled Average Effects": 0.1181081223487854,
          "Sampled Dual Effects": 0.11129044055938721,
          "Sampled Primal Effects": 0.12363828659057617,
          "True SHAP Values": 1.6382305153274532
         },
         {
          "Kernel SHAP Values": 1.1229861804588466,
          "Sampled Average Effects": 0.07401557326316834,
          "Sampled Dual Effects": 0.06408246755599975,
          "Sampled Primal Effects": 0.08436009407043457,
          "True SHAP Values": 1.0849945536738534
         },
         {
          "Kernel SHAP Values": 2.766352207431166,
          "Sampled Average Effects": 0.15823748767375945,
          "Sampled Dual Effects": 0.1595615804195404,
          "Sampled Primal Effects": 0.18142904281616212,
          "True SHAP Values": 2.5813119943416902
         },
         {
          "Kernel SHAP Values": 1.9501541616932336,
          "Sampled Average Effects": 0.14630937755107878,
          "Sampled Dual Effects": 0.154713853597641,
          "Sampled Primal Effects": 0.17284683227539063,
          "True SHAP Values": 2.0326145847751267
         },
         {
          "Kernel SHAP Values": 0.2412799855145216,
          "Sampled Average Effects": 0.017454028725624085,
          "Sampled Dual Effects": 0.015369237661361694,
          "Sampled Primal Effects": 0.009886205196380615,
          "True SHAP Values": 0.30002326567677323
         },
         {
          "Kernel SHAP Values": -1.5519403260879443,
          "Sampled Average Effects": -0.08222907423973083,
          "Sampled Dual Effects": -0.0888854956626892,
          "Sampled Primal Effects": -0.10466812133789062,
          "True SHAP Values": -1.5030087533977592
         },
         {
          "Kernel SHAP Values": -3.7437116086491398,
          "Sampled Average Effects": -0.21132644534111023,
          "Sampled Dual Effects": -0.2454921317100525,
          "Sampled Primal Effects": -0.28805305480957033,
          "True SHAP Values": -3.7512241070953953
         },
         {
          "Kernel SHAP Values": -0.5222045914170832,
          "Sampled Average Effects": -0.036566201448440555,
          "Sampled Dual Effects": -0.03149404287338257,
          "Sampled Primal Effects": -0.046530051231384276,
          "True SHAP Values": -0.6074608001342457
         },
         {
          "Kernel SHAP Values": 0.3798544426262692,
          "Sampled Average Effects": -0.009607178121805192,
          "Sampled Dual Effects": 0.03851639240980148,
          "Sampled Primal Effects": 0.03321079254150391,
          "True SHAP Values": 0.21413322378591243
         },
         {
          "Kernel SHAP Values": 1.9252250114377787,
          "Sampled Average Effects": 0.12311203941702843,
          "Sampled Dual Effects": 0.06126716524362564,
          "Sampled Primal Effects": 0.14025470733642578,
          "True SHAP Values": 1.9967151374590941
         },
         {
          "Kernel SHAP Values": -1.189817241650889,
          "Sampled Average Effects": -0.06195140615105629,
          "Sampled Dual Effects": -0.08860321074724198,
          "Sampled Primal Effects": -0.07696932792663574,
          "True SHAP Values": -1.1394227592373543
         }
        ]
       },
       "repeat": {
        "column": [
         "Sampled Primal Effects",
         "Sampled Dual Effects"
        ]
       },
       "spec": {
        "data": {
         "name": "data-472e62771abdd1f36dbc9eeca48af498"
        },
        "encoding": {
         "x": {
          "field": "True SHAP Values",
          "type": "quantitative"
         },
         "y": {
          "field": {
           "repeat": "column"
          },
          "type": "quantitative"
         }
        },
        "height": 300,
        "mark": {
         "filled": true,
         "type": "point"
        },
        "width": 300
       }
      },
      "image/png": "[encoded data removed]",
      "text/plain": [
       "<VegaLite 3 object>\n",
       "\n",
       "If you see this message, it means the renderer has not been properly enabled\n",
       "for the frontend that you are using. For more information, see\n",
       "https://altair-viz.github.io/user_guide/troubleshooting.html\n"
      ]
     },
     "execution_count": 14,
     "metadata": {},
     "output_type": "execute_result"
    }
   ],
   "source": [
    "alt.Chart(data_df).mark_point(filled=True).encode(\n",
    "    alt.X('True SHAP Values:Q'),\n",
    "    alt.Y(alt.repeat(\"column\"), type='quantitative')\n",
    ").properties(width=300, height=300).repeat(column=['Sampled Primal Effects', 'Sampled Dual Effects'])"
   ]
  },
  {
   "cell_type": "code",
   "execution_count": 15,
   "metadata": {},
   "outputs": [
    {
     "data": {
      "application/vnd.vegalite.v3+json": {
       "$schema": "https://vega.github.io/schema/vega-lite/v3.3.0.json",
       "config": {
        "mark": {
         "tooltip": null
        },
        "view": {
         "height": 300,
         "width": 400
        }
       },
       "datasets": {
        "data-472e62771abdd1f36dbc9eeca48af498": [
         {
          "Kernel SHAP Values": 1.8787237296473136,
          "Sampled Average Effects": 0.11359706223011017,
          "Sampled Dual Effects": 0.08816269516944886,
          "Sampled Primal Effects": 0.09738553047180176,
          "True SHAP Values": 1.7604958331577563
         },
         {
          "Kernel SHAP Values": 4.067130343005674,
          "Sampled Average Effects": 0.2623643857240677,
          "Sampled Dual Effects": 0.24391295075416564,
          "Sampled Primal Effects": 0.2525609397888184,
          "True SHAP Values": 4.178848051514261
         },
         {
          "Kernel SHAP Values": -0.09669789872590519,
          "Sampled Average Effects": -0.008651029765605927,
          "Sampled Dual Effects": -0.020871118307113648,
          "Sampled Primal Effects": -0.010781450271606445,
          "True SHAP Values": -0.1340243016533409
         },
         {
          "Kernel SHAP Values": 1.7338324348169398,
          "Sampled Average Effects": 0.119899587566033,
          "Sampled Dual Effects": 0.10495573984459043,
          "Sampled Primal Effects": 0.10988654136657715,
          "True SHAP Values": 1.7320252441106376
         },
         {
          "Kernel SHAP Values": -2.858195355187226,
          "Sampled Average Effects": -0.18182164198718964,
          "Sampled Dual Effects": -0.1983303071372211,
          "Sampled Primal Effects": -0.1558625316619873,
          "True SHAP Values": -2.8956456896066047
         },
         {
          "Kernel SHAP Values": 1.2665405367716538,
          "Sampled Average Effects": 0.0906824826542288,
          "Sampled Dual Effects": 0.07471264826133847,
          "Sampled Primal Effects": 0.07572778701782226,
          "True SHAP Values": 1.261960900161279
         },
         {
          "Kernel SHAP Values": -0.8557188445329889,
          "Sampled Average Effects": -0.06815165307372809,
          "Sampled Dual Effects": -0.05089421324431896,
          "Sampled Primal Effects": -0.06512412071228027,
          "True SHAP Values": -0.88002594901674
         },
         {
          "Kernel SHAP Values": 0.8098776863545734,
          "Sampled Average Effects": -0.011215992234647275,
          "Sampled Dual Effects": 0.05698942609131336,
          "Sampled Primal Effects": 0.08101222991943359,
          "True SHAP Values": 0.8822529581322731
         },
         {
          "Kernel SHAP Values": 0.16834182742865783,
          "Sampled Average Effects": 0.00362856637686491,
          "Sampled Dual Effects": 0.008144032433629036,
          "Sampled Primal Effects": 0.008476610183715821,
          "True SHAP Values": 0.07643689716226375
         },
         {
          "Kernel SHAP Values": -0.32257478879108376,
          "Sampled Average Effects": -0.0003488238155841827,
          "Sampled Dual Effects": -0.010706908702850342,
          "Sampled Primal Effects": -0.011268880367279053,
          "True SHAP Values": -0.43066711216837145
         },
         {
          "Kernel SHAP Values": 4.098812666365921,
          "Sampled Average Effects": 0.24599798798561096,
          "Sampled Dual Effects": 0.24652158975601196,
          "Sampled Primal Effects": 0.2826890563964844,
          "True SHAP Values": 4.181246916469084
         },
         {
          "Kernel SHAP Values": 0.914744239868497,
          "Sampled Average Effects": 0.0604555070400238,
          "Sampled Dual Effects": 0.06258353471755981,
          "Sampled Primal Effects": 0.0627448558807373,
          "True SHAP Values": 0.8965657021850717
         },
         {
          "Kernel SHAP Values": -0.8157194248627085,
          "Sampled Average Effects": -0.10252453736960888,
          "Sampled Dual Effects": -0.06529808863997459,
          "Sampled Primal Effects": -0.039009487628936766,
          "True SHAP Values": -0.8737728324956667
         },
         {
          "Kernel SHAP Values": 1.4209827450647632,
          "Sampled Average Effects": 0.11662482805550098,
          "Sampled Dual Effects": 0.08172986641526223,
          "Sampled Primal Effects": 0.06533008098602294,
          "True SHAP Values": 1.4435927585076451
         },
         {
          "Kernel SHAP Values": -0.17650156064600975,
          "Sampled Average Effects": -0.004165366217494011,
          "Sampled Dual Effects": -0.004186624139547348,
          "Sampled Primal Effects": -0.010409331321716309,
          "True SHAP Values": -0.18489484747566962
         },
         {
          "Kernel SHAP Values": -3.379949978796401,
          "Sampled Average Effects": -0.21604739904403686,
          "Sampled Dual Effects": -0.22041043281555175,
          "Sampled Primal Effects": -0.21033489227294921,
          "True SHAP Values": -3.3789329294504524
         },
         {
          "Kernel SHAP Values": -2.347767707983325,
          "Sampled Average Effects": -0.10847861766815185,
          "Sampled Dual Effects": -0.1283852767944336,
          "Sampled Primal Effects": -0.1464426326751709,
          "True SHAP Values": -2.288809104685462
         },
         {
          "Kernel SHAP Values": 1.0695738672435755,
          "Sampled Average Effects": 0.06826705694198608,
          "Sampled Dual Effects": 0.05678211212158203,
          "Sampled Primal Effects": 0.0671431827545166,
          "True SHAP Values": 0.9657609350763303
         },
         {
          "Kernel SHAP Values": -0.27385582059579716,
          "Sampled Average Effects": -0.007921395003795623,
          "Sampled Dual Effects": -0.01279721736907959,
          "Sampled Primal Effects": 0.014776463508605958,
          "True SHAP Values": -0.3631365861066322
         },
         {
          "Kernel SHAP Values": -4.144383486370661,
          "Sampled Average Effects": -0.2669038490206003,
          "Sampled Dual Effects": -0.2399539351463318,
          "Sampled Primal Effects": -0.29702550888061524,
          "True SHAP Values": -4.1830402998863825
         },
         {
          "Kernel SHAP Values": 0.20919412413990032,
          "Sampled Average Effects": 0.006687196493148803,
          "Sampled Dual Effects": 0.025100140571594237,
          "Sampled Primal Effects": 0.010212937593460083,
          "True SHAP Values": 0.29329463379732335
         },
         {
          "Kernel SHAP Values": -2.4217410686984135,
          "Sampled Average Effects": -0.16273089677095412,
          "Sampled Dual Effects": -0.13250017702579497,
          "Sampled Primal Effects": -0.15376283645629882,
          "True SHAP Values": -2.440745298444517
         },
         {
          "Kernel SHAP Values": 4.073040398045944,
          "Sampled Average Effects": 0.26627152174711227,
          "Sampled Dual Effects": 0.2953276389837265,
          "Sampled Primal Effects": 0.27692241668701173,
          "True SHAP Values": 4.058598353451452
         },
         {
          "Kernel SHAP Values": -0.1806401834853622,
          "Sampled Average Effects": -0.01098504215478897,
          "Sampled Dual Effects": -0.008667150139808654,
          "Sampled Primal Effects": -0.005117650032043457,
          "True SHAP Values": -0.19103021312573756
         },
         {
          "Kernel SHAP Values": -2.1423207993309887,
          "Sampled Average Effects": -0.16258516788482666,
          "Sampled Dual Effects": -0.1345057201385498,
          "Sampled Primal Effects": -0.15268386840820314,
          "True SHAP Values": -2.1307135895132694
         },
         {
          "Kernel SHAP Values": -4.506661551098102,
          "Sampled Average Effects": -0.23086650371551515,
          "Sampled Dual Effects": -0.29107210159301755,
          "Sampled Primal Effects": -0.2465690231323242,
          "True SHAP Values": -4.413971246524975
         },
         {
          "Kernel SHAP Values": 0.31934877742859524,
          "Sampled Average Effects": -0.009498178660869598,
          "Sampled Dual Effects": 0.011829195022583007,
          "Sampled Primal Effects": 0.010936362743377686,
          "True SHAP Values": 0.17121386411188952
         },
         {
          "Kernel SHAP Values": 2.308405418239812,
          "Sampled Average Effects": 0.1433715459704399,
          "Sampled Dual Effects": 0.1367439502477646,
          "Sampled Primal Effects": 0.14158353805541993,
          "True SHAP Values": 2.208090534699436
         },
         {
          "Kernel SHAP Values": -2.897985404078027,
          "Sampled Average Effects": -0.1943265202641487,
          "Sampled Dual Effects": -0.13692372858524324,
          "Sampled Primal Effects": -0.11301639556884766,
          "True SHAP Values": -2.9772129841640353
         },
         {
          "Kernel SHAP Values": -1.2077699770585388,
          "Sampled Average Effects": -0.06678415089845657,
          "Sampled Dual Effects": -0.06971840918064118,
          "Sampled Primal Effects": -0.06465304374694825,
          "True SHAP Values": -1.0720644002069677
         },
         {
          "Kernel SHAP Values": 6.909265605705942,
          "Sampled Average Effects": 0.4350755190849304,
          "Sampled Dual Effects": 0.4424441385269165,
          "Sampled Primal Effects": 0.416695556640625,
          "True SHAP Values": 6.847420254218051
         },
         {
          "Kernel SHAP Values": 2.4567583874077523,
          "Sampled Average Effects": 0.17546879053115844,
          "Sampled Dual Effects": 0.1755283784866333,
          "Sampled Primal Effects": 0.12100715637207031,
          "True SHAP Values": 2.6046258645343925
         },
         {
          "Kernel SHAP Values": -0.34777424906623877,
          "Sampled Average Effects": -0.04528486728668213,
          "Sampled Dual Effects": -0.034598803520202635,
          "Sampled Primal Effects": -0.03007095813751221,
          "True SHAP Values": -0.47763298959121286
         },
         {
          "Kernel SHAP Values": -0.42706569911123254,
          "Sampled Average Effects": -0.01731866329908371,
          "Sampled Dual Effects": -0.007392683625221252,
          "Sampled Primal Effects": -0.04200501441955566,
          "True SHAP Values": -0.3655157622306237
         },
         {
          "Kernel SHAP Values": -1.5953250333301447,
          "Sampled Average Effects": -0.07821529656648636,
          "Sampled Dual Effects": -0.08578326761722564,
          "Sampled Primal Effects": -0.09482919692993164,
          "True SHAP Values": -1.720558934390001
         },
         {
          "Kernel SHAP Values": 3.1611063451136747,
          "Sampled Average Effects": 0.1851182147860527,
          "Sampled Dual Effects": 0.18150063931941987,
          "Sampled Primal Effects": 0.19375381469726563,
          "True SHAP Values": 3.180953403970772
         },
         {
          "Kernel SHAP Values": -0.8466572665610413,
          "Sampled Average Effects": -0.027128489315509798,
          "Sampled Dual Effects": -0.05330824911594391,
          "Sampled Primal Effects": -0.07061354160308837,
          "True SHAP Values": -0.8218921000156406
         },
         {
          "Kernel SHAP Values": 0.48206484193536786,
          "Sampled Average Effects": 0.0276101216673851,
          "Sampled Dual Effects": 0.037420796751976015,
          "Sampled Primal Effects": 0.019984432458877564,
          "True SHAP Values": 0.40216944679950717
         },
         {
          "Kernel SHAP Values": -1.78946037298925,
          "Sampled Average Effects": -0.11591657906770707,
          "Sampled Dual Effects": -0.08882575571537017,
          "Sampled Primal Effects": -0.11298714637756348,
          "True SHAP Values": -1.7781668322963977
         },
         {
          "Kernel SHAP Values": -1.7920682044194551,
          "Sampled Average Effects": -0.13428148806095122,
          "Sampled Dual Effects": -0.11306951642036438,
          "Sampled Primal Effects": -0.11749083518981934,
          "True SHAP Values": -1.9434204733504807
         },
         {
          "Kernel SHAP Values": -4.233558904206117,
          "Sampled Average Effects": -0.2943495184183121,
          "Sampled Dual Effects": -0.28538002133369444,
          "Sampled Primal Effects": -0.2556828498840332,
          "True SHAP Values": -4.175896125253594
         },
         {
          "Kernel SHAP Values": -1.4410765233006364,
          "Sampled Average Effects": -0.10024223864078521,
          "Sampled Dual Effects": -0.10149770855903625,
          "Sampled Primal Effects": -0.07878640651702881,
          "True SHAP Values": -1.3912245138202273
         },
         {
          "Kernel SHAP Values": -3.4962217405978513,
          "Sampled Average Effects": -0.23050571024417876,
          "Sampled Dual Effects": -0.22329951882362364,
          "Sampled Primal Effects": -0.238056640625,
          "True SHAP Values": -3.544022351043706
         },
         {
          "Kernel SHAP Values": 1.708347639947991,
          "Sampled Average Effects": 0.11540850222110749,
          "Sampled Dual Effects": 0.08020402073860168,
          "Sampled Primal Effects": 0.14070077896118163,
          "True SHAP Values": 1.6389686058856252
         },
         {
          "Kernel SHAP Values": -1.655631418329719,
          "Sampled Average Effects": -0.10741728246212005,
          "Sampled Dual Effects": -0.10190576434135437,
          "Sampled Primal Effects": -0.09451113700866699,
          "True SHAP Values": -1.5822885035543697
         },
         {
          "Kernel SHAP Values": 0.8952455829071762,
          "Sampled Average Effects": 0.07112530291080475,
          "Sampled Dual Effects": 0.04292373597621918,
          "Sampled Primal Effects": 0.06597769260406494,
          "True SHAP Values": 0.9183031676129658
         },
         {
          "Kernel SHAP Values": 1.4885637501826414,
          "Sampled Average Effects": 0.11967245280742646,
          "Sampled Dual Effects": 0.11115122199058533,
          "Sampled Primal Effects": 0.11128267288208007,
          "True SHAP Values": 1.490466436139412
         },
         {
          "Kernel SHAP Values": -1.5202422840919714,
          "Sampled Average Effects": -0.087137992978096,
          "Sampled Dual Effects": -0.09699684739112854,
          "Sampled Primal Effects": -0.08736025810241699,
          "True SHAP Values": -1.5890393278657027
         },
         {
          "Kernel SHAP Values": -0.4188431033212634,
          "Sampled Average Effects": -0.03780027985572815,
          "Sampled Dual Effects": -0.02678945779800415,
          "Sampled Primal Effects": -0.011045448780059815,
          "True SHAP Values": -0.3218890293255878
         },
         {
          "Kernel SHAP Values": 1.7410293454872052,
          "Sampled Average Effects": 0.1181081223487854,
          "Sampled Dual Effects": 0.11129044055938721,
          "Sampled Primal Effects": 0.12363828659057617,
          "True SHAP Values": 1.6382305153274532
         },
         {
          "Kernel SHAP Values": 1.1229861804588466,
          "Sampled Average Effects": 0.07401557326316834,
          "Sampled Dual Effects": 0.06408246755599975,
          "Sampled Primal Effects": 0.08436009407043457,
          "True SHAP Values": 1.0849945536738534
         },
         {
          "Kernel SHAP Values": 2.766352207431166,
          "Sampled Average Effects": 0.15823748767375945,
          "Sampled Dual Effects": 0.1595615804195404,
          "Sampled Primal Effects": 0.18142904281616212,
          "True SHAP Values": 2.5813119943416902
         },
         {
          "Kernel SHAP Values": 1.9501541616932336,
          "Sampled Average Effects": 0.14630937755107878,
          "Sampled Dual Effects": 0.154713853597641,
          "Sampled Primal Effects": 0.17284683227539063,
          "True SHAP Values": 2.0326145847751267
         },
         {
          "Kernel SHAP Values": 0.2412799855145216,
          "Sampled Average Effects": 0.017454028725624085,
          "Sampled Dual Effects": 0.015369237661361694,
          "Sampled Primal Effects": 0.009886205196380615,
          "True SHAP Values": 0.30002326567677323
         },
         {
          "Kernel SHAP Values": -1.5519403260879443,
          "Sampled Average Effects": -0.08222907423973083,
          "Sampled Dual Effects": -0.0888854956626892,
          "Sampled Primal Effects": -0.10466812133789062,
          "True SHAP Values": -1.5030087533977592
         },
         {
          "Kernel SHAP Values": -3.7437116086491398,
          "Sampled Average Effects": -0.21132644534111023,
          "Sampled Dual Effects": -0.2454921317100525,
          "Sampled Primal Effects": -0.28805305480957033,
          "True SHAP Values": -3.7512241070953953
         },
         {
          "Kernel SHAP Values": -0.5222045914170832,
          "Sampled Average Effects": -0.036566201448440555,
          "Sampled Dual Effects": -0.03149404287338257,
          "Sampled Primal Effects": -0.046530051231384276,
          "True SHAP Values": -0.6074608001342457
         },
         {
          "Kernel SHAP Values": 0.3798544426262692,
          "Sampled Average Effects": -0.009607178121805192,
          "Sampled Dual Effects": 0.03851639240980148,
          "Sampled Primal Effects": 0.03321079254150391,
          "True SHAP Values": 0.21413322378591243
         },
         {
          "Kernel SHAP Values": 1.9252250114377787,
          "Sampled Average Effects": 0.12311203941702843,
          "Sampled Dual Effects": 0.06126716524362564,
          "Sampled Primal Effects": 0.14025470733642578,
          "True SHAP Values": 1.9967151374590941
         },
         {
          "Kernel SHAP Values": -1.189817241650889,
          "Sampled Average Effects": -0.06195140615105629,
          "Sampled Dual Effects": -0.08860321074724198,
          "Sampled Primal Effects": -0.07696932792663574,
          "True SHAP Values": -1.1394227592373543
         }
        ]
       },
       "repeat": {
        "column": [
         "Sampled Average Effects",
         "Kernel SHAP Values"
        ]
       },
       "spec": {
        "data": {
         "name": "data-472e62771abdd1f36dbc9eeca48af498"
        },
        "encoding": {
         "x": {
          "field": "True SHAP Values",
          "type": "quantitative"
         },
         "y": {
          "field": {
           "repeat": "column"
          },
          "type": "quantitative"
         }
        },
        "height": 300,
        "mark": {
         "filled": true,
         "type": "point"
        },
        "width": 300
       }
      },
      "image/png": "[encoded data removed]",
      "text/plain": [
       "<VegaLite 3 object>\n",
       "\n",
       "If you see this message, it means the renderer has not been properly enabled\n",
       "for the frontend that you are using. For more information, see\n",
       "https://altair-viz.github.io/user_guide/troubleshooting.html\n"
      ]
     },
     "execution_count": 15,
     "metadata": {},
     "output_type": "execute_result"
    }
   ],
   "source": [
    "alt.Chart(data_df).mark_point(filled=True).encode(\n",
    "    alt.X('True SHAP Values:Q'),\n",
    "    alt.Y(alt.repeat(\"column\"), type='quantitative')\n",
    ").properties(width=300, height=300).repeat(column=['Sampled Average Effects', 'Kernel SHAP Values'])"
   ]
  }
 ],
 "metadata": {
  "kernelspec": {
   "display_name": "Python 3",
   "language": "python",
   "name": "python3"
  },
  "language_info": {
   "codemirror_mode": {
    "name": "ipython",
    "version": 3
   },
   "file_extension": ".py",
   "mimetype": "text/x-python",
   "name": "python",
   "nbconvert_exporter": "python",
   "pygments_lexer": "ipython3",
   "version": "3.6.8"
  }
 },
 "nbformat": 4,
 "nbformat_minor": 4
}
