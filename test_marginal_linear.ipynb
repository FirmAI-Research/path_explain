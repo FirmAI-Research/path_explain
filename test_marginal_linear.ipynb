{
 "cells": [
  {
   "cell_type": "code",
   "execution_count": 1,
   "metadata": {},
   "outputs": [],
   "source": [
    "import tensorflow as tf\n",
    "import numpy as np\n",
    "import pandas as pd\n",
    "import altair as alt\n",
    "import shap\n",
    "\n",
    "from marginal import MarginalExplainer"
   ]
  },
  {
   "cell_type": "code",
   "execution_count": 2,
   "metadata": {},
   "outputs": [],
   "source": [
    "n = 1000\n",
    "d = 3\n",
    "batch_size = 50\n",
    "learning_rate = 0.1"
   ]
  },
  {
   "cell_type": "code",
   "execution_count": 3,
   "metadata": {},
   "outputs": [],
   "source": [
    "W = np.array([-2.0, -3.0, 1.0])\n",
    "b = 0.0\n",
    "X = np.random.randn(n, d)\n",
    "y = np.dot(X, W) + b"
   ]
  },
  {
   "cell_type": "code",
   "execution_count": 4,
   "metadata": {},
   "outputs": [],
   "source": [
    "model = tf.keras.Sequential()\n",
    "model.add(tf.keras.Input(shape=(3,), batch_size=batch_size))\n",
    "model.add(tf.keras.layers.Dense(1, activation=None, use_bias=True))"
   ]
  },
  {
   "cell_type": "code",
   "execution_count": 5,
   "metadata": {},
   "outputs": [],
   "source": [
    "optimizer = tf.keras.optimizers.SGD(learning_rate=learning_rate)\n",
    "model.compile(optimizer=optimizer,\n",
    "              loss=tf.keras.losses.MSE,\n",
    "              metrics=[tf.keras.metrics.MeanAbsoluteError(), tf.keras.metrics.MeanSquaredError()])"
   ]
  },
  {
   "cell_type": "code",
   "execution_count": 6,
   "metadata": {},
   "outputs": [
    {
     "name": "stdout",
     "output_type": "stream",
     "text": [
      "Train on 1000 samples\n",
      "Epoch 1/10\n",
      "1000/1000 - 0s - loss: 2.8206 - mean_absolute_error: 0.8756 - mean_squared_error: 2.8206\n",
      "Epoch 2/10\n",
      "1000/1000 - 0s - loss: 3.9005e-04 - mean_absolute_error: 0.0106 - mean_squared_error: 3.9005e-04\n",
      "Epoch 3/10\n",
      "1000/1000 - 0s - loss: 9.0093e-08 - mean_absolute_error: 1.6508e-04 - mean_squared_error: 9.0093e-08\n",
      "Epoch 4/10\n",
      "1000/1000 - 0s - loss: 2.4735e-11 - mean_absolute_error: 2.7208e-06 - mean_squared_error: 2.4735e-11\n",
      "Epoch 5/10\n",
      "1000/1000 - 0s - loss: 9.6802e-14 - mean_absolute_error: 2.0796e-07 - mean_squared_error: 9.6802e-14\n",
      "Epoch 6/10\n",
      "1000/1000 - 0s - loss: 8.5593e-14 - mean_absolute_error: 1.9065e-07 - mean_squared_error: 8.5593e-14\n",
      "Epoch 7/10\n",
      "1000/1000 - 0s - loss: 8.5751e-14 - mean_absolute_error: 1.9156e-07 - mean_squared_error: 8.5751e-14\n",
      "Epoch 8/10\n",
      "1000/1000 - 0s - loss: 8.5576e-14 - mean_absolute_error: 1.9113e-07 - mean_squared_error: 8.5576e-14\n",
      "Epoch 9/10\n",
      "1000/1000 - 0s - loss: 8.5957e-14 - mean_absolute_error: 1.9202e-07 - mean_squared_error: 8.5957e-14\n",
      "Epoch 10/10\n",
      "1000/1000 - 0s - loss: 8.5716e-14 - mean_absolute_error: 1.9150e-07 - mean_squared_error: 8.5716e-14\n"
     ]
    },
    {
     "data": {
      "text/plain": [
       "<tensorflow.python.keras.callbacks.History at 0x7f69c37f1f98>"
      ]
     },
     "execution_count": 6,
     "metadata": {},
     "output_type": "execute_result"
    }
   ],
   "source": [
    "model.fit(X, y, epochs=10, verbose=2)"
   ]
  },
  {
   "cell_type": "code",
   "execution_count": 7,
   "metadata": {},
   "outputs": [
    {
     "name": "stderr",
     "output_type": "stream",
     "text": [
      "  0%|          | 0/20 [00:00<?, ?it/s]WARNING: Logging before flag parsing goes to stderr.\n",
      "W1021 14:50:34.899194 140094045292352 base_layer.py:1814] Layer dense is casting an input tensor from dtype float64 to the layer's dtype of float32, which is new behavior in TensorFlow 2.  The layer has dtype float32 because it's dtype defaults to floatx.\n",
      "\n",
      "If you intended to run this layer in float32, you can safely ignore this warning. If in doubt, this warning is likely only an issue if you are porting a TensorFlow 1.X model to TensorFlow 2.\n",
      "\n",
      "To change all layers to have dtype float64 by default, call `tf.keras.backend.set_floatx('float64')`. To change just this layer, pass dtype='float64' to the layer constructor. If you are the author of this layer, you can disable autocasting by passing autocast=False to the base Layer constructor.\n",
      "\n",
      "100%|██████████| 20/20 [00:01<00:00, 19.95it/s]\n"
     ]
    }
   ],
   "source": [
    "primal_explainer = MarginalExplainer(model, X[20:], nsamples=800, representation='mobius')\n",
    "primal_effects = primal_explainer.explain(X[:20], verbose=True)"
   ]
  },
  {
   "cell_type": "code",
   "execution_count": 8,
   "metadata": {},
   "outputs": [
    {
     "name": "stderr",
     "output_type": "stream",
     "text": [
      "100%|██████████| 20/20 [00:01<00:00, 19.05it/s]\n"
     ]
    }
   ],
   "source": [
    "dual_explainer = MarginalExplainer(model, X[20:], nsamples=800, representation='comobius')\n",
    "dual_effects = dual_explainer.explain(X[:20], verbose=True)"
   ]
  },
  {
   "cell_type": "code",
   "execution_count": 9,
   "metadata": {},
   "outputs": [
    {
     "name": "stderr",
     "output_type": "stream",
     "text": [
      "100%|██████████| 20/20 [00:01<00:00, 11.16it/s]\n"
     ]
    }
   ],
   "source": [
    "average_explainer = MarginalExplainer(model, X[20:], nsamples=800, representation='average')\n",
    "average_effects = average_explainer.explain(X[:20], verbose=True)"
   ]
  },
  {
   "cell_type": "code",
   "execution_count": 10,
   "metadata": {},
   "outputs": [],
   "source": [
    "shap_values = X * W[np.newaxis, :]"
   ]
  },
  {
   "cell_type": "code",
   "execution_count": 11,
   "metadata": {},
   "outputs": [
    {
     "data": {
      "application/vnd.jupyter.widget-view+json": {
       "model_id": "9cd17b99983d40cf9669c0c3405b449f",
       "version_major": 2,
       "version_minor": 0
      },
      "text/plain": [
       "HBox(children=(IntProgress(value=0, max=20), HTML(value='')))"
      ]
     },
     "metadata": {},
     "output_type": "display_data"
    },
    {
     "name": "stdout",
     "output_type": "stream",
     "text": [
      "\n"
     ]
    }
   ],
   "source": [
    "model_func = lambda x: model(x).numpy()\n",
    "kernel_explainer = shap.SamplingExplainer(model_func, X)\n",
    "kernel_shap = kernel_explainer.shap_values(X[:20])"
   ]
  },
  {
   "cell_type": "code",
   "execution_count": 12,
   "metadata": {},
   "outputs": [],
   "source": [
    "data_df = pd.DataFrame({\n",
    "    'True SHAP Values':        shap_values[:20].flatten(),\n",
    "    'Sampled Primal Effects':  primal_effects.flatten(),\n",
    "    'Sampled Dual Effects':    dual_effects.flatten(),\n",
    "    'Sampled Average Effects': average_effects.flatten(),\n",
    "    'Kernel SHAP Values':      kernel_shap.flatten()\n",
    "})"
   ]
  },
  {
   "cell_type": "code",
   "execution_count": 16,
   "metadata": {},
   "outputs": [
    {
     "data": {
      "application/vnd.vegalite.v3+json": {
       "$schema": "https://vega.github.io/schema/vega-lite/v3.2.1.json",
       "config": {
        "mark": {
         "tooltip": null
        },
        "view": {
         "height": 300,
         "width": 400
        }
       },
       "datasets": {
        "data-e62c4cfc4c62af44c1c3dc75c31a78ec": [
         {
          "Kernel SHAP Values": -0.18262557399274895,
          "Sampled Average Effects": -0.12241408348083496,
          "Sampled Dual Effects": -0.26011655807495115,
          "Sampled Primal Effects": -0.18631214261054993,
          "True SHAP Values": -0.3039985390156388
         },
         {
          "Kernel SHAP Values": 4.107198615260917,
          "Sampled Average Effects": 4.012592620551586,
          "Sampled Dual Effects": 4.11981919825077,
          "Sampled Primal Effects": 4.138040390014648,
          "True SHAP Values": 4.168579385296754
         },
         {
          "Kernel SHAP Values": 1.2172574780685814,
          "Sampled Average Effects": 1.1299868416786194,
          "Sampled Dual Effects": 1.2097377586364746,
          "Sampled Primal Effects": 1.1209297609329223,
          "True SHAP Values": 1.0936632439710596
         },
         {
          "Kernel SHAP Values": -2.500821417918678,
          "Sampled Average Effects": -2.520270788669586,
          "Sampled Dual Effects": -2.506898589134216,
          "Sampled Primal Effects": -2.653431396484375,
          "True SHAP Values": -2.6231803726644554
         },
         {
          "Kernel SHAP Values": 1.5078080065360029,
          "Sampled Average Effects": 1.6198851737380027,
          "Sampled Dual Effects": 1.7292151796817778,
          "Sampled Primal Effects": 1.8113305616378783,
          "True SHAP Values": 1.617857185662657
         },
         {
          "Kernel SHAP Values": 1.901700633554121,
          "Sampled Average Effects": 1.7046831369400024,
          "Sampled Dual Effects": 1.7462294101715088,
          "Sampled Primal Effects": 1.7686696243286133,
          "True SHAP Values": 1.730424064628525
         },
         {
          "Kernel SHAP Values": 1.9136088946372551,
          "Sampled Average Effects": 2.0307173204421995,
          "Sampled Dual Effects": 1.8460629844665528,
          "Sampled Primal Effects": 1.962102117538452,
          "True SHAP Values": 1.859883504117105
         },
         {
          "Kernel SHAP Values": 4.626252372074861,
          "Sampled Average Effects": 4.6860867415368554,
          "Sampled Dual Effects": 4.545019432306289,
          "Sampled Primal Effects": 4.664867782592774,
          "True SHAP Values": 4.586034470994315
         },
         {
          "Kernel SHAP Values": -1.7089682670435,
          "Sampled Average Effects": -1.7768619394302367,
          "Sampled Dual Effects": -1.8203194046020508,
          "Sampled Primal Effects": -1.7498000812530519,
          "True SHAP Values": -1.7986117664792607
         },
         {
          "Kernel SHAP Values": -2.429680504184743,
          "Sampled Average Effects": -2.342716684341431,
          "Sampled Dual Effects": -2.4000256729125975,
          "Sampled Primal Effects": -2.2825749778747557,
          "True SHAP Values": -2.4618114822233443
         },
         {
          "Kernel SHAP Values": 7.987301279536052,
          "Sampled Average Effects": 7.966605396270752,
          "Sampled Dual Effects": 8.137843208312988,
          "Sampled Primal Effects": 7.741946449279785,
          "True SHAP Values": 7.834373275867682
         },
         {
          "Kernel SHAP Values": -1.631387954076453,
          "Sampled Average Effects": -1.6066845560073852,
          "Sampled Dual Effects": -1.5730448532104493,
          "Sampled Primal Effects": -1.5896844577789306,
          "True SHAP Values": -1.6299151718757814
         },
         {
          "Kernel SHAP Values": -0.9424051426268722,
          "Sampled Average Effects": -0.8377362942695618,
          "Sampled Dual Effects": -0.7459768104553223,
          "Sampled Primal Effects": -0.9131555390357972,
          "True SHAP Values": -0.961934243607741
         },
         {
          "Kernel SHAP Values": 7.338176067359271,
          "Sampled Average Effects": 7.0883649653196334,
          "Sampled Dual Effects": 7.003802723884583,
          "Sampled Primal Effects": 7.2734660720825195,
          "True SHAP Values": 7.175384421119775
         },
         {
          "Kernel SHAP Values": 0.12971231276787742,
          "Sampled Average Effects": 0.2113329526782036,
          "Sampled Dual Effects": 0.19050031661987304,
          "Sampled Primal Effects": 0.11413629472255707,
          "True SHAP Values": 0.12844640148416606
         },
         {
          "Kernel SHAP Values": 2.322725307383151,
          "Sampled Average Effects": 2.251743905544281,
          "Sampled Dual Effects": 2.342380123138428,
          "Sampled Primal Effects": 2.0887065887451173,
          "True SHAP Values": 2.143577750436489
         },
         {
          "Kernel SHAP Values": 1.9013137429773015,
          "Sampled Average Effects": 1.7480908513069153,
          "Sampled Dual Effects": 1.8436942529678344,
          "Sampled Primal Effects": 1.929853916168213,
          "True SHAP Values": 1.8264028780834283
         },
         {
          "Kernel SHAP Values": -0.5565929855940115,
          "Sampled Average Effects": -0.4135663515329361,
          "Sampled Dual Effects": -0.45666879653930664,
          "Sampled Primal Effects": -0.45954402804374694,
          "True SHAP Values": -0.48612088887602484
         },
         {
          "Kernel SHAP Values": -1.7444269990639816,
          "Sampled Average Effects": -1.6938524270057678,
          "Sampled Dual Effects": -1.8522362613677978,
          "Sampled Primal Effects": -1.7567081928253174,
          "True SHAP Values": -1.822630030081525
         },
         {
          "Kernel SHAP Values": -1.242506315617832,
          "Sampled Average Effects": -1.3983205604553222,
          "Sampled Dual Effects": -1.4476543617248536,
          "Sampled Primal Effects": -1.2666855335235596,
          "True SHAP Values": -1.3429218336192488
         },
         {
          "Kernel SHAP Values": -0.3799972645839282,
          "Sampled Average Effects": -0.36356951415538785,
          "Sampled Dual Effects": -0.3383217906951904,
          "Sampled Primal Effects": -0.2767218732833862,
          "True SHAP Values": -0.3849657205432552
         },
         {
          "Kernel SHAP Values": -0.994288004673319,
          "Sampled Average Effects": -1.1963016700744629,
          "Sampled Dual Effects": -1.0206810569763183,
          "Sampled Primal Effects": -1.1517632961273194,
          "True SHAP Values": -1.1771516572408505
         },
         {
          "Kernel SHAP Values": -1.7895976661762096,
          "Sampled Average Effects": -1.7900856763124466,
          "Sampled Dual Effects": -1.8398224326968193,
          "Sampled Primal Effects": -1.8335170221328736,
          "True SHAP Values": -1.791644890063818
         },
         {
          "Kernel SHAP Values": 0.7135479145491548,
          "Sampled Average Effects": 0.7288584578037262,
          "Sampled Dual Effects": 0.7358378410339356,
          "Sampled Primal Effects": 0.7101763367652894,
          "True SHAP Values": 0.7148717596180159
         },
         {
          "Kernel SHAP Values": 2.0582339121388404,
          "Sampled Average Effects": 1.9791066789627074,
          "Sampled Dual Effects": 2.0578250956535338,
          "Sampled Primal Effects": 2.070972032546997,
          "True SHAP Values": 1.9652029492798815
         },
         {
          "Kernel SHAP Values": -1.6349904611495463,
          "Sampled Average Effects": -1.5885240757465362,
          "Sampled Dual Effects": -1.7728697562217712,
          "Sampled Primal Effects": -1.722531671524048,
          "True SHAP Values": -1.6961116412834523
         },
         {
          "Kernel SHAP Values": 0.6672607443112698,
          "Sampled Average Effects": 0.6518950551748276,
          "Sampled Dual Effects": 0.6417783960700035,
          "Sampled Primal Effects": 0.6795766854286194,
          "True SHAP Values": 0.6378262475491396
         },
         {
          "Kernel SHAP Values": 2.039314051016495,
          "Sampled Average Effects": 1.9753508949279786,
          "Sampled Dual Effects": 1.8173952198028565,
          "Sampled Primal Effects": 1.9245642375946046,
          "True SHAP Values": 1.8172608617400805
         },
         {
          "Kernel SHAP Values": -1.5330509392287734,
          "Sampled Average Effects": -1.5218971055746078,
          "Sampled Dual Effects": -1.5424985253810883,
          "Sampled Primal Effects": -1.3202683734893799,
          "True SHAP Values": -1.513007221908317
         },
         {
          "Kernel SHAP Values": -0.9136265536409199,
          "Sampled Average Effects": -0.9171047827601433,
          "Sampled Dual Effects": -0.9201487201452255,
          "Sampled Primal Effects": -0.9095988416671753,
          "True SHAP Values": -0.8952037100383435
         },
         {
          "Kernel SHAP Values": -0.21586128468674842,
          "Sampled Average Effects": -0.1586565253138542,
          "Sampled Dual Effects": -0.13346580505371095,
          "Sampled Primal Effects": -0.26075093597173693,
          "True SHAP Values": -0.2653479404021959
         },
         {
          "Kernel SHAP Values": 3.5584303591482014,
          "Sampled Average Effects": 3.6897427082061767,
          "Sampled Dual Effects": 3.4595734238624574,
          "Sampled Primal Effects": 3.5373986053466795,
          "True SHAP Values": 3.5030851999378747
         },
         {
          "Kernel SHAP Values": -1.261750239283961,
          "Sampled Average Effects": -1.2790036916732788,
          "Sampled Dual Effects": -1.2711704826354981,
          "Sampled Primal Effects": -1.2893051767349244,
          "True SHAP Values": -1.3405048870406224
         },
         {
          "Kernel SHAP Values": 2.512953114203057,
          "Sampled Average Effects": 2.340294512026012,
          "Sampled Dual Effects": 2.3879574492573736,
          "Sampled Primal Effects": 2.389989471435547,
          "True SHAP Values": 2.2912189751981114
         },
         {
          "Kernel SHAP Values": 0.6507055822763219,
          "Sampled Average Effects": 0.7346929860115051,
          "Sampled Dual Effects": 0.6074730062484741,
          "Sampled Primal Effects": 0.6740315723419189,
          "True SHAP Values": 0.7109040519004688
         },
         {
          "Kernel SHAP Values": -0.44968523387201015,
          "Sampled Average Effects": -0.4339117807149887,
          "Sampled Dual Effects": -0.4165018463134766,
          "Sampled Primal Effects": -0.4771041750907898,
          "True SHAP Values": -0.471735923669833
         },
         {
          "Kernel SHAP Values": -2.3781477618961286,
          "Sampled Average Effects": -2.3345595000684263,
          "Sampled Dual Effects": -2.328694820702076,
          "Sampled Primal Effects": -2.2767117118835447,
          "True SHAP Values": -2.492129444303034
         },
         {
          "Kernel SHAP Values": 2.8034322233999234,
          "Sampled Average Effects": 2.549956817626953,
          "Sampled Dual Effects": 2.5665786552429197,
          "Sampled Primal Effects": 2.714764060974121,
          "True SHAP Values": 2.7291253428113387
         },
         {
          "Kernel SHAP Values": -2.610809806188534,
          "Sampled Average Effects": -2.595637718141079,
          "Sampled Dual Effects": -2.6010496935248373,
          "Sampled Primal Effects": -2.5836927986145017,
          "True SHAP Values": -2.6061077376309965
         },
         {
          "Kernel SHAP Values": 5.15520248533963,
          "Sampled Average Effects": 5.079377388954162,
          "Sampled Dual Effects": 5.129804410934448,
          "Sampled Primal Effects": 5.149055004119873,
          "True SHAP Values": 5.10340001226
         },
         {
          "Kernel SHAP Values": -4.569922375630964,
          "Sampled Average Effects": -4.489742741584778,
          "Sampled Dual Effects": -4.658934450149536,
          "Sampled Primal Effects": -4.684063720703125,
          "True SHAP Values": -4.595047701781898
         },
         {
          "Kernel SHAP Values": 0.6896606933150976,
          "Sampled Average Effects": 0.6585958129167557,
          "Sampled Dual Effects": 0.6605487620830536,
          "Sampled Primal Effects": 0.670688648223877,
          "True SHAP Values": 0.5830013368612817
         },
         {
          "Kernel SHAP Values": -1.8060131077793493,
          "Sampled Average Effects": -2.042730906009674,
          "Sampled Dual Effects": -1.8915391445159913,
          "Sampled Primal Effects": -1.9426965618133545,
          "True SHAP Values": -2.0804085737526985
         },
         {
          "Kernel SHAP Values": 0.25554665897611845,
          "Sampled Average Effects": 0.25442936182022097,
          "Sampled Dual Effects": 0.2953117799758911,
          "Sampled Primal Effects": 0.26285857141017915,
          "True SHAP Values": 0.3191072167435704
         },
         {
          "Kernel SHAP Values": 0.9723175203612577,
          "Sampled Average Effects": 1.0662970876693725,
          "Sampled Dual Effects": 1.0415376091003419,
          "Sampled Primal Effects": 0.9927699470520019,
          "True SHAP Values": 0.9995657351339906
         },
         {
          "Kernel SHAP Values": 2.0563969048891417,
          "Sampled Average Effects": 2.0522193551063537,
          "Sampled Dual Effects": 2.068953456878662,
          "Sampled Primal Effects": 1.993031153678894,
          "True SHAP Values": 1.9868069157607766
         },
         {
          "Kernel SHAP Values": -1.162547042542067,
          "Sampled Average Effects": -1.336014873981476,
          "Sampled Dual Effects": -1.1932878494262695,
          "Sampled Primal Effects": -1.2212332105636596,
          "True SHAP Values": -1.2275797393855585
         },
         {
          "Kernel SHAP Values": -0.10530483086036928,
          "Sampled Average Effects": -0.08565377295017243,
          "Sampled Dual Effects": -0.11134039878845214,
          "Sampled Primal Effects": -0.14698106169700623,
          "True SHAP Values": -0.15426889803060861
         },
         {
          "Kernel SHAP Values": -2.5166488956596327,
          "Sampled Average Effects": -2.496213020682335,
          "Sampled Dual Effects": -2.541015852689743,
          "Sampled Primal Effects": -2.516514310836792,
          "True SHAP Values": -2.5617459596307794
         },
         {
          "Kernel SHAP Values": 3.622159565216936,
          "Sampled Average Effects": 3.6950944048166274,
          "Sampled Dual Effects": 3.399083329439163,
          "Sampled Primal Effects": 3.6127173042297365,
          "True SHAP Values": 3.593685331995303
         },
         {
          "Kernel SHAP Values": -1.3407580934684413,
          "Sampled Average Effects": -1.4114820450544356,
          "Sampled Dual Effects": -1.4179918134212495,
          "Sampled Primal Effects": -1.4332040214538575,
          "True SHAP Values": -1.4507731994251263
         },
         {
          "Kernel SHAP Values": -0.5903604959964073,
          "Sampled Average Effects": -0.44135095477104186,
          "Sampled Dual Effects": -0.42929264545440676,
          "Sampled Primal Effects": -0.5555118852853775,
          "True SHAP Values": -0.5361871481310391
         },
         {
          "Kernel SHAP Values": 1.5088390316336948,
          "Sampled Average Effects": 1.1485619163513183,
          "Sampled Dual Effects": 1.2196473681926727,
          "Sampled Primal Effects": 1.1574608850479127,
          "True SHAP Values": 1.3252080073328019
         },
         {
          "Kernel SHAP Values": -0.4428756113147921,
          "Sampled Average Effects": -0.4766557216644287,
          "Sampled Dual Effects": -0.4795741724967957,
          "Sampled Primal Effects": -0.4783189296722412,
          "True SHAP Values": -0.49700449145990644
         },
         {
          "Kernel SHAP Values": 1.0583089939315216,
          "Sampled Average Effects": 0.8982800883054733,
          "Sampled Dual Effects": 1.0103632509708405,
          "Sampled Primal Effects": 1.006479811668396,
          "True SHAP Values": 0.8760612763663395
         },
         {
          "Kernel SHAP Values": 0.3737550647753784,
          "Sampled Average Effects": 0.5031832498311997,
          "Sampled Dual Effects": 0.3912293565273285,
          "Sampled Primal Effects": 0.24659419655799866,
          "True SHAP Values": 0.42541740714350257
         },
         {
          "Kernel SHAP Values": -1.3306935646608817,
          "Sampled Average Effects": -1.3865053051710128,
          "Sampled Dual Effects": -1.2833100354671478,
          "Sampled Primal Effects": -1.3866912889480592,
          "True SHAP Values": -1.3836949306933382
         },
         {
          "Kernel SHAP Values": -1.5739678051553703,
          "Sampled Average Effects": -1.5823595905303955,
          "Sampled Dual Effects": -1.6040121555328368,
          "Sampled Primal Effects": -1.6572960090637208,
          "True SHAP Values": -1.6823975175418246
         },
         {
          "Kernel SHAP Values": -2.551564995542927,
          "Sampled Average Effects": -2.770000293403864,
          "Sampled Dual Effects": -2.6722007820010187,
          "Sampled Primal Effects": -2.698376188278198,
          "True SHAP Values": -2.6412142903187803
         },
         {
          "Kernel SHAP Values": 0.9427077363459073,
          "Sampled Average Effects": 0.995267972946167,
          "Sampled Dual Effects": 1.0381218910217285,
          "Sampled Primal Effects": 1.0546087265014648,
          "True SHAP Values": 0.9571999381448499
         }
        ]
       },
       "repeat": {
        "column": [
         "Sampled Primal Effects",
         "Sampled Dual Effects"
        ]
       },
       "spec": {
        "data": {
         "name": "data-e62c4cfc4c62af44c1c3dc75c31a78ec"
        },
        "encoding": {
         "x": {
          "field": "True SHAP Values",
          "type": "quantitative"
         },
         "y": {
          "field": {
           "repeat": "column"
          },
          "type": "quantitative"
         }
        },
        "height": 300,
        "mark": {
         "filled": true,
         "type": "point"
        },
        "width": 300
       }
      },
      "image/png": "[encoded data removed]",
      "text/plain": [
       "<VegaLite 3 object>\n",
       "\n",
       "If you see this message, it means the renderer has not been properly enabled\n",
       "for the frontend that you are using. For more information, see\n",
       "https://altair-viz.github.io/user_guide/troubleshooting.html\n"
      ]
     },
     "execution_count": 16,
     "metadata": {},
     "output_type": "execute_result"
    }
   ],
   "source": [
    "alt.Chart(data_df).mark_point(filled=True).encode(\n",
    "    alt.X('True SHAP Values:Q'),\n",
    "    alt.Y(alt.repeat(\"column\"), type='quantitative')\n",
    ").properties(width=300, height=300).repeat(column=['Sampled Primal Effects', 'Sampled Dual Effects'])"
   ]
  },
  {
   "cell_type": "code",
   "execution_count": 17,
   "metadata": {},
   "outputs": [
    {
     "data": {
      "application/vnd.vegalite.v3+json": {
       "$schema": "https://vega.github.io/schema/vega-lite/v3.2.1.json",
       "config": {
        "mark": {
         "tooltip": null
        },
        "view": {
         "height": 300,
         "width": 400
        }
       },
       "datasets": {
        "data-e62c4cfc4c62af44c1c3dc75c31a78ec": [
         {
          "Kernel SHAP Values": -0.18262557399274895,
          "Sampled Average Effects": -0.12241408348083496,
          "Sampled Dual Effects": -0.26011655807495115,
          "Sampled Primal Effects": -0.18631214261054993,
          "True SHAP Values": -0.3039985390156388
         },
         {
          "Kernel SHAP Values": 4.107198615260917,
          "Sampled Average Effects": 4.012592620551586,
          "Sampled Dual Effects": 4.11981919825077,
          "Sampled Primal Effects": 4.138040390014648,
          "True SHAP Values": 4.168579385296754
         },
         {
          "Kernel SHAP Values": 1.2172574780685814,
          "Sampled Average Effects": 1.1299868416786194,
          "Sampled Dual Effects": 1.2097377586364746,
          "Sampled Primal Effects": 1.1209297609329223,
          "True SHAP Values": 1.0936632439710596
         },
         {
          "Kernel SHAP Values": -2.500821417918678,
          "Sampled Average Effects": -2.520270788669586,
          "Sampled Dual Effects": -2.506898589134216,
          "Sampled Primal Effects": -2.653431396484375,
          "True SHAP Values": -2.6231803726644554
         },
         {
          "Kernel SHAP Values": 1.5078080065360029,
          "Sampled Average Effects": 1.6198851737380027,
          "Sampled Dual Effects": 1.7292151796817778,
          "Sampled Primal Effects": 1.8113305616378783,
          "True SHAP Values": 1.617857185662657
         },
         {
          "Kernel SHAP Values": 1.901700633554121,
          "Sampled Average Effects": 1.7046831369400024,
          "Sampled Dual Effects": 1.7462294101715088,
          "Sampled Primal Effects": 1.7686696243286133,
          "True SHAP Values": 1.730424064628525
         },
         {
          "Kernel SHAP Values": 1.9136088946372551,
          "Sampled Average Effects": 2.0307173204421995,
          "Sampled Dual Effects": 1.8460629844665528,
          "Sampled Primal Effects": 1.962102117538452,
          "True SHAP Values": 1.859883504117105
         },
         {
          "Kernel SHAP Values": 4.626252372074861,
          "Sampled Average Effects": 4.6860867415368554,
          "Sampled Dual Effects": 4.545019432306289,
          "Sampled Primal Effects": 4.664867782592774,
          "True SHAP Values": 4.586034470994315
         },
         {
          "Kernel SHAP Values": -1.7089682670435,
          "Sampled Average Effects": -1.7768619394302367,
          "Sampled Dual Effects": -1.8203194046020508,
          "Sampled Primal Effects": -1.7498000812530519,
          "True SHAP Values": -1.7986117664792607
         },
         {
          "Kernel SHAP Values": -2.429680504184743,
          "Sampled Average Effects": -2.342716684341431,
          "Sampled Dual Effects": -2.4000256729125975,
          "Sampled Primal Effects": -2.2825749778747557,
          "True SHAP Values": -2.4618114822233443
         },
         {
          "Kernel SHAP Values": 7.987301279536052,
          "Sampled Average Effects": 7.966605396270752,
          "Sampled Dual Effects": 8.137843208312988,
          "Sampled Primal Effects": 7.741946449279785,
          "True SHAP Values": 7.834373275867682
         },
         {
          "Kernel SHAP Values": -1.631387954076453,
          "Sampled Average Effects": -1.6066845560073852,
          "Sampled Dual Effects": -1.5730448532104493,
          "Sampled Primal Effects": -1.5896844577789306,
          "True SHAP Values": -1.6299151718757814
         },
         {
          "Kernel SHAP Values": -0.9424051426268722,
          "Sampled Average Effects": -0.8377362942695618,
          "Sampled Dual Effects": -0.7459768104553223,
          "Sampled Primal Effects": -0.9131555390357972,
          "True SHAP Values": -0.961934243607741
         },
         {
          "Kernel SHAP Values": 7.338176067359271,
          "Sampled Average Effects": 7.0883649653196334,
          "Sampled Dual Effects": 7.003802723884583,
          "Sampled Primal Effects": 7.2734660720825195,
          "True SHAP Values": 7.175384421119775
         },
         {
          "Kernel SHAP Values": 0.12971231276787742,
          "Sampled Average Effects": 0.2113329526782036,
          "Sampled Dual Effects": 0.19050031661987304,
          "Sampled Primal Effects": 0.11413629472255707,
          "True SHAP Values": 0.12844640148416606
         },
         {
          "Kernel SHAP Values": 2.322725307383151,
          "Sampled Average Effects": 2.251743905544281,
          "Sampled Dual Effects": 2.342380123138428,
          "Sampled Primal Effects": 2.0887065887451173,
          "True SHAP Values": 2.143577750436489
         },
         {
          "Kernel SHAP Values": 1.9013137429773015,
          "Sampled Average Effects": 1.7480908513069153,
          "Sampled Dual Effects": 1.8436942529678344,
          "Sampled Primal Effects": 1.929853916168213,
          "True SHAP Values": 1.8264028780834283
         },
         {
          "Kernel SHAP Values": -0.5565929855940115,
          "Sampled Average Effects": -0.4135663515329361,
          "Sampled Dual Effects": -0.45666879653930664,
          "Sampled Primal Effects": -0.45954402804374694,
          "True SHAP Values": -0.48612088887602484
         },
         {
          "Kernel SHAP Values": -1.7444269990639816,
          "Sampled Average Effects": -1.6938524270057678,
          "Sampled Dual Effects": -1.8522362613677978,
          "Sampled Primal Effects": -1.7567081928253174,
          "True SHAP Values": -1.822630030081525
         },
         {
          "Kernel SHAP Values": -1.242506315617832,
          "Sampled Average Effects": -1.3983205604553222,
          "Sampled Dual Effects": -1.4476543617248536,
          "Sampled Primal Effects": -1.2666855335235596,
          "True SHAP Values": -1.3429218336192488
         },
         {
          "Kernel SHAP Values": -0.3799972645839282,
          "Sampled Average Effects": -0.36356951415538785,
          "Sampled Dual Effects": -0.3383217906951904,
          "Sampled Primal Effects": -0.2767218732833862,
          "True SHAP Values": -0.3849657205432552
         },
         {
          "Kernel SHAP Values": -0.994288004673319,
          "Sampled Average Effects": -1.1963016700744629,
          "Sampled Dual Effects": -1.0206810569763183,
          "Sampled Primal Effects": -1.1517632961273194,
          "True SHAP Values": -1.1771516572408505
         },
         {
          "Kernel SHAP Values": -1.7895976661762096,
          "Sampled Average Effects": -1.7900856763124466,
          "Sampled Dual Effects": -1.8398224326968193,
          "Sampled Primal Effects": -1.8335170221328736,
          "True SHAP Values": -1.791644890063818
         },
         {
          "Kernel SHAP Values": 0.7135479145491548,
          "Sampled Average Effects": 0.7288584578037262,
          "Sampled Dual Effects": 0.7358378410339356,
          "Sampled Primal Effects": 0.7101763367652894,
          "True SHAP Values": 0.7148717596180159
         },
         {
          "Kernel SHAP Values": 2.0582339121388404,
          "Sampled Average Effects": 1.9791066789627074,
          "Sampled Dual Effects": 2.0578250956535338,
          "Sampled Primal Effects": 2.070972032546997,
          "True SHAP Values": 1.9652029492798815
         },
         {
          "Kernel SHAP Values": -1.6349904611495463,
          "Sampled Average Effects": -1.5885240757465362,
          "Sampled Dual Effects": -1.7728697562217712,
          "Sampled Primal Effects": -1.722531671524048,
          "True SHAP Values": -1.6961116412834523
         },
         {
          "Kernel SHAP Values": 0.6672607443112698,
          "Sampled Average Effects": 0.6518950551748276,
          "Sampled Dual Effects": 0.6417783960700035,
          "Sampled Primal Effects": 0.6795766854286194,
          "True SHAP Values": 0.6378262475491396
         },
         {
          "Kernel SHAP Values": 2.039314051016495,
          "Sampled Average Effects": 1.9753508949279786,
          "Sampled Dual Effects": 1.8173952198028565,
          "Sampled Primal Effects": 1.9245642375946046,
          "True SHAP Values": 1.8172608617400805
         },
         {
          "Kernel SHAP Values": -1.5330509392287734,
          "Sampled Average Effects": -1.5218971055746078,
          "Sampled Dual Effects": -1.5424985253810883,
          "Sampled Primal Effects": -1.3202683734893799,
          "True SHAP Values": -1.513007221908317
         },
         {
          "Kernel SHAP Values": -0.9136265536409199,
          "Sampled Average Effects": -0.9171047827601433,
          "Sampled Dual Effects": -0.9201487201452255,
          "Sampled Primal Effects": -0.9095988416671753,
          "True SHAP Values": -0.8952037100383435
         },
         {
          "Kernel SHAP Values": -0.21586128468674842,
          "Sampled Average Effects": -0.1586565253138542,
          "Sampled Dual Effects": -0.13346580505371095,
          "Sampled Primal Effects": -0.26075093597173693,
          "True SHAP Values": -0.2653479404021959
         },
         {
          "Kernel SHAP Values": 3.5584303591482014,
          "Sampled Average Effects": 3.6897427082061767,
          "Sampled Dual Effects": 3.4595734238624574,
          "Sampled Primal Effects": 3.5373986053466795,
          "True SHAP Values": 3.5030851999378747
         },
         {
          "Kernel SHAP Values": -1.261750239283961,
          "Sampled Average Effects": -1.2790036916732788,
          "Sampled Dual Effects": -1.2711704826354981,
          "Sampled Primal Effects": -1.2893051767349244,
          "True SHAP Values": -1.3405048870406224
         },
         {
          "Kernel SHAP Values": 2.512953114203057,
          "Sampled Average Effects": 2.340294512026012,
          "Sampled Dual Effects": 2.3879574492573736,
          "Sampled Primal Effects": 2.389989471435547,
          "True SHAP Values": 2.2912189751981114
         },
         {
          "Kernel SHAP Values": 0.6507055822763219,
          "Sampled Average Effects": 0.7346929860115051,
          "Sampled Dual Effects": 0.6074730062484741,
          "Sampled Primal Effects": 0.6740315723419189,
          "True SHAP Values": 0.7109040519004688
         },
         {
          "Kernel SHAP Values": -0.44968523387201015,
          "Sampled Average Effects": -0.4339117807149887,
          "Sampled Dual Effects": -0.4165018463134766,
          "Sampled Primal Effects": -0.4771041750907898,
          "True SHAP Values": -0.471735923669833
         },
         {
          "Kernel SHAP Values": -2.3781477618961286,
          "Sampled Average Effects": -2.3345595000684263,
          "Sampled Dual Effects": -2.328694820702076,
          "Sampled Primal Effects": -2.2767117118835447,
          "True SHAP Values": -2.492129444303034
         },
         {
          "Kernel SHAP Values": 2.8034322233999234,
          "Sampled Average Effects": 2.549956817626953,
          "Sampled Dual Effects": 2.5665786552429197,
          "Sampled Primal Effects": 2.714764060974121,
          "True SHAP Values": 2.7291253428113387
         },
         {
          "Kernel SHAP Values": -2.610809806188534,
          "Sampled Average Effects": -2.595637718141079,
          "Sampled Dual Effects": -2.6010496935248373,
          "Sampled Primal Effects": -2.5836927986145017,
          "True SHAP Values": -2.6061077376309965
         },
         {
          "Kernel SHAP Values": 5.15520248533963,
          "Sampled Average Effects": 5.079377388954162,
          "Sampled Dual Effects": 5.129804410934448,
          "Sampled Primal Effects": 5.149055004119873,
          "True SHAP Values": 5.10340001226
         },
         {
          "Kernel SHAP Values": -4.569922375630964,
          "Sampled Average Effects": -4.489742741584778,
          "Sampled Dual Effects": -4.658934450149536,
          "Sampled Primal Effects": -4.684063720703125,
          "True SHAP Values": -4.595047701781898
         },
         {
          "Kernel SHAP Values": 0.6896606933150976,
          "Sampled Average Effects": 0.6585958129167557,
          "Sampled Dual Effects": 0.6605487620830536,
          "Sampled Primal Effects": 0.670688648223877,
          "True SHAP Values": 0.5830013368612817
         },
         {
          "Kernel SHAP Values": -1.8060131077793493,
          "Sampled Average Effects": -2.042730906009674,
          "Sampled Dual Effects": -1.8915391445159913,
          "Sampled Primal Effects": -1.9426965618133545,
          "True SHAP Values": -2.0804085737526985
         },
         {
          "Kernel SHAP Values": 0.25554665897611845,
          "Sampled Average Effects": 0.25442936182022097,
          "Sampled Dual Effects": 0.2953117799758911,
          "Sampled Primal Effects": 0.26285857141017915,
          "True SHAP Values": 0.3191072167435704
         },
         {
          "Kernel SHAP Values": 0.9723175203612577,
          "Sampled Average Effects": 1.0662970876693725,
          "Sampled Dual Effects": 1.0415376091003419,
          "Sampled Primal Effects": 0.9927699470520019,
          "True SHAP Values": 0.9995657351339906
         },
         {
          "Kernel SHAP Values": 2.0563969048891417,
          "Sampled Average Effects": 2.0522193551063537,
          "Sampled Dual Effects": 2.068953456878662,
          "Sampled Primal Effects": 1.993031153678894,
          "True SHAP Values": 1.9868069157607766
         },
         {
          "Kernel SHAP Values": -1.162547042542067,
          "Sampled Average Effects": -1.336014873981476,
          "Sampled Dual Effects": -1.1932878494262695,
          "Sampled Primal Effects": -1.2212332105636596,
          "True SHAP Values": -1.2275797393855585
         },
         {
          "Kernel SHAP Values": -0.10530483086036928,
          "Sampled Average Effects": -0.08565377295017243,
          "Sampled Dual Effects": -0.11134039878845214,
          "Sampled Primal Effects": -0.14698106169700623,
          "True SHAP Values": -0.15426889803060861
         },
         {
          "Kernel SHAP Values": -2.5166488956596327,
          "Sampled Average Effects": -2.496213020682335,
          "Sampled Dual Effects": -2.541015852689743,
          "Sampled Primal Effects": -2.516514310836792,
          "True SHAP Values": -2.5617459596307794
         },
         {
          "Kernel SHAP Values": 3.622159565216936,
          "Sampled Average Effects": 3.6950944048166274,
          "Sampled Dual Effects": 3.399083329439163,
          "Sampled Primal Effects": 3.6127173042297365,
          "True SHAP Values": 3.593685331995303
         },
         {
          "Kernel SHAP Values": -1.3407580934684413,
          "Sampled Average Effects": -1.4114820450544356,
          "Sampled Dual Effects": -1.4179918134212495,
          "Sampled Primal Effects": -1.4332040214538575,
          "True SHAP Values": -1.4507731994251263
         },
         {
          "Kernel SHAP Values": -0.5903604959964073,
          "Sampled Average Effects": -0.44135095477104186,
          "Sampled Dual Effects": -0.42929264545440676,
          "Sampled Primal Effects": -0.5555118852853775,
          "True SHAP Values": -0.5361871481310391
         },
         {
          "Kernel SHAP Values": 1.5088390316336948,
          "Sampled Average Effects": 1.1485619163513183,
          "Sampled Dual Effects": 1.2196473681926727,
          "Sampled Primal Effects": 1.1574608850479127,
          "True SHAP Values": 1.3252080073328019
         },
         {
          "Kernel SHAP Values": -0.4428756113147921,
          "Sampled Average Effects": -0.4766557216644287,
          "Sampled Dual Effects": -0.4795741724967957,
          "Sampled Primal Effects": -0.4783189296722412,
          "True SHAP Values": -0.49700449145990644
         },
         {
          "Kernel SHAP Values": 1.0583089939315216,
          "Sampled Average Effects": 0.8982800883054733,
          "Sampled Dual Effects": 1.0103632509708405,
          "Sampled Primal Effects": 1.006479811668396,
          "True SHAP Values": 0.8760612763663395
         },
         {
          "Kernel SHAP Values": 0.3737550647753784,
          "Sampled Average Effects": 0.5031832498311997,
          "Sampled Dual Effects": 0.3912293565273285,
          "Sampled Primal Effects": 0.24659419655799866,
          "True SHAP Values": 0.42541740714350257
         },
         {
          "Kernel SHAP Values": -1.3306935646608817,
          "Sampled Average Effects": -1.3865053051710128,
          "Sampled Dual Effects": -1.2833100354671478,
          "Sampled Primal Effects": -1.3866912889480592,
          "True SHAP Values": -1.3836949306933382
         },
         {
          "Kernel SHAP Values": -1.5739678051553703,
          "Sampled Average Effects": -1.5823595905303955,
          "Sampled Dual Effects": -1.6040121555328368,
          "Sampled Primal Effects": -1.6572960090637208,
          "True SHAP Values": -1.6823975175418246
         },
         {
          "Kernel SHAP Values": -2.551564995542927,
          "Sampled Average Effects": -2.770000293403864,
          "Sampled Dual Effects": -2.6722007820010187,
          "Sampled Primal Effects": -2.698376188278198,
          "True SHAP Values": -2.6412142903187803
         },
         {
          "Kernel SHAP Values": 0.9427077363459073,
          "Sampled Average Effects": 0.995267972946167,
          "Sampled Dual Effects": 1.0381218910217285,
          "Sampled Primal Effects": 1.0546087265014648,
          "True SHAP Values": 0.9571999381448499
         }
        ]
       },
       "repeat": {
        "column": [
         "Sampled Average Effects",
         "Kernel SHAP Values"
        ]
       },
       "spec": {
        "data": {
         "name": "data-e62c4cfc4c62af44c1c3dc75c31a78ec"
        },
        "encoding": {
         "x": {
          "field": "True SHAP Values",
          "type": "quantitative"
         },
         "y": {
          "field": {
           "repeat": "column"
          },
          "type": "quantitative"
         }
        },
        "height": 300,
        "mark": {
         "filled": true,
         "type": "point"
        },
        "width": 300
       }
      },
      "image/png": "[encoded data removed]",
      "text/plain": [
       "<VegaLite 3 object>\n",
       "\n",
       "If you see this message, it means the renderer has not been properly enabled\n",
       "for the frontend that you are using. For more information, see\n",
       "https://altair-viz.github.io/user_guide/troubleshooting.html\n"
      ]
     },
     "execution_count": 17,
     "metadata": {},
     "output_type": "execute_result"
    }
   ],
   "source": [
    "alt.Chart(data_df).mark_point(filled=True).encode(\n",
    "    alt.X('True SHAP Values:Q'),\n",
    "    alt.Y(alt.repeat(\"column\"), type='quantitative')\n",
    ").properties(width=300, height=300).repeat(column=['Sampled Average Effects', 'Kernel SHAP Values'])"
   ]
  }
 ],
 "metadata": {
  "kernelspec": {
   "display_name": "Python 3",
   "language": "python",
   "name": "python3"
  },
  "language_info": {
   "codemirror_mode": {
    "name": "ipython",
    "version": 3
   },
   "file_extension": ".py",
   "mimetype": "text/x-python",
   "name": "python",
   "nbconvert_exporter": "python",
   "pygments_lexer": "ipython3",
   "version": "3.6.8"
  }
 },
 "nbformat": 4,
 "nbformat_minor": 4
}
