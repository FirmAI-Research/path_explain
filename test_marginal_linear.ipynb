{
 "cells": [
  {
   "cell_type": "code",
   "execution_count": 1,
   "metadata": {},
   "outputs": [],
   "source": [
    "import tensorflow as tf\n",
    "import numpy as np\n",
    "import pandas as pd\n",
    "import altair as alt\n",
    "import shap\n",
    "\n",
    "from marginal import MarginalExplainer"
   ]
  },
  {
   "cell_type": "code",
   "execution_count": 2,
   "metadata": {},
   "outputs": [],
   "source": [
    "n = 1000\n",
    "d = 3\n",
    "batch_size = 50\n",
    "learning_rate = 0.1"
   ]
  },
  {
   "cell_type": "code",
   "execution_count": 3,
   "metadata": {},
   "outputs": [],
   "source": [
    "W = np.array([-2.0, -3.0, 1.0])\n",
    "b = 0.0\n",
    "X = np.random.randn(n, d)\n",
    "y = np.dot(X, W) + b"
   ]
  },
  {
   "cell_type": "code",
   "execution_count": 4,
   "metadata": {},
   "outputs": [],
   "source": [
    "model = tf.keras.Sequential()\n",
    "model.add(tf.keras.Input(shape=(3,), batch_size=batch_size))\n",
    "model.add(tf.keras.layers.Dense(1, activation=None, use_bias=True))"
   ]
  },
  {
   "cell_type": "code",
   "execution_count": 5,
   "metadata": {},
   "outputs": [],
   "source": [
    "optimizer = tf.keras.optimizers.SGD(learning_rate=learning_rate)\n",
    "model.compile(optimizer=optimizer,\n",
    "              loss=tf.keras.losses.MSE,\n",
    "              metrics=[tf.keras.metrics.MeanAbsoluteError(), tf.keras.metrics.MeanSquaredError()])"
   ]
  },
  {
   "cell_type": "code",
   "execution_count": 6,
   "metadata": {},
   "outputs": [
    {
     "name": "stdout",
     "output_type": "stream",
     "text": [
      "Train on 1000 samples\n",
      "Epoch 1/10\n",
      "1000/1000 - 0s - loss: 1.1142 - mean_absolute_error: 0.5874 - mean_squared_error: 1.1142\n",
      "Epoch 2/10\n",
      "1000/1000 - 0s - loss: 1.4721e-04 - mean_absolute_error: 0.0064 - mean_squared_error: 1.4721e-04\n",
      "Epoch 3/10\n",
      "1000/1000 - 0s - loss: 2.3930e-08 - mean_absolute_error: 8.3078e-05 - mean_squared_error: 2.3930e-08\n",
      "Epoch 4/10\n",
      "1000/1000 - 0s - loss: 4.6156e-12 - mean_absolute_error: 1.1226e-06 - mean_squared_error: 4.6156e-12\n",
      "Epoch 5/10\n",
      "1000/1000 - 0s - loss: 8.9123e-14 - mean_absolute_error: 2.0372e-07 - mean_squared_error: 8.9123e-14\n",
      "Epoch 6/10\n",
      "1000/1000 - 0s - loss: 8.9855e-14 - mean_absolute_error: 2.0194e-07 - mean_squared_error: 8.9855e-14\n",
      "Epoch 7/10\n",
      "1000/1000 - 0s - loss: 9.0580e-14 - mean_absolute_error: 2.0364e-07 - mean_squared_error: 9.0580e-14\n",
      "Epoch 8/10\n",
      "1000/1000 - 0s - loss: 9.0186e-14 - mean_absolute_error: 2.0282e-07 - mean_squared_error: 9.0186e-14\n",
      "Epoch 9/10\n",
      "1000/1000 - 0s - loss: 8.9914e-14 - mean_absolute_error: 2.0270e-07 - mean_squared_error: 8.9914e-14\n",
      "Epoch 10/10\n",
      "1000/1000 - 0s - loss: 9.0486e-14 - mean_absolute_error: 2.0451e-07 - mean_squared_error: 9.0486e-14\n"
     ]
    },
    {
     "data": {
      "text/plain": [
       "<tensorflow.python.keras.callbacks.History at 0x7f245fc97e48>"
      ]
     },
     "execution_count": 6,
     "metadata": {},
     "output_type": "execute_result"
    }
   ],
   "source": [
    "model.fit(X, y, epochs=10, verbose=2)"
   ]
  },
  {
   "cell_type": "code",
   "execution_count": 13,
   "metadata": {},
   "outputs": [
    {
     "name": "stderr",
     "output_type": "stream",
     "text": [
      "100%|██████████| 20/20 [00:00<00:00, 21.58it/s]\n"
     ]
    }
   ],
   "source": [
    "primal_explainer = MarginalExplainer(model, X[20:], nsamples=800, representation='mobius')\n",
    "primal_effects = explainer.explain(X[:20], verbose=True)"
   ]
  },
  {
   "cell_type": "code",
   "execution_count": 14,
   "metadata": {},
   "outputs": [
    {
     "name": "stderr",
     "output_type": "stream",
     "text": [
      "100%|██████████| 20/20 [00:00<00:00, 22.03it/s]\n"
     ]
    }
   ],
   "source": [
    "dual_explainer = MarginalExplainer(model, X[20:], nsamples=800, representation='comobius')\n",
    "dual_effects = explainer.explain(X[:20], verbose=True)"
   ]
  },
  {
   "cell_type": "code",
   "execution_count": 17,
   "metadata": {},
   "outputs": [
    {
     "name": "stderr",
     "output_type": "stream",
     "text": [
      "100%|██████████| 20/20 [00:00<00:00, 21.06it/s]\n"
     ]
    }
   ],
   "source": [
    "average_explainer = MarginalExplainer(model, X[20:], nsamples=800, representation='average')\n",
    "average_effects = explainer.explain(X[:20], verbose=True)"
   ]
  },
  {
   "cell_type": "code",
   "execution_count": 9,
   "metadata": {},
   "outputs": [],
   "source": [
    "shap_values = X * W[np.newaxis, :]"
   ]
  },
  {
   "cell_type": "code",
   "execution_count": 10,
   "metadata": {},
   "outputs": [
    {
     "data": {
      "application/vnd.jupyter.widget-view+json": {
       "model_id": "0da9498f372948bc8baef62d04359d5b",
       "version_major": 2,
       "version_minor": 0
      },
      "text/plain": [
       "HBox(children=(IntProgress(value=0, max=20), HTML(value='')))"
      ]
     },
     "metadata": {},
     "output_type": "display_data"
    },
    {
     "name": "stdout",
     "output_type": "stream",
     "text": [
      "\n"
     ]
    }
   ],
   "source": [
    "model_func = lambda x: model(x).numpy()\n",
    "kernel_explainer = shap.SamplingExplainer(model_func, X)\n",
    "kernel_shap = kernel_explainer.shap_values(X[:20])"
   ]
  },
  {
   "cell_type": "code",
   "execution_count": 18,
   "metadata": {},
   "outputs": [],
   "source": [
    "data_df = pd.DataFrame({\n",
    "    'True SHAP Values':        shap_values[:20].flatten(),\n",
    "    'Sampled Primal Effects':  primal_effects.flatten(),\n",
    "    'Sampled Dual Effects':    dual_effects.flatten(),\n",
    "    'Sampled Average Effects': average_effects.flatten(),\n",
    "    'Kernel SHAP Values':      kernel_shap.flatten()\n",
    "})"
   ]
  },
  {
   "cell_type": "code",
   "execution_count": 20,
   "metadata": {},
   "outputs": [
    {
     "data": {
      "application/vnd.vegalite.v3+json": {
       "$schema": "https://vega.github.io/schema/vega-lite/v3.2.1.json",
       "config": {
        "mark": {
         "tooltip": null
        },
        "view": {
         "height": 300,
         "width": 400
        }
       },
       "datasets": {
        "data-f8aa6f456e43f20cc23f69a5d8538bc2": [
         {
          "Kernel SHAP Values": -3.058821021890483,
          "Sampled Average Effects": -3.1851819229125975,
          "Sampled Dual Effects": -3.107501106262207,
          "Sampled Primal Effects": -3.2399563789367676,
          "True SHAP Values": -3.1542052584329507
         },
         {
          "Kernel SHAP Values": -1.217063366608973,
          "Sampled Average Effects": -0.9320745253562928,
          "Sampled Dual Effects": -0.7802038359642028,
          "Sampled Primal Effects": -1.0328465843200683,
          "True SHAP Values": -0.9558145771805249
         },
         {
          "Kernel SHAP Values": 1.4832206418658695,
          "Sampled Average Effects": 1.5174753475189209,
          "Sampled Dual Effects": 1.518214979171753,
          "Sampled Primal Effects": 1.5062868118286132,
          "True SHAP Values": 1.4409850105337294
         },
         {
          "Kernel SHAP Values": -1.2283932891424871,
          "Sampled Average Effects": -1.3705223083496094,
          "Sampled Dual Effects": -1.2203020763397217,
          "Sampled Primal Effects": -1.2572398090362549,
          "True SHAP Values": -1.2183650416885683
         },
         {
          "Kernel SHAP Values": 5.295521232494676,
          "Sampled Average Effects": 5.471001281738281,
          "Sampled Dual Effects": 5.29489278793335,
          "Sampled Primal Effects": 5.581415462493896,
          "True SHAP Values": 5.455447899767455
         },
         {
          "Kernel SHAP Values": 0.4214532756455179,
          "Sampled Average Effects": 0.38452532291412356,
          "Sampled Dual Effects": 0.4403735935688019,
          "Sampled Primal Effects": 0.44371971130371096,
          "True SHAP Values": 0.3751279705533353
         },
         {
          "Kernel SHAP Values": -0.08855267812692659,
          "Sampled Average Effects": -0.20494236499071122,
          "Sampled Dual Effects": -0.20403950035572052,
          "Sampled Primal Effects": -0.16297248780727386,
          "True SHAP Values": -0.10191217876732923
         },
         {
          "Kernel SHAP Values": 0.5686137999480609,
          "Sampled Average Effects": 0.79492760181427,
          "Sampled Dual Effects": 0.8311168098449707,
          "Sampled Primal Effects": 0.8277865648269653,
          "True SHAP Values": 0.8012009850771804
         },
         {
          "Kernel SHAP Values": -0.40259393001230803,
          "Sampled Average Effects": -0.40632221817970277,
          "Sampled Dual Effects": -0.4146349918842316,
          "Sampled Primal Effects": -0.3915201544761658,
          "True SHAP Values": -0.4981922888467864
         },
         {
          "Kernel SHAP Values": 3.176991562414078,
          "Sampled Average Effects": 3.3266593742370607,
          "Sampled Dual Effects": 3.2822462272644044,
          "Sampled Primal Effects": 3.2737227630615235,
          "True SHAP Values": 3.2894874829428566
         },
         {
          "Kernel SHAP Values": -6.086365930919094,
          "Sampled Average Effects": -5.808309249877929,
          "Sampled Dual Effects": -5.865776290893555,
          "Sampled Primal Effects": -5.966544418334961,
          "True SHAP Values": -5.983150010346642
         },
         {
          "Kernel SHAP Values": 2.7068275803630137,
          "Sampled Average Effects": 2.6790561962127684,
          "Sampled Dual Effects": 2.661227264404297,
          "Sampled Primal Effects": 2.667120885848999,
          "True SHAP Values": 2.6147442792513527
         },
         {
          "Kernel SHAP Values": 1.1282550317358548,
          "Sampled Average Effects": 1.3200034594535828,
          "Sampled Dual Effects": 1.1694007444381713,
          "Sampled Primal Effects": 1.1502300357818604,
          "True SHAP Values": 1.2187578624661262
         },
         {
          "Kernel SHAP Values": -1.0808983676582142,
          "Sampled Average Effects": -1.0302263855934144,
          "Sampled Dual Effects": -0.9857671725749969,
          "Sampled Primal Effects": -1.1999835443496705,
          "True SHAP Values": -1.015983957712221
         },
         {
          "Kernel SHAP Values": -0.9328409007994893,
          "Sampled Average Effects": -0.8570750331878663,
          "Sampled Dual Effects": -0.8712803268432617,
          "Sampled Primal Effects": -0.9053798198699952,
          "True SHAP Values": -0.9646292273858215
         },
         {
          "Kernel SHAP Values": 0.5384695174929572,
          "Sampled Average Effects": 0.6548238945007324,
          "Sampled Dual Effects": 0.5997107076644898,
          "Sampled Primal Effects": 0.712487518787384,
          "True SHAP Values": 0.6055024091146552
         },
         {
          "Kernel SHAP Values": 0.12478946962418455,
          "Sampled Average Effects": 0.3073332679271698,
          "Sampled Dual Effects": 0.33947567582130433,
          "Sampled Primal Effects": 0.24235327661037445,
          "True SHAP Values": 0.30783597725615386
         },
         {
          "Kernel SHAP Values": -1.0455459246635983,
          "Sampled Average Effects": -1.1031144285202026,
          "Sampled Dual Effects": -1.1524207544326783,
          "Sampled Primal Effects": -1.0783973836898804,
          "True SHAP Values": -1.171996233610413
         },
         {
          "Kernel SHAP Values": 0.02841825512221343,
          "Sampled Average Effects": 0.18172319293022154,
          "Sampled Dual Effects": 0.32123448252677916,
          "Sampled Primal Effects": 0.19826654434204102,
          "True SHAP Values": 0.14391833558833983
         },
         {
          "Kernel SHAP Values": 1.4281712851883661,
          "Sampled Average Effects": 1.681892876625061,
          "Sampled Dual Effects": 1.5960475397109986,
          "Sampled Primal Effects": 1.7770431280136108,
          "True SHAP Values": 1.6234503220217165
         },
         {
          "Kernel SHAP Values": 0.15064157775887368,
          "Sampled Average Effects": -0.02555894911289215,
          "Sampled Dual Effects": 0.08454169392585754,
          "Sampled Primal Effects": 0.019856236577033996,
          "True SHAP Values": -0.03650826030715482
         },
         {
          "Kernel SHAP Values": -1.1898746129052151,
          "Sampled Average Effects": -0.9746843647956848,
          "Sampled Dual Effects": -0.9961047744750977,
          "Sampled Primal Effects": -0.9006114196777344,
          "True SHAP Values": -0.9851154055297099
         },
         {
          "Kernel SHAP Values": 2.265715187262175,
          "Sampled Average Effects": 2.432295837402344,
          "Sampled Dual Effects": 2.3768828773498534,
          "Sampled Primal Effects": 2.4566875171661375,
          "True SHAP Values": 2.34277918036403
         },
         {
          "Kernel SHAP Values": 0.13545789981540451,
          "Sampled Average Effects": 0.022643134593963624,
          "Sampled Dual Effects": 0.06110715389251709,
          "Sampled Primal Effects": 0.0012512516975402832,
          "True SHAP Values": -0.022736022863131946
         },
         {
          "Kernel SHAP Values": -1.0317427842306774,
          "Sampled Average Effects": -1.0335522174835206,
          "Sampled Dual Effects": -1.0214503884315491,
          "Sampled Primal Effects": -0.9506856513023376,
          "True SHAP Values": -0.9516896540246298
         },
         {
          "Kernel SHAP Values": -1.6449412358616196,
          "Sampled Average Effects": -1.6672053813934327,
          "Sampled Dual Effects": -1.556005458831787,
          "Sampled Primal Effects": -1.6954982852935792,
          "True SHAP Values": -1.5942790438692762
         },
         {
          "Kernel SHAP Values": -1.7326082909766598,
          "Sampled Average Effects": -1.6289458274841309,
          "Sampled Dual Effects": -1.7291355419158936,
          "Sampled Primal Effects": -1.6879262828826904,
          "True SHAP Values": -1.7396947695375045
         },
         {
          "Kernel SHAP Values": -0.1506908281915203,
          "Sampled Average Effects": -0.09709372103214264,
          "Sampled Dual Effects": -0.029463787078857422,
          "Sampled Primal Effects": -0.16121677815914154,
          "True SHAP Values": -0.10798632392032265
         },
         {
          "Kernel SHAP Values": 0.6836874010113633,
          "Sampled Average Effects": 0.8315916609764099,
          "Sampled Dual Effects": 0.9514600467681885,
          "Sampled Primal Effects": 0.8872587728500366,
          "True SHAP Values": 0.8951328145291857
         },
         {
          "Kernel SHAP Values": -1.1114701874163668,
          "Sampled Average Effects": -1.1849903917312623,
          "Sampled Dual Effects": -1.126114978790283,
          "Sampled Primal Effects": -1.164886417388916,
          "True SHAP Values": -1.2419910319096155
         },
         {
          "Kernel SHAP Values": -3.030959031518738,
          "Sampled Average Effects": -3.1374922370910645,
          "Sampled Dual Effects": -3.1373792839050294,
          "Sampled Primal Effects": -3.01973162651062,
          "True SHAP Values": -3.0425063193322845
         },
         {
          "Kernel SHAP Values": 0.542977451705404,
          "Sampled Average Effects": 0.6292172980308532,
          "Sampled Dual Effects": 0.7559048795700073,
          "Sampled Primal Effects": 0.7206256318092347,
          "True SHAP Values": 0.6156477035441855
         },
         {
          "Kernel SHAP Values": -0.4195966780158915,
          "Sampled Average Effects": -0.2887242829799652,
          "Sampled Dual Effects": -0.2636916452646256,
          "Sampled Primal Effects": -0.2681671333312988,
          "True SHAP Values": -0.35709079034642094
         },
         {
          "Kernel SHAP Values": 4.090145937321034,
          "Sampled Average Effects": 4.005522441864014,
          "Sampled Dual Effects": 4.095139942169189,
          "Sampled Primal Effects": 3.8954226303100588,
          "True SHAP Values": 4.028331049419549
         },
         {
          "Kernel SHAP Values": 1.1957368400184065,
          "Sampled Average Effects": 1.5446995449066163,
          "Sampled Dual Effects": 1.4525123167037963,
          "Sampled Primal Effects": 1.319194974899292,
          "True SHAP Values": 1.4035093413526796
         },
         {
          "Kernel SHAP Values": 0.9063544669508975,
          "Sampled Average Effects": 0.9458991384506226,
          "Sampled Dual Effects": 0.9583744144439698,
          "Sampled Primal Effects": 0.8956263017654419,
          "True SHAP Values": 0.884025931137883
         },
         {
          "Kernel SHAP Values": 1.1246157446426082,
          "Sampled Average Effects": 1.2061891603469848,
          "Sampled Dual Effects": 1.158895709514618,
          "Sampled Primal Effects": 1.129047703742981,
          "True SHAP Values": 1.1429637109937114
         },
         {
          "Kernel SHAP Values": 2.6118691070404756,
          "Sampled Average Effects": 2.785417051315308,
          "Sampled Dual Effects": 2.6773427963256835,
          "Sampled Primal Effects": 2.6819372749328614,
          "True SHAP Values": 2.768435843625429
         },
         {
          "Kernel SHAP Values": 1.2795682144132803,
          "Sampled Average Effects": 1.2791399335861207,
          "Sampled Dual Effects": 1.2381886625289917,
          "Sampled Primal Effects": 1.3236352872848511,
          "True SHAP Values": 1.22828278510001
         },
         {
          "Kernel SHAP Values": -0.2671247357343711,
          "Sampled Average Effects": -0.3281225156784058,
          "Sampled Dual Effects": -0.2170364111661911,
          "Sampled Primal Effects": -0.2869558537006378,
          "True SHAP Values": -0.25124710819820145
         },
         {
          "Kernel SHAP Values": -3.959442563371591,
          "Sampled Average Effects": -3.785766258239746,
          "Sampled Dual Effects": -3.695252704620361,
          "Sampled Primal Effects": -3.8092687797546385,
          "True SHAP Values": -3.6409865487852033
         },
         {
          "Kernel SHAP Values": 0.9947395744767937,
          "Sampled Average Effects": 0.8035964775085449,
          "Sampled Dual Effects": 0.8244066596031189,
          "Sampled Primal Effects": 0.8091466450691223,
          "True SHAP Values": 0.7840347992944267
         },
         {
          "Kernel SHAP Values": 2.027599935134896,
          "Sampled Average Effects": 1.991213836669922,
          "Sampled Dual Effects": 2.0899296379089356,
          "Sampled Primal Effects": 2.0700902271270754,
          "True SHAP Values": 2.128737952482931
         },
         {
          "Kernel SHAP Values": 3.8630947190946197,
          "Sampled Average Effects": 3.851214580535889,
          "Sampled Dual Effects": 3.8658870315551757,
          "Sampled Primal Effects": 3.772936477661133,
          "True SHAP Values": 3.828703858307776
         },
         {
          "Kernel SHAP Values": 0.2200320130638927,
          "Sampled Average Effects": 0.34503326535224915,
          "Sampled Dual Effects": 0.37113121151924133,
          "Sampled Primal Effects": 0.328003853559494,
          "True SHAP Values": 0.27691473546101786
         },
         {
          "Kernel SHAP Values": -2.5253720756223763,
          "Sampled Average Effects": -2.451805105209351,
          "Sampled Dual Effects": -2.4205654430389405,
          "Sampled Primal Effects": -2.458428964614868,
          "True SHAP Values": -2.403026832997356
         },
         {
          "Kernel SHAP Values": 5.53756476180211,
          "Sampled Average Effects": 5.660259380340576,
          "Sampled Dual Effects": 5.53001636505127,
          "Sampled Primal Effects": 5.7616840171813966,
          "True SHAP Values": 5.6544725106966265
         },
         {
          "Kernel SHAP Values": 0.3792632062909409,
          "Sampled Average Effects": 0.2773423218727112,
          "Sampled Dual Effects": 0.31153819322586057,
          "Sampled Primal Effects": 0.3525392872095108,
          "True SHAP Values": 0.2636399023098661
         },
         {
          "Kernel SHAP Values": -0.9502970400881218,
          "Sampled Average Effects": -0.9351963949203491,
          "Sampled Dual Effects": -1.0466957569122315,
          "Sampled Primal Effects": -0.897735345363617,
          "True SHAP Values": -0.9594795258566928
         },
         {
          "Kernel SHAP Values": -2.987577373951513,
          "Sampled Average Effects": -2.609385623931885,
          "Sampled Dual Effects": -2.805982675552368,
          "Sampled Primal Effects": -2.7303847026824952,
          "True SHAP Values": -2.781261352609799
         },
         {
          "Kernel SHAP Values": -0.48226772819622743,
          "Sampled Average Effects": -0.5322170114517212,
          "Sampled Dual Effects": -0.48657394886016847,
          "Sampled Primal Effects": -0.5084663486480713,
          "True SHAP Values": -0.5557724200441886
         },
         {
          "Kernel SHAP Values": 0.8627664395908735,
          "Sampled Average Effects": 0.7975630336999893,
          "Sampled Dual Effects": 0.8984714794158936,
          "Sampled Primal Effects": 0.7542694902420044,
          "True SHAP Values": 0.8084136693266895
         },
         {
          "Kernel SHAP Values": -0.6175294148436865,
          "Sampled Average Effects": -0.2898965960741043,
          "Sampled Dual Effects": -0.3586531363427639,
          "Sampled Primal Effects": -0.22355787932872773,
          "True SHAP Values": -0.31529038501047907
         },
         {
          "Kernel SHAP Values": 1.3704119661135952,
          "Sampled Average Effects": 1.2996481132507325,
          "Sampled Dual Effects": 1.3381327724456786,
          "Sampled Primal Effects": 1.3915164518356322,
          "True SHAP Values": 1.246154646794597
         },
         {
          "Kernel SHAP Values": -3.1892762774746,
          "Sampled Average Effects": -3.4032544326782226,
          "Sampled Dual Effects": -3.2773880195617675,
          "Sampled Primal Effects": -3.212927188873291,
          "True SHAP Values": -3.218366538452235
         },
         {
          "Kernel SHAP Values": -3.420074587417921,
          "Sampled Average Effects": -3.1655652809143064,
          "Sampled Dual Effects": -3.23101676940918,
          "Sampled Primal Effects": -3.4359847927093505,
          "True SHAP Values": -3.276814758716081
         },
         {
          "Kernel SHAP Values": 0.663933375730885,
          "Sampled Average Effects": 0.6854300725460053,
          "Sampled Dual Effects": 0.7857782483100891,
          "Sampled Primal Effects": 0.6415891408920288,
          "True SHAP Values": 0.6733926157865375
         },
         {
          "Kernel SHAP Values": -1.951725445725212,
          "Sampled Average Effects": -1.8699943161010741,
          "Sampled Dual Effects": -1.999317502975464,
          "Sampled Primal Effects": -1.888463144302368,
          "True SHAP Values": -1.907494271470559
         },
         {
          "Kernel SHAP Values": -0.6941533648745281,
          "Sampled Average Effects": -0.5548949944972992,
          "Sampled Dual Effects": -0.6444240415096283,
          "Sampled Primal Effects": -0.5479502034187317,
          "True SHAP Values": -0.6171574219068356
         },
         {
          "Kernel SHAP Values": -1.1436927110626793,
          "Sampled Average Effects": -1.05288339138031,
          "Sampled Dual Effects": -1.1057244873046874,
          "Sampled Primal Effects": -1.05622652053833,
          "True SHAP Values": -1.1412906785818504
         }
        ]
       },
       "repeat": {
        "column": [
         "Sampled Primal Effects",
         "Sampled Dual Effects"
        ]
       },
       "spec": {
        "data": {
         "name": "data-f8aa6f456e43f20cc23f69a5d8538bc2"
        },
        "encoding": {
         "x": {
          "field": "True SHAP Values",
          "type": "quantitative"
         },
         "y": {
          "field": {
           "repeat": "column"
          },
          "type": "quantitative"
         }
        },
        "mark": {
         "filled": true,
         "type": "point"
        }
       }
      },
      "image/png": "[encoded data removed]",
      "text/plain": [
       "<VegaLite 3 object>\n",
       "\n",
       "If you see this message, it means the renderer has not been properly enabled\n",
       "for the frontend that you are using. For more information, see\n",
       "https://altair-viz.github.io/user_guide/troubleshooting.html\n"
      ]
     },
     "execution_count": 20,
     "metadata": {},
     "output_type": "execute_result"
    }
   ],
   "source": [
    "alt.Chart(data_df).mark_point(filled=True).encode(\n",
    "    alt.X('True SHAP Values:Q'),\n",
    "    alt.Y(alt.repeat(\"column\"), type='quantitative')\n",
    ").repeat(column=['Sampled Primal Effects', 'Sampled Dual Effects'])"
   ]
  },
  {
   "cell_type": "code",
   "execution_count": 21,
   "metadata": {},
   "outputs": [
    {
     "data": {
      "application/vnd.vegalite.v3+json": {
       "$schema": "https://vega.github.io/schema/vega-lite/v3.2.1.json",
       "config": {
        "mark": {
         "tooltip": null
        },
        "view": {
         "height": 300,
         "width": 400
        }
       },
       "datasets": {
        "data-f8aa6f456e43f20cc23f69a5d8538bc2": [
         {
          "Kernel SHAP Values": -3.058821021890483,
          "Sampled Average Effects": -3.1851819229125975,
          "Sampled Dual Effects": -3.107501106262207,
          "Sampled Primal Effects": -3.2399563789367676,
          "True SHAP Values": -3.1542052584329507
         },
         {
          "Kernel SHAP Values": -1.217063366608973,
          "Sampled Average Effects": -0.9320745253562928,
          "Sampled Dual Effects": -0.7802038359642028,
          "Sampled Primal Effects": -1.0328465843200683,
          "True SHAP Values": -0.9558145771805249
         },
         {
          "Kernel SHAP Values": 1.4832206418658695,
          "Sampled Average Effects": 1.5174753475189209,
          "Sampled Dual Effects": 1.518214979171753,
          "Sampled Primal Effects": 1.5062868118286132,
          "True SHAP Values": 1.4409850105337294
         },
         {
          "Kernel SHAP Values": -1.2283932891424871,
          "Sampled Average Effects": -1.3705223083496094,
          "Sampled Dual Effects": -1.2203020763397217,
          "Sampled Primal Effects": -1.2572398090362549,
          "True SHAP Values": -1.2183650416885683
         },
         {
          "Kernel SHAP Values": 5.295521232494676,
          "Sampled Average Effects": 5.471001281738281,
          "Sampled Dual Effects": 5.29489278793335,
          "Sampled Primal Effects": 5.581415462493896,
          "True SHAP Values": 5.455447899767455
         },
         {
          "Kernel SHAP Values": 0.4214532756455179,
          "Sampled Average Effects": 0.38452532291412356,
          "Sampled Dual Effects": 0.4403735935688019,
          "Sampled Primal Effects": 0.44371971130371096,
          "True SHAP Values": 0.3751279705533353
         },
         {
          "Kernel SHAP Values": -0.08855267812692659,
          "Sampled Average Effects": -0.20494236499071122,
          "Sampled Dual Effects": -0.20403950035572052,
          "Sampled Primal Effects": -0.16297248780727386,
          "True SHAP Values": -0.10191217876732923
         },
         {
          "Kernel SHAP Values": 0.5686137999480609,
          "Sampled Average Effects": 0.79492760181427,
          "Sampled Dual Effects": 0.8311168098449707,
          "Sampled Primal Effects": 0.8277865648269653,
          "True SHAP Values": 0.8012009850771804
         },
         {
          "Kernel SHAP Values": -0.40259393001230803,
          "Sampled Average Effects": -0.40632221817970277,
          "Sampled Dual Effects": -0.4146349918842316,
          "Sampled Primal Effects": -0.3915201544761658,
          "True SHAP Values": -0.4981922888467864
         },
         {
          "Kernel SHAP Values": 3.176991562414078,
          "Sampled Average Effects": 3.3266593742370607,
          "Sampled Dual Effects": 3.2822462272644044,
          "Sampled Primal Effects": 3.2737227630615235,
          "True SHAP Values": 3.2894874829428566
         },
         {
          "Kernel SHAP Values": -6.086365930919094,
          "Sampled Average Effects": -5.808309249877929,
          "Sampled Dual Effects": -5.865776290893555,
          "Sampled Primal Effects": -5.966544418334961,
          "True SHAP Values": -5.983150010346642
         },
         {
          "Kernel SHAP Values": 2.7068275803630137,
          "Sampled Average Effects": 2.6790561962127684,
          "Sampled Dual Effects": 2.661227264404297,
          "Sampled Primal Effects": 2.667120885848999,
          "True SHAP Values": 2.6147442792513527
         },
         {
          "Kernel SHAP Values": 1.1282550317358548,
          "Sampled Average Effects": 1.3200034594535828,
          "Sampled Dual Effects": 1.1694007444381713,
          "Sampled Primal Effects": 1.1502300357818604,
          "True SHAP Values": 1.2187578624661262
         },
         {
          "Kernel SHAP Values": -1.0808983676582142,
          "Sampled Average Effects": -1.0302263855934144,
          "Sampled Dual Effects": -0.9857671725749969,
          "Sampled Primal Effects": -1.1999835443496705,
          "True SHAP Values": -1.015983957712221
         },
         {
          "Kernel SHAP Values": -0.9328409007994893,
          "Sampled Average Effects": -0.8570750331878663,
          "Sampled Dual Effects": -0.8712803268432617,
          "Sampled Primal Effects": -0.9053798198699952,
          "True SHAP Values": -0.9646292273858215
         },
         {
          "Kernel SHAP Values": 0.5384695174929572,
          "Sampled Average Effects": 0.6548238945007324,
          "Sampled Dual Effects": 0.5997107076644898,
          "Sampled Primal Effects": 0.712487518787384,
          "True SHAP Values": 0.6055024091146552
         },
         {
          "Kernel SHAP Values": 0.12478946962418455,
          "Sampled Average Effects": 0.3073332679271698,
          "Sampled Dual Effects": 0.33947567582130433,
          "Sampled Primal Effects": 0.24235327661037445,
          "True SHAP Values": 0.30783597725615386
         },
         {
          "Kernel SHAP Values": -1.0455459246635983,
          "Sampled Average Effects": -1.1031144285202026,
          "Sampled Dual Effects": -1.1524207544326783,
          "Sampled Primal Effects": -1.0783973836898804,
          "True SHAP Values": -1.171996233610413
         },
         {
          "Kernel SHAP Values": 0.02841825512221343,
          "Sampled Average Effects": 0.18172319293022154,
          "Sampled Dual Effects": 0.32123448252677916,
          "Sampled Primal Effects": 0.19826654434204102,
          "True SHAP Values": 0.14391833558833983
         },
         {
          "Kernel SHAP Values": 1.4281712851883661,
          "Sampled Average Effects": 1.681892876625061,
          "Sampled Dual Effects": 1.5960475397109986,
          "Sampled Primal Effects": 1.7770431280136108,
          "True SHAP Values": 1.6234503220217165
         },
         {
          "Kernel SHAP Values": 0.15064157775887368,
          "Sampled Average Effects": -0.02555894911289215,
          "Sampled Dual Effects": 0.08454169392585754,
          "Sampled Primal Effects": 0.019856236577033996,
          "True SHAP Values": -0.03650826030715482
         },
         {
          "Kernel SHAP Values": -1.1898746129052151,
          "Sampled Average Effects": -0.9746843647956848,
          "Sampled Dual Effects": -0.9961047744750977,
          "Sampled Primal Effects": -0.9006114196777344,
          "True SHAP Values": -0.9851154055297099
         },
         {
          "Kernel SHAP Values": 2.265715187262175,
          "Sampled Average Effects": 2.432295837402344,
          "Sampled Dual Effects": 2.3768828773498534,
          "Sampled Primal Effects": 2.4566875171661375,
          "True SHAP Values": 2.34277918036403
         },
         {
          "Kernel SHAP Values": 0.13545789981540451,
          "Sampled Average Effects": 0.022643134593963624,
          "Sampled Dual Effects": 0.06110715389251709,
          "Sampled Primal Effects": 0.0012512516975402832,
          "True SHAP Values": -0.022736022863131946
         },
         {
          "Kernel SHAP Values": -1.0317427842306774,
          "Sampled Average Effects": -1.0335522174835206,
          "Sampled Dual Effects": -1.0214503884315491,
          "Sampled Primal Effects": -0.9506856513023376,
          "True SHAP Values": -0.9516896540246298
         },
         {
          "Kernel SHAP Values": -1.6449412358616196,
          "Sampled Average Effects": -1.6672053813934327,
          "Sampled Dual Effects": -1.556005458831787,
          "Sampled Primal Effects": -1.6954982852935792,
          "True SHAP Values": -1.5942790438692762
         },
         {
          "Kernel SHAP Values": -1.7326082909766598,
          "Sampled Average Effects": -1.6289458274841309,
          "Sampled Dual Effects": -1.7291355419158936,
          "Sampled Primal Effects": -1.6879262828826904,
          "True SHAP Values": -1.7396947695375045
         },
         {
          "Kernel SHAP Values": -0.1506908281915203,
          "Sampled Average Effects": -0.09709372103214264,
          "Sampled Dual Effects": -0.029463787078857422,
          "Sampled Primal Effects": -0.16121677815914154,
          "True SHAP Values": -0.10798632392032265
         },
         {
          "Kernel SHAP Values": 0.6836874010113633,
          "Sampled Average Effects": 0.8315916609764099,
          "Sampled Dual Effects": 0.9514600467681885,
          "Sampled Primal Effects": 0.8872587728500366,
          "True SHAP Values": 0.8951328145291857
         },
         {
          "Kernel SHAP Values": -1.1114701874163668,
          "Sampled Average Effects": -1.1849903917312623,
          "Sampled Dual Effects": -1.126114978790283,
          "Sampled Primal Effects": -1.164886417388916,
          "True SHAP Values": -1.2419910319096155
         },
         {
          "Kernel SHAP Values": -3.030959031518738,
          "Sampled Average Effects": -3.1374922370910645,
          "Sampled Dual Effects": -3.1373792839050294,
          "Sampled Primal Effects": -3.01973162651062,
          "True SHAP Values": -3.0425063193322845
         },
         {
          "Kernel SHAP Values": 0.542977451705404,
          "Sampled Average Effects": 0.6292172980308532,
          "Sampled Dual Effects": 0.7559048795700073,
          "Sampled Primal Effects": 0.7206256318092347,
          "True SHAP Values": 0.6156477035441855
         },
         {
          "Kernel SHAP Values": -0.4195966780158915,
          "Sampled Average Effects": -0.2887242829799652,
          "Sampled Dual Effects": -0.2636916452646256,
          "Sampled Primal Effects": -0.2681671333312988,
          "True SHAP Values": -0.35709079034642094
         },
         {
          "Kernel SHAP Values": 4.090145937321034,
          "Sampled Average Effects": 4.005522441864014,
          "Sampled Dual Effects": 4.095139942169189,
          "Sampled Primal Effects": 3.8954226303100588,
          "True SHAP Values": 4.028331049419549
         },
         {
          "Kernel SHAP Values": 1.1957368400184065,
          "Sampled Average Effects": 1.5446995449066163,
          "Sampled Dual Effects": 1.4525123167037963,
          "Sampled Primal Effects": 1.319194974899292,
          "True SHAP Values": 1.4035093413526796
         },
         {
          "Kernel SHAP Values": 0.9063544669508975,
          "Sampled Average Effects": 0.9458991384506226,
          "Sampled Dual Effects": 0.9583744144439698,
          "Sampled Primal Effects": 0.8956263017654419,
          "True SHAP Values": 0.884025931137883
         },
         {
          "Kernel SHAP Values": 1.1246157446426082,
          "Sampled Average Effects": 1.2061891603469848,
          "Sampled Dual Effects": 1.158895709514618,
          "Sampled Primal Effects": 1.129047703742981,
          "True SHAP Values": 1.1429637109937114
         },
         {
          "Kernel SHAP Values": 2.6118691070404756,
          "Sampled Average Effects": 2.785417051315308,
          "Sampled Dual Effects": 2.6773427963256835,
          "Sampled Primal Effects": 2.6819372749328614,
          "True SHAP Values": 2.768435843625429
         },
         {
          "Kernel SHAP Values": 1.2795682144132803,
          "Sampled Average Effects": 1.2791399335861207,
          "Sampled Dual Effects": 1.2381886625289917,
          "Sampled Primal Effects": 1.3236352872848511,
          "True SHAP Values": 1.22828278510001
         },
         {
          "Kernel SHAP Values": -0.2671247357343711,
          "Sampled Average Effects": -0.3281225156784058,
          "Sampled Dual Effects": -0.2170364111661911,
          "Sampled Primal Effects": -0.2869558537006378,
          "True SHAP Values": -0.25124710819820145
         },
         {
          "Kernel SHAP Values": -3.959442563371591,
          "Sampled Average Effects": -3.785766258239746,
          "Sampled Dual Effects": -3.695252704620361,
          "Sampled Primal Effects": -3.8092687797546385,
          "True SHAP Values": -3.6409865487852033
         },
         {
          "Kernel SHAP Values": 0.9947395744767937,
          "Sampled Average Effects": 0.8035964775085449,
          "Sampled Dual Effects": 0.8244066596031189,
          "Sampled Primal Effects": 0.8091466450691223,
          "True SHAP Values": 0.7840347992944267
         },
         {
          "Kernel SHAP Values": 2.027599935134896,
          "Sampled Average Effects": 1.991213836669922,
          "Sampled Dual Effects": 2.0899296379089356,
          "Sampled Primal Effects": 2.0700902271270754,
          "True SHAP Values": 2.128737952482931
         },
         {
          "Kernel SHAP Values": 3.8630947190946197,
          "Sampled Average Effects": 3.851214580535889,
          "Sampled Dual Effects": 3.8658870315551757,
          "Sampled Primal Effects": 3.772936477661133,
          "True SHAP Values": 3.828703858307776
         },
         {
          "Kernel SHAP Values": 0.2200320130638927,
          "Sampled Average Effects": 0.34503326535224915,
          "Sampled Dual Effects": 0.37113121151924133,
          "Sampled Primal Effects": 0.328003853559494,
          "True SHAP Values": 0.27691473546101786
         },
         {
          "Kernel SHAP Values": -2.5253720756223763,
          "Sampled Average Effects": -2.451805105209351,
          "Sampled Dual Effects": -2.4205654430389405,
          "Sampled Primal Effects": -2.458428964614868,
          "True SHAP Values": -2.403026832997356
         },
         {
          "Kernel SHAP Values": 5.53756476180211,
          "Sampled Average Effects": 5.660259380340576,
          "Sampled Dual Effects": 5.53001636505127,
          "Sampled Primal Effects": 5.7616840171813966,
          "True SHAP Values": 5.6544725106966265
         },
         {
          "Kernel SHAP Values": 0.3792632062909409,
          "Sampled Average Effects": 0.2773423218727112,
          "Sampled Dual Effects": 0.31153819322586057,
          "Sampled Primal Effects": 0.3525392872095108,
          "True SHAP Values": 0.2636399023098661
         },
         {
          "Kernel SHAP Values": -0.9502970400881218,
          "Sampled Average Effects": -0.9351963949203491,
          "Sampled Dual Effects": -1.0466957569122315,
          "Sampled Primal Effects": -0.897735345363617,
          "True SHAP Values": -0.9594795258566928
         },
         {
          "Kernel SHAP Values": -2.987577373951513,
          "Sampled Average Effects": -2.609385623931885,
          "Sampled Dual Effects": -2.805982675552368,
          "Sampled Primal Effects": -2.7303847026824952,
          "True SHAP Values": -2.781261352609799
         },
         {
          "Kernel SHAP Values": -0.48226772819622743,
          "Sampled Average Effects": -0.5322170114517212,
          "Sampled Dual Effects": -0.48657394886016847,
          "Sampled Primal Effects": -0.5084663486480713,
          "True SHAP Values": -0.5557724200441886
         },
         {
          "Kernel SHAP Values": 0.8627664395908735,
          "Sampled Average Effects": 0.7975630336999893,
          "Sampled Dual Effects": 0.8984714794158936,
          "Sampled Primal Effects": 0.7542694902420044,
          "True SHAP Values": 0.8084136693266895
         },
         {
          "Kernel SHAP Values": -0.6175294148436865,
          "Sampled Average Effects": -0.2898965960741043,
          "Sampled Dual Effects": -0.3586531363427639,
          "Sampled Primal Effects": -0.22355787932872773,
          "True SHAP Values": -0.31529038501047907
         },
         {
          "Kernel SHAP Values": 1.3704119661135952,
          "Sampled Average Effects": 1.2996481132507325,
          "Sampled Dual Effects": 1.3381327724456786,
          "Sampled Primal Effects": 1.3915164518356322,
          "True SHAP Values": 1.246154646794597
         },
         {
          "Kernel SHAP Values": -3.1892762774746,
          "Sampled Average Effects": -3.4032544326782226,
          "Sampled Dual Effects": -3.2773880195617675,
          "Sampled Primal Effects": -3.212927188873291,
          "True SHAP Values": -3.218366538452235
         },
         {
          "Kernel SHAP Values": -3.420074587417921,
          "Sampled Average Effects": -3.1655652809143064,
          "Sampled Dual Effects": -3.23101676940918,
          "Sampled Primal Effects": -3.4359847927093505,
          "True SHAP Values": -3.276814758716081
         },
         {
          "Kernel SHAP Values": 0.663933375730885,
          "Sampled Average Effects": 0.6854300725460053,
          "Sampled Dual Effects": 0.7857782483100891,
          "Sampled Primal Effects": 0.6415891408920288,
          "True SHAP Values": 0.6733926157865375
         },
         {
          "Kernel SHAP Values": -1.951725445725212,
          "Sampled Average Effects": -1.8699943161010741,
          "Sampled Dual Effects": -1.999317502975464,
          "Sampled Primal Effects": -1.888463144302368,
          "True SHAP Values": -1.907494271470559
         },
         {
          "Kernel SHAP Values": -0.6941533648745281,
          "Sampled Average Effects": -0.5548949944972992,
          "Sampled Dual Effects": -0.6444240415096283,
          "Sampled Primal Effects": -0.5479502034187317,
          "True SHAP Values": -0.6171574219068356
         },
         {
          "Kernel SHAP Values": -1.1436927110626793,
          "Sampled Average Effects": -1.05288339138031,
          "Sampled Dual Effects": -1.1057244873046874,
          "Sampled Primal Effects": -1.05622652053833,
          "True SHAP Values": -1.1412906785818504
         }
        ]
       },
       "repeat": {
        "column": [
         "Sampled Average Effects",
         "Kernel SHAP Values"
        ]
       },
       "spec": {
        "data": {
         "name": "data-f8aa6f456e43f20cc23f69a5d8538bc2"
        },
        "encoding": {
         "x": {
          "field": "True SHAP Values",
          "type": "quantitative"
         },
         "y": {
          "field": {
           "repeat": "column"
          },
          "type": "quantitative"
         }
        },
        "mark": {
         "filled": true,
         "type": "point"
        }
       }
      },
      "image/png": "[encoded data removed]",
      "text/plain": [
       "<VegaLite 3 object>\n",
       "\n",
       "If you see this message, it means the renderer has not been properly enabled\n",
       "for the frontend that you are using. For more information, see\n",
       "https://altair-viz.github.io/user_guide/troubleshooting.html\n"
      ]
     },
     "execution_count": 21,
     "metadata": {},
     "output_type": "execute_result"
    }
   ],
   "source": [
    "alt.Chart(data_df).mark_point(filled=True).encode(\n",
    "    alt.X('True SHAP Values:Q'),\n",
    "    alt.Y(alt.repeat(\"column\"), type='quantitative')\n",
    ").repeat(column=['Sampled Average Effects', 'Kernel SHAP Values'])"
   ]
  }
 ],
 "metadata": {
  "kernelspec": {
   "display_name": "Python 3",
   "language": "python",
   "name": "python3"
  },
  "language_info": {
   "codemirror_mode": {
    "name": "ipython",
    "version": 3
   },
   "file_extension": ".py",
   "mimetype": "text/x-python",
   "name": "python",
   "nbconvert_exporter": "python",
   "pygments_lexer": "ipython3",
   "version": "3.6.8"
  }
 },
 "nbformat": 4,
 "nbformat_minor": 4
}
