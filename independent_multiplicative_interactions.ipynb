{
 "cells": [
  {
   "cell_type": "code",
   "execution_count": 1,
   "metadata": {},
   "outputs": [],
   "source": [
    "%load_ext autoreload\n",
    "%autoreload 2"
   ]
  },
  {
   "cell_type": "code",
   "execution_count": 2,
   "metadata": {},
   "outputs": [],
   "source": [
    "import tensorflow as tf\n",
    "import numpy as np\n",
    "import pandas as pd\n",
    "import altair as alt\n",
    "import shap\n",
    "\n",
    "from marginal import MarginalExplainer\n",
    "import plot"
   ]
  },
  {
   "cell_type": "code",
   "execution_count": 3,
   "metadata": {},
   "outputs": [],
   "source": [
    "n = 3000\n",
    "d = 3\n",
    "hidden_layers = 100\n",
    "batch_size = 50\n",
    "learning_rate = 0.3"
   ]
  },
  {
   "cell_type": "code",
   "execution_count": 4,
   "metadata": {},
   "outputs": [],
   "source": [
    "X = np.random.randn(n, d)\n",
    "y = X[:, 0] * X[:, 1] + X[:, 2]"
   ]
  },
  {
   "cell_type": "code",
   "execution_count": 5,
   "metadata": {},
   "outputs": [],
   "source": [
    "model = tf.keras.Sequential()\n",
    "model.add(tf.keras.Input(shape=(d,), batch_size=batch_size))\n",
    "model.add(tf.keras.layers.Dense(hidden_layers, activation=tf.keras.activations.relu, use_bias=True))\n",
    "model.add(tf.keras.layers.Dense(1, activation=None, use_bias=False))"
   ]
  },
  {
   "cell_type": "code",
   "execution_count": 6,
   "metadata": {},
   "outputs": [],
   "source": [
    "optimizer = tf.keras.optimizers.SGD(learning_rate=learning_rate)\n",
    "model.compile(optimizer=optimizer,\n",
    "              loss=tf.keras.losses.MSE,\n",
    "              metrics=[tf.keras.metrics.MeanAbsoluteError(), tf.keras.metrics.MeanSquaredError()])"
   ]
  },
  {
   "cell_type": "code",
   "execution_count": 7,
   "metadata": {},
   "outputs": [
    {
     "name": "stdout",
     "output_type": "stream",
     "text": [
      "Train on 3000 samples\n",
      "Epoch 1/20\n",
      "3000/3000 - 0s - loss: 0.2939 - mean_absolute_error: 0.3378 - mean_squared_error: 0.2939\n",
      "Epoch 2/20\n",
      "3000/3000 - 0s - loss: 0.0967 - mean_absolute_error: 0.1967 - mean_squared_error: 0.0967\n",
      "Epoch 3/20\n",
      "3000/3000 - 0s - loss: 0.0495 - mean_absolute_error: 0.1355 - mean_squared_error: 0.0495\n",
      "Epoch 4/20\n",
      "3000/3000 - 0s - loss: 0.0332 - mean_absolute_error: 0.1093 - mean_squared_error: 0.0332\n",
      "Epoch 5/20\n",
      "3000/3000 - 0s - loss: 0.0245 - mean_absolute_error: 0.0933 - mean_squared_error: 0.0245\n",
      "Epoch 6/20\n",
      "3000/3000 - 0s - loss: 0.0191 - mean_absolute_error: 0.0804 - mean_squared_error: 0.0191\n",
      "Epoch 7/20\n",
      "3000/3000 - 0s - loss: 0.0136 - mean_absolute_error: 0.0677 - mean_squared_error: 0.0136\n",
      "Epoch 8/20\n",
      "3000/3000 - 0s - loss: 0.0217 - mean_absolute_error: 0.0818 - mean_squared_error: 0.0217\n",
      "Epoch 9/20\n",
      "3000/3000 - 0s - loss: 0.0092 - mean_absolute_error: 0.0559 - mean_squared_error: 0.0092\n",
      "Epoch 10/20\n",
      "3000/3000 - 0s - loss: 0.0105 - mean_absolute_error: 0.0608 - mean_squared_error: 0.0105\n",
      "Epoch 11/20\n",
      "3000/3000 - 0s - loss: 0.0058 - mean_absolute_error: 0.0446 - mean_squared_error: 0.0058\n",
      "Epoch 12/20\n",
      "3000/3000 - 0s - loss: 0.0060 - mean_absolute_error: 0.0469 - mean_squared_error: 0.0060\n",
      "Epoch 13/20\n",
      "3000/3000 - 0s - loss: 0.0046 - mean_absolute_error: 0.0414 - mean_squared_error: 0.0046\n",
      "Epoch 14/20\n",
      "3000/3000 - 0s - loss: 0.0074 - mean_absolute_error: 0.0410 - mean_squared_error: 0.0074\n",
      "Epoch 15/20\n",
      "3000/3000 - 0s - loss: 0.0041 - mean_absolute_error: 0.0369 - mean_squared_error: 0.0041\n",
      "Epoch 16/20\n",
      "3000/3000 - 0s - loss: 0.0061 - mean_absolute_error: 0.0423 - mean_squared_error: 0.0061\n",
      "Epoch 17/20\n",
      "3000/3000 - 0s - loss: 0.0039 - mean_absolute_error: 0.0383 - mean_squared_error: 0.0039\n",
      "Epoch 18/20\n",
      "3000/3000 - 0s - loss: 0.0039 - mean_absolute_error: 0.0360 - mean_squared_error: 0.0039\n",
      "Epoch 19/20\n",
      "3000/3000 - 0s - loss: 0.0030 - mean_absolute_error: 0.0302 - mean_squared_error: 0.0030\n",
      "Epoch 20/20\n",
      "3000/3000 - 0s - loss: 0.0041 - mean_absolute_error: 0.0334 - mean_squared_error: 0.0041\n"
     ]
    },
    {
     "data": {
      "text/plain": [
       "<tensorflow.python.keras.callbacks.History at 0x7f1416e33c50>"
      ]
     },
     "execution_count": 7,
     "metadata": {},
     "output_type": "execute_result"
    }
   ],
   "source": [
    "model.fit(X, y, epochs=20, verbose=2)"
   ]
  },
  {
   "cell_type": "code",
   "execution_count": 8,
   "metadata": {},
   "outputs": [],
   "source": [
    "num_shap_samples=100"
   ]
  },
  {
   "cell_type": "code",
   "execution_count": 9,
   "metadata": {},
   "outputs": [
    {
     "name": "stderr",
     "output_type": "stream",
     "text": [
      "  0%|          | 0/100 [00:00<?, ?it/s]WARNING: Logging before flag parsing goes to stderr.\n",
      "W1022 13:02:54.544668 139726224320320 base_layer.py:1814] Layer dense is casting an input tensor from dtype float64 to the layer's dtype of float32, which is new behavior in TensorFlow 2.  The layer has dtype float32 because it's dtype defaults to floatx.\n",
      "\n",
      "If you intended to run this layer in float32, you can safely ignore this warning. If in doubt, this warning is likely only an issue if you are porting a TensorFlow 1.X model to TensorFlow 2.\n",
      "\n",
      "To change all layers to have dtype float64 by default, call `tf.keras.backend.set_floatx('float64')`. To change just this layer, pass dtype='float64' to the layer constructor. If you are the author of this layer, you can disable autocasting by passing autocast=False to the base Layer constructor.\n",
      "\n",
      "100%|██████████| 100/100 [00:06<00:00, 15.73it/s]\n"
     ]
    }
   ],
   "source": [
    "primal_explainer = MarginalExplainer(model, X[num_shap_samples:], nsamples=800, representation='mobius')\n",
    "primal_effects = primal_explainer.explain(X[:num_shap_samples], verbose=True)"
   ]
  },
  {
   "cell_type": "code",
   "execution_count": 10,
   "metadata": {},
   "outputs": [
    {
     "name": "stderr",
     "output_type": "stream",
     "text": [
      "100%|██████████| 100/100 [00:06<00:00, 16.22it/s]\n"
     ]
    }
   ],
   "source": [
    "dual_explainer = MarginalExplainer(model, X[num_shap_samples:], nsamples=800, representation='comobius')\n",
    "dual_effects = dual_explainer.explain(X[:num_shap_samples], verbose=True)"
   ]
  },
  {
   "cell_type": "code",
   "execution_count": 11,
   "metadata": {},
   "outputs": [
    {
     "name": "stderr",
     "output_type": "stream",
     "text": [
      "100%|██████████| 100/100 [00:12<00:00,  8.42it/s]\n"
     ]
    }
   ],
   "source": [
    "average_explainer = MarginalExplainer(model, X[num_shap_samples:], nsamples=800, representation='average')\n",
    "average_effects = average_explainer.explain(X[:num_shap_samples], verbose=True)"
   ]
  },
  {
   "cell_type": "code",
   "execution_count": 12,
   "metadata": {},
   "outputs": [
    {
     "data": {
      "application/vnd.jupyter.widget-view+json": {
       "model_id": "83ac20e358254e1a949cae65d1e74bf1",
       "version_major": 2,
       "version_minor": 0
      },
      "text/plain": [
       "HBox(children=(IntProgress(value=0), HTML(value='')))"
      ]
     },
     "metadata": {},
     "output_type": "display_data"
    },
    {
     "name": "stdout",
     "output_type": "stream",
     "text": [
      "\n"
     ]
    }
   ],
   "source": [
    "model_func = lambda x: model(x).numpy()\n",
    "kernel_explainer = shap.SamplingExplainer(model_func, X)\n",
    "kernel_shap = kernel_explainer.shap_values(X[:num_shap_samples])"
   ]
  },
  {
   "cell_type": "code",
   "execution_count": 13,
   "metadata": {},
   "outputs": [],
   "source": [
    "def unroll(x):\n",
    "    ret = []\n",
    "    for i in range(x.shape[-1]):\n",
    "        ret.append(x[:, i])\n",
    "    return np.concatenate(ret)"
   ]
  },
  {
   "cell_type": "code",
   "execution_count": 14,
   "metadata": {},
   "outputs": [],
   "source": [
    "data_df = pd.DataFrame({\n",
    "    'Sampled Primal Effects':  unroll(primal_effects),\n",
    "    'Sampled Dual Effects':    unroll(dual_effects),\n",
    "    'Sampled Average Effects': unroll(average_effects),\n",
    "    'Kernel SHAP Values':      unroll(kernel_shap),\n",
    "    'Primal Interaction Effects':  unroll(kernel_shap - primal_effects),\n",
    "    'Dual Interaction Effects':    unroll(kernel_shap - dual_effects),\n",
    "    'Average Interaction Effects': unroll(kernel_shap - average_effects),\n",
    "    'Feature': [0] * num_shap_samples + [1] * num_shap_samples + [2] * num_shap_samples\n",
    "})"
   ]
  },
  {
   "cell_type": "code",
   "execution_count": 15,
   "metadata": {},
   "outputs": [
    {
     "data": {
      "application/vnd.vegalite.v3+json": {
       "$schema": "https://vega.github.io/schema/vega-lite/v3.2.1.json",
       "config": {
        "mark": {
         "tooltip": null
        },
        "view": {
         "height": 300,
         "width": 400
        }
       },
       "datasets": {
        "data-64bfb52619488000f696e4e667c8350a": [
         {
          "Average Interaction Effects": 0.017375346140292736,
          "Dual Interaction Effects": 0.08890302801254137,
          "Feature": 0,
          "Kernel SHAP Values": -0.054566410540315066,
          "Primal Interaction Effects": -0.1385705307709898,
          "Sampled Average Effects": -0.0719417566806078,
          "Sampled Dual Effects": -0.14346943855285643,
          "Sampled Primal Effects": 0.08400412023067474
         },
         {
          "Average Interaction Effects": -0.00770065063964441,
          "Dual Interaction Effects": 0.04629093398917601,
          "Feature": 0,
          "Kernel SHAP Values": 0.07536454667914794,
          "Primal Interaction Effects": 0.027165526949056842,
          "Sampled Average Effects": 0.08306519731879235,
          "Sampled Dual Effects": 0.029073612689971925,
          "Sampled Primal Effects": 0.048199019730091094
         },
         {
          "Average Interaction Effects": 0.04826663060468439,
          "Dual Interaction Effects": -2.0748121502773764,
          "Feature": 0,
          "Kernel SHAP Values": 2.353764391563654,
          "Primal Interaction Effects": 2.2238994455559253,
          "Sampled Average Effects": 2.3054977609589695,
          "Sampled Dual Effects": 4.42857654184103,
          "Sampled Primal Effects": 0.12986494600772858
         },
         {
          "Average Interaction Effects": -0.040359643063643924,
          "Dual Interaction Effects": 0.24074322972526213,
          "Feature": 0,
          "Kernel SHAP Values": -0.28934575240979526,
          "Primal Interaction Effects": -0.3807422189034018,
          "Sampled Average Effects": -0.24898610934615134,
          "Sampled Dual Effects": -0.5300889821350574,
          "Sampled Primal Effects": 0.09139646649360657
         },
         {
          "Average Interaction Effects": 0.017508236639200384,
          "Dual Interaction Effects": 0.001867262892423803,
          "Feature": 0,
          "Kernel SHAP Values": 0.058737642340360816,
          "Primal Interaction Effects": -0.018692536927760905,
          "Sampled Average Effects": 0.04122940570116043,
          "Sampled Dual Effects": 0.05687037944793701,
          "Sampled Primal Effects": 0.07743017926812172
         },
         {
          "Average Interaction Effects": 0.009304266560888785,
          "Dual Interaction Effects": 0.17454905449233105,
          "Feature": 0,
          "Kernel SHAP Values": -0.10734778941788624,
          "Primal Interaction Effects": -0.17284122110524128,
          "Sampled Average Effects": -0.11665205597877502,
          "Sampled Dual Effects": -0.2818968439102173,
          "Sampled Primal Effects": 0.06549343168735504
         },
         {
          "Average Interaction Effects": -0.07711476316591648,
          "Dual Interaction Effects": -0.0580796256466761,
          "Feature": 0,
          "Kernel SHAP Values": 0.0458287725047216,
          "Primal Interaction Effects": -0.06597913918932824,
          "Sampled Average Effects": 0.12294353567063808,
          "Sampled Dual Effects": 0.1039083981513977,
          "Sampled Primal Effects": 0.11180791169404984
         },
         {
          "Average Interaction Effects": -0.021230232927936465,
          "Dual Interaction Effects": -0.5744295579828205,
          "Feature": 0,
          "Kernel SHAP Values": 0.4621903842054425,
          "Primal Interaction Effects": 0.5585764294229565,
          "Sampled Average Effects": 0.48342061713337897,
          "Sampled Dual Effects": 1.036619942188263,
          "Sampled Primal Effects": -0.09638604521751404
         },
         {
          "Average Interaction Effects": -0.1633447889293027,
          "Dual Interaction Effects": 0.8383494674359966,
          "Feature": 0,
          "Kernel SHAP Values": -0.9702435243929219,
          "Primal Interaction Effects": -1.2048307544792485,
          "Sampled Average Effects": -0.8068987354636192,
          "Sampled Dual Effects": -1.8085929918289185,
          "Sampled Primal Effects": 0.2345872300863266
         },
         {
          "Average Interaction Effects": -0.026613907506527312,
          "Dual Interaction Effects": 0.22375401333921963,
          "Feature": 0,
          "Kernel SHAP Values": -0.28740289493447724,
          "Primal Interaction Effects": -0.27320780261403504,
          "Sampled Average Effects": -0.2607889874279499,
          "Sampled Dual Effects": -0.5111569082736969,
          "Sampled Primal Effects": -0.0141950923204422
         },
         {
          "Average Interaction Effects": -0.022159523696303245,
          "Dual Interaction Effects": 0.02743904855787767,
          "Feature": 0,
          "Kernel SHAP Values": -0.07733406278550613,
          "Primal Interaction Effects": -0.0352773985570668,
          "Sampled Average Effects": -0.05517453908920288,
          "Sampled Dual Effects": -0.1047731113433838,
          "Sampled Primal Effects": -0.04205666422843933
         },
         {
          "Average Interaction Effects": -0.022349554458780563,
          "Dual Interaction Effects": 0.07303858838029358,
          "Feature": 0,
          "Kernel SHAP Values": -0.03272942462019471,
          "Primal Interaction Effects": -0.09399029680542496,
          "Sampled Average Effects": -0.010379870161414147,
          "Sampled Dual Effects": -0.10576801300048828,
          "Sampled Primal Effects": 0.061260872185230256
         },
         {
          "Average Interaction Effects": -0.06269896173586892,
          "Dual Interaction Effects": 0.007411045490598213,
          "Feature": 0,
          "Kernel SHAP Values": -0.04946524554600762,
          "Primal Interaction Effects": -0.05376002246251153,
          "Sampled Average Effects": 0.013233716189861298,
          "Sampled Dual Effects": -0.05687629103660583,
          "Sampled Primal Effects": 0.004294776916503906
         },
         {
          "Average Interaction Effects": -0.05649634924743985,
          "Dual Interaction Effects": 0.5457106207587875,
          "Feature": 0,
          "Kernel SHAP Values": -0.6332445440909705,
          "Primal Interaction Effects": -0.7183639854661069,
          "Sampled Average Effects": -0.5767481948435307,
          "Sampled Dual Effects": -1.178955164849758,
          "Sampled Primal Effects": 0.08511944137513637
         },
         {
          "Average Interaction Effects": 0.03675662954057411,
          "Dual Interaction Effects": -0.1091312649408464,
          "Feature": 0,
          "Kernel SHAP Values": 0.1434169480642195,
          "Primal Interaction Effects": 0.11048580531681731,
          "Sampled Average Effects": 0.1066603185236454,
          "Sampled Dual Effects": 0.2525482130050659,
          "Sampled Primal Effects": 0.03293114274740219
         },
         {
          "Average Interaction Effects": -0.06259656070230035,
          "Dual Interaction Effects": -0.601272514224625,
          "Feature": 0,
          "Kernel SHAP Values": 0.48753907227458926,
          "Primal Interaction Effects": 0.3253576680416104,
          "Sampled Average Effects": 0.5501356329768896,
          "Sampled Dual Effects": 1.0888115864992143,
          "Sampled Primal Effects": 0.16218140423297883
         },
         {
          "Average Interaction Effects": -0.019635465794214553,
          "Dual Interaction Effects": 0.1297998049324662,
          "Feature": 0,
          "Kernel SHAP Values": 0.04527432555615014,
          "Primal Interaction Effects": -0.006785315030226051,
          "Sampled Average Effects": 0.06490979135036469,
          "Sampled Dual Effects": -0.08452547937631608,
          "Sampled Primal Effects": 0.05205964058637619
         },
         {
          "Average Interaction Effects": -0.04728817121025808,
          "Dual Interaction Effects": 0.20925214377331847,
          "Feature": 0,
          "Kernel SHAP Values": -0.27282899578001985,
          "Primal Interaction Effects": -0.25047162850287447,
          "Sampled Average Effects": -0.22554082456976177,
          "Sampled Dual Effects": -0.4820811395533383,
          "Sampled Primal Effects": -0.022357367277145386
         },
         {
          "Average Interaction Effects": -0.09679177747937173,
          "Dual Interaction Effects": 0.1471605248573211,
          "Feature": 0,
          "Kernel SHAP Values": -0.1008923773643586,
          "Primal Interaction Effects": -0.2844294725534532,
          "Sampled Average Effects": -0.004100599884986877,
          "Sampled Dual Effects": -0.2480529022216797,
          "Sampled Primal Effects": 0.18353709518909456
         },
         {
          "Average Interaction Effects": -0.061761863792803684,
          "Dual Interaction Effects": -0.021290415490534703,
          "Feature": 0,
          "Kernel SHAP Values": 0.024070745741459926,
          "Primal Interaction Effects": -0.0075687735923794935,
          "Sampled Average Effects": 0.08583260953426361,
          "Sampled Dual Effects": 0.04536116123199463,
          "Sampled Primal Effects": 0.03163951933383942
         },
         {
          "Average Interaction Effects": -0.00816242291253566,
          "Dual Interaction Effects": 0.6868622547515059,
          "Feature": 0,
          "Kernel SHAP Values": -0.7984542006127214,
          "Primal Interaction Effects": -0.8593658316008425,
          "Sampled Average Effects": -0.7902917777001858,
          "Sampled Dual Effects": -1.4853164553642273,
          "Sampled Primal Effects": 0.06091163098812103
         },
         {
          "Average Interaction Effects": 0.07555122223831456,
          "Dual Interaction Effects": -1.0894273181524152,
          "Feature": 0,
          "Kernel SHAP Values": 0.9505443004999284,
          "Primal Interaction Effects": 0.982696691725028,
          "Sampled Average Effects": 0.8749930782616139,
          "Sampled Dual Effects": 2.0399716186523436,
          "Sampled Primal Effects": -0.032152391225099566
         },
         {
          "Average Interaction Effects": -0.028483149930907795,
          "Dual Interaction Effects": 0.026991527602003504,
          "Feature": 0,
          "Kernel SHAP Values": -0.04427269168205411,
          "Primal Interaction Effects": -0.0638119697571531,
          "Sampled Average Effects": -0.015789541751146316,
          "Sampled Dual Effects": -0.07126421928405761,
          "Sampled Primal Effects": 0.01953927807509899
         },
         {
          "Average Interaction Effects": -0.01968378828785855,
          "Dual Interaction Effects": -0.4073821561219497,
          "Feature": 0,
          "Kernel SHAP Values": 0.3988596962211327,
          "Primal Interaction Effects": 0.3736332127270894,
          "Sampled Average Effects": 0.41854348450899126,
          "Sampled Dual Effects": 0.8062418523430824,
          "Sampled Primal Effects": 0.02522648349404335
         },
         {
          "Average Interaction Effects": 0.01463118930819992,
          "Dual Interaction Effects": 0.027640014193091433,
          "Feature": 0,
          "Kernel SHAP Values": 0.05806533386472229,
          "Primal Interaction Effects": -0.04349184552666184,
          "Sampled Average Effects": 0.04343414455652237,
          "Sampled Dual Effects": 0.030425319671630858,
          "Sampled Primal Effects": 0.10155717939138413
         },
         {
          "Average Interaction Effects": -0.05477269634636105,
          "Dual Interaction Effects": -0.06618072547050179,
          "Feature": 0,
          "Kernel SHAP Values": -0.05614794440599144,
          "Primal Interaction Effects": -0.0696418008956498,
          "Sampled Average Effects": -0.001375248059630394,
          "Sampled Dual Effects": 0.010032781064510346,
          "Sampled Primal Effects": 0.013493856489658356
         },
         {
          "Average Interaction Effects": -0.10252879336229909,
          "Dual Interaction Effects": 0.29350675285108935,
          "Feature": 0,
          "Kernel SHAP Values": -0.3715126901840364,
          "Primal Interaction Effects": -0.3778744342898523,
          "Sampled Average Effects": -0.2689838968217373,
          "Sampled Dual Effects": -0.6650194430351257,
          "Sampled Primal Effects": 0.006361744105815887
         },
         {
          "Average Interaction Effects": -0.056483677795300974,
          "Dual Interaction Effects": -0.10692192228711654,
          "Feature": 0,
          "Kernel SHAP Values": 0.006688421645988929,
          "Primal Interaction Effects": 0.00016988305174301874,
          "Sampled Average Effects": 0.0631720994412899,
          "Sampled Dual Effects": 0.11361034393310547,
          "Sampled Primal Effects": 0.00651853859424591
         },
         {
          "Average Interaction Effects": -0.03407471953810987,
          "Dual Interaction Effects": -0.10589153422893821,
          "Feature": 0,
          "Kernel SHAP Values": 0.05524021611629191,
          "Primal Interaction Effects": 0.13204090268431368,
          "Sampled Average Effects": 0.08931493565440178,
          "Sampled Dual Effects": 0.1611317503452301,
          "Sampled Primal Effects": -0.07680068656802178
         },
         {
          "Average Interaction Effects": -0.0004541195927516596,
          "Dual Interaction Effects": 0.10461420509048243,
          "Feature": 0,
          "Kernel SHAP Values": -0.01386653770677308,
          "Primal Interaction Effects": -0.0476905315088437,
          "Sampled Average Effects": -0.01341241811402142,
          "Sampled Dual Effects": -0.11848074279725551,
          "Sampled Primal Effects": 0.033823993802070615
         },
         {
          "Average Interaction Effects": -0.01969363096036758,
          "Dual Interaction Effects": -0.025381186929129024,
          "Feature": 0,
          "Kernel SHAP Values": -0.03497157665767517,
          "Primal Interaction Effects": -0.12144853385963288,
          "Sampled Average Effects": -0.015277945697307586,
          "Sampled Dual Effects": -0.009590389728546143,
          "Sampled Primal Effects": 0.08647695720195771
         },
         {
          "Average Interaction Effects": -0.08666951774400039,
          "Dual Interaction Effects": 0.40654718139428336,
          "Feature": 0,
          "Kernel SHAP Values": -0.5007643010352211,
          "Primal Interaction Effects": -0.5902603345249252,
          "Sampled Average Effects": -0.4140947832912207,
          "Sampled Dual Effects": -0.9073114824295044,
          "Sampled Primal Effects": 0.08949603348970413
         },
         {
          "Average Interaction Effects": -0.025010200247342664,
          "Dual Interaction Effects": 0.005150296285574358,
          "Feature": 0,
          "Kernel SHAP Values": -0.01580674926954039,
          "Primal Interaction Effects": -0.13843711222725638,
          "Sampled Average Effects": 0.009203450977802277,
          "Sampled Dual Effects": -0.020957045555114746,
          "Sampled Primal Effects": 0.12263036295771598
         },
         {
          "Average Interaction Effects": 0.09256173178606003,
          "Dual Interaction Effects": -0.4145152930910113,
          "Feature": 0,
          "Kernel SHAP Values": 0.5229200221603391,
          "Primal Interaction Effects": 0.6097287668292997,
          "Sampled Average Effects": 0.43035829037427903,
          "Sampled Dual Effects": 0.9374353152513504,
          "Sampled Primal Effects": -0.08680874466896057
         },
         {
          "Average Interaction Effects": -0.06083872272048185,
          "Dual Interaction Effects": -1.8589824874547503,
          "Feature": 0,
          "Kernel SHAP Values": 1.560683882698677,
          "Primal Interaction Effects": 1.4891355432721596,
          "Sampled Average Effects": 1.621522605419159,
          "Sampled Dual Effects": 3.4196663701534273,
          "Sampled Primal Effects": 0.07154833942651749
         },
         {
          "Average Interaction Effects": -0.020626435382699718,
          "Dual Interaction Effects": -0.13910180526826355,
          "Feature": 0,
          "Kernel SHAP Values": 0.02091843773570086,
          "Primal Interaction Effects": -0.08373151551041579,
          "Sampled Average Effects": 0.04154487311840058,
          "Sampled Dual Effects": 0.16002024300396442,
          "Sampled Primal Effects": 0.10464995324611664
         },
         {
          "Average Interaction Effects": -0.0026360761461152547,
          "Dual Interaction Effects": 0.023142982787142802,
          "Feature": 0,
          "Kernel SHAP Values": 0.010327555006991436,
          "Primal Interaction Effects": -0.0541802387771501,
          "Sampled Average Effects": 0.01296363115310669,
          "Sampled Dual Effects": -0.012815427780151368,
          "Sampled Primal Effects": 0.06450779378414154
         },
         {
          "Average Interaction Effects": -0.031054928831707407,
          "Dual Interaction Effects": -0.19553964422824577,
          "Feature": 0,
          "Kernel SHAP Values": 0.2520912026539932,
          "Primal Interaction Effects": 0.12698307625209196,
          "Sampled Average Effects": 0.2831461314857006,
          "Sampled Dual Effects": 0.447630846882239,
          "Sampled Primal Effects": 0.12510812640190125
         },
         {
          "Average Interaction Effects": -0.0013841379322114822,
          "Dual Interaction Effects": -0.09769563353434237,
          "Feature": 0,
          "Kernel SHAP Values": 0.06427875840291349,
          "Primal Interaction Effects": 0.017691668506711396,
          "Sampled Average Effects": 0.06566289633512497,
          "Sampled Dual Effects": 0.16197439193725585,
          "Sampled Primal Effects": 0.04658708989620209
         },
         {
          "Average Interaction Effects": -0.042872278532855135,
          "Dual Interaction Effects": -0.15627805649387083,
          "Feature": 0,
          "Kernel SHAP Values": 0.29682596267116823,
          "Primal Interaction Effects": 0.17031054587019243,
          "Sampled Average Effects": 0.33969824120402337,
          "Sampled Dual Effects": 0.45310401916503906,
          "Sampled Primal Effects": 0.1265154168009758
         },
         {
          "Average Interaction Effects": -0.060594156272971045,
          "Dual Interaction Effects": -0.5892894431951279,
          "Feature": 0,
          "Kernel SHAP Values": 0.5954934790727859,
          "Primal Interaction Effects": 0.497448519766069,
          "Sampled Average Effects": 0.656087635345757,
          "Sampled Dual Effects": 1.1847829222679138,
          "Sampled Primal Effects": 0.09804495930671692
         },
         {
          "Average Interaction Effects": -0.018673453937883944,
          "Dual Interaction Effects": -0.5361513511944968,
          "Feature": 0,
          "Kernel SHAP Values": 0.43588366820323887,
          "Primal Interaction Effects": 0.46673333837497655,
          "Sampled Average Effects": 0.4545571221411228,
          "Sampled Dual Effects": 0.9720350193977356,
          "Sampled Primal Effects": -0.030849670171737672
         },
         {
          "Average Interaction Effects": 0.020363713170364728,
          "Dual Interaction Effects": -0.42841026935450716,
          "Feature": 0,
          "Kernel SHAP Values": 0.4638730296147617,
          "Primal Interaction Effects": 0.41569419238992056,
          "Sampled Average Effects": 0.44350931644439695,
          "Sampled Dual Effects": 0.8922832989692688,
          "Sampled Primal Effects": 0.04817883722484112
         },
         {
          "Average Interaction Effects": -0.041507377459838596,
          "Dual Interaction Effects": -0.08752856029494067,
          "Feature": 0,
          "Kernel SHAP Values": 0.03272147403733472,
          "Primal Interaction Effects": -0.04462018115742465,
          "Sampled Average Effects": 0.07422885149717331,
          "Sampled Dual Effects": 0.1202500343322754,
          "Sampled Primal Effects": 0.07734165519475937
         },
         {
          "Average Interaction Effects": -0.03011715202995008,
          "Dual Interaction Effects": -0.21870041571028898,
          "Feature": 0,
          "Kernel SHAP Values": 0.3617143944703751,
          "Primal Interaction Effects": 0.24630126976005368,
          "Sampled Average Effects": 0.3918315465003252,
          "Sampled Dual Effects": 0.5804148101806641,
          "Sampled Primal Effects": 0.11541312471032143
         },
         {
          "Average Interaction Effects": 0.014275231336851879,
          "Dual Interaction Effects": 0.38502969940533244,
          "Feature": 0,
          "Kernel SHAP Values": -0.34541197339663904,
          "Primal Interaction Effects": -0.34770550618539253,
          "Sampled Average Effects": -0.3596872047334909,
          "Sampled Dual Effects": -0.7304416728019715,
          "Sampled Primal Effects": 0.0022935327887535096
         },
         {
          "Average Interaction Effects": -0.010813659678214432,
          "Dual Interaction Effects": -0.13627313683461514,
          "Feature": 0,
          "Kernel SHAP Values": 0.16205188920069372,
          "Primal Interaction Effects": 0.05626020376849805,
          "Sampled Average Effects": 0.17286554887890815,
          "Sampled Dual Effects": 0.29832502603530886,
          "Sampled Primal Effects": 0.10579168543219566
         },
         {
          "Average Interaction Effects": 0.06790381355886438,
          "Dual Interaction Effects": 0.1493508948266981,
          "Feature": 0,
          "Kernel SHAP Values": -0.04917224989528677,
          "Primal Interaction Effects": -0.15010320083494208,
          "Sampled Average Effects": -0.11707606345415116,
          "Sampled Dual Effects": -0.19852314472198487,
          "Sampled Primal Effects": 0.1009309509396553
         },
         {
          "Average Interaction Effects": -0.10014438710463974,
          "Dual Interaction Effects": 0.5323157341097501,
          "Feature": 0,
          "Kernel SHAP Values": -0.5400383727933261,
          "Primal Interaction Effects": -0.6145394181395862,
          "Sampled Average Effects": -0.4398939856886864,
          "Sampled Dual Effects": -1.0723541069030762,
          "Sampled Primal Effects": 0.07450104534626006
         },
         {
          "Average Interaction Effects": 0.007964749430955154,
          "Dual Interaction Effects": 0.33881777266198465,
          "Feature": 0,
          "Kernel SHAP Values": -0.33278156062430075,
          "Primal Interaction Effects": -0.3030484881049984,
          "Sampled Average Effects": -0.3407463100552559,
          "Sampled Dual Effects": -0.6715993332862854,
          "Sampled Primal Effects": -0.029733072519302368
         },
         {
          "Average Interaction Effects": -0.004089161557175591,
          "Dual Interaction Effects": 0.02479138393976503,
          "Feature": 0,
          "Kernel SHAP Values": 0.06008740444757753,
          "Primal Interaction Effects": -0.0036036566915292195,
          "Sampled Average Effects": 0.06417656600475312,
          "Sampled Dual Effects": 0.0352960205078125,
          "Sampled Primal Effects": 0.06369106113910675
         },
         {
          "Average Interaction Effects": -0.03884991770390067,
          "Dual Interaction Effects": 0.06074354464408363,
          "Feature": 0,
          "Kernel SHAP Values": -0.17546215003136192,
          "Primal Interaction Effects": -0.26379678552750147,
          "Sampled Average Effects": -0.13661223232746125,
          "Sampled Dual Effects": -0.23620569467544555,
          "Sampled Primal Effects": 0.08833463549613953
         },
         {
          "Average Interaction Effects": -0.030609363704674486,
          "Dual Interaction Effects": -1.0212644151744774,
          "Feature": 0,
          "Kernel SHAP Values": 0.7904931302967141,
          "Primal Interaction Effects": 0.7487531546356747,
          "Sampled Average Effects": 0.8211024940013886,
          "Sampled Dual Effects": 1.8117575454711914,
          "Sampled Primal Effects": 0.041739975661039354
         },
         {
          "Average Interaction Effects": 0.04163112291656429,
          "Dual Interaction Effects": 0.27683985540233547,
          "Feature": 0,
          "Kernel SHAP Values": -0.29176716318763796,
          "Primal Interaction Effects": -0.31891185095943514,
          "Sampled Average Effects": -0.33339828610420225,
          "Sampled Dual Effects": -0.5686070185899734,
          "Sampled Primal Effects": 0.02714468777179718
         },
         {
          "Average Interaction Effects": -0.06579560428486042,
          "Dual Interaction Effects": 0.04142454855515784,
          "Feature": 0,
          "Kernel SHAP Values": -0.09175183303282433,
          "Primal Interaction Effects": -0.10049833081290895,
          "Sampled Average Effects": -0.025956228747963904,
          "Sampled Dual Effects": -0.13317638158798217,
          "Sampled Primal Effects": 0.00874649778008461
         },
         {
          "Average Interaction Effects": -0.049119439665938194,
          "Dual Interaction Effects": 0.012688434626197048,
          "Feature": 0,
          "Kernel SHAP Values": 0.007277570273017116,
          "Primal Interaction Effects": -0.04470002302970963,
          "Sampled Average Effects": 0.05639700993895531,
          "Sampled Dual Effects": -0.005410864353179932,
          "Sampled Primal Effects": 0.05197759330272675
         },
         {
          "Average Interaction Effects": -0.05832504817167827,
          "Dual Interaction Effects": -0.2220388320914895,
          "Feature": 0,
          "Kernel SHAP Values": 0.24918339691241675,
          "Primal Interaction Effects": 0.06324819705565865,
          "Sampled Average Effects": 0.30750844508409503,
          "Sampled Dual Effects": 0.47122222900390626,
          "Sampled Primal Effects": 0.1859351998567581
         },
         {
          "Average Interaction Effects": -0.08480184834175974,
          "Dual Interaction Effects": 0.5490311563414965,
          "Feature": 0,
          "Kernel SHAP Values": -0.6225992738800612,
          "Primal Interaction Effects": -0.7437215977507201,
          "Sampled Average Effects": -0.5377974255383015,
          "Sampled Dual Effects": -1.1716304302215577,
          "Sampled Primal Effects": 0.12112232387065887
         },
         {
          "Average Interaction Effects": -0.022896956993366607,
          "Dual Interaction Effects": 0.17331510234055386,
          "Feature": 0,
          "Kernel SHAP Values": -0.2609745843392862,
          "Primal Interaction Effects": -0.20775914084735048,
          "Sampled Average Effects": -0.2380776273459196,
          "Sampled Dual Effects": -0.4342896866798401,
          "Sampled Primal Effects": -0.05321544349193573
         },
         {
          "Average Interaction Effects": 0.03155791073725081,
          "Dual Interaction Effects": 0.03386267764181353,
          "Feature": 0,
          "Kernel SHAP Values": 0.01735930068105913,
          "Primal Interaction Effects": 0.008205305763189563,
          "Sampled Average Effects": -0.014198610056191684,
          "Sampled Dual Effects": -0.016503376960754393,
          "Sampled Primal Effects": 0.009153994917869567
         },
         {
          "Average Interaction Effects": -0.15277223557597158,
          "Dual Interaction Effects": 0.4366048949920559,
          "Feature": 0,
          "Kernel SHAP Values": -0.562165641192255,
          "Primal Interaction Effects": -0.7944184738433933,
          "Sampled Average Effects": -0.4093934056162834,
          "Sampled Dual Effects": -0.9987705361843109,
          "Sampled Primal Effects": 0.2322528326511383
         },
         {
          "Average Interaction Effects": 0.019008501721191146,
          "Dual Interaction Effects": -0.045787785100174214,
          "Feature": 0,
          "Kernel SHAP Values": 0.11815567548351262,
          "Primal Interaction Effects": 0.06076866942422364,
          "Sampled Average Effects": 0.09914717376232147,
          "Sampled Dual Effects": 0.16394346058368683,
          "Sampled Primal Effects": 0.05738700605928898
         },
         {
          "Average Interaction Effects": -0.0985810269188998,
          "Dual Interaction Effects": -2.083123923144948,
          "Feature": 0,
          "Kernel SHAP Values": 2.0205175844806313,
          "Primal Interaction Effects": 1.9053544155734659,
          "Sampled Average Effects": 2.119098611399531,
          "Sampled Dual Effects": 4.103641507625579,
          "Sampled Primal Effects": 0.11516316890716553
         },
         {
          "Average Interaction Effects": -0.14212788451605096,
          "Dual Interaction Effects": 2.0689715624958964,
          "Feature": 0,
          "Kernel SHAP Values": -2.145102525243094,
          "Primal Interaction Effects": -2.430619592556288,
          "Sampled Average Effects": -2.002974640727043,
          "Sampled Dual Effects": -4.21407408773899,
          "Sampled Primal Effects": 0.28551706731319426
         },
         {
          "Average Interaction Effects": -0.033901583539959035,
          "Dual Interaction Effects": -0.11837185523163898,
          "Feature": 0,
          "Kernel SHAP Values": 0.19247062423575298,
          "Primal Interaction Effects": 0.09432052889216319,
          "Sampled Average Effects": 0.22637220777571201,
          "Sampled Dual Effects": 0.31084247946739196,
          "Sampled Primal Effects": 0.09815009534358979
         },
         {
          "Average Interaction Effects": -0.06749835989817007,
          "Dual Interaction Effects": 0.10380504943982737,
          "Feature": 0,
          "Kernel SHAP Values": -0.11395647666796073,
          "Primal Interaction Effects": -0.07826035044535026,
          "Sampled Average Effects": -0.04645811676979065,
          "Sampled Dual Effects": -0.2177615261077881,
          "Sampled Primal Effects": -0.03569612622261047
         },
         {
          "Average Interaction Effects": 0.048598502013895505,
          "Dual Interaction Effects": 0.013247910846087924,
          "Feature": 0,
          "Kernel SHAP Values": 0.10589571978530644,
          "Primal Interaction Effects": 0.18710060502967596,
          "Sampled Average Effects": 0.05729721777141094,
          "Sampled Dual Effects": 0.09264780893921852,
          "Sampled Primal Effects": -0.0812048852443695
         },
         {
          "Average Interaction Effects": -0.19150294867580236,
          "Dual Interaction Effects": -0.10852086452071967,
          "Feature": 0,
          "Kernel SHAP Values": 0.102668161119768,
          "Primal Interaction Effects": 0.039040722872564174,
          "Sampled Average Effects": 0.2941711097955704,
          "Sampled Dual Effects": 0.21118902564048767,
          "Sampled Primal Effects": 0.06362743824720382
         },
         {
          "Average Interaction Effects": -0.08317862856496858,
          "Dual Interaction Effects": -0.3374773864011912,
          "Feature": 0,
          "Kernel SHAP Values": 0.2345912667054982,
          "Primal Interaction Effects": 0.18207717378328753,
          "Sampled Average Effects": 0.3177698952704668,
          "Sampled Dual Effects": 0.5720686531066894,
          "Sampled Primal Effects": 0.052514092922210695
         },
         {
          "Average Interaction Effects": -0.08051093440587931,
          "Dual Interaction Effects": -0.15153124969537674,
          "Feature": 0,
          "Kernel SHAP Values": 0.20652079183523242,
          "Primal Interaction Effects": 0.039133481717749274,
          "Sampled Average Effects": 0.28703172624111173,
          "Sampled Dual Effects": 0.35805204153060916,
          "Sampled Primal Effects": 0.16738731011748315
         },
         {
          "Average Interaction Effects": -0.08006418111957098,
          "Dual Interaction Effects": 0.48184127953611827,
          "Feature": 0,
          "Kernel SHAP Values": -0.4862828663293221,
          "Primal Interaction Effects": -0.5459946969453194,
          "Sampled Average Effects": -0.40621868520975113,
          "Sampled Dual Effects": -0.9681241458654404,
          "Sampled Primal Effects": 0.059711830615997316
         },
         {
          "Average Interaction Effects": 0.006385131591724772,
          "Dual Interaction Effects": 0.028338656985926053,
          "Feature": 0,
          "Kernel SHAP Values": 0.002942522132563014,
          "Primal Interaction Effects": -0.061177883183789826,
          "Sampled Average Effects": -0.003442609459161758,
          "Sampled Dual Effects": -0.025396134853363037,
          "Sampled Primal Effects": 0.06412040531635284
         },
         {
          "Average Interaction Effects": -0.08270978757731423,
          "Dual Interaction Effects": -0.05463485607497201,
          "Feature": 0,
          "Kernel SHAP Values": -0.05320045122496591,
          "Primal Interaction Effects": -0.11117303708188042,
          "Sampled Average Effects": 0.029509336352348328,
          "Sampled Dual Effects": 0.0014344048500061035,
          "Sampled Primal Effects": 0.05797258585691452
         },
         {
          "Average Interaction Effects": 0.030871815788626744,
          "Dual Interaction Effects": 1.138568056630969,
          "Feature": 0,
          "Kernel SHAP Values": -1.0357698263646364,
          "Primal Interaction Effects": -0.8680816926480532,
          "Sampled Average Effects": -1.0666416421532632,
          "Sampled Dual Effects": -2.1743378829956055,
          "Sampled Primal Effects": -0.16768813371658325
         },
         {
          "Average Interaction Effects": 0.08915536047518924,
          "Dual Interaction Effects": -0.2617105978578262,
          "Feature": 0,
          "Kernel SHAP Values": 0.3512862283140488,
          "Primal Interaction Effects": 0.3764341899901696,
          "Sampled Average Effects": 0.2621308678388596,
          "Sampled Dual Effects": 0.612996826171875,
          "Sampled Primal Effects": -0.025147961676120757
         },
         {
          "Average Interaction Effects": -0.012533402493823703,
          "Dual Interaction Effects": 0.2697425275532115,
          "Feature": 0,
          "Kernel SHAP Values": -0.17637753186248653,
          "Primal Interaction Effects": -0.3765330499174487,
          "Sampled Average Effects": -0.16384412936866283,
          "Sampled Dual Effects": -0.44612005941569804,
          "Sampled Primal Effects": 0.20015551805496215
         },
         {
          "Average Interaction Effects": -0.057497890937337426,
          "Dual Interaction Effects": 0.4197130863636641,
          "Feature": 0,
          "Kernel SHAP Values": -0.4654395128518434,
          "Primal Interaction Effects": -0.7008421788841577,
          "Sampled Average Effects": -0.40794162191450595,
          "Sampled Dual Effects": -0.8851525992155075,
          "Sampled Primal Effects": 0.2354026660323143
         },
         {
          "Average Interaction Effects": 0.014351131449814925,
          "Dual Interaction Effects": 0.35973940841796626,
          "Feature": 0,
          "Kernel SHAP Values": -0.3297379223449267,
          "Primal Interaction Effects": -0.3533741308195628,
          "Sampled Average Effects": -0.34408905379474164,
          "Sampled Dual Effects": -0.689477330762893,
          "Sampled Primal Effects": 0.02363620847463608
         },
         {
          "Average Interaction Effects": 0.16503413979353043,
          "Dual Interaction Effects": 0.7983907975667867,
          "Feature": 0,
          "Kernel SHAP Values": -0.6849619689172354,
          "Primal Interaction Effects": -0.6646144330090131,
          "Sampled Average Effects": -0.8499961087107658,
          "Sampled Dual Effects": -1.483352766484022,
          "Sampled Primal Effects": -0.0203475359082222
         },
         {
          "Average Interaction Effects": -0.07543019303003659,
          "Dual Interaction Effects": 0.19498939118465075,
          "Feature": 0,
          "Kernel SHAP Values": -0.3164603630534779,
          "Primal Interaction Effects": -0.5322700563899647,
          "Sampled Average Effects": -0.24103017002344132,
          "Sampled Dual Effects": -0.5114497542381287,
          "Sampled Primal Effects": 0.2158096933364868
         },
         {
          "Average Interaction Effects": 0.010607597560031712,
          "Dual Interaction Effects": -0.40453667566891166,
          "Feature": 0,
          "Kernel SHAP Values": 0.3516073398966029,
          "Primal Interaction Effects": 0.40162766150419266,
          "Sampled Average Effects": 0.3409997423365712,
          "Sampled Dual Effects": 0.7561440155655146,
          "Sampled Primal Effects": -0.05002032160758972
         },
         {
          "Average Interaction Effects": 0.07389244813116119,
          "Dual Interaction Effects": 0.38490754339488076,
          "Feature": 0,
          "Kernel SHAP Values": -0.20068905320374442,
          "Primal Interaction Effects": -0.30494008746354057,
          "Sampled Average Effects": -0.2745815013349056,
          "Sampled Dual Effects": -0.5855965965986252,
          "Sampled Primal Effects": 0.10425103425979615
         },
         {
          "Average Interaction Effects": -0.028231033166278646,
          "Dual Interaction Effects": -0.031062686299313354,
          "Feature": 0,
          "Kernel SHAP Values": -0.015445025121201324,
          "Primal Interaction Effects": -0.1303707240571869,
          "Sampled Average Effects": 0.012786008045077324,
          "Sampled Dual Effects": 0.01561766117811203,
          "Sampled Primal Effects": 0.11492569893598556
         },
         {
          "Average Interaction Effects": -0.06681091246146126,
          "Dual Interaction Effects": -0.05375792373854084,
          "Feature": 0,
          "Kernel SHAP Values": -0.0762408970757143,
          "Primal Interaction Effects": -0.18006944988805218,
          "Sampled Average Effects": -0.009429984614253045,
          "Sampled Dual Effects": -0.022482973337173463,
          "Sampled Primal Effects": 0.10382855281233788
         },
         {
          "Average Interaction Effects": -0.022015312350957418,
          "Dual Interaction Effects": -0.07227083314177277,
          "Feature": 0,
          "Kernel SHAP Values": 0.03125482987645385,
          "Primal Interaction Effects": -0.05889908600565674,
          "Sampled Average Effects": 0.05327014222741127,
          "Sampled Dual Effects": 0.10352566301822662,
          "Sampled Primal Effects": 0.0901539158821106
         },
         {
          "Average Interaction Effects": -0.01798439759765849,
          "Dual Interaction Effects": 0.23604562681163563,
          "Feature": 0,
          "Kernel SHAP Values": -0.21604890633379206,
          "Primal Interaction Effects": -0.24183777380739435,
          "Sampled Average Effects": -0.19806450873613357,
          "Sampled Dual Effects": -0.4520945331454277,
          "Sampled Primal Effects": 0.025788867473602296
         },
         {
          "Average Interaction Effects": -0.08242034157451195,
          "Dual Interaction Effects": -0.03770924126442475,
          "Feature": 0,
          "Kernel SHAP Values": -0.034261334293446966,
          "Primal Interaction Effects": -0.08332856816884084,
          "Sampled Average Effects": 0.04815900728106499,
          "Sampled Dual Effects": 0.003447906970977783,
          "Sampled Primal Effects": 0.04906723387539387
         },
         {
          "Average Interaction Effects": -0.01965883715728084,
          "Dual Interaction Effects": -0.25391938901224886,
          "Feature": 0,
          "Kernel SHAP Values": 0.20167985224446497,
          "Primal Interaction Effects": 0.2748428008081599,
          "Sampled Average Effects": 0.2213386894017458,
          "Sampled Dual Effects": 0.45559924125671386,
          "Sampled Primal Effects": -0.07316294856369496
         },
         {
          "Average Interaction Effects": 0.00698891981424643,
          "Dual Interaction Effects": -0.9166464424234454,
          "Feature": 0,
          "Kernel SHAP Values": 0.977884380807298,
          "Primal Interaction Effects": 1.1648474943536695,
          "Sampled Average Effects": 0.9708954609930516,
          "Sampled Dual Effects": 1.8945308232307434,
          "Sampled Primal Effects": -0.18696311354637146
         },
         {
          "Average Interaction Effects": -0.014799482494099715,
          "Dual Interaction Effects": -0.024951241880162338,
          "Feature": 0,
          "Kernel SHAP Values": 0.03571895751406374,
          "Primal Interaction Effects": -0.08335043777476131,
          "Sampled Average Effects": 0.050518440008163454,
          "Sampled Dual Effects": 0.060670199394226076,
          "Sampled Primal Effects": 0.11906939528882504
         },
         {
          "Average Interaction Effects": -0.09530136851026558,
          "Dual Interaction Effects": 0.1030987773333595,
          "Feature": 0,
          "Kernel SHAP Values": -0.1148378386105492,
          "Primal Interaction Effects": -0.226671239932914,
          "Sampled Average Effects": -0.019536470100283622,
          "Sampled Dual Effects": -0.2179366159439087,
          "Sampled Primal Effects": 0.1118334013223648
         },
         {
          "Average Interaction Effects": -0.017340982033136804,
          "Dual Interaction Effects": -0.17293037041855186,
          "Feature": 0,
          "Kernel SHAP Values": 0.19006926790046363,
          "Primal Interaction Effects": 0.08691773936319022,
          "Sampled Average Effects": 0.20741024993360044,
          "Sampled Dual Effects": 0.3629996383190155,
          "Sampled Primal Effects": 0.10315152853727341
         },
         {
          "Average Interaction Effects": -0.1488320774392109,
          "Dual Interaction Effects": -0.6292133981541614,
          "Feature": 0,
          "Kernel SHAP Values": 0.5133103569789905,
          "Primal Interaction Effects": 0.5437220193638582,
          "Sampled Average Effects": 0.6621424344182014,
          "Sampled Dual Effects": 1.142523755133152,
          "Sampled Primal Effects": -0.030411662384867668
         },
         {
          "Average Interaction Effects": -0.04508244439328318,
          "Dual Interaction Effects": -0.24170365958774692,
          "Feature": 0,
          "Kernel SHAP Values": 0.3708011159363925,
          "Primal Interaction Effects": 0.23581417918836467,
          "Sampled Average Effects": 0.41588356032967566,
          "Sampled Dual Effects": 0.6125047755241394,
          "Sampled Primal Effects": 0.1349869367480278
         },
         {
          "Average Interaction Effects": -0.028360016792423837,
          "Dual Interaction Effects": 0.3706390568619894,
          "Feature": 0,
          "Kernel SHAP Values": -0.3475023749464823,
          "Primal Interaction Effects": -0.41425411313713323,
          "Sampled Average Effects": -0.31914235815405845,
          "Sampled Dual Effects": -0.7181414318084717,
          "Sampled Primal Effects": 0.06675173819065094
         },
         {
          "Average Interaction Effects": 0.0028198347616682218,
          "Dual Interaction Effects": 0.1417156286168585,
          "Feature": 0,
          "Kernel SHAP Values": -0.08580089379067324,
          "Primal Interaction Effects": -0.18606294739956758,
          "Sampled Average Effects": -0.08862072855234146,
          "Sampled Dual Effects": -0.22751652240753173,
          "Sampled Primal Effects": 0.10026205360889434
         },
         {
          "Average Interaction Effects": -0.07788121790641453,
          "Dual Interaction Effects": 0.01550372718817089,
          "Feature": 0,
          "Kernel SHAP Values": -0.10454192460530903,
          "Primal Interaction Effects": -0.178937990674912,
          "Sampled Average Effects": -0.0266607066988945,
          "Sampled Dual Effects": -0.12004565179347992,
          "Sampled Primal Effects": 0.07439606606960297
         },
         {
          "Average Interaction Effects": -0.018318143438901386,
          "Dual Interaction Effects": 0.09431476299801878,
          "Feature": 0,
          "Kernel SHAP Values": -0.007144311022366964,
          "Primal Interaction Effects": -0.13271543796023316,
          "Sampled Average Effects": 0.011173832416534423,
          "Sampled Dual Effects": -0.10145907402038574,
          "Sampled Primal Effects": 0.1255711269378662
         },
         {
          "Average Interaction Effects": -0.06203895107808077,
          "Dual Interaction Effects": -0.977178600737476,
          "Feature": 0,
          "Kernel SHAP Values": 0.8315445294886593,
          "Primal Interaction Effects": 0.8420359495192532,
          "Sampled Average Effects": 0.8935834805667401,
          "Sampled Dual Effects": 1.8087231302261353,
          "Sampled Primal Effects": -0.010491420030593872
         },
         {
          "Average Interaction Effects": -0.05078943783519185,
          "Dual Interaction Effects": 0.5861090007227906,
          "Feature": 0,
          "Kernel SHAP Values": -0.5840975341397278,
          "Primal Interaction Effects": -0.567437089403247,
          "Sampled Average Effects": -0.5333080963045359,
          "Sampled Dual Effects": -1.1702065348625184,
          "Sampled Primal Effects": -0.016660444736480713
         },
         {
          "Average Interaction Effects": -0.04706254877464807,
          "Dual Interaction Effects": -0.0020594232560876558,
          "Feature": 1,
          "Kernel SHAP Values": -0.10049667530076539,
          "Primal Interaction Effects": -0.11955226622836626,
          "Sampled Average Effects": -0.05343412652611732,
          "Sampled Dual Effects": -0.09843725204467774,
          "Sampled Primal Effects": 0.01905559092760086
         },
         {
          "Average Interaction Effects": -0.044231218044395434,
          "Dual Interaction Effects": -0.046581949536437975,
          "Feature": 1,
          "Kernel SHAP Values": 0.020909097845916755,
          "Primal Interaction Effects": -0.02019459897720336,
          "Sampled Average Effects": 0.06514031589031219,
          "Sampled Dual Effects": 0.06749104738235473,
          "Sampled Primal Effects": 0.041103696823120116
         },
         {
          "Average Interaction Effects": -0.11973799493898873,
          "Dual Interaction Effects": -2.3486811196505024,
          "Feature": 1,
          "Kernel SHAP Values": 2.078611370354991,
          "Primal Interaction Effects": 2.1688642773331215,
          "Sampled Average Effects": 2.19834936529398,
          "Sampled Dual Effects": 4.4272924900054935,
          "Sampled Primal Effects": -0.09025290697813033
         },
         {
          "Average Interaction Effects": 0.0389064730647278,
          "Dual Interaction Effects": 0.3784322924110365,
          "Feature": 1,
          "Kernel SHAP Values": -0.20900640585093974,
          "Primal Interaction Effects": -0.25671841558634517,
          "Sampled Average Effects": -0.24791287891566754,
          "Sampled Dual Effects": -0.5874386982619763,
          "Sampled Primal Effects": 0.047712009735405445
         },
         {
          "Average Interaction Effects": -0.07661188886413017,
          "Dual Interaction Effects": -0.08214007840403953,
          "Feature": 1,
          "Kernel SHAP Values": -0.009186844685167462,
          "Primal Interaction Effects": -0.056811756649107134,
          "Sampled Average Effects": 0.06742504417896271,
          "Sampled Dual Effects": 0.07295323371887207,
          "Sampled Primal Effects": 0.04762491196393967
         },
         {
          "Average Interaction Effects": -0.16357271728360456,
          "Dual Interaction Effects": 0.04813513311302858,
          "Feature": 1,
          "Kernel SHAP Values": -0.23117991415107053,
          "Primal Interaction Effects": -0.28079521146857545,
          "Sampled Average Effects": -0.06760719686746597,
          "Sampled Dual Effects": -0.2793150472640991,
          "Sampled Primal Effects": 0.049615297317504886
         },
         {
          "Average Interaction Effects": -0.0314557523199461,
          "Dual Interaction Effects": -0.0362740658887766,
          "Feature": 1,
          "Kernel SHAP Values": 0.052218811594591324,
          "Primal Interaction Effects": -0.025649440801992232,
          "Sampled Average Effects": 0.08367456391453743,
          "Sampled Dual Effects": 0.08849287748336793,
          "Sampled Primal Effects": 0.07786825239658356
         },
         {
          "Average Interaction Effects": -0.06004165470569456,
          "Dual Interaction Effects": -0.5791063615676673,
          "Feature": 1,
          "Kernel SHAP Values": 0.4657029131057946,
          "Primal Interaction Effects": 0.4411037233474938,
          "Sampled Average Effects": 0.5257445678114891,
          "Sampled Dual Effects": 1.0448092746734619,
          "Sampled Primal Effects": 0.02459918975830078
         },
         {
          "Average Interaction Effects": 0.12305175208066121,
          "Dual Interaction Effects": 1.080661971425158,
          "Feature": 1,
          "Kernel SHAP Values": -0.8198106245645462,
          "Primal Interaction Effects": -0.8775449500926911,
          "Sampled Average Effects": -0.9428623766452074,
          "Sampled Dual Effects": -1.9004725959897042,
          "Sampled Primal Effects": 0.057734325528144836
         },
         {
          "Average Interaction Effects": 0.010102513439456201,
          "Dual Interaction Effects": 0.22473248720864414,
          "Feature": 1,
          "Kernel SHAP Values": -0.18582380651732328,
          "Primal Interaction Effects": -0.3139787290920818,
          "Sampled Average Effects": -0.19592631995677948,
          "Sampled Dual Effects": -0.4105562937259674,
          "Sampled Primal Effects": 0.12815492257475852
         },
         {
          "Average Interaction Effects": -0.048920344665106905,
          "Dual Interaction Effects": -0.01824163700586237,
          "Feature": 1,
          "Kernel SHAP Values": -0.04030497337823786,
          "Primal Interaction Effects": -0.043050907805022375,
          "Sampled Average Effects": 0.00861537128686905,
          "Sampled Dual Effects": -0.022063336372375487,
          "Sampled Primal Effects": 0.0027459344267845155
         },
         {
          "Average Interaction Effects": -0.023743712112304534,
          "Dual Interaction Effects": 0.06021829326451125,
          "Feature": 1,
          "Kernel SHAP Values": -0.012391484186050263,
          "Primal Interaction Effects": -0.06891506712138351,
          "Sampled Average Effects": 0.011352227926254272,
          "Sampled Dual Effects": -0.07260977745056152,
          "Sampled Primal Effects": 0.05652358293533325
         },
         {
          "Average Interaction Effects": -0.027507846680428983,
          "Dual Interaction Effects": 0.0547840494392848,
          "Feature": 1,
          "Kernel SHAP Values": -0.031070238900330067,
          "Primal Interaction Effects": -0.0588262000204587,
          "Sampled Average Effects": -0.003562392219901085,
          "Sampled Dual Effects": -0.08585428833961486,
          "Sampled Primal Effects": 0.027755961120128632
         },
         {
          "Average Interaction Effects": 0.0033425588043569654,
          "Dual Interaction Effects": 0.7107460781069636,
          "Feature": 1,
          "Kernel SHAP Values": -0.5453842204926372,
          "Primal Interaction Effects": -0.6657172992942691,
          "Sampled Average Effects": -0.5487267792969942,
          "Sampled Dual Effects": -1.2561302985996008,
          "Sampled Primal Effects": 0.12033307880163192
         },
         {
          "Average Interaction Effects": 0.005185918978470011,
          "Dual Interaction Effects": -0.17010844079492743,
          "Feature": 1,
          "Kernel SHAP Values": 0.20283453615667169,
          "Primal Interaction Effects": 0.10625006320239846,
          "Sampled Average Effects": 0.19764861717820167,
          "Sampled Dual Effects": 0.3729429769515991,
          "Sampled Primal Effects": 0.09658447295427322
         },
         {
          "Average Interaction Effects": 0.026405587145797216,
          "Dual Interaction Effects": -0.45650401589859346,
          "Feature": 1,
          "Kernel SHAP Values": 0.5391650244833149,
          "Primal Interaction Effects": 0.4653124013782658,
          "Sampled Average Effects": 0.5127594373375177,
          "Sampled Dual Effects": 0.9956690403819084,
          "Sampled Primal Effects": 0.07385262310504913
         },
         {
          "Average Interaction Effects": 0.006829343946336525,
          "Dual Interaction Effects": 0.06156278512036682,
          "Feature": 1,
          "Kernel SHAP Values": -0.10789696910822509,
          "Primal Interaction Effects": -0.09560963043415664,
          "Sampled Average Effects": -0.11472631305456162,
          "Sampled Dual Effects": -0.1694597542285919,
          "Sampled Primal Effects": -0.01228733867406845
         },
         {
          "Average Interaction Effects": -0.01952134488025492,
          "Dual Interaction Effects": 0.14365538802122885,
          "Feature": 1,
          "Kernel SHAP Values": -0.21405516659715956,
          "Primal Interaction Effects": -0.2314810687849838,
          "Sampled Average Effects": -0.19453382171690464,
          "Sampled Dual Effects": -0.3577105546183884,
          "Sampled Primal Effects": 0.01742590218782425
         },
         {
          "Average Interaction Effects": -0.029105182653096362,
          "Dual Interaction Effects": 0.21398338251766857,
          "Feature": 1,
          "Kernel SHAP Values": -0.10867403871360128,
          "Primal Interaction Effects": -0.2232679242545635,
          "Sampled Average Effects": -0.07956885606050491,
          "Sampled Dual Effects": -0.32265742123126984,
          "Sampled Primal Effects": 0.11459388554096223
         },
         {
          "Average Interaction Effects": -0.062250522003068076,
          "Dual Interaction Effects": -0.04250139631379997,
          "Feature": 1,
          "Kernel SHAP Values": 0.025346766337262044,
          "Primal Interaction Effects": 0.02950671471606339,
          "Sampled Average Effects": 0.08759728834033012,
          "Sampled Dual Effects": 0.06784816265106201,
          "Sampled Primal Effects": -0.0041599483788013454
         },
         {
          "Average Interaction Effects": -0.0012043060430549923,
          "Dual Interaction Effects": 0.7934639534285998,
          "Feature": 1,
          "Kernel SHAP Values": -0.7951722112366223,
          "Primal Interaction Effects": -0.8147193044492268,
          "Sampled Average Effects": -0.7939679051935673,
          "Sampled Dual Effects": -1.588636164665222,
          "Sampled Primal Effects": 0.019547093212604522
         },
         {
          "Average Interaction Effects": 0.0035900443112297786,
          "Dual Interaction Effects": -0.9763256115401344,
          "Feature": 1,
          "Kernel SHAP Values": 1.1089864903008386,
          "Primal Interaction Effects": 1.1229345613037989,
          "Sampled Average Effects": 1.1053964459896088,
          "Sampled Dual Effects": 2.085312101840973,
          "Sampled Primal Effects": -0.013948071002960204
         },
         {
          "Average Interaction Effects": 0.003759574573049312,
          "Dual Interaction Effects": 0.05206407157660461,
          "Feature": 1,
          "Kernel SHAP Values": 0.004241729657659297,
          "Primal Interaction Effects": -0.04487267063974404,
          "Sampled Average Effects": 0.00048215508460998537,
          "Sampled Dual Effects": -0.04782234191894531,
          "Sampled Primal Effects": 0.049114400297403334
         },
         {
          "Average Interaction Effects": -0.044320807553304586,
          "Dual Interaction Effects": -0.39283029200829406,
          "Feature": 1,
          "Kernel SHAP Values": 0.30799820212327106,
          "Primal Interaction Effects": 0.21491186765633685,
          "Sampled Average Effects": 0.35231900967657565,
          "Sampled Dual Effects": 0.7008284941315651,
          "Sampled Primal Effects": 0.0930863344669342
         },
         {
          "Average Interaction Effects": 0.01100547002628846,
          "Dual Interaction Effects": 0.02844821991399331,
          "Feature": 1,
          "Kernel SHAP Values": 0.04022650780156655,
          "Primal Interaction Effects": -0.04174150852486091,
          "Sampled Average Effects": 0.02922103777527809,
          "Sampled Dual Effects": 0.011778287887573242,
          "Sampled Primal Effects": 0.08196801632642746
         },
         {
          "Average Interaction Effects": 0.00720942735853599,
          "Dual Interaction Effects": -0.02908491164264275,
          "Feature": 1,
          "Kernel SHAP Values": 0.050674069749144776,
          "Primal Interaction Effects": 0.015504827426699862,
          "Sampled Average Effects": 0.043464642390608786,
          "Sampled Dual Effects": 0.07975898139178753,
          "Sampled Primal Effects": 0.035169242322444914
         },
         {
          "Average Interaction Effects": 0.008771704995381935,
          "Dual Interaction Effects": 0.42092116084073794,
          "Feature": 1,
          "Kernel SHAP Values": -0.2913059333326935,
          "Primal Interaction Effects": -0.3577041340234398,
          "Sampled Average Effects": -0.30007763832807544,
          "Sampled Dual Effects": -0.7122270941734314,
          "Sampled Primal Effects": 0.06639820069074631
         },
         {
          "Average Interaction Effects": -0.010924010672357723,
          "Dual Interaction Effects": -0.11205064977028673,
          "Feature": 1,
          "Kernel SHAP Values": 0.0870881107964247,
          "Primal Interaction Effects": 0.04239671324870284,
          "Sampled Average Effects": 0.09801212146878242,
          "Sampled Dual Effects": 0.19913876056671143,
          "Sampled Primal Effects": 0.04469139754772186
         },
         {
          "Average Interaction Effects": 0.02036479466620139,
          "Dual Interaction Effects": -0.034279078161090076,
          "Feature": 1,
          "Kernel SHAP Values": 0.16817872771087342,
          "Primal Interaction Effects": 0.08286329113903694,
          "Sampled Average Effects": 0.14781393304467202,
          "Sampled Dual Effects": 0.2024578058719635,
          "Sampled Primal Effects": 0.08531543657183648
         },
         {
          "Average Interaction Effects": 0.0008589632491567273,
          "Dual Interaction Effects": 0.11523577787531403,
          "Feature": 1,
          "Kernel SHAP Values": -0.024221777835955367,
          "Primal Interaction Effects": -0.051964141050448165,
          "Sampled Average Effects": -0.025080741085112095,
          "Sampled Dual Effects": -0.1394575557112694,
          "Sampled Primal Effects": 0.027742363214492798
         },
         {
          "Average Interaction Effects": -0.02113624844101654,
          "Dual Interaction Effects": 0.04553814229222549,
          "Feature": 1,
          "Kernel SHAP Values": 0.03686566886159195,
          "Primal Interaction Effects": -0.05468834850338684,
          "Sampled Average Effects": 0.05800191730260849,
          "Sampled Dual Effects": -0.008672473430633544,
          "Sampled Primal Effects": 0.09155401736497878
         },
         {
          "Average Interaction Effects": 0.04316521896226755,
          "Dual Interaction Effects": 0.5307173175941264,
          "Feature": 1,
          "Kernel SHAP Values": -0.4320290975441183,
          "Primal Interaction Effects": -0.6237664194573607,
          "Sampled Average Effects": -0.4751943165063858,
          "Sampled Dual Effects": -0.9627464151382447,
          "Sampled Primal Effects": 0.19173732191324233
         },
         {
          "Average Interaction Effects": -0.0005709384013753219,
          "Dual Interaction Effects": -0.02101398985878041,
          "Feature": 1,
          "Kernel SHAP Values": -0.0365299777318578,
          "Primal Interaction Effects": -0.1380297390748601,
          "Sampled Average Effects": -0.03595903933048248,
          "Sampled Dual Effects": -0.015515987873077392,
          "Sampled Primal Effects": 0.10149976134300231
         },
         {
          "Average Interaction Effects": -0.0869609430307477,
          "Dual Interaction Effects": -0.5075420307988256,
          "Feature": 1,
          "Kernel SHAP Values": 0.44825779737290444,
          "Primal Interaction Effects": 0.3933786015337378,
          "Sampled Average Effects": 0.5352187404036521,
          "Sampled Dual Effects": 0.95579982817173,
          "Sampled Primal Effects": 0.054879195839166645
         },
         {
          "Average Interaction Effects": -0.03548993658608279,
          "Dual Interaction Effects": -1.7286736148256667,
          "Feature": 1,
          "Kernel SHAP Values": 1.6960304469209306,
          "Primal Interaction Effects": 1.6257911637764566,
          "Sampled Average Effects": 1.7315203835070134,
          "Sampled Dual Effects": 3.4247040617465974,
          "Sampled Primal Effects": 0.07023928314447403
         },
         {
          "Average Interaction Effects": -0.0299912588653039,
          "Dual Interaction Effects": -0.11349487084717265,
          "Feature": 1,
          "Kernel SHAP Values": 0.01272767227321157,
          "Primal Interaction Effects": -0.07172543782562724,
          "Sampled Average Effects": 0.04271893113851547,
          "Sampled Dual Effects": 0.12622254312038422,
          "Sampled Primal Effects": 0.08445311009883881
         },
         {
          "Average Interaction Effects": -0.06150707117290839,
          "Dual Interaction Effects": 0.0034861739444579237,
          "Feature": 1,
          "Kernel SHAP Values": -0.05915576140405282,
          "Primal Interaction Effects": -0.09403953860522851,
          "Sampled Average Effects": 0.002351309768855572,
          "Sampled Dual Effects": -0.06264193534851074,
          "Sampled Primal Effects": 0.03488377720117569
         },
         {
          "Average Interaction Effects": 0.005108833585399292,
          "Dual Interaction Effects": -0.20449856615392573,
          "Feature": 1,
          "Kernel SHAP Values": 0.20099285678239456,
          "Primal Interaction Effects": 0.15269066483946434,
          "Sampled Average Effects": 0.19588402319699527,
          "Sampled Dual Effects": 0.4054914229363203,
          "Sampled Primal Effects": 0.04830219194293022
         },
         {
          "Average Interaction Effects": 0.004401462238289702,
          "Dual Interaction Effects": -0.04610953151061356,
          "Feature": 1,
          "Kernel SHAP Values": 0.08611180008576094,
          "Primal Interaction Effects": -0.017726085025809413,
          "Sampled Average Effects": 0.08171033784747124,
          "Sampled Dual Effects": 0.1322213315963745,
          "Sampled Primal Effects": 0.10383788511157035
         },
         {
          "Average Interaction Effects": -0.04315711066685221,
          "Dual Interaction Effects": -0.23289949775300522,
          "Feature": 1,
          "Kernel SHAP Values": 0.17637452721037367,
          "Primal Interaction Effects": 0.10620274066366651,
          "Sampled Average Effects": 0.21953163787722588,
          "Sampled Dual Effects": 0.4092740249633789,
          "Sampled Primal Effects": 0.07017178654670715
         },
         {
          "Average Interaction Effects": -0.007996960943531528,
          "Dual Interaction Effects": -0.521974021857571,
          "Feature": 1,
          "Kernel SHAP Values": 0.579774468475986,
          "Primal Interaction Effects": 0.5453048504237419,
          "Sampled Average Effects": 0.5877714294195175,
          "Sampled Dual Effects": 1.101748490333557,
          "Sampled Primal Effects": 0.03446961805224419
         },
         {
          "Average Interaction Effects": 0.03835427909883904,
          "Dual Interaction Effects": -0.4593532413264807,
          "Feature": 1,
          "Kernel SHAP Values": 0.536159058211178,
          "Primal Interaction Effects": 0.48735985070261406,
          "Sampled Average Effects": 0.497804779112339,
          "Sampled Dual Effects": 0.9955122995376587,
          "Sampled Primal Effects": 0.048799207508563994
         },
         {
          "Average Interaction Effects": -0.10174245268245985,
          "Dual Interaction Effects": -0.5038518573357706,
          "Feature": 1,
          "Kernel SHAP Values": 0.44872553333500576,
          "Primal Interaction Effects": 0.38802445515850736,
          "Sampled Average Effects": 0.5504679860174656,
          "Sampled Dual Effects": 0.9525773906707764,
          "Sampled Primal Effects": 0.06070107817649841
         },
         {
          "Average Interaction Effects": 0.021824200655257114,
          "Dual Interaction Effects": -0.026280286257231833,
          "Feature": 1,
          "Kernel SHAP Values": 0.15088999992135704,
          "Primal Interaction Effects": 0.10002027561787308,
          "Sampled Average Effects": 0.12906579926609993,
          "Sampled Dual Effects": 0.17717028617858888,
          "Sampled Primal Effects": 0.050869724303483965
         },
         {
          "Average Interaction Effects": -0.006417534553195603,
          "Dual Interaction Effects": -0.27693309506096997,
          "Feature": 1,
          "Kernel SHAP Values": 0.28903470317206226,
          "Primal Interaction Effects": 0.25141767138919674,
          "Sampled Average Effects": 0.29545223772525786,
          "Sampled Dual Effects": 0.5659677982330322,
          "Sampled Primal Effects": 0.037617031782865525
         },
         {
          "Average Interaction Effects": -0.044158138969224214,
          "Dual Interaction Effects": 0.23558555003138237,
          "Feature": 1,
          "Kernel SHAP Values": -0.35906034115819285,
          "Primal Interaction Effects": -0.406549828239959,
          "Sampled Average Effects": -0.31490220218896864,
          "Sampled Dual Effects": -0.5946458911895752,
          "Sampled Primal Effects": 0.047489487081766125
         },
         {
          "Average Interaction Effects": -0.06271314571438008,
          "Dual Interaction Effects": -0.16923064040777855,
          "Feature": 1,
          "Kernel SHAP Values": 0.0940077943837864,
          "Primal Interaction Effects": 0.0270502871012909,
          "Sampled Average Effects": 0.15672094009816648,
          "Sampled Dual Effects": 0.26323843479156495,
          "Sampled Primal Effects": 0.0669575072824955
         },
         {
          "Average Interaction Effects": -0.09441504821189112,
          "Dual Interaction Effects": 0.11116566047064597,
          "Feature": 1,
          "Kernel SHAP Values": -0.16360311642296976,
          "Primal Interaction Effects": -0.17408886387952036,
          "Sampled Average Effects": -0.06918806821107865,
          "Sampled Dual Effects": -0.27476877689361573,
          "Sampled Primal Effects": 0.010485747456550598
         },
         {
          "Average Interaction Effects": 0.0645809065836771,
          "Dual Interaction Effects": 0.5597320158320769,
          "Feature": 1,
          "Kernel SHAP Values": -0.531924149290909,
          "Primal Interaction Effects": -0.5842075275343553,
          "Sampled Average Effects": -0.5965050558745861,
          "Sampled Dual Effects": -1.091656165122986,
          "Sampled Primal Effects": 0.05228337824344635
         },
         {
          "Average Interaction Effects": -0.10833117084512883,
          "Dual Interaction Effects": 0.27371448976983853,
          "Feature": 1,
          "Kernel SHAP Values": -0.3817772938490885,
          "Primal Interaction Effects": -0.5069486785114783,
          "Sampled Average Effects": -0.27344612300395965,
          "Sampled Dual Effects": -0.655491783618927,
          "Sampled Primal Effects": 0.12517138466238975
         },
         {
          "Average Interaction Effects": 0.0014359487523368589,
          "Dual Interaction Effects": 0.001752493970566156,
          "Feature": 1,
          "Kernel SHAP Values": 0.0275713616539768,
          "Primal Interaction Effects": 0.010207668982916238,
          "Sampled Average Effects": 0.02613541290163994,
          "Sampled Dual Effects": 0.025818867683410643,
          "Sampled Primal Effects": 0.01736369267106056
         },
         {
          "Average Interaction Effects": -0.04196783072553334,
          "Dual Interaction Effects": 0.1130359979788238,
          "Feature": 1,
          "Kernel SHAP Values": -0.17536470926604925,
          "Primal Interaction Effects": -0.11970723412237821,
          "Sampled Average Effects": -0.1333968785405159,
          "Sampled Dual Effects": -0.28840070724487304,
          "Sampled Primal Effects": -0.05565747514367104
         },
         {
          "Average Interaction Effects": -0.02782008666398883,
          "Dual Interaction Effects": -0.8784168438971316,
          "Feature": 1,
          "Kernel SHAP Values": 0.886997696870538,
          "Primal Interaction Effects": 0.8620442226171219,
          "Sampled Average Effects": 0.9148177835345268,
          "Sampled Dual Effects": 1.7654145407676696,
          "Sampled Primal Effects": 0.024953474253416062
         },
         {
          "Average Interaction Effects": -0.1161984755989747,
          "Dual Interaction Effects": 0.20668349063427877,
          "Feature": 1,
          "Kernel SHAP Values": -0.2925350906845765,
          "Primal Interaction Effects": -0.3425303249952035,
          "Sampled Average Effects": -0.1763366150856018,
          "Sampled Dual Effects": -0.49921858131885527,
          "Sampled Primal Effects": 0.04999523431062698
         },
         {
          "Average Interaction Effects": 0.011154904808791399,
          "Dual Interaction Effects": 0.11527500301221204,
          "Feature": 1,
          "Kernel SHAP Values": -0.024655216638056515,
          "Primal Interaction Effects": -0.14735418916126894,
          "Sampled Average Effects": -0.03581012144684791,
          "Sampled Dual Effects": -0.13993021965026856,
          "Sampled Primal Effects": 0.12269897252321244
         },
         {
          "Average Interaction Effects": -0.047532796544412156,
          "Dual Interaction Effects": 0.010920420045575127,
          "Feature": 1,
          "Kernel SHAP Values": 0.013572957868298515,
          "Primal Interaction Effects": 0.0014094503769483402,
          "Sampled Average Effects": 0.06110575441271067,
          "Sampled Dual Effects": 0.0026525378227233885,
          "Sampled Primal Effects": 0.012163507491350175
         },
         {
          "Average Interaction Effects": 0.07769256430722216,
          "Dual Interaction Effects": -0.1087713785930779,
          "Feature": 1,
          "Kernel SHAP Values": 0.26589130560911634,
          "Primal Interaction Effects": 0.15011120925701596,
          "Sampled Average Effects": 0.18819874130189418,
          "Sampled Dual Effects": 0.37466268420219423,
          "Sampled Primal Effects": 0.11578009635210038
         },
         {
          "Average Interaction Effects": 0.04091655675009209,
          "Dual Interaction Effects": 0.6778182036025854,
          "Feature": 1,
          "Kernel SHAP Values": -0.509157962168899,
          "Primal Interaction Effects": -0.5399541103498606,
          "Sampled Average Effects": -0.5500745189189911,
          "Sampled Dual Effects": -1.1869761657714843,
          "Sampled Primal Effects": 0.03079614818096161
         },
         {
          "Average Interaction Effects": -0.08943566968816419,
          "Dual Interaction Effects": 0.14619346836429936,
          "Feature": 1,
          "Kernel SHAP Values": -0.21459962031024593,
          "Primal Interaction Effects": -0.2963854687489857,
          "Sampled Average Effects": -0.12516395062208174,
          "Sampled Dual Effects": -0.3607930886745453,
          "Sampled Primal Effects": 0.08178584843873977
         },
         {
          "Average Interaction Effects": -0.0714650593340124,
          "Dual Interaction Effects": -0.06488761168119563,
          "Feature": 1,
          "Kernel SHAP Values": -0.022118909174176585,
          "Primal Interaction Effects": -0.044418227189751996,
          "Sampled Average Effects": 0.04934615015983582,
          "Sampled Dual Effects": 0.042768702507019044,
          "Sampled Primal Effects": 0.022299318015575408
         },
         {
          "Average Interaction Effects": -0.02415775069159315,
          "Dual Interaction Effects": 0.555996474836647,
          "Feature": 1,
          "Kernel SHAP Values": -0.48434276738327786,
          "Primal Interaction Effects": -0.5655761972920303,
          "Sampled Average Effects": -0.4601850166916847,
          "Sampled Dual Effects": -1.040339242219925,
          "Sampled Primal Effects": 0.08123342990875244
         },
         {
          "Average Interaction Effects": 0.008073208571169388,
          "Dual Interaction Effects": -0.004614947050120832,
          "Feature": 1,
          "Kernel SHAP Values": 0.12159736135670901,
          "Primal Interaction Effects": 0.1300686752207017,
          "Sampled Average Effects": 0.11352415278553962,
          "Sampled Dual Effects": 0.12621230840682984,
          "Sampled Primal Effects": -0.008471313863992691
         },
         {
          "Average Interaction Effects": 0.14013790151099914,
          "Dual Interaction Effects": -1.8756974597461964,
          "Feature": 1,
          "Kernel SHAP Values": 2.055498988162682,
          "Primal Interaction Effects": 1.9391364113799785,
          "Sampled Average Effects": 1.9153610866516828,
          "Sampled Dual Effects": 3.9311964479088783,
          "Sampled Primal Effects": 0.1163625767827034
         },
         {
          "Average Interaction Effects": 0.19341042654069707,
          "Dual Interaction Effects": 2.3003729993239284,
          "Feature": 1,
          "Kernel SHAP Values": -1.9820206773146745,
          "Primal Interaction Effects": -1.8144391170009728,
          "Sampled Average Effects": -2.1754311038553715,
          "Sampled Dual Effects": -4.282393676638603,
          "Sampled Primal Effects": -0.16758156031370164
         },
         {
          "Average Interaction Effects": -0.026723701407751432,
          "Dual Interaction Effects": -0.19709799264892042,
          "Feature": 1,
          "Kernel SHAP Values": 0.1604109540082604,
          "Primal Interaction Effects": 0.22024306798950732,
          "Sampled Average Effects": 0.18713465541601182,
          "Sampled Dual Effects": 0.3575089466571808,
          "Sampled Primal Effects": -0.05983211398124695
         },
         {
          "Average Interaction Effects": -0.0891305053039888,
          "Dual Interaction Effects": 0.0725549574390551,
          "Feature": 1,
          "Kernel SHAP Values": -0.12989577336157357,
          "Primal Interaction Effects": -0.15876097945416962,
          "Sampled Average Effects": -0.040765268057584764,
          "Sampled Dual Effects": -0.20245073080062867,
          "Sampled Primal Effects": 0.028865206092596053
         },
         {
          "Average Interaction Effects": -0.12196469387504175,
          "Dual Interaction Effects": -0.2179205474117668,
          "Feature": 1,
          "Kernel SHAP Values": 0.018669444187554556,
          "Primal Interaction Effects": -0.10273210300597266,
          "Sampled Average Effects": 0.1406341380625963,
          "Sampled Dual Effects": 0.23658999159932137,
          "Sampled Primal Effects": 0.12140154719352722
         },
         {
          "Average Interaction Effects": -0.07995230363494302,
          "Dual Interaction Effects": -0.12020227657443427,
          "Feature": 1,
          "Kernel SHAP Values": 0.1529730678927288,
          "Primal Interaction Effects": 0.10101988239401435,
          "Sampled Average Effects": 0.23292537152767182,
          "Sampled Dual Effects": 0.2731753444671631,
          "Sampled Primal Effects": 0.051953185498714444
         },
         {
          "Average Interaction Effects": -0.025966859076996973,
          "Dual Interaction Effects": -0.23731541222788927,
          "Feature": 1,
          "Kernel SHAP Values": 0.30146064692280655,
          "Primal Interaction Effects": 0.24002517604372864,
          "Sampled Average Effects": 0.3274275059998035,
          "Sampled Dual Effects": 0.5387760591506958,
          "Sampled Primal Effects": 0.061435470879077914
         },
         {
          "Average Interaction Effects": -0.016231162799323823,
          "Dual Interaction Effects": -0.16224573309513454,
          "Feature": 1,
          "Kernel SHAP Values": 0.17110000674632667,
          "Primal Interaction Effects": 0.15218287413028359,
          "Sampled Average Effects": 0.1873311695456505,
          "Sampled Dual Effects": 0.3333457398414612,
          "Sampled Primal Effects": 0.01891713261604309
         },
         {
          "Average Interaction Effects": -0.006310356828022612,
          "Dual Interaction Effects": 0.5379643571650499,
          "Feature": 1,
          "Kernel SHAP Values": -0.3926800694787985,
          "Primal Interaction Effects": -0.45999517557268205,
          "Sampled Average Effects": -0.3863697126507759,
          "Sampled Dual Effects": -0.9306444266438484,
          "Sampled Primal Effects": 0.06731510609388351
         },
         {
          "Average Interaction Effects": 0.04467304698550447,
          "Dual Interaction Effects": 0.004277226099607785,
          "Feature": 1,
          "Kernel SHAP Values": 0.0013367251249526337,
          "Primal Interaction Effects": -0.13152802520072715,
          "Sampled Average Effects": -0.043336321860551835,
          "Sampled Dual Effects": -0.0029405009746551513,
          "Sampled Primal Effects": 0.1328647503256798
         },
         {
          "Average Interaction Effects": 0.0075455251140688,
          "Dual Interaction Effects": 0.03979026658369046,
          "Feature": 1,
          "Kernel SHAP Values": 0.048812352250346955,
          "Primal Interaction Effects": -0.018505403419008443,
          "Sampled Average Effects": 0.041266827136278154,
          "Sampled Dual Effects": 0.009022085666656495,
          "Sampled Primal Effects": 0.0673177556693554
         },
         {
          "Average Interaction Effects": -0.17430918223489433,
          "Dual Interaction Effects": 0.9383858186818252,
          "Feature": 1,
          "Kernel SHAP Values": -1.180355350294005,
          "Primal Interaction Effects": -1.2401745750688424,
          "Sampled Average Effects": -1.0060461680591106,
          "Sampled Dual Effects": -2.11874116897583,
          "Sampled Primal Effects": 0.0598192247748375
         },
         {
          "Average Interaction Effects": -0.049789626467635795,
          "Dual Interaction Effects": -0.46192895786803023,
          "Feature": 1,
          "Kernel SHAP Values": 0.3013653574701045,
          "Primal Interaction Effects": 0.32590749947387915,
          "Sampled Average Effects": 0.3511549839377403,
          "Sampled Dual Effects": 0.7632943153381347,
          "Sampled Primal Effects": -0.024542142003774643
         },
         {
          "Average Interaction Effects": -0.06692418846478479,
          "Dual Interaction Effects": 0.3335483252705095,
          "Feature": 1,
          "Kernel SHAP Values": -0.24682839865973014,
          "Primal Interaction Effects": -0.3092434422223808,
          "Sampled Average Effects": -0.17990421019494535,
          "Sampled Dual Effects": -0.5803767239302396,
          "Sampled Primal Effects": 0.06241504356265068
         },
         {
          "Average Interaction Effects": 0.009217347713712742,
          "Dual Interaction Effects": 0.5203811611855068,
          "Feature": 1,
          "Kernel SHAP Values": -0.3936092094457111,
          "Primal Interaction Effects": -0.6043552569425068,
          "Sampled Average Effects": -0.40282655715942384,
          "Sampled Dual Effects": -0.9139903706312179,
          "Sampled Primal Effects": 0.21074604749679565
         },
         {
          "Average Interaction Effects": -0.012133113651835392,
          "Dual Interaction Effects": 0.28750060477916056,
          "Feature": 1,
          "Kernel SHAP Values": -0.2991330678046877,
          "Primal Interaction Effects": -0.2972583103955919,
          "Sampled Average Effects": -0.2869999541528523,
          "Sampled Dual Effects": -0.5866336725838482,
          "Sampled Primal Effects": -0.001874757409095764
         },
         {
          "Average Interaction Effects": -0.11147820747149739,
          "Dual Interaction Effects": 0.673248711240761,
          "Feature": 1,
          "Kernel SHAP Values": -0.8333007087434605,
          "Primal Interaction Effects": -0.9195914717639759,
          "Sampled Average Effects": -0.7218225012719631,
          "Sampled Dual Effects": -1.5065494199842215,
          "Sampled Primal Effects": 0.08629076302051544
         },
         {
          "Average Interaction Effects": 0.009850341515697525,
          "Dual Interaction Effects": 0.33935879661337287,
          "Feature": 1,
          "Kernel SHAP Values": -0.2718450670073852,
          "Primal Interaction Effects": -0.3813742558787689,
          "Sampled Average Effects": -0.2816954085230827,
          "Sampled Dual Effects": -0.6112038636207581,
          "Sampled Primal Effects": 0.10952918887138367
         },
         {
          "Average Interaction Effects": -0.023089182085367477,
          "Dual Interaction Effects": -0.4833247839352215,
          "Feature": 1,
          "Kernel SHAP Values": 0.4035562430629408,
          "Primal Interaction Effects": 0.39652725923153515,
          "Sampled Average Effects": 0.4266454251483083,
          "Sampled Dual Effects": 0.8868810269981623,
          "Sampled Primal Effects": 0.00702898383140564
         },
         {
          "Average Interaction Effects": -0.04446478340211901,
          "Dual Interaction Effects": 0.3611141045820376,
          "Feature": 1,
          "Kernel SHAP Values": -0.316198111580644,
          "Primal Interaction Effects": -0.4081269646752218,
          "Sampled Average Effects": -0.27173332817852497,
          "Sampled Dual Effects": -0.6773122161626816,
          "Sampled Primal Effects": 0.0919288530945778
         },
         {
          "Average Interaction Effects": 0.024785942163993237,
          "Dual Interaction Effects": 0.047707495678891064,
          "Feature": 1,
          "Kernel SHAP Values": 0.0479182010411514,
          "Primal Interaction Effects": 0.017861880016256687,
          "Sampled Average Effects": 0.023132258877158165,
          "Sampled Dual Effects": 0.00021070536226034165,
          "Sampled Primal Effects": 0.030056321024894715
         },
         {
          "Average Interaction Effects": 0.0317680927700354,
          "Dual Interaction Effects": 0.06342138032978309,
          "Feature": 1,
          "Kernel SHAP Values": 0.0629817138201548,
          "Primal Interaction Effects": -0.003585721742455833,
          "Sampled Average Effects": 0.0312136210501194,
          "Sampled Dual Effects": -0.0004396665096282959,
          "Sampled Primal Effects": 0.06656743556261063
         },
         {
          "Average Interaction Effects": 0.0026724584744934055,
          "Dual Interaction Effects": -0.03029339824154338,
          "Feature": 1,
          "Kernel SHAP Values": 0.09248745467231312,
          "Primal Interaction Effects": 0.005701352019763378,
          "Sampled Average Effects": 0.08981499619781971,
          "Sampled Dual Effects": 0.1227808529138565,
          "Sampled Primal Effects": 0.08678610265254974
         },
         {
          "Average Interaction Effects": -0.026985622674261356,
          "Dual Interaction Effects": 0.2351678821146142,
          "Feature": 1,
          "Kernel SHAP Values": -0.2419929448068488,
          "Primal Interaction Effects": -0.3744268879592765,
          "Sampled Average Effects": -0.21500732213258744,
          "Sampled Dual Effects": -0.477160826921463,
          "Sampled Primal Effects": 0.13243394315242768
         },
         {
          "Average Interaction Effects": 0.031171896362439368,
          "Dual Interaction Effects": 0.07587971573485491,
          "Feature": 1,
          "Kernel SHAP Values": 0.07661997562064288,
          "Primal Interaction Effects": 0.041746870929137446,
          "Sampled Average Effects": 0.04544807925820351,
          "Sampled Dual Effects": 0.0007402598857879639,
          "Sampled Primal Effects": 0.03487310469150543
         },
         {
          "Average Interaction Effects": -0.020348676483949918,
          "Dual Interaction Effects": -0.20909675587328364,
          "Feature": 1,
          "Kernel SHAP Values": 0.22778758059827398,
          "Primal Interaction Effects": 0.07504909466592383,
          "Sampled Average Effects": 0.2481362570822239,
          "Sampled Dual Effects": 0.4368843364715576,
          "Sampled Primal Effects": 0.15273848593235015
         },
         {
          "Average Interaction Effects": -0.12184634263669358,
          "Dual Interaction Effects": -1.2177546102092156,
          "Feature": 1,
          "Kernel SHAP Values": 1.0152657597973456,
          "Primal Interaction Effects": 1.0639021265223134,
          "Sampled Average Effects": 1.1371121024340392,
          "Sampled Dual Effects": 2.233020370006561,
          "Sampled Primal Effects": -0.048636366724967954
         },
         {
          "Average Interaction Effects": 0.016265613227315047,
          "Dual Interaction Effects": 0.0028645640380455042,
          "Feature": 1,
          "Kernel SHAP Values": 0.007095640278585055,
          "Primal Interaction Effects": -0.10134376468586197,
          "Sampled Average Effects": -0.009169972948729992,
          "Sampled Dual Effects": 0.00423107624053955,
          "Sampled Primal Effects": 0.10843940496444703
         },
         {
          "Average Interaction Effects": -0.015912866359145572,
          "Dual Interaction Effects": 0.13354780011853465,
          "Feature": 1,
          "Kernel SHAP Values": -0.05317601150789969,
          "Primal Interaction Effects": -0.0919346613339495,
          "Sampled Average Effects": -0.03726314514875412,
          "Sampled Dual Effects": -0.18672381162643434,
          "Sampled Primal Effects": 0.038758649826049804
         },
         {
          "Average Interaction Effects": -0.029111844089335315,
          "Dual Interaction Effects": -0.20349242308408627,
          "Feature": 1,
          "Kernel SHAP Values": 0.1809887768956958,
          "Primal Interaction Effects": 0.21862291208236803,
          "Sampled Average Effects": 0.21010062098503113,
          "Sampled Dual Effects": 0.3844811999797821,
          "Sampled Primal Effects": -0.03763413518667221
         },
         {
          "Average Interaction Effects": -0.1773537031589259,
          "Dual Interaction Effects": -0.7079820138989199,
          "Feature": 1,
          "Kernel SHAP Values": 0.4142182271899472,
          "Primal Interaction Effects": 0.517231778127123,
          "Sampled Average Effects": 0.5915719303488731,
          "Sampled Dual Effects": 1.1222002410888672,
          "Sampled Primal Effects": -0.10301355093717575
         },
         {
          "Average Interaction Effects": -0.023047429626623983,
          "Dual Interaction Effects": -0.3214998459124964,
          "Feature": 1,
          "Kernel SHAP Values": 0.26091779775377094,
          "Primal Interaction Effects": 0.19813995308633625,
          "Sampled Average Effects": 0.2839652273803949,
          "Sampled Dual Effects": 0.5824176436662674,
          "Sampled Primal Effects": 0.06277784466743469
         },
         {
          "Average Interaction Effects": -0.013685768959703415,
          "Dual Interaction Effects": 0.3978381900809384,
          "Feature": 1,
          "Kernel SHAP Values": -0.3241079540230655,
          "Primal Interaction Effects": -0.39464876663464543,
          "Sampled Average Effects": -0.3104221850633621,
          "Sampled Dual Effects": -0.7219461441040039,
          "Sampled Primal Effects": 0.07054081261157989
         },
         {
          "Average Interaction Effects": -0.045727244868831826,
          "Dual Interaction Effects": 0.10266469959918958,
          "Feature": 1,
          "Kernel SHAP Values": -0.14325719352062244,
          "Primal Interaction Effects": -0.28198234136398337,
          "Sampled Average Effects": -0.09752994865179061,
          "Sampled Dual Effects": -0.24592189311981202,
          "Sampled Primal Effects": 0.1387251478433609
         },
         {
          "Average Interaction Effects": 0.01517209492823876,
          "Dual Interaction Effects": 0.1265857607146243,
          "Feature": 1,
          "Kernel SHAP Values": -0.010529633758451569,
          "Primal Interaction Effects": -0.028930267242576708,
          "Sampled Average Effects": -0.02570172868669033,
          "Sampled Dual Effects": -0.13711539447307586,
          "Sampled Primal Effects": 0.01840063348412514
         },
         {
          "Average Interaction Effects": -0.0035578288366161503,
          "Dual Interaction Effects": 0.04611239743930472,
          "Feature": 1,
          "Kernel SHAP Values": -0.045421041720088595,
          "Primal Interaction Effects": -0.14803726064461098,
          "Sampled Average Effects": -0.041863212883472445,
          "Sampled Dual Effects": -0.09153343915939331,
          "Sampled Primal Effects": 0.1026162189245224
         },
         {
          "Average Interaction Effects": 0.027451744453899307,
          "Dual Interaction Effects": -0.8405362530779916,
          "Feature": 1,
          "Kernel SHAP Values": 0.9366087702679557,
          "Primal Interaction Effects": 0.9499899748730583,
          "Sampled Average Effects": 0.9091570258140564,
          "Sampled Dual Effects": 1.7771450233459474,
          "Sampled Primal Effects": -0.013381204605102538
         },
         {
          "Average Interaction Effects": -0.10356011541101728,
          "Dual Interaction Effects": 0.5953953206398747,
          "Feature": 1,
          "Kernel SHAP Values": -0.6060488355300168,
          "Primal Interaction Effects": -0.5726515084645489,
          "Sampled Average Effects": -0.5024887201189995,
          "Sampled Dual Effects": -1.2014441561698914,
          "Sampled Primal Effects": -0.03339732706546784
         },
         {
          "Average Interaction Effects": -0.06078693958170911,
          "Dual Interaction Effects": 0.014992289979157691,
          "Feature": 2,
          "Kernel SHAP Values": -1.1818763120675853,
          "Primal Interaction Effects": 0.01878972930662126,
          "Sampled Average Effects": -1.1210893724858761,
          "Sampled Dual Effects": -1.196868602046743,
          "Sampled Primal Effects": -1.2006660413742065
         },
         {
          "Average Interaction Effects": -0.07704705255734379,
          "Dual Interaction Effects": -0.01996438490855157,
          "Feature": 2,
          "Kernel SHAP Values": 0.8270637570072467,
          "Primal Interaction Effects": -0.06835756676899851,
          "Sampled Average Effects": 0.9041108095645904,
          "Sampled Dual Effects": 0.8470281419157982,
          "Sampled Primal Effects": 0.8954213237762452
         },
         {
          "Average Interaction Effects": 0.11236833670771618,
          "Dual Interaction Effects": 0.10311844328082098,
          "Feature": 2,
          "Kernel SHAP Values": 0.7726012084785749,
          "Primal Interaction Effects": 0.06477341631091138,
          "Sampled Average Effects": 0.6602328717708588,
          "Sampled Dual Effects": 0.669482765197754,
          "Sampled Primal Effects": 0.7078277921676636
         },
         {
          "Average Interaction Effects": -0.028094251656788694,
          "Dual Interaction Effects": -0.04625134436215769,
          "Feature": 2,
          "Kernel SHAP Values": -0.22184519735898386,
          "Primal Interaction Effects": -0.03988135067548168,
          "Sampled Average Effects": -0.19375094570219517,
          "Sampled Dual Effects": -0.17559385299682617,
          "Sampled Primal Effects": -0.18196384668350218
         },
         {
          "Average Interaction Effects": 0.03367647345878355,
          "Dual Interaction Effects": -0.023440513371004057,
          "Feature": 2,
          "Kernel SHAP Values": -1.1914466602378322,
          "Primal Interaction Effects": -0.041453865247292665,
          "Sampled Average Effects": -1.2251231336966157,
          "Sampled Dual Effects": -1.1680061468668281,
          "Sampled Primal Effects": -1.1499927949905395
         },
         {
          "Average Interaction Effects": -0.019405864507314297,
          "Dual Interaction Effects": -0.02856257948314811,
          "Feature": 2,
          "Kernel SHAP Values": 1.4178083917197022,
          "Primal Interaction Effects": -0.0036094883385864307,
          "Sampled Average Effects": 1.4372142562270165,
          "Sampled Dual Effects": 1.4463709712028503,
          "Sampled Primal Effects": 1.4214178800582886
         },
         {
          "Average Interaction Effects": -0.04041770512531695,
          "Dual Interaction Effects": 0.012975027986660725,
          "Feature": 2,
          "Kernel SHAP Values": -1.0824739146448223,
          "Primal Interaction Effects": -0.050649492762192994,
          "Sampled Average Effects": -1.0420562095195054,
          "Sampled Dual Effects": -1.095448942631483,
          "Sampled Primal Effects": -1.0318244218826294
         },
         {
          "Average Interaction Effects": 0.01592612796876669,
          "Dual Interaction Effects": -0.00035601085569614277,
          "Feature": 2,
          "Kernel SHAP Values": 1.0092495375261092,
          "Primal Interaction Effects": -0.014052545489332546,
          "Sampled Average Effects": 0.9933234095573426,
          "Sampled Dual Effects": 1.0096055483818054,
          "Sampled Primal Effects": 1.0233020830154418
         },
         {
          "Average Interaction Effects": -0.04335952648511518,
          "Dual Interaction Effects": -0.051394719570785646,
          "Feature": 2,
          "Kernel SHAP Values": 0.20905511906752003,
          "Primal Interaction Effects": -0.05027726361146559,
          "Sampled Average Effects": 0.2524146455526352,
          "Sampled Dual Effects": 0.2604498386383057,
          "Sampled Primal Effects": 0.2593323826789856
         },
         {
          "Average Interaction Effects": -0.05283921959645138,
          "Dual Interaction Effects": -0.002074053909843998,
          "Feature": 2,
          "Kernel SHAP Values": -0.45766836228615626,
          "Primal Interaction Effects": -0.03865220847374784,
          "Sampled Average Effects": -0.4048291426897049,
          "Sampled Dual Effects": -0.45559430837631226,
          "Sampled Primal Effects": -0.4190161538124084
         },
         {
          "Average Interaction Effects": -0.008705852356664323,
          "Dual Interaction Effects": 0.0004929878526185316,
          "Feature": 2,
          "Kernel SHAP Values": 1.082928693216369,
          "Primal Interaction Effects": -0.005024163801147896,
          "Sampled Average Effects": 1.0916345455730334,
          "Sampled Dual Effects": 1.0824357053637506,
          "Sampled Primal Effects": 1.087952857017517
         },
         {
          "Average Interaction Effects": -0.03776558282753584,
          "Dual Interaction Effects": -0.051813497496453476,
          "Feature": 2,
          "Kernel SHAP Values": -1.275086532188264,
          "Primal Interaction Effects": -0.045653977943268975,
          "Sampled Average Effects": -1.2373209493607282,
          "Sampled Dual Effects": -1.2232730346918106,
          "Sampled Primal Effects": -1.229432554244995
         },
         {
          "Average Interaction Effects": -0.04845117938318172,
          "Dual Interaction Effects": 0.004675764361537327,
          "Feature": 2,
          "Kernel SHAP Values": 0.41268301277808034,
          "Primal Interaction Effects": 0.0012556102817424253,
          "Sampled Average Effects": 0.46113419216126206,
          "Sampled Dual Effects": 0.408007248416543,
          "Sampled Primal Effects": 0.4114274024963379
         },
         {
          "Average Interaction Effects": -0.054037696252168366,
          "Dual Interaction Effects": 0.0007813243767607718,
          "Feature": 2,
          "Kernel SHAP Values": -0.018880888948739717,
          "Primal Interaction Effects": -0.04267498774320001,
          "Sampled Average Effects": 0.03515680730342865,
          "Sampled Dual Effects": -0.01966221332550049,
          "Sampled Primal Effects": 0.023794098794460296
         },
         {
          "Average Interaction Effects": -0.15350185557996487,
          "Dual Interaction Effects": -0.10316111445223553,
          "Feature": 2,
          "Kernel SHAP Values": 0.5072989720126464,
          "Primal Interaction Effects": -0.13566404640471197,
          "Sampled Average Effects": 0.6608008275926113,
          "Sampled Dual Effects": 0.6104600864648819,
          "Sampled Primal Effects": 0.6429630184173584
         },
         {
          "Average Interaction Effects": -0.019595818254905417,
          "Dual Interaction Effects": 0.004836393263382255,
          "Feature": 2,
          "Kernel SHAP Values": -0.3357170334791715,
          "Primal Interaction Effects": -0.007122333381133772,
          "Sampled Average Effects": -0.31612121522426606,
          "Sampled Dual Effects": -0.34055342674255373,
          "Sampled Primal Effects": -0.3285947000980377
         },
         {
          "Average Interaction Effects": -0.16241551240592428,
          "Dual Interaction Effects": -0.08029389945476478,
          "Feature": 2,
          "Kernel SHAP Values": -0.39264883255272337,
          "Primal Interaction Effects": -0.15830835675507018,
          "Sampled Average Effects": -0.2302333201467991,
          "Sampled Dual Effects": -0.3123549330979586,
          "Sampled Primal Effects": -0.23434047579765319
         },
         {
          "Average Interaction Effects": -0.023716204887770327,
          "Dual Interaction Effects": -0.04363939625635019,
          "Feature": 2,
          "Kernel SHAP Values": 0.0009998525916112347,
          "Primal Interaction Effects": -0.005904838717125566,
          "Sampled Average Effects": 0.024716057479381562,
          "Sampled Dual Effects": 0.04463924884796142,
          "Sampled Primal Effects": 0.006904691308736801
         },
         {
          "Average Interaction Effects": -0.028474555310798677,
          "Dual Interaction Effects": -0.07450674939621788,
          "Feature": 2,
          "Kernel SHAP Values": -0.38053313214053014,
          "Primal Interaction Effects": -0.0991006811307798,
          "Sampled Average Effects": -0.35205857682973146,
          "Sampled Dual Effects": -0.30602638274431226,
          "Sampled Primal Effects": -0.28143245100975034
         },
         {
          "Average Interaction Effects": 0.051645094001912195,
          "Dual Interaction Effects": -0.0921952204832206,
          "Feature": 2,
          "Kernel SHAP Values": 1.5603856588474145,
          "Primal Interaction Effects": -0.05180740107385007,
          "Sampled Average Effects": 1.5087405648455023,
          "Sampled Dual Effects": 1.6525808793306351,
          "Sampled Primal Effects": 1.6121930599212646
         },
         {
          "Average Interaction Effects": -0.035033813623805865,
          "Dual Interaction Effects": -0.07145363321723541,
          "Feature": 2,
          "Kernel SHAP Values": 0.6376043535190622,
          "Primal Interaction Effects": -0.12264869442405302,
          "Sampled Average Effects": 0.6726381671428681,
          "Sampled Dual Effects": 0.7090579867362976,
          "Sampled Primal Effects": 0.7602530479431152
         },
         {
          "Average Interaction Effects": -0.08906793905850896,
          "Dual Interaction Effects": -0.09475942207929144,
          "Feature": 2,
          "Kernel SHAP Values": 0.8756302683198784,
          "Primal Interaction Effects": -0.11320416523572463,
          "Sampled Average Effects": 0.9646982073783874,
          "Sampled Dual Effects": 0.9703896903991699,
          "Sampled Primal Effects": 0.9888344335556031
         },
         {
          "Average Interaction Effects": 0.009651355783061422,
          "Dual Interaction Effects": -0.039000580047650835,
          "Feature": 2,
          "Kernel SHAP Values": 0.8452204602608246,
          "Primal Interaction Effects": -0.033602038060708606,
          "Sampled Average Effects": 0.8355691044777632,
          "Sampled Dual Effects": 0.8842210403084755,
          "Sampled Primal Effects": 0.8788224983215333
         },
         {
          "Average Interaction Effects": 0.04681738379590861,
          "Dual Interaction Effects": 0.014655166149071364,
          "Feature": 2,
          "Kernel SHAP Values": -0.6529699067474092,
          "Primal Interaction Effects": 0.051047353327206335,
          "Sampled Average Effects": -0.6997872905433178,
          "Sampled Dual Effects": -0.6676250728964805,
          "Sampled Primal Effects": -0.7040172600746155
         },
         {
          "Average Interaction Effects": -0.053432612032764726,
          "Dual Interaction Effects": -0.0836407121877607,
          "Feature": 2,
          "Kernel SHAP Values": 0.8947424605627123,
          "Primal Interaction Effects": -0.11988825766848876,
          "Sampled Average Effects": 0.9481750725954771,
          "Sampled Dual Effects": 0.978383172750473,
          "Sampled Primal Effects": 1.014630718231201
         },
         {
          "Average Interaction Effects": -0.03217304482190653,
          "Dual Interaction Effects": -0.027475252589869936,
          "Feature": 2,
          "Kernel SHAP Values": -0.04690614639847322,
          "Primal Interaction Effects": -0.03428343533604189,
          "Sampled Average Effects": -0.014733101576566696,
          "Sampled Dual Effects": -0.019430893808603286,
          "Sampled Primal Effects": -0.012622711062431336
         },
         {
          "Average Interaction Effects": -0.08062581561543516,
          "Dual Interaction Effects": -0.03182179890610748,
          "Feature": 2,
          "Kernel SHAP Values": -0.3146648856256204,
          "Primal Interaction Effects": -0.06054196797349026,
          "Sampled Average Effects": -0.23403907001018523,
          "Sampled Dual Effects": -0.2828430867195129,
          "Sampled Primal Effects": -0.25412291765213013
         },
         {
          "Average Interaction Effects": -0.00734185103570828,
          "Dual Interaction Effects": -0.04180685457085975,
          "Feature": 2,
          "Kernel SHAP Values": 0.8982008756300269,
          "Primal Interaction Effects": -0.0460399137834252,
          "Sampled Average Effects": 0.9055427266657352,
          "Sampled Dual Effects": 0.9400077302008867,
          "Sampled Primal Effects": 0.9442407894134521
         },
         {
          "Average Interaction Effects": -0.14517788462044834,
          "Dual Interaction Effects": -0.05013643853070371,
          "Feature": 2,
          "Kernel SHAP Values": -0.5879391824424469,
          "Primal Interaction Effects": -0.12513956777455448,
          "Sampled Average Effects": -0.4427612978219986,
          "Sampled Dual Effects": -0.5378027439117432,
          "Sampled Primal Effects": -0.46279961466789243
         },
         {
          "Average Interaction Effects": -0.036278172764163036,
          "Dual Interaction Effects": -0.0976983880206752,
          "Feature": 2,
          "Kernel SHAP Values": -0.16405573911515953,
          "Primal Interaction Effects": -0.08499784625617744,
          "Sampled Average Effects": -0.1277775663509965,
          "Sampled Dual Effects": -0.06635735109448433,
          "Sampled Primal Effects": -0.07905789285898208
         },
         {
          "Average Interaction Effects": -0.01769297020286914,
          "Dual Interaction Effects": -0.035895757915085535,
          "Feature": 2,
          "Kernel SHAP Values": 0.3889689939305127,
          "Primal Interaction Effects": -0.09214111277610654,
          "Sampled Average Effects": 0.40666196413338185,
          "Sampled Dual Effects": 0.42486475184559824,
          "Sampled Primal Effects": 0.48111010670661924
         },
         {
          "Average Interaction Effects": -0.08504946238366506,
          "Dual Interaction Effects": -0.0615176344570294,
          "Feature": 2,
          "Kernel SHAP Values": 1.2503781413379536,
          "Primal Interaction Effects": -0.0404463768657819,
          "Sampled Average Effects": 1.3354276037216186,
          "Sampled Dual Effects": 1.311895775794983,
          "Sampled Primal Effects": 1.2908245182037354
         },
         {
          "Average Interaction Effects": 0.01460263081512303,
          "Dual Interaction Effects": -0.029771671288992496,
          "Feature": 2,
          "Kernel SHAP Values": 0.8420312392773375,
          "Primal Interaction Effects": 0.038312829739068466,
          "Sampled Average Effects": 0.8274286084622144,
          "Sampled Dual Effects": 0.87180291056633,
          "Sampled Primal Effects": 0.803718409538269
         },
         {
          "Average Interaction Effects": -0.08646744574358245,
          "Dual Interaction Effects": -0.06640660519649766,
          "Feature": 2,
          "Kernel SHAP Values": -0.8723819440131404,
          "Primal Interaction Effects": -0.12515752251198076,
          "Sampled Average Effects": -0.785914498269558,
          "Sampled Dual Effects": -0.8059753388166427,
          "Sampled Primal Effects": -0.7472244215011596
         },
         {
          "Average Interaction Effects": 0.005780650576122426,
          "Dual Interaction Effects": -0.027951466838352035,
          "Feature": 2,
          "Kernel SHAP Values": 0.5395408560834009,
          "Primal Interaction Effects": 0.09340255280352416,
          "Sampled Average Effects": 0.5337602055072784,
          "Sampled Dual Effects": 0.5674923229217529,
          "Sampled Primal Effects": 0.4461383032798767
         },
         {
          "Average Interaction Effects": 0.02466056946385417,
          "Dual Interaction Effects": 0.041239421923642494,
          "Feature": 2,
          "Kernel SHAP Values": -0.1418373627616116,
          "Primal Interaction Effects": 0.0810383729981235,
          "Sampled Average Effects": -0.16649793222546577,
          "Sampled Dual Effects": -0.1830767846852541,
          "Sampled Primal Effects": -0.2228757357597351
         },
         {
          "Average Interaction Effects": -0.0367890660876371,
          "Dual Interaction Effects": 0.01964647134375208,
          "Feature": 2,
          "Kernel SHAP Values": 1.1276138902230226,
          "Primal Interaction Effects": 0.0478120637459718,
          "Sampled Average Effects": 1.1644029563106597,
          "Sampled Dual Effects": 1.1079674188792705,
          "Sampled Primal Effects": 1.0798018264770508
         },
         {
          "Average Interaction Effects": -0.06754935161406594,
          "Dual Interaction Effects": -0.0839084106796463,
          "Feature": 2,
          "Kernel SHAP Values": -0.06447752774889069,
          "Primal Interaction Effects": -0.04796529309088784,
          "Sampled Average Effects": 0.003071823865175247,
          "Sampled Dual Effects": 0.019430882930755615,
          "Sampled Primal Effects": -0.016512234658002854
         },
         {
          "Average Interaction Effects": -0.06443030133458183,
          "Dual Interaction Effects": -0.0024097646734337896,
          "Feature": 2,
          "Kernel SHAP Values": 0.8150221891739745,
          "Primal Interaction Effects": 0.04513086036232905,
          "Sampled Average Effects": 0.8794524905085563,
          "Sampled Dual Effects": 0.8174319538474083,
          "Sampled Primal Effects": 0.7698913288116455
         },
         {
          "Average Interaction Effects": 0.026428077634848668,
          "Dual Interaction Effects": -0.028902195278130538,
          "Feature": 2,
          "Kernel SHAP Values": -1.011543278280221,
          "Primal Interaction Effects": -0.0035351224574671214,
          "Sampled Average Effects": -1.0379713559150696,
          "Sampled Dual Effects": -0.9826410830020904,
          "Sampled Primal Effects": -1.0080081558227538
         },
         {
          "Average Interaction Effects": 0.038735156831822826,
          "Dual Interaction Effects": 0.06431023674973058,
          "Feature": 2,
          "Kernel SHAP Values": 1.1359429796315055,
          "Primal Interaction Effects": 0.008709188280187075,
          "Sampled Average Effects": 1.0972078227996827,
          "Sampled Dual Effects": 1.071632742881775,
          "Sampled Primal Effects": 1.1272337913513184
         },
         {
          "Average Interaction Effects": -0.061841206205321686,
          "Dual Interaction Effects": 0.001689487444923976,
          "Feature": 2,
          "Kernel SHAP Values": 0.4635261592741476,
          "Primal Interaction Effects": -0.04836201573653359,
          "Sampled Average Effects": 0.5253673654794693,
          "Sampled Dual Effects": 0.4618366718292236,
          "Sampled Primal Effects": 0.5118881750106812
         },
         {
          "Average Interaction Effects": 0.009976536289058147,
          "Dual Interaction Effects": -0.031895609840549954,
          "Feature": 2,
          "Kernel SHAP Values": 0.7391880288275103,
          "Primal Interaction Effects": -0.043337040886082145,
          "Sampled Average Effects": 0.7292114925384522,
          "Sampled Dual Effects": 0.7710836386680603,
          "Sampled Primal Effects": 0.7825250697135925
         },
         {
          "Average Interaction Effects": -0.057170738331230764,
          "Dual Interaction Effects": 0.015631253220883767,
          "Feature": 2,
          "Kernel SHAP Values": -1.4367093955494485,
          "Primal Interaction Effects": -0.06097455611005653,
          "Sampled Average Effects": -1.3795386572182178,
          "Sampled Dual Effects": -1.4523406487703323,
          "Sampled Primal Effects": -1.375734839439392
         },
         {
          "Average Interaction Effects": -0.12078565863060509,
          "Dual Interaction Effects": -0.10102396872925312,
          "Feature": 2,
          "Kernel SHAP Values": 0.4406321177156016,
          "Primal Interaction Effects": -0.07602261928009535,
          "Sampled Average Effects": 0.5614177763462067,
          "Sampled Dual Effects": 0.5416560864448547,
          "Sampled Primal Effects": 0.516654736995697
         },
         {
          "Average Interaction Effects": -0.009345464423231253,
          "Dual Interaction Effects": 0.026040420815416243,
          "Feature": 2,
          "Kernel SHAP Values": -0.9066740414648572,
          "Primal Interaction Effects": -0.04658524008088505,
          "Sampled Average Effects": -0.8973285770416259,
          "Sampled Dual Effects": -0.9327144622802734,
          "Sampled Primal Effects": -0.8600888013839721
         },
         {
          "Average Interaction Effects": 0.02530063800062271,
          "Dual Interaction Effects": -0.03390649758730796,
          "Feature": 2,
          "Kernel SHAP Values": -0.46871086456333066,
          "Primal Interaction Effects": 0.019032602529183373,
          "Sampled Average Effects": -0.4940115025639534,
          "Sampled Dual Effects": -0.4348043669760227,
          "Sampled Primal Effects": -0.48774346709251404
         },
         {
          "Average Interaction Effects": -0.030468659733048353,
          "Dual Interaction Effects": -0.005451903116515444,
          "Feature": 2,
          "Kernel SHAP Values": -1.307214686941913,
          "Primal Interaction Effects": -0.07576089627724025,
          "Sampled Average Effects": -1.2767460272088647,
          "Sampled Dual Effects": -1.3017627838253976,
          "Sampled Primal Effects": -1.2314537906646728
         },
         {
          "Average Interaction Effects": 0.015100483609306492,
          "Dual Interaction Effects": 0.02152191133605208,
          "Feature": 2,
          "Kernel SHAP Values": 1.293913087559807,
          "Primal Interaction Effects": -0.06075549631012711,
          "Sampled Average Effects": 1.2788126039505006,
          "Sampled Dual Effects": 1.272391176223755,
          "Sampled Primal Effects": 1.3546685838699342
         },
         {
          "Average Interaction Effects": 0.0032491103935767818,
          "Dual Interaction Effects": -0.004748514480538146,
          "Feature": 2,
          "Kernel SHAP Values": 1.6698050872612527,
          "Primal Interaction Effects": 0.003547486476950912,
          "Sampled Average Effects": 1.6665559768676759,
          "Sampled Dual Effects": 1.6745536017417908,
          "Sampled Primal Effects": 1.6662576007843017
         },
         {
          "Average Interaction Effects": -0.05433669078905057,
          "Dual Interaction Effects": -0.02459617245752288,
          "Feature": 2,
          "Kernel SHAP Values": -0.8383875765259928,
          "Primal Interaction Effects": -0.06130867857295941,
          "Sampled Average Effects": -0.7840508857369423,
          "Sampled Dual Effects": -0.81379140406847,
          "Sampled Primal Effects": -0.7770788979530334
         },
         {
          "Average Interaction Effects": 0.01196428029583374,
          "Dual Interaction Effects": -0.0719260300810487,
          "Feature": 2,
          "Kernel SHAP Values": 0.9623910795037596,
          "Primal Interaction Effects": 0.017359217244848457,
          "Sampled Average Effects": 0.9504267992079258,
          "Sampled Dual Effects": 1.0343171095848083,
          "Sampled Primal Effects": 0.9450318622589111
         },
         {
          "Average Interaction Effects": 0.03505569756948579,
          "Dual Interaction Effects": -0.017830300917986763,
          "Feature": 2,
          "Kernel SHAP Values": -0.933831627955798,
          "Primal Interaction Effects": 0.029951917538281636,
          "Sampled Average Effects": -0.9688873255252838,
          "Sampled Dual Effects": -0.9160013270378112,
          "Sampled Primal Effects": -0.9637835454940796
         },
         {
          "Average Interaction Effects": -0.012778964390497971,
          "Dual Interaction Effects": 0.0012765663364115998,
          "Feature": 2,
          "Kernel SHAP Values": 0.6117844545343105,
          "Primal Interaction Effects": -0.062193223287802524,
          "Sampled Average Effects": 0.6245634189248085,
          "Sampled Dual Effects": 0.6105078881978989,
          "Sampled Primal Effects": 0.673977677822113
         },
         {
          "Average Interaction Effects": -0.013101722448058628,
          "Dual Interaction Effects": -0.01941508836943684,
          "Feature": 2,
          "Kernel SHAP Values": 0.6105535557131094,
          "Primal Interaction Effects": -0.09827822424370825,
          "Sampled Average Effects": 0.6236552781611681,
          "Sampled Dual Effects": 0.6299686440825463,
          "Sampled Primal Effects": 0.7088317799568177
         },
         {
          "Average Interaction Effects": -0.05148420539594145,
          "Dual Interaction Effects": -0.08353029520160404,
          "Feature": 2,
          "Kernel SHAP Values": -1.0443340753102943,
          "Primal Interaction Effects": 0.02004540219062112,
          "Sampled Average Effects": -0.9928498699143529,
          "Sampled Dual Effects": -0.9608037801086903,
          "Sampled Primal Effects": -1.0643794775009154
         },
         {
          "Average Interaction Effects": -0.09498921339170652,
          "Dual Interaction Effects": -0.0810567933763714,
          "Feature": 2,
          "Kernel SHAP Values": 0.4255354517255573,
          "Primal Interaction Effects": -0.13387097422735406,
          "Sampled Average Effects": 0.5205246651172638,
          "Sampled Dual Effects": 0.5065922451019287,
          "Sampled Primal Effects": 0.5594064259529113
         },
         {
          "Average Interaction Effects": -0.08785882100778242,
          "Dual Interaction Effects": -0.0739371953936161,
          "Feature": 2,
          "Kernel SHAP Values": -1.8752085052462162,
          "Primal Interaction Effects": -0.10679641113000526,
          "Sampled Average Effects": -1.7873496842384338,
          "Sampled Dual Effects": -1.8012713098526,
          "Sampled Primal Effects": -1.768412094116211
         },
         {
          "Average Interaction Effects": 0.020583799680433224,
          "Dual Interaction Effects": 0.03137038429614064,
          "Feature": 2,
          "Kernel SHAP Values": -0.40112612525586133,
          "Primal Interaction Effects": -0.008378049532213272,
          "Sampled Average Effects": -0.42170992493629456,
          "Sampled Dual Effects": -0.432496509552002,
          "Sampled Primal Effects": -0.39274807572364806
         },
         {
          "Average Interaction Effects": -0.052734881440619885,
          "Dual Interaction Effects": 0.013868734066863508,
          "Feature": 2,
          "Kernel SHAP Values": 1.8516571745774941,
          "Primal Interaction Effects": 0.0020146689317421806,
          "Sampled Average Effects": 1.904392056018114,
          "Sampled Dual Effects": 1.8377884405106306,
          "Sampled Primal Effects": 1.849642505645752
         },
         {
          "Average Interaction Effects": 0.00930010377236945,
          "Dual Interaction Effects": -0.05960583091905969,
          "Feature": 2,
          "Kernel SHAP Values": 0.5949942779428635,
          "Primal Interaction Effects": 0.04717615364858252,
          "Sampled Average Effects": 0.5856941741704941,
          "Sampled Dual Effects": 0.6546001088619232,
          "Sampled Primal Effects": 0.547818124294281
         },
         {
          "Average Interaction Effects": -0.13266240026889375,
          "Dual Interaction Effects": -0.15567664064554504,
          "Feature": 2,
          "Kernel SHAP Values": -0.5843867413149588,
          "Primal Interaction Effects": -0.20222122827632355,
          "Sampled Average Effects": -0.45172434104606507,
          "Sampled Dual Effects": -0.4287101006694138,
          "Sampled Primal Effects": -0.3821655130386353
         },
         {
          "Average Interaction Effects": -0.15116348082163947,
          "Dual Interaction Effects": -0.16795319074729106,
          "Feature": 2,
          "Kernel SHAP Values": 0.18237563615700583,
          "Primal Interaction Effects": -0.09498930448630469,
          "Sampled Average Effects": 0.3335391169786453,
          "Sampled Dual Effects": 0.3503288269042969,
          "Sampled Primal Effects": 0.2773649406433105
         },
         {
          "Average Interaction Effects": -0.021095460675788047,
          "Dual Interaction Effects": -0.020220800064635447,
          "Feature": 2,
          "Kernel SHAP Values": 0.2941747134699105,
          "Primal Interaction Effects": -0.07929127755029214,
          "Sampled Average Effects": 0.3152701741456985,
          "Sampled Dual Effects": 0.3143955135345459,
          "Sampled Primal Effects": 0.3734659910202026
         },
         {
          "Average Interaction Effects": -0.020134268749833706,
          "Dual Interaction Effects": 0.01411508640986614,
          "Feature": 2,
          "Kernel SHAP Values": -0.6299276606108553,
          "Primal Interaction Effects": -0.03599488177555865,
          "Sampled Average Effects": -0.6097933918610215,
          "Sampled Dual Effects": -0.6440427470207214,
          "Sampled Primal Effects": -0.5939327788352966
         },
         {
          "Average Interaction Effects": -0.022691321227635786,
          "Dual Interaction Effects": -0.050901938233460786,
          "Feature": 2,
          "Kernel SHAP Values": 0.46114352300396977,
          "Primal Interaction Effects": 0.04344509079686221,
          "Sampled Average Effects": 0.48383484423160555,
          "Sampled Dual Effects": 0.5120454612374306,
          "Sampled Primal Effects": 0.41769843220710756
         },
         {
          "Average Interaction Effects": -0.07950552134396353,
          "Dual Interaction Effects": -0.09007160520734112,
          "Feature": 2,
          "Kernel SHAP Values": -0.16344712352933208,
          "Primal Interaction Effects": -0.03573219067038813,
          "Sampled Average Effects": -0.08394160218536854,
          "Sampled Dual Effects": -0.07337551832199096,
          "Sampled Primal Effects": -0.12771493285894395
         },
         {
          "Average Interaction Effects": 0.0017938954727859668,
          "Dual Interaction Effects": -0.04617422845492658,
          "Feature": 2,
          "Kernel SHAP Values": 0.569351981540224,
          "Primal Interaction Effects": 0.026236258407136837,
          "Sampled Average Effects": 0.5675580860674381,
          "Sampled Dual Effects": 0.6155262099951506,
          "Sampled Primal Effects": 0.5431157231330872
         },
         {
          "Average Interaction Effects": 0.010992724571263768,
          "Dual Interaction Effects": -0.01732846054073578,
          "Feature": 2,
          "Kernel SHAP Values": 1.106333684597051,
          "Primal Interaction Effects": 0.048370465908086135,
          "Sampled Average Effects": 1.0953409600257873,
          "Sampled Dual Effects": 1.1236621451377868,
          "Sampled Primal Effects": 1.057963218688965
         },
         {
          "Average Interaction Effects": 0.034207351204037284,
          "Dual Interaction Effects": 0.01059422552216005,
          "Feature": 2,
          "Kernel SHAP Values": 0.5560015386306043,
          "Primal Interaction Effects": 0.003538262244343282,
          "Sampled Average Effects": 0.521794187426567,
          "Sampled Dual Effects": 0.5454073131084443,
          "Sampled Primal Effects": 0.552463276386261
         },
         {
          "Average Interaction Effects": -0.05911876603523197,
          "Dual Interaction Effects": -0.030239664460811055,
          "Feature": 2,
          "Kernel SHAP Values": 0.24426744565805492,
          "Primal Interaction Effects": -0.04748819365659657,
          "Sampled Average Effects": 0.3033862116932869,
          "Sampled Dual Effects": 0.27450711011886597,
          "Sampled Primal Effects": 0.2917556393146515
         },
         {
          "Average Interaction Effects": -0.013246640212258132,
          "Dual Interaction Effects": -0.05720725665183907,
          "Feature": 2,
          "Kernel SHAP Values": 0.33584157822338695,
          "Primal Interaction Effects": -0.00995815696509722,
          "Sampled Average Effects": 0.3490882184356451,
          "Sampled Dual Effects": 0.393048834875226,
          "Sampled Primal Effects": 0.34579973518848417
         },
         {
          "Average Interaction Effects": -0.05453761136049273,
          "Dual Interaction Effects": -0.0741434171971107,
          "Feature": 2,
          "Kernel SHAP Values": 0.694339333419857,
          "Primal Interaction Effects": -0.07186996614450458,
          "Sampled Average Effects": 0.7488769447803497,
          "Sampled Dual Effects": 0.7684827506169677,
          "Sampled Primal Effects": 0.7662092995643616
         },
         {
          "Average Interaction Effects": -0.0766107554158797,
          "Dual Interaction Effects": -0.08052853056999343,
          "Feature": 2,
          "Kernel SHAP Values": -1.363114599677049,
          "Primal Interaction Effects": -0.06022259184929024,
          "Sampled Average Effects": -1.2865038442611694,
          "Sampled Dual Effects": -1.2825860691070556,
          "Sampled Primal Effects": -1.3028920078277588
         },
         {
          "Average Interaction Effects": -0.015423054236406886,
          "Dual Interaction Effects": -0.03888877345942943,
          "Feature": 2,
          "Kernel SHAP Values": 1.4266561822710089,
          "Primal Interaction Effects": -0.11206501676463576,
          "Sampled Average Effects": 1.4420792365074158,
          "Sampled Dual Effects": 1.4655449557304383,
          "Sampled Primal Effects": 1.5387211990356446
         },
         {
          "Average Interaction Effects": -0.052021962616333794,
          "Dual Interaction Effects": -0.09900625969071136,
          "Feature": 2,
          "Kernel SHAP Values": 0.4116111658255364,
          "Primal Interaction Effects": -0.07856388824779731,
          "Sampled Average Effects": 0.4636331284418702,
          "Sampled Dual Effects": 0.5106174255162478,
          "Sampled Primal Effects": 0.4901750540733337
         },
         {
          "Average Interaction Effects": -0.05947374777097303,
          "Dual Interaction Effects": -0.05113170967597569,
          "Feature": 2,
          "Kernel SHAP Values": 0.6418220038602869,
          "Primal Interaction Effects": -0.022245047550388142,
          "Sampled Average Effects": 0.7012957516312599,
          "Sampled Dual Effects": 0.6929537135362626,
          "Sampled Primal Effects": 0.664067051410675
         },
         {
          "Average Interaction Effects": -0.02593625486683416,
          "Dual Interaction Effects": -0.012459167994971751,
          "Feature": 2,
          "Kernel SHAP Values": -0.05835828737210798,
          "Primal Interaction Effects": -0.00827231244039106,
          "Sampled Average Effects": -0.03242203250527382,
          "Sampled Dual Effects": -0.04589911937713623,
          "Sampled Primal Effects": -0.05008597493171692
         },
         {
          "Average Interaction Effects": -0.11192948508184832,
          "Dual Interaction Effects": -0.05000574055236262,
          "Feature": 2,
          "Kernel SHAP Values": -0.1846009773306219,
          "Primal Interaction Effects": -0.03854408088248651,
          "Sampled Average Effects": -0.07267149224877358,
          "Sampled Dual Effects": -0.13459523677825927,
          "Sampled Primal Effects": -0.14605689644813538
         },
         {
          "Average Interaction Effects": -0.019742445437076594,
          "Dual Interaction Effects": -0.045285528389576,
          "Feature": 2,
          "Kernel SHAP Values": 0.8863495772203178,
          "Primal Interaction Effects": 0.013913182528850543,
          "Sampled Average Effects": 0.9060920226573944,
          "Sampled Dual Effects": 0.9316351056098938,
          "Sampled Primal Effects": 0.8724363946914673
         },
         {
          "Average Interaction Effects": 0.01271541566765877,
          "Dual Interaction Effects": 0.023257775131529268,
          "Feature": 2,
          "Kernel SHAP Values": -0.7734829119854513,
          "Primal Interaction Effects": -0.033374009531075055,
          "Sampled Average Effects": -0.78619832765311,
          "Sampled Dual Effects": -0.7967406871169805,
          "Sampled Primal Effects": -0.7401089024543762
         },
         {
          "Average Interaction Effects": -0.09429649179629107,
          "Dual Interaction Effects": -0.125361325496948,
          "Feature": 2,
          "Kernel SHAP Values": 0.4484603413397906,
          "Primal Interaction Effects": -0.06366624271324894,
          "Sampled Average Effects": 0.5427568331360817,
          "Sampled Dual Effects": 0.5738216668367386,
          "Sampled Primal Effects": 0.5121265840530396
         },
         {
          "Average Interaction Effects": -0.02095465380791421,
          "Dual Interaction Effects": -0.029350590520536853,
          "Feature": 2,
          "Kernel SHAP Values": 0.017791398986244246,
          "Primal Interaction Effects": 0.026225341184997603,
          "Sampled Average Effects": 0.03874605279415846,
          "Sampled Dual Effects": 0.0471419895067811,
          "Sampled Primal Effects": -0.008433942198753357
         },
         {
          "Average Interaction Effects": 0.00578071211643022,
          "Dual Interaction Effects": 0.031788468893537924,
          "Feature": 2,
          "Kernel SHAP Values": 0.4371476221568088,
          "Primal Interaction Effects": -0.02202566261224942,
          "Sampled Average Effects": 0.4313669100403786,
          "Sampled Dual Effects": 0.4053591532632709,
          "Sampled Primal Effects": 0.4591732847690582
         },
         {
          "Average Interaction Effects": -0.04673507906788449,
          "Dual Interaction Effects": -0.0355786188721047,
          "Feature": 2,
          "Kernel SHAP Values": 0.14704709805256266,
          "Primal Interaction Effects": 0.002298270833553273,
          "Sampled Average Effects": 0.19378217712044715,
          "Sampled Dual Effects": 0.18262571692466736,
          "Sampled Primal Effects": 0.1447488272190094
         },
         {
          "Average Interaction Effects": -0.07126399557925084,
          "Dual Interaction Effects": -0.09224595259762625,
          "Feature": 2,
          "Kernel SHAP Values": 0.27820863176249644,
          "Primal Interaction Effects": -0.10144464980698448,
          "Sampled Average Effects": 0.3494726273417473,
          "Sampled Dual Effects": 0.3704545843601227,
          "Sampled Primal Effects": 0.3796532815694809
         },
         {
          "Average Interaction Effects": -0.11052218737640782,
          "Dual Interaction Effects": -0.09128942998686237,
          "Feature": 2,
          "Kernel SHAP Values": 0.1593607435133179,
          "Primal Interaction Effects": -0.047151116380480945,
          "Sampled Average Effects": 0.2698829308897257,
          "Sampled Dual Effects": 0.25065017350018026,
          "Sampled Primal Effects": 0.20651185989379883
         },
         {
          "Average Interaction Effects": -0.05134242153700308,
          "Dual Interaction Effects": 0.017915067905822202,
          "Feature": 2,
          "Kernel SHAP Values": 3.3108257260269314,
          "Primal Interaction Effects": -0.025913318162521737,
          "Sampled Average Effects": 3.3621681475639345,
          "Sampled Dual Effects": 3.292910658121109,
          "Sampled Primal Effects": 3.336739044189453
         },
         {
          "Average Interaction Effects": -0.14810072687533116,
          "Dual Interaction Effects": -0.13676413682368027,
          "Feature": 2,
          "Kernel SHAP Values": -1.1697179069843553,
          "Primal Interaction Effects": -0.10972379115488762,
          "Sampled Average Effects": -1.0216171801090241,
          "Sampled Dual Effects": -1.032953770160675,
          "Sampled Primal Effects": -1.0599941158294677
         },
         {
          "Average Interaction Effects": 0.023674611288867498,
          "Dual Interaction Effects": -0.017734903276153124,
          "Feature": 2,
          "Kernel SHAP Values": -1.237470799863525,
          "Primal Interaction Effects": -0.07752746719140591,
          "Sampled Average Effects": -1.2611454111523925,
          "Sampled Dual Effects": -1.219735896587372,
          "Sampled Primal Effects": -1.1599433326721191
         },
         {
          "Average Interaction Effects": -0.014200352065573019,
          "Dual Interaction Effects": -0.01578032378883154,
          "Feature": 2,
          "Kernel SHAP Values": -0.8301433491784432,
          "Primal Interaction Effects": 0.0039534687918326705,
          "Sampled Average Effects": -0.8159429971128702,
          "Sampled Dual Effects": -0.8143630253896117,
          "Sampled Primal Effects": -0.8340968179702759
         },
         {
          "Average Interaction Effects": -0.057975143189969325,
          "Dual Interaction Effects": -0.10431228994900255,
          "Feature": 2,
          "Kernel SHAP Values": -0.7812400126414921,
          "Primal Interaction Effects": -0.06544324874454999,
          "Sampled Average Effects": -0.7232648694515228,
          "Sampled Dual Effects": -0.6769277226924896,
          "Sampled Primal Effects": -0.7157967638969421
         },
         {
          "Average Interaction Effects": 0.09058152573729605,
          "Dual Interaction Effects": 0.12650810139800162,
          "Feature": 2,
          "Kernel SHAP Values": 0.4768206347766027,
          "Primal Interaction Effects": 0.09161094921256158,
          "Sampled Average Effects": 0.38623910903930664,
          "Sampled Dual Effects": 0.3503125333786011,
          "Sampled Primal Effects": 0.3852096855640411
         },
         {
          "Average Interaction Effects": -0.02568736623585155,
          "Dual Interaction Effects": 0.06939602096021244,
          "Feature": 2,
          "Kernel SHAP Values": 0.22409326274335453,
          "Primal Interaction Effects": -0.031735629696249296,
          "Sampled Average Effects": 0.24978062897920608,
          "Sampled Dual Effects": 0.1546972417831421,
          "Sampled Primal Effects": 0.2558288924396038
         },
         {
          "Average Interaction Effects": -0.06185168613964409,
          "Dual Interaction Effects": -0.03806807508045518,
          "Feature": 2,
          "Kernel SHAP Values": -1.2097213529544482,
          "Primal Interaction Effects": 0.0018464494747509885,
          "Sampled Average Effects": -1.147869666814804,
          "Sampled Dual Effects": -1.171653277873993,
          "Sampled Primal Effects": -1.2115678024291991
         },
         {
          "Average Interaction Effects": 0.004125152179560665,
          "Dual Interaction Effects": 0.0066610950842118655,
          "Feature": 2,
          "Kernel SHAP Values": 1.689632451930604,
          "Primal Interaction Effects": 0.022374980846009418,
          "Sampled Average Effects": 1.6855072997510434,
          "Sampled Dual Effects": 1.6829713568463922,
          "Sampled Primal Effects": 1.6672574710845947
         },
         {
          "Average Interaction Effects": -0.09776141161525453,
          "Dual Interaction Effects": -0.04654776532629337,
          "Feature": 2,
          "Kernel SHAP Values": 0.18599169935604726,
          "Primal Interaction Effects": -0.017604252737553977,
          "Sampled Average Effects": 0.2837531109713018,
          "Sampled Dual Effects": 0.23253946468234063,
          "Sampled Primal Effects": 0.20359595209360123
         },
         {
          "Average Interaction Effects": -0.1363093958388204,
          "Dual Interaction Effects": -0.030156354490959103,
          "Feature": 2,
          "Kernel SHAP Values": -0.8642071269790763,
          "Primal Interaction Effects": -0.061825837973796816,
          "Sampled Average Effects": -0.7278977311402559,
          "Sampled Dual Effects": -0.8340507724881172,
          "Sampled Primal Effects": -0.8023812890052795
         },
         {
          "Average Interaction Effects": -0.06511661345883768,
          "Dual Interaction Effects": -0.07224812800809288,
          "Feature": 2,
          "Kernel SHAP Values": 1.172294623304163,
          "Primal Interaction Effects": -0.1255095606557981,
          "Sampled Average Effects": 1.2374112367630006,
          "Sampled Dual Effects": 1.2445427513122558,
          "Sampled Primal Effects": 1.297804183959961
         },
         {
          "Average Interaction Effects": -0.03724991331276106,
          "Dual Interaction Effects": -0.0328752041834276,
          "Feature": 2,
          "Kernel SHAP Values": 0.6771622752172072,
          "Primal Interaction Effects": 0.032012336156995946,
          "Sampled Average Effects": 0.7144121885299682,
          "Sampled Dual Effects": 0.7100374794006348,
          "Sampled Primal Effects": 0.6451499390602112
         }
        ]
       },
       "repeat": {
        "column": [
         "Sampled Primal Effects",
         "Sampled Dual Effects",
         "Sampled Average Effects"
        ]
       },
       "spec": {
        "data": {
         "name": "data-64bfb52619488000f696e4e667c8350a"
        },
        "encoding": {
         "color": {
          "field": "Feature",
          "type": "nominal"
         },
         "x": {
          "field": "Kernel SHAP Values",
          "type": "quantitative"
         },
         "y": {
          "field": {
           "repeat": "column"
          },
          "type": "quantitative"
         }
        },
        "height": 300,
        "mark": {
         "filled": true,
         "type": "point"
        },
        "width": 300
       }
      },
      "image/png": "[encoded data removed]",
      "text/plain": [
       "<VegaLite 3 object>\n",
       "\n",
       "If you see this message, it means the renderer has not been properly enabled\n",
       "for the frontend that you are using. For more information, see\n",
       "https://altair-viz.github.io/user_guide/troubleshooting.html\n"
      ]
     },
     "execution_count": 15,
     "metadata": {},
     "output_type": "execute_result"
    }
   ],
   "source": [
    "alt.Chart(data_df).mark_point(filled=True).encode(\n",
    "    alt.X('Kernel SHAP Values:Q'),\n",
    "    alt.Y(alt.repeat(\"column\"), type='quantitative'),\n",
    "    alt.Color('Feature:N')\n",
    ").properties(width=300, height=300).repeat(column=['Sampled Primal Effects', 'Sampled Dual Effects', 'Sampled Average Effects'])"
   ]
  },
  {
   "cell_type": "code",
   "execution_count": 16,
   "metadata": {},
   "outputs": [
    {
     "data": {
      "application/vnd.vegalite.v3+json": {
       "$schema": "https://vega.github.io/schema/vega-lite/v3.2.1.json",
       "config": {
        "mark": {
         "tooltip": null
        },
        "view": {
         "height": 300,
         "width": 400
        }
       },
       "datasets": {
        "data-64bfb52619488000f696e4e667c8350a": [
         {
          "Average Interaction Effects": 0.017375346140292736,
          "Dual Interaction Effects": 0.08890302801254137,
          "Feature": 0,
          "Kernel SHAP Values": -0.054566410540315066,
          "Primal Interaction Effects": -0.1385705307709898,
          "Sampled Average Effects": -0.0719417566806078,
          "Sampled Dual Effects": -0.14346943855285643,
          "Sampled Primal Effects": 0.08400412023067474
         },
         {
          "Average Interaction Effects": -0.00770065063964441,
          "Dual Interaction Effects": 0.04629093398917601,
          "Feature": 0,
          "Kernel SHAP Values": 0.07536454667914794,
          "Primal Interaction Effects": 0.027165526949056842,
          "Sampled Average Effects": 0.08306519731879235,
          "Sampled Dual Effects": 0.029073612689971925,
          "Sampled Primal Effects": 0.048199019730091094
         },
         {
          "Average Interaction Effects": 0.04826663060468439,
          "Dual Interaction Effects": -2.0748121502773764,
          "Feature": 0,
          "Kernel SHAP Values": 2.353764391563654,
          "Primal Interaction Effects": 2.2238994455559253,
          "Sampled Average Effects": 2.3054977609589695,
          "Sampled Dual Effects": 4.42857654184103,
          "Sampled Primal Effects": 0.12986494600772858
         },
         {
          "Average Interaction Effects": -0.040359643063643924,
          "Dual Interaction Effects": 0.24074322972526213,
          "Feature": 0,
          "Kernel SHAP Values": -0.28934575240979526,
          "Primal Interaction Effects": -0.3807422189034018,
          "Sampled Average Effects": -0.24898610934615134,
          "Sampled Dual Effects": -0.5300889821350574,
          "Sampled Primal Effects": 0.09139646649360657
         },
         {
          "Average Interaction Effects": 0.017508236639200384,
          "Dual Interaction Effects": 0.001867262892423803,
          "Feature": 0,
          "Kernel SHAP Values": 0.058737642340360816,
          "Primal Interaction Effects": -0.018692536927760905,
          "Sampled Average Effects": 0.04122940570116043,
          "Sampled Dual Effects": 0.05687037944793701,
          "Sampled Primal Effects": 0.07743017926812172
         },
         {
          "Average Interaction Effects": 0.009304266560888785,
          "Dual Interaction Effects": 0.17454905449233105,
          "Feature": 0,
          "Kernel SHAP Values": -0.10734778941788624,
          "Primal Interaction Effects": -0.17284122110524128,
          "Sampled Average Effects": -0.11665205597877502,
          "Sampled Dual Effects": -0.2818968439102173,
          "Sampled Primal Effects": 0.06549343168735504
         },
         {
          "Average Interaction Effects": -0.07711476316591648,
          "Dual Interaction Effects": -0.0580796256466761,
          "Feature": 0,
          "Kernel SHAP Values": 0.0458287725047216,
          "Primal Interaction Effects": -0.06597913918932824,
          "Sampled Average Effects": 0.12294353567063808,
          "Sampled Dual Effects": 0.1039083981513977,
          "Sampled Primal Effects": 0.11180791169404984
         },
         {
          "Average Interaction Effects": -0.021230232927936465,
          "Dual Interaction Effects": -0.5744295579828205,
          "Feature": 0,
          "Kernel SHAP Values": 0.4621903842054425,
          "Primal Interaction Effects": 0.5585764294229565,
          "Sampled Average Effects": 0.48342061713337897,
          "Sampled Dual Effects": 1.036619942188263,
          "Sampled Primal Effects": -0.09638604521751404
         },
         {
          "Average Interaction Effects": -0.1633447889293027,
          "Dual Interaction Effects": 0.8383494674359966,
          "Feature": 0,
          "Kernel SHAP Values": -0.9702435243929219,
          "Primal Interaction Effects": -1.2048307544792485,
          "Sampled Average Effects": -0.8068987354636192,
          "Sampled Dual Effects": -1.8085929918289185,
          "Sampled Primal Effects": 0.2345872300863266
         },
         {
          "Average Interaction Effects": -0.026613907506527312,
          "Dual Interaction Effects": 0.22375401333921963,
          "Feature": 0,
          "Kernel SHAP Values": -0.28740289493447724,
          "Primal Interaction Effects": -0.27320780261403504,
          "Sampled Average Effects": -0.2607889874279499,
          "Sampled Dual Effects": -0.5111569082736969,
          "Sampled Primal Effects": -0.0141950923204422
         },
         {
          "Average Interaction Effects": -0.022159523696303245,
          "Dual Interaction Effects": 0.02743904855787767,
          "Feature": 0,
          "Kernel SHAP Values": -0.07733406278550613,
          "Primal Interaction Effects": -0.0352773985570668,
          "Sampled Average Effects": -0.05517453908920288,
          "Sampled Dual Effects": -0.1047731113433838,
          "Sampled Primal Effects": -0.04205666422843933
         },
         {
          "Average Interaction Effects": -0.022349554458780563,
          "Dual Interaction Effects": 0.07303858838029358,
          "Feature": 0,
          "Kernel SHAP Values": -0.03272942462019471,
          "Primal Interaction Effects": -0.09399029680542496,
          "Sampled Average Effects": -0.010379870161414147,
          "Sampled Dual Effects": -0.10576801300048828,
          "Sampled Primal Effects": 0.061260872185230256
         },
         {
          "Average Interaction Effects": -0.06269896173586892,
          "Dual Interaction Effects": 0.007411045490598213,
          "Feature": 0,
          "Kernel SHAP Values": -0.04946524554600762,
          "Primal Interaction Effects": -0.05376002246251153,
          "Sampled Average Effects": 0.013233716189861298,
          "Sampled Dual Effects": -0.05687629103660583,
          "Sampled Primal Effects": 0.004294776916503906
         },
         {
          "Average Interaction Effects": -0.05649634924743985,
          "Dual Interaction Effects": 0.5457106207587875,
          "Feature": 0,
          "Kernel SHAP Values": -0.6332445440909705,
          "Primal Interaction Effects": -0.7183639854661069,
          "Sampled Average Effects": -0.5767481948435307,
          "Sampled Dual Effects": -1.178955164849758,
          "Sampled Primal Effects": 0.08511944137513637
         },
         {
          "Average Interaction Effects": 0.03675662954057411,
          "Dual Interaction Effects": -0.1091312649408464,
          "Feature": 0,
          "Kernel SHAP Values": 0.1434169480642195,
          "Primal Interaction Effects": 0.11048580531681731,
          "Sampled Average Effects": 0.1066603185236454,
          "Sampled Dual Effects": 0.2525482130050659,
          "Sampled Primal Effects": 0.03293114274740219
         },
         {
          "Average Interaction Effects": -0.06259656070230035,
          "Dual Interaction Effects": -0.601272514224625,
          "Feature": 0,
          "Kernel SHAP Values": 0.48753907227458926,
          "Primal Interaction Effects": 0.3253576680416104,
          "Sampled Average Effects": 0.5501356329768896,
          "Sampled Dual Effects": 1.0888115864992143,
          "Sampled Primal Effects": 0.16218140423297883
         },
         {
          "Average Interaction Effects": -0.019635465794214553,
          "Dual Interaction Effects": 0.1297998049324662,
          "Feature": 0,
          "Kernel SHAP Values": 0.04527432555615014,
          "Primal Interaction Effects": -0.006785315030226051,
          "Sampled Average Effects": 0.06490979135036469,
          "Sampled Dual Effects": -0.08452547937631608,
          "Sampled Primal Effects": 0.05205964058637619
         },
         {
          "Average Interaction Effects": -0.04728817121025808,
          "Dual Interaction Effects": 0.20925214377331847,
          "Feature": 0,
          "Kernel SHAP Values": -0.27282899578001985,
          "Primal Interaction Effects": -0.25047162850287447,
          "Sampled Average Effects": -0.22554082456976177,
          "Sampled Dual Effects": -0.4820811395533383,
          "Sampled Primal Effects": -0.022357367277145386
         },
         {
          "Average Interaction Effects": -0.09679177747937173,
          "Dual Interaction Effects": 0.1471605248573211,
          "Feature": 0,
          "Kernel SHAP Values": -0.1008923773643586,
          "Primal Interaction Effects": -0.2844294725534532,
          "Sampled Average Effects": -0.004100599884986877,
          "Sampled Dual Effects": -0.2480529022216797,
          "Sampled Primal Effects": 0.18353709518909456
         },
         {
          "Average Interaction Effects": -0.061761863792803684,
          "Dual Interaction Effects": -0.021290415490534703,
          "Feature": 0,
          "Kernel SHAP Values": 0.024070745741459926,
          "Primal Interaction Effects": -0.0075687735923794935,
          "Sampled Average Effects": 0.08583260953426361,
          "Sampled Dual Effects": 0.04536116123199463,
          "Sampled Primal Effects": 0.03163951933383942
         },
         {
          "Average Interaction Effects": -0.00816242291253566,
          "Dual Interaction Effects": 0.6868622547515059,
          "Feature": 0,
          "Kernel SHAP Values": -0.7984542006127214,
          "Primal Interaction Effects": -0.8593658316008425,
          "Sampled Average Effects": -0.7902917777001858,
          "Sampled Dual Effects": -1.4853164553642273,
          "Sampled Primal Effects": 0.06091163098812103
         },
         {
          "Average Interaction Effects": 0.07555122223831456,
          "Dual Interaction Effects": -1.0894273181524152,
          "Feature": 0,
          "Kernel SHAP Values": 0.9505443004999284,
          "Primal Interaction Effects": 0.982696691725028,
          "Sampled Average Effects": 0.8749930782616139,
          "Sampled Dual Effects": 2.0399716186523436,
          "Sampled Primal Effects": -0.032152391225099566
         },
         {
          "Average Interaction Effects": -0.028483149930907795,
          "Dual Interaction Effects": 0.026991527602003504,
          "Feature": 0,
          "Kernel SHAP Values": -0.04427269168205411,
          "Primal Interaction Effects": -0.0638119697571531,
          "Sampled Average Effects": -0.015789541751146316,
          "Sampled Dual Effects": -0.07126421928405761,
          "Sampled Primal Effects": 0.01953927807509899
         },
         {
          "Average Interaction Effects": -0.01968378828785855,
          "Dual Interaction Effects": -0.4073821561219497,
          "Feature": 0,
          "Kernel SHAP Values": 0.3988596962211327,
          "Primal Interaction Effects": 0.3736332127270894,
          "Sampled Average Effects": 0.41854348450899126,
          "Sampled Dual Effects": 0.8062418523430824,
          "Sampled Primal Effects": 0.02522648349404335
         },
         {
          "Average Interaction Effects": 0.01463118930819992,
          "Dual Interaction Effects": 0.027640014193091433,
          "Feature": 0,
          "Kernel SHAP Values": 0.05806533386472229,
          "Primal Interaction Effects": -0.04349184552666184,
          "Sampled Average Effects": 0.04343414455652237,
          "Sampled Dual Effects": 0.030425319671630858,
          "Sampled Primal Effects": 0.10155717939138413
         },
         {
          "Average Interaction Effects": -0.05477269634636105,
          "Dual Interaction Effects": -0.06618072547050179,
          "Feature": 0,
          "Kernel SHAP Values": -0.05614794440599144,
          "Primal Interaction Effects": -0.0696418008956498,
          "Sampled Average Effects": -0.001375248059630394,
          "Sampled Dual Effects": 0.010032781064510346,
          "Sampled Primal Effects": 0.013493856489658356
         },
         {
          "Average Interaction Effects": -0.10252879336229909,
          "Dual Interaction Effects": 0.29350675285108935,
          "Feature": 0,
          "Kernel SHAP Values": -0.3715126901840364,
          "Primal Interaction Effects": -0.3778744342898523,
          "Sampled Average Effects": -0.2689838968217373,
          "Sampled Dual Effects": -0.6650194430351257,
          "Sampled Primal Effects": 0.006361744105815887
         },
         {
          "Average Interaction Effects": -0.056483677795300974,
          "Dual Interaction Effects": -0.10692192228711654,
          "Feature": 0,
          "Kernel SHAP Values": 0.006688421645988929,
          "Primal Interaction Effects": 0.00016988305174301874,
          "Sampled Average Effects": 0.0631720994412899,
          "Sampled Dual Effects": 0.11361034393310547,
          "Sampled Primal Effects": 0.00651853859424591
         },
         {
          "Average Interaction Effects": -0.03407471953810987,
          "Dual Interaction Effects": -0.10589153422893821,
          "Feature": 0,
          "Kernel SHAP Values": 0.05524021611629191,
          "Primal Interaction Effects": 0.13204090268431368,
          "Sampled Average Effects": 0.08931493565440178,
          "Sampled Dual Effects": 0.1611317503452301,
          "Sampled Primal Effects": -0.07680068656802178
         },
         {
          "Average Interaction Effects": -0.0004541195927516596,
          "Dual Interaction Effects": 0.10461420509048243,
          "Feature": 0,
          "Kernel SHAP Values": -0.01386653770677308,
          "Primal Interaction Effects": -0.0476905315088437,
          "Sampled Average Effects": -0.01341241811402142,
          "Sampled Dual Effects": -0.11848074279725551,
          "Sampled Primal Effects": 0.033823993802070615
         },
         {
          "Average Interaction Effects": -0.01969363096036758,
          "Dual Interaction Effects": -0.025381186929129024,
          "Feature": 0,
          "Kernel SHAP Values": -0.03497157665767517,
          "Primal Interaction Effects": -0.12144853385963288,
          "Sampled Average Effects": -0.015277945697307586,
          "Sampled Dual Effects": -0.009590389728546143,
          "Sampled Primal Effects": 0.08647695720195771
         },
         {
          "Average Interaction Effects": -0.08666951774400039,
          "Dual Interaction Effects": 0.40654718139428336,
          "Feature": 0,
          "Kernel SHAP Values": -0.5007643010352211,
          "Primal Interaction Effects": -0.5902603345249252,
          "Sampled Average Effects": -0.4140947832912207,
          "Sampled Dual Effects": -0.9073114824295044,
          "Sampled Primal Effects": 0.08949603348970413
         },
         {
          "Average Interaction Effects": -0.025010200247342664,
          "Dual Interaction Effects": 0.005150296285574358,
          "Feature": 0,
          "Kernel SHAP Values": -0.01580674926954039,
          "Primal Interaction Effects": -0.13843711222725638,
          "Sampled Average Effects": 0.009203450977802277,
          "Sampled Dual Effects": -0.020957045555114746,
          "Sampled Primal Effects": 0.12263036295771598
         },
         {
          "Average Interaction Effects": 0.09256173178606003,
          "Dual Interaction Effects": -0.4145152930910113,
          "Feature": 0,
          "Kernel SHAP Values": 0.5229200221603391,
          "Primal Interaction Effects": 0.6097287668292997,
          "Sampled Average Effects": 0.43035829037427903,
          "Sampled Dual Effects": 0.9374353152513504,
          "Sampled Primal Effects": -0.08680874466896057
         },
         {
          "Average Interaction Effects": -0.06083872272048185,
          "Dual Interaction Effects": -1.8589824874547503,
          "Feature": 0,
          "Kernel SHAP Values": 1.560683882698677,
          "Primal Interaction Effects": 1.4891355432721596,
          "Sampled Average Effects": 1.621522605419159,
          "Sampled Dual Effects": 3.4196663701534273,
          "Sampled Primal Effects": 0.07154833942651749
         },
         {
          "Average Interaction Effects": -0.020626435382699718,
          "Dual Interaction Effects": -0.13910180526826355,
          "Feature": 0,
          "Kernel SHAP Values": 0.02091843773570086,
          "Primal Interaction Effects": -0.08373151551041579,
          "Sampled Average Effects": 0.04154487311840058,
          "Sampled Dual Effects": 0.16002024300396442,
          "Sampled Primal Effects": 0.10464995324611664
         },
         {
          "Average Interaction Effects": -0.0026360761461152547,
          "Dual Interaction Effects": 0.023142982787142802,
          "Feature": 0,
          "Kernel SHAP Values": 0.010327555006991436,
          "Primal Interaction Effects": -0.0541802387771501,
          "Sampled Average Effects": 0.01296363115310669,
          "Sampled Dual Effects": -0.012815427780151368,
          "Sampled Primal Effects": 0.06450779378414154
         },
         {
          "Average Interaction Effects": -0.031054928831707407,
          "Dual Interaction Effects": -0.19553964422824577,
          "Feature": 0,
          "Kernel SHAP Values": 0.2520912026539932,
          "Primal Interaction Effects": 0.12698307625209196,
          "Sampled Average Effects": 0.2831461314857006,
          "Sampled Dual Effects": 0.447630846882239,
          "Sampled Primal Effects": 0.12510812640190125
         },
         {
          "Average Interaction Effects": -0.0013841379322114822,
          "Dual Interaction Effects": -0.09769563353434237,
          "Feature": 0,
          "Kernel SHAP Values": 0.06427875840291349,
          "Primal Interaction Effects": 0.017691668506711396,
          "Sampled Average Effects": 0.06566289633512497,
          "Sampled Dual Effects": 0.16197439193725585,
          "Sampled Primal Effects": 0.04658708989620209
         },
         {
          "Average Interaction Effects": -0.042872278532855135,
          "Dual Interaction Effects": -0.15627805649387083,
          "Feature": 0,
          "Kernel SHAP Values": 0.29682596267116823,
          "Primal Interaction Effects": 0.17031054587019243,
          "Sampled Average Effects": 0.33969824120402337,
          "Sampled Dual Effects": 0.45310401916503906,
          "Sampled Primal Effects": 0.1265154168009758
         },
         {
          "Average Interaction Effects": -0.060594156272971045,
          "Dual Interaction Effects": -0.5892894431951279,
          "Feature": 0,
          "Kernel SHAP Values": 0.5954934790727859,
          "Primal Interaction Effects": 0.497448519766069,
          "Sampled Average Effects": 0.656087635345757,
          "Sampled Dual Effects": 1.1847829222679138,
          "Sampled Primal Effects": 0.09804495930671692
         },
         {
          "Average Interaction Effects": -0.018673453937883944,
          "Dual Interaction Effects": -0.5361513511944968,
          "Feature": 0,
          "Kernel SHAP Values": 0.43588366820323887,
          "Primal Interaction Effects": 0.46673333837497655,
          "Sampled Average Effects": 0.4545571221411228,
          "Sampled Dual Effects": 0.9720350193977356,
          "Sampled Primal Effects": -0.030849670171737672
         },
         {
          "Average Interaction Effects": 0.020363713170364728,
          "Dual Interaction Effects": -0.42841026935450716,
          "Feature": 0,
          "Kernel SHAP Values": 0.4638730296147617,
          "Primal Interaction Effects": 0.41569419238992056,
          "Sampled Average Effects": 0.44350931644439695,
          "Sampled Dual Effects": 0.8922832989692688,
          "Sampled Primal Effects": 0.04817883722484112
         },
         {
          "Average Interaction Effects": -0.041507377459838596,
          "Dual Interaction Effects": -0.08752856029494067,
          "Feature": 0,
          "Kernel SHAP Values": 0.03272147403733472,
          "Primal Interaction Effects": -0.04462018115742465,
          "Sampled Average Effects": 0.07422885149717331,
          "Sampled Dual Effects": 0.1202500343322754,
          "Sampled Primal Effects": 0.07734165519475937
         },
         {
          "Average Interaction Effects": -0.03011715202995008,
          "Dual Interaction Effects": -0.21870041571028898,
          "Feature": 0,
          "Kernel SHAP Values": 0.3617143944703751,
          "Primal Interaction Effects": 0.24630126976005368,
          "Sampled Average Effects": 0.3918315465003252,
          "Sampled Dual Effects": 0.5804148101806641,
          "Sampled Primal Effects": 0.11541312471032143
         },
         {
          "Average Interaction Effects": 0.014275231336851879,
          "Dual Interaction Effects": 0.38502969940533244,
          "Feature": 0,
          "Kernel SHAP Values": -0.34541197339663904,
          "Primal Interaction Effects": -0.34770550618539253,
          "Sampled Average Effects": -0.3596872047334909,
          "Sampled Dual Effects": -0.7304416728019715,
          "Sampled Primal Effects": 0.0022935327887535096
         },
         {
          "Average Interaction Effects": -0.010813659678214432,
          "Dual Interaction Effects": -0.13627313683461514,
          "Feature": 0,
          "Kernel SHAP Values": 0.16205188920069372,
          "Primal Interaction Effects": 0.05626020376849805,
          "Sampled Average Effects": 0.17286554887890815,
          "Sampled Dual Effects": 0.29832502603530886,
          "Sampled Primal Effects": 0.10579168543219566
         },
         {
          "Average Interaction Effects": 0.06790381355886438,
          "Dual Interaction Effects": 0.1493508948266981,
          "Feature": 0,
          "Kernel SHAP Values": -0.04917224989528677,
          "Primal Interaction Effects": -0.15010320083494208,
          "Sampled Average Effects": -0.11707606345415116,
          "Sampled Dual Effects": -0.19852314472198487,
          "Sampled Primal Effects": 0.1009309509396553
         },
         {
          "Average Interaction Effects": -0.10014438710463974,
          "Dual Interaction Effects": 0.5323157341097501,
          "Feature": 0,
          "Kernel SHAP Values": -0.5400383727933261,
          "Primal Interaction Effects": -0.6145394181395862,
          "Sampled Average Effects": -0.4398939856886864,
          "Sampled Dual Effects": -1.0723541069030762,
          "Sampled Primal Effects": 0.07450104534626006
         },
         {
          "Average Interaction Effects": 0.007964749430955154,
          "Dual Interaction Effects": 0.33881777266198465,
          "Feature": 0,
          "Kernel SHAP Values": -0.33278156062430075,
          "Primal Interaction Effects": -0.3030484881049984,
          "Sampled Average Effects": -0.3407463100552559,
          "Sampled Dual Effects": -0.6715993332862854,
          "Sampled Primal Effects": -0.029733072519302368
         },
         {
          "Average Interaction Effects": -0.004089161557175591,
          "Dual Interaction Effects": 0.02479138393976503,
          "Feature": 0,
          "Kernel SHAP Values": 0.06008740444757753,
          "Primal Interaction Effects": -0.0036036566915292195,
          "Sampled Average Effects": 0.06417656600475312,
          "Sampled Dual Effects": 0.0352960205078125,
          "Sampled Primal Effects": 0.06369106113910675
         },
         {
          "Average Interaction Effects": -0.03884991770390067,
          "Dual Interaction Effects": 0.06074354464408363,
          "Feature": 0,
          "Kernel SHAP Values": -0.17546215003136192,
          "Primal Interaction Effects": -0.26379678552750147,
          "Sampled Average Effects": -0.13661223232746125,
          "Sampled Dual Effects": -0.23620569467544555,
          "Sampled Primal Effects": 0.08833463549613953
         },
         {
          "Average Interaction Effects": -0.030609363704674486,
          "Dual Interaction Effects": -1.0212644151744774,
          "Feature": 0,
          "Kernel SHAP Values": 0.7904931302967141,
          "Primal Interaction Effects": 0.7487531546356747,
          "Sampled Average Effects": 0.8211024940013886,
          "Sampled Dual Effects": 1.8117575454711914,
          "Sampled Primal Effects": 0.041739975661039354
         },
         {
          "Average Interaction Effects": 0.04163112291656429,
          "Dual Interaction Effects": 0.27683985540233547,
          "Feature": 0,
          "Kernel SHAP Values": -0.29176716318763796,
          "Primal Interaction Effects": -0.31891185095943514,
          "Sampled Average Effects": -0.33339828610420225,
          "Sampled Dual Effects": -0.5686070185899734,
          "Sampled Primal Effects": 0.02714468777179718
         },
         {
          "Average Interaction Effects": -0.06579560428486042,
          "Dual Interaction Effects": 0.04142454855515784,
          "Feature": 0,
          "Kernel SHAP Values": -0.09175183303282433,
          "Primal Interaction Effects": -0.10049833081290895,
          "Sampled Average Effects": -0.025956228747963904,
          "Sampled Dual Effects": -0.13317638158798217,
          "Sampled Primal Effects": 0.00874649778008461
         },
         {
          "Average Interaction Effects": -0.049119439665938194,
          "Dual Interaction Effects": 0.012688434626197048,
          "Feature": 0,
          "Kernel SHAP Values": 0.007277570273017116,
          "Primal Interaction Effects": -0.04470002302970963,
          "Sampled Average Effects": 0.05639700993895531,
          "Sampled Dual Effects": -0.005410864353179932,
          "Sampled Primal Effects": 0.05197759330272675
         },
         {
          "Average Interaction Effects": -0.05832504817167827,
          "Dual Interaction Effects": -0.2220388320914895,
          "Feature": 0,
          "Kernel SHAP Values": 0.24918339691241675,
          "Primal Interaction Effects": 0.06324819705565865,
          "Sampled Average Effects": 0.30750844508409503,
          "Sampled Dual Effects": 0.47122222900390626,
          "Sampled Primal Effects": 0.1859351998567581
         },
         {
          "Average Interaction Effects": -0.08480184834175974,
          "Dual Interaction Effects": 0.5490311563414965,
          "Feature": 0,
          "Kernel SHAP Values": -0.6225992738800612,
          "Primal Interaction Effects": -0.7437215977507201,
          "Sampled Average Effects": -0.5377974255383015,
          "Sampled Dual Effects": -1.1716304302215577,
          "Sampled Primal Effects": 0.12112232387065887
         },
         {
          "Average Interaction Effects": -0.022896956993366607,
          "Dual Interaction Effects": 0.17331510234055386,
          "Feature": 0,
          "Kernel SHAP Values": -0.2609745843392862,
          "Primal Interaction Effects": -0.20775914084735048,
          "Sampled Average Effects": -0.2380776273459196,
          "Sampled Dual Effects": -0.4342896866798401,
          "Sampled Primal Effects": -0.05321544349193573
         },
         {
          "Average Interaction Effects": 0.03155791073725081,
          "Dual Interaction Effects": 0.03386267764181353,
          "Feature": 0,
          "Kernel SHAP Values": 0.01735930068105913,
          "Primal Interaction Effects": 0.008205305763189563,
          "Sampled Average Effects": -0.014198610056191684,
          "Sampled Dual Effects": -0.016503376960754393,
          "Sampled Primal Effects": 0.009153994917869567
         },
         {
          "Average Interaction Effects": -0.15277223557597158,
          "Dual Interaction Effects": 0.4366048949920559,
          "Feature": 0,
          "Kernel SHAP Values": -0.562165641192255,
          "Primal Interaction Effects": -0.7944184738433933,
          "Sampled Average Effects": -0.4093934056162834,
          "Sampled Dual Effects": -0.9987705361843109,
          "Sampled Primal Effects": 0.2322528326511383
         },
         {
          "Average Interaction Effects": 0.019008501721191146,
          "Dual Interaction Effects": -0.045787785100174214,
          "Feature": 0,
          "Kernel SHAP Values": 0.11815567548351262,
          "Primal Interaction Effects": 0.06076866942422364,
          "Sampled Average Effects": 0.09914717376232147,
          "Sampled Dual Effects": 0.16394346058368683,
          "Sampled Primal Effects": 0.05738700605928898
         },
         {
          "Average Interaction Effects": -0.0985810269188998,
          "Dual Interaction Effects": -2.083123923144948,
          "Feature": 0,
          "Kernel SHAP Values": 2.0205175844806313,
          "Primal Interaction Effects": 1.9053544155734659,
          "Sampled Average Effects": 2.119098611399531,
          "Sampled Dual Effects": 4.103641507625579,
          "Sampled Primal Effects": 0.11516316890716553
         },
         {
          "Average Interaction Effects": -0.14212788451605096,
          "Dual Interaction Effects": 2.0689715624958964,
          "Feature": 0,
          "Kernel SHAP Values": -2.145102525243094,
          "Primal Interaction Effects": -2.430619592556288,
          "Sampled Average Effects": -2.002974640727043,
          "Sampled Dual Effects": -4.21407408773899,
          "Sampled Primal Effects": 0.28551706731319426
         },
         {
          "Average Interaction Effects": -0.033901583539959035,
          "Dual Interaction Effects": -0.11837185523163898,
          "Feature": 0,
          "Kernel SHAP Values": 0.19247062423575298,
          "Primal Interaction Effects": 0.09432052889216319,
          "Sampled Average Effects": 0.22637220777571201,
          "Sampled Dual Effects": 0.31084247946739196,
          "Sampled Primal Effects": 0.09815009534358979
         },
         {
          "Average Interaction Effects": -0.06749835989817007,
          "Dual Interaction Effects": 0.10380504943982737,
          "Feature": 0,
          "Kernel SHAP Values": -0.11395647666796073,
          "Primal Interaction Effects": -0.07826035044535026,
          "Sampled Average Effects": -0.04645811676979065,
          "Sampled Dual Effects": -0.2177615261077881,
          "Sampled Primal Effects": -0.03569612622261047
         },
         {
          "Average Interaction Effects": 0.048598502013895505,
          "Dual Interaction Effects": 0.013247910846087924,
          "Feature": 0,
          "Kernel SHAP Values": 0.10589571978530644,
          "Primal Interaction Effects": 0.18710060502967596,
          "Sampled Average Effects": 0.05729721777141094,
          "Sampled Dual Effects": 0.09264780893921852,
          "Sampled Primal Effects": -0.0812048852443695
         },
         {
          "Average Interaction Effects": -0.19150294867580236,
          "Dual Interaction Effects": -0.10852086452071967,
          "Feature": 0,
          "Kernel SHAP Values": 0.102668161119768,
          "Primal Interaction Effects": 0.039040722872564174,
          "Sampled Average Effects": 0.2941711097955704,
          "Sampled Dual Effects": 0.21118902564048767,
          "Sampled Primal Effects": 0.06362743824720382
         },
         {
          "Average Interaction Effects": -0.08317862856496858,
          "Dual Interaction Effects": -0.3374773864011912,
          "Feature": 0,
          "Kernel SHAP Values": 0.2345912667054982,
          "Primal Interaction Effects": 0.18207717378328753,
          "Sampled Average Effects": 0.3177698952704668,
          "Sampled Dual Effects": 0.5720686531066894,
          "Sampled Primal Effects": 0.052514092922210695
         },
         {
          "Average Interaction Effects": -0.08051093440587931,
          "Dual Interaction Effects": -0.15153124969537674,
          "Feature": 0,
          "Kernel SHAP Values": 0.20652079183523242,
          "Primal Interaction Effects": 0.039133481717749274,
          "Sampled Average Effects": 0.28703172624111173,
          "Sampled Dual Effects": 0.35805204153060916,
          "Sampled Primal Effects": 0.16738731011748315
         },
         {
          "Average Interaction Effects": -0.08006418111957098,
          "Dual Interaction Effects": 0.48184127953611827,
          "Feature": 0,
          "Kernel SHAP Values": -0.4862828663293221,
          "Primal Interaction Effects": -0.5459946969453194,
          "Sampled Average Effects": -0.40621868520975113,
          "Sampled Dual Effects": -0.9681241458654404,
          "Sampled Primal Effects": 0.059711830615997316
         },
         {
          "Average Interaction Effects": 0.006385131591724772,
          "Dual Interaction Effects": 0.028338656985926053,
          "Feature": 0,
          "Kernel SHAP Values": 0.002942522132563014,
          "Primal Interaction Effects": -0.061177883183789826,
          "Sampled Average Effects": -0.003442609459161758,
          "Sampled Dual Effects": -0.025396134853363037,
          "Sampled Primal Effects": 0.06412040531635284
         },
         {
          "Average Interaction Effects": -0.08270978757731423,
          "Dual Interaction Effects": -0.05463485607497201,
          "Feature": 0,
          "Kernel SHAP Values": -0.05320045122496591,
          "Primal Interaction Effects": -0.11117303708188042,
          "Sampled Average Effects": 0.029509336352348328,
          "Sampled Dual Effects": 0.0014344048500061035,
          "Sampled Primal Effects": 0.05797258585691452
         },
         {
          "Average Interaction Effects": 0.030871815788626744,
          "Dual Interaction Effects": 1.138568056630969,
          "Feature": 0,
          "Kernel SHAP Values": -1.0357698263646364,
          "Primal Interaction Effects": -0.8680816926480532,
          "Sampled Average Effects": -1.0666416421532632,
          "Sampled Dual Effects": -2.1743378829956055,
          "Sampled Primal Effects": -0.16768813371658325
         },
         {
          "Average Interaction Effects": 0.08915536047518924,
          "Dual Interaction Effects": -0.2617105978578262,
          "Feature": 0,
          "Kernel SHAP Values": 0.3512862283140488,
          "Primal Interaction Effects": 0.3764341899901696,
          "Sampled Average Effects": 0.2621308678388596,
          "Sampled Dual Effects": 0.612996826171875,
          "Sampled Primal Effects": -0.025147961676120757
         },
         {
          "Average Interaction Effects": -0.012533402493823703,
          "Dual Interaction Effects": 0.2697425275532115,
          "Feature": 0,
          "Kernel SHAP Values": -0.17637753186248653,
          "Primal Interaction Effects": -0.3765330499174487,
          "Sampled Average Effects": -0.16384412936866283,
          "Sampled Dual Effects": -0.44612005941569804,
          "Sampled Primal Effects": 0.20015551805496215
         },
         {
          "Average Interaction Effects": -0.057497890937337426,
          "Dual Interaction Effects": 0.4197130863636641,
          "Feature": 0,
          "Kernel SHAP Values": -0.4654395128518434,
          "Primal Interaction Effects": -0.7008421788841577,
          "Sampled Average Effects": -0.40794162191450595,
          "Sampled Dual Effects": -0.8851525992155075,
          "Sampled Primal Effects": 0.2354026660323143
         },
         {
          "Average Interaction Effects": 0.014351131449814925,
          "Dual Interaction Effects": 0.35973940841796626,
          "Feature": 0,
          "Kernel SHAP Values": -0.3297379223449267,
          "Primal Interaction Effects": -0.3533741308195628,
          "Sampled Average Effects": -0.34408905379474164,
          "Sampled Dual Effects": -0.689477330762893,
          "Sampled Primal Effects": 0.02363620847463608
         },
         {
          "Average Interaction Effects": 0.16503413979353043,
          "Dual Interaction Effects": 0.7983907975667867,
          "Feature": 0,
          "Kernel SHAP Values": -0.6849619689172354,
          "Primal Interaction Effects": -0.6646144330090131,
          "Sampled Average Effects": -0.8499961087107658,
          "Sampled Dual Effects": -1.483352766484022,
          "Sampled Primal Effects": -0.0203475359082222
         },
         {
          "Average Interaction Effects": -0.07543019303003659,
          "Dual Interaction Effects": 0.19498939118465075,
          "Feature": 0,
          "Kernel SHAP Values": -0.3164603630534779,
          "Primal Interaction Effects": -0.5322700563899647,
          "Sampled Average Effects": -0.24103017002344132,
          "Sampled Dual Effects": -0.5114497542381287,
          "Sampled Primal Effects": 0.2158096933364868
         },
         {
          "Average Interaction Effects": 0.010607597560031712,
          "Dual Interaction Effects": -0.40453667566891166,
          "Feature": 0,
          "Kernel SHAP Values": 0.3516073398966029,
          "Primal Interaction Effects": 0.40162766150419266,
          "Sampled Average Effects": 0.3409997423365712,
          "Sampled Dual Effects": 0.7561440155655146,
          "Sampled Primal Effects": -0.05002032160758972
         },
         {
          "Average Interaction Effects": 0.07389244813116119,
          "Dual Interaction Effects": 0.38490754339488076,
          "Feature": 0,
          "Kernel SHAP Values": -0.20068905320374442,
          "Primal Interaction Effects": -0.30494008746354057,
          "Sampled Average Effects": -0.2745815013349056,
          "Sampled Dual Effects": -0.5855965965986252,
          "Sampled Primal Effects": 0.10425103425979615
         },
         {
          "Average Interaction Effects": -0.028231033166278646,
          "Dual Interaction Effects": -0.031062686299313354,
          "Feature": 0,
          "Kernel SHAP Values": -0.015445025121201324,
          "Primal Interaction Effects": -0.1303707240571869,
          "Sampled Average Effects": 0.012786008045077324,
          "Sampled Dual Effects": 0.01561766117811203,
          "Sampled Primal Effects": 0.11492569893598556
         },
         {
          "Average Interaction Effects": -0.06681091246146126,
          "Dual Interaction Effects": -0.05375792373854084,
          "Feature": 0,
          "Kernel SHAP Values": -0.0762408970757143,
          "Primal Interaction Effects": -0.18006944988805218,
          "Sampled Average Effects": -0.009429984614253045,
          "Sampled Dual Effects": -0.022482973337173463,
          "Sampled Primal Effects": 0.10382855281233788
         },
         {
          "Average Interaction Effects": -0.022015312350957418,
          "Dual Interaction Effects": -0.07227083314177277,
          "Feature": 0,
          "Kernel SHAP Values": 0.03125482987645385,
          "Primal Interaction Effects": -0.05889908600565674,
          "Sampled Average Effects": 0.05327014222741127,
          "Sampled Dual Effects": 0.10352566301822662,
          "Sampled Primal Effects": 0.0901539158821106
         },
         {
          "Average Interaction Effects": -0.01798439759765849,
          "Dual Interaction Effects": 0.23604562681163563,
          "Feature": 0,
          "Kernel SHAP Values": -0.21604890633379206,
          "Primal Interaction Effects": -0.24183777380739435,
          "Sampled Average Effects": -0.19806450873613357,
          "Sampled Dual Effects": -0.4520945331454277,
          "Sampled Primal Effects": 0.025788867473602296
         },
         {
          "Average Interaction Effects": -0.08242034157451195,
          "Dual Interaction Effects": -0.03770924126442475,
          "Feature": 0,
          "Kernel SHAP Values": -0.034261334293446966,
          "Primal Interaction Effects": -0.08332856816884084,
          "Sampled Average Effects": 0.04815900728106499,
          "Sampled Dual Effects": 0.003447906970977783,
          "Sampled Primal Effects": 0.04906723387539387
         },
         {
          "Average Interaction Effects": -0.01965883715728084,
          "Dual Interaction Effects": -0.25391938901224886,
          "Feature": 0,
          "Kernel SHAP Values": 0.20167985224446497,
          "Primal Interaction Effects": 0.2748428008081599,
          "Sampled Average Effects": 0.2213386894017458,
          "Sampled Dual Effects": 0.45559924125671386,
          "Sampled Primal Effects": -0.07316294856369496
         },
         {
          "Average Interaction Effects": 0.00698891981424643,
          "Dual Interaction Effects": -0.9166464424234454,
          "Feature": 0,
          "Kernel SHAP Values": 0.977884380807298,
          "Primal Interaction Effects": 1.1648474943536695,
          "Sampled Average Effects": 0.9708954609930516,
          "Sampled Dual Effects": 1.8945308232307434,
          "Sampled Primal Effects": -0.18696311354637146
         },
         {
          "Average Interaction Effects": -0.014799482494099715,
          "Dual Interaction Effects": -0.024951241880162338,
          "Feature": 0,
          "Kernel SHAP Values": 0.03571895751406374,
          "Primal Interaction Effects": -0.08335043777476131,
          "Sampled Average Effects": 0.050518440008163454,
          "Sampled Dual Effects": 0.060670199394226076,
          "Sampled Primal Effects": 0.11906939528882504
         },
         {
          "Average Interaction Effects": -0.09530136851026558,
          "Dual Interaction Effects": 0.1030987773333595,
          "Feature": 0,
          "Kernel SHAP Values": -0.1148378386105492,
          "Primal Interaction Effects": -0.226671239932914,
          "Sampled Average Effects": -0.019536470100283622,
          "Sampled Dual Effects": -0.2179366159439087,
          "Sampled Primal Effects": 0.1118334013223648
         },
         {
          "Average Interaction Effects": -0.017340982033136804,
          "Dual Interaction Effects": -0.17293037041855186,
          "Feature": 0,
          "Kernel SHAP Values": 0.19006926790046363,
          "Primal Interaction Effects": 0.08691773936319022,
          "Sampled Average Effects": 0.20741024993360044,
          "Sampled Dual Effects": 0.3629996383190155,
          "Sampled Primal Effects": 0.10315152853727341
         },
         {
          "Average Interaction Effects": -0.1488320774392109,
          "Dual Interaction Effects": -0.6292133981541614,
          "Feature": 0,
          "Kernel SHAP Values": 0.5133103569789905,
          "Primal Interaction Effects": 0.5437220193638582,
          "Sampled Average Effects": 0.6621424344182014,
          "Sampled Dual Effects": 1.142523755133152,
          "Sampled Primal Effects": -0.030411662384867668
         },
         {
          "Average Interaction Effects": -0.04508244439328318,
          "Dual Interaction Effects": -0.24170365958774692,
          "Feature": 0,
          "Kernel SHAP Values": 0.3708011159363925,
          "Primal Interaction Effects": 0.23581417918836467,
          "Sampled Average Effects": 0.41588356032967566,
          "Sampled Dual Effects": 0.6125047755241394,
          "Sampled Primal Effects": 0.1349869367480278
         },
         {
          "Average Interaction Effects": -0.028360016792423837,
          "Dual Interaction Effects": 0.3706390568619894,
          "Feature": 0,
          "Kernel SHAP Values": -0.3475023749464823,
          "Primal Interaction Effects": -0.41425411313713323,
          "Sampled Average Effects": -0.31914235815405845,
          "Sampled Dual Effects": -0.7181414318084717,
          "Sampled Primal Effects": 0.06675173819065094
         },
         {
          "Average Interaction Effects": 0.0028198347616682218,
          "Dual Interaction Effects": 0.1417156286168585,
          "Feature": 0,
          "Kernel SHAP Values": -0.08580089379067324,
          "Primal Interaction Effects": -0.18606294739956758,
          "Sampled Average Effects": -0.08862072855234146,
          "Sampled Dual Effects": -0.22751652240753173,
          "Sampled Primal Effects": 0.10026205360889434
         },
         {
          "Average Interaction Effects": -0.07788121790641453,
          "Dual Interaction Effects": 0.01550372718817089,
          "Feature": 0,
          "Kernel SHAP Values": -0.10454192460530903,
          "Primal Interaction Effects": -0.178937990674912,
          "Sampled Average Effects": -0.0266607066988945,
          "Sampled Dual Effects": -0.12004565179347992,
          "Sampled Primal Effects": 0.07439606606960297
         },
         {
          "Average Interaction Effects": -0.018318143438901386,
          "Dual Interaction Effects": 0.09431476299801878,
          "Feature": 0,
          "Kernel SHAP Values": -0.007144311022366964,
          "Primal Interaction Effects": -0.13271543796023316,
          "Sampled Average Effects": 0.011173832416534423,
          "Sampled Dual Effects": -0.10145907402038574,
          "Sampled Primal Effects": 0.1255711269378662
         },
         {
          "Average Interaction Effects": -0.06203895107808077,
          "Dual Interaction Effects": -0.977178600737476,
          "Feature": 0,
          "Kernel SHAP Values": 0.8315445294886593,
          "Primal Interaction Effects": 0.8420359495192532,
          "Sampled Average Effects": 0.8935834805667401,
          "Sampled Dual Effects": 1.8087231302261353,
          "Sampled Primal Effects": -0.010491420030593872
         },
         {
          "Average Interaction Effects": -0.05078943783519185,
          "Dual Interaction Effects": 0.5861090007227906,
          "Feature": 0,
          "Kernel SHAP Values": -0.5840975341397278,
          "Primal Interaction Effects": -0.567437089403247,
          "Sampled Average Effects": -0.5333080963045359,
          "Sampled Dual Effects": -1.1702065348625184,
          "Sampled Primal Effects": -0.016660444736480713
         },
         {
          "Average Interaction Effects": -0.04706254877464807,
          "Dual Interaction Effects": -0.0020594232560876558,
          "Feature": 1,
          "Kernel SHAP Values": -0.10049667530076539,
          "Primal Interaction Effects": -0.11955226622836626,
          "Sampled Average Effects": -0.05343412652611732,
          "Sampled Dual Effects": -0.09843725204467774,
          "Sampled Primal Effects": 0.01905559092760086
         },
         {
          "Average Interaction Effects": -0.044231218044395434,
          "Dual Interaction Effects": -0.046581949536437975,
          "Feature": 1,
          "Kernel SHAP Values": 0.020909097845916755,
          "Primal Interaction Effects": -0.02019459897720336,
          "Sampled Average Effects": 0.06514031589031219,
          "Sampled Dual Effects": 0.06749104738235473,
          "Sampled Primal Effects": 0.041103696823120116
         },
         {
          "Average Interaction Effects": -0.11973799493898873,
          "Dual Interaction Effects": -2.3486811196505024,
          "Feature": 1,
          "Kernel SHAP Values": 2.078611370354991,
          "Primal Interaction Effects": 2.1688642773331215,
          "Sampled Average Effects": 2.19834936529398,
          "Sampled Dual Effects": 4.4272924900054935,
          "Sampled Primal Effects": -0.09025290697813033
         },
         {
          "Average Interaction Effects": 0.0389064730647278,
          "Dual Interaction Effects": 0.3784322924110365,
          "Feature": 1,
          "Kernel SHAP Values": -0.20900640585093974,
          "Primal Interaction Effects": -0.25671841558634517,
          "Sampled Average Effects": -0.24791287891566754,
          "Sampled Dual Effects": -0.5874386982619763,
          "Sampled Primal Effects": 0.047712009735405445
         },
         {
          "Average Interaction Effects": -0.07661188886413017,
          "Dual Interaction Effects": -0.08214007840403953,
          "Feature": 1,
          "Kernel SHAP Values": -0.009186844685167462,
          "Primal Interaction Effects": -0.056811756649107134,
          "Sampled Average Effects": 0.06742504417896271,
          "Sampled Dual Effects": 0.07295323371887207,
          "Sampled Primal Effects": 0.04762491196393967
         },
         {
          "Average Interaction Effects": -0.16357271728360456,
          "Dual Interaction Effects": 0.04813513311302858,
          "Feature": 1,
          "Kernel SHAP Values": -0.23117991415107053,
          "Primal Interaction Effects": -0.28079521146857545,
          "Sampled Average Effects": -0.06760719686746597,
          "Sampled Dual Effects": -0.2793150472640991,
          "Sampled Primal Effects": 0.049615297317504886
         },
         {
          "Average Interaction Effects": -0.0314557523199461,
          "Dual Interaction Effects": -0.0362740658887766,
          "Feature": 1,
          "Kernel SHAP Values": 0.052218811594591324,
          "Primal Interaction Effects": -0.025649440801992232,
          "Sampled Average Effects": 0.08367456391453743,
          "Sampled Dual Effects": 0.08849287748336793,
          "Sampled Primal Effects": 0.07786825239658356
         },
         {
          "Average Interaction Effects": -0.06004165470569456,
          "Dual Interaction Effects": -0.5791063615676673,
          "Feature": 1,
          "Kernel SHAP Values": 0.4657029131057946,
          "Primal Interaction Effects": 0.4411037233474938,
          "Sampled Average Effects": 0.5257445678114891,
          "Sampled Dual Effects": 1.0448092746734619,
          "Sampled Primal Effects": 0.02459918975830078
         },
         {
          "Average Interaction Effects": 0.12305175208066121,
          "Dual Interaction Effects": 1.080661971425158,
          "Feature": 1,
          "Kernel SHAP Values": -0.8198106245645462,
          "Primal Interaction Effects": -0.8775449500926911,
          "Sampled Average Effects": -0.9428623766452074,
          "Sampled Dual Effects": -1.9004725959897042,
          "Sampled Primal Effects": 0.057734325528144836
         },
         {
          "Average Interaction Effects": 0.010102513439456201,
          "Dual Interaction Effects": 0.22473248720864414,
          "Feature": 1,
          "Kernel SHAP Values": -0.18582380651732328,
          "Primal Interaction Effects": -0.3139787290920818,
          "Sampled Average Effects": -0.19592631995677948,
          "Sampled Dual Effects": -0.4105562937259674,
          "Sampled Primal Effects": 0.12815492257475852
         },
         {
          "Average Interaction Effects": -0.048920344665106905,
          "Dual Interaction Effects": -0.01824163700586237,
          "Feature": 1,
          "Kernel SHAP Values": -0.04030497337823786,
          "Primal Interaction Effects": -0.043050907805022375,
          "Sampled Average Effects": 0.00861537128686905,
          "Sampled Dual Effects": -0.022063336372375487,
          "Sampled Primal Effects": 0.0027459344267845155
         },
         {
          "Average Interaction Effects": -0.023743712112304534,
          "Dual Interaction Effects": 0.06021829326451125,
          "Feature": 1,
          "Kernel SHAP Values": -0.012391484186050263,
          "Primal Interaction Effects": -0.06891506712138351,
          "Sampled Average Effects": 0.011352227926254272,
          "Sampled Dual Effects": -0.07260977745056152,
          "Sampled Primal Effects": 0.05652358293533325
         },
         {
          "Average Interaction Effects": -0.027507846680428983,
          "Dual Interaction Effects": 0.0547840494392848,
          "Feature": 1,
          "Kernel SHAP Values": -0.031070238900330067,
          "Primal Interaction Effects": -0.0588262000204587,
          "Sampled Average Effects": -0.003562392219901085,
          "Sampled Dual Effects": -0.08585428833961486,
          "Sampled Primal Effects": 0.027755961120128632
         },
         {
          "Average Interaction Effects": 0.0033425588043569654,
          "Dual Interaction Effects": 0.7107460781069636,
          "Feature": 1,
          "Kernel SHAP Values": -0.5453842204926372,
          "Primal Interaction Effects": -0.6657172992942691,
          "Sampled Average Effects": -0.5487267792969942,
          "Sampled Dual Effects": -1.2561302985996008,
          "Sampled Primal Effects": 0.12033307880163192
         },
         {
          "Average Interaction Effects": 0.005185918978470011,
          "Dual Interaction Effects": -0.17010844079492743,
          "Feature": 1,
          "Kernel SHAP Values": 0.20283453615667169,
          "Primal Interaction Effects": 0.10625006320239846,
          "Sampled Average Effects": 0.19764861717820167,
          "Sampled Dual Effects": 0.3729429769515991,
          "Sampled Primal Effects": 0.09658447295427322
         },
         {
          "Average Interaction Effects": 0.026405587145797216,
          "Dual Interaction Effects": -0.45650401589859346,
          "Feature": 1,
          "Kernel SHAP Values": 0.5391650244833149,
          "Primal Interaction Effects": 0.4653124013782658,
          "Sampled Average Effects": 0.5127594373375177,
          "Sampled Dual Effects": 0.9956690403819084,
          "Sampled Primal Effects": 0.07385262310504913
         },
         {
          "Average Interaction Effects": 0.006829343946336525,
          "Dual Interaction Effects": 0.06156278512036682,
          "Feature": 1,
          "Kernel SHAP Values": -0.10789696910822509,
          "Primal Interaction Effects": -0.09560963043415664,
          "Sampled Average Effects": -0.11472631305456162,
          "Sampled Dual Effects": -0.1694597542285919,
          "Sampled Primal Effects": -0.01228733867406845
         },
         {
          "Average Interaction Effects": -0.01952134488025492,
          "Dual Interaction Effects": 0.14365538802122885,
          "Feature": 1,
          "Kernel SHAP Values": -0.21405516659715956,
          "Primal Interaction Effects": -0.2314810687849838,
          "Sampled Average Effects": -0.19453382171690464,
          "Sampled Dual Effects": -0.3577105546183884,
          "Sampled Primal Effects": 0.01742590218782425
         },
         {
          "Average Interaction Effects": -0.029105182653096362,
          "Dual Interaction Effects": 0.21398338251766857,
          "Feature": 1,
          "Kernel SHAP Values": -0.10867403871360128,
          "Primal Interaction Effects": -0.2232679242545635,
          "Sampled Average Effects": -0.07956885606050491,
          "Sampled Dual Effects": -0.32265742123126984,
          "Sampled Primal Effects": 0.11459388554096223
         },
         {
          "Average Interaction Effects": -0.062250522003068076,
          "Dual Interaction Effects": -0.04250139631379997,
          "Feature": 1,
          "Kernel SHAP Values": 0.025346766337262044,
          "Primal Interaction Effects": 0.02950671471606339,
          "Sampled Average Effects": 0.08759728834033012,
          "Sampled Dual Effects": 0.06784816265106201,
          "Sampled Primal Effects": -0.0041599483788013454
         },
         {
          "Average Interaction Effects": -0.0012043060430549923,
          "Dual Interaction Effects": 0.7934639534285998,
          "Feature": 1,
          "Kernel SHAP Values": -0.7951722112366223,
          "Primal Interaction Effects": -0.8147193044492268,
          "Sampled Average Effects": -0.7939679051935673,
          "Sampled Dual Effects": -1.588636164665222,
          "Sampled Primal Effects": 0.019547093212604522
         },
         {
          "Average Interaction Effects": 0.0035900443112297786,
          "Dual Interaction Effects": -0.9763256115401344,
          "Feature": 1,
          "Kernel SHAP Values": 1.1089864903008386,
          "Primal Interaction Effects": 1.1229345613037989,
          "Sampled Average Effects": 1.1053964459896088,
          "Sampled Dual Effects": 2.085312101840973,
          "Sampled Primal Effects": -0.013948071002960204
         },
         {
          "Average Interaction Effects": 0.003759574573049312,
          "Dual Interaction Effects": 0.05206407157660461,
          "Feature": 1,
          "Kernel SHAP Values": 0.004241729657659297,
          "Primal Interaction Effects": -0.04487267063974404,
          "Sampled Average Effects": 0.00048215508460998537,
          "Sampled Dual Effects": -0.04782234191894531,
          "Sampled Primal Effects": 0.049114400297403334
         },
         {
          "Average Interaction Effects": -0.044320807553304586,
          "Dual Interaction Effects": -0.39283029200829406,
          "Feature": 1,
          "Kernel SHAP Values": 0.30799820212327106,
          "Primal Interaction Effects": 0.21491186765633685,
          "Sampled Average Effects": 0.35231900967657565,
          "Sampled Dual Effects": 0.7008284941315651,
          "Sampled Primal Effects": 0.0930863344669342
         },
         {
          "Average Interaction Effects": 0.01100547002628846,
          "Dual Interaction Effects": 0.02844821991399331,
          "Feature": 1,
          "Kernel SHAP Values": 0.04022650780156655,
          "Primal Interaction Effects": -0.04174150852486091,
          "Sampled Average Effects": 0.02922103777527809,
          "Sampled Dual Effects": 0.011778287887573242,
          "Sampled Primal Effects": 0.08196801632642746
         },
         {
          "Average Interaction Effects": 0.00720942735853599,
          "Dual Interaction Effects": -0.02908491164264275,
          "Feature": 1,
          "Kernel SHAP Values": 0.050674069749144776,
          "Primal Interaction Effects": 0.015504827426699862,
          "Sampled Average Effects": 0.043464642390608786,
          "Sampled Dual Effects": 0.07975898139178753,
          "Sampled Primal Effects": 0.035169242322444914
         },
         {
          "Average Interaction Effects": 0.008771704995381935,
          "Dual Interaction Effects": 0.42092116084073794,
          "Feature": 1,
          "Kernel SHAP Values": -0.2913059333326935,
          "Primal Interaction Effects": -0.3577041340234398,
          "Sampled Average Effects": -0.30007763832807544,
          "Sampled Dual Effects": -0.7122270941734314,
          "Sampled Primal Effects": 0.06639820069074631
         },
         {
          "Average Interaction Effects": -0.010924010672357723,
          "Dual Interaction Effects": -0.11205064977028673,
          "Feature": 1,
          "Kernel SHAP Values": 0.0870881107964247,
          "Primal Interaction Effects": 0.04239671324870284,
          "Sampled Average Effects": 0.09801212146878242,
          "Sampled Dual Effects": 0.19913876056671143,
          "Sampled Primal Effects": 0.04469139754772186
         },
         {
          "Average Interaction Effects": 0.02036479466620139,
          "Dual Interaction Effects": -0.034279078161090076,
          "Feature": 1,
          "Kernel SHAP Values": 0.16817872771087342,
          "Primal Interaction Effects": 0.08286329113903694,
          "Sampled Average Effects": 0.14781393304467202,
          "Sampled Dual Effects": 0.2024578058719635,
          "Sampled Primal Effects": 0.08531543657183648
         },
         {
          "Average Interaction Effects": 0.0008589632491567273,
          "Dual Interaction Effects": 0.11523577787531403,
          "Feature": 1,
          "Kernel SHAP Values": -0.024221777835955367,
          "Primal Interaction Effects": -0.051964141050448165,
          "Sampled Average Effects": -0.025080741085112095,
          "Sampled Dual Effects": -0.1394575557112694,
          "Sampled Primal Effects": 0.027742363214492798
         },
         {
          "Average Interaction Effects": -0.02113624844101654,
          "Dual Interaction Effects": 0.04553814229222549,
          "Feature": 1,
          "Kernel SHAP Values": 0.03686566886159195,
          "Primal Interaction Effects": -0.05468834850338684,
          "Sampled Average Effects": 0.05800191730260849,
          "Sampled Dual Effects": -0.008672473430633544,
          "Sampled Primal Effects": 0.09155401736497878
         },
         {
          "Average Interaction Effects": 0.04316521896226755,
          "Dual Interaction Effects": 0.5307173175941264,
          "Feature": 1,
          "Kernel SHAP Values": -0.4320290975441183,
          "Primal Interaction Effects": -0.6237664194573607,
          "Sampled Average Effects": -0.4751943165063858,
          "Sampled Dual Effects": -0.9627464151382447,
          "Sampled Primal Effects": 0.19173732191324233
         },
         {
          "Average Interaction Effects": -0.0005709384013753219,
          "Dual Interaction Effects": -0.02101398985878041,
          "Feature": 1,
          "Kernel SHAP Values": -0.0365299777318578,
          "Primal Interaction Effects": -0.1380297390748601,
          "Sampled Average Effects": -0.03595903933048248,
          "Sampled Dual Effects": -0.015515987873077392,
          "Sampled Primal Effects": 0.10149976134300231
         },
         {
          "Average Interaction Effects": -0.0869609430307477,
          "Dual Interaction Effects": -0.5075420307988256,
          "Feature": 1,
          "Kernel SHAP Values": 0.44825779737290444,
          "Primal Interaction Effects": 0.3933786015337378,
          "Sampled Average Effects": 0.5352187404036521,
          "Sampled Dual Effects": 0.95579982817173,
          "Sampled Primal Effects": 0.054879195839166645
         },
         {
          "Average Interaction Effects": -0.03548993658608279,
          "Dual Interaction Effects": -1.7286736148256667,
          "Feature": 1,
          "Kernel SHAP Values": 1.6960304469209306,
          "Primal Interaction Effects": 1.6257911637764566,
          "Sampled Average Effects": 1.7315203835070134,
          "Sampled Dual Effects": 3.4247040617465974,
          "Sampled Primal Effects": 0.07023928314447403
         },
         {
          "Average Interaction Effects": -0.0299912588653039,
          "Dual Interaction Effects": -0.11349487084717265,
          "Feature": 1,
          "Kernel SHAP Values": 0.01272767227321157,
          "Primal Interaction Effects": -0.07172543782562724,
          "Sampled Average Effects": 0.04271893113851547,
          "Sampled Dual Effects": 0.12622254312038422,
          "Sampled Primal Effects": 0.08445311009883881
         },
         {
          "Average Interaction Effects": -0.06150707117290839,
          "Dual Interaction Effects": 0.0034861739444579237,
          "Feature": 1,
          "Kernel SHAP Values": -0.05915576140405282,
          "Primal Interaction Effects": -0.09403953860522851,
          "Sampled Average Effects": 0.002351309768855572,
          "Sampled Dual Effects": -0.06264193534851074,
          "Sampled Primal Effects": 0.03488377720117569
         },
         {
          "Average Interaction Effects": 0.005108833585399292,
          "Dual Interaction Effects": -0.20449856615392573,
          "Feature": 1,
          "Kernel SHAP Values": 0.20099285678239456,
          "Primal Interaction Effects": 0.15269066483946434,
          "Sampled Average Effects": 0.19588402319699527,
          "Sampled Dual Effects": 0.4054914229363203,
          "Sampled Primal Effects": 0.04830219194293022
         },
         {
          "Average Interaction Effects": 0.004401462238289702,
          "Dual Interaction Effects": -0.04610953151061356,
          "Feature": 1,
          "Kernel SHAP Values": 0.08611180008576094,
          "Primal Interaction Effects": -0.017726085025809413,
          "Sampled Average Effects": 0.08171033784747124,
          "Sampled Dual Effects": 0.1322213315963745,
          "Sampled Primal Effects": 0.10383788511157035
         },
         {
          "Average Interaction Effects": -0.04315711066685221,
          "Dual Interaction Effects": -0.23289949775300522,
          "Feature": 1,
          "Kernel SHAP Values": 0.17637452721037367,
          "Primal Interaction Effects": 0.10620274066366651,
          "Sampled Average Effects": 0.21953163787722588,
          "Sampled Dual Effects": 0.4092740249633789,
          "Sampled Primal Effects": 0.07017178654670715
         },
         {
          "Average Interaction Effects": -0.007996960943531528,
          "Dual Interaction Effects": -0.521974021857571,
          "Feature": 1,
          "Kernel SHAP Values": 0.579774468475986,
          "Primal Interaction Effects": 0.5453048504237419,
          "Sampled Average Effects": 0.5877714294195175,
          "Sampled Dual Effects": 1.101748490333557,
          "Sampled Primal Effects": 0.03446961805224419
         },
         {
          "Average Interaction Effects": 0.03835427909883904,
          "Dual Interaction Effects": -0.4593532413264807,
          "Feature": 1,
          "Kernel SHAP Values": 0.536159058211178,
          "Primal Interaction Effects": 0.48735985070261406,
          "Sampled Average Effects": 0.497804779112339,
          "Sampled Dual Effects": 0.9955122995376587,
          "Sampled Primal Effects": 0.048799207508563994
         },
         {
          "Average Interaction Effects": -0.10174245268245985,
          "Dual Interaction Effects": -0.5038518573357706,
          "Feature": 1,
          "Kernel SHAP Values": 0.44872553333500576,
          "Primal Interaction Effects": 0.38802445515850736,
          "Sampled Average Effects": 0.5504679860174656,
          "Sampled Dual Effects": 0.9525773906707764,
          "Sampled Primal Effects": 0.06070107817649841
         },
         {
          "Average Interaction Effects": 0.021824200655257114,
          "Dual Interaction Effects": -0.026280286257231833,
          "Feature": 1,
          "Kernel SHAP Values": 0.15088999992135704,
          "Primal Interaction Effects": 0.10002027561787308,
          "Sampled Average Effects": 0.12906579926609993,
          "Sampled Dual Effects": 0.17717028617858888,
          "Sampled Primal Effects": 0.050869724303483965
         },
         {
          "Average Interaction Effects": -0.006417534553195603,
          "Dual Interaction Effects": -0.27693309506096997,
          "Feature": 1,
          "Kernel SHAP Values": 0.28903470317206226,
          "Primal Interaction Effects": 0.25141767138919674,
          "Sampled Average Effects": 0.29545223772525786,
          "Sampled Dual Effects": 0.5659677982330322,
          "Sampled Primal Effects": 0.037617031782865525
         },
         {
          "Average Interaction Effects": -0.044158138969224214,
          "Dual Interaction Effects": 0.23558555003138237,
          "Feature": 1,
          "Kernel SHAP Values": -0.35906034115819285,
          "Primal Interaction Effects": -0.406549828239959,
          "Sampled Average Effects": -0.31490220218896864,
          "Sampled Dual Effects": -0.5946458911895752,
          "Sampled Primal Effects": 0.047489487081766125
         },
         {
          "Average Interaction Effects": -0.06271314571438008,
          "Dual Interaction Effects": -0.16923064040777855,
          "Feature": 1,
          "Kernel SHAP Values": 0.0940077943837864,
          "Primal Interaction Effects": 0.0270502871012909,
          "Sampled Average Effects": 0.15672094009816648,
          "Sampled Dual Effects": 0.26323843479156495,
          "Sampled Primal Effects": 0.0669575072824955
         },
         {
          "Average Interaction Effects": -0.09441504821189112,
          "Dual Interaction Effects": 0.11116566047064597,
          "Feature": 1,
          "Kernel SHAP Values": -0.16360311642296976,
          "Primal Interaction Effects": -0.17408886387952036,
          "Sampled Average Effects": -0.06918806821107865,
          "Sampled Dual Effects": -0.27476877689361573,
          "Sampled Primal Effects": 0.010485747456550598
         },
         {
          "Average Interaction Effects": 0.0645809065836771,
          "Dual Interaction Effects": 0.5597320158320769,
          "Feature": 1,
          "Kernel SHAP Values": -0.531924149290909,
          "Primal Interaction Effects": -0.5842075275343553,
          "Sampled Average Effects": -0.5965050558745861,
          "Sampled Dual Effects": -1.091656165122986,
          "Sampled Primal Effects": 0.05228337824344635
         },
         {
          "Average Interaction Effects": -0.10833117084512883,
          "Dual Interaction Effects": 0.27371448976983853,
          "Feature": 1,
          "Kernel SHAP Values": -0.3817772938490885,
          "Primal Interaction Effects": -0.5069486785114783,
          "Sampled Average Effects": -0.27344612300395965,
          "Sampled Dual Effects": -0.655491783618927,
          "Sampled Primal Effects": 0.12517138466238975
         },
         {
          "Average Interaction Effects": 0.0014359487523368589,
          "Dual Interaction Effects": 0.001752493970566156,
          "Feature": 1,
          "Kernel SHAP Values": 0.0275713616539768,
          "Primal Interaction Effects": 0.010207668982916238,
          "Sampled Average Effects": 0.02613541290163994,
          "Sampled Dual Effects": 0.025818867683410643,
          "Sampled Primal Effects": 0.01736369267106056
         },
         {
          "Average Interaction Effects": -0.04196783072553334,
          "Dual Interaction Effects": 0.1130359979788238,
          "Feature": 1,
          "Kernel SHAP Values": -0.17536470926604925,
          "Primal Interaction Effects": -0.11970723412237821,
          "Sampled Average Effects": -0.1333968785405159,
          "Sampled Dual Effects": -0.28840070724487304,
          "Sampled Primal Effects": -0.05565747514367104
         },
         {
          "Average Interaction Effects": -0.02782008666398883,
          "Dual Interaction Effects": -0.8784168438971316,
          "Feature": 1,
          "Kernel SHAP Values": 0.886997696870538,
          "Primal Interaction Effects": 0.8620442226171219,
          "Sampled Average Effects": 0.9148177835345268,
          "Sampled Dual Effects": 1.7654145407676696,
          "Sampled Primal Effects": 0.024953474253416062
         },
         {
          "Average Interaction Effects": -0.1161984755989747,
          "Dual Interaction Effects": 0.20668349063427877,
          "Feature": 1,
          "Kernel SHAP Values": -0.2925350906845765,
          "Primal Interaction Effects": -0.3425303249952035,
          "Sampled Average Effects": -0.1763366150856018,
          "Sampled Dual Effects": -0.49921858131885527,
          "Sampled Primal Effects": 0.04999523431062698
         },
         {
          "Average Interaction Effects": 0.011154904808791399,
          "Dual Interaction Effects": 0.11527500301221204,
          "Feature": 1,
          "Kernel SHAP Values": -0.024655216638056515,
          "Primal Interaction Effects": -0.14735418916126894,
          "Sampled Average Effects": -0.03581012144684791,
          "Sampled Dual Effects": -0.13993021965026856,
          "Sampled Primal Effects": 0.12269897252321244
         },
         {
          "Average Interaction Effects": -0.047532796544412156,
          "Dual Interaction Effects": 0.010920420045575127,
          "Feature": 1,
          "Kernel SHAP Values": 0.013572957868298515,
          "Primal Interaction Effects": 0.0014094503769483402,
          "Sampled Average Effects": 0.06110575441271067,
          "Sampled Dual Effects": 0.0026525378227233885,
          "Sampled Primal Effects": 0.012163507491350175
         },
         {
          "Average Interaction Effects": 0.07769256430722216,
          "Dual Interaction Effects": -0.1087713785930779,
          "Feature": 1,
          "Kernel SHAP Values": 0.26589130560911634,
          "Primal Interaction Effects": 0.15011120925701596,
          "Sampled Average Effects": 0.18819874130189418,
          "Sampled Dual Effects": 0.37466268420219423,
          "Sampled Primal Effects": 0.11578009635210038
         },
         {
          "Average Interaction Effects": 0.04091655675009209,
          "Dual Interaction Effects": 0.6778182036025854,
          "Feature": 1,
          "Kernel SHAP Values": -0.509157962168899,
          "Primal Interaction Effects": -0.5399541103498606,
          "Sampled Average Effects": -0.5500745189189911,
          "Sampled Dual Effects": -1.1869761657714843,
          "Sampled Primal Effects": 0.03079614818096161
         },
         {
          "Average Interaction Effects": -0.08943566968816419,
          "Dual Interaction Effects": 0.14619346836429936,
          "Feature": 1,
          "Kernel SHAP Values": -0.21459962031024593,
          "Primal Interaction Effects": -0.2963854687489857,
          "Sampled Average Effects": -0.12516395062208174,
          "Sampled Dual Effects": -0.3607930886745453,
          "Sampled Primal Effects": 0.08178584843873977
         },
         {
          "Average Interaction Effects": -0.0714650593340124,
          "Dual Interaction Effects": -0.06488761168119563,
          "Feature": 1,
          "Kernel SHAP Values": -0.022118909174176585,
          "Primal Interaction Effects": -0.044418227189751996,
          "Sampled Average Effects": 0.04934615015983582,
          "Sampled Dual Effects": 0.042768702507019044,
          "Sampled Primal Effects": 0.022299318015575408
         },
         {
          "Average Interaction Effects": -0.02415775069159315,
          "Dual Interaction Effects": 0.555996474836647,
          "Feature": 1,
          "Kernel SHAP Values": -0.48434276738327786,
          "Primal Interaction Effects": -0.5655761972920303,
          "Sampled Average Effects": -0.4601850166916847,
          "Sampled Dual Effects": -1.040339242219925,
          "Sampled Primal Effects": 0.08123342990875244
         },
         {
          "Average Interaction Effects": 0.008073208571169388,
          "Dual Interaction Effects": -0.004614947050120832,
          "Feature": 1,
          "Kernel SHAP Values": 0.12159736135670901,
          "Primal Interaction Effects": 0.1300686752207017,
          "Sampled Average Effects": 0.11352415278553962,
          "Sampled Dual Effects": 0.12621230840682984,
          "Sampled Primal Effects": -0.008471313863992691
         },
         {
          "Average Interaction Effects": 0.14013790151099914,
          "Dual Interaction Effects": -1.8756974597461964,
          "Feature": 1,
          "Kernel SHAP Values": 2.055498988162682,
          "Primal Interaction Effects": 1.9391364113799785,
          "Sampled Average Effects": 1.9153610866516828,
          "Sampled Dual Effects": 3.9311964479088783,
          "Sampled Primal Effects": 0.1163625767827034
         },
         {
          "Average Interaction Effects": 0.19341042654069707,
          "Dual Interaction Effects": 2.3003729993239284,
          "Feature": 1,
          "Kernel SHAP Values": -1.9820206773146745,
          "Primal Interaction Effects": -1.8144391170009728,
          "Sampled Average Effects": -2.1754311038553715,
          "Sampled Dual Effects": -4.282393676638603,
          "Sampled Primal Effects": -0.16758156031370164
         },
         {
          "Average Interaction Effects": -0.026723701407751432,
          "Dual Interaction Effects": -0.19709799264892042,
          "Feature": 1,
          "Kernel SHAP Values": 0.1604109540082604,
          "Primal Interaction Effects": 0.22024306798950732,
          "Sampled Average Effects": 0.18713465541601182,
          "Sampled Dual Effects": 0.3575089466571808,
          "Sampled Primal Effects": -0.05983211398124695
         },
         {
          "Average Interaction Effects": -0.0891305053039888,
          "Dual Interaction Effects": 0.0725549574390551,
          "Feature": 1,
          "Kernel SHAP Values": -0.12989577336157357,
          "Primal Interaction Effects": -0.15876097945416962,
          "Sampled Average Effects": -0.040765268057584764,
          "Sampled Dual Effects": -0.20245073080062867,
          "Sampled Primal Effects": 0.028865206092596053
         },
         {
          "Average Interaction Effects": -0.12196469387504175,
          "Dual Interaction Effects": -0.2179205474117668,
          "Feature": 1,
          "Kernel SHAP Values": 0.018669444187554556,
          "Primal Interaction Effects": -0.10273210300597266,
          "Sampled Average Effects": 0.1406341380625963,
          "Sampled Dual Effects": 0.23658999159932137,
          "Sampled Primal Effects": 0.12140154719352722
         },
         {
          "Average Interaction Effects": -0.07995230363494302,
          "Dual Interaction Effects": -0.12020227657443427,
          "Feature": 1,
          "Kernel SHAP Values": 0.1529730678927288,
          "Primal Interaction Effects": 0.10101988239401435,
          "Sampled Average Effects": 0.23292537152767182,
          "Sampled Dual Effects": 0.2731753444671631,
          "Sampled Primal Effects": 0.051953185498714444
         },
         {
          "Average Interaction Effects": -0.025966859076996973,
          "Dual Interaction Effects": -0.23731541222788927,
          "Feature": 1,
          "Kernel SHAP Values": 0.30146064692280655,
          "Primal Interaction Effects": 0.24002517604372864,
          "Sampled Average Effects": 0.3274275059998035,
          "Sampled Dual Effects": 0.5387760591506958,
          "Sampled Primal Effects": 0.061435470879077914
         },
         {
          "Average Interaction Effects": -0.016231162799323823,
          "Dual Interaction Effects": -0.16224573309513454,
          "Feature": 1,
          "Kernel SHAP Values": 0.17110000674632667,
          "Primal Interaction Effects": 0.15218287413028359,
          "Sampled Average Effects": 0.1873311695456505,
          "Sampled Dual Effects": 0.3333457398414612,
          "Sampled Primal Effects": 0.01891713261604309
         },
         {
          "Average Interaction Effects": -0.006310356828022612,
          "Dual Interaction Effects": 0.5379643571650499,
          "Feature": 1,
          "Kernel SHAP Values": -0.3926800694787985,
          "Primal Interaction Effects": -0.45999517557268205,
          "Sampled Average Effects": -0.3863697126507759,
          "Sampled Dual Effects": -0.9306444266438484,
          "Sampled Primal Effects": 0.06731510609388351
         },
         {
          "Average Interaction Effects": 0.04467304698550447,
          "Dual Interaction Effects": 0.004277226099607785,
          "Feature": 1,
          "Kernel SHAP Values": 0.0013367251249526337,
          "Primal Interaction Effects": -0.13152802520072715,
          "Sampled Average Effects": -0.043336321860551835,
          "Sampled Dual Effects": -0.0029405009746551513,
          "Sampled Primal Effects": 0.1328647503256798
         },
         {
          "Average Interaction Effects": 0.0075455251140688,
          "Dual Interaction Effects": 0.03979026658369046,
          "Feature": 1,
          "Kernel SHAP Values": 0.048812352250346955,
          "Primal Interaction Effects": -0.018505403419008443,
          "Sampled Average Effects": 0.041266827136278154,
          "Sampled Dual Effects": 0.009022085666656495,
          "Sampled Primal Effects": 0.0673177556693554
         },
         {
          "Average Interaction Effects": -0.17430918223489433,
          "Dual Interaction Effects": 0.9383858186818252,
          "Feature": 1,
          "Kernel SHAP Values": -1.180355350294005,
          "Primal Interaction Effects": -1.2401745750688424,
          "Sampled Average Effects": -1.0060461680591106,
          "Sampled Dual Effects": -2.11874116897583,
          "Sampled Primal Effects": 0.0598192247748375
         },
         {
          "Average Interaction Effects": -0.049789626467635795,
          "Dual Interaction Effects": -0.46192895786803023,
          "Feature": 1,
          "Kernel SHAP Values": 0.3013653574701045,
          "Primal Interaction Effects": 0.32590749947387915,
          "Sampled Average Effects": 0.3511549839377403,
          "Sampled Dual Effects": 0.7632943153381347,
          "Sampled Primal Effects": -0.024542142003774643
         },
         {
          "Average Interaction Effects": -0.06692418846478479,
          "Dual Interaction Effects": 0.3335483252705095,
          "Feature": 1,
          "Kernel SHAP Values": -0.24682839865973014,
          "Primal Interaction Effects": -0.3092434422223808,
          "Sampled Average Effects": -0.17990421019494535,
          "Sampled Dual Effects": -0.5803767239302396,
          "Sampled Primal Effects": 0.06241504356265068
         },
         {
          "Average Interaction Effects": 0.009217347713712742,
          "Dual Interaction Effects": 0.5203811611855068,
          "Feature": 1,
          "Kernel SHAP Values": -0.3936092094457111,
          "Primal Interaction Effects": -0.6043552569425068,
          "Sampled Average Effects": -0.40282655715942384,
          "Sampled Dual Effects": -0.9139903706312179,
          "Sampled Primal Effects": 0.21074604749679565
         },
         {
          "Average Interaction Effects": -0.012133113651835392,
          "Dual Interaction Effects": 0.28750060477916056,
          "Feature": 1,
          "Kernel SHAP Values": -0.2991330678046877,
          "Primal Interaction Effects": -0.2972583103955919,
          "Sampled Average Effects": -0.2869999541528523,
          "Sampled Dual Effects": -0.5866336725838482,
          "Sampled Primal Effects": -0.001874757409095764
         },
         {
          "Average Interaction Effects": -0.11147820747149739,
          "Dual Interaction Effects": 0.673248711240761,
          "Feature": 1,
          "Kernel SHAP Values": -0.8333007087434605,
          "Primal Interaction Effects": -0.9195914717639759,
          "Sampled Average Effects": -0.7218225012719631,
          "Sampled Dual Effects": -1.5065494199842215,
          "Sampled Primal Effects": 0.08629076302051544
         },
         {
          "Average Interaction Effects": 0.009850341515697525,
          "Dual Interaction Effects": 0.33935879661337287,
          "Feature": 1,
          "Kernel SHAP Values": -0.2718450670073852,
          "Primal Interaction Effects": -0.3813742558787689,
          "Sampled Average Effects": -0.2816954085230827,
          "Sampled Dual Effects": -0.6112038636207581,
          "Sampled Primal Effects": 0.10952918887138367
         },
         {
          "Average Interaction Effects": -0.023089182085367477,
          "Dual Interaction Effects": -0.4833247839352215,
          "Feature": 1,
          "Kernel SHAP Values": 0.4035562430629408,
          "Primal Interaction Effects": 0.39652725923153515,
          "Sampled Average Effects": 0.4266454251483083,
          "Sampled Dual Effects": 0.8868810269981623,
          "Sampled Primal Effects": 0.00702898383140564
         },
         {
          "Average Interaction Effects": -0.04446478340211901,
          "Dual Interaction Effects": 0.3611141045820376,
          "Feature": 1,
          "Kernel SHAP Values": -0.316198111580644,
          "Primal Interaction Effects": -0.4081269646752218,
          "Sampled Average Effects": -0.27173332817852497,
          "Sampled Dual Effects": -0.6773122161626816,
          "Sampled Primal Effects": 0.0919288530945778
         },
         {
          "Average Interaction Effects": 0.024785942163993237,
          "Dual Interaction Effects": 0.047707495678891064,
          "Feature": 1,
          "Kernel SHAP Values": 0.0479182010411514,
          "Primal Interaction Effects": 0.017861880016256687,
          "Sampled Average Effects": 0.023132258877158165,
          "Sampled Dual Effects": 0.00021070536226034165,
          "Sampled Primal Effects": 0.030056321024894715
         },
         {
          "Average Interaction Effects": 0.0317680927700354,
          "Dual Interaction Effects": 0.06342138032978309,
          "Feature": 1,
          "Kernel SHAP Values": 0.0629817138201548,
          "Primal Interaction Effects": -0.003585721742455833,
          "Sampled Average Effects": 0.0312136210501194,
          "Sampled Dual Effects": -0.0004396665096282959,
          "Sampled Primal Effects": 0.06656743556261063
         },
         {
          "Average Interaction Effects": 0.0026724584744934055,
          "Dual Interaction Effects": -0.03029339824154338,
          "Feature": 1,
          "Kernel SHAP Values": 0.09248745467231312,
          "Primal Interaction Effects": 0.005701352019763378,
          "Sampled Average Effects": 0.08981499619781971,
          "Sampled Dual Effects": 0.1227808529138565,
          "Sampled Primal Effects": 0.08678610265254974
         },
         {
          "Average Interaction Effects": -0.026985622674261356,
          "Dual Interaction Effects": 0.2351678821146142,
          "Feature": 1,
          "Kernel SHAP Values": -0.2419929448068488,
          "Primal Interaction Effects": -0.3744268879592765,
          "Sampled Average Effects": -0.21500732213258744,
          "Sampled Dual Effects": -0.477160826921463,
          "Sampled Primal Effects": 0.13243394315242768
         },
         {
          "Average Interaction Effects": 0.031171896362439368,
          "Dual Interaction Effects": 0.07587971573485491,
          "Feature": 1,
          "Kernel SHAP Values": 0.07661997562064288,
          "Primal Interaction Effects": 0.041746870929137446,
          "Sampled Average Effects": 0.04544807925820351,
          "Sampled Dual Effects": 0.0007402598857879639,
          "Sampled Primal Effects": 0.03487310469150543
         },
         {
          "Average Interaction Effects": -0.020348676483949918,
          "Dual Interaction Effects": -0.20909675587328364,
          "Feature": 1,
          "Kernel SHAP Values": 0.22778758059827398,
          "Primal Interaction Effects": 0.07504909466592383,
          "Sampled Average Effects": 0.2481362570822239,
          "Sampled Dual Effects": 0.4368843364715576,
          "Sampled Primal Effects": 0.15273848593235015
         },
         {
          "Average Interaction Effects": -0.12184634263669358,
          "Dual Interaction Effects": -1.2177546102092156,
          "Feature": 1,
          "Kernel SHAP Values": 1.0152657597973456,
          "Primal Interaction Effects": 1.0639021265223134,
          "Sampled Average Effects": 1.1371121024340392,
          "Sampled Dual Effects": 2.233020370006561,
          "Sampled Primal Effects": -0.048636366724967954
         },
         {
          "Average Interaction Effects": 0.016265613227315047,
          "Dual Interaction Effects": 0.0028645640380455042,
          "Feature": 1,
          "Kernel SHAP Values": 0.007095640278585055,
          "Primal Interaction Effects": -0.10134376468586197,
          "Sampled Average Effects": -0.009169972948729992,
          "Sampled Dual Effects": 0.00423107624053955,
          "Sampled Primal Effects": 0.10843940496444703
         },
         {
          "Average Interaction Effects": -0.015912866359145572,
          "Dual Interaction Effects": 0.13354780011853465,
          "Feature": 1,
          "Kernel SHAP Values": -0.05317601150789969,
          "Primal Interaction Effects": -0.0919346613339495,
          "Sampled Average Effects": -0.03726314514875412,
          "Sampled Dual Effects": -0.18672381162643434,
          "Sampled Primal Effects": 0.038758649826049804
         },
         {
          "Average Interaction Effects": -0.029111844089335315,
          "Dual Interaction Effects": -0.20349242308408627,
          "Feature": 1,
          "Kernel SHAP Values": 0.1809887768956958,
          "Primal Interaction Effects": 0.21862291208236803,
          "Sampled Average Effects": 0.21010062098503113,
          "Sampled Dual Effects": 0.3844811999797821,
          "Sampled Primal Effects": -0.03763413518667221
         },
         {
          "Average Interaction Effects": -0.1773537031589259,
          "Dual Interaction Effects": -0.7079820138989199,
          "Feature": 1,
          "Kernel SHAP Values": 0.4142182271899472,
          "Primal Interaction Effects": 0.517231778127123,
          "Sampled Average Effects": 0.5915719303488731,
          "Sampled Dual Effects": 1.1222002410888672,
          "Sampled Primal Effects": -0.10301355093717575
         },
         {
          "Average Interaction Effects": -0.023047429626623983,
          "Dual Interaction Effects": -0.3214998459124964,
          "Feature": 1,
          "Kernel SHAP Values": 0.26091779775377094,
          "Primal Interaction Effects": 0.19813995308633625,
          "Sampled Average Effects": 0.2839652273803949,
          "Sampled Dual Effects": 0.5824176436662674,
          "Sampled Primal Effects": 0.06277784466743469
         },
         {
          "Average Interaction Effects": -0.013685768959703415,
          "Dual Interaction Effects": 0.3978381900809384,
          "Feature": 1,
          "Kernel SHAP Values": -0.3241079540230655,
          "Primal Interaction Effects": -0.39464876663464543,
          "Sampled Average Effects": -0.3104221850633621,
          "Sampled Dual Effects": -0.7219461441040039,
          "Sampled Primal Effects": 0.07054081261157989
         },
         {
          "Average Interaction Effects": -0.045727244868831826,
          "Dual Interaction Effects": 0.10266469959918958,
          "Feature": 1,
          "Kernel SHAP Values": -0.14325719352062244,
          "Primal Interaction Effects": -0.28198234136398337,
          "Sampled Average Effects": -0.09752994865179061,
          "Sampled Dual Effects": -0.24592189311981202,
          "Sampled Primal Effects": 0.1387251478433609
         },
         {
          "Average Interaction Effects": 0.01517209492823876,
          "Dual Interaction Effects": 0.1265857607146243,
          "Feature": 1,
          "Kernel SHAP Values": -0.010529633758451569,
          "Primal Interaction Effects": -0.028930267242576708,
          "Sampled Average Effects": -0.02570172868669033,
          "Sampled Dual Effects": -0.13711539447307586,
          "Sampled Primal Effects": 0.01840063348412514
         },
         {
          "Average Interaction Effects": -0.0035578288366161503,
          "Dual Interaction Effects": 0.04611239743930472,
          "Feature": 1,
          "Kernel SHAP Values": -0.045421041720088595,
          "Primal Interaction Effects": -0.14803726064461098,
          "Sampled Average Effects": -0.041863212883472445,
          "Sampled Dual Effects": -0.09153343915939331,
          "Sampled Primal Effects": 0.1026162189245224
         },
         {
          "Average Interaction Effects": 0.027451744453899307,
          "Dual Interaction Effects": -0.8405362530779916,
          "Feature": 1,
          "Kernel SHAP Values": 0.9366087702679557,
          "Primal Interaction Effects": 0.9499899748730583,
          "Sampled Average Effects": 0.9091570258140564,
          "Sampled Dual Effects": 1.7771450233459474,
          "Sampled Primal Effects": -0.013381204605102538
         },
         {
          "Average Interaction Effects": -0.10356011541101728,
          "Dual Interaction Effects": 0.5953953206398747,
          "Feature": 1,
          "Kernel SHAP Values": -0.6060488355300168,
          "Primal Interaction Effects": -0.5726515084645489,
          "Sampled Average Effects": -0.5024887201189995,
          "Sampled Dual Effects": -1.2014441561698914,
          "Sampled Primal Effects": -0.03339732706546784
         },
         {
          "Average Interaction Effects": -0.06078693958170911,
          "Dual Interaction Effects": 0.014992289979157691,
          "Feature": 2,
          "Kernel SHAP Values": -1.1818763120675853,
          "Primal Interaction Effects": 0.01878972930662126,
          "Sampled Average Effects": -1.1210893724858761,
          "Sampled Dual Effects": -1.196868602046743,
          "Sampled Primal Effects": -1.2006660413742065
         },
         {
          "Average Interaction Effects": -0.07704705255734379,
          "Dual Interaction Effects": -0.01996438490855157,
          "Feature": 2,
          "Kernel SHAP Values": 0.8270637570072467,
          "Primal Interaction Effects": -0.06835756676899851,
          "Sampled Average Effects": 0.9041108095645904,
          "Sampled Dual Effects": 0.8470281419157982,
          "Sampled Primal Effects": 0.8954213237762452
         },
         {
          "Average Interaction Effects": 0.11236833670771618,
          "Dual Interaction Effects": 0.10311844328082098,
          "Feature": 2,
          "Kernel SHAP Values": 0.7726012084785749,
          "Primal Interaction Effects": 0.06477341631091138,
          "Sampled Average Effects": 0.6602328717708588,
          "Sampled Dual Effects": 0.669482765197754,
          "Sampled Primal Effects": 0.7078277921676636
         },
         {
          "Average Interaction Effects": -0.028094251656788694,
          "Dual Interaction Effects": -0.04625134436215769,
          "Feature": 2,
          "Kernel SHAP Values": -0.22184519735898386,
          "Primal Interaction Effects": -0.03988135067548168,
          "Sampled Average Effects": -0.19375094570219517,
          "Sampled Dual Effects": -0.17559385299682617,
          "Sampled Primal Effects": -0.18196384668350218
         },
         {
          "Average Interaction Effects": 0.03367647345878355,
          "Dual Interaction Effects": -0.023440513371004057,
          "Feature": 2,
          "Kernel SHAP Values": -1.1914466602378322,
          "Primal Interaction Effects": -0.041453865247292665,
          "Sampled Average Effects": -1.2251231336966157,
          "Sampled Dual Effects": -1.1680061468668281,
          "Sampled Primal Effects": -1.1499927949905395
         },
         {
          "Average Interaction Effects": -0.019405864507314297,
          "Dual Interaction Effects": -0.02856257948314811,
          "Feature": 2,
          "Kernel SHAP Values": 1.4178083917197022,
          "Primal Interaction Effects": -0.0036094883385864307,
          "Sampled Average Effects": 1.4372142562270165,
          "Sampled Dual Effects": 1.4463709712028503,
          "Sampled Primal Effects": 1.4214178800582886
         },
         {
          "Average Interaction Effects": -0.04041770512531695,
          "Dual Interaction Effects": 0.012975027986660725,
          "Feature": 2,
          "Kernel SHAP Values": -1.0824739146448223,
          "Primal Interaction Effects": -0.050649492762192994,
          "Sampled Average Effects": -1.0420562095195054,
          "Sampled Dual Effects": -1.095448942631483,
          "Sampled Primal Effects": -1.0318244218826294
         },
         {
          "Average Interaction Effects": 0.01592612796876669,
          "Dual Interaction Effects": -0.00035601085569614277,
          "Feature": 2,
          "Kernel SHAP Values": 1.0092495375261092,
          "Primal Interaction Effects": -0.014052545489332546,
          "Sampled Average Effects": 0.9933234095573426,
          "Sampled Dual Effects": 1.0096055483818054,
          "Sampled Primal Effects": 1.0233020830154418
         },
         {
          "Average Interaction Effects": -0.04335952648511518,
          "Dual Interaction Effects": -0.051394719570785646,
          "Feature": 2,
          "Kernel SHAP Values": 0.20905511906752003,
          "Primal Interaction Effects": -0.05027726361146559,
          "Sampled Average Effects": 0.2524146455526352,
          "Sampled Dual Effects": 0.2604498386383057,
          "Sampled Primal Effects": 0.2593323826789856
         },
         {
          "Average Interaction Effects": -0.05283921959645138,
          "Dual Interaction Effects": -0.002074053909843998,
          "Feature": 2,
          "Kernel SHAP Values": -0.45766836228615626,
          "Primal Interaction Effects": -0.03865220847374784,
          "Sampled Average Effects": -0.4048291426897049,
          "Sampled Dual Effects": -0.45559430837631226,
          "Sampled Primal Effects": -0.4190161538124084
         },
         {
          "Average Interaction Effects": -0.008705852356664323,
          "Dual Interaction Effects": 0.0004929878526185316,
          "Feature": 2,
          "Kernel SHAP Values": 1.082928693216369,
          "Primal Interaction Effects": -0.005024163801147896,
          "Sampled Average Effects": 1.0916345455730334,
          "Sampled Dual Effects": 1.0824357053637506,
          "Sampled Primal Effects": 1.087952857017517
         },
         {
          "Average Interaction Effects": -0.03776558282753584,
          "Dual Interaction Effects": -0.051813497496453476,
          "Feature": 2,
          "Kernel SHAP Values": -1.275086532188264,
          "Primal Interaction Effects": -0.045653977943268975,
          "Sampled Average Effects": -1.2373209493607282,
          "Sampled Dual Effects": -1.2232730346918106,
          "Sampled Primal Effects": -1.229432554244995
         },
         {
          "Average Interaction Effects": -0.04845117938318172,
          "Dual Interaction Effects": 0.004675764361537327,
          "Feature": 2,
          "Kernel SHAP Values": 0.41268301277808034,
          "Primal Interaction Effects": 0.0012556102817424253,
          "Sampled Average Effects": 0.46113419216126206,
          "Sampled Dual Effects": 0.408007248416543,
          "Sampled Primal Effects": 0.4114274024963379
         },
         {
          "Average Interaction Effects": -0.054037696252168366,
          "Dual Interaction Effects": 0.0007813243767607718,
          "Feature": 2,
          "Kernel SHAP Values": -0.018880888948739717,
          "Primal Interaction Effects": -0.04267498774320001,
          "Sampled Average Effects": 0.03515680730342865,
          "Sampled Dual Effects": -0.01966221332550049,
          "Sampled Primal Effects": 0.023794098794460296
         },
         {
          "Average Interaction Effects": -0.15350185557996487,
          "Dual Interaction Effects": -0.10316111445223553,
          "Feature": 2,
          "Kernel SHAP Values": 0.5072989720126464,
          "Primal Interaction Effects": -0.13566404640471197,
          "Sampled Average Effects": 0.6608008275926113,
          "Sampled Dual Effects": 0.6104600864648819,
          "Sampled Primal Effects": 0.6429630184173584
         },
         {
          "Average Interaction Effects": -0.019595818254905417,
          "Dual Interaction Effects": 0.004836393263382255,
          "Feature": 2,
          "Kernel SHAP Values": -0.3357170334791715,
          "Primal Interaction Effects": -0.007122333381133772,
          "Sampled Average Effects": -0.31612121522426606,
          "Sampled Dual Effects": -0.34055342674255373,
          "Sampled Primal Effects": -0.3285947000980377
         },
         {
          "Average Interaction Effects": -0.16241551240592428,
          "Dual Interaction Effects": -0.08029389945476478,
          "Feature": 2,
          "Kernel SHAP Values": -0.39264883255272337,
          "Primal Interaction Effects": -0.15830835675507018,
          "Sampled Average Effects": -0.2302333201467991,
          "Sampled Dual Effects": -0.3123549330979586,
          "Sampled Primal Effects": -0.23434047579765319
         },
         {
          "Average Interaction Effects": -0.023716204887770327,
          "Dual Interaction Effects": -0.04363939625635019,
          "Feature": 2,
          "Kernel SHAP Values": 0.0009998525916112347,
          "Primal Interaction Effects": -0.005904838717125566,
          "Sampled Average Effects": 0.024716057479381562,
          "Sampled Dual Effects": 0.04463924884796142,
          "Sampled Primal Effects": 0.006904691308736801
         },
         {
          "Average Interaction Effects": -0.028474555310798677,
          "Dual Interaction Effects": -0.07450674939621788,
          "Feature": 2,
          "Kernel SHAP Values": -0.38053313214053014,
          "Primal Interaction Effects": -0.0991006811307798,
          "Sampled Average Effects": -0.35205857682973146,
          "Sampled Dual Effects": -0.30602638274431226,
          "Sampled Primal Effects": -0.28143245100975034
         },
         {
          "Average Interaction Effects": 0.051645094001912195,
          "Dual Interaction Effects": -0.0921952204832206,
          "Feature": 2,
          "Kernel SHAP Values": 1.5603856588474145,
          "Primal Interaction Effects": -0.05180740107385007,
          "Sampled Average Effects": 1.5087405648455023,
          "Sampled Dual Effects": 1.6525808793306351,
          "Sampled Primal Effects": 1.6121930599212646
         },
         {
          "Average Interaction Effects": -0.035033813623805865,
          "Dual Interaction Effects": -0.07145363321723541,
          "Feature": 2,
          "Kernel SHAP Values": 0.6376043535190622,
          "Primal Interaction Effects": -0.12264869442405302,
          "Sampled Average Effects": 0.6726381671428681,
          "Sampled Dual Effects": 0.7090579867362976,
          "Sampled Primal Effects": 0.7602530479431152
         },
         {
          "Average Interaction Effects": -0.08906793905850896,
          "Dual Interaction Effects": -0.09475942207929144,
          "Feature": 2,
          "Kernel SHAP Values": 0.8756302683198784,
          "Primal Interaction Effects": -0.11320416523572463,
          "Sampled Average Effects": 0.9646982073783874,
          "Sampled Dual Effects": 0.9703896903991699,
          "Sampled Primal Effects": 0.9888344335556031
         },
         {
          "Average Interaction Effects": 0.009651355783061422,
          "Dual Interaction Effects": -0.039000580047650835,
          "Feature": 2,
          "Kernel SHAP Values": 0.8452204602608246,
          "Primal Interaction Effects": -0.033602038060708606,
          "Sampled Average Effects": 0.8355691044777632,
          "Sampled Dual Effects": 0.8842210403084755,
          "Sampled Primal Effects": 0.8788224983215333
         },
         {
          "Average Interaction Effects": 0.04681738379590861,
          "Dual Interaction Effects": 0.014655166149071364,
          "Feature": 2,
          "Kernel SHAP Values": -0.6529699067474092,
          "Primal Interaction Effects": 0.051047353327206335,
          "Sampled Average Effects": -0.6997872905433178,
          "Sampled Dual Effects": -0.6676250728964805,
          "Sampled Primal Effects": -0.7040172600746155
         },
         {
          "Average Interaction Effects": -0.053432612032764726,
          "Dual Interaction Effects": -0.0836407121877607,
          "Feature": 2,
          "Kernel SHAP Values": 0.8947424605627123,
          "Primal Interaction Effects": -0.11988825766848876,
          "Sampled Average Effects": 0.9481750725954771,
          "Sampled Dual Effects": 0.978383172750473,
          "Sampled Primal Effects": 1.014630718231201
         },
         {
          "Average Interaction Effects": -0.03217304482190653,
          "Dual Interaction Effects": -0.027475252589869936,
          "Feature": 2,
          "Kernel SHAP Values": -0.04690614639847322,
          "Primal Interaction Effects": -0.03428343533604189,
          "Sampled Average Effects": -0.014733101576566696,
          "Sampled Dual Effects": -0.019430893808603286,
          "Sampled Primal Effects": -0.012622711062431336
         },
         {
          "Average Interaction Effects": -0.08062581561543516,
          "Dual Interaction Effects": -0.03182179890610748,
          "Feature": 2,
          "Kernel SHAP Values": -0.3146648856256204,
          "Primal Interaction Effects": -0.06054196797349026,
          "Sampled Average Effects": -0.23403907001018523,
          "Sampled Dual Effects": -0.2828430867195129,
          "Sampled Primal Effects": -0.25412291765213013
         },
         {
          "Average Interaction Effects": -0.00734185103570828,
          "Dual Interaction Effects": -0.04180685457085975,
          "Feature": 2,
          "Kernel SHAP Values": 0.8982008756300269,
          "Primal Interaction Effects": -0.0460399137834252,
          "Sampled Average Effects": 0.9055427266657352,
          "Sampled Dual Effects": 0.9400077302008867,
          "Sampled Primal Effects": 0.9442407894134521
         },
         {
          "Average Interaction Effects": -0.14517788462044834,
          "Dual Interaction Effects": -0.05013643853070371,
          "Feature": 2,
          "Kernel SHAP Values": -0.5879391824424469,
          "Primal Interaction Effects": -0.12513956777455448,
          "Sampled Average Effects": -0.4427612978219986,
          "Sampled Dual Effects": -0.5378027439117432,
          "Sampled Primal Effects": -0.46279961466789243
         },
         {
          "Average Interaction Effects": -0.036278172764163036,
          "Dual Interaction Effects": -0.0976983880206752,
          "Feature": 2,
          "Kernel SHAP Values": -0.16405573911515953,
          "Primal Interaction Effects": -0.08499784625617744,
          "Sampled Average Effects": -0.1277775663509965,
          "Sampled Dual Effects": -0.06635735109448433,
          "Sampled Primal Effects": -0.07905789285898208
         },
         {
          "Average Interaction Effects": -0.01769297020286914,
          "Dual Interaction Effects": -0.035895757915085535,
          "Feature": 2,
          "Kernel SHAP Values": 0.3889689939305127,
          "Primal Interaction Effects": -0.09214111277610654,
          "Sampled Average Effects": 0.40666196413338185,
          "Sampled Dual Effects": 0.42486475184559824,
          "Sampled Primal Effects": 0.48111010670661924
         },
         {
          "Average Interaction Effects": -0.08504946238366506,
          "Dual Interaction Effects": -0.0615176344570294,
          "Feature": 2,
          "Kernel SHAP Values": 1.2503781413379536,
          "Primal Interaction Effects": -0.0404463768657819,
          "Sampled Average Effects": 1.3354276037216186,
          "Sampled Dual Effects": 1.311895775794983,
          "Sampled Primal Effects": 1.2908245182037354
         },
         {
          "Average Interaction Effects": 0.01460263081512303,
          "Dual Interaction Effects": -0.029771671288992496,
          "Feature": 2,
          "Kernel SHAP Values": 0.8420312392773375,
          "Primal Interaction Effects": 0.038312829739068466,
          "Sampled Average Effects": 0.8274286084622144,
          "Sampled Dual Effects": 0.87180291056633,
          "Sampled Primal Effects": 0.803718409538269
         },
         {
          "Average Interaction Effects": -0.08646744574358245,
          "Dual Interaction Effects": -0.06640660519649766,
          "Feature": 2,
          "Kernel SHAP Values": -0.8723819440131404,
          "Primal Interaction Effects": -0.12515752251198076,
          "Sampled Average Effects": -0.785914498269558,
          "Sampled Dual Effects": -0.8059753388166427,
          "Sampled Primal Effects": -0.7472244215011596
         },
         {
          "Average Interaction Effects": 0.005780650576122426,
          "Dual Interaction Effects": -0.027951466838352035,
          "Feature": 2,
          "Kernel SHAP Values": 0.5395408560834009,
          "Primal Interaction Effects": 0.09340255280352416,
          "Sampled Average Effects": 0.5337602055072784,
          "Sampled Dual Effects": 0.5674923229217529,
          "Sampled Primal Effects": 0.4461383032798767
         },
         {
          "Average Interaction Effects": 0.02466056946385417,
          "Dual Interaction Effects": 0.041239421923642494,
          "Feature": 2,
          "Kernel SHAP Values": -0.1418373627616116,
          "Primal Interaction Effects": 0.0810383729981235,
          "Sampled Average Effects": -0.16649793222546577,
          "Sampled Dual Effects": -0.1830767846852541,
          "Sampled Primal Effects": -0.2228757357597351
         },
         {
          "Average Interaction Effects": -0.0367890660876371,
          "Dual Interaction Effects": 0.01964647134375208,
          "Feature": 2,
          "Kernel SHAP Values": 1.1276138902230226,
          "Primal Interaction Effects": 0.0478120637459718,
          "Sampled Average Effects": 1.1644029563106597,
          "Sampled Dual Effects": 1.1079674188792705,
          "Sampled Primal Effects": 1.0798018264770508
         },
         {
          "Average Interaction Effects": -0.06754935161406594,
          "Dual Interaction Effects": -0.0839084106796463,
          "Feature": 2,
          "Kernel SHAP Values": -0.06447752774889069,
          "Primal Interaction Effects": -0.04796529309088784,
          "Sampled Average Effects": 0.003071823865175247,
          "Sampled Dual Effects": 0.019430882930755615,
          "Sampled Primal Effects": -0.016512234658002854
         },
         {
          "Average Interaction Effects": -0.06443030133458183,
          "Dual Interaction Effects": -0.0024097646734337896,
          "Feature": 2,
          "Kernel SHAP Values": 0.8150221891739745,
          "Primal Interaction Effects": 0.04513086036232905,
          "Sampled Average Effects": 0.8794524905085563,
          "Sampled Dual Effects": 0.8174319538474083,
          "Sampled Primal Effects": 0.7698913288116455
         },
         {
          "Average Interaction Effects": 0.026428077634848668,
          "Dual Interaction Effects": -0.028902195278130538,
          "Feature": 2,
          "Kernel SHAP Values": -1.011543278280221,
          "Primal Interaction Effects": -0.0035351224574671214,
          "Sampled Average Effects": -1.0379713559150696,
          "Sampled Dual Effects": -0.9826410830020904,
          "Sampled Primal Effects": -1.0080081558227538
         },
         {
          "Average Interaction Effects": 0.038735156831822826,
          "Dual Interaction Effects": 0.06431023674973058,
          "Feature": 2,
          "Kernel SHAP Values": 1.1359429796315055,
          "Primal Interaction Effects": 0.008709188280187075,
          "Sampled Average Effects": 1.0972078227996827,
          "Sampled Dual Effects": 1.071632742881775,
          "Sampled Primal Effects": 1.1272337913513184
         },
         {
          "Average Interaction Effects": -0.061841206205321686,
          "Dual Interaction Effects": 0.001689487444923976,
          "Feature": 2,
          "Kernel SHAP Values": 0.4635261592741476,
          "Primal Interaction Effects": -0.04836201573653359,
          "Sampled Average Effects": 0.5253673654794693,
          "Sampled Dual Effects": 0.4618366718292236,
          "Sampled Primal Effects": 0.5118881750106812
         },
         {
          "Average Interaction Effects": 0.009976536289058147,
          "Dual Interaction Effects": -0.031895609840549954,
          "Feature": 2,
          "Kernel SHAP Values": 0.7391880288275103,
          "Primal Interaction Effects": -0.043337040886082145,
          "Sampled Average Effects": 0.7292114925384522,
          "Sampled Dual Effects": 0.7710836386680603,
          "Sampled Primal Effects": 0.7825250697135925
         },
         {
          "Average Interaction Effects": -0.057170738331230764,
          "Dual Interaction Effects": 0.015631253220883767,
          "Feature": 2,
          "Kernel SHAP Values": -1.4367093955494485,
          "Primal Interaction Effects": -0.06097455611005653,
          "Sampled Average Effects": -1.3795386572182178,
          "Sampled Dual Effects": -1.4523406487703323,
          "Sampled Primal Effects": -1.375734839439392
         },
         {
          "Average Interaction Effects": -0.12078565863060509,
          "Dual Interaction Effects": -0.10102396872925312,
          "Feature": 2,
          "Kernel SHAP Values": 0.4406321177156016,
          "Primal Interaction Effects": -0.07602261928009535,
          "Sampled Average Effects": 0.5614177763462067,
          "Sampled Dual Effects": 0.5416560864448547,
          "Sampled Primal Effects": 0.516654736995697
         },
         {
          "Average Interaction Effects": -0.009345464423231253,
          "Dual Interaction Effects": 0.026040420815416243,
          "Feature": 2,
          "Kernel SHAP Values": -0.9066740414648572,
          "Primal Interaction Effects": -0.04658524008088505,
          "Sampled Average Effects": -0.8973285770416259,
          "Sampled Dual Effects": -0.9327144622802734,
          "Sampled Primal Effects": -0.8600888013839721
         },
         {
          "Average Interaction Effects": 0.02530063800062271,
          "Dual Interaction Effects": -0.03390649758730796,
          "Feature": 2,
          "Kernel SHAP Values": -0.46871086456333066,
          "Primal Interaction Effects": 0.019032602529183373,
          "Sampled Average Effects": -0.4940115025639534,
          "Sampled Dual Effects": -0.4348043669760227,
          "Sampled Primal Effects": -0.48774346709251404
         },
         {
          "Average Interaction Effects": -0.030468659733048353,
          "Dual Interaction Effects": -0.005451903116515444,
          "Feature": 2,
          "Kernel SHAP Values": -1.307214686941913,
          "Primal Interaction Effects": -0.07576089627724025,
          "Sampled Average Effects": -1.2767460272088647,
          "Sampled Dual Effects": -1.3017627838253976,
          "Sampled Primal Effects": -1.2314537906646728
         },
         {
          "Average Interaction Effects": 0.015100483609306492,
          "Dual Interaction Effects": 0.02152191133605208,
          "Feature": 2,
          "Kernel SHAP Values": 1.293913087559807,
          "Primal Interaction Effects": -0.06075549631012711,
          "Sampled Average Effects": 1.2788126039505006,
          "Sampled Dual Effects": 1.272391176223755,
          "Sampled Primal Effects": 1.3546685838699342
         },
         {
          "Average Interaction Effects": 0.0032491103935767818,
          "Dual Interaction Effects": -0.004748514480538146,
          "Feature": 2,
          "Kernel SHAP Values": 1.6698050872612527,
          "Primal Interaction Effects": 0.003547486476950912,
          "Sampled Average Effects": 1.6665559768676759,
          "Sampled Dual Effects": 1.6745536017417908,
          "Sampled Primal Effects": 1.6662576007843017
         },
         {
          "Average Interaction Effects": -0.05433669078905057,
          "Dual Interaction Effects": -0.02459617245752288,
          "Feature": 2,
          "Kernel SHAP Values": -0.8383875765259928,
          "Primal Interaction Effects": -0.06130867857295941,
          "Sampled Average Effects": -0.7840508857369423,
          "Sampled Dual Effects": -0.81379140406847,
          "Sampled Primal Effects": -0.7770788979530334
         },
         {
          "Average Interaction Effects": 0.01196428029583374,
          "Dual Interaction Effects": -0.0719260300810487,
          "Feature": 2,
          "Kernel SHAP Values": 0.9623910795037596,
          "Primal Interaction Effects": 0.017359217244848457,
          "Sampled Average Effects": 0.9504267992079258,
          "Sampled Dual Effects": 1.0343171095848083,
          "Sampled Primal Effects": 0.9450318622589111
         },
         {
          "Average Interaction Effects": 0.03505569756948579,
          "Dual Interaction Effects": -0.017830300917986763,
          "Feature": 2,
          "Kernel SHAP Values": -0.933831627955798,
          "Primal Interaction Effects": 0.029951917538281636,
          "Sampled Average Effects": -0.9688873255252838,
          "Sampled Dual Effects": -0.9160013270378112,
          "Sampled Primal Effects": -0.9637835454940796
         },
         {
          "Average Interaction Effects": -0.012778964390497971,
          "Dual Interaction Effects": 0.0012765663364115998,
          "Feature": 2,
          "Kernel SHAP Values": 0.6117844545343105,
          "Primal Interaction Effects": -0.062193223287802524,
          "Sampled Average Effects": 0.6245634189248085,
          "Sampled Dual Effects": 0.6105078881978989,
          "Sampled Primal Effects": 0.673977677822113
         },
         {
          "Average Interaction Effects": -0.013101722448058628,
          "Dual Interaction Effects": -0.01941508836943684,
          "Feature": 2,
          "Kernel SHAP Values": 0.6105535557131094,
          "Primal Interaction Effects": -0.09827822424370825,
          "Sampled Average Effects": 0.6236552781611681,
          "Sampled Dual Effects": 0.6299686440825463,
          "Sampled Primal Effects": 0.7088317799568177
         },
         {
          "Average Interaction Effects": -0.05148420539594145,
          "Dual Interaction Effects": -0.08353029520160404,
          "Feature": 2,
          "Kernel SHAP Values": -1.0443340753102943,
          "Primal Interaction Effects": 0.02004540219062112,
          "Sampled Average Effects": -0.9928498699143529,
          "Sampled Dual Effects": -0.9608037801086903,
          "Sampled Primal Effects": -1.0643794775009154
         },
         {
          "Average Interaction Effects": -0.09498921339170652,
          "Dual Interaction Effects": -0.0810567933763714,
          "Feature": 2,
          "Kernel SHAP Values": 0.4255354517255573,
          "Primal Interaction Effects": -0.13387097422735406,
          "Sampled Average Effects": 0.5205246651172638,
          "Sampled Dual Effects": 0.5065922451019287,
          "Sampled Primal Effects": 0.5594064259529113
         },
         {
          "Average Interaction Effects": -0.08785882100778242,
          "Dual Interaction Effects": -0.0739371953936161,
          "Feature": 2,
          "Kernel SHAP Values": -1.8752085052462162,
          "Primal Interaction Effects": -0.10679641113000526,
          "Sampled Average Effects": -1.7873496842384338,
          "Sampled Dual Effects": -1.8012713098526,
          "Sampled Primal Effects": -1.768412094116211
         },
         {
          "Average Interaction Effects": 0.020583799680433224,
          "Dual Interaction Effects": 0.03137038429614064,
          "Feature": 2,
          "Kernel SHAP Values": -0.40112612525586133,
          "Primal Interaction Effects": -0.008378049532213272,
          "Sampled Average Effects": -0.42170992493629456,
          "Sampled Dual Effects": -0.432496509552002,
          "Sampled Primal Effects": -0.39274807572364806
         },
         {
          "Average Interaction Effects": -0.052734881440619885,
          "Dual Interaction Effects": 0.013868734066863508,
          "Feature": 2,
          "Kernel SHAP Values": 1.8516571745774941,
          "Primal Interaction Effects": 0.0020146689317421806,
          "Sampled Average Effects": 1.904392056018114,
          "Sampled Dual Effects": 1.8377884405106306,
          "Sampled Primal Effects": 1.849642505645752
         },
         {
          "Average Interaction Effects": 0.00930010377236945,
          "Dual Interaction Effects": -0.05960583091905969,
          "Feature": 2,
          "Kernel SHAP Values": 0.5949942779428635,
          "Primal Interaction Effects": 0.04717615364858252,
          "Sampled Average Effects": 0.5856941741704941,
          "Sampled Dual Effects": 0.6546001088619232,
          "Sampled Primal Effects": 0.547818124294281
         },
         {
          "Average Interaction Effects": -0.13266240026889375,
          "Dual Interaction Effects": -0.15567664064554504,
          "Feature": 2,
          "Kernel SHAP Values": -0.5843867413149588,
          "Primal Interaction Effects": -0.20222122827632355,
          "Sampled Average Effects": -0.45172434104606507,
          "Sampled Dual Effects": -0.4287101006694138,
          "Sampled Primal Effects": -0.3821655130386353
         },
         {
          "Average Interaction Effects": -0.15116348082163947,
          "Dual Interaction Effects": -0.16795319074729106,
          "Feature": 2,
          "Kernel SHAP Values": 0.18237563615700583,
          "Primal Interaction Effects": -0.09498930448630469,
          "Sampled Average Effects": 0.3335391169786453,
          "Sampled Dual Effects": 0.3503288269042969,
          "Sampled Primal Effects": 0.2773649406433105
         },
         {
          "Average Interaction Effects": -0.021095460675788047,
          "Dual Interaction Effects": -0.020220800064635447,
          "Feature": 2,
          "Kernel SHAP Values": 0.2941747134699105,
          "Primal Interaction Effects": -0.07929127755029214,
          "Sampled Average Effects": 0.3152701741456985,
          "Sampled Dual Effects": 0.3143955135345459,
          "Sampled Primal Effects": 0.3734659910202026
         },
         {
          "Average Interaction Effects": -0.020134268749833706,
          "Dual Interaction Effects": 0.01411508640986614,
          "Feature": 2,
          "Kernel SHAP Values": -0.6299276606108553,
          "Primal Interaction Effects": -0.03599488177555865,
          "Sampled Average Effects": -0.6097933918610215,
          "Sampled Dual Effects": -0.6440427470207214,
          "Sampled Primal Effects": -0.5939327788352966
         },
         {
          "Average Interaction Effects": -0.022691321227635786,
          "Dual Interaction Effects": -0.050901938233460786,
          "Feature": 2,
          "Kernel SHAP Values": 0.46114352300396977,
          "Primal Interaction Effects": 0.04344509079686221,
          "Sampled Average Effects": 0.48383484423160555,
          "Sampled Dual Effects": 0.5120454612374306,
          "Sampled Primal Effects": 0.41769843220710756
         },
         {
          "Average Interaction Effects": -0.07950552134396353,
          "Dual Interaction Effects": -0.09007160520734112,
          "Feature": 2,
          "Kernel SHAP Values": -0.16344712352933208,
          "Primal Interaction Effects": -0.03573219067038813,
          "Sampled Average Effects": -0.08394160218536854,
          "Sampled Dual Effects": -0.07337551832199096,
          "Sampled Primal Effects": -0.12771493285894395
         },
         {
          "Average Interaction Effects": 0.0017938954727859668,
          "Dual Interaction Effects": -0.04617422845492658,
          "Feature": 2,
          "Kernel SHAP Values": 0.569351981540224,
          "Primal Interaction Effects": 0.026236258407136837,
          "Sampled Average Effects": 0.5675580860674381,
          "Sampled Dual Effects": 0.6155262099951506,
          "Sampled Primal Effects": 0.5431157231330872
         },
         {
          "Average Interaction Effects": 0.010992724571263768,
          "Dual Interaction Effects": -0.01732846054073578,
          "Feature": 2,
          "Kernel SHAP Values": 1.106333684597051,
          "Primal Interaction Effects": 0.048370465908086135,
          "Sampled Average Effects": 1.0953409600257873,
          "Sampled Dual Effects": 1.1236621451377868,
          "Sampled Primal Effects": 1.057963218688965
         },
         {
          "Average Interaction Effects": 0.034207351204037284,
          "Dual Interaction Effects": 0.01059422552216005,
          "Feature": 2,
          "Kernel SHAP Values": 0.5560015386306043,
          "Primal Interaction Effects": 0.003538262244343282,
          "Sampled Average Effects": 0.521794187426567,
          "Sampled Dual Effects": 0.5454073131084443,
          "Sampled Primal Effects": 0.552463276386261
         },
         {
          "Average Interaction Effects": -0.05911876603523197,
          "Dual Interaction Effects": -0.030239664460811055,
          "Feature": 2,
          "Kernel SHAP Values": 0.24426744565805492,
          "Primal Interaction Effects": -0.04748819365659657,
          "Sampled Average Effects": 0.3033862116932869,
          "Sampled Dual Effects": 0.27450711011886597,
          "Sampled Primal Effects": 0.2917556393146515
         },
         {
          "Average Interaction Effects": -0.013246640212258132,
          "Dual Interaction Effects": -0.05720725665183907,
          "Feature": 2,
          "Kernel SHAP Values": 0.33584157822338695,
          "Primal Interaction Effects": -0.00995815696509722,
          "Sampled Average Effects": 0.3490882184356451,
          "Sampled Dual Effects": 0.393048834875226,
          "Sampled Primal Effects": 0.34579973518848417
         },
         {
          "Average Interaction Effects": -0.05453761136049273,
          "Dual Interaction Effects": -0.0741434171971107,
          "Feature": 2,
          "Kernel SHAP Values": 0.694339333419857,
          "Primal Interaction Effects": -0.07186996614450458,
          "Sampled Average Effects": 0.7488769447803497,
          "Sampled Dual Effects": 0.7684827506169677,
          "Sampled Primal Effects": 0.7662092995643616
         },
         {
          "Average Interaction Effects": -0.0766107554158797,
          "Dual Interaction Effects": -0.08052853056999343,
          "Feature": 2,
          "Kernel SHAP Values": -1.363114599677049,
          "Primal Interaction Effects": -0.06022259184929024,
          "Sampled Average Effects": -1.2865038442611694,
          "Sampled Dual Effects": -1.2825860691070556,
          "Sampled Primal Effects": -1.3028920078277588
         },
         {
          "Average Interaction Effects": -0.015423054236406886,
          "Dual Interaction Effects": -0.03888877345942943,
          "Feature": 2,
          "Kernel SHAP Values": 1.4266561822710089,
          "Primal Interaction Effects": -0.11206501676463576,
          "Sampled Average Effects": 1.4420792365074158,
          "Sampled Dual Effects": 1.4655449557304383,
          "Sampled Primal Effects": 1.5387211990356446
         },
         {
          "Average Interaction Effects": -0.052021962616333794,
          "Dual Interaction Effects": -0.09900625969071136,
          "Feature": 2,
          "Kernel SHAP Values": 0.4116111658255364,
          "Primal Interaction Effects": -0.07856388824779731,
          "Sampled Average Effects": 0.4636331284418702,
          "Sampled Dual Effects": 0.5106174255162478,
          "Sampled Primal Effects": 0.4901750540733337
         },
         {
          "Average Interaction Effects": -0.05947374777097303,
          "Dual Interaction Effects": -0.05113170967597569,
          "Feature": 2,
          "Kernel SHAP Values": 0.6418220038602869,
          "Primal Interaction Effects": -0.022245047550388142,
          "Sampled Average Effects": 0.7012957516312599,
          "Sampled Dual Effects": 0.6929537135362626,
          "Sampled Primal Effects": 0.664067051410675
         },
         {
          "Average Interaction Effects": -0.02593625486683416,
          "Dual Interaction Effects": -0.012459167994971751,
          "Feature": 2,
          "Kernel SHAP Values": -0.05835828737210798,
          "Primal Interaction Effects": -0.00827231244039106,
          "Sampled Average Effects": -0.03242203250527382,
          "Sampled Dual Effects": -0.04589911937713623,
          "Sampled Primal Effects": -0.05008597493171692
         },
         {
          "Average Interaction Effects": -0.11192948508184832,
          "Dual Interaction Effects": -0.05000574055236262,
          "Feature": 2,
          "Kernel SHAP Values": -0.1846009773306219,
          "Primal Interaction Effects": -0.03854408088248651,
          "Sampled Average Effects": -0.07267149224877358,
          "Sampled Dual Effects": -0.13459523677825927,
          "Sampled Primal Effects": -0.14605689644813538
         },
         {
          "Average Interaction Effects": -0.019742445437076594,
          "Dual Interaction Effects": -0.045285528389576,
          "Feature": 2,
          "Kernel SHAP Values": 0.8863495772203178,
          "Primal Interaction Effects": 0.013913182528850543,
          "Sampled Average Effects": 0.9060920226573944,
          "Sampled Dual Effects": 0.9316351056098938,
          "Sampled Primal Effects": 0.8724363946914673
         },
         {
          "Average Interaction Effects": 0.01271541566765877,
          "Dual Interaction Effects": 0.023257775131529268,
          "Feature": 2,
          "Kernel SHAP Values": -0.7734829119854513,
          "Primal Interaction Effects": -0.033374009531075055,
          "Sampled Average Effects": -0.78619832765311,
          "Sampled Dual Effects": -0.7967406871169805,
          "Sampled Primal Effects": -0.7401089024543762
         },
         {
          "Average Interaction Effects": -0.09429649179629107,
          "Dual Interaction Effects": -0.125361325496948,
          "Feature": 2,
          "Kernel SHAP Values": 0.4484603413397906,
          "Primal Interaction Effects": -0.06366624271324894,
          "Sampled Average Effects": 0.5427568331360817,
          "Sampled Dual Effects": 0.5738216668367386,
          "Sampled Primal Effects": 0.5121265840530396
         },
         {
          "Average Interaction Effects": -0.02095465380791421,
          "Dual Interaction Effects": -0.029350590520536853,
          "Feature": 2,
          "Kernel SHAP Values": 0.017791398986244246,
          "Primal Interaction Effects": 0.026225341184997603,
          "Sampled Average Effects": 0.03874605279415846,
          "Sampled Dual Effects": 0.0471419895067811,
          "Sampled Primal Effects": -0.008433942198753357
         },
         {
          "Average Interaction Effects": 0.00578071211643022,
          "Dual Interaction Effects": 0.031788468893537924,
          "Feature": 2,
          "Kernel SHAP Values": 0.4371476221568088,
          "Primal Interaction Effects": -0.02202566261224942,
          "Sampled Average Effects": 0.4313669100403786,
          "Sampled Dual Effects": 0.4053591532632709,
          "Sampled Primal Effects": 0.4591732847690582
         },
         {
          "Average Interaction Effects": -0.04673507906788449,
          "Dual Interaction Effects": -0.0355786188721047,
          "Feature": 2,
          "Kernel SHAP Values": 0.14704709805256266,
          "Primal Interaction Effects": 0.002298270833553273,
          "Sampled Average Effects": 0.19378217712044715,
          "Sampled Dual Effects": 0.18262571692466736,
          "Sampled Primal Effects": 0.1447488272190094
         },
         {
          "Average Interaction Effects": -0.07126399557925084,
          "Dual Interaction Effects": -0.09224595259762625,
          "Feature": 2,
          "Kernel SHAP Values": 0.27820863176249644,
          "Primal Interaction Effects": -0.10144464980698448,
          "Sampled Average Effects": 0.3494726273417473,
          "Sampled Dual Effects": 0.3704545843601227,
          "Sampled Primal Effects": 0.3796532815694809
         },
         {
          "Average Interaction Effects": -0.11052218737640782,
          "Dual Interaction Effects": -0.09128942998686237,
          "Feature": 2,
          "Kernel SHAP Values": 0.1593607435133179,
          "Primal Interaction Effects": -0.047151116380480945,
          "Sampled Average Effects": 0.2698829308897257,
          "Sampled Dual Effects": 0.25065017350018026,
          "Sampled Primal Effects": 0.20651185989379883
         },
         {
          "Average Interaction Effects": -0.05134242153700308,
          "Dual Interaction Effects": 0.017915067905822202,
          "Feature": 2,
          "Kernel SHAP Values": 3.3108257260269314,
          "Primal Interaction Effects": -0.025913318162521737,
          "Sampled Average Effects": 3.3621681475639345,
          "Sampled Dual Effects": 3.292910658121109,
          "Sampled Primal Effects": 3.336739044189453
         },
         {
          "Average Interaction Effects": -0.14810072687533116,
          "Dual Interaction Effects": -0.13676413682368027,
          "Feature": 2,
          "Kernel SHAP Values": -1.1697179069843553,
          "Primal Interaction Effects": -0.10972379115488762,
          "Sampled Average Effects": -1.0216171801090241,
          "Sampled Dual Effects": -1.032953770160675,
          "Sampled Primal Effects": -1.0599941158294677
         },
         {
          "Average Interaction Effects": 0.023674611288867498,
          "Dual Interaction Effects": -0.017734903276153124,
          "Feature": 2,
          "Kernel SHAP Values": -1.237470799863525,
          "Primal Interaction Effects": -0.07752746719140591,
          "Sampled Average Effects": -1.2611454111523925,
          "Sampled Dual Effects": -1.219735896587372,
          "Sampled Primal Effects": -1.1599433326721191
         },
         {
          "Average Interaction Effects": -0.014200352065573019,
          "Dual Interaction Effects": -0.01578032378883154,
          "Feature": 2,
          "Kernel SHAP Values": -0.8301433491784432,
          "Primal Interaction Effects": 0.0039534687918326705,
          "Sampled Average Effects": -0.8159429971128702,
          "Sampled Dual Effects": -0.8143630253896117,
          "Sampled Primal Effects": -0.8340968179702759
         },
         {
          "Average Interaction Effects": -0.057975143189969325,
          "Dual Interaction Effects": -0.10431228994900255,
          "Feature": 2,
          "Kernel SHAP Values": -0.7812400126414921,
          "Primal Interaction Effects": -0.06544324874454999,
          "Sampled Average Effects": -0.7232648694515228,
          "Sampled Dual Effects": -0.6769277226924896,
          "Sampled Primal Effects": -0.7157967638969421
         },
         {
          "Average Interaction Effects": 0.09058152573729605,
          "Dual Interaction Effects": 0.12650810139800162,
          "Feature": 2,
          "Kernel SHAP Values": 0.4768206347766027,
          "Primal Interaction Effects": 0.09161094921256158,
          "Sampled Average Effects": 0.38623910903930664,
          "Sampled Dual Effects": 0.3503125333786011,
          "Sampled Primal Effects": 0.3852096855640411
         },
         {
          "Average Interaction Effects": -0.02568736623585155,
          "Dual Interaction Effects": 0.06939602096021244,
          "Feature": 2,
          "Kernel SHAP Values": 0.22409326274335453,
          "Primal Interaction Effects": -0.031735629696249296,
          "Sampled Average Effects": 0.24978062897920608,
          "Sampled Dual Effects": 0.1546972417831421,
          "Sampled Primal Effects": 0.2558288924396038
         },
         {
          "Average Interaction Effects": -0.06185168613964409,
          "Dual Interaction Effects": -0.03806807508045518,
          "Feature": 2,
          "Kernel SHAP Values": -1.2097213529544482,
          "Primal Interaction Effects": 0.0018464494747509885,
          "Sampled Average Effects": -1.147869666814804,
          "Sampled Dual Effects": -1.171653277873993,
          "Sampled Primal Effects": -1.2115678024291991
         },
         {
          "Average Interaction Effects": 0.004125152179560665,
          "Dual Interaction Effects": 0.0066610950842118655,
          "Feature": 2,
          "Kernel SHAP Values": 1.689632451930604,
          "Primal Interaction Effects": 0.022374980846009418,
          "Sampled Average Effects": 1.6855072997510434,
          "Sampled Dual Effects": 1.6829713568463922,
          "Sampled Primal Effects": 1.6672574710845947
         },
         {
          "Average Interaction Effects": -0.09776141161525453,
          "Dual Interaction Effects": -0.04654776532629337,
          "Feature": 2,
          "Kernel SHAP Values": 0.18599169935604726,
          "Primal Interaction Effects": -0.017604252737553977,
          "Sampled Average Effects": 0.2837531109713018,
          "Sampled Dual Effects": 0.23253946468234063,
          "Sampled Primal Effects": 0.20359595209360123
         },
         {
          "Average Interaction Effects": -0.1363093958388204,
          "Dual Interaction Effects": -0.030156354490959103,
          "Feature": 2,
          "Kernel SHAP Values": -0.8642071269790763,
          "Primal Interaction Effects": -0.061825837973796816,
          "Sampled Average Effects": -0.7278977311402559,
          "Sampled Dual Effects": -0.8340507724881172,
          "Sampled Primal Effects": -0.8023812890052795
         },
         {
          "Average Interaction Effects": -0.06511661345883768,
          "Dual Interaction Effects": -0.07224812800809288,
          "Feature": 2,
          "Kernel SHAP Values": 1.172294623304163,
          "Primal Interaction Effects": -0.1255095606557981,
          "Sampled Average Effects": 1.2374112367630006,
          "Sampled Dual Effects": 1.2445427513122558,
          "Sampled Primal Effects": 1.297804183959961
         },
         {
          "Average Interaction Effects": -0.03724991331276106,
          "Dual Interaction Effects": -0.0328752041834276,
          "Feature": 2,
          "Kernel SHAP Values": 0.6771622752172072,
          "Primal Interaction Effects": 0.032012336156995946,
          "Sampled Average Effects": 0.7144121885299682,
          "Sampled Dual Effects": 0.7100374794006348,
          "Sampled Primal Effects": 0.6451499390602112
         }
        ]
       },
       "repeat": {
        "column": [
         "Dual Interaction Effects",
         "Average Interaction Effects"
        ]
       },
       "spec": {
        "data": {
         "name": "data-64bfb52619488000f696e4e667c8350a"
        },
        "encoding": {
         "color": {
          "field": "Feature",
          "type": "nominal"
         },
         "x": {
          "field": "Primal Interaction Effects",
          "type": "quantitative"
         },
         "y": {
          "field": {
           "repeat": "column"
          },
          "type": "quantitative"
         }
        },
        "height": 300,
        "mark": {
         "filled": true,
         "type": "point"
        },
        "width": 300
       }
      },
      "image/png": "[encoded data removed]",
      "text/plain": [
       "<VegaLite 3 object>\n",
       "\n",
       "If you see this message, it means the renderer has not been properly enabled\n",
       "for the frontend that you are using. For more information, see\n",
       "https://altair-viz.github.io/user_guide/troubleshooting.html\n"
      ]
     },
     "execution_count": 16,
     "metadata": {},
     "output_type": "execute_result"
    }
   ],
   "source": [
    "alt.Chart(data_df).mark_point(filled=True).encode(\n",
    "    alt.X('Primal Interaction Effects:Q'),\n",
    "    alt.Y(alt.repeat(\"column\"), type='quantitative'),\n",
    "    alt.Color('Feature:N')\n",
    ").properties(width=300, height=300).repeat(column=['Dual Interaction Effects', 'Average Interaction Effects'])"
   ]
  },
  {
   "cell_type": "code",
   "execution_count": 17,
   "metadata": {},
   "outputs": [
    {
     "data": {
      "image/png": "[encoded data removed]",
      "text/plain": [
       "<Figure size 576x194.4 with 2 Axes>"
      ]
     },
     "metadata": {
      "needs_background": "light"
     },
     "output_type": "display_data"
    }
   ],
   "source": [
    "plot.summary_plot(kernel_shap, X[:num_shap_samples], xlim=(-3, 3), plot_type='layered_violin')"
   ]
  },
  {
   "cell_type": "code",
   "execution_count": 18,
   "metadata": {},
   "outputs": [
    {
     "data": {
      "image/png": "[encoded data removed]",
      "text/plain": [
       "<Figure size 576x194.4 with 2 Axes>"
      ]
     },
     "metadata": {
      "needs_background": "light"
     },
     "output_type": "display_data"
    }
   ],
   "source": [
    "plot.summary_plot(primal_effects, X[:num_shap_samples], xlim=(-3, 3), plot_type='layered_violin')"
   ]
  },
  {
   "cell_type": "code",
   "execution_count": 19,
   "metadata": {},
   "outputs": [
    {
     "data": {
      "image/png": "[encoded data removed]",
      "text/plain": [
       "<Figure size 576x194.4 with 2 Axes>"
      ]
     },
     "metadata": {
      "needs_background": "light"
     },
     "output_type": "display_data"
    }
   ],
   "source": [
    "plot.summary_plot(kernel_shap - primal_effects, X[:num_shap_samples], xlim=(-3, 3), plot_type='layered_violin')"
   ]
  },
  {
   "cell_type": "code",
   "execution_count": 20,
   "metadata": {},
   "outputs": [
    {
     "data": {
      "image/png": "[encoded data removed]",
      "text/plain": [
       "<Figure size 576x194.4 with 2 Axes>"
      ]
     },
     "metadata": {
      "needs_background": "light"
     },
     "output_type": "display_data"
    }
   ],
   "source": [
    "plot.summary_plot(dual_effects, X[:num_shap_samples], xlim=(-3, 3), plot_type='layered_violin')"
   ]
  },
  {
   "cell_type": "code",
   "execution_count": 21,
   "metadata": {},
   "outputs": [
    {
     "data": {
      "image/png": "[encoded data removed]",
      "text/plain": [
       "<Figure size 576x194.4 with 2 Axes>"
      ]
     },
     "metadata": {
      "needs_background": "light"
     },
     "output_type": "display_data"
    }
   ],
   "source": [
    "plot.summary_plot(kernel_shap - dual_effects, X[:num_shap_samples], xlim=(-3, 3), plot_type='layered_violin')"
   ]
  },
  {
   "cell_type": "code",
   "execution_count": 22,
   "metadata": {},
   "outputs": [
    {
     "data": {
      "image/png": "[encoded data removed]",
      "text/plain": [
       "<Figure size 576x194.4 with 2 Axes>"
      ]
     },
     "metadata": {
      "needs_background": "light"
     },
     "output_type": "display_data"
    }
   ],
   "source": [
    "plot.summary_plot(kernel_shap - average_effects, X[:num_shap_samples], xlim=(-3, 3), plot_type='layered_violin')"
   ]
  },
  {
   "cell_type": "code",
   "execution_count": 23,
   "metadata": {},
   "outputs": [
    {
     "data": {
      "image/png": "[encoded data removed]",
      "text/plain": [
       "<Figure size 540x360 with 2 Axes>"
      ]
     },
     "metadata": {
      "needs_background": "light"
     },
     "output_type": "display_data"
    }
   ],
   "source": [
    "shap.dependence_plot(0, kernel_shap, X[:num_shap_samples])"
   ]
  }
 ],
 "metadata": {
  "kernelspec": {
   "display_name": "Python 3",
   "language": "python",
   "name": "python3"
  },
  "language_info": {
   "codemirror_mode": {
    "name": "ipython",
    "version": 3
   },
   "file_extension": ".py",
   "mimetype": "text/x-python",
   "name": "python",
   "nbconvert_exporter": "python",
   "pygments_lexer": "ipython3",
   "version": "3.6.8"
  }
 },
 "nbformat": 4,
 "nbformat_minor": 4
}
